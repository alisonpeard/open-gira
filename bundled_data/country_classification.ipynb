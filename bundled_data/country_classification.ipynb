{
 "cells": [
  {
   "cell_type": "code",
   "execution_count": 1,
   "id": "7398ef99",
   "metadata": {},
   "outputs": [
    {
     "name": "stderr",
     "output_type": "stream",
     "text": [
      "/home/fred/anaconda3/envs/open-gira/lib/python3.9/site-packages/geopandas/_compat.py:112: UserWarning: The Shapely GEOS version (3.10.3-CAPI-1.16.1) is incompatible with the GEOS version PyGEOS was compiled with (3.10.1-CAPI-1.16.0). Conversions between both will be slow.\n",
      "  warnings.warn(\n"
     ]
    }
   ],
   "source": [
    "import pandas as pd\n",
    "import geopandas as gpd"
   ]
  },
  {
   "cell_type": "code",
   "execution_count": 2,
   "id": "85728c80",
   "metadata": {},
   "outputs": [],
   "source": [
    "def ISO_A3_to_region(classification: pd.DataFrame, iso_code: str) -> str:\n",
    "    \"\"\"\n",
    "    Arguments:\n",
    "        classification (pd.DataFrame): Table containing both country `Code` and `Region` fields\n",
    "        iso_code (str): ISO A3 code identifying country of interest\n",
    "    \n",
    "    Returns:\n",
    "        str: Name of region in which country is located\n",
    "    \"\"\"\n",
    "    \n",
    "    values = classification.loc[classification[\"Code\"] == iso_code, \"Region\"]\n",
    "    \n",
    "    if len(values) == 0:\n",
    "        raise ValueError(f\"Could not find {iso_code=}\")\n",
    "    elif len(values) > 1:\n",
    "        raise ValueError(f\"{iso_code=} matched more than one country, check {classification=}\")\n",
    "    else:\n",
    "        return values.squeeze()"
   ]
  },
  {
   "cell_type": "code",
   "execution_count": 3,
   "id": "d0e13f4e",
   "metadata": {},
   "outputs": [
    {
     "data": {
      "text/plain": [
       "'Europe & Central Asia'"
      ]
     },
     "execution_count": 3,
     "metadata": {},
     "output_type": "execute_result"
    }
   ],
   "source": [
    "path = \"world_bank_country_classification.xlsx\"\n",
    "world_bank_classification = pd.read_excel(path)\n",
    "ISO_A3_to_region(world_bank_classification, \"DEU\")"
   ]
  }
 ],
 "metadata": {
  "kernelspec": {
   "display_name": "Python [conda env:open-gira] *",
   "language": "python",
   "name": "conda-env-open-gira-py"
  },
  "language_info": {
   "codemirror_mode": {
    "name": "ipython",
    "version": 3
   },
   "file_extension": ".py",
   "mimetype": "text/x-python",
   "name": "python",
   "nbconvert_exporter": "python",
   "pygments_lexer": "ipython3",
   "version": "3.9.12"
  }
 },
 "nbformat": 4,
 "nbformat_minor": 5
}
