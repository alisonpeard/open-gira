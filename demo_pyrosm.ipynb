{
 "cells": [
  {
   "cell_type": "code",
   "execution_count": 37,
   "id": "nominated-cutting",
   "metadata": {},
   "outputs": [],
   "source": [
    "import os\n",
    "from glob import glob\n",
    "\n",
    "\n",
    "import geopandas\n",
    "import pandas\n",
    "import pyrosm\n",
    "import rasterio\n",
    "import snail\n",
    "\n",
    "from snail.intersections import split\n",
    "from snail.intersections import get_cell_indices\n",
    "from tqdm.notebook import tqdm"
   ]
  },
  {
   "cell_type": "code",
   "execution_count": 2,
   "id": "095768a7",
   "metadata": {},
   "outputs": [],
   "source": [
    "adm1_name = 'bangladesh'"
   ]
  },
  {
   "cell_type": "code",
   "execution_count": 8,
   "id": "6825b2c6",
   "metadata": {},
   "outputs": [],
   "source": [
    "data_folder = '/tmp/mert2014'"
   ]
  },
  {
   "cell_type": "code",
   "execution_count": 3,
   "id": "rural-bones",
   "metadata": {},
   "outputs": [],
   "source": [
    "osm = pyrosm.OSM(os.path.join(data_folder,'osm',f'{adm1_name}-latest-highway.osm.pbf'))"
   ]
  },
  {
   "cell_type": "code",
   "execution_count": 5,
   "id": "89c1e3f2",
   "metadata": {},
   "outputs": [],
   "source": [
    "nodes, edges = osm.get_network(nodes=True, network_type=\"driving\")"
   ]
  },
  {
   "cell_type": "code",
   "execution_count": 12,
   "id": "fa7e02c2",
   "metadata": {},
   "outputs": [],
   "source": [
    "core = (\n",
    "    'motorway_link',\n",
    "    'motorway',\n",
    "    'trunk_link',\n",
    "    'trunk',\n",
    "    'primary_link',\n",
    "    'primary',\n",
    "    'secondary_link',\n",
    "    'secondary',\n",
    "    'tertiary_link',\n",
    "    'tertiary',\n",
    ")\n",
    "core_edges = edges[edges.highway.isin(core)]"
   ]
  },
  {
   "cell_type": "code",
   "execution_count": 13,
   "id": "1ae2d4b6",
   "metadata": {},
   "outputs": [
    {
     "data": {
      "text/plain": [
       "(572595, 3915109)"
      ]
     },
     "execution_count": 13,
     "metadata": {},
     "output_type": "execute_result"
    }
   ],
   "source": [
    "len(core_edges), len(edges)"
   ]
  },
  {
   "cell_type": "code",
   "execution_count": 14,
   "id": "8a2bca24",
   "metadata": {},
   "outputs": [],
   "source": [
    "select_columns = [\n",
    "    'bridge', 'highway', 'lanes', 'maxspeed', 'oneway',\n",
    "    'smoothness', 'surface', 'tracktype', 'tunnel', 'width', \n",
    "    'id', 'name', 'osm_type', 'geometry', 'u', 'v', 'length'\n",
    "]\n",
    "core_edges = core_edges[select_columns]"
   ]
  },
  {
   "cell_type": "code",
   "execution_count": 18,
   "id": "4d811943",
   "metadata": {},
   "outputs": [
    {
     "name": "stdout",
     "output_type": "stream",
     "text": [
      "2min 56s ± 12.3 s per loop (mean ± std. dev. of 7 runs, 1 loop each)\n"
     ]
    }
   ],
   "source": [
    "%%timeit\n",
    "core_edges.to_file(os.path.join(data_folder, 'osm', f'{adm1_name}-roads-core.gpkg'), driver='GPKG')"
   ]
  },
  {
   "cell_type": "code",
   "execution_count": 15,
   "id": "0568c70b",
   "metadata": {},
   "outputs": [
    {
     "name": "stdout",
     "output_type": "stream",
     "text": [
      "2min 31s ± 14.5 s per loop (mean ± std. dev. of 7 runs, 1 loop each)\n"
     ]
    }
   ],
   "source": [
    "%%timeit\n",
    "core_edges.to_file(os.path.join(data_folder, 'osm', f'{adm1_name}-roads-core.fgb'), driver='FlatGeobuf')"
   ]
  },
  {
   "cell_type": "code",
   "execution_count": 16,
   "id": "bda3465d",
   "metadata": {},
   "outputs": [
    {
     "name": "stderr",
     "output_type": "stream",
     "text": [
      "<magic-timeit>:1: UserWarning: this is an initial implementation of Parquet/Feather file support and associated metadata.  This is tracking version 0.1.0 of the metadata specification at https://github.com/geopandas/geo-arrow-spec\n",
      "\n",
      "This metadata specification does not yet make stability promises.  We do not yet recommend using this in a production setting unless you are able to rewrite your Parquet/Feather files.\n",
      "\n",
      "To further ignore this warning, you can do: \n",
      "import warnings; warnings.filterwarnings('ignore', message='.*initial implementation of Parquet.*')\n"
     ]
    },
    {
     "name": "stdout",
     "output_type": "stream",
     "text": [
      "2.07 s ± 47.1 ms per loop (mean ± std. dev. of 7 runs, 1 loop each)\n"
     ]
    }
   ],
   "source": [
    "%%timeit\n",
    "core_edges.to_parquet(os.path.join(data_folder, 'osm', f'{adm1_name}-roads-core.geoparquet'))"
   ]
  },
  {
   "cell_type": "code",
   "execution_count": 17,
   "id": "99392d8e",
   "metadata": {},
   "outputs": [
    {
     "name": "stderr",
     "output_type": "stream",
     "text": [
      "<magic-timeit>:1: UserWarning: this is an initial implementation of Parquet/Feather file support and associated metadata.  This is tracking version 0.1.0 of the metadata specification at https://github.com/geopandas/geo-arrow-spec\n",
      "\n",
      "This metadata specification does not yet make stability promises.  We do not yet recommend using this in a production setting unless you are able to rewrite your Parquet/Feather files.\n",
      "\n",
      "To further ignore this warning, you can do: \n",
      "import warnings; warnings.filterwarnings('ignore', message='.*initial implementation of Parquet.*')\n"
     ]
    },
    {
     "name": "stdout",
     "output_type": "stream",
     "text": [
      "1.78 s ± 90.2 ms per loop (mean ± std. dev. of 7 runs, 1 loop each)\n"
     ]
    }
   ],
   "source": [
    "%%timeit\n",
    "core_edges.to_feather(os.path.join(data_folder, 'osm', f'{adm1_name}-roads-core.geofeather'))"
   ]
  },
  {
   "cell_type": "code",
   "execution_count": 19,
   "id": "9d8ad676",
   "metadata": {},
   "outputs": [],
   "source": [
    "# Write direct from pyrosm driving\n",
    "#edges.to_file(os.path.join(data_folder, 'osm', f'{adm1_name}-roads.gpkg'), driver='GPKG', layer='edges')\n",
    "#nodes.to_file(os.path.join(data_folder, 'osm', f'{adm1_name}-roads.gpkg'), driver='GPKG', layer='nodes')"
   ]
  },
  {
   "cell_type": "code",
   "execution_count": 20,
   "id": "1f5abe20",
   "metadata": {},
   "outputs": [],
   "source": [
    "# Read from file written above\n",
    "#core_edges = geopandas.read_file(os.path.join('data', 'osm', f'{adm1_name}-roads-core.gpkg'))"
   ]
  },
  {
   "cell_type": "code",
   "execution_count": 21,
   "id": "e8cc2fa1",
   "metadata": {},
   "outputs": [],
   "source": [
    "raster_data = rasterio.open(os.path.join('..', 'aqueduct', 'inuncoast_historical_nosub_hist_rp0050_0.tif'))"
   ]
  },
  {
   "cell_type": "code",
   "execution_count": 97,
   "id": "ddee5977",
   "metadata": {},
   "outputs": [
    {
     "data": {
      "application/vnd.jupyter.widget-view+json": {
       "model_id": "debf94a78be64979990f5f03569e30bf",
       "version_major": 2,
       "version_minor": 0
      },
      "text/plain": [
       "0it [00:00, ?it/s]"
      ]
     },
     "metadata": {},
     "output_type": "display_data"
    },
    {
     "data": {
      "application/vnd.jupyter.widget-view+json": {
       "model_id": "f0e0f7348c49446d8d938eb85a27c91e",
       "version_major": 2,
       "version_minor": 0
      },
      "text/plain": [
       "0it [00:00, ?it/s]"
      ]
     },
     "metadata": {},
     "output_type": "display_data"
    },
    {
     "data": {
      "application/vnd.jupyter.widget-view+json": {
       "model_id": "bf08b0a1b1ae49409b87e92dcdc36bae",
       "version_major": 2,
       "version_minor": 0
      },
      "text/plain": [
       "0it [00:00, ?it/s]"
      ]
     },
     "metadata": {},
     "output_type": "display_data"
    },
    {
     "data": {
      "application/vnd.jupyter.widget-view+json": {
       "model_id": "89a27986c7454b2aa919be7ddf8c1c49",
       "version_major": 2,
       "version_minor": 0
      },
      "text/plain": [
       "0it [00:00, ?it/s]"
      ]
     },
     "metadata": {},
     "output_type": "display_data"
    },
    {
     "data": {
      "application/vnd.jupyter.widget-view+json": {
       "model_id": "fcfc24c0489d420595448eb4e0ab3b5f",
       "version_major": 2,
       "version_minor": 0
      },
      "text/plain": [
       "0it [00:00, ?it/s]"
      ]
     },
     "metadata": {},
     "output_type": "display_data"
    },
    {
     "data": {
      "application/vnd.jupyter.widget-view+json": {
       "model_id": "20e114350f034bd8b213c2d1bb55e896",
       "version_major": 2,
       "version_minor": 0
      },
      "text/plain": [
       "0it [00:00, ?it/s]"
      ]
     },
     "metadata": {},
     "output_type": "display_data"
    },
    {
     "data": {
      "application/vnd.jupyter.widget-view+json": {
       "model_id": "a75a392111fd4cc6ba017ec19a94336f",
       "version_major": 2,
       "version_minor": 0
      },
      "text/plain": [
       "0it [00:00, ?it/s]"
      ]
     },
     "metadata": {},
     "output_type": "display_data"
    },
    {
     "data": {
      "application/vnd.jupyter.widget-view+json": {
       "model_id": "4c1d36771d8946589e0629a76360c0a5",
       "version_major": 2,
       "version_minor": 0
      },
      "text/plain": [
       "0it [00:00, ?it/s]"
      ]
     },
     "metadata": {},
     "output_type": "display_data"
    },
    {
     "name": "stdout",
     "output_type": "stream",
     "text": [
      "1min 13s ± 2.6 s per loop (mean ± std. dev. of 7 runs, 1 loop each)\n"
     ]
    }
   ],
   "source": [
    "%%timeit\n",
    "core_splits = []\n",
    "for edge in tqdm(core_edges.itertuples()):\n",
    "    splits = split(\n",
    "        edge.geometry,\n",
    "        raster_data.width,\n",
    "        raster_data.height,\n",
    "        list(raster_data.transform),\n",
    "    )\n",
    "    for s in splits:\n",
    "        core_splits.append({\n",
    "            'id': edge.id,\n",
    "            'geometry': s\n",
    "        })\n",
    "core_splits = geopandas.GeoDataFrame(core_splits)"
   ]
  },
  {
   "cell_type": "code",
   "execution_count": 98,
   "id": "9028f804",
   "metadata": {},
   "outputs": [
    {
     "data": {
      "text/plain": [
       "(572595, 602027)"
      ]
     },
     "execution_count": 98,
     "metadata": {},
     "output_type": "execute_result"
    }
   ],
   "source": [
    "len(core_edges), len(core_splits)"
   ]
  },
  {
   "cell_type": "code",
   "execution_count": 23,
   "id": "b11fa370",
   "metadata": {},
   "outputs": [
    {
     "data": {
      "text/html": [
       "<div>\n",
       "<style scoped>\n",
       "    .dataframe tbody tr th:only-of-type {\n",
       "        vertical-align: middle;\n",
       "    }\n",
       "\n",
       "    .dataframe tbody tr th {\n",
       "        vertical-align: top;\n",
       "    }\n",
       "\n",
       "    .dataframe thead th {\n",
       "        text-align: right;\n",
       "    }\n",
       "</style>\n",
       "<table border=\"1\" class=\"dataframe\">\n",
       "  <thead>\n",
       "    <tr style=\"text-align: right;\">\n",
       "      <th></th>\n",
       "      <th>id</th>\n",
       "      <th>geometry</th>\n",
       "    </tr>\n",
       "  </thead>\n",
       "  <tbody>\n",
       "    <tr>\n",
       "      <th>103</th>\n",
       "      <td>10101959</td>\n",
       "      <td>LINESTRING (90.27121 23.93744, 90.27134 23.93740)</td>\n",
       "    </tr>\n",
       "    <tr>\n",
       "      <th>104</th>\n",
       "      <td>10101959</td>\n",
       "      <td>LINESTRING (90.27134 23.93740, 90.27147 23.93735)</td>\n",
       "    </tr>\n",
       "    <tr>\n",
       "      <th>105</th>\n",
       "      <td>10101959</td>\n",
       "      <td>LINESTRING (90.27147 23.93735, 90.27160 23.93730)</td>\n",
       "    </tr>\n",
       "    <tr>\n",
       "      <th>106</th>\n",
       "      <td>10101959</td>\n",
       "      <td>LINESTRING (90.27160 23.93730, 90.27179 23.93723)</td>\n",
       "    </tr>\n",
       "    <tr>\n",
       "      <th>107</th>\n",
       "      <td>10101959</td>\n",
       "      <td>LINESTRING (90.27179 23.93723, 90.27227 23.93705)</td>\n",
       "    </tr>\n",
       "  </tbody>\n",
       "</table>\n",
       "</div>"
      ],
      "text/plain": [
       "           id                                           geometry\n",
       "103  10101959  LINESTRING (90.27121 23.93744, 90.27134 23.93740)\n",
       "104  10101959  LINESTRING (90.27134 23.93740, 90.27147 23.93735)\n",
       "105  10101959  LINESTRING (90.27147 23.93735, 90.27160 23.93730)\n",
       "106  10101959  LINESTRING (90.27160 23.93730, 90.27179 23.93723)\n",
       "107  10101959  LINESTRING (90.27179 23.93723, 90.27227 23.93705)"
      ]
     },
     "execution_count": 23,
     "metadata": {},
     "output_type": "execute_result"
    }
   ],
   "source": [
    "core_edges[['id','geometry']].head(50).tail()"
   ]
  },
  {
   "cell_type": "code",
   "execution_count": 24,
   "id": "d152d526",
   "metadata": {},
   "outputs": [],
   "source": [
    "tqdm.pandas()"
   ]
  },
  {
   "cell_type": "code",
   "execution_count": 96,
   "id": "48925a96",
   "metadata": {},
   "outputs": [
    {
     "name": "stdout",
     "output_type": "stream",
     "text": [
      "59.8 s ± 166 ms per loop (mean ± std. dev. of 7 runs, 1 loop each)\n"
     ]
    }
   ],
   "source": [
    "%%timeit\n",
    "core_splits['cell_index'] = core_splits.geometry.apply(\n",
    "    lambda geom: list(get_cell_indices(geom, raster_data.width, raster_data.height, list(raster_data.transform))))"
   ]
  },
  {
   "cell_type": "code",
   "execution_count": 27,
   "id": "ac5584b9",
   "metadata": {},
   "outputs": [
    {
     "data": {
      "text/html": [
       "<div>\n",
       "<style scoped>\n",
       "    .dataframe tbody tr th:only-of-type {\n",
       "        vertical-align: middle;\n",
       "    }\n",
       "\n",
       "    .dataframe tbody tr th {\n",
       "        vertical-align: top;\n",
       "    }\n",
       "\n",
       "    .dataframe thead th {\n",
       "        text-align: right;\n",
       "    }\n",
       "</style>\n",
       "<table border=\"1\" class=\"dataframe\">\n",
       "  <thead>\n",
       "    <tr style=\"text-align: right;\">\n",
       "      <th></th>\n",
       "      <th>id</th>\n",
       "      <th>geometry</th>\n",
       "      <th>cell_index</th>\n",
       "    </tr>\n",
       "  </thead>\n",
       "  <tbody>\n",
       "    <tr>\n",
       "      <th>0</th>\n",
       "      <td>10101955</td>\n",
       "      <td>LINESTRING (90.26915 23.93680, 90.26892 23.93628)</td>\n",
       "      <td>(32432, 7927)</td>\n",
       "    </tr>\n",
       "    <tr>\n",
       "      <th>1</th>\n",
       "      <td>10101955</td>\n",
       "      <td>LINESTRING (90.26892 23.93628, 90.26869 23.93580)</td>\n",
       "      <td>(32432, 7927)</td>\n",
       "    </tr>\n",
       "    <tr>\n",
       "      <th>2</th>\n",
       "      <td>10101955</td>\n",
       "      <td>LINESTRING (90.26869 23.93580, 90.26855 23.93550)</td>\n",
       "      <td>(32432, 7927)</td>\n",
       "    </tr>\n",
       "    <tr>\n",
       "      <th>3</th>\n",
       "      <td>10101955</td>\n",
       "      <td>LINESTRING (90.26855 23.93550, 90.26818 23.93467)</td>\n",
       "      <td>(32432, 7927)</td>\n",
       "    </tr>\n",
       "    <tr>\n",
       "      <th>4</th>\n",
       "      <td>10101955</td>\n",
       "      <td>LINESTRING (90.26818 23.93467, 90.26784 23.93397)</td>\n",
       "      <td>(32432, 7927)</td>\n",
       "    </tr>\n",
       "  </tbody>\n",
       "</table>\n",
       "</div>"
      ],
      "text/plain": [
       "         id                                           geometry     cell_index\n",
       "0  10101955  LINESTRING (90.26915 23.93680, 90.26892 23.93628)  (32432, 7927)\n",
       "1  10101955  LINESTRING (90.26892 23.93628, 90.26869 23.93580)  (32432, 7927)\n",
       "2  10101955  LINESTRING (90.26869 23.93580, 90.26855 23.93550)  (32432, 7927)\n",
       "3  10101955  LINESTRING (90.26855 23.93550, 90.26818 23.93467)  (32432, 7927)\n",
       "4  10101955  LINESTRING (90.26818 23.93467, 90.26784 23.93397)  (32432, 7927)"
      ]
     },
     "execution_count": 27,
     "metadata": {},
     "output_type": "execute_result"
    }
   ],
   "source": [
    "core_splits.head()"
   ]
  },
  {
   "cell_type": "code",
   "execution_count": 28,
   "id": "349bcfe4",
   "metadata": {},
   "outputs": [],
   "source": [
    "band = raster_data.read(1)"
   ]
  },
  {
   "cell_type": "code",
   "execution_count": 29,
   "id": "bc58ff2a",
   "metadata": {},
   "outputs": [
    {
     "name": "stdout",
     "output_type": "stream",
     "text": [
      "388 ms ± 87 ms per loop (mean ± std. dev. of 7 runs, 1 loop each)\n"
     ]
    }
   ],
   "source": [
    "%%timeit\n",
    "core_splits['inuncoast_historical_nosub_hist_rp0050_0'] = core_splits.cell_index.apply(lambda i: band[i[1], i[0]])"
   ]
  },
  {
   "cell_type": "code",
   "execution_count": 30,
   "id": "7f74c844",
   "metadata": {},
   "outputs": [
    {
     "data": {
      "text/html": [
       "<div>\n",
       "<style scoped>\n",
       "    .dataframe tbody tr th:only-of-type {\n",
       "        vertical-align: middle;\n",
       "    }\n",
       "\n",
       "    .dataframe tbody tr th {\n",
       "        vertical-align: top;\n",
       "    }\n",
       "\n",
       "    .dataframe thead th {\n",
       "        text-align: right;\n",
       "    }\n",
       "</style>\n",
       "<table border=\"1\" class=\"dataframe\">\n",
       "  <thead>\n",
       "    <tr style=\"text-align: right;\">\n",
       "      <th></th>\n",
       "      <th>id</th>\n",
       "      <th>geometry</th>\n",
       "      <th>cell_index</th>\n",
       "      <th>inuncoast_historical_nosub_hist_rp0050_0</th>\n",
       "    </tr>\n",
       "  </thead>\n",
       "  <tbody>\n",
       "    <tr>\n",
       "      <th>0</th>\n",
       "      <td>10101955</td>\n",
       "      <td>LINESTRING (90.26915 23.93680, 90.26892 23.93628)</td>\n",
       "      <td>(32432, 7927)</td>\n",
       "      <td>0.0</td>\n",
       "    </tr>\n",
       "    <tr>\n",
       "      <th>1</th>\n",
       "      <td>10101955</td>\n",
       "      <td>LINESTRING (90.26892 23.93628, 90.26869 23.93580)</td>\n",
       "      <td>(32432, 7927)</td>\n",
       "      <td>0.0</td>\n",
       "    </tr>\n",
       "    <tr>\n",
       "      <th>2</th>\n",
       "      <td>10101955</td>\n",
       "      <td>LINESTRING (90.26869 23.93580, 90.26855 23.93550)</td>\n",
       "      <td>(32432, 7927)</td>\n",
       "      <td>0.0</td>\n",
       "    </tr>\n",
       "    <tr>\n",
       "      <th>3</th>\n",
       "      <td>10101955</td>\n",
       "      <td>LINESTRING (90.26855 23.93550, 90.26818 23.93467)</td>\n",
       "      <td>(32432, 7927)</td>\n",
       "      <td>0.0</td>\n",
       "    </tr>\n",
       "    <tr>\n",
       "      <th>4</th>\n",
       "      <td>10101955</td>\n",
       "      <td>LINESTRING (90.26818 23.93467, 90.26784 23.93397)</td>\n",
       "      <td>(32432, 7927)</td>\n",
       "      <td>0.0</td>\n",
       "    </tr>\n",
       "    <tr>\n",
       "      <th>...</th>\n",
       "      <td>...</td>\n",
       "      <td>...</td>\n",
       "      <td>...</td>\n",
       "      <td>...</td>\n",
       "    </tr>\n",
       "    <tr>\n",
       "      <th>602022</th>\n",
       "      <td>978106853</td>\n",
       "      <td>LINESTRING (90.49298 23.86353, 90.49298 23.86389)</td>\n",
       "      <td>(32459, 7936)</td>\n",
       "      <td>0.0</td>\n",
       "    </tr>\n",
       "    <tr>\n",
       "      <th>602023</th>\n",
       "      <td>978106853</td>\n",
       "      <td>LINESTRING (90.49298 23.86389, 90.49298 23.86401)</td>\n",
       "      <td>(32459, 7936)</td>\n",
       "      <td>0.0</td>\n",
       "    </tr>\n",
       "    <tr>\n",
       "      <th>602024</th>\n",
       "      <td>978114132</td>\n",
       "      <td>LINESTRING (90.51480 23.84409, 90.51482 23.84589)</td>\n",
       "      <td>(32461, 7938)</td>\n",
       "      <td>0.0</td>\n",
       "    </tr>\n",
       "    <tr>\n",
       "      <th>602025</th>\n",
       "      <td>978114133</td>\n",
       "      <td>LINESTRING (90.51498 23.84590, 90.51499 23.84410)</td>\n",
       "      <td>(32461, 7938)</td>\n",
       "      <td>0.0</td>\n",
       "    </tr>\n",
       "    <tr>\n",
       "      <th>602026</th>\n",
       "      <td>978323320</td>\n",
       "      <td>LINESTRING (88.58049 24.36840, 88.58050 24.36846)</td>\n",
       "      <td>(32229, 7875)</td>\n",
       "      <td>0.0</td>\n",
       "    </tr>\n",
       "  </tbody>\n",
       "</table>\n",
       "<p>602027 rows × 4 columns</p>\n",
       "</div>"
      ],
      "text/plain": [
       "               id                                           geometry  \\\n",
       "0        10101955  LINESTRING (90.26915 23.93680, 90.26892 23.93628)   \n",
       "1        10101955  LINESTRING (90.26892 23.93628, 90.26869 23.93580)   \n",
       "2        10101955  LINESTRING (90.26869 23.93580, 90.26855 23.93550)   \n",
       "3        10101955  LINESTRING (90.26855 23.93550, 90.26818 23.93467)   \n",
       "4        10101955  LINESTRING (90.26818 23.93467, 90.26784 23.93397)   \n",
       "...           ...                                                ...   \n",
       "602022  978106853  LINESTRING (90.49298 23.86353, 90.49298 23.86389)   \n",
       "602023  978106853  LINESTRING (90.49298 23.86389, 90.49298 23.86401)   \n",
       "602024  978114132  LINESTRING (90.51480 23.84409, 90.51482 23.84589)   \n",
       "602025  978114133  LINESTRING (90.51498 23.84590, 90.51499 23.84410)   \n",
       "602026  978323320  LINESTRING (88.58049 24.36840, 88.58050 24.36846)   \n",
       "\n",
       "           cell_index  inuncoast_historical_nosub_hist_rp0050_0  \n",
       "0       (32432, 7927)                                       0.0  \n",
       "1       (32432, 7927)                                       0.0  \n",
       "2       (32432, 7927)                                       0.0  \n",
       "3       (32432, 7927)                                       0.0  \n",
       "4       (32432, 7927)                                       0.0  \n",
       "...               ...                                       ...  \n",
       "602022  (32459, 7936)                                       0.0  \n",
       "602023  (32459, 7936)                                       0.0  \n",
       "602024  (32461, 7938)                                       0.0  \n",
       "602025  (32461, 7938)                                       0.0  \n",
       "602026  (32229, 7875)                                       0.0  \n",
       "\n",
       "[602027 rows x 4 columns]"
      ]
     },
     "execution_count": 30,
     "metadata": {},
     "output_type": "execute_result"
    }
   ],
   "source": [
    "core_splits"
   ]
  },
  {
   "cell_type": "code",
   "execution_count": 31,
   "id": "38abe850",
   "metadata": {},
   "outputs": [
    {
     "data": {
      "text/plain": [
       "'../aqueduct/inunriver_rcp8p5_00IPSL-CM5A-LR_2080_rp00050.tif'"
      ]
     },
     "execution_count": 31,
     "metadata": {},
     "output_type": "execute_result"
    }
   ],
   "source": [
    "fnames = glob('../aqueduct/*.tif')\n",
    "fnames[0]"
   ]
  },
  {
   "cell_type": "code",
   "execution_count": 52,
   "id": "ec6b2c0c",
   "metadata": {},
   "outputs": [],
   "source": [
    "coastal = []\n",
    "river = []\n",
    "for fname in fnames:\n",
    "    fname = os.path.basename(fname)\n",
    "    colname = fname[:-4]\n",
    "    if 'coast' in colname:\n",
    "        # inuncoast_{climatescenario}_{subsidence}_{year}_{returnperiod}_{projection}.tif\n",
    "        try:\n",
    "            _, clim, sub, y, rp, proj = colname.split(\"_\")\n",
    "        except ValueError:\n",
    "            _, clim, sub, y, rp, _, _, proj = colname.split(\"_\")\n",
    "        if proj == \"0\":\n",
    "            proj = \"95\"\n",
    "        if y == \"hist\":\n",
    "            y = 2010\n",
    "        coastal.append({\n",
    "            \"key\": colname,\n",
    "            \"climate_scenario\": clim,\n",
    "            \"subsidence\": sub,\n",
    "            \"year\": int(y),\n",
    "            \"return_period\": int(rp[2:]),\n",
    "            \"sea_level_rise_percentile\": int(proj),\n",
    "            \"filename\": fname,\n",
    "        })\n",
    "    else:\n",
    "        # inunriver_{climatescenario}_{model}_{year}_{returnperiod}.tif\n",
    "        _, clim, model, y, rp = colname.split(\"_\")\n",
    "        if y == \"hist\":\n",
    "            y = 2010\n",
    "        \n",
    "        river.append({\n",
    "            \"key\": colname,\n",
    "            \"climate_scenario\": clim,\n",
    "            \"model\": model.replace(\"0\",\"\"),\n",
    "            \"year\": int(y),\n",
    "            \"return_period\": int(rp[2:]),\n",
    "            \"filename\": fname,\n",
    "        })\n",
    "coastal = pandas.DataFrame(coastal)\n",
    "river = pandas.DataFrame(river)"
   ]
  },
  {
   "cell_type": "code",
   "execution_count": 53,
   "id": "bc23d88b",
   "metadata": {},
   "outputs": [],
   "source": [
    "coastal.to_csv('aqueduct_coastal.csv')"
   ]
  },
  {
   "cell_type": "code",
   "execution_count": 54,
   "id": "c5cbff25",
   "metadata": {},
   "outputs": [],
   "source": [
    "river.to_csv('aqueduct_river.csv')"
   ]
  },
  {
   "cell_type": "code",
   "execution_count": 60,
   "id": "e4223bcf",
   "metadata": {},
   "outputs": [],
   "source": [
    "def associate_raster(df, key, fname, band_number=1):\n",
    "    with rasterio.open(fname) as dataset:\n",
    "        band_data = dataset.read(band_number)\n",
    "        df[key] = df.cell_index.apply(lambda i: band_data[i[1], i[0]])"
   ]
  },
  {
   "cell_type": "code",
   "execution_count": 57,
   "id": "eff770d7",
   "metadata": {},
   "outputs": [
    {
     "data": {
      "text/plain": [
       "2080    90\n",
       "2030    90\n",
       "2050    90\n",
       "1980     9\n",
       "Name: year, dtype: int64"
      ]
     },
     "execution_count": 57,
     "metadata": {},
     "output_type": "execute_result"
    }
   ],
   "source": [
    "river.year.value_counts()"
   ]
  },
  {
   "cell_type": "code",
   "execution_count": 59,
   "id": "b4cba096",
   "metadata": {},
   "outputs": [
    {
     "data": {
      "text/plain": [
       "44"
      ]
     },
     "execution_count": 59,
     "metadata": {},
     "output_type": "execute_result"
    }
   ],
   "source": [
    "subset = river[river.year.isin((1980, 2080)) & river.return_period.isin((50, 100, 500, 1000))]\n",
    "len(subset)"
   ]
  },
  {
   "cell_type": "code",
   "execution_count": 91,
   "id": "7c48be49",
   "metadata": {},
   "outputs": [
    {
     "name": "stdout",
     "output_type": "stream",
     "text": [
      "9.15 s ± 403 ms per loop (mean ± std. dev. of 7 runs, 1 loop each)\n"
     ]
    }
   ],
   "source": [
    "%%timeit\n",
    "associate_raster(core_splits, 'inunriver_rcp8p5_00IPSL-CM5A-LR_2080_rp00050', os.path.join(data_folder, 'aqueduct', 'inunriver_rcp8p5_00IPSL-CM5A-LR_2080_rp00050.tif'))"
   ]
  },
  {
   "cell_type": "code",
   "execution_count": 92,
   "id": "6013ce4f",
   "metadata": {},
   "outputs": [],
   "source": [
    "# do I/O stuff outside of timeit loop\n",
    "dataset = rasterio.open(os.path.join(data_folder, 'aqueduct', 'inunriver_rcp8p5_00IPSL-CM5A-LR_2080_rp00050.tif'))\n",
    "band_data = dataset.read(1)"
   ]
  },
  {
   "cell_type": "code",
   "execution_count": 95,
   "id": "682f212d",
   "metadata": {},
   "outputs": [
    {
     "data": {
      "text/plain": [
       "602027"
      ]
     },
     "execution_count": 95,
     "metadata": {},
     "output_type": "execute_result"
    }
   ],
   "source": [
    "len(core_splits)"
   ]
  },
  {
   "cell_type": "code",
   "execution_count": 94,
   "id": "c116e34f",
   "metadata": {},
   "outputs": [
    {
     "name": "stdout",
     "output_type": "stream",
     "text": [
      "364 ms ± 15.1 ms per loop (mean ± std. dev. of 7 runs, 1 loop each)\n"
     ]
    }
   ],
   "source": [
    "%%timeit\n",
    "core_splits['inunriver_rcp8p5_00IPSL-CM5A-LR_2080_rp00050'] = core_splits.cell_index.apply(lambda i: band_data[i[1], i[0]])"
   ]
  },
  {
   "cell_type": "code",
   "execution_count": 86,
   "id": "91786444",
   "metadata": {},
   "outputs": [
    {
     "ename": "KeyboardInterrupt",
     "evalue": "",
     "output_type": "error",
     "traceback": [
      "\u001b[0;31m---------------------------------------------------------------------------\u001b[0m",
      "\u001b[0;31mKeyboardInterrupt\u001b[0m                         Traceback (most recent call last)",
      "\u001b[0;32m/tmp/ipykernel_5143/2177941541.py\u001b[0m in \u001b[0;36m<module>\u001b[0;34m\u001b[0m\n\u001b[0;32m----> 1\u001b[0;31m \u001b[0mget_ipython\u001b[0m\u001b[0;34m(\u001b[0m\u001b[0;34m)\u001b[0m\u001b[0;34m.\u001b[0m\u001b[0mrun_cell_magic\u001b[0m\u001b[0;34m(\u001b[0m\u001b[0;34m'timeit'\u001b[0m\u001b[0;34m,\u001b[0m \u001b[0;34m''\u001b[0m\u001b[0;34m,\u001b[0m \u001b[0;34m\"for raster in subset.itertuples():\\n    associate_raster(core_splits, raster.key, os.path.join(data_folder, 'aqueduct', raster.filename))\\n\"\u001b[0m\u001b[0;34m)\u001b[0m\u001b[0;34m\u001b[0m\u001b[0;34m\u001b[0m\u001b[0m\n\u001b[0m",
      "\u001b[0;32m~/.conda/envs/snail/lib/python3.8/site-packages/IPython/core/interactiveshell.py\u001b[0m in \u001b[0;36mrun_cell_magic\u001b[0;34m(self, magic_name, line, cell)\u001b[0m\n\u001b[1;32m   2401\u001b[0m             \u001b[0;32mwith\u001b[0m \u001b[0mself\u001b[0m\u001b[0;34m.\u001b[0m\u001b[0mbuiltin_trap\u001b[0m\u001b[0;34m:\u001b[0m\u001b[0;34m\u001b[0m\u001b[0;34m\u001b[0m\u001b[0m\n\u001b[1;32m   2402\u001b[0m                 \u001b[0margs\u001b[0m \u001b[0;34m=\u001b[0m \u001b[0;34m(\u001b[0m\u001b[0mmagic_arg_s\u001b[0m\u001b[0;34m,\u001b[0m \u001b[0mcell\u001b[0m\u001b[0;34m)\u001b[0m\u001b[0;34m\u001b[0m\u001b[0;34m\u001b[0m\u001b[0m\n\u001b[0;32m-> 2403\u001b[0;31m                 \u001b[0mresult\u001b[0m \u001b[0;34m=\u001b[0m \u001b[0mfn\u001b[0m\u001b[0;34m(\u001b[0m\u001b[0;34m*\u001b[0m\u001b[0margs\u001b[0m\u001b[0;34m,\u001b[0m \u001b[0;34m**\u001b[0m\u001b[0mkwargs\u001b[0m\u001b[0;34m)\u001b[0m\u001b[0;34m\u001b[0m\u001b[0;34m\u001b[0m\u001b[0m\n\u001b[0m\u001b[1;32m   2404\u001b[0m             \u001b[0;32mreturn\u001b[0m \u001b[0mresult\u001b[0m\u001b[0;34m\u001b[0m\u001b[0;34m\u001b[0m\u001b[0m\n\u001b[1;32m   2405\u001b[0m \u001b[0;34m\u001b[0m\u001b[0m\n",
      "\u001b[0;32m~/.conda/envs/snail/lib/python3.8/site-packages/decorator.py\u001b[0m in \u001b[0;36mfun\u001b[0;34m(*args, **kw)\u001b[0m\n\u001b[1;32m    230\u001b[0m             \u001b[0;32mif\u001b[0m \u001b[0;32mnot\u001b[0m \u001b[0mkwsyntax\u001b[0m\u001b[0;34m:\u001b[0m\u001b[0;34m\u001b[0m\u001b[0;34m\u001b[0m\u001b[0m\n\u001b[1;32m    231\u001b[0m                 \u001b[0margs\u001b[0m\u001b[0;34m,\u001b[0m \u001b[0mkw\u001b[0m \u001b[0;34m=\u001b[0m \u001b[0mfix\u001b[0m\u001b[0;34m(\u001b[0m\u001b[0margs\u001b[0m\u001b[0;34m,\u001b[0m \u001b[0mkw\u001b[0m\u001b[0;34m,\u001b[0m \u001b[0msig\u001b[0m\u001b[0;34m)\u001b[0m\u001b[0;34m\u001b[0m\u001b[0;34m\u001b[0m\u001b[0m\n\u001b[0;32m--> 232\u001b[0;31m             \u001b[0;32mreturn\u001b[0m \u001b[0mcaller\u001b[0m\u001b[0;34m(\u001b[0m\u001b[0mfunc\u001b[0m\u001b[0;34m,\u001b[0m \u001b[0;34m*\u001b[0m\u001b[0;34m(\u001b[0m\u001b[0mextras\u001b[0m \u001b[0;34m+\u001b[0m \u001b[0margs\u001b[0m\u001b[0;34m)\u001b[0m\u001b[0;34m,\u001b[0m \u001b[0;34m**\u001b[0m\u001b[0mkw\u001b[0m\u001b[0;34m)\u001b[0m\u001b[0;34m\u001b[0m\u001b[0;34m\u001b[0m\u001b[0m\n\u001b[0m\u001b[1;32m    233\u001b[0m     \u001b[0mfun\u001b[0m\u001b[0;34m.\u001b[0m\u001b[0m__name__\u001b[0m \u001b[0;34m=\u001b[0m \u001b[0mfunc\u001b[0m\u001b[0;34m.\u001b[0m\u001b[0m__name__\u001b[0m\u001b[0;34m\u001b[0m\u001b[0;34m\u001b[0m\u001b[0m\n\u001b[1;32m    234\u001b[0m     \u001b[0mfun\u001b[0m\u001b[0;34m.\u001b[0m\u001b[0m__doc__\u001b[0m \u001b[0;34m=\u001b[0m \u001b[0mfunc\u001b[0m\u001b[0;34m.\u001b[0m\u001b[0m__doc__\u001b[0m\u001b[0;34m\u001b[0m\u001b[0;34m\u001b[0m\u001b[0m\n",
      "\u001b[0;32m~/.conda/envs/snail/lib/python3.8/site-packages/IPython/core/magic.py\u001b[0m in \u001b[0;36m<lambda>\u001b[0;34m(f, *a, **k)\u001b[0m\n\u001b[1;32m    185\u001b[0m     \u001b[0;31m# but it's overkill for just that one bit of state.\u001b[0m\u001b[0;34m\u001b[0m\u001b[0;34m\u001b[0m\u001b[0;34m\u001b[0m\u001b[0m\n\u001b[1;32m    186\u001b[0m     \u001b[0;32mdef\u001b[0m \u001b[0mmagic_deco\u001b[0m\u001b[0;34m(\u001b[0m\u001b[0marg\u001b[0m\u001b[0;34m)\u001b[0m\u001b[0;34m:\u001b[0m\u001b[0;34m\u001b[0m\u001b[0;34m\u001b[0m\u001b[0m\n\u001b[0;32m--> 187\u001b[0;31m         \u001b[0mcall\u001b[0m \u001b[0;34m=\u001b[0m \u001b[0;32mlambda\u001b[0m \u001b[0mf\u001b[0m\u001b[0;34m,\u001b[0m \u001b[0;34m*\u001b[0m\u001b[0ma\u001b[0m\u001b[0;34m,\u001b[0m \u001b[0;34m**\u001b[0m\u001b[0mk\u001b[0m\u001b[0;34m:\u001b[0m \u001b[0mf\u001b[0m\u001b[0;34m(\u001b[0m\u001b[0;34m*\u001b[0m\u001b[0ma\u001b[0m\u001b[0;34m,\u001b[0m \u001b[0;34m**\u001b[0m\u001b[0mk\u001b[0m\u001b[0;34m)\u001b[0m\u001b[0;34m\u001b[0m\u001b[0;34m\u001b[0m\u001b[0m\n\u001b[0m\u001b[1;32m    188\u001b[0m \u001b[0;34m\u001b[0m\u001b[0m\n\u001b[1;32m    189\u001b[0m         \u001b[0;32mif\u001b[0m \u001b[0mcallable\u001b[0m\u001b[0;34m(\u001b[0m\u001b[0marg\u001b[0m\u001b[0;34m)\u001b[0m\u001b[0;34m:\u001b[0m\u001b[0;34m\u001b[0m\u001b[0;34m\u001b[0m\u001b[0m\n",
      "\u001b[0;32m~/.conda/envs/snail/lib/python3.8/site-packages/IPython/core/magics/execution.py\u001b[0m in \u001b[0;36mtimeit\u001b[0;34m(self, line, cell, local_ns)\u001b[0m\n\u001b[1;32m   1171\u001b[0m                     \u001b[0;32mbreak\u001b[0m\u001b[0;34m\u001b[0m\u001b[0;34m\u001b[0m\u001b[0m\n\u001b[1;32m   1172\u001b[0m \u001b[0;34m\u001b[0m\u001b[0m\n\u001b[0;32m-> 1173\u001b[0;31m         \u001b[0mall_runs\u001b[0m \u001b[0;34m=\u001b[0m \u001b[0mtimer\u001b[0m\u001b[0;34m.\u001b[0m\u001b[0mrepeat\u001b[0m\u001b[0;34m(\u001b[0m\u001b[0mrepeat\u001b[0m\u001b[0;34m,\u001b[0m \u001b[0mnumber\u001b[0m\u001b[0;34m)\u001b[0m\u001b[0;34m\u001b[0m\u001b[0;34m\u001b[0m\u001b[0m\n\u001b[0m\u001b[1;32m   1174\u001b[0m         \u001b[0mbest\u001b[0m \u001b[0;34m=\u001b[0m \u001b[0mmin\u001b[0m\u001b[0;34m(\u001b[0m\u001b[0mall_runs\u001b[0m\u001b[0;34m)\u001b[0m \u001b[0;34m/\u001b[0m \u001b[0mnumber\u001b[0m\u001b[0;34m\u001b[0m\u001b[0;34m\u001b[0m\u001b[0m\n\u001b[1;32m   1175\u001b[0m         \u001b[0mworst\u001b[0m \u001b[0;34m=\u001b[0m \u001b[0mmax\u001b[0m\u001b[0;34m(\u001b[0m\u001b[0mall_runs\u001b[0m\u001b[0;34m)\u001b[0m \u001b[0;34m/\u001b[0m \u001b[0mnumber\u001b[0m\u001b[0;34m\u001b[0m\u001b[0;34m\u001b[0m\u001b[0m\n",
      "\u001b[0;32m~/.conda/envs/snail/lib/python3.8/timeit.py\u001b[0m in \u001b[0;36mrepeat\u001b[0;34m(self, repeat, number)\u001b[0m\n\u001b[1;32m    203\u001b[0m         \u001b[0mr\u001b[0m \u001b[0;34m=\u001b[0m \u001b[0;34m[\u001b[0m\u001b[0;34m]\u001b[0m\u001b[0;34m\u001b[0m\u001b[0;34m\u001b[0m\u001b[0m\n\u001b[1;32m    204\u001b[0m         \u001b[0;32mfor\u001b[0m \u001b[0mi\u001b[0m \u001b[0;32min\u001b[0m \u001b[0mrange\u001b[0m\u001b[0;34m(\u001b[0m\u001b[0mrepeat\u001b[0m\u001b[0;34m)\u001b[0m\u001b[0;34m:\u001b[0m\u001b[0;34m\u001b[0m\u001b[0;34m\u001b[0m\u001b[0m\n\u001b[0;32m--> 205\u001b[0;31m             \u001b[0mt\u001b[0m \u001b[0;34m=\u001b[0m \u001b[0mself\u001b[0m\u001b[0;34m.\u001b[0m\u001b[0mtimeit\u001b[0m\u001b[0;34m(\u001b[0m\u001b[0mnumber\u001b[0m\u001b[0;34m)\u001b[0m\u001b[0;34m\u001b[0m\u001b[0;34m\u001b[0m\u001b[0m\n\u001b[0m\u001b[1;32m    206\u001b[0m             \u001b[0mr\u001b[0m\u001b[0;34m.\u001b[0m\u001b[0mappend\u001b[0m\u001b[0;34m(\u001b[0m\u001b[0mt\u001b[0m\u001b[0;34m)\u001b[0m\u001b[0;34m\u001b[0m\u001b[0;34m\u001b[0m\u001b[0m\n\u001b[1;32m    207\u001b[0m         \u001b[0;32mreturn\u001b[0m \u001b[0mr\u001b[0m\u001b[0;34m\u001b[0m\u001b[0;34m\u001b[0m\u001b[0m\n",
      "\u001b[0;32m~/.conda/envs/snail/lib/python3.8/site-packages/IPython/core/magics/execution.py\u001b[0m in \u001b[0;36mtimeit\u001b[0;34m(self, number)\u001b[0m\n\u001b[1;32m    167\u001b[0m         \u001b[0mgc\u001b[0m\u001b[0;34m.\u001b[0m\u001b[0mdisable\u001b[0m\u001b[0;34m(\u001b[0m\u001b[0;34m)\u001b[0m\u001b[0;34m\u001b[0m\u001b[0;34m\u001b[0m\u001b[0m\n\u001b[1;32m    168\u001b[0m         \u001b[0;32mtry\u001b[0m\u001b[0;34m:\u001b[0m\u001b[0;34m\u001b[0m\u001b[0;34m\u001b[0m\u001b[0m\n\u001b[0;32m--> 169\u001b[0;31m             \u001b[0mtiming\u001b[0m \u001b[0;34m=\u001b[0m \u001b[0mself\u001b[0m\u001b[0;34m.\u001b[0m\u001b[0minner\u001b[0m\u001b[0;34m(\u001b[0m\u001b[0mit\u001b[0m\u001b[0;34m,\u001b[0m \u001b[0mself\u001b[0m\u001b[0;34m.\u001b[0m\u001b[0mtimer\u001b[0m\u001b[0;34m)\u001b[0m\u001b[0;34m\u001b[0m\u001b[0;34m\u001b[0m\u001b[0m\n\u001b[0m\u001b[1;32m    170\u001b[0m         \u001b[0;32mfinally\u001b[0m\u001b[0;34m:\u001b[0m\u001b[0;34m\u001b[0m\u001b[0;34m\u001b[0m\u001b[0m\n\u001b[1;32m    171\u001b[0m             \u001b[0;32mif\u001b[0m \u001b[0mgcold\u001b[0m\u001b[0;34m:\u001b[0m\u001b[0;34m\u001b[0m\u001b[0;34m\u001b[0m\u001b[0m\n",
      "\u001b[0;32m<magic-timeit>\u001b[0m in \u001b[0;36minner\u001b[0;34m(_it, _timer)\u001b[0m\n",
      "\u001b[0;32m/tmp/ipykernel_5143/1765604401.py\u001b[0m in \u001b[0;36massociate_raster\u001b[0;34m(df, key, fname, band_number)\u001b[0m\n\u001b[1;32m      1\u001b[0m \u001b[0;32mdef\u001b[0m \u001b[0massociate_raster\u001b[0m\u001b[0;34m(\u001b[0m\u001b[0mdf\u001b[0m\u001b[0;34m,\u001b[0m \u001b[0mkey\u001b[0m\u001b[0;34m,\u001b[0m \u001b[0mfname\u001b[0m\u001b[0;34m,\u001b[0m \u001b[0mband_number\u001b[0m\u001b[0;34m=\u001b[0m\u001b[0;36m1\u001b[0m\u001b[0;34m)\u001b[0m\u001b[0;34m:\u001b[0m\u001b[0;34m\u001b[0m\u001b[0;34m\u001b[0m\u001b[0m\n\u001b[1;32m      2\u001b[0m     \u001b[0;32mwith\u001b[0m \u001b[0mrasterio\u001b[0m\u001b[0;34m.\u001b[0m\u001b[0mopen\u001b[0m\u001b[0;34m(\u001b[0m\u001b[0mfname\u001b[0m\u001b[0;34m)\u001b[0m \u001b[0;32mas\u001b[0m \u001b[0mdataset\u001b[0m\u001b[0;34m:\u001b[0m\u001b[0;34m\u001b[0m\u001b[0;34m\u001b[0m\u001b[0m\n\u001b[0;32m----> 3\u001b[0;31m         \u001b[0mband_data\u001b[0m \u001b[0;34m=\u001b[0m \u001b[0mdataset\u001b[0m\u001b[0;34m.\u001b[0m\u001b[0mread\u001b[0m\u001b[0;34m(\u001b[0m\u001b[0mband_number\u001b[0m\u001b[0;34m)\u001b[0m\u001b[0;34m\u001b[0m\u001b[0;34m\u001b[0m\u001b[0m\n\u001b[0m\u001b[1;32m      4\u001b[0m         \u001b[0mdf\u001b[0m\u001b[0;34m[\u001b[0m\u001b[0mkey\u001b[0m\u001b[0;34m]\u001b[0m \u001b[0;34m=\u001b[0m \u001b[0mdf\u001b[0m\u001b[0;34m.\u001b[0m\u001b[0mcell_index\u001b[0m\u001b[0;34m.\u001b[0m\u001b[0mapply\u001b[0m\u001b[0;34m(\u001b[0m\u001b[0;32mlambda\u001b[0m \u001b[0mi\u001b[0m\u001b[0;34m:\u001b[0m \u001b[0mband_data\u001b[0m\u001b[0;34m[\u001b[0m\u001b[0mi\u001b[0m\u001b[0;34m[\u001b[0m\u001b[0;36m1\u001b[0m\u001b[0;34m]\u001b[0m\u001b[0;34m,\u001b[0m \u001b[0mi\u001b[0m\u001b[0;34m[\u001b[0m\u001b[0;36m0\u001b[0m\u001b[0;34m]\u001b[0m\u001b[0;34m]\u001b[0m\u001b[0;34m)\u001b[0m\u001b[0;34m\u001b[0m\u001b[0;34m\u001b[0m\u001b[0m\n",
      "\u001b[0;31mKeyboardInterrupt\u001b[0m: "
     ]
    }
   ],
   "source": [
    "for raster in subset.itertuples():\n",
    "    associate_raster(core_splits, raster.key, os.path.join(data_folder, 'aqueduct', raster.filename))"
   ]
  },
  {
   "cell_type": "code",
   "execution_count": 87,
   "id": "3ceee120",
   "metadata": {},
   "outputs": [
    {
     "name": "stdout",
     "output_type": "stream",
     "text": [
      "24.5 s ± 1.82 s per loop (mean ± std. dev. of 7 runs, 1 loop each)\n"
     ]
    }
   ],
   "source": [
    "%%timeit\n",
    "core_splits.drop(columns='geometry').to_csv(os.path.join(data_folder, 'outputs', 'core_splits.csv.gz'))"
   ]
  },
  {
   "cell_type": "code",
   "execution_count": 81,
   "id": "ca23b311",
   "metadata": {},
   "outputs": [
    {
     "name": "stdout",
     "output_type": "stream",
     "text": [
      "728 ms ± 25.2 ms per loop (mean ± std. dev. of 7 runs, 1 loop each)\n"
     ]
    }
   ],
   "source": [
    "%%timeit\n",
    "pandas.DataFrame(core_splits.drop(columns=['geometry'])) \\\n",
    "    .to_parquet(os.path.join(data_folder, 'outputs', 'core_splits.parquet'))"
   ]
  },
  {
   "cell_type": "code",
   "execution_count": 88,
   "id": "3ffe7dbc",
   "metadata": {},
   "outputs": [
    {
     "name": "stdout",
     "output_type": "stream",
     "text": [
      "1min 52s ± 5.12 s per loop (mean ± std. dev. of 7 runs, 1 loop each)\n"
     ]
    }
   ],
   "source": [
    "%%timeit\n",
    "core_splits[['id','geometry']].to_file(os.path.join(data_folder,  'outputs', 'core_splits.gpkg'), driver='GPKG')"
   ]
  },
  {
   "cell_type": "code",
   "execution_count": 89,
   "id": "4cd0a5e9",
   "metadata": {},
   "outputs": [
    {
     "name": "stderr",
     "output_type": "stream",
     "text": [
      "<magic-timeit>:1: UserWarning: this is an initial implementation of Parquet/Feather file support and associated metadata.  This is tracking version 0.1.0 of the metadata specification at https://github.com/geopandas/geo-arrow-spec\n",
      "\n",
      "This metadata specification does not yet make stability promises.  We do not yet recommend using this in a production setting unless you are able to rewrite your Parquet/Feather files.\n",
      "\n",
      "To further ignore this warning, you can do: \n",
      "import warnings; warnings.filterwarnings('ignore', message='.*initial implementation of Parquet.*')\n"
     ]
    },
    {
     "name": "stdout",
     "output_type": "stream",
     "text": [
      "2.54 s ± 49.5 ms per loop (mean ± std. dev. of 7 runs, 1 loop each)\n"
     ]
    }
   ],
   "source": [
    "%%timeit\n",
    "core_splits.to_parquet(os.path.join(data_folder,  'outputs', 'core_splits.geoparquet'))"
   ]
  },
  {
   "cell_type": "code",
   "execution_count": 90,
   "id": "e93a6a5e",
   "metadata": {},
   "outputs": [
    {
     "name": "stderr",
     "output_type": "stream",
     "text": [
      "<magic-timeit>:1: UserWarning: this is an initial implementation of Parquet/Feather file support and associated metadata.  This is tracking version 0.1.0 of the metadata specification at https://github.com/geopandas/geo-arrow-spec\n",
      "\n",
      "This metadata specification does not yet make stability promises.  We do not yet recommend using this in a production setting unless you are able to rewrite your Parquet/Feather files.\n",
      "\n",
      "To further ignore this warning, you can do: \n",
      "import warnings; warnings.filterwarnings('ignore', message='.*initial implementation of Parquet.*')\n"
     ]
    },
    {
     "name": "stdout",
     "output_type": "stream",
     "text": [
      "1.79 s ± 63.9 ms per loop (mean ± std. dev. of 7 runs, 1 loop each)\n"
     ]
    }
   ],
   "source": [
    "%%timeit\n",
    "core_splits.to_feather(os.path.join(data_folder,  'outputs', 'core_splits.geofeather'))"
   ]
  }
 ],
 "metadata": {
  "kernelspec": {
   "display_name": "Python 3 (ipykernel)",
   "language": "python",
   "name": "python3"
  },
  "language_info": {
   "codemirror_mode": {
    "name": "ipython",
    "version": 3
   },
   "file_extension": ".py",
   "mimetype": "text/x-python",
   "name": "python",
   "nbconvert_exporter": "python",
   "pygments_lexer": "ipython3",
   "version": "3.8.10"
  }
 },
 "nbformat": 4,
 "nbformat_minor": 5
}
