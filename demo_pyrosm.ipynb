{
 "cells": [
  {
   "cell_type": "code",
   "execution_count": 1,
   "id": "nominated-cutting",
   "metadata": {},
   "outputs": [],
   "source": [
    "import os\n",
    "from glob import glob\n",
    "\n",
    "\n",
    "import geopandas\n",
    "import pyrosm\n",
    "import rasterio\n",
    "import snail\n",
    "\n",
    "from snail.intersections import split\n",
    "from snail.intersections import get_cell_indices\n",
    "from tqdm.notebook import tqdm"
   ]
  },
  {
   "cell_type": "code",
   "execution_count": 2,
   "id": "94fab6bc",
   "metadata": {},
   "outputs": [],
   "source": [
    "adm1_name = 'bangladesh'"
   ]
  },
  {
   "cell_type": "code",
   "execution_count": 8,
   "id": "e5d24513",
   "metadata": {},
   "outputs": [],
   "source": [
    "data_folder = '/tmp/mert2014'"
   ]
  },
  {
   "cell_type": "code",
   "execution_count": 3,
   "id": "rural-bones",
   "metadata": {},
   "outputs": [],
   "source": [
    "osm = pyrosm.OSM(os.path.join(data_folder,'osm',f'{adm1_name}-latest-highway.osm.pbf'))"
   ]
  },
  {
   "cell_type": "code",
   "execution_count": 5,
   "id": "89c1e3f2",
   "metadata": {},
   "outputs": [],
   "source": [
    "nodes, edges = osm.get_network(nodes=True, network_type=\"driving\")"
   ]
  },
  {
   "cell_type": "code",
   "execution_count": 12,
   "id": "fa7e02c2",
   "metadata": {},
   "outputs": [],
   "source": [
    "core = (\n",
    "    'motorway_link',\n",
    "    'motorway',\n",
    "    'trunk_link',\n",
    "    'trunk',\n",
    "    'primary_link',\n",
    "    'primary',\n",
    "    'secondary_link',\n",
    "    'secondary',\n",
    "    'tertiary_link',\n",
    "    'tertiary',\n",
    ")\n",
    "core_edges = edges[edges.highway.isin(core)]"
   ]
  },
  {
   "cell_type": "code",
   "execution_count": 13,
   "id": "1ae2d4b6",
   "metadata": {},
   "outputs": [
    {
     "data": {
      "text/plain": [
       "(572595, 3915109)"
      ]
     },
     "execution_count": 13,
     "metadata": {},
     "output_type": "execute_result"
    }
   ],
   "source": [
    "len(core_edges), len(edges)"
   ]
  },
  {
   "cell_type": "code",
   "execution_count": 14,
   "id": "8a2bca24",
   "metadata": {},
   "outputs": [],
   "source": [
    "select_columns = [\n",
    "    'bridge', 'highway', 'lanes', 'maxspeed', 'oneway',\n",
    "    'smoothness', 'surface', 'tracktype', 'tunnel', 'width', \n",
    "    'id', 'name', 'osm_type', 'geometry', 'u', 'v', 'length'\n",
    "]\n",
    "core_edges = core_edges[select_columns]"
   ]
  },
  {
   "cell_type": "code",
   "execution_count": null,
   "id": "4d811943",
   "metadata": {},
   "outputs": [],
   "source": [
    "%%timeit\n",
    "core_edges.to_file(os.path.join(data_folder, 'osm', f'{adm1_name}-roads-core.gpkg'), driver='GPKG')"
   ]
  },
  {
   "cell_type": "code",
   "execution_count": null,
   "id": "1ae6b328",
   "metadata": {},
   "outputs": [],
   "source": [
    "%%timeit\n",
    "core_edges.to_file(os.path.join(data_folder, 'osm', f'{adm1_name}-roads-core.fgb'), driver='FlatGeobuf')"
   ]
  },
  {
   "cell_type": "code",
   "execution_count": null,
   "id": "f4951d05",
   "metadata": {},
   "outputs": [],
   "source": [
    "%%timeit\n",
    "core_edges.to_parquet(os.path.join(data_folder, 'osm', f'{adm1_name}-roads-core.geoparquet'))"
   ]
  },
  {
   "cell_type": "code",
   "execution_count": null,
   "id": "3e0844fc",
   "metadata": {},
   "outputs": [],
   "source": [
    "%%timeit\n",
    "core_edges.to_feather(os.path.join(data_folder, 'osm', f'{adm1_name}-roads-core.geofeather'))"
   ]
  },
  {
   "cell_type": "code",
   "execution_count": null,
   "id": "9d8ad676",
   "metadata": {},
   "outputs": [],
   "source": [
    "# Write direct from pyrosm driving\n",
    "#edges.to_file(os.path.join(data_folder, 'osm', f'{adm1_name}-roads.gpkg'), driver='GPKG', layer='edges')\n",
    "#nodes.to_file(os.path.join(data_folder, 'osm', f'{adm1_name}-roads.gpkg'), driver='GPKG', layer='nodes')"
   ]
  },
  {
   "cell_type": "code",
   "execution_count": null,
   "id": "1f5abe20",
   "metadata": {},
   "outputs": [],
   "source": [
    "# Read from file written above\n",
    "#core_edges = geopandas.read_file(os.path.join('data', 'osm', f'{adm1_name}-roads-core.gpkg'))"
   ]
  },
  {
   "cell_type": "code",
   "execution_count": null,
   "id": "e8cc2fa1",
   "metadata": {},
   "outputs": [],
   "source": [
    "raster_data = rasterio.open(os.path.join('..', 'aqueduct', 'inuncoast_historical_nosub_hist_rp0050_0.tif'))"
   ]
  },
  {
   "cell_type": "code",
   "execution_count": null,
   "id": "ddee5977",
   "metadata": {},
   "outputs": [],
   "source": [
    "%%timeit\n",
    "core_splits = []\n",
    "for edge in tqdm(core_edges.itertuples()):\n",
    "    splits = split(\n",
    "        edge.geometry,\n",
    "        raster_data.width,\n",
    "        raster_data.height,\n",
    "        list(raster_data.transform),\n",
    "    )\n",
    "    for s in splits:\n",
    "        core_splits.append({\n",
    "            'id': edge.id,\n",
    "            'geometry': s\n",
    "        })\n",
    "core_splits = geopandas.GeoDataFrame(core_splits)"
   ]
  },
  {
   "cell_type": "code",
   "execution_count": null,
   "id": "b11fa370",
   "metadata": {},
   "outputs": [],
   "source": [
    "core_edges[['id','geometry']].head(50).tail()"
   ]
  },
  {
   "cell_type": "code",
   "execution_count": null,
   "id": "c7d69b47",
   "metadata": {},
   "outputs": [],
   "source": [
    "tqdm.pandas()"
   ]
  },
  {
   "cell_type": "code",
   "execution_count": null,
   "id": "48925a96",
   "metadata": {},
   "outputs": [],
   "source": [
    "core_splits['cell_index'] = core_splits.geometry.progress_apply(\n",
    "    lambda geom: get_cell_indices(geom, raster_data.width, raster_data.height, list(raster_data.transform)))"
   ]
  },
  {
   "cell_type": "code",
   "execution_count": null,
   "id": "ac5584b9",
   "metadata": {},
   "outputs": [],
   "source": [
    "core_splits.head()"
   ]
  },
  {
   "cell_type": "code",
   "execution_count": null,
   "id": "349bcfe4",
   "metadata": {},
   "outputs": [],
   "source": [
    "band = raster_data.read(1)"
   ]
  },
  {
   "cell_type": "code",
   "execution_count": null,
   "id": "bc58ff2a",
   "metadata": {},
   "outputs": [],
   "source": [
    "core_splits['inuncoast_historical_nosub_hist_rp0050_0'] = core_splits.cell_index.apply(lambda i: band[i[1], i[0]])"
   ]
  },
  {
   "cell_type": "code",
   "execution_count": null,
   "id": "7add2533",
   "metadata": {},
   "outputs": [],
   "source": [
    "raster_data.width, raster_data.height"
   ]
  },
  {
   "cell_type": "code",
   "execution_count": null,
   "id": "71a37a56",
   "metadata": {},
   "outputs": [],
   "source": [
    "core_splits.cell_index.value_counts()"
   ]
  },
  {
   "cell_type": "code",
   "execution_count": null,
   "id": "7f74c844",
   "metadata": {},
   "outputs": [],
   "source": [
    "core_splits"
   ]
  },
  {
   "cell_type": "code",
   "execution_count": null,
   "id": "3839767e",
   "metadata": {},
   "outputs": [],
   "source": []
  },
  {
   "cell_type": "code",
   "execution_count": null,
   "id": "38abe850",
   "metadata": {},
   "outputs": [],
   "source": [
    "fnames = glob('../aqueduct/*.tif')\n",
    "fnames[0]"
   ]
  },
  {
   "cell_type": "code",
   "execution_count": null,
   "id": "e4223bcf",
   "metadata": {},
   "outputs": [],
   "source": [
    "for fname in fnames:\n",
    "    colname = os.path.basename(fname[:-4])\n",
    "    print(colname)\n",
    "    with rasterio.open(fname) as dataset:\n",
    "        band = dataset.read(1)\n",
    "        core_splits[colname] = core_splits.cell_index.apply(lambda i: band[i[1], i[0]])"
   ]
  },
  {
   "cell_type": "code",
   "execution_count": null,
   "id": "3ceee120",
   "metadata": {},
   "outputs": [],
   "source": [
    "core_splits.drop(columns='geometry').to_csv('core_splits.csv.gz')"
   ]
  },
  {
   "cell_type": "code",
   "execution_count": null,
   "id": "3ffe7dbc",
   "metadata": {},
   "outputs": [],
   "source": [
    "core_splits[['id','geometry']].to_file('core_splits.gpkg', driver='GPKG')"
   ]
  }
 ],
 "metadata": {
  "kernelspec": {
   "display_name": "Python 3 (ipykernel)",
   "language": "python",
   "name": "python3"
  },
  "language_info": {
   "codemirror_mode": {
    "name": "ipython",
    "version": 3
   },
   "file_extension": ".py",
   "mimetype": "text/x-python",
   "name": "python",
   "nbconvert_exporter": "python",
   "pygments_lexer": "ipython3",
   "version": "3.8.10"
  }
 },
 "nbformat": 4,
 "nbformat_minor": 5
}
