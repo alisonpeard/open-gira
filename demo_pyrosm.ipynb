{
 "cells": [
  {
   "cell_type": "code",
   "execution_count": 1,
   "id": "nominated-cutting",
   "metadata": {},
   "outputs": [],
   "source": [
    "import os\n",
    "import pyrosm"
   ]
  },
  {
   "cell_type": "code",
   "execution_count": 2,
   "id": "rural-bones",
   "metadata": {},
   "outputs": [],
   "source": [
    "osm = pyrosm.OSM(os.path.join('data','laos-latest.osm.pbf'))"
   ]
  },
  {
   "cell_type": "code",
   "execution_count": null,
   "id": "complimentary-sperm",
   "metadata": {},
   "outputs": [],
   "source": [
    "network = osm.get_network(network_type=\"driving\")"
   ]
  },
  {
   "cell_type": "code",
   "execution_count": null,
   "id": "technological-privacy",
   "metadata": {},
   "outputs": [],
   "source": [
    "network"
   ]
  }
 ],
 "metadata": {
  "kernelspec": {
   "display_name": "Python 3",
   "language": "python",
   "name": "python3"
  },
  "language_info": {
   "codemirror_mode": {
    "name": "ipython",
    "version": 3
   },
   "file_extension": ".py",
   "mimetype": "text/x-python",
   "name": "python",
   "nbconvert_exporter": "python",
   "pygments_lexer": "ipython3",
   "version": "3.7.10"
  }
 },
 "nbformat": 4,
 "nbformat_minor": 5
}
