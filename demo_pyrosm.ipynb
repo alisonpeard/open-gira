{
 "cells": [
  {
   "cell_type": "code",
   "execution_count": 3,
   "id": "nominated-cutting",
   "metadata": {},
   "outputs": [],
   "source": [
    "import os\n",
    "import pyrosm\n",
    "import snail"
   ]
  },
  {
   "cell_type": "code",
   "execution_count": 3,
   "id": "rural-bones",
   "metadata": {},
   "outputs": [],
   "source": [
    "osm = pyrosm.OSM(os.path.join('data','osm','laos-latest-highway.osm.pbf'))"
   ]
  },
  {
   "cell_type": "code",
   "execution_count": 4,
   "id": "complimentary-sperm",
   "metadata": {},
   "outputs": [],
   "source": [
    "network = osm.get_network(network_type=\"driving\")"
   ]
  },
  {
   "cell_type": "code",
   "execution_count": 6,
   "id": "technological-privacy",
   "metadata": {},
   "outputs": [
    {
     "data": {
      "text/plain": [
       "Index(['access', 'area', 'bicycle', 'bicycle_road', 'bridge', 'cycleway',\n",
       "       'est_width', 'foot', 'highway', 'int_ref', 'junction', 'lanes', 'lit',\n",
       "       'maxspeed', 'motorcar', 'motorroad', 'motor_vehicle', 'name', 'oneway',\n",
       "       'psv', 'ref', 'service', 'sidewalk', 'smoothness', 'surface',\n",
       "       'tracktype', 'tunnel', 'width', 'id', 'timestamp', 'version', 'tags',\n",
       "       'osm_type', 'geometry', 'length'],\n",
       "      dtype='object')"
      ]
     },
     "execution_count": 6,
     "metadata": {},
     "output_type": "execute_result"
    }
   ],
   "source": [
    "network.columns"
   ]
  },
  {
   "cell_type": "code",
   "execution_count": 7,
   "id": "89c1e3f2",
   "metadata": {},
   "outputs": [],
   "source": [
    "nodes, edges = osm.get_network(nodes=True, network_type=\"driving\")"
   ]
  },
  {
   "cell_type": "code",
   "execution_count": 26,
   "id": "6d33656b",
   "metadata": {},
   "outputs": [
    {
     "data": {
      "text/plain": [
       "Index(['access', 'area', 'bicycle', 'bicycle_road', 'bridge', 'cycleway',\n",
       "       'est_width', 'foot', 'highway', 'int_ref', 'junction', 'lanes', 'lit',\n",
       "       'maxspeed', 'motorcar', 'motorroad', 'motor_vehicle', 'name', 'oneway',\n",
       "       'psv', 'ref', 'service', 'sidewalk', 'smoothness', 'surface',\n",
       "       'tracktype', 'tunnel', 'width', 'id', 'timestamp', 'version', 'tags',\n",
       "       'osm_type', 'geometry', 'u', 'v', 'length'],\n",
       "      dtype='object')"
      ]
     },
     "execution_count": 26,
     "metadata": {},
     "output_type": "execute_result"
    }
   ],
   "source": [
    "edges.columns"
   ]
  },
  {
   "cell_type": "code",
   "execution_count": 46,
   "id": "5ee3b24e",
   "metadata": {},
   "outputs": [
    {
     "data": {
      "text/plain": [
       "yes    31\n",
       "Name: area, dtype: int64"
      ]
     },
     "execution_count": 46,
     "metadata": {},
     "output_type": "execute_result"
    }
   ],
   "source": [
    "edges['area'].value_counts()"
   ]
  },
  {
   "cell_type": "code",
   "execution_count": 47,
   "id": "dd74b872",
   "metadata": {},
   "outputs": [
    {
     "data": {
      "text/plain": [
       "yes    11752\n",
       "no      2310\n",
       "-1         4\n",
       "Name: oneway, dtype: int64"
      ]
     },
     "execution_count": 47,
     "metadata": {},
     "output_type": "execute_result"
    }
   ],
   "source": [
    "edges.oneway.value_counts()"
   ]
  },
  {
   "cell_type": "code",
   "execution_count": 28,
   "id": "fa7e02c2",
   "metadata": {},
   "outputs": [],
   "source": [
    "core = (\n",
    "    'motorway_link',\n",
    "    'motorway',\n",
    "    'trunk_link',\n",
    "    'trunk',\n",
    "    'primary_link',\n",
    "    'primary',\n",
    "    'secondary_link',\n",
    "    'secondary',\n",
    "    'tertiary_link',\n",
    "    'tertiary',\n",
    ")\n",
    "core_edges = edges[edges.highway.isin(core)]"
   ]
  },
  {
   "cell_type": "code",
   "execution_count": 30,
   "id": "1ae2d4b6",
   "metadata": {},
   "outputs": [
    {
     "data": {
      "text/plain": [
       "(379127, 1468629)"
      ]
     },
     "execution_count": 30,
     "metadata": {},
     "output_type": "execute_result"
    }
   ],
   "source": [
    "len(core_edges), len(edges)"
   ]
  },
  {
   "cell_type": "code",
   "execution_count": 49,
   "id": "8a2bca24",
   "metadata": {},
   "outputs": [],
   "source": [
    "select_columns = [\n",
    "    'bridge', 'highway', 'lanes', 'maxspeed', 'oneway',\n",
    "    'smoothness', 'surface', 'tracktype', 'tunnel', 'width', \n",
    "    'id', 'name', 'osm_type', 'geometry', 'u', 'v', 'length'\n",
    "]"
   ]
  },
  {
   "cell_type": "code",
   "execution_count": 50,
   "id": "4d811943",
   "metadata": {},
   "outputs": [],
   "source": [
    "core_edges[select_columns].to_file(os.path.join('data', 'osm', 'laos-roads-core.gpkg'), driver='GPKG')"
   ]
  },
  {
   "cell_type": "code",
   "execution_count": 51,
   "id": "9d8ad676",
   "metadata": {},
   "outputs": [],
   "source": [
    "# Write direct from pyrosm driving\n",
    "edges.to_file(os.path.join('data', 'osm', 'laos-roads.gpkg'), driver='GPKG', layer='edges')\n",
    "nodes.to_file(os.path.join('data', 'osm', 'laos-roads.gpkg'), driver='GPKG', layer='nodes')"
   ]
  },
  {
   "cell_type": "code",
   "execution_count": 4,
   "id": "535301a3",
   "metadata": {},
   "outputs": [],
   "source": [
    "import snail\n",
    "import geopandas"
   ]
  },
  {
   "cell_type": "code",
   "execution_count": 5,
   "id": "1f5abe20",
   "metadata": {},
   "outputs": [
    {
     "name": "stderr",
     "output_type": "stream",
     "text": [
      "/ouce-home/staff/mert2014/.conda/envs/snail/lib/python3.8/site-packages/geopandas/geodataframe.py:577: RuntimeWarning: Sequential read of iterator was interrupted. Resetting iterator. This can negatively impact the performance.\n",
      "  for feature in features_lst:\n"
     ]
    }
   ],
   "source": [
    "core_edges = geopandas.read_file(os.path.join('data', 'osm', 'laos-roads-core.gpkg'))"
   ]
  },
  {
   "cell_type": "code",
   "execution_count": 6,
   "id": "c2157035",
   "metadata": {},
   "outputs": [],
   "source": [
    "from snail.intersections import split\n",
    "from snail.intersections import get_cell_indices"
   ]
  },
  {
   "cell_type": "code",
   "execution_count": 7,
   "id": "67dc5baf",
   "metadata": {},
   "outputs": [],
   "source": [
    "import rasterio"
   ]
  },
  {
   "cell_type": "code",
   "execution_count": 9,
   "id": "e8cc2fa1",
   "metadata": {},
   "outputs": [],
   "source": [
    "raster_data = rasterio.open(os.path.join('..', 'aqueduct', 'inuncoast_historical_nosub_hist_rp0050_0.tif'))"
   ]
  },
  {
   "cell_type": "code",
   "execution_count": 11,
   "id": "59400c9d",
   "metadata": {},
   "outputs": [],
   "source": [
    "# from tqdm.notebook import tqdm"
   ]
  },
  {
   "cell_type": "code",
   "execution_count": 19,
   "id": "ddee5977",
   "metadata": {},
   "outputs": [],
   "source": [
    "core_splits = []\n",
    "for edge in core_edges.itertuples():\n",
    "    splits = split(\n",
    "        edge.geometry,\n",
    "        raster_data.width,\n",
    "        raster_data.height,\n",
    "        list(raster_data.transform),\n",
    "    )\n",
    "    for s in splits:\n",
    "        core_splits.append({\n",
    "            'id': edge.id,\n",
    "            'geometry': s\n",
    "        })\n",
    "core_splits = geopandas.GeoDataFrame(core_splits)"
   ]
  },
  {
   "cell_type": "code",
   "execution_count": 27,
   "id": "b11fa370",
   "metadata": {},
   "outputs": [
    {
     "data": {
      "text/html": [
       "<div>\n",
       "<style scoped>\n",
       "    .dataframe tbody tr th:only-of-type {\n",
       "        vertical-align: middle;\n",
       "    }\n",
       "\n",
       "    .dataframe tbody tr th {\n",
       "        vertical-align: top;\n",
       "    }\n",
       "\n",
       "    .dataframe thead th {\n",
       "        text-align: right;\n",
       "    }\n",
       "</style>\n",
       "<table border=\"1\" class=\"dataframe\">\n",
       "  <thead>\n",
       "    <tr style=\"text-align: right;\">\n",
       "      <th></th>\n",
       "      <th>id</th>\n",
       "      <th>geometry</th>\n",
       "    </tr>\n",
       "  </thead>\n",
       "  <tbody>\n",
       "    <tr>\n",
       "      <th>45</th>\n",
       "      <td>10874152</td>\n",
       "      <td>LINESTRING (102.62496 17.95004, 102.62505 17.9...</td>\n",
       "    </tr>\n",
       "    <tr>\n",
       "      <th>46</th>\n",
       "      <td>10874152</td>\n",
       "      <td>LINESTRING (102.62505 17.95043, 102.62509 17.9...</td>\n",
       "    </tr>\n",
       "    <tr>\n",
       "      <th>47</th>\n",
       "      <td>10874152</td>\n",
       "      <td>LINESTRING (102.62509 17.95061, 102.62521 17.9...</td>\n",
       "    </tr>\n",
       "    <tr>\n",
       "      <th>48</th>\n",
       "      <td>10874213</td>\n",
       "      <td>LINESTRING (102.63006 17.95827, 102.63009 17.9...</td>\n",
       "    </tr>\n",
       "    <tr>\n",
       "      <th>49</th>\n",
       "      <td>10874213</td>\n",
       "      <td>LINESTRING (102.63009 17.95826, 102.63025 17.9...</td>\n",
       "    </tr>\n",
       "  </tbody>\n",
       "</table>\n",
       "</div>"
      ],
      "text/plain": [
       "          id                                           geometry\n",
       "45  10874152  LINESTRING (102.62496 17.95004, 102.62505 17.9...\n",
       "46  10874152  LINESTRING (102.62505 17.95043, 102.62509 17.9...\n",
       "47  10874152  LINESTRING (102.62509 17.95061, 102.62521 17.9...\n",
       "48  10874213  LINESTRING (102.63006 17.95827, 102.63009 17.9...\n",
       "49  10874213  LINESTRING (102.63009 17.95826, 102.63025 17.9..."
      ]
     },
     "execution_count": 27,
     "metadata": {},
     "output_type": "execute_result"
    }
   ],
   "source": [
    "core_edges[['id','geometry']].head(50).tail()"
   ]
  },
  {
   "cell_type": "code",
   "execution_count": 29,
   "id": "48925a96",
   "metadata": {},
   "outputs": [],
   "source": [
    "core_splits['cell_index'] = core_splits.geometry.apply(\n",
    "    lambda geom: get_cell_indices(geom, raster_data.width, raster_data.height, list(raster_data.transform)))"
   ]
  },
  {
   "cell_type": "code",
   "execution_count": 30,
   "id": "ac5584b9",
   "metadata": {},
   "outputs": [
    {
     "data": {
      "text/html": [
       "<div>\n",
       "<style scoped>\n",
       "    .dataframe tbody tr th:only-of-type {\n",
       "        vertical-align: middle;\n",
       "    }\n",
       "\n",
       "    .dataframe tbody tr th {\n",
       "        vertical-align: top;\n",
       "    }\n",
       "\n",
       "    .dataframe thead th {\n",
       "        text-align: right;\n",
       "    }\n",
       "</style>\n",
       "<table border=\"1\" class=\"dataframe\">\n",
       "  <thead>\n",
       "    <tr style=\"text-align: right;\">\n",
       "      <th></th>\n",
       "      <th>id</th>\n",
       "      <th>geometry</th>\n",
       "      <th>cell_index</th>\n",
       "    </tr>\n",
       "  </thead>\n",
       "  <tbody>\n",
       "    <tr>\n",
       "      <th>0</th>\n",
       "      <td>10639496</td>\n",
       "      <td>LINESTRING (102.61857 17.95361, 102.61848 17.9...</td>\n",
       "      <td>(33914, 8645)</td>\n",
       "    </tr>\n",
       "    <tr>\n",
       "      <th>1</th>\n",
       "      <td>10639496</td>\n",
       "      <td>LINESTRING (102.61848 17.95358, 102.61739 17.9...</td>\n",
       "      <td>(33914, 8645)</td>\n",
       "    </tr>\n",
       "    <tr>\n",
       "      <th>2</th>\n",
       "      <td>10640794</td>\n",
       "      <td>LINESTRING (102.61757 17.97053, 102.61785 17.9...</td>\n",
       "      <td>(33914, 8643)</td>\n",
       "    </tr>\n",
       "    <tr>\n",
       "      <th>3</th>\n",
       "      <td>10641308</td>\n",
       "      <td>LINESTRING (102.60515 17.96999, 102.60517 17.9...</td>\n",
       "      <td>(33912, 8643)</td>\n",
       "    </tr>\n",
       "    <tr>\n",
       "      <th>4</th>\n",
       "      <td>10641308</td>\n",
       "      <td>LINESTRING (102.60517 17.97003, 102.60519 17.9...</td>\n",
       "      <td>(33912, 8643)</td>\n",
       "    </tr>\n",
       "  </tbody>\n",
       "</table>\n",
       "</div>"
      ],
      "text/plain": [
       "         id                                           geometry     cell_index\n",
       "0  10639496  LINESTRING (102.61857 17.95361, 102.61848 17.9...  (33914, 8645)\n",
       "1  10639496  LINESTRING (102.61848 17.95358, 102.61739 17.9...  (33914, 8645)\n",
       "2  10640794  LINESTRING (102.61757 17.97053, 102.61785 17.9...  (33914, 8643)\n",
       "3  10641308  LINESTRING (102.60515 17.96999, 102.60517 17.9...  (33912, 8643)\n",
       "4  10641308  LINESTRING (102.60517 17.97003, 102.60519 17.9...  (33912, 8643)"
      ]
     },
     "execution_count": 30,
     "metadata": {},
     "output_type": "execute_result"
    }
   ],
   "source": [
    "core_splits.head()"
   ]
  },
  {
   "cell_type": "code",
   "execution_count": 34,
   "id": "349bcfe4",
   "metadata": {},
   "outputs": [],
   "source": [
    "band = raster_data.read(1)"
   ]
  },
  {
   "cell_type": "code",
   "execution_count": 46,
   "id": "bc58ff2a",
   "metadata": {},
   "outputs": [],
   "source": [
    "core_splits['inuncoast_historical_nosub_hist_rp0050_0'] = core_splits.cell_index.apply(lambda i: band[i[1], i[0]])"
   ]
  },
  {
   "cell_type": "code",
   "execution_count": 38,
   "id": "7add2533",
   "metadata": {},
   "outputs": [
    {
     "data": {
      "text/plain": [
       "(43200, 21600)"
      ]
     },
     "execution_count": 38,
     "metadata": {},
     "output_type": "execute_result"
    }
   ],
   "source": [
    "raster_data.width, raster_data.height"
   ]
  },
  {
   "cell_type": "code",
   "execution_count": 52,
   "id": "71a37a56",
   "metadata": {},
   "outputs": [
    {
     "data": {
      "text/plain": [
       "(34055, 8300)    249\n",
       "(34165, 8373)    216\n",
       "(34450, 8842)    215\n",
       "(34158, 8371)    212\n",
       "(34161, 8373)    212\n",
       "                ... \n",
       "(33903, 8536)      1\n",
       "(33900, 8536)      1\n",
       "(33967, 8451)      1\n",
       "(34323, 8820)      1\n",
       "(33910, 8635)      1\n",
       "Name: cell_index, Length: 22488, dtype: int64"
      ]
     },
     "execution_count": 52,
     "metadata": {},
     "output_type": "execute_result"
    }
   ],
   "source": [
    "core_splits.cell_index.value_counts()"
   ]
  },
  {
   "cell_type": "code",
   "execution_count": 53,
   "id": "7f74c844",
   "metadata": {},
   "outputs": [
    {
     "data": {
      "text/html": [
       "<div>\n",
       "<style scoped>\n",
       "    .dataframe tbody tr th:only-of-type {\n",
       "        vertical-align: middle;\n",
       "    }\n",
       "\n",
       "    .dataframe tbody tr th {\n",
       "        vertical-align: top;\n",
       "    }\n",
       "\n",
       "    .dataframe thead th {\n",
       "        text-align: right;\n",
       "    }\n",
       "</style>\n",
       "<table border=\"1\" class=\"dataframe\">\n",
       "  <thead>\n",
       "    <tr style=\"text-align: right;\">\n",
       "      <th></th>\n",
       "      <th>id</th>\n",
       "      <th>geometry</th>\n",
       "      <th>cell_index</th>\n",
       "      <th>inuncoast_historical_nosub_hist_rp0050_0</th>\n",
       "    </tr>\n",
       "  </thead>\n",
       "  <tbody>\n",
       "    <tr>\n",
       "      <th>0</th>\n",
       "      <td>10639496</td>\n",
       "      <td>LINESTRING (102.61857 17.95361, 102.61848 17.9...</td>\n",
       "      <td>(33914, 8645)</td>\n",
       "      <td>0.0</td>\n",
       "    </tr>\n",
       "    <tr>\n",
       "      <th>1</th>\n",
       "      <td>10639496</td>\n",
       "      <td>LINESTRING (102.61848 17.95358, 102.61739 17.9...</td>\n",
       "      <td>(33914, 8645)</td>\n",
       "      <td>0.0</td>\n",
       "    </tr>\n",
       "    <tr>\n",
       "      <th>2</th>\n",
       "      <td>10640794</td>\n",
       "      <td>LINESTRING (102.61757 17.97053, 102.61785 17.9...</td>\n",
       "      <td>(33914, 8643)</td>\n",
       "      <td>0.0</td>\n",
       "    </tr>\n",
       "    <tr>\n",
       "      <th>3</th>\n",
       "      <td>10641308</td>\n",
       "      <td>LINESTRING (102.60515 17.96999, 102.60517 17.9...</td>\n",
       "      <td>(33912, 8643)</td>\n",
       "      <td>0.0</td>\n",
       "    </tr>\n",
       "    <tr>\n",
       "      <th>4</th>\n",
       "      <td>10641308</td>\n",
       "      <td>LINESTRING (102.60517 17.97003, 102.60519 17.9...</td>\n",
       "      <td>(33912, 8643)</td>\n",
       "      <td>0.0</td>\n",
       "    </tr>\n",
       "    <tr>\n",
       "      <th>...</th>\n",
       "      <td>...</td>\n",
       "      <td>...</td>\n",
       "      <td>...</td>\n",
       "      <td>...</td>\n",
       "    </tr>\n",
       "    <tr>\n",
       "      <th>394535</th>\n",
       "      <td>976227965</td>\n",
       "      <td>LINESTRING (103.36989 19.32709, 103.36981 19.3...</td>\n",
       "      <td>(34004, 8480)</td>\n",
       "      <td>0.0</td>\n",
       "    </tr>\n",
       "    <tr>\n",
       "      <th>394536</th>\n",
       "      <td>976227966</td>\n",
       "      <td>LINESTRING (103.36981 19.32657, 103.36976 19.3...</td>\n",
       "      <td>(34004, 8480)</td>\n",
       "      <td>0.0</td>\n",
       "    </tr>\n",
       "    <tr>\n",
       "      <th>394537</th>\n",
       "      <td>978320012</td>\n",
       "      <td>LINESTRING (100.75895 19.57750, 100.75913 19.5...</td>\n",
       "      <td>(33691, 8450)</td>\n",
       "      <td>0.0</td>\n",
       "    </tr>\n",
       "    <tr>\n",
       "      <th>394538</th>\n",
       "      <td>978320012</td>\n",
       "      <td>LINESTRING (100.75913 19.57750, 100.75930 19.5...</td>\n",
       "      <td>(33691, 8450)</td>\n",
       "      <td>0.0</td>\n",
       "    </tr>\n",
       "    <tr>\n",
       "      <th>394539</th>\n",
       "      <td>978320012</td>\n",
       "      <td>LINESTRING (100.75930 19.57749, 100.75947 19.5...</td>\n",
       "      <td>(33691, 8450)</td>\n",
       "      <td>0.0</td>\n",
       "    </tr>\n",
       "  </tbody>\n",
       "</table>\n",
       "<p>394540 rows × 4 columns</p>\n",
       "</div>"
      ],
      "text/plain": [
       "               id                                           geometry  \\\n",
       "0        10639496  LINESTRING (102.61857 17.95361, 102.61848 17.9...   \n",
       "1        10639496  LINESTRING (102.61848 17.95358, 102.61739 17.9...   \n",
       "2        10640794  LINESTRING (102.61757 17.97053, 102.61785 17.9...   \n",
       "3        10641308  LINESTRING (102.60515 17.96999, 102.60517 17.9...   \n",
       "4        10641308  LINESTRING (102.60517 17.97003, 102.60519 17.9...   \n",
       "...           ...                                                ...   \n",
       "394535  976227965  LINESTRING (103.36989 19.32709, 103.36981 19.3...   \n",
       "394536  976227966  LINESTRING (103.36981 19.32657, 103.36976 19.3...   \n",
       "394537  978320012  LINESTRING (100.75895 19.57750, 100.75913 19.5...   \n",
       "394538  978320012  LINESTRING (100.75913 19.57750, 100.75930 19.5...   \n",
       "394539  978320012  LINESTRING (100.75930 19.57749, 100.75947 19.5...   \n",
       "\n",
       "           cell_index  inuncoast_historical_nosub_hist_rp0050_0  \n",
       "0       (33914, 8645)                                       0.0  \n",
       "1       (33914, 8645)                                       0.0  \n",
       "2       (33914, 8643)                                       0.0  \n",
       "3       (33912, 8643)                                       0.0  \n",
       "4       (33912, 8643)                                       0.0  \n",
       "...               ...                                       ...  \n",
       "394535  (34004, 8480)                                       0.0  \n",
       "394536  (34004, 8480)                                       0.0  \n",
       "394537  (33691, 8450)                                       0.0  \n",
       "394538  (33691, 8450)                                       0.0  \n",
       "394539  (33691, 8450)                                       0.0  \n",
       "\n",
       "[394540 rows x 4 columns]"
      ]
     },
     "execution_count": 53,
     "metadata": {},
     "output_type": "execute_result"
    }
   ],
   "source": [
    "core_splits"
   ]
  },
  {
   "cell_type": "code",
   "execution_count": 54,
   "id": "3839767e",
   "metadata": {},
   "outputs": [],
   "source": [
    "from glob import glob"
   ]
  },
  {
   "cell_type": "code",
   "execution_count": 56,
   "id": "38abe850",
   "metadata": {},
   "outputs": [
    {
     "data": {
      "text/plain": [
       "'../aqueduct/inunriver_rcp8p5_00IPSL-CM5A-LR_2080_rp00050.tif'"
      ]
     },
     "execution_count": 56,
     "metadata": {},
     "output_type": "execute_result"
    }
   ],
   "source": [
    "fnames = glob('../aqueduct/*.tif')\n",
    "fnames[0]"
   ]
  },
  {
   "cell_type": "code",
   "execution_count": 62,
   "id": "e4223bcf",
   "metadata": {},
   "outputs": [
    {
     "name": "stdout",
     "output_type": "stream",
     "text": [
      "inunriver_rcp8p5_00IPSL-CM5A-LR_2080_rp00050\n",
      "inuncoast_rcp4p5_nosub_2030_rp0050_0\n",
      "inuncoast_rcp4p5_wtsub_2050_rp0500_0_perc_50\n",
      "inuncoast_rcp8p5_wtsub_2080_rp0010_0_perc_50\n",
      "inuncoast_rcp4p5_wtsub_2050_rp0250_0\n",
      "inuncoast_rcp8p5_nosub_2050_rp1000_0\n",
      "inuncoast_rcp4p5_nosub_2030_rp0500_0_perc_05\n",
      "inunriver_rcp4p5_00000NorESM1-M_2030_rp00005\n",
      "inunriver_rcp4p5_0000GFDL-ESM2M_2030_rp00250\n",
      "inuncoast_historical_nosub_hist_rp0010_0\n",
      "inunriver_rcp8p5_00IPSL-CM5A-LR_2050_rp00100\n",
      "inunriver_rcp4p5_MIROC-ESM-CHEM_2050_rp01000\n",
      "inunriver_rcp8p5_0000HadGEM2-ES_2030_rp00500\n",
      "inuncoast_rcp8p5_nosub_2050_rp0001_5_perc_50\n",
      "inuncoast_rcp8p5_wtsub_2080_rp0100_0_perc_05\n",
      "inunriver_rcp8p5_MIROC-ESM-CHEM_2080_rp00500\n",
      "inuncoast_rcp8p5_wtsub_2080_rp0002_0\n",
      "inuncoast_rcp8p5_wtsub_2050_rp0002_0_perc_05\n",
      "inuncoast_rcp8p5_wtsub_2030_rp0001_5_perc_05\n",
      "inunriver_rcp4p5_00000NorESM1-M_2030_rp00002\n",
      "inuncoast_rcp8p5_nosub_2030_rp0002_0_perc_50\n",
      "inuncoast_rcp8p5_wtsub_2030_rp0001_5\n",
      "inunriver_rcp8p5_00IPSL-CM5A-LR_2080_rp00025\n",
      "inuncoast_rcp4p5_nosub_2080_rp0002_0\n",
      "inunriver_rcp8p5_00000NorESM1-M_2050_rp00005\n",
      "inuncoast_historical_wtsub_hist_rp0025_0\n",
      "inuncoast_rcp4p5_nosub_2030_rp0001_5\n",
      "inuncoast_rcp8p5_wtsub_2050_rp0001_5_perc_05\n",
      "inunriver_rcp4p5_00IPSL-CM5A-LR_2030_rp00100\n",
      "inuncoast_rcp8p5_nosub_2080_rp0100_0_perc_50\n",
      "inuncoast_rcp8p5_nosub_2050_rp0002_0_perc_50\n",
      "inuncoast_rcp8p5_nosub_2030_rp0001_5_perc_50\n",
      "inuncoast_rcp8p5_wtsub_2030_rp0002_0_perc_05\n",
      "inunriver_rcp8p5_0000GFDL-ESM2M_2050_rp00250\n",
      "inuncoast_rcp4p5_nosub_2050_rp0500_0_perc_05\n",
      "inuncoast_rcp8p5_nosub_2080_rp0010_0_perc_05\n",
      "inuncoast_historical_wtsub_2050_rp0100_0\n",
      "inuncoast_rcp4p5_wtsub_2030_rp0500_0_perc_50\n",
      "inunriver_rcp8p5_0000HadGEM2-ES_2080_rp01000\n",
      "inunriver_rcp8p5_MIROC-ESM-CHEM_2030_rp01000\n",
      "inuncoast_rcp4p5_wtsub_2050_rp1000_0\n",
      "inuncoast_rcp8p5_nosub_2050_rp0250_0\n",
      "inunriver_rcp8p5_00000NorESM1-M_2050_rp00002\n",
      "inunriver_rcp8p5_0000GFDL-ESM2M_2080_rp00010\n",
      "inuncoast_rcp8p5_wtsub_2030_rp0050_0\n",
      "inunriver_rcp4p5_0000HadGEM2-ES_2050_rp00500\n",
      "inuncoast_historical_wtsub_2050_rp0500_0\n",
      "inunriver_rcp4p5_0000GFDL-ESM2M_2030_rp00100\n",
      "inuncoast_rcp4p5_nosub_2080_rp0250_0\n",
      "inuncoast_rcp8p5_wtsub_2080_rp1000_0\n",
      "inuncoast_rcp4p5_wtsub_2030_rp0010_0\n",
      "inunriver_rcp8p5_0000HadGEM2-ES_2030_rp00005\n",
      "inunriver_rcp8p5_00IPSL-CM5A-LR_2050_rp00250\n",
      "inunriver_rcp8p5_MIROC-ESM-CHEM_2080_rp00005\n",
      "inuncoast_rcp4p5_wtsub_2080_rp0250_0_perc_05\n",
      "inunriver_rcp8p5_0000GFDL-ESM2M_2080_rp00025\n",
      "inuncoast_historical_wtsub_hist_rp0050_0\n",
      "inuncoast_rcp4p5_nosub_2030_rp0050_0_perc_50\n",
      "inunriver_rcp8p5_00IPSL-CM5A-LR_2080_rp00010\n",
      "inuncoast_rcp4p5_wtsub_2050_rp0050_0_perc_05\n",
      "inuncoast_rcp8p5_wtsub_2030_rp0025_0\n",
      "inunriver_rcp4p5_00000NorESM1-M_2030_rp00500\n",
      "inuncoast_rcp4p5_nosub_2030_rp0025_0_perc_50\n",
      "inuncoast_rcp8p5_nosub_2050_rp0002_0\n",
      "inuncoast_rcp4p5_nosub_2080_rp0005_0_perc_50\n",
      "inunriver_rcp8p5_0000HadGEM2-ES_2030_rp00002\n",
      "inuncoast_rcp4p5_nosub_2080_rp1000_0_perc_50\n",
      "inunriver_rcp8p5_MIROC-ESM-CHEM_2080_rp00002\n",
      "inuncoast_rcp4p5_wtsub_2050_rp0025_0_perc_05\n",
      "inuncoast_rcp4p5_wtsub_2050_rp0002_0\n",
      "inunriver_rcp4p5_00IPSL-CM5A-LR_2030_rp00250\n",
      "inuncoast_rcp4p5_wtsub_2030_rp0050_0_perc_05\n",
      "inunriver_rcp4p5_0000HadGEM2-ES_2050_rp00005\n",
      "inuncoast_rcp4p5_nosub_2050_rp0050_0_perc_50\n",
      "inunriver_rcp8p5_0000GFDL-ESM2M_2050_rp00100\n"
     ]
    },
    {
     "ename": "KeyboardInterrupt",
     "evalue": "",
     "output_type": "error",
     "traceback": [
      "\u001b[0;31m---------------------------------------------------------------------------\u001b[0m",
      "\u001b[0;31mKeyboardInterrupt\u001b[0m                         Traceback (most recent call last)",
      "\u001b[0;32m/tmp/ipykernel_28685/2058894621.py\u001b[0m in \u001b[0;36m<module>\u001b[0;34m\u001b[0m\n\u001b[1;32m      3\u001b[0m     \u001b[0mprint\u001b[0m\u001b[0;34m(\u001b[0m\u001b[0mcolname\u001b[0m\u001b[0;34m)\u001b[0m\u001b[0;34m\u001b[0m\u001b[0;34m\u001b[0m\u001b[0m\n\u001b[1;32m      4\u001b[0m     \u001b[0;32mwith\u001b[0m \u001b[0mrasterio\u001b[0m\u001b[0;34m.\u001b[0m\u001b[0mopen\u001b[0m\u001b[0;34m(\u001b[0m\u001b[0mfname\u001b[0m\u001b[0;34m)\u001b[0m \u001b[0;32mas\u001b[0m \u001b[0mdataset\u001b[0m\u001b[0;34m:\u001b[0m\u001b[0;34m\u001b[0m\u001b[0;34m\u001b[0m\u001b[0m\n\u001b[0;32m----> 5\u001b[0;31m         \u001b[0mband\u001b[0m \u001b[0;34m=\u001b[0m \u001b[0mdataset\u001b[0m\u001b[0;34m.\u001b[0m\u001b[0mread\u001b[0m\u001b[0;34m(\u001b[0m\u001b[0;36m1\u001b[0m\u001b[0;34m)\u001b[0m\u001b[0;34m\u001b[0m\u001b[0;34m\u001b[0m\u001b[0m\n\u001b[0m\u001b[1;32m      6\u001b[0m         \u001b[0mcore_splits\u001b[0m\u001b[0;34m[\u001b[0m\u001b[0mcolname\u001b[0m\u001b[0;34m]\u001b[0m \u001b[0;34m=\u001b[0m \u001b[0mcore_splits\u001b[0m\u001b[0;34m.\u001b[0m\u001b[0mcell_index\u001b[0m\u001b[0;34m.\u001b[0m\u001b[0mapply\u001b[0m\u001b[0;34m(\u001b[0m\u001b[0;32mlambda\u001b[0m \u001b[0mi\u001b[0m\u001b[0;34m:\u001b[0m \u001b[0mband\u001b[0m\u001b[0;34m[\u001b[0m\u001b[0mi\u001b[0m\u001b[0;34m[\u001b[0m\u001b[0;36m1\u001b[0m\u001b[0;34m]\u001b[0m\u001b[0;34m,\u001b[0m \u001b[0mi\u001b[0m\u001b[0;34m[\u001b[0m\u001b[0;36m0\u001b[0m\u001b[0;34m]\u001b[0m\u001b[0;34m]\u001b[0m\u001b[0;34m)\u001b[0m\u001b[0;34m\u001b[0m\u001b[0;34m\u001b[0m\u001b[0m\n",
      "\u001b[0;31mKeyboardInterrupt\u001b[0m: "
     ]
    }
   ],
   "source": [
    "for fname in fnames:\n",
    "    colname = os.path.basename(fname[:-4])\n",
    "    print(colname)\n",
    "    with rasterio.open(fname) as dataset:\n",
    "        band = dataset.read(1)\n",
    "        core_splits[colname] = core_splits.cell_index.apply(lambda i: band[i[1], i[0]])"
   ]
  },
  {
   "cell_type": "code",
   "execution_count": 65,
   "id": "3ceee120",
   "metadata": {},
   "outputs": [],
   "source": [
    "core_splits.drop(columns='geometry').to_csv('core_splits.csv.gz')"
   ]
  },
  {
   "cell_type": "code",
   "execution_count": 66,
   "id": "3ffe7dbc",
   "metadata": {},
   "outputs": [],
   "source": [
    "core_splits[['id','geometry']].to_file('core_splits.gpkg', driver='GPKG')"
   ]
  }
 ],
 "metadata": {
  "kernelspec": {
   "display_name": "Python 3 (ipykernel)",
   "language": "python",
   "name": "python3"
  },
  "language_info": {
   "codemirror_mode": {
    "name": "ipython",
    "version": 3
   },
   "file_extension": ".py",
   "mimetype": "text/x-python",
   "name": "python",
   "nbconvert_exporter": "python",
   "pygments_lexer": "ipython3",
   "version": "3.8.10"
  }
 },
 "nbformat": 4,
 "nbformat_minor": 5
}
