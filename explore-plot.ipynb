{
 "cells": [
  {
   "cell_type": "code",
   "execution_count": null,
   "id": "a96e08de",
   "metadata": {},
   "outputs": [],
   "source": [
    "import geopandas\n",
    "import numpy\n",
    "import pandas\n",
    "import rasterio\n",
    "from pyproj import Geod\n",
    "from tqdm import tqdm as tqdm_core\n",
    "from tqdm.notebook import tqdm"
   ]
  },
  {
   "cell_type": "code",
   "execution_count": null,
   "id": "2bcbe5db",
   "metadata": {},
   "outputs": [],
   "source": [
    "import math\n",
    "import os\n",
    "from glob import glob"
   ]
  },
  {
   "cell_type": "code",
   "execution_count": null,
   "id": "0adc2433",
   "metadata": {},
   "outputs": [],
   "source": [
    "tqdm.pandas()"
   ]
  },
  {
   "cell_type": "code",
   "execution_count": null,
   "id": "3fd0a0a2",
   "metadata": {},
   "outputs": [],
   "source": [
    "# Read data\n",
    "sorted(glob(\"outputs/*\"))"
   ]
  },
  {
   "cell_type": "code",
   "execution_count": null,
   "id": "6fd14d18",
   "metadata": {},
   "outputs": [],
   "source": [
    "continent = 'asia'"
   ]
  },
  {
   "cell_type": "code",
   "execution_count": null,
   "id": "a5d9d57b",
   "metadata": {},
   "outputs": [],
   "source": [
    "df = geopandas.read_parquet(f'outputs/{continent}-latest-highway-core_splits.geoparquet')"
   ]
  },
  {
   "cell_type": "code",
   "execution_count": null,
   "id": "167ba096",
   "metadata": {},
   "outputs": [],
   "source": [
    "df.columns"
   ]
  },
  {
   "cell_type": "code",
   "execution_count": null,
   "id": "8d7dee0d",
   "metadata": {},
   "outputs": [],
   "source": [
    "# Calculate min/max over exposure\n",
    "exposure = df[df.columns[3:]]\n",
    "df['min_exp'] = exposure.min(axis=1)\n",
    "df['max_exp'] = exposure.max(axis=1)"
   ]
  },
  {
   "cell_type": "code",
   "execution_count": null,
   "id": "2dfdf77e",
   "metadata": {},
   "outputs": [],
   "source": [
    "# Calculate line length on the ellipsoid\n",
    "geod = Geod(ellps=\"WGS84\")\n",
    "df['length'] = df.geometry.progress_apply(geod.geometry_length)"
   ]
  },
  {
   "cell_type": "code",
   "execution_count": null,
   "id": "2c3b6970",
   "metadata": {},
   "outputs": [],
   "source": [
    "# Extract only exposed\n",
    "any_exposed = df[df.max_exp > 0].copy()"
   ]
  },
  {
   "cell_type": "code",
   "execution_count": null,
   "id": "a0ce3ec1",
   "metadata": {},
   "outputs": [],
   "source": [
    "len(any_exposed), len(df)"
   ]
  },
  {
   "cell_type": "code",
   "execution_count": null,
   "id": "6263c60e",
   "metadata": {},
   "outputs": [],
   "source": [
    "sorted(any_exposed.columns)"
   ]
  },
  {
   "cell_type": "code",
   "execution_count": null,
   "id": "791150a5",
   "metadata": {},
   "outputs": [],
   "source": [
    "any_exposed.head()"
   ]
  },
  {
   "cell_type": "markdown",
   "id": "7a2810fd",
   "metadata": {},
   "source": [
    "# Stats"
   ]
  },
  {
   "cell_type": "code",
   "execution_count": null,
   "id": "e5ad3b22",
   "metadata": {},
   "outputs": [],
   "source": [
    "hist = df[[\n",
    "    'inunriver_historical_000000000WATCH_1980_rp00050',\n",
    "    'inunriver_historical_000000000WATCH_1980_rp00100',\n",
    "    'inunriver_historical_000000000WATCH_1980_rp00500',\n",
    "    'inunriver_historical_000000000WATCH_1980_rp01000',\n",
    "    'length'\n",
    "]]"
   ]
  },
  {
   "cell_type": "code",
   "execution_count": null,
   "id": "4a3b0e22",
   "metadata": {},
   "outputs": [],
   "source": [
    "cols = [\n",
    "    (50, 'inunriver_historical_000000000WATCH_1980_rp00050'),\n",
    "    (100, 'inunriver_historical_000000000WATCH_1980_rp00100'),\n",
    "    (500, 'inunriver_historical_000000000WATCH_1980_rp00500'),\n",
    "    (1000, 'inunriver_historical_000000000WATCH_1980_rp01000'),\n",
    "]"
   ]
  },
  {
   "cell_type": "code",
   "execution_count": null,
   "id": "9aec46d0",
   "metadata": {},
   "outputs": [],
   "source": [
    "for _, col in cols:\n",
    "    print(len(hist[hist[col].isna()]))"
   ]
  },
  {
   "cell_type": "code",
   "execution_count": null,
   "id": "8fd461da",
   "metadata": {},
   "outputs": [],
   "source": [
    "total = df['length'].sum() / 1e3\n",
    "print(f\"Total roads in {continent} {total:0,.0f}km\")"
   ]
  },
  {
   "cell_type": "code",
   "execution_count": null,
   "id": "e5ecb882",
   "metadata": {},
   "outputs": [],
   "source": [
    "bands = [\n",
    "    (float('-inf'), 0),\n",
    "    (0, 1),\n",
    "    (1, 2),\n",
    "    (2, float('inf'))\n",
    "]"
   ]
  },
  {
   "cell_type": "code",
   "execution_count": null,
   "id": "2dbfef4e",
   "metadata": {},
   "outputs": [],
   "source": [
    "summary = []\n",
    "for lower, upper in bands:\n",
    "    for rp, col in cols:\n",
    "        l = hist[(hist[col] > lower) & (hist[col] <= upper)]['length'].sum() / 1e3\n",
    "        summary.append({\n",
    "            \"depth_band\": f\"{lower}-{upper}m\",\n",
    "            \"road_length_km\": l,\n",
    "            \"return_period\": rp\n",
    "        })\n",
    "summary = pandas.DataFrame(summary).pivot(columns=\"depth_band\", index=\"return_period\")\n",
    "summary.to_csv(f\"summary_historical_{continent}.csv\")\n",
    "summary"
   ]
  },
  {
   "cell_type": "code",
   "execution_count": null,
   "id": "8120858d",
   "metadata": {},
   "outputs": [],
   "source": [
    "rcp_cols = sorted([c for c in df.columns if \"inunriver_rcp\" in c])\n",
    "\n",
    "summary = []\n",
    "for lower, upper in bands:\n",
    "    for col in rcp_cols:\n",
    "        _, rcp, model, _, rp = col.split(\"_\")\n",
    "        rp = int(rp[2:])\n",
    "        model = model.replace(\"0\",\"\")\n",
    "        \n",
    "        l = df[(df[col] > lower) & (df[col] <= upper)]['length'].sum() / 1e3\n",
    "        summary.append({\n",
    "            \"depth_band\": f\"{lower}-{upper}m\",\n",
    "            \"model\": model,\n",
    "            \"rcp\": rcp,\n",
    "            \"return_period\": rp,\n",
    "            \"road_length_km\": l\n",
    "        })\n",
    "summary = pandas.DataFrame(summary).pivot(columns=[\"depth_band\"], index=[\"rcp\", \"return_period\", \"model\"])\n",
    "summary.to_csv(f\"summary_future_{continent}.csv\")\n",
    "summary"
   ]
  },
  {
   "cell_type": "code",
   "execution_count": null,
   "id": "bc4673aa",
   "metadata": {},
   "outputs": [],
   "source": [
    "# Convert index to tuple so we can hash it and do a groupby\n",
    "any_exposed.cell_index = any_exposed.cell_index.apply(tuple)"
   ]
  },
  {
   "cell_type": "code",
   "execution_count": null,
   "id": "6e2f6857",
   "metadata": {},
   "outputs": [],
   "source": [
    "# Calculate exposed length per cell\n",
    "length_per_cell = any_exposed[['cell_index', 'length']].groupby('cell_index').sum()"
   ]
  },
  {
   "cell_type": "code",
   "execution_count": null,
   "id": "24a35ea9",
   "metadata": {},
   "outputs": [],
   "source": [
    "# Back to raster\n",
    "with rasterio.open('../aqueduct/inuncoast_historical_nosub_hist_rp0001_5.tif') as dataset:\n",
    "    raster_width = dataset.width\n",
    "    raster_height = dataset.height\n",
    "    raster_transform = dataset.transform"
   ]
  },
  {
   "cell_type": "code",
   "execution_count": null,
   "id": "cbab650c",
   "metadata": {},
   "outputs": [],
   "source": [
    "length_raster = numpy.zeros((raster_height, raster_width))"
   ]
  },
  {
   "cell_type": "code",
   "execution_count": null,
   "id": "615dc80e",
   "metadata": {},
   "outputs": [],
   "source": [
    "for cell in length_per_cell.reset_index().itertuples():\n",
    "    col, row = cell.cell_index\n",
    "    length_raster[row, col] = cell.length"
   ]
  },
  {
   "cell_type": "code",
   "execution_count": null,
   "id": "d733000b",
   "metadata": {},
   "outputs": [],
   "source": [
    "with rasterio.open(\n",
    "        f'outputs/{continent}-core.tif',\n",
    "        'w',\n",
    "        driver='GTiff',\n",
    "        height=length_raster.shape[0],\n",
    "        width=length_raster.shape[1],\n",
    "        count=1,\n",
    "        dtype=length_raster.dtype,\n",
    "        crs='+proj=latlong',\n",
    "        transform=raster_transform,\n",
    "        compress='lzw'\n",
    "    ) as dataset:\n",
    "    dataset.write(length_raster, 1)"
   ]
  },
  {
   "cell_type": "code",
   "execution_count": null,
   "id": "42c62c99",
   "metadata": {},
   "outputs": [],
   "source": [
    "# Downsample"
   ]
  },
  {
   "cell_type": "code",
   "execution_count": null,
   "id": "b4a61b77",
   "metadata": {},
   "outputs": [],
   "source": [
    "def downsample(df, factor, raster_height, raster_width, raster_transform):\n",
    "    # Set up rescaled transform\n",
    "    height_ds = math.floor(raster_height * factor)\n",
    "    width_ds = math.floor(raster_width * factor)\n",
    "    raster_transform_ds = raster_transform * raster_transform.scale(\n",
    "        (raster_width / width_ds),\n",
    "        (raster_height / height_ds)\n",
    "    ) \n",
    "    \n",
    "    # Downsample\n",
    "    def downsample_index(xy):\n",
    "        x, y = xy\n",
    "        x = math.floor(x * factor) % width_ds\n",
    "        y = math.floor(y * factor) % height_ds\n",
    "        return (x, y)\n",
    "    df['cell_index_downsample'] = df.cell_index.apply(downsample_index)\n",
    "    grouped = df[['cell_index_downsample', 'length']].groupby('cell_index_downsample').sum()\n",
    "    \n",
    "    # Set up data array\n",
    "    length_raster_ds = numpy.zeros((height_ds, width_ds))    \n",
    "    for cell in grouped.reset_index().itertuples():\n",
    "        col, row = cell.cell_index_downsample\n",
    "        length_raster_ds[row, col] = cell.length\n",
    "        \n",
    "    with rasterio.open(\n",
    "        f'outputs/{continent}-core_ds_{factor}.tif',\n",
    "        'w',\n",
    "        driver='GTiff',\n",
    "        height=length_raster_ds.shape[0],\n",
    "        width=length_raster_ds.shape[1],\n",
    "        count=1,\n",
    "        dtype=length_raster_ds.dtype,\n",
    "        crs='+proj=latlong',\n",
    "        transform=raster_transform_ds,\n",
    "        compress='lzw'\n",
    "    ) as dataset:\n",
    "        dataset.write(length_raster_ds, 1)"
   ]
  },
  {
   "cell_type": "code",
   "execution_count": null,
   "id": "968b7da8",
   "metadata": {},
   "outputs": [],
   "source": [
    "downsample(any_exposed, 1/16, raster_height, raster_width, raster_transform)"
   ]
  },
  {
   "cell_type": "code",
   "execution_count": null,
   "id": "55685ef8",
   "metadata": {},
   "outputs": [],
   "source": [
    "downsample(any_exposed, 1/32, raster_height, raster_width, raster_transform)"
   ]
  },
  {
   "cell_type": "code",
   "execution_count": null,
   "id": "eb9e7451",
   "metadata": {},
   "outputs": [],
   "source": [
    "# Finally output all exposed vector"
   ]
  },
  {
   "cell_type": "code",
   "execution_count": null,
   "id": "72c46ffc",
   "metadata": {},
   "outputs": [],
   "source": [
    "any_exposed.columns"
   ]
  },
  {
   "cell_type": "code",
   "execution_count": null,
   "id": "09dff6eb",
   "metadata": {},
   "outputs": [],
   "source": [
    "any_exposed.drop(columns=['cell_index', 'cell_index_downsample']).to_file(f'/tmp/mert2014/outputs/{continent}-latest-highway-core_splits_exposed.gpkg', driver=\"GPKG\")"
   ]
  }
 ],
 "metadata": {
  "kernelspec": {
   "display_name": "Python 3 (ipykernel)",
   "language": "python",
   "name": "python3"
  },
  "language_info": {
   "codemirror_mode": {
    "name": "ipython",
    "version": 3
   },
   "file_extension": ".py",
   "mimetype": "text/x-python",
   "name": "python",
   "nbconvert_exporter": "python",
   "pygments_lexer": "ipython3",
   "version": "3.8.10"
  }
 },
 "nbformat": 4,
 "nbformat_minor": 5
}
