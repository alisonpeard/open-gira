{
 "cells": [
  {
   "cell_type": "code",
   "execution_count": null,
   "id": "a96e08de",
   "metadata": {},
   "outputs": [],
   "source": [
    "import geopandas\n",
    "import numpy\n",
    "import pandas\n",
    "import rasterio\n",
    "from pyproj import Geod\n",
    "from tqdm import tqdm as tqdm_core\n",
    "from tqdm.notebook import tqdm"
   ]
  },
  {
   "cell_type": "code",
   "execution_count": null,
   "id": "2bcbe5db",
   "metadata": {},
   "outputs": [],
   "source": [
    "import math\n",
    "import os\n",
    "from glob import glob"
   ]
  },
  {
   "cell_type": "code",
   "execution_count": null,
   "id": "0adc2433",
   "metadata": {},
   "outputs": [],
   "source": [
    "tqdm.pandas()"
   ]
  },
  {
   "cell_type": "code",
   "execution_count": null,
   "id": "3fd0a0a2",
   "metadata": {},
   "outputs": [],
   "source": [
    "# Read data\n",
    "sorted(glob(\"outputs/*\"))"
   ]
  },
  {
   "cell_type": "code",
   "execution_count": null,
   "id": "6fd14d18",
   "metadata": {},
   "outputs": [],
   "source": [
    "continent = 'antarctica'"
   ]
  },
  {
   "cell_type": "code",
   "execution_count": null,
   "id": "67f9d7c5",
   "metadata": {},
   "outputs": [],
   "source": [
    "def min_max(df):\n",
    "    # Calculate min/max over exposure\n",
    "    exposure = df[df.columns[3:]]\n",
    "    min_exp = exposure.min(axis=1)\n",
    "    max_exp = exposure.max(axis=1)\n",
    "    return min_exp, max_exp"
   ]
  },
  {
   "cell_type": "code",
   "execution_count": null,
   "id": "e4c61b62",
   "metadata": {},
   "outputs": [],
   "source": [
    "def downsample(df, key, factor, raster_height, raster_width, raster_transform):\n",
    "    # Set up rescaled transform\n",
    "    height_ds = math.floor(raster_height * factor)\n",
    "    width_ds = math.floor(raster_width * factor)\n",
    "    raster_transform_ds = raster_transform * raster_transform.scale(\n",
    "        (raster_width / width_ds),\n",
    "        (raster_height / height_ds)\n",
    "    )\n",
    "    \n",
    "    # Downsample\n",
    "    def downsample_index(xy):\n",
    "        x, y = xy\n",
    "        x = math.floor(x * factor) % width_ds\n",
    "        y = math.floor(y * factor) % height_ds\n",
    "        return (x, y)\n",
    "    df['cell_index_downsample'] = df.cell_index.apply(downsample_index)\n",
    "    grouped = df[['cell_index_downsample', 'length_km']].groupby('cell_index_downsample').sum()\n",
    "    \n",
    "    # Set up data array\n",
    "    length_raster_ds = numpy.zeros((height_ds, width_ds))    \n",
    "    for cell in grouped.reset_index().itertuples():\n",
    "        col, row = cell.cell_index_downsample\n",
    "        length_raster_ds[row, col] = cell.length_km\n",
    "        \n",
    "    with rasterio.open(\n",
    "        f'outputs/{continent}-core_{key}_{factor}.tif',\n",
    "        'w',\n",
    "        driver='GTiff',\n",
    "        height=length_raster_ds.shape[0],\n",
    "        width=length_raster_ds.shape[1],\n",
    "        count=1,\n",
    "        dtype=length_raster_ds.dtype,\n",
    "        crs='+proj=latlong',\n",
    "        transform=raster_transform_ds,\n",
    "        compress='lzw'\n",
    "    ) as dataset:\n",
    "        dataset.write(length_raster_ds, 1)"
   ]
  },
  {
   "cell_type": "code",
   "execution_count": null,
   "id": "b49da8f7",
   "metadata": {},
   "outputs": [],
   "source": [
    "continents = [\n",
    "    'africa',\n",
    "    'antarctica',\n",
    "    'asia',\n",
    "    'australia-oceania',\n",
    "    'central-america',\n",
    "    'europe',\n",
    "    'north-america',\n",
    "    'south-america',\n",
    "]"
   ]
  },
  {
   "cell_type": "code",
   "execution_count": null,
   "id": "b342da01",
   "metadata": {},
   "outputs": [],
   "source": [
    "# Read metadata\n",
    "with rasterio.open('../aqueduct/inuncoast_historical_nosub_hist_rp0001_5.tif') as dataset:\n",
    "    raster_width = dataset.width\n",
    "    raster_height = dataset.height\n",
    "    raster_transform = dataset.transform"
   ]
  },
  {
   "cell_type": "code",
   "execution_count": null,
   "id": "d469fdcd",
   "metadata": {},
   "outputs": [],
   "source": [
    "DEPTH_THRESHOLD = 1"
   ]
  },
  {
   "cell_type": "code",
   "execution_count": null,
   "id": "7f564f5b",
   "metadata": {},
   "outputs": [],
   "source": [
    "geod = Geod(ellps=\"WGS84\")"
   ]
  },
  {
   "cell_type": "code",
   "execution_count": null,
   "id": "991a74c8",
   "metadata": {},
   "outputs": [],
   "source": [
    "for continent in continents:\n",
    "    fname = f'outputs/{continent}-latest-highway-core_splits.geoparquet'\n",
    "    df = geopandas.read_parquet(fname)\n",
    "    min_exp, max_exp = min_max(df)\n",
    "    df['min_exp'] = min_exp\n",
    "    df['max_exp'] = max_exp\n",
    "    df['length_km'] = df.geometry.progress_apply(geod.geometry_length) / 1e3\n",
    "    total = df['length_km'].sum()\n",
    "    print(f\"Total roads in {continent} {total:0,.0f}km\")\n",
    "    \n",
    "    # Extract only exposed\n",
    "    any_exposed = df[df.max_exp > DEPTH_THRESHOLD].copy()\n",
    "    # Convert index to tuple so we can hash it and do a groupby\n",
    "    any_exposed.cell_index = any_exposed.cell_index.apply(tuple)\n",
    "        \n",
    "    downsample(any_exposed, 'any', 1, raster_height, raster_width, raster_transform)\n",
    "    downsample(any_exposed, 'any', 1/16, raster_height, raster_width, raster_transform)\n",
    "    downsample(any_exposed, 'any', 1/32, raster_height, raster_width, raster_transform)\n",
    "    \n",
    "    for column in any_exposed.columns:\n",
    "        if \"inunriver\" in column:\n",
    "            print(column)\n",
    "            scenario = any_exposed[any_exposed[column] > DEPTH_THRESHOLD].copy()\n",
    "            downsample(scenario, column, 1/32, raster_height, raster_width, raster_transform)    "
   ]
  }
 ],
 "metadata": {
  "kernelspec": {
   "display_name": "Python 3 (ipykernel)",
   "language": "python",
   "name": "python3"
  },
  "language_info": {
   "codemirror_mode": {
    "name": "ipython",
    "version": 3
   },
   "file_extension": ".py",
   "mimetype": "text/x-python",
   "name": "python",
   "nbconvert_exporter": "python",
   "pygments_lexer": "ipython3",
   "version": "3.8.10"
  }
 },
 "nbformat": 4,
 "nbformat_minor": 5
}
