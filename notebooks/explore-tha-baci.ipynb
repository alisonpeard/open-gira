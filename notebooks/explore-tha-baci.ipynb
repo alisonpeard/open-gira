{
 "cells": [
  {
   "cell_type": "code",
   "execution_count": null,
   "id": "147cb065-2113-4621-9fd3-b209db390f47",
   "metadata": {},
   "outputs": [],
   "source": [
    "import matplotlib.pyplot as plt\n",
    "import numpy as np\n",
    "import pandas"
   ]
  },
  {
   "cell_type": "code",
   "execution_count": null,
   "id": "bbc70051-5828-4328-8f87-6d6e8d9c4e76",
   "metadata": {},
   "outputs": [],
   "source": [
    "! exa -l"
   ]
  },
  {
   "cell_type": "markdown",
   "id": "7baa3bfe-3efe-4df5-913f-25eaf6cc4c75",
   "metadata": {},
   "source": [
    "# Thailand extract from Raghav"
   ]
  },
  {
   "cell_type": "code",
   "execution_count": null,
   "id": "8d84fcef-32d2-45e9-a284-a3ef44792a0d",
   "metadata": {},
   "outputs": [],
   "source": [
    "df = pandas.read_csv('baci_trade_THA.csv', dtype={'product_code':'str'}) \\\n",
    "    .drop(columns=[\n",
    "        't',\n",
    "        'i',\n",
    "        'j',\n",
    "        'export_country_name',\n",
    "        'import_country_name',\n",
    "        'refining_stage',\n",
    "        'export_continent',\n",
    "        'import_continent'\n",
    "    ]) \\\n",
    "    .rename(columns={'product_code': 'product_code_h5'})\n",
    "\n",
    "df.export_country_code = df.export_country_code.fillna('TWN')  # Other Asia, n.e.s.\n",
    "df.import_country_code = df.import_country_code.fillna('TWN')  # Other Asia, n.e.s.\n",
    "df.trade_quantity_tons = df.trade_quantity_tons.fillna(0)  # code 271600 is electrical energy, recorded as NaN tons\n",
    "df.product_code_h5 = df.product_code_h5.str.zfill(6)\n",
    "df.shape, df.dropna().shape"
   ]
  },
  {
   "cell_type": "code",
   "execution_count": null,
   "id": "f58f9514-989a-4f65-a65b-2a01b3a343c2",
   "metadata": {},
   "outputs": [],
   "source": [
    "product_codes_hs_to_isic_with_desc = pandas.read_csv('JobID-64_Concordance_HS_to_I3.CSV', encoding='latin-1', dtype='str').rename(columns={\n",
    "    'HS - Combined  Product Code': 'product_code_hs',\n",
    "    'HS - Combined  Product Description': 'product_desc_hs',\n",
    "    'ISIC Revision 3 Product Code': 'isic_code',\n",
    "    'ISIC Revision 3 Product Description': 'isic_desc'\n",
    "})\n",
    "product_codes_hs_to_isic= product_codes_hs_to_isic_with_desc[['product_code_hs','isic_code']]"
   ]
  },
  {
   "cell_type": "code",
   "execution_count": null,
   "id": "5e5caeaf-f041-4a1f-b138-79ce8cdb6128",
   "metadata": {},
   "outputs": [],
   "source": [
    "product_codes_h5_to_h4_with_desc = pandas.read_csv('JobID-92_Concordance_H5_to_H4.CSV', encoding='latin-1', dtype='str').rename(columns={\n",
    "    'HS 2017 Product Code': 'product_code_h5',\n",
    "    'HS 2017 Product Description': 'product_desc_h5',\n",
    "    'HS 2012 Product Code': 'product_code_h4',\n",
    "    'HS 2012 Product Description': 'product_desc_h4'\n",
    "})\n",
    "product_codes_h5_to_h4 = product_codes_h5_to_h4_with_desc[['product_code_h5','product_code_h4']]"
   ]
  },
  {
   "cell_type": "code",
   "execution_count": null,
   "id": "27357b96-f231-44e1-b232-808366f43cdd",
   "metadata": {},
   "outputs": [],
   "source": [
    "product_codes_h4_to_isic = pandas.read_csv('JobID-81_Concordance_H4_to_I3.CSV', encoding='latin-1', dtype='str').rename(columns={\n",
    "    'HS 2012 Product Code': 'product_code_h4',\n",
    "    'HS 2012 Product Description': 'product_desc_h4',\n",
    "    'ISIC Revision 3 Product Code': 'isic_code',\n",
    "    'ISIC Revision 3 Product Description': 'isic_desc'\n",
    "})[['product_code_h4','isic_code']]"
   ]
  },
  {
   "cell_type": "code",
   "execution_count": null,
   "id": "78c54962-458e-405d-8add-3a4676dd0a03",
   "metadata": {},
   "outputs": [],
   "source": [
    "extra_codes_to_isic = pandas.read_csv('extra_concordance.csv', dtype='str')[['product_code','isic_code']]"
   ]
  },
  {
   "cell_type": "code",
   "execution_count": null,
   "id": "ce97e698-833e-4d74-a506-c7e78119dd7d",
   "metadata": {},
   "outputs": [],
   "source": [
    "df = df \\\n",
    "    .merge(product_codes_h5_to_h4, on='product_code_h5', validate='many_to_one', how='left') \\\n",
    "    .merge(product_codes_h4_to_isic, on='product_code_h4', validate='many_to_one', how='left')\n",
    "df.shape"
   ]
  },
  {
   "cell_type": "code",
   "execution_count": null,
   "id": "43c816a7-ab8b-425d-b5f2-20ff60a9d296",
   "metadata": {},
   "outputs": [],
   "source": [
    "df1 = df[~df.isic_code.isna()].copy()\n",
    "df2 = df[df.isic_code.isna()] \\\n",
    "    .drop(columns=['isic_code']) \\\n",
    "    .copy() \\\n",
    "    .merge(product_codes_hs_to_isic, left_on='product_code_h5', right_on='product_code_hs', validate='many_to_one', how='left')\n",
    "df2_clean = df2[~df2.isic_code.isna()].copy()\n",
    "df3 = df2[df2.isic_code.isna()] \\\n",
    "    .drop(columns=['isic_code']) \\\n",
    "    .copy() \\\n",
    "    .merge(extra_codes_to_isic, left_on='product_code_h5', right_on='product_code', validate='many_to_one', how='left')\n",
    "df3_clean = df3[~df3.isic_code.isna()].copy()"
   ]
  },
  {
   "cell_type": "code",
   "execution_count": null,
   "id": "b79154fd-d2e8-4e0c-9a6c-4ed1148a0fa5",
   "metadata": {},
   "outputs": [],
   "source": [
    "len(df1), len(df2), len(df3), len(df3[df3.isic_code.isna()])"
   ]
  },
  {
   "cell_type": "code",
   "execution_count": null,
   "id": "93904422-2f72-4b26-8ad0-7e5de727fb58",
   "metadata": {},
   "outputs": [],
   "source": [
    "all = pandas.concat([df1, df2_clean, df3])"
   ]
  },
  {
   "cell_type": "code",
   "execution_count": null,
   "id": "0bde8db5-bbc2-4185-8a5a-4b81b7a0315a",
   "metadata": {},
   "outputs": [],
   "source": [
    "isic_trade = all \\\n",
    "    [['isic_code', 'export_country_code', 'import_country_code', 'trade_value_thousandUSD', 'trade_quantity_tons']] \\\n",
    "    .groupby(['isic_code', 'export_country_code', 'import_country_code']) \\\n",
    "    .sum()"
   ]
  },
  {
   "cell_type": "code",
   "execution_count": null,
   "id": "819d515e-e8fe-4702-bae3-d149934c5d50",
   "metadata": {},
   "outputs": [],
   "source": [
    "isic_trade.trade_value_thousandUSD.sum(), all.trade_value_thousandUSD.sum(), df.trade_value_thousandUSD.sum()"
   ]
  },
  {
   "cell_type": "code",
   "execution_count": null,
   "id": "a1e6f1a5-f317-4f0f-99d5-b28374794115",
   "metadata": {},
   "outputs": [],
   "source": [
    "partner_trade = all \\\n",
    "    [['export_country_code', 'import_country_code', 'trade_value_thousandUSD', 'trade_quantity_tons']] \\\n",
    "    .groupby(['export_country_code', 'import_country_code']) \\\n",
    "    .sum()"
   ]
  },
  {
   "cell_type": "code",
   "execution_count": null,
   "id": "d4054bb8-c619-4706-90ce-1a575477587b",
   "metadata": {},
   "outputs": [],
   "source": [
    "# major_partner_trade = partner_trade.query('trade_value_thousandUSD > 1e6')\n",
    "\n",
    "tha_exports = partner_trade \\\n",
    "    .loc[\"THA\"] \\\n",
    "    .rename(columns={\n",
    "        \"trade_value_thousandUSD\": \"THA_export_trade_value_thousandUSD\",\n",
    "        \"trade_quantity_tons\": \"THA_export_trade_quantity_tons\"\n",
    "    })\n",
    "tha_exports.index.name = 'country_code'\n",
    "tha_exports\n",
    "\n",
    "tha_imports = partner_trade.reset_index() \\\n",
    "    .query(\"import_country_code == 'THA'\") \\\n",
    "    .set_index(\"export_country_code\") \\\n",
    "    .drop(columns=['import_country_code']) \\\n",
    "    .rename(columns={\n",
    "        \"trade_value_thousandUSD\": \"THA_import_trade_value_thousandUSD\",\n",
    "        \"trade_quantity_tons\": \"THA_import_trade_quantity_tons\"\n",
    "    })\n",
    "\n",
    "tha_imports.index.name = 'country_code'\n",
    "tha_trade_balance = tha_exports.join(tha_imports)"
   ]
  },
  {
   "cell_type": "code",
   "execution_count": null,
   "id": "c84cfe13-0c5b-4eb7-8d6e-87178f95806d",
   "metadata": {},
   "outputs": [],
   "source": [
    "tha_trade_balance.query('THA_export_trade_value_thousandUSD > 1e6')[['THA_import_trade_value_thousandUSD', 'THA_export_trade_value_thousandUSD']].plot(kind='bar')\n",
    "\n",
    "plt.savefig('baci_major_trade_balance_tha.png')"
   ]
  },
  {
   "cell_type": "code",
   "execution_count": null,
   "id": "09a9984b-1fc0-483e-a6ff-b973d615eb62",
   "metadata": {},
   "outputs": [],
   "source": [
    "mat_df = partner_trade.query('trade_value_thousandUSD > 1e7').reset_index() \\\n",
    "    .pivot(index='export_country_code', columns='import_country_code', values='trade_value_thousandUSD')"
   ]
  },
  {
   "cell_type": "code",
   "execution_count": null,
   "id": "fab840c1-a0bf-45db-aafd-32aa28be39a2",
   "metadata": {},
   "outputs": [],
   "source": [
    "fig, ax = plt.subplots()\n",
    "im = ax.imshow(mat_df)\n",
    "cbar = ax.figure.colorbar(im, ax=ax, label='1e7 thousand USD')\n",
    "\n",
    "ax.set_xticks(np.arange(len(mat_df.columns)), labels=mat_df.columns, fontsize='small')\n",
    "ax.set_xlabel('Country importing')\n",
    "ax.set_yticks(np.arange(len(mat_df.index)), labels=mat_df.index, fontsize='small')\n",
    "ax.set_ylabel('Country exporting')\n",
    "# Rotate the tick labels and set their alignment.\n",
    "plt.setp(ax.get_xticklabels(), rotation=90, ha=\"right\",\n",
    "         rotation_mode=\"anchor\")\n",
    "ax.set_title('Value of trade over 1bn USD, 2021')\n",
    "\n",
    "plt.savefig('baci_major_trade_tha.png')"
   ]
  },
  {
   "cell_type": "code",
   "execution_count": null,
   "id": "802d0c63-545f-4689-a8ad-46f946bef39e",
   "metadata": {},
   "outputs": [],
   "source": [
    "isic_structure = pandas.read_csv('ISIC_Rev_3_english_structure.csv')\n",
    "isic_structure"
   ]
  },
  {
   "cell_type": "code",
   "execution_count": null,
   "id": "a40a7e83-ed87-4d73-afba-a10c33642716",
   "metadata": {},
   "outputs": [],
   "source": [
    "sector_trade = isic_trade.reset_index() \\\n",
    "    .merge(isic_structure[['sector', 'code']], left_on='isic_code', right_on='code', how='left') \\\n",
    "    .drop(columns=['isic_code', 'code']) \\\n",
    "    .groupby(['sector','export_country_code','import_country_code']) \\\n",
    "    .sum()"
   ]
  },
  {
   "cell_type": "code",
   "execution_count": null,
   "id": "a6c6bb73-5bd0-4d38-9f0e-69f3ea2fa3a2",
   "metadata": {},
   "outputs": [],
   "source": [
    "summary = sector_trade.reset_index()\n",
    "summary['export'] = (summary.export_country_code == 'THA')\n",
    "summary.drop(columns=['export_country_code','import_country_code']).groupby(['export','sector']).sum()"
   ]
  },
  {
   "cell_type": "code",
   "execution_count": null,
   "id": "03db483c-9a1b-467b-b3c8-c3fdde2b5cb4",
   "metadata": {},
   "outputs": [],
   "source": [
    "sector_trade.to_csv(\"baci_sector_trade_THA.csv\")"
   ]
  },
  {
   "cell_type": "code",
   "execution_count": null,
   "id": "de0f4e85-357d-4dcb-a196-66993f007881",
   "metadata": {},
   "outputs": [],
   "source": [
    "! exa ~/projects/open-gira/results/input/capital-stocks/"
   ]
  },
  {
   "cell_type": "code",
   "execution_count": null,
   "id": "4c57d4b2-ab5a-4042-98d4-e90e90d689ed",
   "metadata": {},
   "outputs": [],
   "source": [
    "! exa /data/incoming/wenz-2023-dose-reported-subnational-output/"
   ]
  },
  {
   "cell_type": "code",
   "execution_count": null,
   "id": "bbdbb072-8455-4449-9f37-dcfeb05cef09",
   "metadata": {},
   "outputs": [],
   "source": []
  },
  {
   "cell_type": "code",
   "execution_count": null,
   "id": "1d18c1d4-d735-424f-8238-21931a7a9f7c",
   "metadata": {},
   "outputs": [],
   "source": []
  },
  {
   "cell_type": "code",
   "execution_count": null,
   "id": "93cd370b-4304-4825-9cc5-d2e3c9136b3a",
   "metadata": {},
   "outputs": [],
   "source": []
  },
  {
   "cell_type": "code",
   "execution_count": null,
   "id": "98509a43-1101-4c96-b627-cd7939115d75",
   "metadata": {},
   "outputs": [],
   "source": []
  },
  {
   "cell_type": "code",
   "execution_count": null,
   "id": "511ab795-b254-44c1-8da1-dd20c89bb0bf",
   "metadata": {},
   "outputs": [],
   "source": []
  },
  {
   "cell_type": "code",
   "execution_count": null,
   "id": "7914a455-9a1b-4b44-a77b-b75618ccfb90",
   "metadata": {},
   "outputs": [],
   "source": []
  },
  {
   "cell_type": "code",
   "execution_count": null,
   "id": "5be4c1f2-e110-436b-85f2-042465cf8dec",
   "metadata": {},
   "outputs": [],
   "source": []
  }
 ],
 "metadata": {
  "kernelspec": {
   "display_name": "Python 3 (ipykernel)",
   "language": "python",
   "name": "python3"
  },
  "language_info": {
   "codemirror_mode": {
    "name": "ipython",
    "version": 3
   },
   "file_extension": ".py",
   "mimetype": "text/x-python",
   "name": "python",
   "nbconvert_exporter": "python",
   "pygments_lexer": "ipython3",
   "version": "3.10.14"
  }
 },
 "nbformat": 4,
 "nbformat_minor": 5
}
