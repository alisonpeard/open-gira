{
 "cells": [
  {
   "cell_type": "code",
   "execution_count": null,
   "metadata": {},
   "outputs": [],
   "source": [
    "import subprocess\n",
    "from pathlib import Path\n",
    "\n",
    "import geopandas\n",
    "import pandas\n",
    "from open_gira.geometry import buffer_via_reprojection\n",
    "from open_gira.exposure import max_vector_rasters_intersection\n",
    "from snail.damages import PiecewiseLinearDamageCurve"
   ]
  },
  {
   "cell_type": "code",
   "execution_count": null,
   "metadata": {},
   "outputs": [],
   "source": [
    "base_dir = Path(\"../cluster\")"
   ]
  },
  {
   "cell_type": "code",
   "execution_count": null,
   "metadata": {},
   "outputs": [],
   "source": [
    "adm0 = geopandas.read_parquet(\n",
    "    base_dir / \"processed_data/admin-boundaries/admin-level-0.geoparquet\"\n",
    ").query('GID_0 == \"THA\"')"
   ]
  },
  {
   "cell_type": "code",
   "execution_count": null,
   "metadata": {},
   "outputs": [],
   "source": [
    "tha_bounds = dict(adm0.bounds.iloc[0, :])\n",
    "minx, miny, maxx, maxy = (\n",
    "    tha_bounds[\"minx\"],\n",
    "    tha_bounds[\"miny\"],\n",
    "    tha_bounds[\"maxx\"],\n",
    "    tha_bounds[\"maxy\"],\n",
    ")\n",
    "minx, miny, maxx, maxy"
   ]
  },
  {
   "cell_type": "code",
   "execution_count": null,
   "metadata": {},
   "outputs": [],
   "source": [
    "raster_paths = sorted(Path(\"../results/input/jrc_flood/\").glob(\"*.tif\"))\n",
    "for global_tiff in raster_paths:\n",
    "    tha_tiff = base_dir / \"processed_data\" / \"hazard\" / global_tiff.name\n",
    "    if tha_tiff.exists:\n",
    "        continue\n",
    "    print(tha_tiff)\n",
    "    subprocess.check_output(\n",
    "        [\n",
    "            \"gdalwarp\",\n",
    "            \"-te\",\n",
    "            str(minx),\n",
    "            str(miny),\n",
    "            str(maxx),\n",
    "            str(maxy),\n",
    "            str(global_tiff),\n",
    "            str(tha_tiff),\n",
    "        ]\n",
    "    )"
   ]
  },
  {
   "cell_type": "code",
   "execution_count": null,
   "metadata": {},
   "outputs": [],
   "source": [
    "raster_paths = sorted(\n",
    "    str(p) for p in (base_dir / \"processed_data\" / \"hazard\").glob(\"*.tif\")\n",
    ")\n",
    "rasters = pandas.DataFrame(data={\"path\": raster_paths})\n",
    "rasters[\"rp\"] = rasters.path.str.extract(\"(\\d+)\").astype(int)\n",
    "rasters[\"key\"] = rasters.rp.apply(lambda rp: f\"jrc_flood_{rp:03d}\")\n",
    "rasters.sort_values(by=\"rp\", inplace=True)\n",
    "rasters"
   ]
  },
  {
   "cell_type": "code",
   "execution_count": null,
   "metadata": {},
   "outputs": [],
   "source": [
    "rail_edges = geopandas.read_parquet(\n",
    "    base_dir\n",
    "    / \"transport_disruption\"\n",
    "    / \"input\"\n",
    "    / \"networks\"\n",
    "    / \"rail\"\n",
    "    / \"project-thailand\"\n",
    "    / \"edges.gpq\"\n",
    ").query('from_iso_a3 == \"THA\" | to_iso_a3 == \"THA\"')\n",
    "rail_edges.head(1)"
   ]
  },
  {
   "cell_type": "code",
   "execution_count": null,
   "metadata": {},
   "outputs": [],
   "source": [
    "road_edges = geopandas.read_parquet(\n",
    "    base_dir\n",
    "    / \"transport_disruption\"\n",
    "    / \"input\"\n",
    "    / \"networks\"\n",
    "    / \"road\"\n",
    "    / \"project-thailand\"\n",
    "    / \"edges.gpq\"\n",
    ").query('from_iso_a3 == \"THA\" | to_iso_a3 == \"THA\"')\n",
    "road_edges.head(1)"
   ]
  },
  {
   "cell_type": "markdown",
   "metadata": {},
   "source": [
    "## Load powerplants"
   ]
  },
  {
   "cell_type": "code",
   "execution_count": null,
   "metadata": {},
   "outputs": [],
   "source": [
    "powerplants = geopandas.read_parquet(\n",
    "    base_dir / \"power_flood\" / \"data\" / \"powerplants.geoparquet\"\n",
    ").cx[minx:maxx, miny:maxy]\n",
    "powerplants[\"geom_point\"] = powerplants.geometry\n",
    "powerplants.geometry = buffer_via_reprojection(powerplants.geometry, 250)\n",
    "powerplants.head(1)"
   ]
  },
  {
   "cell_type": "code",
   "execution_count": null,
   "metadata": {},
   "outputs": [],
   "source": [
    "# US power plant construction costs\n",
    "# https://www.eia.gov/electricity/generatorcosts/xls/generator_costs_2021.xlsx\n",
    "# e.g. for gas...\n",
    "# 920 [USD 2021] / capacity [kW]\n",
    "# 920000 [USD 2021] / capacity [MW]\n",
    "# N.B. not deflated to 2011, and no accounting for learning effects between 2011 and 2021\n",
    "\n",
    "construction_cost_usd_per_mw = {\n",
    "    \"Biomass\": 2592000,\n",
    "    \"Gas\": 920000,\n",
    "    \"Solar\": 1561000,\n",
    "    \"Wind\": 1428000,\n",
    "}\n",
    "powerplants[\"construction_cost\"] = powerplants.apply(lambda row: construction_cost_usd_per_mw[row.primary_fuel] * row.power_mw, axis=1)"
   ]
  },
  {
   "cell_type": "markdown",
   "metadata": {},
   "source": [
    "## Powerplant RP damages"
   ]
  },
  {
   "cell_type": "code",
   "execution_count": null,
   "metadata": {},
   "outputs": [],
   "source": [
    "powerplants = max_vector_rasters_intersection(powerplants, rasters).fillna(0)"
   ]
  },
  {
   "cell_type": "code",
   "execution_count": null,
   "metadata": {},
   "outputs": [],
   "source": [
    "powerplants.head(2)"
   ]
  },
  {
   "cell_type": "code",
   "execution_count": null,
   "metadata": {},
   "outputs": [],
   "source": [
    "damage_curves = {\n",
    "    \"paved\": PiecewiseLinearDamageCurve.from_csv(\n",
    "        \"../config/damage_curves/flood/road_paved.csv\",\n",
    "        intensity_col=\"inundation_depth_(m)\",\n",
    "        damage_col=\"central\",\n",
    "    ),\n",
    "    \"lower\": PiecewiseLinearDamageCurve.from_csv(\n",
    "        \"../config/damage_curves/flood/road_paved.csv\",\n",
    "        intensity_col=\"inundation_depth_(m)\",\n",
    "        damage_col=\"damage_fraction\",\n",
    "    ),\n",
    "    \"upper\": PiecewiseLinearDamageCurve.from_csv(\n",
    "        \"../config/damage_curves/flood/road_paved.csv\",\n",
    "        intensity_col=\"inundation_depth_(m)\",\n",
    "        damage_col=\"upper\",\n",
    "    ),\n",
    "    \"motorway\": PiecewiseLinearDamageCurve.from_csv(\n",
    "        \"../config/damage_curves/flood/road_motorway.csv\",\n",
    "        intensity_col=\"inundation_depth_(m)\",\n",
    "        damage_col=\"damage_fraction\",\n",
    "    ),\n",
    "    \"motorway_high\": PiecewiseLinearDamageCurve.from_csv(\n",
    "        \"../config/damage_curves/flood/road_motorway.csv\",\n",
    "        intensity_col=\"inundation_depth_(m)\",\n",
    "        damage_col=\"high flow\",\n",
    "    ),\n",
    "    \"rail_a\": PiecewiseLinearDamageCurve.from_csv(\n",
    "        \"../config/damage_curves/flood/rail_railway.csv\",\n",
    "        intensity_col=\"inundation_depth_(m)\",\n",
    "        damage_col=\"damage_fraction\",\n",
    "    ),\n",
    "    \"rail_b\": PiecewiseLinearDamageCurve.from_csv(\n",
    "        \"../config/damage_curves/flood/rail_railway.csv\",\n",
    "        intensity_col=\"inundation_depth_(m)\",\n",
    "        damage_col=\"high\",\n",
    "    ),\n",
    "    \"powerplants\": PiecewiseLinearDamageCurve.from_csv(\n",
    "        \"../config/damage_curves/flood/powerplants.csv\",\n",
    "        intensity_col=\"depth_m\",\n",
    "        damage_col=\"damage_fraction\"\n",
    "    ),\n",
    "}"
   ]
  },
  {
   "cell_type": "code",
   "execution_count": null,
   "metadata": {},
   "outputs": [],
   "source": [
    "powerplants"
   ]
  },
  {
   "cell_type": "code",
   "execution_count": null,
   "metadata": {},
   "outputs": [],
   "source": [
    "exposure = powerplants.loc[:, rasters.key]\n",
    "damage_fraction = pandas.DataFrame(\n",
    "    damage_curves[\"powerplants\"].damage_fraction(exposure),\n",
    "    index=exposure.index,\n",
    "    columns=exposure.columns\n",
    ")\n",
    "damage_value = damage_fraction \\\n",
    "    .multiply(powerplants[fields.REHAB_COST], axis=\"index\") \\\n",
    "    .multiply(powerplants[fields.SPLIT_LENGTH], axis=\"index\")"
   ]
  }
 ],
 "metadata": {
  "kernelspec": {
   "display_name": "Python 3",
   "language": "python",
   "name": "python3"
  },
  "language_info": {
   "codemirror_mode": {
    "name": "ipython",
    "version": 3
   },
   "file_extension": ".py",
   "mimetype": "text/x-python",
   "name": "python",
   "nbconvert_exporter": "python",
   "pygments_lexer": "ipython3",
   "version": "3.10.13"
  }
 },
 "nbformat": 4,
 "nbformat_minor": 2
}
