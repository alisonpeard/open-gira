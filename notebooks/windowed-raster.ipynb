{
 "cells": [
  {
   "cell_type": "code",
   "execution_count": null,
   "metadata": {},
   "outputs": [],
   "source": [
    "import matplotlib.pyplot as plt\n",
    "import numpy as np\n",
    "import geopandas\n",
    "import pandas\n",
    "import rasterio\n",
    "\n",
    "from affine import Affine\n",
    "from rasterio import features\n",
    "from snail.damages import PiecewiseLinearDamageCurve"
   ]
  },
  {
   "cell_type": "code",
   "execution_count": null,
   "metadata": {},
   "outputs": [],
   "source": [
    "value_150ss_tif = \"../results/input/giri/THA/bem_5x5_valfis_res__THA.tif\"\n",
    "volume_3ss_tif = \"../results/input/ghsl/THA/GHS_BUILT_V_E2020_GLOBE_R2023A_4326_3ss_V1_0__THA.tif\"\n",
    "flood_1ss_tif = \"../results/input/footprints/JBA/Raster/TH_FLRF_ChaoPhraya2011_RD_01.tif\""
   ]
  },
  {
   "cell_type": "code",
   "execution_count": null,
   "metadata": {},
   "outputs": [],
   "source": [
    "def clip_array(arr, block_size):\n",
    "    clip_rows = (arr.shape[0] - (arr.shape[0] % block_size))\n",
    "    clip_cols = (arr.shape[1] - (arr.shape[1] % block_size))\n",
    "\n",
    "    clipped = arr[0:clip_rows, 0:clip_cols]\n",
    "    return clipped\n",
    "\n",
    "def resample_sum(arr, block_size):\n",
    "    nblocks_0 = arr.shape[0] // block_size\n",
    "    nblocks_1 = arr.shape[1] // block_size\n",
    "\n",
    "    blocks = arr.reshape(nblocks_0, block_size, nblocks_1, block_size)\n",
    "\n",
    "    return np.sum(blocks, axis=(1, 3))"
   ]
  },
  {
   "cell_type": "code",
   "execution_count": null,
   "metadata": {},
   "outputs": [],
   "source": [
    "# d = np.arange(12).reshape((3,4))\n",
    "# d, resample_sum(d, 2)"
   ]
  },
  {
   "cell_type": "code",
   "execution_count": null,
   "metadata": {},
   "outputs": [],
   "source": [
    "def repeat_2d(arr, block_size):\n",
    "    \"\"\"Repeat each element from a 2d array, so each value fills a (block_size x block_size) area\n",
    "    \"\"\"\n",
    "    return np.repeat(np.repeat(arr, block_size, axis=0), block_size, axis=1)\n",
    "\n",
    "# repeat_2d(d, 2)"
   ]
  },
  {
   "cell_type": "code",
   "execution_count": null,
   "metadata": {},
   "outputs": [],
   "source": [
    "def read_ds(ds, band=1, replace_nodata=False, nodata_fill=0):\n",
    "    data = ds.read(band)\n",
    "    if replace_nodata:\n",
    "        data = np.where(data == ds.nodata, nodata_fill, data)\n",
    "    return data"
   ]
  },
  {
   "cell_type": "code",
   "execution_count": null,
   "metadata": {},
   "outputs": [],
   "source": [
    "with rasterio.open(value_150ss_tif) as value_150ss_ds:\n",
    "    value_150ss_all = read_ds(value_150ss_ds, replace_nodata=True)\n",
    "\n",
    "with rasterio.open(volume_3ss_tif) as volume_3ss_ds:\n",
    "    volume_3ss_all = read_ds(volume_3ss_ds, replace_nodata=True)"
   ]
  },
  {
   "cell_type": "code",
   "execution_count": null,
   "metadata": {},
   "outputs": [],
   "source": [
    "def to_int(a):\n",
    "    return np.floor(a).astype(int)\n",
    "\n",
    "# lon, lat of volume_3ss top left\n",
    "volume_3ss_all_ul_xy = volume_3ss_ds.transform * (0,0)\n",
    "# col, row in value_150ss_all, inset one extra\n",
    "value_150ss_ul_cr = to_int(~value_150ss_ds.transform * (volume_3ss_all_ul_xy)) + 1\n",
    "# lon, lat of that value_150ss_all pixel - this is our new top left\n",
    "ul_xy_150ss = value_150ss_ds.transform * value_150ss_ul_cr\n",
    "# col, row in volume_3ss_all\n",
    "volume_3ss_ul_cr = to_int(~volume_3ss_ds.transform * ul_xy_150ss)\n",
    "# lon, lat of that volume_3ss_all pixel - new top left for 3ss purposes (tiny bit offset)\n",
    "ul_xy_3ss = volume_3ss_ds.transform * volume_3ss_ul_cr\n",
    "ul_xy_150ss, ul_xy_3ss"
   ]
  },
  {
   "cell_type": "code",
   "execution_count": null,
   "metadata": {},
   "outputs": [],
   "source": [
    "# Clip out volume array\n",
    "col_idx, row_idx = volume_3ss_ul_cr\n",
    "volume_3ss = volume_3ss_all[row_idx:, col_idx:]\n",
    "volume_3ss = clip_array(volume_3ss, 50)\n",
    "# Resample volume to coarse-scale, \"sum\"\n",
    "volume_150ss = resample_sum(volume_3ss, 50)\n",
    "volume_150ss.shape"
   ]
  },
  {
   "cell_type": "code",
   "execution_count": null,
   "metadata": {},
   "outputs": [],
   "source": [
    "# Adapt transform to new top-left and resolution\n",
    "a,b,c,d,e,f = volume_3ss_ds.transform[:6]\n",
    "t_150ss = Affine(\n",
    "    a * 50,\n",
    "    b,\n",
    "    ul_xy_150ss[0],\n",
    "    d,\n",
    "    e * 50,\n",
    "    ul_xy_150ss[1]\n",
    ")\n",
    "t_3ss = Affine(\n",
    "    a,\n",
    "    b,\n",
    "    ul_xy_3ss[0],\n",
    "    d,\n",
    "    e,\n",
    "    ul_xy_3ss[1]\n",
    ")\n",
    "t_150ss, t_3ss"
   ]
  },
  {
   "cell_type": "code",
   "execution_count": null,
   "metadata": {},
   "outputs": [],
   "source": [
    "col_idx, row_idx = value_150ss_ul_cr\n",
    "ncols, nrows = volume_150ss.shape\n",
    "value_150ss = value_150ss_all[col_idx:col_idx+ncols, row_idx:row_idx+nrows]"
   ]
  },
  {
   "cell_type": "code",
   "execution_count": null,
   "metadata": {},
   "outputs": [],
   "source": [
    "value_150ss.shape, volume_150ss.shape"
   ]
  },
  {
   "cell_type": "code",
   "execution_count": null,
   "metadata": {},
   "outputs": [],
   "source": [
    "with rasterio.open(\"../results/input/giri/THA/vol_150ss.tif\", 'w',\n",
    "    driver='GTiff',\n",
    "    height=volume_150ss.shape[0],\n",
    "    width=volume_150ss.shape[1],\n",
    "    count=1,\n",
    "    dtype='float64',\n",
    "    crs='+proj=latlong',\n",
    "    transform=t_150ss\n",
    ") as ds:\n",
    "    ds.write(volume_150ss, indexes=1)"
   ]
  },
  {
   "cell_type": "code",
   "execution_count": null,
   "metadata": {},
   "outputs": [],
   "source": [
    "with rasterio.open(\"../results/input/giri/THA/vol_3ss.tif\", 'w',\n",
    "    driver='GTiff',\n",
    "    height=volume_3ss.shape[0],\n",
    "    width=volume_3ss.shape[1],\n",
    "    count=1,\n",
    "    dtype=volume_3ss.dtype,\n",
    "    crs='+proj=latlong',\n",
    "    transform=t_3ss\n",
    ") as ds:\n",
    "    ds.write(volume_3ss, indexes=1)"
   ]
  },
  {
   "cell_type": "code",
   "execution_count": null,
   "metadata": {},
   "outputs": [],
   "source": [
    "if value_150ss.shape != volume_150ss.shape:\n",
    "    print(\"CHKS\", value_150ss.shape, volume_150ss.shape)\n",
    "    assert False\n",
    "\n",
    "# Calculate value per unit volume\n",
    "# value_per_volume_150ss = value_150ss / volume_150ss\n",
    "value_per_volume_150ss = np.divide(value_150ss, volume_150ss, out=np.zeros_like(value_150ss), where=volume_150ss!=0)\n",
    "# Resample to fine-scale value per volume, \"nearest\"\n",
    "value_per_volume_3ss = repeat_2d(value_per_volume_150ss, 50)\n",
    "# Calculate fine-scale value\n",
    "value_3ss = value_per_volume_3ss * volume_3ss"
   ]
  },
  {
   "cell_type": "code",
   "execution_count": null,
   "metadata": {},
   "outputs": [],
   "source": [
    "with rasterio.open(\"../results/input/giri/THA/val_vol_150ss.tif\", 'w',\n",
    "    driver='GTiff',\n",
    "    height=value_per_volume_150ss.shape[0],\n",
    "    width=value_per_volume_150ss.shape[1],\n",
    "    count=1,\n",
    "    dtype=value_per_volume_150ss.dtype,\n",
    "    crs='+proj=latlong',\n",
    "    transform=t_150ss\n",
    ") as ds:\n",
    "    # Write to window\n",
    "    ds.write(value_per_volume_150ss, indexes=1)"
   ]
  },
  {
   "cell_type": "code",
   "execution_count": null,
   "metadata": {},
   "outputs": [],
   "source": [
    "with rasterio.open(\"../results/input/giri/THA/val_vol_3ss.tif\", 'w',\n",
    "    driver='GTiff',\n",
    "    height=value_per_volume_3ss.shape[0],\n",
    "    width=value_per_volume_3ss.shape[1],\n",
    "    count=1,\n",
    "    dtype=value_per_volume_3ss.dtype,\n",
    "    crs='+proj=latlong',\n",
    "    transform=t_3ss\n",
    ") as ds:\n",
    "    # Write to window\n",
    "    ds.write(value_per_volume_3ss, indexes=1)"
   ]
  },
  {
   "cell_type": "code",
   "execution_count": null,
   "metadata": {},
   "outputs": [],
   "source": [
    "with rasterio.open(\"../results/input/giri/THA/val_3ss.tif\", 'w',\n",
    "    driver='GTiff',\n",
    "    height=value_3ss.shape[0],\n",
    "    width=value_3ss.shape[1],\n",
    "    count=1,\n",
    "    dtype=value_3ss.dtype,\n",
    "    crs='+proj=latlong',\n",
    "    transform=t_3ss\n",
    ") as ds:\n",
    "    # Write to window\n",
    "    ds.write(value_3ss, indexes=1)"
   ]
  },
  {
   "cell_type": "markdown",
   "metadata": {},
   "source": [
    "## Flood intersection"
   ]
  },
  {
   "cell_type": "code",
   "execution_count": null,
   "metadata": {},
   "outputs": [],
   "source": [
    "with rasterio.open(flood_1ss_tif, 'r') as flood_1ss_ds:\n",
    "    flood_1ss = read_ds(flood_1ss_ds, replace_nodata=True)"
   ]
  },
  {
   "cell_type": "code",
   "execution_count": null,
   "metadata": {},
   "outputs": [],
   "source": [
    "flood_1ss_ds.transform"
   ]
  },
  {
   "cell_type": "code",
   "execution_count": null,
   "metadata": {},
   "outputs": [],
   "source": [
    "# lon, lat of footprint top left\n",
    "flood_1ss_ul_xy = flood_1ss_ds.transform * (0,0)\n",
    "# col, row in value_3ss\n",
    "t_3ss_ul_cr = to_int(~t_3ss * (flood_1ss_ul_xy))\n",
    "# lon, lat of that pixel - this is our new top left\n",
    "footprint_ul_xy_3ss = t_3ss * t_3ss_ul_cr\n",
    "# col, row in flood_1ss\n",
    "flood_1ss_ul_cr = to_int(~flood_1ss_ds.transform * footprint_ul_xy_3ss)\n",
    "# lon, lat of that flood_1ss pixel - new top left for 1ss purposes (tiny bit offset)\n",
    "ul_xy_1ss = flood_1ss_ds.transform * flood_1ss_ul_cr\n",
    "flood_1ss_ul_xy, footprint_ul_xy_3ss, ul_xy_1ss\n",
    "\n",
    "# TODO should new top left be greater, not less, in both x and y values?"
   ]
  },
  {
   "cell_type": "code",
   "execution_count": null,
   "metadata": {},
   "outputs": [],
   "source": [
    "# clip to match coarser array extent\n",
    "flood_1ss_clipped = clip_array(flood_1ss, 3)\n",
    "flood_1ss_height, flood_1ss_width = flood_1ss_clipped.shape"
   ]
  },
  {
   "cell_type": "code",
   "execution_count": null,
   "metadata": {},
   "outputs": [],
   "source": [
    "# lon, lat of footprint lower right\n",
    "flood_1ss_lr_xy = flood_1ss_ds.transform * (flood_1ss_width, flood_1ss_height)\n",
    "# col, row in value_3ss\n",
    "t_3ss_lr_cr = to_int(~t_3ss * (flood_1ss_lr_xy))"
   ]
  },
  {
   "cell_type": "code",
   "execution_count": null,
   "metadata": {},
   "outputs": [],
   "source": [
    "ulc, ulr = t_3ss_ul_cr\n",
    "lrc, lrr = t_3ss_lr_cr\n",
    "footprint_value_3ss = value_3ss[ulr:lrr, ulc:lrc]\n",
    "\n",
    "footprint_value_1ss = repeat_2d(footprint_value_3ss, 3) / 9"
   ]
  },
  {
   "cell_type": "code",
   "execution_count": null,
   "metadata": {},
   "outputs": [],
   "source": [
    "building_flood_depth_damage_curve = PiecewiseLinearDamageCurve.from_csv(\n",
    "    \"../bundled_data/damage_curves/flood/residential_asia.csv\",\n",
    "    intensity_col=\"inundation_depth_(m)\",\n",
    "    damage_col=\"damage_fraction\")"
   ]
  },
  {
   "cell_type": "code",
   "execution_count": null,
   "metadata": {},
   "outputs": [],
   "source": [
    "if footprint_value_1ss.shape != flood_1ss_clipped.shape:\n",
    "    print(\"CHKS\", footprint_value_1ss.shape, flood_1ss_clipped.shape)\n",
    "    assert False\n",
    "\n",
    "damage_fraction_1ss = building_flood_depth_damage_curve.damage_fraction(flood_1ss_clipped)\n",
    "\n",
    "damage_value_1ss = footprint_value_1ss * damage_fraction_1ss"
   ]
  },
  {
   "cell_type": "code",
   "execution_count": null,
   "metadata": {},
   "outputs": [],
   "source": [
    "# Adapt transform to new top-left and resolution\n",
    "a,b,c,d,e,f = flood_1ss_ds.transform[:6]\n",
    "t_1ss = Affine(\n",
    "    a,\n",
    "    b,\n",
    "    ul_xy_1ss[0],\n",
    "    d,\n",
    "    e,\n",
    "    ul_xy_1ss[1]\n",
    ")\n",
    "t_1ss"
   ]
  },
  {
   "cell_type": "code",
   "execution_count": null,
   "metadata": {},
   "outputs": [],
   "source": [
    "with rasterio.open(\"../results/input/giri/THA/dmg_frac_1ss.tif\", 'w',\n",
    "    driver='GTiff',\n",
    "    height=damage_fraction_1ss.shape[0],\n",
    "    width=damage_fraction_1ss.shape[1],\n",
    "    count=1,\n",
    "    dtype=damage_fraction_1ss.dtype,\n",
    "    crs='+proj=latlong',\n",
    "    transform=t_1ss\n",
    ") as ds:\n",
    "    ds.write(damage_fraction_1ss, indexes=1)"
   ]
  },
  {
   "cell_type": "code",
   "execution_count": null,
   "metadata": {},
   "outputs": [],
   "source": [
    "with rasterio.open(\"../results/input/giri/THA/dmg_val_1ss.tif\", 'w',\n",
    "    driver='GTiff',\n",
    "    height=damage_value_1ss.shape[0],\n",
    "    width=damage_value_1ss.shape[1],\n",
    "    count=1,\n",
    "    dtype=damage_value_1ss.dtype,\n",
    "    crs='+proj=latlong',\n",
    "    transform=t_1ss\n",
    ") as ds:\n",
    "    ds.write(damage_value_1ss, indexes=1)"
   ]
  },
  {
   "cell_type": "code",
   "execution_count": null,
   "metadata": {},
   "outputs": [],
   "source": [
    "damage_value_1ss.sum() / 1e9"
   ]
  },
  {
   "cell_type": "code",
   "execution_count": null,
   "metadata": {},
   "outputs": [],
   "source": [
    "value_150ss.sum() / 1e9, value_3ss.sum() / 1e9"
   ]
  },
  {
   "cell_type": "code",
   "execution_count": null,
   "metadata": {},
   "outputs": [],
   "source": [
    "footprint_value_3ss.sum() / 1e9, footprint_value_1ss.sum() / 1e9"
   ]
  },
  {
   "cell_type": "code",
   "execution_count": null,
   "metadata": {},
   "outputs": [],
   "source": [
    "with rasterio.open(\"../results/input/giri/THA/nres_dmg_val_1ss.tif\") as nres_dmg_val_1ss_ds:\n",
    "    nres_dmg_val_1ss = read_ds(nres_dmg_val_1ss_ds)\n",
    "nres_dmg_val_1ss.sum() / 1e9"
   ]
  },
  {
   "cell_type": "code",
   "execution_count": null,
   "metadata": {},
   "outputs": [],
   "source": [
    "\"\"\"\n",
    "ADM1 damage values:\n",
    "\n",
    "    exactextract \\\n",
    "        -p ../../admin-boundaries/tha_adm1.shp \\\n",
    "        -r dmg_val_1ss.tif \\\n",
    "        -f GID_1 \\\n",
    "        -s sum \\\n",
    "        -o dmg_val_1ss.csv\n",
    "\n",
    "ADM1 total built volume:\n",
    "\n",
    "    exactextract \\\n",
    "        -p ../../admin-boundaries/tha_adm1.shp \\\n",
    "        -r ../../ghsl/THA/GHS_BUILT_V_E2020_GLOBE_R2023A_4326_3ss_V1_0__THA.tif \\\n",
    "        -f GID_1 \\\n",
    "        -s sum \\\n",
    "        -o ghs_built_v_3ss.csv\n",
    "\"\"\""
   ]
  },
  {
   "cell_type": "code",
   "execution_count": null,
   "metadata": {},
   "outputs": [],
   "source": [
    "adm1_vol = pandas.read_csv(\"input/giri/THA/ghs_built_v_3ss.csv\") \\\n",
    "    .rename(columns={\"sum\": \"built_volume\"})"
   ]
  },
  {
   "cell_type": "code",
   "execution_count": null,
   "metadata": {},
   "outputs": [],
   "source": [
    "adm1 = geopandas.read_file(\"input/admin-boundaries/tha_adm1.shp\") \\\n",
    "    .merge(adm1_vol, on=\"GID_1\")[[\"GID_1\", \"NAME_1\", \"built_volume\", \"geometry\"]]"
   ]
  },
  {
   "cell_type": "code",
   "execution_count": null,
   "metadata": {},
   "outputs": [],
   "source": [
    "adm1"
   ]
  },
  {
   "cell_type": "code",
   "execution_count": null,
   "metadata": {},
   "outputs": [],
   "source": [
    "with rasterio.open(\"input/ghsl/THA/GHS_BUILT_V_E2020_GLOBE_R2023A_4326_3ss_V1_0__THA.tif\") as vol_3ss_ds:\n",
    "    vol_3ss = vol_3ss_ds.read(1)"
   ]
  },
  {
   "cell_type": "code",
   "execution_count": null,
   "metadata": {},
   "outputs": [],
   "source": [
    "def rasterize(gdf, column, template_ds):\n",
    "    return features.rasterize(\n",
    "        ((f['geometry'], f['properties'][column]) for f in gdf.__geo_interface__['features']),\n",
    "        out_shape=template_ds.shape,\n",
    "        transform=template_ds.transform\n",
    "    )\n",
    "\n",
    "vol_adm1_3ss = rasterize(adm1, 'built_volume', vol_3ss_ds)"
   ]
  },
  {
   "cell_type": "code",
   "execution_count": null,
   "metadata": {},
   "outputs": [],
   "source": [
    "plt.imshow(vol_adm1_3ss)"
   ]
  },
  {
   "cell_type": "code",
   "execution_count": null,
   "metadata": {},
   "outputs": [],
   "source": [
    "adm1_gva = pandas.read_csv(\"/data/incoming/wenz-2023-dose-reported-subnational-output/DOSE_V2_THA.csv\")\n",
    "adm1_gva[\"ag_grp\"] = adm1_gva[\"pop\"] * adm1_gva.ag_grp_pc_usd\n",
    "adm1_gva[\"man_grp\"] = adm1_gva[\"pop\"] * adm1_gva.man_grp_pc_usd\n",
    "adm1_gva[\"serv_grp\"] = adm1_gva[\"pop\"] * adm1_gva.serv_grp_pc_usd\n",
    "\n",
    "adm1_gva = geopandas.read_file(\"input/admin-boundaries/tha_adm1.shp\") \\\n",
    "    .merge(adm1_gva, on=\"GID_1\")[[\"GID_1\", \"NAME_1\", \"ag_grp\", \"man_grp\", \"serv_grp\", \"geometry\"]]"
   ]
  },
  {
   "cell_type": "code",
   "execution_count": null,
   "metadata": {},
   "outputs": [],
   "source": [
    "adm1_gva.drop(columns=\"geometry\").to_csv(\"input/giri/THA/DOSE_V2_THA_rgva.csv\")\n",
    "adm1_gva.to_file(\"input/giri/THA/DOSE_V2_THA_rgva.gpkg\", driver=\"GPKG\")"
   ]
  },
  {
   "cell_type": "code",
   "execution_count": null,
   "metadata": {},
   "outputs": [],
   "source": [
    "adm1_gva_ag_3ss = rasterize(adm1_gva, \"ag_grp\", vol_3ss_ds)\n",
    "adm1_gva_man_3ss = rasterize(adm1_gva, \"man_grp\", vol_3ss_ds)\n",
    "adm1_gva_serv_3ss = rasterize(adm1_gva, \"serv_grp\", vol_3ss_ds)"
   ]
  },
  {
   "cell_type": "code",
   "execution_count": null,
   "metadata": {},
   "outputs": [],
   "source": [
    "def zero_divide(a, b):\n",
    "    return np.divide(a, b, out=np.zeros_like(a, dtype='float64'), where=(b!=0))"
   ]
  },
  {
   "cell_type": "code",
   "execution_count": null,
   "metadata": {},
   "outputs": [],
   "source": [
    "gva_ag_3ss = zero_divide(vol_3ss, vol_adm1_3ss) * adm1_gva_ag_3ss\n",
    "gva_man_3ss = zero_divide(vol_3ss, vol_adm1_3ss) * adm1_gva_man_3ss\n",
    "gva_serv_3ss = zero_divide(vol_3ss, vol_adm1_3ss) * adm1_gva_serv_3ss"
   ]
  },
  {
   "cell_type": "code",
   "execution_count": null,
   "metadata": {},
   "outputs": [],
   "source": [
    "def write_ds(fname, data, transform):\n",
    "    with rasterio.open(fname, 'w',\n",
    "        driver='GTiff',\n",
    "        height=data.shape[0],\n",
    "        width=data.shape[1],\n",
    "        count=1,\n",
    "        dtype=data.dtype,\n",
    "        crs='+proj=latlong',\n",
    "        transform=transform\n",
    "    ) as ds:\n",
    "        ds.write(data, indexes=1)"
   ]
  },
  {
   "cell_type": "code",
   "execution_count": null,
   "metadata": {},
   "outputs": [],
   "source": [
    "write_ds(\"input/giri/THA/gva_ag_3ss.tif\", gva_ag_3ss, vol_3ss_ds.transform)\n",
    "write_ds(\"input/giri/THA/gva_man_3ss.tif\", gva_man_3ss, vol_3ss_ds.transform)\n",
    "write_ds(\"input/giri/THA/gva_serv_3ss.tif\", gva_serv_3ss, vol_3ss_ds.transform)"
   ]
  },
  {
   "cell_type": "code",
   "execution_count": null,
   "metadata": {},
   "outputs": [],
   "source": [
    "gva_ag_1ss = repeat_2d(gva_ag_3ss, 3) / 9\n",
    "gva_man_1ss = repeat_2d(gva_man_3ss, 3) / 9\n",
    "gva_serv_1ss = repeat_2d(gva_serv_3ss, 3) / 9"
   ]
  },
  {
   "cell_type": "code",
   "execution_count": null,
   "metadata": {},
   "outputs": [],
   "source": [
    "# TODO figure out transform, check we're on the right grid, write out to files\n",
    "# TODO compare with damage fraction, write out interruption\n",
    "# TODO calculate per day, sum back to zonal stats\n",
    "# TODO check totals (re-aggregate after disaggregation) maybe rescale???"
   ]
  },
  {
   "cell_type": "code",
   "execution_count": null,
   "metadata": {},
   "outputs": [],
   "source": [
    "a,b,c,d,e,f = vol_3ss_ds.transform[:6]\n",
    "gva_t_1ss = Affine(\n",
    "    a / 3,\n",
    "    b,\n",
    "    c,\n",
    "    d,\n",
    "    e / 3,\n",
    "    f\n",
    ")\n",
    "gva_t_1ss"
   ]
  },
  {
   "cell_type": "code",
   "execution_count": null,
   "metadata": {},
   "outputs": [],
   "source": [
    "write_ds(\"input/giri/THA/gva_ag_1ss.tif\", gva_ag_1ss, gva_t_1ss)\n",
    "write_ds(\"input/giri/THA/gva_man_1ss.tif\", gva_man_1ss, gva_t_1ss)\n",
    "write_ds(\"input/giri/THA/gva_serv_1ss.tif\", gva_serv_1ss, gva_t_1ss)"
   ]
  },
  {
   "cell_type": "code",
   "execution_count": null,
   "metadata": {},
   "outputs": [],
   "source": [
    "\"\"\"\n",
    "gdalwarp -te 99.2393056 13.2781945 101.5259723 17.6765279 gva_man_1ss.tif gva_man_1ss_clipped.tif\n",
    "gdal_calc.py -A nres_dmg_frac_1ss.tif -B gva_man_1ss_clipped.tif --outfile=disruption_man_1ss.tif --calc=\"(A>0.1)*B\"\n",
    "\n",
    "\n",
    "gdalwarp -te 99.2393056 13.2781945 101.5259723 17.6765279 gva_ag_1ss.tif gva_ag_1ss_clipped.tif\n",
    "gdal_calc.py -A nres_dmg_frac_1ss.tif -B gva_ag_1ss_clipped.tif --outfile=disruption_ag_1ss.tif --calc=\"(A>0.1)*B\"\n",
    "\n",
    "\n",
    "gdalwarp -te 99.2393056 13.2781945 101.5259723 17.6765279 gva_serv_1ss.tif gva_serv_1ss_clipped.tif\n",
    "gdal_calc.py -A nres_dmg_frac_1ss.tif -B gva_serv_1ss_clipped.tif --outfile=disruption_serv_1ss.tif --calc=\"(A>0.1)*B\"\n",
    "\n",
    "\n",
    "for sector in serv ag man\n",
    "    exactextract \\\n",
    "        -p ../../admin-boundaries/tha_adm1.shp \\\n",
    "        -r disruption_{$sector}_1ss.tif \\\n",
    "        -f GID_1 \\\n",
    "        -s sum \\\n",
    "        -o disruption_{$sector}_1ss.csv\n",
    "end\n",
    "\"\"\""
   ]
  },
  {
   "cell_type": "code",
   "execution_count": null,
   "metadata": {},
   "outputs": [],
   "source": [
    "\"\"\"\n",
    "gdalwarp -te 99.2393056 13.2781945 101.5259723 17.6765279  ../../footprints/JBA/Raster/TH_FLRF_ChaoPhraya2011_RD_01.tif ../../footprints/JBA/Raster/TH_FLRF_ChaoPhraya2011_RD_01_clipped.tif\n",
    "for sector in serv ag man\n",
    "    gdal_calc.py \\\n",
    "        -A ../../footprints/JBA/Raster/TH_FLRF_ChaoPhraya2011_RD_01_clipped.tif \\\n",
    "        -B gva_{$sector}_1ss_clipped.tif \\\n",
    "        --outfile=disruption_0.3m_{$sector}_1ss.tif \\\n",
    "        --calc=\"(A>0.3)*B\"\n",
    "    exactextract \\\n",
    "        -p ../../admin-boundaries/tha_adm1.shp \\\n",
    "        -r disruption_0.3m_{$sector}_1ss.tif \\\n",
    "        -f GID_1 \\\n",
    "        -s sum \\\n",
    "        -o disruption_0.3m_{$sector}_1ss.csv\n",
    "end\n",
    "\n",
    "for sector in serv ag man\n",
    "    gdal_calc.py \\\n",
    "        -A nres_dmg_frac_1ss.tif \\\n",
    "        -B gva_{$sector}_1ss_clipped.tif \\\n",
    "        --outfile=disruption_dmg_{$sector}_1ss.tif \\\n",
    "        --calc=\"A*B\"\n",
    "    exactextract \\\n",
    "        -p ../../admin-boundaries/tha_adm1.shp \\\n",
    "        -r disruption_dmg_{$sector}_1ss.tif \\\n",
    "        -f GID_1 \\\n",
    "        -s sum \\\n",
    "        -o disruption_dmg_{$sector}_1ss.csv\n",
    "end\n",
    "\"\"\""
   ]
  }
 ],
 "metadata": {
  "kernelspec": {
   "display_name": "Python 3",
   "language": "python",
   "name": "python3"
  },
  "language_info": {
   "codemirror_mode": {
    "name": "ipython",
    "version": 3
   },
   "file_extension": ".py",
   "mimetype": "text/x-python",
   "name": "python",
   "nbconvert_exporter": "python",
   "pygments_lexer": "ipython3",
   "version": "3.10.13"
  }
 },
 "nbformat": 4,
 "nbformat_minor": 2
}
