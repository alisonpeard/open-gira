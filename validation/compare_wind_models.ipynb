{
 "cells": [
  {
   "cell_type": "code",
   "execution_count": 1,
   "id": "ff0b1de4",
   "metadata": {},
   "outputs": [
    {
     "data": {
      "text/plain": [
       "'\\nCompare the output of our wind model (Holland, downscaled with local surface roughness)\\nagainst the footprints of Done et al. (Willougby with numerical boundary layer simulation)\\n'"
      ]
     },
     "execution_count": 1,
     "metadata": {},
     "output_type": "execute_result"
    }
   ],
   "source": [
    "\"\"\"\n",
    "Compare the output of our wind model (Holland, downscaled with local surface roughness)\n",
    "against the footprints of Done et al. (Willougby with numerical boundary layer simulation)\n",
    "\"\"\""
   ]
  },
  {
   "cell_type": "code",
   "execution_count": 2,
   "id": "837f092b",
   "metadata": {
    "scrolled": true
   },
   "outputs": [
    {
     "name": "stderr",
     "output_type": "stream",
     "text": [
      "/tmp/ipykernel_868937/4090681641.py:2: UserWarning: Shapely 2.0 is installed, but because PyGEOS is also installed, GeoPandas will still use PyGEOS by default for now. To force to use and test Shapely 2.0, you have to set the environment variable USE_PYGEOS=0. You can do this before starting the Python process, or in your code before importing geopandas:\n",
      "\n",
      "import os\n",
      "os.environ['USE_PYGEOS'] = '0'\n",
      "import geopandas\n",
      "\n",
      "In a future release, GeoPandas will switch to using Shapely by default. If you are using PyGEOS directly (calling PyGEOS functions on geometries from GeoPandas), this will then stop working and you are encouraged to migrate from PyGEOS to Shapely 2.0 (https://shapely.readthedocs.io/en/latest/migration_pygeos.html).\n",
      "  import geopandas as gpd\n"
     ]
    }
   ],
   "source": [
    "import pandas as pd\n",
    "import geopandas as gpd\n",
    "import xarray as xr\n",
    "import matplotlib\n",
    "import matplotlib.pyplot as plt\n",
    "import matplotlib.ticker as ticker\n",
    "from mpl_toolkits.axes_grid1 import make_axes_locatable\n",
    "import numpy as np\n",
    "import shapely\n",
    "\n",
    "import os\n",
    "from glob import glob"
   ]
  },
  {
   "cell_type": "code",
   "execution_count": 3,
   "id": "f03f2f12",
   "metadata": {},
   "outputs": [],
   "source": [
    "def grid_point_data(point_speeds: gpd.GeoDataFrame, col_name: str, agg_func_name: str, delta: float = 0.1) -> gpd.GeoDataFrame:\n",
    "    \"\"\"\n",
    "    Bin data on a regular grid. Grid will snap to integer number of `delta` from CRS reference.\n",
    "    \n",
    "    Args:\n",
    "        point_speeds: Table of data at point locations\n",
    "        col_name: Data column to rebin\n",
    "        agg_func: Name of function to apply to multiple points within a bin, e.g. max, mean\n",
    "        delta: Width and height of output raster pixels in decimal degrees\n",
    "    \"\"\"\n",
    "    \n",
    "    def n_cells(start: float, end: float, width: float) -> int:\n",
    "        return round((end - start) / width)\n",
    "\n",
    "    # create grid\n",
    "\n",
    "    # unpack and snap extrema to integer number of cells from CRS reference\n",
    "    min_x, min_y, max_x, max_y = map(lambda x: np.ceil(x / delta) * delta, point_speeds.total_bounds)\n",
    "\n",
    "    cells = []\n",
    "    for x0 in np.linspace(min_x, max_x, n_cells(min_x, max_x, delta) + 1):\n",
    "        x1 = x0 + delta\n",
    "        for y0 in np.linspace(min_y, max_y, n_cells(min_y, max_y, delta) + 1):\n",
    "            y1 = y0 + delta\n",
    "            cells.append(shapely.geometry.box(x0, y0, x1, y1))\n",
    "\n",
    "    grid = gpd.GeoDataFrame({\"geometry\": cells})\n",
    "\n",
    "    # associate points with grid\n",
    "    raster = grid.sjoin(point_speeds, how=\"inner\")\n",
    "\n",
    "    # take aggregate of arbitrary number of rows (points) grouped by cell\n",
    "    agg_func = getattr(raster.groupby(raster.index), agg_func_name)\n",
    "    aggregated = agg_func(col_name)\n",
    "    \n",
    "    # merge geometry back in, how=\"right\" for every grid cell, empty or not\n",
    "    rebinned = aggregated.merge(grid[[\"geometry\"]], left_index=True, right_index=True, how=\"right\")\n",
    "    rebinned = rebinned.drop(columns=[\"index_right\"])\n",
    "    \n",
    "    # cast to GeoDataFrame again (merge reverted to DataFrame) and return\n",
    "    return gpd.GeoDataFrame(rebinned)"
   ]
  },
  {
   "cell_type": "code",
   "execution_count": 4,
   "id": "daf9c8f8",
   "metadata": {},
   "outputs": [],
   "source": [
    "def to_xarray(cells: gpd.GeoDataFrame) -> xr.Dataset:\n",
    "    \"\"\"\n",
    "    Given table of polygon cells, export to xarray\n",
    "    \"\"\"\n",
    "    to_export = cells\n",
    "    to_export[\"longitude\"] = to_export.geometry.centroid.x\n",
    "    to_export[\"latitude\"] = to_export.geometry.centroid.y\n",
    "    to_export = to_export.drop(columns=[\"geometry\"])\n",
    "    to_export = to_export.set_index([\"longitude\", \"latitude\"])\n",
    "    return to_export.to_xarray()"
   ]
  },
  {
   "cell_type": "code",
   "execution_count": 5,
   "id": "77bc16b2",
   "metadata": {},
   "outputs": [],
   "source": [
    "def read_kw01(name_year: str, delta: float) -> gpd.GeoDataFrame:\n",
    "    \"\"\"\n",
    "    Read the KW01 data, wrangle as points in GeoDataFrame\n",
    "    \n",
    "    Args:\n",
    "        name_year: Storm identifier, e.g. IRMA_2017 or IKE_2008\n",
    "        delta: Grid resolution to return at in decimal degrees\n",
    "    \"\"\"\n",
    "    \n",
    "    data = pd.concat(\n",
    "        [\n",
    "            pd.read_csv(path, delimiter=r',\\s+')\n",
    "            for path in glob(f\"/home/fred/projects/WRN_TC_footprints/footprints/regions/*/{name_year}/*.txt\")\n",
    "        ]\n",
    "    )\n",
    "    point_speeds = gpd.GeoDataFrame(\n",
    "        {\n",
    "            \"max_wind_speed\": data[\"wind(m/s)\"],\n",
    "            \"geometry\": gpd.points_from_xy(data.lon, data.lat)\n",
    "        }\n",
    "    )\n",
    "\n",
    "    return to_xarray(grid_point_data(point_speeds, \"max_wind_speed\", \"max\", delta=delta))"
   ]
  },
  {
   "cell_type": "code",
   "execution_count": 6,
   "id": "2b78df95",
   "metadata": {},
   "outputs": [],
   "source": [
    "def fig_size(\n",
    "    min_x: float,\n",
    "    min_y: float,\n",
    "    max_x: float,\n",
    "    max_y: float,\n",
    "    max_width_in: float = 16,\n",
    "    max_height_in: float = 9\n",
    ") -> tuple[float, float]:\n",
    "    \"\"\"\n",
    "    Given bounding box, calculate size of figure in inches for equal aspect ratio.\n",
    "    \n",
    "    Returns:\n",
    "        width in inches, height in inches\n",
    "    \"\"\"\n",
    "    x_span = max_x - min_x\n",
    "    y_span = max_y - min_y\n",
    "    aspect_ratio = y_span / x_span\n",
    "    max_plot_width_in = 16\n",
    "    max_plot_height_in = 9\n",
    "\n",
    "    if max_plot_width_in * aspect_ratio < max_plot_height_in:\n",
    "        # tall\n",
    "        x_in = max_plot_width_in\n",
    "        y_in = max_plot_width_in * aspect_ratio\n",
    "\n",
    "    else:\n",
    "        # wide\n",
    "        x_in = max_plot_height_in / aspect_ratio\n",
    "        y_in = max_plot_height_in\n",
    "        \n",
    "    return x_in, y_in"
   ]
  },
  {
   "cell_type": "code",
   "execution_count": 7,
   "id": "1468f85a",
   "metadata": {},
   "outputs": [],
   "source": [
    "def name_year_from_id(tracks: gpd.GeoDataFrame, storm_id: str) -> str:\n",
    "    \"\"\"\n",
    "    Given IBTrACS storm ID, return name_year.\n",
    "    e.g. \"2017242N16333\" -> \"IRMA_2017\"\n",
    "    \"\"\"\n",
    "    storm_track = tracks[tracks.track_id==storm_id]\n",
    "    track_point = storm_track.iloc[0]\n",
    "    name = track_point[\"name\"]\n",
    "    year = track_point[\"year\"]\n",
    "    return f\"{name}_{year}\"\n",
    "\n",
    "def id_from_name_year(tracks: gpd.GeoDataFrame, name_year: str) -> str | None:\n",
    "    \"\"\"\n",
    "    Given name_year, return IBTrACS storm ID.\n",
    "    e.g. \"IRMA_2017\" -> \"2017242N16333\"\n",
    "    \"\"\"\n",
    "    try:\n",
    "        name, year = name_year.split(\"_\")\n",
    "    except ValueError:\n",
    "        print(f\"skipping {name_year}...\")\n",
    "        return None\n",
    "    track = tracks[(tracks.name==name) & (tracks.year==int(year))]\n",
    "    try:\n",
    "        storm_id, = set(track.track_id)\n",
    "    except ValueError:\n",
    "        print(f\"{name_year} is ambiguous: {set(track.track_id)}, skipping...\")\n",
    "        return None\n",
    "    return storm_id"
   ]
  },
  {
   "cell_type": "code",
   "execution_count": 8,
   "id": "3dbcc465",
   "metadata": {},
   "outputs": [],
   "source": [
    "def clip_field_to_buffered_points(\n",
    "    points: gpd.GeoDataFrame,\n",
    "    field: xr.DataArray,\n",
    "    buffer_radius_km: float = 0,\n",
    ") -> xr.Dataset:\n",
    "    \"\"\"\n",
    "    Clip `field` to spatial extent of a buffer around `points`.\n",
    "    \n",
    "    Args:\n",
    "        points: Must include `geometry` column of points.\n",
    "        field: Longitude latitude data array to clip extent of.\n",
    "        buffer_radius_km: Only return field within this proximity to points.\n",
    "    \"\"\"\n",
    "    \n",
    "    # make a buffer around the points\n",
    "    # N.B. using web mercator as geographic CRS, so extremely wrong for non-tropical latitudes\n",
    "    points_m = points.to_crs(3857)\n",
    "    buffer = points_m.buffer(buffer_radius_km * 1000).to_crs(4326)\n",
    "    \n",
    "    # get the unary_union of point buffers\n",
    "    aoi = gpd.GeoDataFrame(geometry=[buffer.unary_union])\n",
    "\n",
    "    # get the field as geopandas points\n",
    "    field_pandas = field.to_dataframe().reset_index()\n",
    "    field_geopandas = gpd.GeoDataFrame(\n",
    "        {\n",
    "            field.name: field_pandas[field.name],\n",
    "            \"geometry\": gpd.points_from_xy(\n",
    "                field_pandas.longitude,\n",
    "                field_pandas.latitude\n",
    "            )\n",
    "        }                                \n",
    "    ).set_crs(4326)\n",
    "\n",
    "    # find the field values within the AOI \n",
    "    clipped_field = field_geopandas.sjoin(aoi, how=\"inner\")[[field.name, \"geometry\"]].copy()\n",
    "    \n",
    "    # recast as xarray field\n",
    "    #clipped_field.geometry = clipped_field.geometry.drop_duplicates()  # shouldn't be necessary?\n",
    "    clipped_field[\"latitude\"] = clipped_field.geometry.y\n",
    "    clipped_field[\"longitude\"] = clipped_field.geometry.x\n",
    "    clipped_field = clipped_field.drop(columns=[\"geometry\"])\n",
    "    clipped_field = clipped_field.set_index([\"longitude\", \"latitude\"])\n",
    "    \n",
    "    return clipped_field.to_xarray()"
   ]
  },
  {
   "cell_type": "code",
   "execution_count": 9,
   "id": "6f408a65",
   "metadata": {},
   "outputs": [],
   "source": [
    "def plot_error(\n",
    "    errors: np.ndarray,\n",
    "    buffer_km: float,\n",
    "    filepath: str\n",
    ") -> None:\n",
    "    \"\"\"\n",
    "    Plot distribution of wind speed errors w.r.t Done et al.\n",
    "    \n",
    "    pooled_ratio: 1D array of ratios to bin.\n",
    "    \"\"\"\n",
    "\n",
    "    f, ax = plt.subplots(figsize=(8, 5))\n",
    "\n",
    "    mean = np.nanmean(errors)\n",
    "    median = np.nanmedian(errors)\n",
    "    n = len(errors)\n",
    "\n",
    "    ax.set_title(\n",
    "        (\n",
    "            \"Wind model validation against Done et al.\\n\"\n",
    "            f\"for pixels < {buffer_km}km from eye\\n\"\n",
    "            f\"$n_{{pixels}}={n}, \\ \\mu={mean:.2f} $ms$^{{-1}}, \\ q_{{50}}={median:.2f}$ms$^{{-1}}$\"\n",
    "        ),\n",
    "        pad=15\n",
    "    )\n",
    "    ax.set_xlabel(\"Errors: downscaled Holland $-$ Done et al. [ms$^{-1}$]\", labelpad=10)\n",
    "    ax.set_ylabel(\"Frequency\", labelpad=10)\n",
    "\n",
    "    frequency, bin_edges, _ = ax.hist(\n",
    "        errors,\n",
    "        bins=np.linspace(-100, 100, 201),\n",
    "        color=\"g\",\n",
    "        alpha=0.5,\n",
    "        density=True,\n",
    "        label=\"PDF\"\n",
    "    )\n",
    "\n",
    "    ax.axvline(mean, color=\"r\", ls=\"--\", label=\"Mean\", alpha=0.5)\n",
    "    miny, maxy = ax.get_ylim()\n",
    "    for probability_level in [0.05, 0.1, 0.25, 0.5, 0.75, 0.9, 0.95]:\n",
    "        quantile = np.quantile(errors, probability_level)\n",
    "        ax.axvline(quantile, color=\"pink\", ls=\"--\", alpha=0.6)\n",
    "        ax.text(\n",
    "            quantile,\n",
    "            0.07 * maxy,\n",
    "            f\"$\\mathrm{{q}}_{{{probability_level:.2f}}}$\",\n",
    "            rotation=-90,\n",
    "            ha=\"center\",\n",
    "            size=9\n",
    "        )\n",
    "\n",
    "    ax.set_xlim(-20, 20)\n",
    "    ax.grid(alpha=0.3)\n",
    "    ax.legend()\n",
    "    plt.subplots_adjust(top=0.8, bottom=0.15)\n",
    "\n",
    "    f.savefig(filepath)\n",
    "    plt.close(f)"
   ]
  },
  {
   "cell_type": "code",
   "execution_count": 10,
   "id": "94156616",
   "metadata": {},
   "outputs": [],
   "source": [
    "def plot_wind_speed_errors(\n",
    "    name_year: str,\n",
    "    storm_id: str,\n",
    "    buffer_km: str,\n",
    "    holland: xr.Dataset,\n",
    "    clipped_error: xr.Dataset,\n",
    "    plot_dir: str,\n",
    ") -> None:\n",
    "\n",
    "    model_arr = holland.sel(\n",
    "        dict(\n",
    "            longitude=clipped_error.longitude,\n",
    "            latitude=clipped_error.latitude\n",
    "        )\n",
    "    ).max_wind_speed.values.ravel()\n",
    "    error_arr = clipped_error.error.values.ravel()\n",
    "\n",
    "    f, (ax_scatter, ax_hist) = plt.subplots(2, 1, sharex=True, gridspec_kw={'height_ratios': [3, 1]})\n",
    "    ax_scatter.scatter(error_arr, model_arr, s=0.1, c=\"k\")\n",
    "    ax_scatter.set_ylabel(\"Model wind speed [ms$^{-1}$]\")\n",
    "    ax_scatter.grid(alpha=0.3)\n",
    "    x_min = -20\n",
    "    x_max = 20\n",
    "    ax_scatter.set_xlim(x_min, x_max)\n",
    "    ax_scatter.axvline(0, color=\"k\", ls=\"--\", alpha=0.8)\n",
    "\n",
    "    frequency, bin_edges, patches = ax_hist.hist(\n",
    "        error_arr,\n",
    "        bins=np.linspace(-50, 50, 150),\n",
    "        density=True,\n",
    "        alpha=1,\n",
    "        color=\"black\"\n",
    "    )\n",
    "    \n",
    "    ax_hist.axvline(0, color=\"k\", ls=\"--\", alpha=0.8)\n",
    "    ax_hist.set_xlim(x_min, x_max)\n",
    "    ax_hist.set_ylabel(\"PDF\", labelpad=20)\n",
    "    ax_hist.set_xlabel(\"Thomas et al. 2023 - Done et al. 2020 [ms$^{-1}$]\")\n",
    "    ax_hist.spines['top'].set_visible(False)\n",
    "    ax_hist.spines['right'].set_visible(False)\n",
    "    ax_hist.spines['left'].set_visible(False)\n",
    "    ax_hist.get_yaxis().set_ticks([])\n",
    "\n",
    "    f.suptitle(f\"{name_year.replace('_', ' ')} / {storm_id}\\nError within {buffer_km}km of eye over land\")\n",
    "    f.savefig(os.path.join(plot_dir, f\"{storm_id}_error_distribution.png\"))"
   ]
  },
  {
   "cell_type": "code",
   "execution_count": 11,
   "id": "9214b29e",
   "metadata": {},
   "outputs": [],
   "source": [
    "def plot_wind_speed_maps(\n",
    "    name_year: str,\n",
    "    storm_id: str,\n",
    "    holland: xr.Dataset,\n",
    "    kw01: xr.Dataset,\n",
    "    error: xr.Dataset,\n",
    "    plot_dir: str,\n",
    ") -> None:\n",
    "\n",
    "    f, (ax_h, ax_kw, ax_error) = plt.subplots(1, 3, figsize=(12,5))\n",
    "\n",
    "    vmax = max(holland.max_wind_speed.max(), kw01.max_wind_speed.max()).values\n",
    "    vmin = min(holland.max_wind_speed.min(), kw01.max_wind_speed.min()).values\n",
    "\n",
    "    xr.plot.pcolormesh(\n",
    "        error,\n",
    "        x=\"longitude\",\n",
    "        ax=ax_error,\n",
    "        cbar_kwargs={'label': \"Thomas $-$ Done [ms$^{-1}$]\"},\n",
    "    )\n",
    "    ax_error.set_title(\"Thomas et al. 2023 - Done et al. 2020\")\n",
    "    xmin, xmax = ax_error.get_xlim()\n",
    "    ymin, ymax = ax_error.get_ylim()\n",
    "\n",
    "    xr.plot.pcolormesh(\n",
    "        holland.max_wind_speed,\n",
    "        x=\"longitude\",\n",
    "        ax=ax_h,\n",
    "        vmax=vmax,\n",
    "        vmin=vmin,\n",
    "        cbar_kwargs={'label': \"Max wind speed [ms$^{-1}$]\"}\n",
    "    )\n",
    "    ax_h.set_title(\"Thomas et al. 2023\\nSurface roughness downscaling\")\n",
    "    ax_h.set_xlim(xmin, xmax)\n",
    "    ax_h.set_ylim(ymin, ymax)\n",
    "\n",
    "    xr.plot.pcolormesh(\n",
    "        kw01.max_wind_speed,\n",
    "        x=\"longitude\",\n",
    "        ax=ax_kw,\n",
    "        vmax=vmax,\n",
    "        vmin=vmin,\n",
    "        cbar_kwargs={'label': \"Max wind speed [ms$^{-1}$]\"}\n",
    "    )\n",
    "    ax_kw.set_title(\"Done et al. 2020\\nKepert & Wang physical boundary layer\")\n",
    "    ax_kw.set_xlim(xmin, xmax)\n",
    "    ax_kw.set_ylim(ymin, ymax)\n",
    "\n",
    "    for ax in (ax_h, ax_kw, ax_error):\n",
    "        ax.set_xlabel(\"Longitude\")\n",
    "        ax.set_ylabel(\"Latitude\")\n",
    "\n",
    "    f.suptitle(f\"{name_year.replace('_', ' ')} / {storm_id}\")\n",
    "    plt.subplots_adjust(left=0.05, right=0.9, wspace=0.4, top=0.85, bottom=0.1)\n",
    "    f.savefig(os.path.join(plot_dir, f\"{storm_id}_max_wind_speed_maps.png\"))"
   ]
  },
  {
   "cell_type": "code",
   "execution_count": 12,
   "id": "9cfebae6",
   "metadata": {},
   "outputs": [
    {
     "name": "stdout",
     "output_type": "stream",
     "text": [
      "skipping NOT_NAMED_2006...\n",
      "TOMAS_2010 is ambiguous: {'2010069S12188', '2010302N09306'}, skipping...\n",
      "skipping NOT_NAMED_2011...\n",
      "skipping NOT_NAMED_2005...\n",
      "skipping NOT_NAMED_2010...\n",
      "skipping NOT_NAMED_2017...\n",
      "skipping NOT_NAMED_2007...\n",
      "skipping NOT_NAMED_2003...\n",
      "skipping NOT_NAMED_2014...\n",
      "skipping NOT_NAMED_2013...\n",
      "HARVEY_2005 is ambiguous: {'2005215N28291', '2005035S14136'}, skipping...\n",
      "skipping NOT_NAMED_2016...\n",
      "JOYCE_2018 is ambiguous: {'2018007S13130', '2018255N37320'}, skipping...\n",
      "skipping NOT_NAMED_2002...\n",
      "PODUL_2019 is ambiguous: {'2019237N08140', '2019236N08143'}, skipping...\n",
      "len(holland_storms_name_year)=1236\n",
      "len(wrn_storms_name_year)=743\n",
      "len(common_storms)=586\n"
     ]
    }
   ],
   "source": [
    "tracks = gpd.read_parquet(\n",
    "    \"/home/fred/projects/open_gira/open-gira/results/storm_tracks/IBTrACS/tracks.geoparquet\"\n",
    ")\n",
    "holland_storms_id = {\n",
    "    path.split(\"/\")[-1] for path in\n",
    "    glob(\"/home/fred/projects/open_gira/open-gira/results/power/by_storm_set/IBTrACS/by_storm/*\")\n",
    "}\n",
    "holland_storms_name_year = {\n",
    "    name_year_from_id(tracks, storm_id) for storm_id in\n",
    "    holland_storms_id\n",
    "}\n",
    "wrn_storms_name_year = {\n",
    "    path.split(\"/\")[-2] for path in\n",
    "    glob(f\"/home/fred/projects/WRN_TC_footprints/footprints/regions/*/*/*.txt\")\n",
    "}\n",
    "common_storms_name_year = holland_storms_name_year & wrn_storms_name_year\n",
    "common_storms_id = [\n",
    "    id_from_name_year(tracks, name_year)\n",
    "    for name_year in common_storms_name_year\n",
    "]\n",
    "common_storms = sorted(filter(bool, common_storms_id))\n",
    "\n",
    "print(f\"{len(holland_storms_name_year)=}\")\n",
    "print(f\"{len(wrn_storms_name_year)=}\")\n",
    "print(f\"{len(common_storms)=}\")"
   ]
  },
  {
   "cell_type": "code",
   "execution_count": 13,
   "id": "7d44d9a7",
   "metadata": {
    "scrolled": true
   },
   "outputs": [
    {
     "name": "stderr",
     "output_type": "stream",
     "text": [
      "/tmp/ipykernel_868937/987684252.py:12: ParserWarning: Falling back to the 'python' engine because the 'c' engine does not support regex separators (separators > 1 char and different from '\\s+' are interpreted as regex); you can avoid this warning by specifying engine='python'.\n",
      "  pd.read_csv(path, delimiter=r',\\s+')\n"
     ]
    },
    {
     "name": "stdout",
     "output_type": "stream",
     "text": [
      "ALLISON_2001\n",
      "ALLISON_2001 has 25.72, skipping plotting...\n"
     ]
    },
    {
     "name": "stderr",
     "output_type": "stream",
     "text": [
      "/home/fred/micromamba/envs/open-gira/lib/python3.10/site-packages/geopandas/geodataframe.py:2061: UserWarning: CRS mismatch between the CRS of left geometries and the CRS of right geometries.\n",
      "Use `to_crs()` to reproject one of the input geometries to match the CRS of the other.\n",
      "\n",
      "Left CRS: EPSG:4326\n",
      "Right CRS: None\n",
      "\n",
      "  return geopandas.sjoin(left_df=self, right_df=df, *args, **kwargs)\n",
      "/tmp/ipykernel_868937/987684252.py:12: ParserWarning: Falling back to the 'python' engine because the 'c' engine does not support regex separators (separators > 1 char and different from '\\s+' are interpreted as regex); you can avoid this warning by specifying engine='python'.\n",
      "  pd.read_csv(path, delimiter=r',\\s+')\n"
     ]
    },
    {
     "name": "stdout",
     "output_type": "stream",
     "text": [
      "YUTU_2001\n",
      "YUTU_2001 has 38.22004631968363, skipping plotting...\n"
     ]
    },
    {
     "name": "stderr",
     "output_type": "stream",
     "text": [
      "/home/fred/micromamba/envs/open-gira/lib/python3.10/site-packages/geopandas/geodataframe.py:2061: UserWarning: CRS mismatch between the CRS of left geometries and the CRS of right geometries.\n",
      "Use `to_crs()` to reproject one of the input geometries to match the CRS of the other.\n",
      "\n",
      "Left CRS: EPSG:4326\n",
      "Right CRS: None\n",
      "\n",
      "  return geopandas.sjoin(left_df=self, right_df=df, *args, **kwargs)\n",
      "/tmp/ipykernel_868937/987684252.py:12: ParserWarning: Falling back to the 'python' engine because the 'c' engine does not support regex separators (separators > 1 char and different from '\\s+' are interpreted as regex); you can avoid this warning by specifying engine='python'.\n",
      "  pd.read_csv(path, delimiter=r',\\s+')\n"
     ]
    },
    {
     "name": "stdout",
     "output_type": "stream",
     "text": [
      "TORAJI_2001\n"
     ]
    },
    {
     "name": "stderr",
     "output_type": "stream",
     "text": [
      "/home/fred/micromamba/envs/open-gira/lib/python3.10/site-packages/geopandas/geodataframe.py:2061: UserWarning: CRS mismatch between the CRS of left geometries and the CRS of right geometries.\n",
      "Use `to_crs()` to reproject one of the input geometries to match the CRS of the other.\n",
      "\n",
      "Left CRS: EPSG:4326\n",
      "Right CRS: None\n",
      "\n",
      "  return geopandas.sjoin(left_df=self, right_df=df, *args, **kwargs)\n",
      "/tmp/ipykernel_868937/987684252.py:12: ParserWarning: Falling back to the 'python' engine because the 'c' engine does not support regex separators (separators > 1 char and different from '\\s+' are interpreted as regex); you can avoid this warning by specifying engine='python'.\n",
      "  pd.read_csv(path, delimiter=r',\\s+')\n"
     ]
    },
    {
     "name": "stdout",
     "output_type": "stream",
     "text": [
      "BARRY_2001\n",
      "BARRY_2001 has 30.863999999999997, skipping plotting...\n"
     ]
    },
    {
     "name": "stderr",
     "output_type": "stream",
     "text": [
      "/home/fred/micromamba/envs/open-gira/lib/python3.10/site-packages/geopandas/geodataframe.py:2061: UserWarning: CRS mismatch between the CRS of left geometries and the CRS of right geometries.\n",
      "Use `to_crs()` to reproject one of the input geometries to match the CRS of the other.\n",
      "\n",
      "Left CRS: EPSG:4326\n",
      "Right CRS: None\n",
      "\n",
      "  return geopandas.sjoin(left_df=self, right_df=df, *args, **kwargs)\n",
      "/tmp/ipykernel_868937/987684252.py:12: ParserWarning: Falling back to the 'python' engine because the 'c' engine does not support regex separators (separators > 1 char and different from '\\s+' are interpreted as regex); you can avoid this warning by specifying engine='python'.\n",
      "  pd.read_csv(path, delimiter=r',\\s+')\n"
     ]
    },
    {
     "name": "stdout",
     "output_type": "stream",
     "text": [
      "PABUK_2001\n"
     ]
    },
    {
     "name": "stderr",
     "output_type": "stream",
     "text": [
      "/home/fred/micromamba/envs/open-gira/lib/python3.10/site-packages/geopandas/geodataframe.py:2061: UserWarning: CRS mismatch between the CRS of left geometries and the CRS of right geometries.\n",
      "Use `to_crs()` to reproject one of the input geometries to match the CRS of the other.\n",
      "\n",
      "Left CRS: EPSG:4326\n",
      "Right CRS: None\n",
      "\n",
      "  return geopandas.sjoin(left_df=self, right_df=df, *args, **kwargs)\n",
      "/tmp/ipykernel_868937/987684252.py:12: ParserWarning: Falling back to the 'python' engine because the 'c' engine does not support regex separators (separators > 1 char and different from '\\s+' are interpreted as regex); you can avoid this warning by specifying engine='python'.\n",
      "  pd.read_csv(path, delimiter=r',\\s+')\n"
     ]
    },
    {
     "name": "stdout",
     "output_type": "stream",
     "text": [
      "DEAN_2001\n",
      "DEAN_2001 has 28.291999999999998, skipping plotting...\n"
     ]
    },
    {
     "name": "stderr",
     "output_type": "stream",
     "text": [
      "/home/fred/micromamba/envs/open-gira/lib/python3.10/site-packages/geopandas/geodataframe.py:2061: UserWarning: CRS mismatch between the CRS of left geometries and the CRS of right geometries.\n",
      "Use `to_crs()` to reproject one of the input geometries to match the CRS of the other.\n",
      "\n",
      "Left CRS: EPSG:4326\n",
      "Right CRS: None\n",
      "\n",
      "  return geopandas.sjoin(left_df=self, right_df=df, *args, **kwargs)\n",
      "/tmp/ipykernel_868937/987684252.py:12: ParserWarning: Falling back to the 'python' engine because the 'c' engine does not support regex separators (separators > 1 char and different from '\\s+' are interpreted as regex); you can avoid this warning by specifying engine='python'.\n",
      "  pd.read_csv(path, delimiter=r',\\s+')\n"
     ]
    },
    {
     "name": "stdout",
     "output_type": "stream",
     "text": [
      "FITOW_2001\n",
      "FITOW_2001 has 20.956774554577542, skipping plotting...\n"
     ]
    },
    {
     "name": "stderr",
     "output_type": "stream",
     "text": [
      "/home/fred/micromamba/envs/open-gira/lib/python3.10/site-packages/geopandas/geodataframe.py:2061: UserWarning: CRS mismatch between the CRS of left geometries and the CRS of right geometries.\n",
      "Use `to_crs()` to reproject one of the input geometries to match the CRS of the other.\n",
      "\n",
      "Left CRS: EPSG:4326\n",
      "Right CRS: None\n",
      "\n",
      "  return geopandas.sjoin(left_df=self, right_df=df, *args, **kwargs)\n",
      "/tmp/ipykernel_868937/987684252.py:12: ParserWarning: Falling back to the 'python' engine because the 'c' engine does not support regex separators (separators > 1 char and different from '\\s+' are interpreted as regex); you can avoid this warning by specifying engine='python'.\n",
      "  pd.read_csv(path, delimiter=r',\\s+')\n"
     ]
    },
    {
     "name": "stdout",
     "output_type": "stream",
     "text": [
      "DANAS_2001\n"
     ]
    },
    {
     "name": "stderr",
     "output_type": "stream",
     "text": [
      "/home/fred/micromamba/envs/open-gira/lib/python3.10/site-packages/geopandas/geodataframe.py:2061: UserWarning: CRS mismatch between the CRS of left geometries and the CRS of right geometries.\n",
      "Use `to_crs()` to reproject one of the input geometries to match the CRS of the other.\n",
      "\n",
      "Left CRS: EPSG:4326\n",
      "Right CRS: None\n",
      "\n",
      "  return geopandas.sjoin(left_df=self, right_df=df, *args, **kwargs)\n",
      "/tmp/ipykernel_868937/987684252.py:12: ParserWarning: Falling back to the 'python' engine because the 'c' engine does not support regex separators (separators > 1 char and different from '\\s+' are interpreted as regex); you can avoid this warning by specifying engine='python'.\n",
      "  pd.read_csv(path, delimiter=r',\\s+')\n",
      "/tmp/ipykernel_868937/987684252.py:12: ParserWarning: Falling back to the 'python' engine because the 'c' engine does not support regex separators (separators > 1 char and different from '\\s+' are interpreted as regex); you can avoid this warning by specifying engine='python'.\n",
      "  pd.read_csv(path, delimiter=r',\\s+')\n"
     ]
    },
    {
     "name": "stdout",
     "output_type": "stream",
     "text": [
      "NARI_2001\n"
     ]
    },
    {
     "name": "stderr",
     "output_type": "stream",
     "text": [
      "/home/fred/micromamba/envs/open-gira/lib/python3.10/site-packages/geopandas/geodataframe.py:2061: UserWarning: CRS mismatch between the CRS of left geometries and the CRS of right geometries.\n",
      "Use `to_crs()` to reproject one of the input geometries to match the CRS of the other.\n",
      "\n",
      "Left CRS: EPSG:4326\n",
      "Right CRS: None\n",
      "\n",
      "  return geopandas.sjoin(left_df=self, right_df=df, *args, **kwargs)\n",
      "/tmp/ipykernel_868937/987684252.py:12: ParserWarning: Falling back to the 'python' engine because the 'c' engine does not support regex separators (separators > 1 char and different from '\\s+' are interpreted as regex); you can avoid this warning by specifying engine='python'.\n",
      "  pd.read_csv(path, delimiter=r',\\s+')\n"
     ]
    },
    {
     "name": "stdout",
     "output_type": "stream",
     "text": [
      "GABRIELLE_2001\n",
      "GABRIELLE_2001 has 36.007999999999996, skipping plotting...\n"
     ]
    },
    {
     "name": "stderr",
     "output_type": "stream",
     "text": [
      "/home/fred/micromamba/envs/open-gira/lib/python3.10/site-packages/geopandas/geodataframe.py:2061: UserWarning: CRS mismatch between the CRS of left geometries and the CRS of right geometries.\n",
      "Use `to_crs()` to reproject one of the input geometries to match the CRS of the other.\n",
      "\n",
      "Left CRS: EPSG:4326\n",
      "Right CRS: None\n",
      "\n",
      "  return geopandas.sjoin(left_df=self, right_df=df, *args, **kwargs)\n",
      "/tmp/ipykernel_868937/987684252.py:12: ParserWarning: Falling back to the 'python' engine because the 'c' engine does not support regex separators (separators > 1 char and different from '\\s+' are interpreted as regex); you can avoid this warning by specifying engine='python'.\n",
      "  pd.read_csv(path, delimiter=r',\\s+')\n"
     ]
    },
    {
     "name": "stdout",
     "output_type": "stream",
     "text": [
      "LEKIMA_2001\n"
     ]
    },
    {
     "name": "stderr",
     "output_type": "stream",
     "text": [
      "/home/fred/micromamba/envs/open-gira/lib/python3.10/site-packages/geopandas/geodataframe.py:2061: UserWarning: CRS mismatch between the CRS of left geometries and the CRS of right geometries.\n",
      "Use `to_crs()` to reproject one of the input geometries to match the CRS of the other.\n",
      "\n",
      "Left CRS: EPSG:4326\n",
      "Right CRS: None\n",
      "\n",
      "  return geopandas.sjoin(left_df=self, right_df=df, *args, **kwargs)\n",
      "/tmp/ipykernel_868937/987684252.py:12: ParserWarning: Falling back to the 'python' engine because the 'c' engine does not support regex separators (separators > 1 char and different from '\\s+' are interpreted as regex); you can avoid this warning by specifying engine='python'.\n",
      "  pd.read_csv(path, delimiter=r',\\s+')\n",
      "/tmp/ipykernel_868937/987684252.py:12: ParserWarning: Falling back to the 'python' engine because the 'c' engine does not support regex separators (separators > 1 char and different from '\\s+' are interpreted as regex); you can avoid this warning by specifying engine='python'.\n",
      "  pd.read_csv(path, delimiter=r',\\s+')\n"
     ]
    },
    {
     "name": "stdout",
     "output_type": "stream",
     "text": [
      "IRIS_2001\n"
     ]
    },
    {
     "name": "stderr",
     "output_type": "stream",
     "text": [
      "/home/fred/micromamba/envs/open-gira/lib/python3.10/site-packages/geopandas/geodataframe.py:2061: UserWarning: CRS mismatch between the CRS of left geometries and the CRS of right geometries.\n",
      "Use `to_crs()` to reproject one of the input geometries to match the CRS of the other.\n",
      "\n",
      "Left CRS: EPSG:4326\n",
      "Right CRS: None\n",
      "\n",
      "  return geopandas.sjoin(left_df=self, right_df=df, *args, **kwargs)\n",
      "/tmp/ipykernel_868937/987684252.py:12: ParserWarning: Falling back to the 'python' engine because the 'c' engine does not support regex separators (separators > 1 char and different from '\\s+' are interpreted as regex); you can avoid this warning by specifying engine='python'.\n",
      "  pd.read_csv(path, delimiter=r',\\s+')\n"
     ]
    },
    {
     "name": "stdout",
     "output_type": "stream",
     "text": [
      "KAREN_2001\n",
      "KAREN_2001 has 36.007999999999996, skipping plotting...\n"
     ]
    },
    {
     "name": "stderr",
     "output_type": "stream",
     "text": [
      "/home/fred/micromamba/envs/open-gira/lib/python3.10/site-packages/geopandas/geodataframe.py:2061: UserWarning: CRS mismatch between the CRS of left geometries and the CRS of right geometries.\n",
      "Use `to_crs()` to reproject one of the input geometries to match the CRS of the other.\n",
      "\n",
      "Left CRS: EPSG:4326\n",
      "Right CRS: None\n",
      "\n",
      "  return geopandas.sjoin(left_df=self, right_df=df, *args, **kwargs)\n",
      "/tmp/ipykernel_868937/987684252.py:12: ParserWarning: Falling back to the 'python' engine because the 'c' engine does not support regex separators (separators > 1 char and different from '\\s+' are interpreted as regex); you can avoid this warning by specifying engine='python'.\n",
      "  pd.read_csv(path, delimiter=r',\\s+')\n",
      "/tmp/ipykernel_868937/987684252.py:12: ParserWarning: Falling back to the 'python' engine because the 'c' engine does not support regex separators (separators > 1 char and different from '\\s+' are interpreted as regex); you can avoid this warning by specifying engine='python'.\n",
      "  pd.read_csv(path, delimiter=r',\\s+')\n"
     ]
    },
    {
     "name": "stdout",
     "output_type": "stream",
     "text": [
      "MICHELLE_2001\n"
     ]
    },
    {
     "name": "stderr",
     "output_type": "stream",
     "text": [
      "/home/fred/micromamba/envs/open-gira/lib/python3.10/site-packages/geopandas/geodataframe.py:2061: UserWarning: CRS mismatch between the CRS of left geometries and the CRS of right geometries.\n",
      "Use `to_crs()` to reproject one of the input geometries to match the CRS of the other.\n",
      "\n",
      "Left CRS: EPSG:4326\n",
      "Right CRS: None\n",
      "\n",
      "  return geopandas.sjoin(left_df=self, right_df=df, *args, **kwargs)\n",
      "/tmp/ipykernel_868937/987684252.py:12: ParserWarning: Falling back to the 'python' engine because the 'c' engine does not support regex separators (separators > 1 char and different from '\\s+' are interpreted as regex); you can avoid this warning by specifying engine='python'.\n",
      "  pd.read_csv(path, delimiter=r',\\s+')\n",
      "/tmp/ipykernel_868937/987684252.py:12: ParserWarning: Falling back to the 'python' engine because the 'c' engine does not support regex separators (separators > 1 char and different from '\\s+' are interpreted as regex); you can avoid this warning by specifying engine='python'.\n",
      "  pd.read_csv(path, delimiter=r',\\s+')\n"
     ]
    },
    {
     "name": "stdout",
     "output_type": "stream",
     "text": [
      "LINGLING_2001\n"
     ]
    },
    {
     "name": "stderr",
     "output_type": "stream",
     "text": [
      "/home/fred/micromamba/envs/open-gira/lib/python3.10/site-packages/geopandas/geodataframe.py:2061: UserWarning: CRS mismatch between the CRS of left geometries and the CRS of right geometries.\n",
      "Use `to_crs()` to reproject one of the input geometries to match the CRS of the other.\n",
      "\n",
      "Left CRS: EPSG:4326\n",
      "Right CRS: None\n",
      "\n",
      "  return geopandas.sjoin(left_df=self, right_df=df, *args, **kwargs)\n",
      "/tmp/ipykernel_868937/987684252.py:12: ParserWarning: Falling back to the 'python' engine because the 'c' engine does not support regex separators (separators > 1 char and different from '\\s+' are interpreted as regex); you can avoid this warning by specifying engine='python'.\n",
      "  pd.read_csv(path, delimiter=r',\\s+')\n"
     ]
    },
    {
     "name": "stdout",
     "output_type": "stream",
     "text": [
      "BERNIE_2002\n",
      "BERNIE_2002 has 26.226606060606056, skipping plotting...\n"
     ]
    },
    {
     "name": "stderr",
     "output_type": "stream",
     "text": [
      "/home/fred/micromamba/envs/open-gira/lib/python3.10/site-packages/geopandas/geodataframe.py:2061: UserWarning: CRS mismatch between the CRS of left geometries and the CRS of right geometries.\n",
      "Use `to_crs()` to reproject one of the input geometries to match the CRS of the other.\n",
      "\n",
      "Left CRS: EPSG:4326\n",
      "Right CRS: None\n",
      "\n",
      "  return geopandas.sjoin(left_df=self, right_df=df, *args, **kwargs)\n",
      "/tmp/ipykernel_868937/987684252.py:12: ParserWarning: Falling back to the 'python' engine because the 'c' engine does not support regex separators (separators > 1 char and different from '\\s+' are interpreted as regex); you can avoid this warning by specifying engine='python'.\n",
      "  pd.read_csv(path, delimiter=r',\\s+')\n"
     ]
    },
    {
     "name": "stdout",
     "output_type": "stream",
     "text": [
      "TAPAH_2002\n",
      "TAPAH_2002 has 21.47117455457754, skipping plotting...\n"
     ]
    },
    {
     "name": "stderr",
     "output_type": "stream",
     "text": [
      "/home/fred/micromamba/envs/open-gira/lib/python3.10/site-packages/geopandas/geodataframe.py:2061: UserWarning: CRS mismatch between the CRS of left geometries and the CRS of right geometries.\n",
      "Use `to_crs()` to reproject one of the input geometries to match the CRS of the other.\n",
      "\n",
      "Left CRS: EPSG:4326\n",
      "Right CRS: None\n",
      "\n",
      "  return geopandas.sjoin(left_df=self, right_df=df, *args, **kwargs)\n",
      "/tmp/ipykernel_868937/987684252.py:12: ParserWarning: Falling back to the 'python' engine because the 'c' engine does not support regex separators (separators > 1 char and different from '\\s+' are interpreted as regex); you can avoid this warning by specifying engine='python'.\n",
      "  pd.read_csv(path, delimiter=r',\\s+')\n"
     ]
    },
    {
     "name": "stdout",
     "output_type": "stream",
     "text": [
      "CHRIS_2002\n"
     ]
    },
    {
     "name": "stderr",
     "output_type": "stream",
     "text": [
      "/home/fred/micromamba/envs/open-gira/lib/python3.10/site-packages/geopandas/geodataframe.py:2061: UserWarning: CRS mismatch between the CRS of left geometries and the CRS of right geometries.\n",
      "Use `to_crs()` to reproject one of the input geometries to match the CRS of the other.\n",
      "\n",
      "Left CRS: EPSG:4326\n",
      "Right CRS: None\n",
      "\n",
      "  return geopandas.sjoin(left_df=self, right_df=df, *args, **kwargs)\n",
      "/tmp/ipykernel_868937/987684252.py:12: ParserWarning: Falling back to the 'python' engine because the 'c' engine does not support regex separators (separators > 1 char and different from '\\s+' are interpreted as regex); you can avoid this warning by specifying engine='python'.\n",
      "  pd.read_csv(path, delimiter=r',\\s+')\n"
     ]
    },
    {
     "name": "stdout",
     "output_type": "stream",
     "text": [
      "GUILLAUME_2002\n"
     ]
    },
    {
     "name": "stderr",
     "output_type": "stream",
     "text": [
      "/home/fred/micromamba/envs/open-gira/lib/python3.10/site-packages/geopandas/geodataframe.py:2061: UserWarning: CRS mismatch between the CRS of left geometries and the CRS of right geometries.\n",
      "Use `to_crs()` to reproject one of the input geometries to match the CRS of the other.\n",
      "\n",
      "Left CRS: EPSG:4326\n",
      "Right CRS: None\n",
      "\n",
      "  return geopandas.sjoin(left_df=self, right_df=df, *args, **kwargs)\n",
      "/tmp/ipykernel_868937/987684252.py:12: ParserWarning: Falling back to the 'python' engine because the 'c' engine does not support regex separators (separators > 1 char and different from '\\s+' are interpreted as regex); you can avoid this warning by specifying engine='python'.\n",
      "  pd.read_csv(path, delimiter=r',\\s+')\n"
     ]
    },
    {
     "name": "stdout",
     "output_type": "stream",
     "text": [
      "HARY_2002\n"
     ]
    },
    {
     "name": "stderr",
     "output_type": "stream",
     "text": [
      "/home/fred/micromamba/envs/open-gira/lib/python3.10/site-packages/geopandas/geodataframe.py:2061: UserWarning: CRS mismatch between the CRS of left geometries and the CRS of right geometries.\n",
      "Use `to_crs()` to reproject one of the input geometries to match the CRS of the other.\n",
      "\n",
      "Left CRS: EPSG:4326\n",
      "Right CRS: None\n",
      "\n",
      "  return geopandas.sjoin(left_df=self, right_df=df, *args, **kwargs)\n",
      "/tmp/ipykernel_868937/987684252.py:12: ParserWarning: Falling back to the 'python' engine because the 'c' engine does not support regex separators (separators > 1 char and different from '\\s+' are interpreted as regex); you can avoid this warning by specifying engine='python'.\n",
      "  pd.read_csv(path, delimiter=r',\\s+')\n"
     ]
    },
    {
     "name": "stdout",
     "output_type": "stream",
     "text": [
      "BONNIE_2002\n",
      "BONNIE_2002 has 26.09995454545454, skipping plotting...\n"
     ]
    },
    {
     "name": "stderr",
     "output_type": "stream",
     "text": [
      "/home/fred/micromamba/envs/open-gira/lib/python3.10/site-packages/geopandas/geodataframe.py:2061: UserWarning: CRS mismatch between the CRS of left geometries and the CRS of right geometries.\n",
      "Use `to_crs()` to reproject one of the input geometries to match the CRS of the other.\n",
      "\n",
      "Left CRS: EPSG:4326\n",
      "Right CRS: None\n",
      "\n",
      "  return geopandas.sjoin(left_df=self, right_df=df, *args, **kwargs)\n",
      "/tmp/ipykernel_868937/987684252.py:12: ParserWarning: Falling back to the 'python' engine because the 'c' engine does not support regex separators (separators > 1 char and different from '\\s+' are interpreted as regex); you can avoid this warning by specifying engine='python'.\n",
      "  pd.read_csv(path, delimiter=r',\\s+')\n"
     ]
    },
    {
     "name": "stdout",
     "output_type": "stream",
     "text": [
      "KESINY_2002\n",
      "KESINY_2002 has 37.08940909090909, skipping plotting...\n"
     ]
    },
    {
     "name": "stderr",
     "output_type": "stream",
     "text": [
      "/home/fred/micromamba/envs/open-gira/lib/python3.10/site-packages/geopandas/geodataframe.py:2061: UserWarning: CRS mismatch between the CRS of left geometries and the CRS of right geometries.\n",
      "Use `to_crs()` to reproject one of the input geometries to match the CRS of the other.\n",
      "\n",
      "Left CRS: EPSG:4326\n",
      "Right CRS: None\n",
      "\n",
      "  return geopandas.sjoin(left_df=self, right_df=df, *args, **kwargs)\n",
      "/tmp/ipykernel_868937/987684252.py:12: ParserWarning: Falling back to the 'python' engine because the 'c' engine does not support regex separators (separators > 1 char and different from '\\s+' are interpreted as regex); you can avoid this warning by specifying engine='python'.\n",
      "  pd.read_csv(path, delimiter=r',\\s+')\n"
     ]
    },
    {
     "name": "stdout",
     "output_type": "stream",
     "text": [
      "NOGURI_2002\n",
      "NOGURI_2002 has 38.9168371782115, skipping plotting...\n"
     ]
    },
    {
     "name": "stderr",
     "output_type": "stream",
     "text": [
      "/home/fred/micromamba/envs/open-gira/lib/python3.10/site-packages/geopandas/geodataframe.py:2061: UserWarning: CRS mismatch between the CRS of left geometries and the CRS of right geometries.\n",
      "Use `to_crs()` to reproject one of the input geometries to match the CRS of the other.\n",
      "\n",
      "Left CRS: EPSG:4326\n",
      "Right CRS: None\n",
      "\n",
      "  return geopandas.sjoin(left_df=self, right_df=df, *args, **kwargs)\n",
      "/tmp/ipykernel_868937/987684252.py:12: ParserWarning: Falling back to the 'python' engine because the 'c' engine does not support regex separators (separators > 1 char and different from '\\s+' are interpreted as regex); you can avoid this warning by specifying engine='python'.\n",
      "  pd.read_csv(path, delimiter=r',\\s+')\n"
     ]
    },
    {
     "name": "stdout",
     "output_type": "stream",
     "text": [
      "CHATAAN_2002\n"
     ]
    },
    {
     "name": "stderr",
     "output_type": "stream",
     "text": [
      "/home/fred/micromamba/envs/open-gira/lib/python3.10/site-packages/geopandas/geodataframe.py:2061: UserWarning: CRS mismatch between the CRS of left geometries and the CRS of right geometries.\n",
      "Use `to_crs()` to reproject one of the input geometries to match the CRS of the other.\n",
      "\n",
      "Left CRS: EPSG:4326\n",
      "Right CRS: None\n",
      "\n",
      "  return geopandas.sjoin(left_df=self, right_df=df, *args, **kwargs)\n",
      "/tmp/ipykernel_868937/987684252.py:12: ParserWarning: Falling back to the 'python' engine because the 'c' engine does not support regex separators (separators > 1 char and different from '\\s+' are interpreted as regex); you can avoid this warning by specifying engine='python'.\n",
      "  pd.read_csv(path, delimiter=r',\\s+')\n"
     ]
    },
    {
     "name": "stdout",
     "output_type": "stream",
     "text": [
      "RAMMASUN_2002\n"
     ]
    },
    {
     "name": "stderr",
     "output_type": "stream",
     "text": [
      "/home/fred/micromamba/envs/open-gira/lib/python3.10/site-packages/geopandas/geodataframe.py:2061: UserWarning: CRS mismatch between the CRS of left geometries and the CRS of right geometries.\n",
      "Use `to_crs()` to reproject one of the input geometries to match the CRS of the other.\n",
      "\n",
      "Left CRS: EPSG:4326\n",
      "Right CRS: None\n",
      "\n",
      "  return geopandas.sjoin(left_df=self, right_df=df, *args, **kwargs)\n",
      "/tmp/ipykernel_868937/987684252.py:12: ParserWarning: Falling back to the 'python' engine because the 'c' engine does not support regex separators (separators > 1 char and different from '\\s+' are interpreted as regex); you can avoid this warning by specifying engine='python'.\n",
      "  pd.read_csv(path, delimiter=r',\\s+')\n"
     ]
    },
    {
     "name": "stdout",
     "output_type": "stream",
     "text": [
      "HALONG_2002\n"
     ]
    },
    {
     "name": "stderr",
     "output_type": "stream",
     "text": [
      "/home/fred/micromamba/envs/open-gira/lib/python3.10/site-packages/geopandas/geodataframe.py:2061: UserWarning: CRS mismatch between the CRS of left geometries and the CRS of right geometries.\n",
      "Use `to_crs()` to reproject one of the input geometries to match the CRS of the other.\n",
      "\n",
      "Left CRS: EPSG:4326\n",
      "Right CRS: None\n",
      "\n",
      "  return geopandas.sjoin(left_df=self, right_df=df, *args, **kwargs)\n",
      "/tmp/ipykernel_868937/987684252.py:12: ParserWarning: Falling back to the 'python' engine because the 'c' engine does not support regex separators (separators > 1 char and different from '\\s+' are interpreted as regex); you can avoid this warning by specifying engine='python'.\n",
      "  pd.read_csv(path, delimiter=r',\\s+')\n"
     ]
    },
    {
     "name": "stdout",
     "output_type": "stream",
     "text": [
      "NAKRI_2002\n",
      "NAKRI_2002 has 21.812298946294167, skipping plotting...\n"
     ]
    },
    {
     "name": "stderr",
     "output_type": "stream",
     "text": [
      "/home/fred/micromamba/envs/open-gira/lib/python3.10/site-packages/geopandas/geodataframe.py:2061: UserWarning: CRS mismatch between the CRS of left geometries and the CRS of right geometries.\n",
      "Use `to_crs()` to reproject one of the input geometries to match the CRS of the other.\n",
      "\n",
      "Left CRS: EPSG:4326\n",
      "Right CRS: None\n",
      "\n",
      "  return geopandas.sjoin(left_df=self, right_df=df, *args, **kwargs)\n",
      "/tmp/ipykernel_868937/987684252.py:12: ParserWarning: Falling back to the 'python' engine because the 'c' engine does not support regex separators (separators > 1 char and different from '\\s+' are interpreted as regex); you can avoid this warning by specifying engine='python'.\n",
      "  pd.read_csv(path, delimiter=r',\\s+')\n"
     ]
    },
    {
     "name": "stdout",
     "output_type": "stream",
     "text": [
      "FENGSHEN_2002\n"
     ]
    },
    {
     "name": "stderr",
     "output_type": "stream",
     "text": [
      "/home/fred/micromamba/envs/open-gira/lib/python3.10/site-packages/geopandas/geodataframe.py:2061: UserWarning: CRS mismatch between the CRS of left geometries and the CRS of right geometries.\n",
      "Use `to_crs()` to reproject one of the input geometries to match the CRS of the other.\n",
      "\n",
      "Left CRS: EPSG:4326\n",
      "Right CRS: None\n",
      "\n",
      "  return geopandas.sjoin(left_df=self, right_df=df, *args, **kwargs)\n",
      "/tmp/ipykernel_868937/987684252.py:12: ParserWarning: Falling back to the 'python' engine because the 'c' engine does not support regex separators (separators > 1 char and different from '\\s+' are interpreted as regex); you can avoid this warning by specifying engine='python'.\n",
      "  pd.read_csv(path, delimiter=r',\\s+')\n"
     ]
    },
    {
     "name": "stdout",
     "output_type": "stream",
     "text": [
      "FUNG-WONG_2002\n",
      "FUNG-WONG_2002 has 37.696098520219415, skipping plotting...\n"
     ]
    },
    {
     "name": "stderr",
     "output_type": "stream",
     "text": [
      "/home/fred/micromamba/envs/open-gira/lib/python3.10/site-packages/geopandas/geodataframe.py:2061: UserWarning: CRS mismatch between the CRS of left geometries and the CRS of right geometries.\n",
      "Use `to_crs()` to reproject one of the input geometries to match the CRS of the other.\n",
      "\n",
      "Left CRS: EPSG:4326\n",
      "Right CRS: None\n",
      "\n",
      "  return geopandas.sjoin(left_df=self, right_df=df, *args, **kwargs)\n",
      "/tmp/ipykernel_868937/987684252.py:12: ParserWarning: Falling back to the 'python' engine because the 'c' engine does not support regex separators (separators > 1 char and different from '\\s+' are interpreted as regex); you can avoid this warning by specifying engine='python'.\n",
      "  pd.read_csv(path, delimiter=r',\\s+')\n"
     ]
    },
    {
     "name": "stdout",
     "output_type": "stream",
     "text": [
      "KAMMURI_2002\n",
      "KAMMURI_2002 has 28.903328210230892, skipping plotting...\n"
     ]
    },
    {
     "name": "stderr",
     "output_type": "stream",
     "text": [
      "/home/fred/micromamba/envs/open-gira/lib/python3.10/site-packages/geopandas/geodataframe.py:2061: UserWarning: CRS mismatch between the CRS of left geometries and the CRS of right geometries.\n",
      "Use `to_crs()` to reproject one of the input geometries to match the CRS of the other.\n",
      "\n",
      "Left CRS: EPSG:4326\n",
      "Right CRS: None\n",
      "\n",
      "  return geopandas.sjoin(left_df=self, right_df=df, *args, **kwargs)\n",
      "/tmp/ipykernel_868937/987684252.py:12: ParserWarning: Falling back to the 'python' engine because the 'c' engine does not support regex separators (separators > 1 char and different from '\\s+' are interpreted as regex); you can avoid this warning by specifying engine='python'.\n",
      "  pd.read_csv(path, delimiter=r',\\s+')\n"
     ]
    },
    {
     "name": "stdout",
     "output_type": "stream",
     "text": [
      "VONGFONG_2002\n",
      "VONGFONG_2002 has 25.622069434876895, skipping plotting...\n"
     ]
    },
    {
     "name": "stderr",
     "output_type": "stream",
     "text": [
      "/home/fred/micromamba/envs/open-gira/lib/python3.10/site-packages/geopandas/geodataframe.py:2061: UserWarning: CRS mismatch between the CRS of left geometries and the CRS of right geometries.\n",
      "Use `to_crs()` to reproject one of the input geometries to match the CRS of the other.\n",
      "\n",
      "Left CRS: EPSG:4326\n",
      "Right CRS: None\n",
      "\n",
      "  return geopandas.sjoin(left_df=self, right_df=df, *args, **kwargs)\n",
      "/tmp/ipykernel_868937/987684252.py:12: ParserWarning: Falling back to the 'python' engine because the 'c' engine does not support regex separators (separators > 1 char and different from '\\s+' are interpreted as regex); you can avoid this warning by specifying engine='python'.\n",
      "  pd.read_csv(path, delimiter=r',\\s+')\n"
     ]
    },
    {
     "name": "stdout",
     "output_type": "stream",
     "text": [
      "RUSA_2002\n"
     ]
    },
    {
     "name": "stderr",
     "output_type": "stream",
     "text": [
      "/home/fred/micromamba/envs/open-gira/lib/python3.10/site-packages/geopandas/geodataframe.py:2061: UserWarning: CRS mismatch between the CRS of left geometries and the CRS of right geometries.\n",
      "Use `to_crs()` to reproject one of the input geometries to match the CRS of the other.\n",
      "\n",
      "Left CRS: EPSG:4326\n",
      "Right CRS: None\n",
      "\n",
      "  return geopandas.sjoin(left_df=self, right_df=df, *args, **kwargs)\n",
      "/tmp/ipykernel_868937/987684252.py:12: ParserWarning: Falling back to the 'python' engine because the 'c' engine does not support regex separators (separators > 1 char and different from '\\s+' are interpreted as regex); you can avoid this warning by specifying engine='python'.\n",
      "  pd.read_csv(path, delimiter=r',\\s+')\n"
     ]
    },
    {
     "name": "stdout",
     "output_type": "stream",
     "text": [
      "SINLAKU_2002\n"
     ]
    },
    {
     "name": "stderr",
     "output_type": "stream",
     "text": [
      "/home/fred/micromamba/envs/open-gira/lib/python3.10/site-packages/geopandas/geodataframe.py:2061: UserWarning: CRS mismatch between the CRS of left geometries and the CRS of right geometries.\n",
      "Use `to_crs()` to reproject one of the input geometries to match the CRS of the other.\n",
      "\n",
      "Left CRS: EPSG:4326\n",
      "Right CRS: None\n",
      "\n",
      "  return geopandas.sjoin(left_df=self, right_df=df, *args, **kwargs)\n",
      "/tmp/ipykernel_868937/987684252.py:12: ParserWarning: Falling back to the 'python' engine because the 'c' engine does not support regex separators (separators > 1 char and different from '\\s+' are interpreted as regex); you can avoid this warning by specifying engine='python'.\n",
      "  pd.read_csv(path, delimiter=r',\\s+')\n",
      "/tmp/ipykernel_868937/987684252.py:12: ParserWarning: Falling back to the 'python' engine because the 'c' engine does not support regex separators (separators > 1 char and different from '\\s+' are interpreted as regex); you can avoid this warning by specifying engine='python'.\n",
      "  pd.read_csv(path, delimiter=r',\\s+')\n"
     ]
    },
    {
     "name": "stdout",
     "output_type": "stream",
     "text": [
      "EDOUARD_2002\n",
      "EDOUARD_2002 has 28.291999999999998, skipping plotting...\n"
     ]
    },
    {
     "name": "stderr",
     "output_type": "stream",
     "text": [
      "/home/fred/micromamba/envs/open-gira/lib/python3.10/site-packages/geopandas/geodataframe.py:2061: UserWarning: CRS mismatch between the CRS of left geometries and the CRS of right geometries.\n",
      "Use `to_crs()` to reproject one of the input geometries to match the CRS of the other.\n",
      "\n",
      "Left CRS: EPSG:4326\n",
      "Right CRS: None\n",
      "\n",
      "  return geopandas.sjoin(left_df=self, right_df=df, *args, **kwargs)\n",
      "/tmp/ipykernel_868937/987684252.py:12: ParserWarning: Falling back to the 'python' engine because the 'c' engine does not support regex separators (separators > 1 char and different from '\\s+' are interpreted as regex); you can avoid this warning by specifying engine='python'.\n",
      "  pd.read_csv(path, delimiter=r',\\s+')\n",
      "/tmp/ipykernel_868937/987684252.py:12: ParserWarning: Falling back to the 'python' engine because the 'c' engine does not support regex separators (separators > 1 char and different from '\\s+' are interpreted as regex); you can avoid this warning by specifying engine='python'.\n",
      "  pd.read_csv(path, delimiter=r',\\s+')\n"
     ]
    },
    {
     "name": "stdout",
     "output_type": "stream",
     "text": [
      "FAY_2002\n",
      "FAY_2002 has 25.72, skipping plotting...\n"
     ]
    },
    {
     "name": "stderr",
     "output_type": "stream",
     "text": [
      "/home/fred/micromamba/envs/open-gira/lib/python3.10/site-packages/geopandas/geodataframe.py:2061: UserWarning: CRS mismatch between the CRS of left geometries and the CRS of right geometries.\n",
      "Use `to_crs()` to reproject one of the input geometries to match the CRS of the other.\n",
      "\n",
      "Left CRS: EPSG:4326\n",
      "Right CRS: None\n",
      "\n",
      "  return geopandas.sjoin(left_df=self, right_df=df, *args, **kwargs)\n",
      "/tmp/ipykernel_868937/987684252.py:12: ParserWarning: Falling back to the 'python' engine because the 'c' engine does not support regex separators (separators > 1 char and different from '\\s+' are interpreted as regex); you can avoid this warning by specifying engine='python'.\n",
      "  pd.read_csv(path, delimiter=r',\\s+')\n"
     ]
    },
    {
     "name": "stdout",
     "output_type": "stream",
     "text": [
      "HAGUPIT_2002\n",
      "HAGUPIT_2002 has 25.374433639494832, skipping plotting...\n"
     ]
    },
    {
     "name": "stderr",
     "output_type": "stream",
     "text": [
      "/home/fred/micromamba/envs/open-gira/lib/python3.10/site-packages/geopandas/geodataframe.py:2061: UserWarning: CRS mismatch between the CRS of left geometries and the CRS of right geometries.\n",
      "Use `to_crs()` to reproject one of the input geometries to match the CRS of the other.\n",
      "\n",
      "Left CRS: EPSG:4326\n",
      "Right CRS: None\n",
      "\n",
      "  return geopandas.sjoin(left_df=self, right_df=df, *args, **kwargs)\n",
      "/tmp/ipykernel_868937/987684252.py:12: ParserWarning: Falling back to the 'python' engine because the 'c' engine does not support regex separators (separators > 1 char and different from '\\s+' are interpreted as regex); you can avoid this warning by specifying engine='python'.\n",
      "  pd.read_csv(path, delimiter=r',\\s+')\n"
     ]
    },
    {
     "name": "stdout",
     "output_type": "stream",
     "text": [
      "GUSTAV_2002\n"
     ]
    },
    {
     "name": "stderr",
     "output_type": "stream",
     "text": [
      "/home/fred/micromamba/envs/open-gira/lib/python3.10/site-packages/geopandas/geodataframe.py:2061: UserWarning: CRS mismatch between the CRS of left geometries and the CRS of right geometries.\n",
      "Use `to_crs()` to reproject one of the input geometries to match the CRS of the other.\n",
      "\n",
      "Left CRS: EPSG:4326\n",
      "Right CRS: None\n",
      "\n",
      "  return geopandas.sjoin(left_df=self, right_df=df, *args, **kwargs)\n",
      "/tmp/ipykernel_868937/987684252.py:12: ParserWarning: Falling back to the 'python' engine because the 'c' engine does not support regex separators (separators > 1 char and different from '\\s+' are interpreted as regex); you can avoid this warning by specifying engine='python'.\n",
      "  pd.read_csv(path, delimiter=r',\\s+')\n"
     ]
    },
    {
     "name": "stdout",
     "output_type": "stream",
     "text": [
      "HANNA_2002\n",
      "HANNA_2002 has 25.72, skipping plotting...\n"
     ]
    },
    {
     "name": "stderr",
     "output_type": "stream",
     "text": [
      "/home/fred/micromamba/envs/open-gira/lib/python3.10/site-packages/geopandas/geodataframe.py:2061: UserWarning: CRS mismatch between the CRS of left geometries and the CRS of right geometries.\n",
      "Use `to_crs()` to reproject one of the input geometries to match the CRS of the other.\n",
      "\n",
      "Left CRS: EPSG:4326\n",
      "Right CRS: None\n",
      "\n",
      "  return geopandas.sjoin(left_df=self, right_df=df, *args, **kwargs)\n",
      "/tmp/ipykernel_868937/987684252.py:12: ParserWarning: Falling back to the 'python' engine because the 'c' engine does not support regex separators (separators > 1 char and different from '\\s+' are interpreted as regex); you can avoid this warning by specifying engine='python'.\n",
      "  pd.read_csv(path, delimiter=r',\\s+')\n",
      "/tmp/ipykernel_868937/987684252.py:12: ParserWarning: Falling back to the 'python' engine because the 'c' engine does not support regex separators (separators > 1 char and different from '\\s+' are interpreted as regex); you can avoid this warning by specifying engine='python'.\n",
      "  pd.read_csv(path, delimiter=r',\\s+')\n",
      "/tmp/ipykernel_868937/987684252.py:12: ParserWarning: Falling back to the 'python' engine because the 'c' engine does not support regex separators (separators > 1 char and different from '\\s+' are interpreted as regex); you can avoid this warning by specifying engine='python'.\n",
      "  pd.read_csv(path, delimiter=r',\\s+')\n"
     ]
    },
    {
     "name": "stdout",
     "output_type": "stream",
     "text": [
      "ISIDORE_2002\n"
     ]
    },
    {
     "name": "stderr",
     "output_type": "stream",
     "text": [
      "/home/fred/micromamba/envs/open-gira/lib/python3.10/site-packages/geopandas/geodataframe.py:2061: UserWarning: CRS mismatch between the CRS of left geometries and the CRS of right geometries.\n",
      "Use `to_crs()` to reproject one of the input geometries to match the CRS of the other.\n",
      "\n",
      "Left CRS: EPSG:4326\n",
      "Right CRS: None\n",
      "\n",
      "  return geopandas.sjoin(left_df=self, right_df=df, *args, **kwargs)\n",
      "/tmp/ipykernel_868937/987684252.py:12: ParserWarning: Falling back to the 'python' engine because the 'c' engine does not support regex separators (separators > 1 char and different from '\\s+' are interpreted as regex); you can avoid this warning by specifying engine='python'.\n",
      "  pd.read_csv(path, delimiter=r',\\s+')\n"
     ]
    },
    {
     "name": "stdout",
     "output_type": "stream",
     "text": [
      "MEKKHALA_2002\n",
      "MEKKHALA_2002 has 23.778423809159328, skipping plotting...\n"
     ]
    },
    {
     "name": "stderr",
     "output_type": "stream",
     "text": [
      "/home/fred/micromamba/envs/open-gira/lib/python3.10/site-packages/geopandas/geodataframe.py:2061: UserWarning: CRS mismatch between the CRS of left geometries and the CRS of right geometries.\n",
      "Use `to_crs()` to reproject one of the input geometries to match the CRS of the other.\n",
      "\n",
      "Left CRS: EPSG:4326\n",
      "Right CRS: None\n",
      "\n",
      "  return geopandas.sjoin(left_df=self, right_df=df, *args, **kwargs)\n",
      "/tmp/ipykernel_868937/987684252.py:12: ParserWarning: Falling back to the 'python' engine because the 'c' engine does not support regex separators (separators > 1 char and different from '\\s+' are interpreted as regex); you can avoid this warning by specifying engine='python'.\n",
      "  pd.read_csv(path, delimiter=r',\\s+')\n",
      "/tmp/ipykernel_868937/987684252.py:12: ParserWarning: Falling back to the 'python' engine because the 'c' engine does not support regex separators (separators > 1 char and different from '\\s+' are interpreted as regex); you can avoid this warning by specifying engine='python'.\n",
      "  pd.read_csv(path, delimiter=r',\\s+')\n"
     ]
    },
    {
     "name": "stdout",
     "output_type": "stream",
     "text": [
      "KYLE_2002\n",
      "KYLE_2002 has 38.58, skipping plotting...\n"
     ]
    },
    {
     "name": "stderr",
     "output_type": "stream",
     "text": [
      "/home/fred/micromamba/envs/open-gira/lib/python3.10/site-packages/geopandas/geodataframe.py:2061: UserWarning: CRS mismatch between the CRS of left geometries and the CRS of right geometries.\n",
      "Use `to_crs()` to reproject one of the input geometries to match the CRS of the other.\n",
      "\n",
      "Left CRS: EPSG:4326\n",
      "Right CRS: None\n",
      "\n",
      "  return geopandas.sjoin(left_df=self, right_df=df, *args, **kwargs)\n",
      "/tmp/ipykernel_868937/987684252.py:12: ParserWarning: Falling back to the 'python' engine because the 'c' engine does not support regex separators (separators > 1 char and different from '\\s+' are interpreted as regex); you can avoid this warning by specifying engine='python'.\n",
      "  pd.read_csv(path, delimiter=r',\\s+')\n",
      "/tmp/ipykernel_868937/987684252.py:12: ParserWarning: Falling back to the 'python' engine because the 'c' engine does not support regex separators (separators > 1 char and different from '\\s+' are interpreted as regex); you can avoid this warning by specifying engine='python'.\n",
      "  pd.read_csv(path, delimiter=r',\\s+')\n",
      "/tmp/ipykernel_868937/987684252.py:12: ParserWarning: Falling back to the 'python' engine because the 'c' engine does not support regex separators (separators > 1 char and different from '\\s+' are interpreted as regex); you can avoid this warning by specifying engine='python'.\n",
      "  pd.read_csv(path, delimiter=r',\\s+')\n"
     ]
    },
    {
     "name": "stdout",
     "output_type": "stream",
     "text": [
      "LILI_2002\n"
     ]
    },
    {
     "name": "stderr",
     "output_type": "stream",
     "text": [
      "/home/fred/micromamba/envs/open-gira/lib/python3.10/site-packages/geopandas/geodataframe.py:2061: UserWarning: CRS mismatch between the CRS of left geometries and the CRS of right geometries.\n",
      "Use `to_crs()` to reproject one of the input geometries to match the CRS of the other.\n",
      "\n",
      "Left CRS: EPSG:4326\n",
      "Right CRS: None\n",
      "\n",
      "  return geopandas.sjoin(left_df=self, right_df=df, *args, **kwargs)\n",
      "/tmp/ipykernel_868937/987684252.py:12: ParserWarning: Falling back to the 'python' engine because the 'c' engine does not support regex separators (separators > 1 char and different from '\\s+' are interpreted as regex); you can avoid this warning by specifying engine='python'.\n",
      "  pd.read_csv(path, delimiter=r',\\s+')\n"
     ]
    },
    {
     "name": "stdout",
     "output_type": "stream",
     "text": [
      "HIGOS_2002\n"
     ]
    },
    {
     "name": "stderr",
     "output_type": "stream",
     "text": [
      "/home/fred/micromamba/envs/open-gira/lib/python3.10/site-packages/geopandas/geodataframe.py:2061: UserWarning: CRS mismatch between the CRS of left geometries and the CRS of right geometries.\n",
      "Use `to_crs()` to reproject one of the input geometries to match the CRS of the other.\n",
      "\n",
      "Left CRS: EPSG:4326\n",
      "Right CRS: None\n",
      "\n",
      "  return geopandas.sjoin(left_df=self, right_df=df, *args, **kwargs)\n",
      "/tmp/ipykernel_868937/987684252.py:12: ParserWarning: Falling back to the 'python' engine because the 'c' engine does not support regex separators (separators > 1 char and different from '\\s+' are interpreted as regex); you can avoid this warning by specifying engine='python'.\n",
      "  pd.read_csv(path, delimiter=r',\\s+')\n",
      "/tmp/ipykernel_868937/987684252.py:12: ParserWarning: Falling back to the 'python' engine because the 'c' engine does not support regex separators (separators > 1 char and different from '\\s+' are interpreted as regex); you can avoid this warning by specifying engine='python'.\n",
      "  pd.read_csv(path, delimiter=r',\\s+')\n"
     ]
    },
    {
     "name": "stdout",
     "output_type": "stream",
     "text": [
      "JULIO_2002\n",
      "JULIO_2002 has 20.576, skipping plotting...\n"
     ]
    },
    {
     "name": "stderr",
     "output_type": "stream",
     "text": [
      "/home/fred/micromamba/envs/open-gira/lib/python3.10/site-packages/geopandas/geodataframe.py:2061: UserWarning: CRS mismatch between the CRS of left geometries and the CRS of right geometries.\n",
      "Use `to_crs()` to reproject one of the input geometries to match the CRS of the other.\n",
      "\n",
      "Left CRS: EPSG:4326\n",
      "Right CRS: None\n",
      "\n",
      "  return geopandas.sjoin(left_df=self, right_df=df, *args, **kwargs)\n",
      "/tmp/ipykernel_868937/987684252.py:12: ParserWarning: Falling back to the 'python' engine because the 'c' engine does not support regex separators (separators > 1 char and different from '\\s+' are interpreted as regex); you can avoid this warning by specifying engine='python'.\n",
      "  pd.read_csv(path, delimiter=r',\\s+')\n",
      "/tmp/ipykernel_868937/987684252.py:12: ParserWarning: Falling back to the 'python' engine because the 'c' engine does not support regex separators (separators > 1 char and different from '\\s+' are interpreted as regex); you can avoid this warning by specifying engine='python'.\n",
      "  pd.read_csv(path, delimiter=r',\\s+')\n"
     ]
    },
    {
     "name": "stdout",
     "output_type": "stream",
     "text": [
      "KENNA_2002\n"
     ]
    },
    {
     "name": "stderr",
     "output_type": "stream",
     "text": [
      "/home/fred/micromamba/envs/open-gira/lib/python3.10/site-packages/geopandas/geodataframe.py:2061: UserWarning: CRS mismatch between the CRS of left geometries and the CRS of right geometries.\n",
      "Use `to_crs()` to reproject one of the input geometries to match the CRS of the other.\n",
      "\n",
      "Left CRS: EPSG:4326\n",
      "Right CRS: None\n",
      "\n",
      "  return geopandas.sjoin(left_df=self, right_df=df, *args, **kwargs)\n",
      "/tmp/ipykernel_868937/987684252.py:12: ParserWarning: Falling back to the 'python' engine because the 'c' engine does not support regex separators (separators > 1 char and different from '\\s+' are interpreted as regex); you can avoid this warning by specifying engine='python'.\n",
      "  pd.read_csv(path, delimiter=r',\\s+')\n"
     ]
    },
    {
     "name": "stdout",
     "output_type": "stream",
     "text": [
      "DELFINA_2002\n",
      "DELFINA_2002 has 28.847318181818178, skipping plotting...\n"
     ]
    },
    {
     "name": "stderr",
     "output_type": "stream",
     "text": [
      "/home/fred/micromamba/envs/open-gira/lib/python3.10/site-packages/geopandas/geodataframe.py:2061: UserWarning: CRS mismatch between the CRS of left geometries and the CRS of right geometries.\n",
      "Use `to_crs()` to reproject one of the input geometries to match the CRS of the other.\n",
      "\n",
      "Left CRS: EPSG:4326\n",
      "Right CRS: None\n",
      "\n",
      "  return geopandas.sjoin(left_df=self, right_df=df, *args, **kwargs)\n",
      "/tmp/ipykernel_868937/987684252.py:12: ParserWarning: Falling back to the 'python' engine because the 'c' engine does not support regex separators (separators > 1 char and different from '\\s+' are interpreted as regex); you can avoid this warning by specifying engine='python'.\n",
      "  pd.read_csv(path, delimiter=r',\\s+')\n"
     ]
    },
    {
     "name": "stdout",
     "output_type": "stream",
     "text": [
      "FARI_2003\n",
      "FARI_2003 has 28.847318181818178, skipping plotting...\n"
     ]
    },
    {
     "name": "stderr",
     "output_type": "stream",
     "text": [
      "/home/fred/micromamba/envs/open-gira/lib/python3.10/site-packages/geopandas/geodataframe.py:2061: UserWarning: CRS mismatch between the CRS of left geometries and the CRS of right geometries.\n",
      "Use `to_crs()` to reproject one of the input geometries to match the CRS of the other.\n",
      "\n",
      "Left CRS: EPSG:4326\n",
      "Right CRS: None\n",
      "\n",
      "  return geopandas.sjoin(left_df=self, right_df=df, *args, **kwargs)\n",
      "/tmp/ipykernel_868937/987684252.py:12: ParserWarning: Falling back to the 'python' engine because the 'c' engine does not support regex separators (separators > 1 char and different from '\\s+' are interpreted as regex); you can avoid this warning by specifying engine='python'.\n",
      "  pd.read_csv(path, delimiter=r',\\s+')\n"
     ]
    },
    {
     "name": "stdout",
     "output_type": "stream",
     "text": [
      "GRAHAM_2003\n",
      "GRAHAM_2003 has 21.978909090909088, skipping plotting...\n"
     ]
    },
    {
     "name": "stderr",
     "output_type": "stream",
     "text": [
      "/home/fred/micromamba/envs/open-gira/lib/python3.10/site-packages/geopandas/geodataframe.py:2061: UserWarning: CRS mismatch between the CRS of left geometries and the CRS of right geometries.\n",
      "Use `to_crs()` to reproject one of the input geometries to match the CRS of the other.\n",
      "\n",
      "Left CRS: EPSG:4326\n",
      "Right CRS: None\n",
      "\n",
      "  return geopandas.sjoin(left_df=self, right_df=df, *args, **kwargs)\n",
      "/tmp/ipykernel_868937/987684252.py:12: ParserWarning: Falling back to the 'python' engine because the 'c' engine does not support regex separators (separators > 1 char and different from '\\s+' are interpreted as regex); you can avoid this warning by specifying engine='python'.\n",
      "  pd.read_csv(path, delimiter=r',\\s+')\n"
     ]
    },
    {
     "name": "stdout",
     "output_type": "stream",
     "text": [
      "JAPHET_2003\n"
     ]
    },
    {
     "name": "stderr",
     "output_type": "stream",
     "text": [
      "/home/fred/micromamba/envs/open-gira/lib/python3.10/site-packages/geopandas/geodataframe.py:2061: UserWarning: CRS mismatch between the CRS of left geometries and the CRS of right geometries.\n",
      "Use `to_crs()` to reproject one of the input geometries to match the CRS of the other.\n",
      "\n",
      "Left CRS: EPSG:4326\n",
      "Right CRS: None\n",
      "\n",
      "  return geopandas.sjoin(left_df=self, right_df=df, *args, **kwargs)\n",
      "/tmp/ipykernel_868937/987684252.py:12: ParserWarning: Falling back to the 'python' engine because the 'c' engine does not support regex separators (separators > 1 char and different from '\\s+' are interpreted as regex); you can avoid this warning by specifying engine='python'.\n",
      "  pd.read_csv(path, delimiter=r',\\s+')\n",
      "/tmp/ipykernel_868937/987684252.py:12: ParserWarning: Falling back to the 'python' engine because the 'c' engine does not support regex separators (separators > 1 char and different from '\\s+' are interpreted as regex); you can avoid this warning by specifying engine='python'.\n",
      "  pd.read_csv(path, delimiter=r',\\s+')\n"
     ]
    },
    {
     "name": "stdout",
     "output_type": "stream",
     "text": [
      "CRAIG_2003\n",
      "CRAIG_2003 has 24.726272727272725, skipping plotting...\n"
     ]
    },
    {
     "name": "stderr",
     "output_type": "stream",
     "text": [
      "/home/fred/micromamba/envs/open-gira/lib/python3.10/site-packages/geopandas/geodataframe.py:2061: UserWarning: CRS mismatch between the CRS of left geometries and the CRS of right geometries.\n",
      "Use `to_crs()` to reproject one of the input geometries to match the CRS of the other.\n",
      "\n",
      "Left CRS: EPSG:4326\n",
      "Right CRS: None\n",
      "\n",
      "  return geopandas.sjoin(left_df=self, right_df=df, *args, **kwargs)\n",
      "/tmp/ipykernel_868937/987684252.py:12: ParserWarning: Falling back to the 'python' engine because the 'c' engine does not support regex separators (separators > 1 char and different from '\\s+' are interpreted as regex); you can avoid this warning by specifying engine='python'.\n",
      "  pd.read_csv(path, delimiter=r',\\s+')\n"
     ]
    },
    {
     "name": "stdout",
     "output_type": "stream",
     "text": [
      "INIGO_2003\n"
     ]
    },
    {
     "name": "stderr",
     "output_type": "stream",
     "text": [
      "/home/fred/micromamba/envs/open-gira/lib/python3.10/site-packages/geopandas/geodataframe.py:2061: UserWarning: CRS mismatch between the CRS of left geometries and the CRS of right geometries.\n",
      "Use `to_crs()` to reproject one of the input geometries to match the CRS of the other.\n",
      "\n",
      "Left CRS: EPSG:4326\n",
      "Right CRS: None\n",
      "\n",
      "  return geopandas.sjoin(left_df=self, right_df=df, *args, **kwargs)\n",
      "/tmp/ipykernel_868937/987684252.py:12: ParserWarning: Falling back to the 'python' engine because the 'c' engine does not support regex separators (separators > 1 char and different from '\\s+' are interpreted as regex); you can avoid this warning by specifying engine='python'.\n",
      "  pd.read_csv(path, delimiter=r',\\s+')\n"
     ]
    },
    {
     "name": "stdout",
     "output_type": "stream",
     "text": [
      "MANOU_2003\n"
     ]
    },
    {
     "name": "stderr",
     "output_type": "stream",
     "text": [
      "/home/fred/micromamba/envs/open-gira/lib/python3.10/site-packages/geopandas/geodataframe.py:2061: UserWarning: CRS mismatch between the CRS of left geometries and the CRS of right geometries.\n",
      "Use `to_crs()` to reproject one of the input geometries to match the CRS of the other.\n",
      "\n",
      "Left CRS: EPSG:4326\n",
      "Right CRS: None\n",
      "\n",
      "  return geopandas.sjoin(left_df=self, right_df=df, *args, **kwargs)\n",
      "/tmp/ipykernel_868937/987684252.py:12: ParserWarning: Falling back to the 'python' engine because the 'c' engine does not support regex separators (separators > 1 char and different from '\\s+' are interpreted as regex); you can avoid this warning by specifying engine='python'.\n",
      "  pd.read_csv(path, delimiter=r',\\s+')\n",
      "/tmp/ipykernel_868937/987684252.py:12: ParserWarning: Falling back to the 'python' engine because the 'c' engine does not support regex separators (separators > 1 char and different from '\\s+' are interpreted as regex); you can avoid this warning by specifying engine='python'.\n",
      "  pd.read_csv(path, delimiter=r',\\s+')\n"
     ]
    },
    {
     "name": "stdout",
     "output_type": "stream",
     "text": [
      "LINFA_2003\n",
      "LINFA_2003 has 28.137470014032402, skipping plotting...\n"
     ]
    },
    {
     "name": "stderr",
     "output_type": "stream",
     "text": [
      "/home/fred/micromamba/envs/open-gira/lib/python3.10/site-packages/geopandas/geodataframe.py:2061: UserWarning: CRS mismatch between the CRS of left geometries and the CRS of right geometries.\n",
      "Use `to_crs()` to reproject one of the input geometries to match the CRS of the other.\n",
      "\n",
      "Left CRS: EPSG:4326\n",
      "Right CRS: None\n",
      "\n",
      "  return geopandas.sjoin(left_df=self, right_df=df, *args, **kwargs)\n",
      "/tmp/ipykernel_868937/987684252.py:12: ParserWarning: Falling back to the 'python' engine because the 'c' engine does not support regex separators (separators > 1 char and different from '\\s+' are interpreted as regex); you can avoid this warning by specifying engine='python'.\n",
      "  pd.read_csv(path, delimiter=r',\\s+')\n"
     ]
    },
    {
     "name": "stdout",
     "output_type": "stream",
     "text": [
      "SOUDELOR_2003\n"
     ]
    },
    {
     "name": "stderr",
     "output_type": "stream",
     "text": [
      "/home/fred/micromamba/envs/open-gira/lib/python3.10/site-packages/geopandas/geodataframe.py:2061: UserWarning: CRS mismatch between the CRS of left geometries and the CRS of right geometries.\n",
      "Use `to_crs()` to reproject one of the input geometries to match the CRS of the other.\n",
      "\n",
      "Left CRS: EPSG:4326\n",
      "Right CRS: None\n",
      "\n",
      "  return geopandas.sjoin(left_df=self, right_df=df, *args, **kwargs)\n",
      "/tmp/ipykernel_868937/987684252.py:12: ParserWarning: Falling back to the 'python' engine because the 'c' engine does not support regex separators (separators > 1 char and different from '\\s+' are interpreted as regex); you can avoid this warning by specifying engine='python'.\n",
      "  pd.read_csv(path, delimiter=r',\\s+')\n",
      "/tmp/ipykernel_868937/987684252.py:12: ParserWarning: Falling back to the 'python' engine because the 'c' engine does not support regex separators (separators > 1 char and different from '\\s+' are interpreted as regex); you can avoid this warning by specifying engine='python'.\n",
      "  pd.read_csv(path, delimiter=r',\\s+')\n"
     ]
    },
    {
     "name": "stdout",
     "output_type": "stream",
     "text": [
      "CARLOS_2003\n",
      "CARLOS_2003 has 28.291999999999998, skipping plotting...\n"
     ]
    },
    {
     "name": "stderr",
     "output_type": "stream",
     "text": [
      "/home/fred/micromamba/envs/open-gira/lib/python3.10/site-packages/geopandas/geodataframe.py:2061: UserWarning: CRS mismatch between the CRS of left geometries and the CRS of right geometries.\n",
      "Use `to_crs()` to reproject one of the input geometries to match the CRS of the other.\n",
      "\n",
      "Left CRS: EPSG:4326\n",
      "Right CRS: None\n",
      "\n",
      "  return geopandas.sjoin(left_df=self, right_df=df, *args, **kwargs)\n",
      "/tmp/ipykernel_868937/987684252.py:12: ParserWarning: Falling back to the 'python' engine because the 'c' engine does not support regex separators (separators > 1 char and different from '\\s+' are interpreted as regex); you can avoid this warning by specifying engine='python'.\n",
      "  pd.read_csv(path, delimiter=r',\\s+')\n",
      "/tmp/ipykernel_868937/987684252.py:12: ParserWarning: Falling back to the 'python' engine because the 'c' engine does not support regex separators (separators > 1 char and different from '\\s+' are interpreted as regex); you can avoid this warning by specifying engine='python'.\n",
      "  pd.read_csv(path, delimiter=r',\\s+')\n"
     ]
    },
    {
     "name": "stdout",
     "output_type": "stream",
     "text": [
      "BILL_2003\n",
      "BILL_2003 has 25.72, skipping plotting...\n"
     ]
    },
    {
     "name": "stderr",
     "output_type": "stream",
     "text": [
      "/home/fred/micromamba/envs/open-gira/lib/python3.10/site-packages/geopandas/geodataframe.py:2061: UserWarning: CRS mismatch between the CRS of left geometries and the CRS of right geometries.\n",
      "Use `to_crs()` to reproject one of the input geometries to match the CRS of the other.\n",
      "\n",
      "Left CRS: EPSG:4326\n",
      "Right CRS: None\n",
      "\n",
      "  return geopandas.sjoin(left_df=self, right_df=df, *args, **kwargs)\n",
      "/tmp/ipykernel_868937/987684252.py:12: ParserWarning: Falling back to the 'python' engine because the 'c' engine does not support regex separators (separators > 1 char and different from '\\s+' are interpreted as regex); you can avoid this warning by specifying engine='python'.\n",
      "  pd.read_csv(path, delimiter=r',\\s+')\n",
      "/tmp/ipykernel_868937/987684252.py:12: ParserWarning: Falling back to the 'python' engine because the 'c' engine does not support regex separators (separators > 1 char and different from '\\s+' are interpreted as regex); you can avoid this warning by specifying engine='python'.\n",
      "  pd.read_csv(path, delimiter=r',\\s+')\n"
     ]
    },
    {
     "name": "stdout",
     "output_type": "stream",
     "text": [
      "CLAUDETTE_2003\n"
     ]
    },
    {
     "name": "stderr",
     "output_type": "stream",
     "text": [
      "/home/fred/micromamba/envs/open-gira/lib/python3.10/site-packages/geopandas/geodataframe.py:2061: UserWarning: CRS mismatch between the CRS of left geometries and the CRS of right geometries.\n",
      "Use `to_crs()` to reproject one of the input geometries to match the CRS of the other.\n",
      "\n",
      "Left CRS: EPSG:4326\n",
      "Right CRS: None\n",
      "\n",
      "  return geopandas.sjoin(left_df=self, right_df=df, *args, **kwargs)\n",
      "/tmp/ipykernel_868937/987684252.py:12: ParserWarning: Falling back to the 'python' engine because the 'c' engine does not support regex separators (separators > 1 char and different from '\\s+' are interpreted as regex); you can avoid this warning by specifying engine='python'.\n",
      "  pd.read_csv(path, delimiter=r',\\s+')\n",
      "/tmp/ipykernel_868937/987684252.py:12: ParserWarning: Falling back to the 'python' engine because the 'c' engine does not support regex separators (separators > 1 char and different from '\\s+' are interpreted as regex); you can avoid this warning by specifying engine='python'.\n",
      "  pd.read_csv(path, delimiter=r',\\s+')\n"
     ]
    },
    {
     "name": "stdout",
     "output_type": "stream",
     "text": [
      "IMBUDO_2003\n"
     ]
    },
    {
     "name": "stderr",
     "output_type": "stream",
     "text": [
      "/home/fred/micromamba/envs/open-gira/lib/python3.10/site-packages/geopandas/geodataframe.py:2061: UserWarning: CRS mismatch between the CRS of left geometries and the CRS of right geometries.\n",
      "Use `to_crs()` to reproject one of the input geometries to match the CRS of the other.\n",
      "\n",
      "Left CRS: EPSG:4326\n",
      "Right CRS: None\n",
      "\n",
      "  return geopandas.sjoin(left_df=self, right_df=df, *args, **kwargs)\n",
      "/tmp/ipykernel_868937/987684252.py:12: ParserWarning: Falling back to the 'python' engine because the 'c' engine does not support regex separators (separators > 1 char and different from '\\s+' are interpreted as regex); you can avoid this warning by specifying engine='python'.\n",
      "  pd.read_csv(path, delimiter=r',\\s+')\n",
      "/tmp/ipykernel_868937/987684252.py:12: ParserWarning: Falling back to the 'python' engine because the 'c' engine does not support regex separators (separators > 1 char and different from '\\s+' are interpreted as regex); you can avoid this warning by specifying engine='python'.\n",
      "  pd.read_csv(path, delimiter=r',\\s+')\n"
     ]
    },
    {
     "name": "stdout",
     "output_type": "stream",
     "text": [
      "KONI_2003\n",
      "KONI_2003 has 32.6474124633244, skipping plotting...\n"
     ]
    },
    {
     "name": "stderr",
     "output_type": "stream",
     "text": [
      "/home/fred/micromamba/envs/open-gira/lib/python3.10/site-packages/geopandas/geodataframe.py:2061: UserWarning: CRS mismatch between the CRS of left geometries and the CRS of right geometries.\n",
      "Use `to_crs()` to reproject one of the input geometries to match the CRS of the other.\n",
      "\n",
      "Left CRS: EPSG:4326\n",
      "Right CRS: None\n",
      "\n",
      "  return geopandas.sjoin(left_df=self, right_df=df, *args, **kwargs)\n",
      "/tmp/ipykernel_868937/987684252.py:12: ParserWarning: Falling back to the 'python' engine because the 'c' engine does not support regex separators (separators > 1 char and different from '\\s+' are interpreted as regex); you can avoid this warning by specifying engine='python'.\n",
      "  pd.read_csv(path, delimiter=r',\\s+')\n"
     ]
    },
    {
     "name": "stdout",
     "output_type": "stream",
     "text": [
      "ETAU_2003\n"
     ]
    },
    {
     "name": "stderr",
     "output_type": "stream",
     "text": [
      "/home/fred/micromamba/envs/open-gira/lib/python3.10/site-packages/geopandas/geodataframe.py:2061: UserWarning: CRS mismatch between the CRS of left geometries and the CRS of right geometries.\n",
      "Use `to_crs()` to reproject one of the input geometries to match the CRS of the other.\n",
      "\n",
      "Left CRS: EPSG:4326\n",
      "Right CRS: None\n",
      "\n",
      "  return geopandas.sjoin(left_df=self, right_df=df, *args, **kwargs)\n",
      "/tmp/ipykernel_868937/987684252.py:12: ParserWarning: Falling back to the 'python' engine because the 'c' engine does not support regex separators (separators > 1 char and different from '\\s+' are interpreted as regex); you can avoid this warning by specifying engine='python'.\n",
      "  pd.read_csv(path, delimiter=r',\\s+')\n"
     ]
    },
    {
     "name": "stdout",
     "output_type": "stream",
     "text": [
      "MORAKOT_2003\n",
      "MORAKOT_2003 has 24.169393073096057, skipping plotting...\n"
     ]
    },
    {
     "name": "stderr",
     "output_type": "stream",
     "text": [
      "/home/fred/micromamba/envs/open-gira/lib/python3.10/site-packages/geopandas/geodataframe.py:2061: UserWarning: CRS mismatch between the CRS of left geometries and the CRS of right geometries.\n",
      "Use `to_crs()` to reproject one of the input geometries to match the CRS of the other.\n",
      "\n",
      "Left CRS: EPSG:4326\n",
      "Right CRS: None\n",
      "\n",
      "  return geopandas.sjoin(left_df=self, right_df=df, *args, **kwargs)\n",
      "/tmp/ipykernel_868937/987684252.py:12: ParserWarning: Falling back to the 'python' engine because the 'c' engine does not support regex separators (separators > 1 char and different from '\\s+' are interpreted as regex); you can avoid this warning by specifying engine='python'.\n",
      "  pd.read_csv(path, delimiter=r',\\s+')\n",
      "/tmp/ipykernel_868937/987684252.py:12: ParserWarning: Falling back to the 'python' engine because the 'c' engine does not support regex separators (separators > 1 char and different from '\\s+' are interpreted as regex); you can avoid this warning by specifying engine='python'.\n",
      "  pd.read_csv(path, delimiter=r',\\s+')\n"
     ]
    },
    {
     "name": "stdout",
     "output_type": "stream",
     "text": [
      "KROVANH_2003\n"
     ]
    },
    {
     "name": "stderr",
     "output_type": "stream",
     "text": [
      "/home/fred/micromamba/envs/open-gira/lib/python3.10/site-packages/geopandas/geodataframe.py:2061: UserWarning: CRS mismatch between the CRS of left geometries and the CRS of right geometries.\n",
      "Use `to_crs()` to reproject one of the input geometries to match the CRS of the other.\n",
      "\n",
      "Left CRS: EPSG:4326\n",
      "Right CRS: None\n",
      "\n",
      "  return geopandas.sjoin(left_df=self, right_df=df, *args, **kwargs)\n",
      "/tmp/ipykernel_868937/987684252.py:12: ParserWarning: Falling back to the 'python' engine because the 'c' engine does not support regex separators (separators > 1 char and different from '\\s+' are interpreted as regex); you can avoid this warning by specifying engine='python'.\n",
      "  pd.read_csv(path, delimiter=r',\\s+')\n",
      "/tmp/ipykernel_868937/987684252.py:12: ParserWarning: Falling back to the 'python' engine because the 'c' engine does not support regex separators (separators > 1 char and different from '\\s+' are interpreted as regex); you can avoid this warning by specifying engine='python'.\n",
      "  pd.read_csv(path, delimiter=r',\\s+')\n"
     ]
    },
    {
     "name": "stdout",
     "output_type": "stream",
     "text": [
      "ERIKA_2003\n",
      "ERIKA_2003 has 33.436, skipping plotting...\n"
     ]
    },
    {
     "name": "stderr",
     "output_type": "stream",
     "text": [
      "/home/fred/micromamba/envs/open-gira/lib/python3.10/site-packages/geopandas/geodataframe.py:2061: UserWarning: CRS mismatch between the CRS of left geometries and the CRS of right geometries.\n",
      "Use `to_crs()` to reproject one of the input geometries to match the CRS of the other.\n",
      "\n",
      "Left CRS: EPSG:4326\n",
      "Right CRS: None\n",
      "\n",
      "  return geopandas.sjoin(left_df=self, right_df=df, *args, **kwargs)\n",
      "/tmp/ipykernel_868937/987684252.py:12: ParserWarning: Falling back to the 'python' engine because the 'c' engine does not support regex separators (separators > 1 char and different from '\\s+' are interpreted as regex); you can avoid this warning by specifying engine='python'.\n",
      "  pd.read_csv(path, delimiter=r',\\s+')\n"
     ]
    },
    {
     "name": "stdout",
     "output_type": "stream",
     "text": [
      "VAMCO_2003\n",
      "VAMCO_2003 has 20.75984708933963, skipping plotting...\n"
     ]
    },
    {
     "name": "stderr",
     "output_type": "stream",
     "text": [
      "/home/fred/micromamba/envs/open-gira/lib/python3.10/site-packages/geopandas/geodataframe.py:2061: UserWarning: CRS mismatch between the CRS of left geometries and the CRS of right geometries.\n",
      "Use `to_crs()` to reproject one of the input geometries to match the CRS of the other.\n",
      "\n",
      "Left CRS: EPSG:4326\n",
      "Right CRS: None\n",
      "\n",
      "  return geopandas.sjoin(left_df=self, right_df=df, *args, **kwargs)\n",
      "/tmp/ipykernel_868937/987684252.py:12: ParserWarning: Falling back to the 'python' engine because the 'c' engine does not support regex separators (separators > 1 char and different from '\\s+' are interpreted as regex); you can avoid this warning by specifying engine='python'.\n",
      "  pd.read_csv(path, delimiter=r',\\s+')\n"
     ]
    },
    {
     "name": "stdout",
     "output_type": "stream",
     "text": [
      "IGNACIO_2003\n"
     ]
    },
    {
     "name": "stderr",
     "output_type": "stream",
     "text": [
      "/home/fred/micromamba/envs/open-gira/lib/python3.10/site-packages/geopandas/geodataframe.py:2061: UserWarning: CRS mismatch between the CRS of left geometries and the CRS of right geometries.\n",
      "Use `to_crs()` to reproject one of the input geometries to match the CRS of the other.\n",
      "\n",
      "Left CRS: EPSG:4326\n",
      "Right CRS: None\n",
      "\n",
      "  return geopandas.sjoin(left_df=self, right_df=df, *args, **kwargs)\n",
      "/tmp/ipykernel_868937/987684252.py:12: ParserWarning: Falling back to the 'python' engine because the 'c' engine does not support regex separators (separators > 1 char and different from '\\s+' are interpreted as regex); you can avoid this warning by specifying engine='python'.\n",
      "  pd.read_csv(path, delimiter=r',\\s+')\n",
      "/tmp/ipykernel_868937/987684252.py:12: ParserWarning: Falling back to the 'python' engine because the 'c' engine does not support regex separators (separators > 1 char and different from '\\s+' are interpreted as regex); you can avoid this warning by specifying engine='python'.\n",
      "  pd.read_csv(path, delimiter=r',\\s+')\n"
     ]
    },
    {
     "name": "stdout",
     "output_type": "stream",
     "text": [
      "DUJUAN_2003\n"
     ]
    },
    {
     "name": "stderr",
     "output_type": "stream",
     "text": [
      "/home/fred/micromamba/envs/open-gira/lib/python3.10/site-packages/geopandas/geodataframe.py:2061: UserWarning: CRS mismatch between the CRS of left geometries and the CRS of right geometries.\n",
      "Use `to_crs()` to reproject one of the input geometries to match the CRS of the other.\n",
      "\n",
      "Left CRS: EPSG:4326\n",
      "Right CRS: None\n",
      "\n",
      "  return geopandas.sjoin(left_df=self, right_df=df, *args, **kwargs)\n",
      "/tmp/ipykernel_868937/987684252.py:12: ParserWarning: Falling back to the 'python' engine because the 'c' engine does not support regex separators (separators > 1 char and different from '\\s+' are interpreted as regex); you can avoid this warning by specifying engine='python'.\n",
      "  pd.read_csv(path, delimiter=r',\\s+')\n"
     ]
    },
    {
     "name": "stdout",
     "output_type": "stream",
     "text": [
      "MAEMI_2003\n"
     ]
    },
    {
     "name": "stderr",
     "output_type": "stream",
     "text": [
      "/home/fred/micromamba/envs/open-gira/lib/python3.10/site-packages/geopandas/geodataframe.py:2061: UserWarning: CRS mismatch between the CRS of left geometries and the CRS of right geometries.\n",
      "Use `to_crs()` to reproject one of the input geometries to match the CRS of the other.\n",
      "\n",
      "Left CRS: EPSG:4326\n",
      "Right CRS: None\n",
      "\n",
      "  return geopandas.sjoin(left_df=self, right_df=df, *args, **kwargs)\n",
      "/tmp/ipykernel_868937/987684252.py:12: ParserWarning: Falling back to the 'python' engine because the 'c' engine does not support regex separators (separators > 1 char and different from '\\s+' are interpreted as regex); you can avoid this warning by specifying engine='python'.\n",
      "  pd.read_csv(path, delimiter=r',\\s+')\n",
      "/tmp/ipykernel_868937/987684252.py:12: ParserWarning: Falling back to the 'python' engine because the 'c' engine does not support regex separators (separators > 1 char and different from '\\s+' are interpreted as regex); you can avoid this warning by specifying engine='python'.\n",
      "  pd.read_csv(path, delimiter=r',\\s+')\n"
     ]
    },
    {
     "name": "stdout",
     "output_type": "stream",
     "text": [
      "HENRI_2003\n",
      "HENRI_2003 has 25.72, skipping plotting...\n"
     ]
    },
    {
     "name": "stderr",
     "output_type": "stream",
     "text": [
      "/home/fred/micromamba/envs/open-gira/lib/python3.10/site-packages/geopandas/geodataframe.py:2061: UserWarning: CRS mismatch between the CRS of left geometries and the CRS of right geometries.\n",
      "Use `to_crs()` to reproject one of the input geometries to match the CRS of the other.\n",
      "\n",
      "Left CRS: EPSG:4326\n",
      "Right CRS: None\n",
      "\n",
      "  return geopandas.sjoin(left_df=self, right_df=df, *args, **kwargs)\n",
      "/tmp/ipykernel_868937/987684252.py:12: ParserWarning: Falling back to the 'python' engine because the 'c' engine does not support regex separators (separators > 1 char and different from '\\s+' are interpreted as regex); you can avoid this warning by specifying engine='python'.\n",
      "  pd.read_csv(path, delimiter=r',\\s+')\n",
      "/tmp/ipykernel_868937/987684252.py:12: ParserWarning: Falling back to the 'python' engine because the 'c' engine does not support regex separators (separators > 1 char and different from '\\s+' are interpreted as regex); you can avoid this warning by specifying engine='python'.\n",
      "  pd.read_csv(path, delimiter=r',\\s+')\n"
     ]
    },
    {
     "name": "stdout",
     "output_type": "stream",
     "text": [
      "ISABEL_2003\n"
     ]
    },
    {
     "name": "stderr",
     "output_type": "stream",
     "text": [
      "/home/fred/micromamba/envs/open-gira/lib/python3.10/site-packages/geopandas/geodataframe.py:2061: UserWarning: CRS mismatch between the CRS of left geometries and the CRS of right geometries.\n",
      "Use `to_crs()` to reproject one of the input geometries to match the CRS of the other.\n",
      "\n",
      "Left CRS: EPSG:4326\n",
      "Right CRS: None\n",
      "\n",
      "  return geopandas.sjoin(left_df=self, right_df=df, *args, **kwargs)\n",
      "/tmp/ipykernel_868937/987684252.py:12: ParserWarning: Falling back to the 'python' engine because the 'c' engine does not support regex separators (separators > 1 char and different from '\\s+' are interpreted as regex); you can avoid this warning by specifying engine='python'.\n",
      "  pd.read_csv(path, delimiter=r',\\s+')\n"
     ]
    },
    {
     "name": "stdout",
     "output_type": "stream",
     "text": [
      "MARTY_2003\n"
     ]
    },
    {
     "name": "stderr",
     "output_type": "stream",
     "text": [
      "/home/fred/micromamba/envs/open-gira/lib/python3.10/site-packages/geopandas/geodataframe.py:2061: UserWarning: CRS mismatch between the CRS of left geometries and the CRS of right geometries.\n",
      "Use `to_crs()` to reproject one of the input geometries to match the CRS of the other.\n",
      "\n",
      "Left CRS: EPSG:4326\n",
      "Right CRS: None\n",
      "\n",
      "  return geopandas.sjoin(left_df=self, right_df=df, *args, **kwargs)\n",
      "/tmp/ipykernel_868937/987684252.py:12: ParserWarning: Falling back to the 'python' engine because the 'c' engine does not support regex separators (separators > 1 char and different from '\\s+' are interpreted as regex); you can avoid this warning by specifying engine='python'.\n",
      "  pd.read_csv(path, delimiter=r',\\s+')\n"
     ]
    },
    {
     "name": "stdout",
     "output_type": "stream",
     "text": [
      "LARRY_2003\n",
      "LARRY_2003 has 28.291999999999998, skipping plotting...\n"
     ]
    },
    {
     "name": "stderr",
     "output_type": "stream",
     "text": [
      "/home/fred/micromamba/envs/open-gira/lib/python3.10/site-packages/geopandas/geodataframe.py:2061: UserWarning: CRS mismatch between the CRS of left geometries and the CRS of right geometries.\n",
      "Use `to_crs()` to reproject one of the input geometries to match the CRS of the other.\n",
      "\n",
      "Left CRS: EPSG:4326\n",
      "Right CRS: None\n",
      "\n",
      "  return geopandas.sjoin(left_df=self, right_df=df, *args, **kwargs)\n",
      "/tmp/ipykernel_868937/987684252.py:12: ParserWarning: Falling back to the 'python' engine because the 'c' engine does not support regex separators (separators > 1 char and different from '\\s+' are interpreted as regex); you can avoid this warning by specifying engine='python'.\n",
      "  pd.read_csv(path, delimiter=r',\\s+')\n"
     ]
    },
    {
     "name": "stdout",
     "output_type": "stream",
     "text": [
      "NORA_2003\n"
     ]
    },
    {
     "name": "stderr",
     "output_type": "stream",
     "text": [
      "/home/fred/micromamba/envs/open-gira/lib/python3.10/site-packages/geopandas/geodataframe.py:2061: UserWarning: CRS mismatch between the CRS of left geometries and the CRS of right geometries.\n",
      "Use `to_crs()` to reproject one of the input geometries to match the CRS of the other.\n",
      "\n",
      "Left CRS: EPSG:4326\n",
      "Right CRS: None\n",
      "\n",
      "  return geopandas.sjoin(left_df=self, right_df=df, *args, **kwargs)\n",
      "/tmp/ipykernel_868937/987684252.py:12: ParserWarning: Falling back to the 'python' engine because the 'c' engine does not support regex separators (separators > 1 char and different from '\\s+' are interpreted as regex); you can avoid this warning by specifying engine='python'.\n",
      "  pd.read_csv(path, delimiter=r',\\s+')\n",
      "/tmp/ipykernel_868937/987684252.py:12: ParserWarning: Falling back to the 'python' engine because the 'c' engine does not support regex separators (separators > 1 char and different from '\\s+' are interpreted as regex); you can avoid this warning by specifying engine='python'.\n",
      "  pd.read_csv(path, delimiter=r',\\s+')\n"
     ]
    },
    {
     "name": "stdout",
     "output_type": "stream",
     "text": [
      "OLAF_2003\n",
      "OLAF_2003 has 33.436, skipping plotting...\n"
     ]
    },
    {
     "name": "stderr",
     "output_type": "stream",
     "text": [
      "/home/fred/micromamba/envs/open-gira/lib/python3.10/site-packages/geopandas/geodataframe.py:2061: UserWarning: CRS mismatch between the CRS of left geometries and the CRS of right geometries.\n",
      "Use `to_crs()` to reproject one of the input geometries to match the CRS of the other.\n",
      "\n",
      "Left CRS: EPSG:4326\n",
      "Right CRS: None\n",
      "\n",
      "  return geopandas.sjoin(left_df=self, right_df=df, *args, **kwargs)\n",
      "/tmp/ipykernel_868937/987684252.py:12: ParserWarning: Falling back to the 'python' engine because the 'c' engine does not support regex separators (separators > 1 char and different from '\\s+' are interpreted as regex); you can avoid this warning by specifying engine='python'.\n",
      "  pd.read_csv(path, delimiter=r',\\s+')\n"
     ]
    },
    {
     "name": "stdout",
     "output_type": "stream",
     "text": [
      "MINDY_2003\n",
      "MINDY_2003 has 20.576, skipping plotting...\n"
     ]
    },
    {
     "name": "stderr",
     "output_type": "stream",
     "text": [
      "/home/fred/micromamba/envs/open-gira/lib/python3.10/site-packages/geopandas/geodataframe.py:2061: UserWarning: CRS mismatch between the CRS of left geometries and the CRS of right geometries.\n",
      "Use `to_crs()` to reproject one of the input geometries to match the CRS of the other.\n",
      "\n",
      "Left CRS: EPSG:4326\n",
      "Right CRS: None\n",
      "\n",
      "  return geopandas.sjoin(left_df=self, right_df=df, *args, **kwargs)\n",
      "/tmp/ipykernel_868937/987684252.py:12: ParserWarning: Falling back to the 'python' engine because the 'c' engine does not support regex separators (separators > 1 char and different from '\\s+' are interpreted as regex); you can avoid this warning by specifying engine='python'.\n",
      "  pd.read_csv(path, delimiter=r',\\s+')\n",
      "/tmp/ipykernel_868937/987684252.py:12: ParserWarning: Falling back to the 'python' engine because the 'c' engine does not support regex separators (separators > 1 char and different from '\\s+' are interpreted as regex); you can avoid this warning by specifying engine='python'.\n",
      "  pd.read_csv(path, delimiter=r',\\s+')\n"
     ]
    },
    {
     "name": "stdout",
     "output_type": "stream",
     "text": [
      "MELOR_2003\n",
      "MELOR_2003 has 30.556493596121953, skipping plotting...\n"
     ]
    },
    {
     "name": "stderr",
     "output_type": "stream",
     "text": [
      "/home/fred/micromamba/envs/open-gira/lib/python3.10/site-packages/geopandas/geodataframe.py:2061: UserWarning: CRS mismatch between the CRS of left geometries and the CRS of right geometries.\n",
      "Use `to_crs()` to reproject one of the input geometries to match the CRS of the other.\n",
      "\n",
      "Left CRS: EPSG:4326\n",
      "Right CRS: None\n",
      "\n",
      "  return geopandas.sjoin(left_df=self, right_df=df, *args, **kwargs)\n",
      "/tmp/ipykernel_868937/987684252.py:12: ParserWarning: Falling back to the 'python' engine because the 'c' engine does not support regex separators (separators > 1 char and different from '\\s+' are interpreted as regex); you can avoid this warning by specifying engine='python'.\n",
      "  pd.read_csv(path, delimiter=r',\\s+')\n",
      "/tmp/ipykernel_868937/987684252.py:12: ParserWarning: Falling back to the 'python' engine because the 'c' engine does not support regex separators (separators > 1 char and different from '\\s+' are interpreted as regex); you can avoid this warning by specifying engine='python'.\n",
      "  pd.read_csv(path, delimiter=r',\\s+')\n"
     ]
    },
    {
     "name": "stdout",
     "output_type": "stream",
     "text": [
      "NEPARTAK_2003\n",
      "NEPARTAK_2003 has 35.26281885954841, skipping plotting...\n"
     ]
    },
    {
     "name": "stderr",
     "output_type": "stream",
     "text": [
      "/home/fred/micromamba/envs/open-gira/lib/python3.10/site-packages/geopandas/geodataframe.py:2061: UserWarning: CRS mismatch between the CRS of left geometries and the CRS of right geometries.\n",
      "Use `to_crs()` to reproject one of the input geometries to match the CRS of the other.\n",
      "\n",
      "Left CRS: EPSG:4326\n",
      "Right CRS: None\n",
      "\n",
      "  return geopandas.sjoin(left_df=self, right_df=df, *args, **kwargs)\n",
      "/tmp/ipykernel_868937/987684252.py:12: ParserWarning: Falling back to the 'python' engine because the 'c' engine does not support regex separators (separators > 1 char and different from '\\s+' are interpreted as regex); you can avoid this warning by specifying engine='python'.\n",
      "  pd.read_csv(path, delimiter=r',\\s+')\n"
     ]
    },
    {
     "name": "stdout",
     "output_type": "stream",
     "text": [
      "CELA_2003\n",
      "CELA_2003 has 36.47563636363637, skipping plotting...\n"
     ]
    },
    {
     "name": "stderr",
     "output_type": "stream",
     "text": [
      "/home/fred/micromamba/envs/open-gira/lib/python3.10/site-packages/geopandas/geodataframe.py:2061: UserWarning: CRS mismatch between the CRS of left geometries and the CRS of right geometries.\n",
      "Use `to_crs()` to reproject one of the input geometries to match the CRS of the other.\n",
      "\n",
      "Left CRS: EPSG:4326\n",
      "Right CRS: None\n",
      "\n",
      "  return geopandas.sjoin(left_df=self, right_df=df, *args, **kwargs)\n",
      "/tmp/ipykernel_868937/987684252.py:12: ParserWarning: Falling back to the 'python' engine because the 'c' engine does not support regex separators (separators > 1 char and different from '\\s+' are interpreted as regex); you can avoid this warning by specifying engine='python'.\n",
      "  pd.read_csv(path, delimiter=r',\\s+')\n"
     ]
    },
    {
     "name": "stdout",
     "output_type": "stream",
     "text": [
      "ODETTE_2003\n",
      "ODETTE_2003 has 28.291999999999998, skipping plotting...\n"
     ]
    },
    {
     "name": "stderr",
     "output_type": "stream",
     "text": [
      "/home/fred/micromamba/envs/open-gira/lib/python3.10/site-packages/geopandas/geodataframe.py:2061: UserWarning: CRS mismatch between the CRS of left geometries and the CRS of right geometries.\n",
      "Use `to_crs()` to reproject one of the input geometries to match the CRS of the other.\n",
      "\n",
      "Left CRS: EPSG:4326\n",
      "Right CRS: None\n",
      "\n",
      "  return geopandas.sjoin(left_df=self, right_df=df, *args, **kwargs)\n",
      "/tmp/ipykernel_868937/987684252.py:12: ParserWarning: Falling back to the 'python' engine because the 'c' engine does not support regex separators (separators > 1 char and different from '\\s+' are interpreted as regex); you can avoid this warning by specifying engine='python'.\n",
      "  pd.read_csv(path, delimiter=r',\\s+')\n"
     ]
    },
    {
     "name": "stdout",
     "output_type": "stream",
     "text": [
      "DEBBIE_2003\n",
      "DEBBIE_2003 has 35.71572727272727, skipping plotting...\n"
     ]
    },
    {
     "name": "stderr",
     "output_type": "stream",
     "text": [
      "/home/fred/micromamba/envs/open-gira/lib/python3.10/site-packages/geopandas/geodataframe.py:2061: UserWarning: CRS mismatch between the CRS of left geometries and the CRS of right geometries.\n",
      "Use `to_crs()` to reproject one of the input geometries to match the CRS of the other.\n",
      "\n",
      "Left CRS: EPSG:4326\n",
      "Right CRS: None\n",
      "\n",
      "  return geopandas.sjoin(left_df=self, right_df=df, *args, **kwargs)\n",
      "/tmp/ipykernel_868937/987684252.py:12: ParserWarning: Falling back to the 'python' engine because the 'c' engine does not support regex separators (separators > 1 char and different from '\\s+' are interpreted as regex); you can avoid this warning by specifying engine='python'.\n",
      "  pd.read_csv(path, delimiter=r',\\s+')\n"
     ]
    },
    {
     "name": "stdout",
     "output_type": "stream",
     "text": [
      "ELITA_2004\n",
      "ELITA_2004 has 35.501393939393935, skipping plotting...\n"
     ]
    },
    {
     "name": "stderr",
     "output_type": "stream",
     "text": [
      "/home/fred/micromamba/envs/open-gira/lib/python3.10/site-packages/geopandas/geodataframe.py:2061: UserWarning: CRS mismatch between the CRS of left geometries and the CRS of right geometries.\n",
      "Use `to_crs()` to reproject one of the input geometries to match the CRS of the other.\n",
      "\n",
      "Left CRS: EPSG:4326\n",
      "Right CRS: None\n",
      "\n",
      "  return geopandas.sjoin(left_df=self, right_df=df, *args, **kwargs)\n",
      "/tmp/ipykernel_868937/987684252.py:12: ParserWarning: Falling back to the 'python' engine because the 'c' engine does not support regex separators (separators > 1 char and different from '\\s+' are interpreted as regex); you can avoid this warning by specifying engine='python'.\n",
      "  pd.read_csv(path, delimiter=r',\\s+')\n"
     ]
    },
    {
     "name": "stdout",
     "output_type": "stream",
     "text": [
      "FRITZ_2004\n",
      "FRITZ_2004 has 24.52752727272727, skipping plotting...\n"
     ]
    },
    {
     "name": "stderr",
     "output_type": "stream",
     "text": [
      "/home/fred/micromamba/envs/open-gira/lib/python3.10/site-packages/geopandas/geodataframe.py:2061: UserWarning: CRS mismatch between the CRS of left geometries and the CRS of right geometries.\n",
      "Use `to_crs()` to reproject one of the input geometries to match the CRS of the other.\n",
      "\n",
      "Left CRS: EPSG:4326\n",
      "Right CRS: None\n",
      "\n",
      "  return geopandas.sjoin(left_df=self, right_df=df, *args, **kwargs)\n",
      "/tmp/ipykernel_868937/987684252.py:12: ParserWarning: Falling back to the 'python' engine because the 'c' engine does not support regex separators (separators > 1 char and different from '\\s+' are interpreted as regex); you can avoid this warning by specifying engine='python'.\n",
      "  pd.read_csv(path, delimiter=r',\\s+')\n"
     ]
    },
    {
     "name": "stdout",
     "output_type": "stream",
     "text": [
      "MONTY_2004\n"
     ]
    },
    {
     "name": "stderr",
     "output_type": "stream",
     "text": [
      "/home/fred/micromamba/envs/open-gira/lib/python3.10/site-packages/geopandas/geodataframe.py:2061: UserWarning: CRS mismatch between the CRS of left geometries and the CRS of right geometries.\n",
      "Use `to_crs()` to reproject one of the input geometries to match the CRS of the other.\n",
      "\n",
      "Left CRS: EPSG:4326\n",
      "Right CRS: None\n",
      "\n",
      "  return geopandas.sjoin(left_df=self, right_df=df, *args, **kwargs)\n",
      "/tmp/ipykernel_868937/987684252.py:12: ParserWarning: Falling back to the 'python' engine because the 'c' engine does not support regex separators (separators > 1 char and different from '\\s+' are interpreted as regex); you can avoid this warning by specifying engine='python'.\n",
      "  pd.read_csv(path, delimiter=r',\\s+')\n"
     ]
    },
    {
     "name": "stdout",
     "output_type": "stream",
     "text": [
      "GAFILO_2004\n"
     ]
    },
    {
     "name": "stderr",
     "output_type": "stream",
     "text": [
      "/home/fred/micromamba/envs/open-gira/lib/python3.10/site-packages/geopandas/geodataframe.py:2061: UserWarning: CRS mismatch between the CRS of left geometries and the CRS of right geometries.\n",
      "Use `to_crs()` to reproject one of the input geometries to match the CRS of the other.\n",
      "\n",
      "Left CRS: EPSG:4326\n",
      "Right CRS: None\n",
      "\n",
      "  return geopandas.sjoin(left_df=self, right_df=df, *args, **kwargs)\n",
      "/tmp/ipykernel_868937/987684252.py:12: ParserWarning: Falling back to the 'python' engine because the 'c' engine does not support regex separators (separators > 1 char and different from '\\s+' are interpreted as regex); you can avoid this warning by specifying engine='python'.\n",
      "  pd.read_csv(path, delimiter=r',\\s+')\n"
     ]
    },
    {
     "name": "stdout",
     "output_type": "stream",
     "text": [
      "NIDA_2004\n"
     ]
    },
    {
     "name": "stderr",
     "output_type": "stream",
     "text": [
      "/home/fred/micromamba/envs/open-gira/lib/python3.10/site-packages/geopandas/geodataframe.py:2061: UserWarning: CRS mismatch between the CRS of left geometries and the CRS of right geometries.\n",
      "Use `to_crs()` to reproject one of the input geometries to match the CRS of the other.\n",
      "\n",
      "Left CRS: EPSG:4326\n",
      "Right CRS: None\n",
      "\n",
      "  return geopandas.sjoin(left_df=self, right_df=df, *args, **kwargs)\n",
      "/tmp/ipykernel_868937/987684252.py:12: ParserWarning: Falling back to the 'python' engine because the 'c' engine does not support regex separators (separators > 1 char and different from '\\s+' are interpreted as regex); you can avoid this warning by specifying engine='python'.\n",
      "  pd.read_csv(path, delimiter=r',\\s+')\n",
      "/tmp/ipykernel_868937/987684252.py:12: ParserWarning: Falling back to the 'python' engine because the 'c' engine does not support regex separators (separators > 1 char and different from '\\s+' are interpreted as regex); you can avoid this warning by specifying engine='python'.\n",
      "  pd.read_csv(path, delimiter=r',\\s+')\n",
      "/tmp/ipykernel_868937/987684252.py:12: ParserWarning: Falling back to the 'python' engine because the 'c' engine does not support regex separators (separators > 1 char and different from '\\s+' are interpreted as regex); you can avoid this warning by specifying engine='python'.\n",
      "  pd.read_csv(path, delimiter=r',\\s+')\n"
     ]
    },
    {
     "name": "stdout",
     "output_type": "stream",
     "text": [
      "CHARLEY_2004\n"
     ]
    },
    {
     "name": "stderr",
     "output_type": "stream",
     "text": [
      "/home/fred/micromamba/envs/open-gira/lib/python3.10/site-packages/geopandas/geodataframe.py:2061: UserWarning: CRS mismatch between the CRS of left geometries and the CRS of right geometries.\n",
      "Use `to_crs()` to reproject one of the input geometries to match the CRS of the other.\n",
      "\n",
      "Left CRS: EPSG:4326\n",
      "Right CRS: None\n",
      "\n",
      "  return geopandas.sjoin(left_df=self, right_df=df, *args, **kwargs)\n",
      "/tmp/ipykernel_868937/987684252.py:12: ParserWarning: Falling back to the 'python' engine because the 'c' engine does not support regex separators (separators > 1 char and different from '\\s+' are interpreted as regex); you can avoid this warning by specifying engine='python'.\n",
      "  pd.read_csv(path, delimiter=r',\\s+')\n",
      "/tmp/ipykernel_868937/987684252.py:12: ParserWarning: Falling back to the 'python' engine because the 'c' engine does not support regex separators (separators > 1 char and different from '\\s+' are interpreted as regex); you can avoid this warning by specifying engine='python'.\n",
      "  pd.read_csv(path, delimiter=r',\\s+')\n"
     ]
    },
    {
     "name": "stdout",
     "output_type": "stream",
     "text": [
      "FRANCES_2004\n",
      "FRANCES_2004 has 28.291999999999998, skipping plotting...\n"
     ]
    },
    {
     "name": "stderr",
     "output_type": "stream",
     "text": [
      "/home/fred/micromamba/envs/open-gira/lib/python3.10/site-packages/geopandas/geodataframe.py:2061: UserWarning: CRS mismatch between the CRS of left geometries and the CRS of right geometries.\n",
      "Use `to_crs()` to reproject one of the input geometries to match the CRS of the other.\n",
      "\n",
      "Left CRS: EPSG:4326\n",
      "Right CRS: None\n",
      "\n",
      "  return geopandas.sjoin(left_df=self, right_df=df, *args, **kwargs)\n",
      "/tmp/ipykernel_868937/987684252.py:12: ParserWarning: Falling back to the 'python' engine because the 'c' engine does not support regex separators (separators > 1 char and different from '\\s+' are interpreted as regex); you can avoid this warning by specifying engine='python'.\n",
      "  pd.read_csv(path, delimiter=r',\\s+')\n"
     ]
    },
    {
     "name": "stdout",
     "output_type": "stream",
     "text": [
      "ERNEST_2005\n"
     ]
    },
    {
     "name": "stderr",
     "output_type": "stream",
     "text": [
      "/home/fred/micromamba/envs/open-gira/lib/python3.10/site-packages/geopandas/geodataframe.py:2061: UserWarning: CRS mismatch between the CRS of left geometries and the CRS of right geometries.\n",
      "Use `to_crs()` to reproject one of the input geometries to match the CRS of the other.\n",
      "\n",
      "Left CRS: EPSG:4326\n",
      "Right CRS: None\n",
      "\n",
      "  return geopandas.sjoin(left_df=self, right_df=df, *args, **kwargs)\n",
      "/tmp/ipykernel_868937/987684252.py:12: ParserWarning: Falling back to the 'python' engine because the 'c' engine does not support regex separators (separators > 1 char and different from '\\s+' are interpreted as regex); you can avoid this warning by specifying engine='python'.\n",
      "  pd.read_csv(path, delimiter=r',\\s+')\n"
     ]
    },
    {
     "name": "stdout",
     "output_type": "stream",
     "text": [
      "FELAPI_2005\n",
      "FELAPI_2005 has 20.459090909090907, skipping plotting...\n"
     ]
    },
    {
     "name": "stderr",
     "output_type": "stream",
     "text": [
      "/home/fred/micromamba/envs/open-gira/lib/python3.10/site-packages/geopandas/geodataframe.py:2061: UserWarning: CRS mismatch between the CRS of left geometries and the CRS of right geometries.\n",
      "Use `to_crs()` to reproject one of the input geometries to match the CRS of the other.\n",
      "\n",
      "Left CRS: EPSG:4326\n",
      "Right CRS: None\n",
      "\n",
      "  return geopandas.sjoin(left_df=self, right_df=df, *args, **kwargs)\n",
      "/tmp/ipykernel_868937/987684252.py:12: ParserWarning: Falling back to the 'python' engine because the 'c' engine does not support regex separators (separators > 1 char and different from '\\s+' are interpreted as regex); you can avoid this warning by specifying engine='python'.\n",
      "  pd.read_csv(path, delimiter=r',\\s+')\n"
     ]
    },
    {
     "name": "stdout",
     "output_type": "stream",
     "text": [
      "INGRID_2005\n"
     ]
    },
    {
     "name": "stderr",
     "output_type": "stream",
     "text": [
      "/home/fred/micromamba/envs/open-gira/lib/python3.10/site-packages/geopandas/geodataframe.py:2061: UserWarning: CRS mismatch between the CRS of left geometries and the CRS of right geometries.\n",
      "Use `to_crs()` to reproject one of the input geometries to match the CRS of the other.\n",
      "\n",
      "Left CRS: EPSG:4326\n",
      "Right CRS: None\n",
      "\n",
      "  return geopandas.sjoin(left_df=self, right_df=df, *args, **kwargs)\n",
      "/tmp/ipykernel_868937/987684252.py:12: ParserWarning: Falling back to the 'python' engine because the 'c' engine does not support regex separators (separators > 1 char and different from '\\s+' are interpreted as regex); you can avoid this warning by specifying engine='python'.\n",
      "  pd.read_csv(path, delimiter=r',\\s+')\n"
     ]
    },
    {
     "name": "stdout",
     "output_type": "stream",
     "text": [
      "ADRIAN_2005\n",
      "ADRIAN_2005 has 36.007999999999996, skipping plotting...\n"
     ]
    },
    {
     "name": "stderr",
     "output_type": "stream",
     "text": [
      "/home/fred/micromamba/envs/open-gira/lib/python3.10/site-packages/geopandas/geodataframe.py:2061: UserWarning: CRS mismatch between the CRS of left geometries and the CRS of right geometries.\n",
      "Use `to_crs()` to reproject one of the input geometries to match the CRS of the other.\n",
      "\n",
      "Left CRS: EPSG:4326\n",
      "Right CRS: None\n",
      "\n",
      "  return geopandas.sjoin(left_df=self, right_df=df, *args, **kwargs)\n",
      "/tmp/ipykernel_868937/987684252.py:12: ParserWarning: Falling back to the 'python' engine because the 'c' engine does not support regex separators (separators > 1 char and different from '\\s+' are interpreted as regex); you can avoid this warning by specifying engine='python'.\n",
      "  pd.read_csv(path, delimiter=r',\\s+')\n",
      "/tmp/ipykernel_868937/987684252.py:12: ParserWarning: Falling back to the 'python' engine because the 'c' engine does not support regex separators (separators > 1 char and different from '\\s+' are interpreted as regex); you can avoid this warning by specifying engine='python'.\n",
      "  pd.read_csv(path, delimiter=r',\\s+')\n"
     ]
    },
    {
     "name": "stdout",
     "output_type": "stream",
     "text": [
      "ARLENE_2005\n",
      "ARLENE_2005 has 30.863999999999997, skipping plotting...\n"
     ]
    },
    {
     "name": "stderr",
     "output_type": "stream",
     "text": [
      "/home/fred/micromamba/envs/open-gira/lib/python3.10/site-packages/geopandas/geodataframe.py:2061: UserWarning: CRS mismatch between the CRS of left geometries and the CRS of right geometries.\n",
      "Use `to_crs()` to reproject one of the input geometries to match the CRS of the other.\n",
      "\n",
      "Left CRS: EPSG:4326\n",
      "Right CRS: None\n",
      "\n",
      "  return geopandas.sjoin(left_df=self, right_df=df, *args, **kwargs)\n",
      "/tmp/ipykernel_868937/987684252.py:12: ParserWarning: Falling back to the 'python' engine because the 'c' engine does not support regex separators (separators > 1 char and different from '\\s+' are interpreted as regex); you can avoid this warning by specifying engine='python'.\n",
      "  pd.read_csv(path, delimiter=r',\\s+')\n",
      "/tmp/ipykernel_868937/987684252.py:12: ParserWarning: Falling back to the 'python' engine because the 'c' engine does not support regex separators (separators > 1 char and different from '\\s+' are interpreted as regex); you can avoid this warning by specifying engine='python'.\n",
      "  pd.read_csv(path, delimiter=r',\\s+')\n"
     ]
    },
    {
     "name": "stdout",
     "output_type": "stream",
     "text": [
      "DORA_2005\n",
      "DORA_2005 has 20.576, skipping plotting...\n"
     ]
    },
    {
     "name": "stderr",
     "output_type": "stream",
     "text": [
      "/home/fred/micromamba/envs/open-gira/lib/python3.10/site-packages/geopandas/geodataframe.py:2061: UserWarning: CRS mismatch between the CRS of left geometries and the CRS of right geometries.\n",
      "Use `to_crs()` to reproject one of the input geometries to match the CRS of the other.\n",
      "\n",
      "Left CRS: EPSG:4326\n",
      "Right CRS: None\n",
      "\n",
      "  return geopandas.sjoin(left_df=self, right_df=df, *args, **kwargs)\n",
      "/tmp/ipykernel_868937/987684252.py:12: ParserWarning: Falling back to the 'python' engine because the 'c' engine does not support regex separators (separators > 1 char and different from '\\s+' are interpreted as regex); you can avoid this warning by specifying engine='python'.\n",
      "  pd.read_csv(path, delimiter=r',\\s+')\n",
      "/tmp/ipykernel_868937/987684252.py:12: ParserWarning: Falling back to the 'python' engine because the 'c' engine does not support regex separators (separators > 1 char and different from '\\s+' are interpreted as regex); you can avoid this warning by specifying engine='python'.\n",
      "  pd.read_csv(path, delimiter=r',\\s+')\n"
     ]
    },
    {
     "name": "stdout",
     "output_type": "stream",
     "text": [
      "CINDY_2005\n",
      "CINDY_2005 has 33.436, skipping plotting...\n"
     ]
    },
    {
     "name": "stderr",
     "output_type": "stream",
     "text": [
      "/home/fred/micromamba/envs/open-gira/lib/python3.10/site-packages/geopandas/geodataframe.py:2061: UserWarning: CRS mismatch between the CRS of left geometries and the CRS of right geometries.\n",
      "Use `to_crs()` to reproject one of the input geometries to match the CRS of the other.\n",
      "\n",
      "Left CRS: EPSG:4326\n",
      "Right CRS: None\n",
      "\n",
      "  return geopandas.sjoin(left_df=self, right_df=df, *args, **kwargs)\n",
      "/tmp/ipykernel_868937/987684252.py:12: ParserWarning: Falling back to the 'python' engine because the 'c' engine does not support regex separators (separators > 1 char and different from '\\s+' are interpreted as regex); you can avoid this warning by specifying engine='python'.\n",
      "  pd.read_csv(path, delimiter=r',\\s+')\n",
      "/tmp/ipykernel_868937/987684252.py:12: ParserWarning: Falling back to the 'python' engine because the 'c' engine does not support regex separators (separators > 1 char and different from '\\s+' are interpreted as regex); you can avoid this warning by specifying engine='python'.\n",
      "  pd.read_csv(path, delimiter=r',\\s+')\n",
      "/tmp/ipykernel_868937/987684252.py:12: ParserWarning: Falling back to the 'python' engine because the 'c' engine does not support regex separators (separators > 1 char and different from '\\s+' are interpreted as regex); you can avoid this warning by specifying engine='python'.\n",
      "  pd.read_csv(path, delimiter=r',\\s+')\n"
     ]
    },
    {
     "name": "stdout",
     "output_type": "stream",
     "text": [
      "DENNIS_2005\n"
     ]
    },
    {
     "name": "stderr",
     "output_type": "stream",
     "text": [
      "/home/fred/micromamba/envs/open-gira/lib/python3.10/site-packages/geopandas/geodataframe.py:2061: UserWarning: CRS mismatch between the CRS of left geometries and the CRS of right geometries.\n",
      "Use `to_crs()` to reproject one of the input geometries to match the CRS of the other.\n",
      "\n",
      "Left CRS: EPSG:4326\n",
      "Right CRS: None\n",
      "\n",
      "  return geopandas.sjoin(left_df=self, right_df=df, *args, **kwargs)\n",
      "/tmp/ipykernel_868937/987684252.py:12: ParserWarning: Falling back to the 'python' engine because the 'c' engine does not support regex separators (separators > 1 char and different from '\\s+' are interpreted as regex); you can avoid this warning by specifying engine='python'.\n",
      "  pd.read_csv(path, delimiter=r',\\s+')\n",
      "/tmp/ipykernel_868937/987684252.py:12: ParserWarning: Falling back to the 'python' engine because the 'c' engine does not support regex separators (separators > 1 char and different from '\\s+' are interpreted as regex); you can avoid this warning by specifying engine='python'.\n",
      "  pd.read_csv(path, delimiter=r',\\s+')\n"
     ]
    },
    {
     "name": "stdout",
     "output_type": "stream",
     "text": [
      "EMILY_2005\n"
     ]
    },
    {
     "name": "stderr",
     "output_type": "stream",
     "text": [
      "/home/fred/micromamba/envs/open-gira/lib/python3.10/site-packages/geopandas/geodataframe.py:2061: UserWarning: CRS mismatch between the CRS of left geometries and the CRS of right geometries.\n",
      "Use `to_crs()` to reproject one of the input geometries to match the CRS of the other.\n",
      "\n",
      "Left CRS: EPSG:4326\n",
      "Right CRS: None\n",
      "\n",
      "  return geopandas.sjoin(left_df=self, right_df=df, *args, **kwargs)\n",
      "/tmp/ipykernel_868937/987684252.py:12: ParserWarning: Falling back to the 'python' engine because the 'c' engine does not support regex separators (separators > 1 char and different from '\\s+' are interpreted as regex); you can avoid this warning by specifying engine='python'.\n",
      "  pd.read_csv(path, delimiter=r',\\s+')\n"
     ]
    },
    {
     "name": "stdout",
     "output_type": "stream",
     "text": [
      "HAITANG_2005\n"
     ]
    },
    {
     "name": "stderr",
     "output_type": "stream",
     "text": [
      "/home/fred/micromamba/envs/open-gira/lib/python3.10/site-packages/geopandas/geodataframe.py:2061: UserWarning: CRS mismatch between the CRS of left geometries and the CRS of right geometries.\n",
      "Use `to_crs()` to reproject one of the input geometries to match the CRS of the other.\n",
      "\n",
      "Left CRS: EPSG:4326\n",
      "Right CRS: None\n",
      "\n",
      "  return geopandas.sjoin(left_df=self, right_df=df, *args, **kwargs)\n",
      "/tmp/ipykernel_868937/987684252.py:12: ParserWarning: Falling back to the 'python' engine because the 'c' engine does not support regex separators (separators > 1 char and different from '\\s+' are interpreted as regex); you can avoid this warning by specifying engine='python'.\n",
      "  pd.read_csv(path, delimiter=r',\\s+')\n"
     ]
    },
    {
     "name": "stdout",
     "output_type": "stream",
     "text": [
      "BANYAN_2005\n",
      "BANYAN_2005 has 30.34216026278862, skipping plotting...\n"
     ]
    },
    {
     "name": "stderr",
     "output_type": "stream",
     "text": [
      "/home/fred/micromamba/envs/open-gira/lib/python3.10/site-packages/geopandas/geodataframe.py:2061: UserWarning: CRS mismatch between the CRS of left geometries and the CRS of right geometries.\n",
      "Use `to_crs()` to reproject one of the input geometries to match the CRS of the other.\n",
      "\n",
      "Left CRS: EPSG:4326\n",
      "Right CRS: None\n",
      "\n",
      "  return geopandas.sjoin(left_df=self, right_df=df, *args, **kwargs)\n",
      "/tmp/ipykernel_868937/987684252.py:12: ParserWarning: Falling back to the 'python' engine because the 'c' engine does not support regex separators (separators > 1 char and different from '\\s+' are interpreted as regex); you can avoid this warning by specifying engine='python'.\n",
      "  pd.read_csv(path, delimiter=r',\\s+')\n"
     ]
    },
    {
     "name": "stdout",
     "output_type": "stream",
     "text": [
      "GERT_2005\n",
      "GERT_2005 has 20.576, skipping plotting...\n"
     ]
    },
    {
     "name": "stderr",
     "output_type": "stream",
     "text": [
      "/home/fred/micromamba/envs/open-gira/lib/python3.10/site-packages/geopandas/geodataframe.py:2061: UserWarning: CRS mismatch between the CRS of left geometries and the CRS of right geometries.\n",
      "Use `to_crs()` to reproject one of the input geometries to match the CRS of the other.\n",
      "\n",
      "Left CRS: EPSG:4326\n",
      "Right CRS: None\n",
      "\n",
      "  return geopandas.sjoin(left_df=self, right_df=df, *args, **kwargs)\n",
      "/tmp/ipykernel_868937/987684252.py:12: ParserWarning: Falling back to the 'python' engine because the 'c' engine does not support regex separators (separators > 1 char and different from '\\s+' are interpreted as regex); you can avoid this warning by specifying engine='python'.\n",
      "  pd.read_csv(path, delimiter=r',\\s+')\n"
     ]
    },
    {
     "name": "stdout",
     "output_type": "stream",
     "text": [
      "WASHI_2005\n",
      "WASHI_2005 has 23.364474205893607, skipping plotting...\n"
     ]
    },
    {
     "name": "stderr",
     "output_type": "stream",
     "text": [
      "/home/fred/micromamba/envs/open-gira/lib/python3.10/site-packages/geopandas/geodataframe.py:2061: UserWarning: CRS mismatch between the CRS of left geometries and the CRS of right geometries.\n",
      "Use `to_crs()` to reproject one of the input geometries to match the CRS of the other.\n",
      "\n",
      "Left CRS: EPSG:4326\n",
      "Right CRS: None\n",
      "\n",
      "  return geopandas.sjoin(left_df=self, right_df=df, *args, **kwargs)\n",
      "/tmp/ipykernel_868937/987684252.py:12: ParserWarning: Falling back to the 'python' engine because the 'c' engine does not support regex separators (separators > 1 char and different from '\\s+' are interpreted as regex); you can avoid this warning by specifying engine='python'.\n",
      "  pd.read_csv(path, delimiter=r',\\s+')\n"
     ]
    },
    {
     "name": "stdout",
     "output_type": "stream",
     "text": [
      "MATSA_2005\n"
     ]
    },
    {
     "name": "stderr",
     "output_type": "stream",
     "text": [
      "/home/fred/micromamba/envs/open-gira/lib/python3.10/site-packages/geopandas/geodataframe.py:2061: UserWarning: CRS mismatch between the CRS of left geometries and the CRS of right geometries.\n",
      "Use `to_crs()` to reproject one of the input geometries to match the CRS of the other.\n",
      "\n",
      "Left CRS: EPSG:4326\n",
      "Right CRS: None\n",
      "\n",
      "  return geopandas.sjoin(left_df=self, right_df=df, *args, **kwargs)\n",
      "/tmp/ipykernel_868937/987684252.py:12: ParserWarning: Falling back to the 'python' engine because the 'c' engine does not support regex separators (separators > 1 char and different from '\\s+' are interpreted as regex); you can avoid this warning by specifying engine='python'.\n",
      "  pd.read_csv(path, delimiter=r',\\s+')\n",
      "/tmp/ipykernel_868937/987684252.py:12: ParserWarning: Falling back to the 'python' engine because the 'c' engine does not support regex separators (separators > 1 char and different from '\\s+' are interpreted as regex); you can avoid this warning by specifying engine='python'.\n",
      "  pd.read_csv(path, delimiter=r',\\s+')\n",
      "/tmp/ipykernel_868937/987684252.py:12: ParserWarning: Falling back to the 'python' engine because the 'c' engine does not support regex separators (separators > 1 char and different from '\\s+' are interpreted as regex); you can avoid this warning by specifying engine='python'.\n",
      "  pd.read_csv(path, delimiter=r',\\s+')\n"
     ]
    },
    {
     "name": "stdout",
     "output_type": "stream",
     "text": [
      "SANVU_2005\n",
      "SANVU_2005 has 30.118818859548412, skipping plotting...\n"
     ]
    },
    {
     "name": "stderr",
     "output_type": "stream",
     "text": [
      "/home/fred/micromamba/envs/open-gira/lib/python3.10/site-packages/geopandas/geodataframe.py:2061: UserWarning: CRS mismatch between the CRS of left geometries and the CRS of right geometries.\n",
      "Use `to_crs()` to reproject one of the input geometries to match the CRS of the other.\n",
      "\n",
      "Left CRS: EPSG:4326\n",
      "Right CRS: None\n",
      "\n",
      "  return geopandas.sjoin(left_df=self, right_df=df, *args, **kwargs)\n",
      "/tmp/ipykernel_868937/987684252.py:12: ParserWarning: Falling back to the 'python' engine because the 'c' engine does not support regex separators (separators > 1 char and different from '\\s+' are interpreted as regex); you can avoid this warning by specifying engine='python'.\n",
      "  pd.read_csv(path, delimiter=r',\\s+')\n"
     ]
    },
    {
     "name": "stdout",
     "output_type": "stream",
     "text": [
      "MAWAR_2005\n"
     ]
    },
    {
     "name": "stderr",
     "output_type": "stream",
     "text": [
      "/home/fred/micromamba/envs/open-gira/lib/python3.10/site-packages/geopandas/geodataframe.py:2061: UserWarning: CRS mismatch between the CRS of left geometries and the CRS of right geometries.\n",
      "Use `to_crs()` to reproject one of the input geometries to match the CRS of the other.\n",
      "\n",
      "Left CRS: EPSG:4326\n",
      "Right CRS: None\n",
      "\n",
      "  return geopandas.sjoin(left_df=self, right_df=df, *args, **kwargs)\n",
      "/tmp/ipykernel_868937/987684252.py:12: ParserWarning: Falling back to the 'python' engine because the 'c' engine does not support regex separators (separators > 1 char and different from '\\s+' are interpreted as regex); you can avoid this warning by specifying engine='python'.\n",
      "  pd.read_csv(path, delimiter=r',\\s+')\n"
     ]
    },
    {
     "name": "stdout",
     "output_type": "stream",
     "text": [
      "JOSE_2005\n",
      "JOSE_2005 has 25.72, skipping plotting...\n"
     ]
    },
    {
     "name": "stderr",
     "output_type": "stream",
     "text": [
      "/home/fred/micromamba/envs/open-gira/lib/python3.10/site-packages/geopandas/geodataframe.py:2061: UserWarning: CRS mismatch between the CRS of left geometries and the CRS of right geometries.\n",
      "Use `to_crs()` to reproject one of the input geometries to match the CRS of the other.\n",
      "\n",
      "Left CRS: EPSG:4326\n",
      "Right CRS: None\n",
      "\n",
      "  return geopandas.sjoin(left_df=self, right_df=df, *args, **kwargs)\n",
      "/tmp/ipykernel_868937/987684252.py:12: ParserWarning: Falling back to the 'python' engine because the 'c' engine does not support regex separators (separators > 1 char and different from '\\s+' are interpreted as regex); you can avoid this warning by specifying engine='python'.\n",
      "  pd.read_csv(path, delimiter=r',\\s+')\n",
      "/tmp/ipykernel_868937/987684252.py:12: ParserWarning: Falling back to the 'python' engine because the 'c' engine does not support regex separators (separators > 1 char and different from '\\s+' are interpreted as regex); you can avoid this warning by specifying engine='python'.\n",
      "  pd.read_csv(path, delimiter=r',\\s+')\n",
      "/tmp/ipykernel_868937/987684252.py:12: ParserWarning: Falling back to the 'python' engine because the 'c' engine does not support regex separators (separators > 1 char and different from '\\s+' are interpreted as regex); you can avoid this warning by specifying engine='python'.\n",
      "  pd.read_csv(path, delimiter=r',\\s+')\n"
     ]
    },
    {
     "name": "stdout",
     "output_type": "stream",
     "text": [
      "KATRINA_2005\n"
     ]
    },
    {
     "name": "stderr",
     "output_type": "stream",
     "text": [
      "/home/fred/micromamba/envs/open-gira/lib/python3.10/site-packages/geopandas/geodataframe.py:2061: UserWarning: CRS mismatch between the CRS of left geometries and the CRS of right geometries.\n",
      "Use `to_crs()` to reproject one of the input geometries to match the CRS of the other.\n",
      "\n",
      "Left CRS: EPSG:4326\n",
      "Right CRS: None\n",
      "\n",
      "  return geopandas.sjoin(left_df=self, right_df=df, *args, **kwargs)\n",
      "/tmp/ipykernel_868937/987684252.py:12: ParserWarning: Falling back to the 'python' engine because the 'c' engine does not support regex separators (separators > 1 char and different from '\\s+' are interpreted as regex); you can avoid this warning by specifying engine='python'.\n",
      "  pd.read_csv(path, delimiter=r',\\s+')\n"
     ]
    },
    {
     "name": "stdout",
     "output_type": "stream",
     "text": [
      "TALIM_2005\n"
     ]
    },
    {
     "name": "stderr",
     "output_type": "stream",
     "text": [
      "/home/fred/micromamba/envs/open-gira/lib/python3.10/site-packages/geopandas/geodataframe.py:2061: UserWarning: CRS mismatch between the CRS of left geometries and the CRS of right geometries.\n",
      "Use `to_crs()` to reproject one of the input geometries to match the CRS of the other.\n",
      "\n",
      "Left CRS: EPSG:4326\n",
      "Right CRS: None\n",
      "\n",
      "  return geopandas.sjoin(left_df=self, right_df=df, *args, **kwargs)\n",
      "/tmp/ipykernel_868937/987684252.py:12: ParserWarning: Falling back to the 'python' engine because the 'c' engine does not support regex separators (separators > 1 char and different from '\\s+' are interpreted as regex); you can avoid this warning by specifying engine='python'.\n",
      "  pd.read_csv(path, delimiter=r',\\s+')\n"
     ]
    },
    {
     "name": "stdout",
     "output_type": "stream",
     "text": [
      "NABI_2005\n"
     ]
    },
    {
     "name": "stderr",
     "output_type": "stream",
     "text": [
      "/home/fred/micromamba/envs/open-gira/lib/python3.10/site-packages/geopandas/geodataframe.py:2061: UserWarning: CRS mismatch between the CRS of left geometries and the CRS of right geometries.\n",
      "Use `to_crs()` to reproject one of the input geometries to match the CRS of the other.\n",
      "\n",
      "Left CRS: EPSG:4326\n",
      "Right CRS: None\n",
      "\n",
      "  return geopandas.sjoin(left_df=self, right_df=df, *args, **kwargs)\n",
      "/tmp/ipykernel_868937/987684252.py:12: ParserWarning: Falling back to the 'python' engine because the 'c' engine does not support regex separators (separators > 1 char and different from '\\s+' are interpreted as regex); you can avoid this warning by specifying engine='python'.\n",
      "  pd.read_csv(path, delimiter=r',\\s+')\n"
     ]
    },
    {
     "name": "stdout",
     "output_type": "stream",
     "text": [
      "KHANUN_2005\n"
     ]
    },
    {
     "name": "stderr",
     "output_type": "stream",
     "text": [
      "/home/fred/micromamba/envs/open-gira/lib/python3.10/site-packages/geopandas/geodataframe.py:2061: UserWarning: CRS mismatch between the CRS of left geometries and the CRS of right geometries.\n",
      "Use `to_crs()` to reproject one of the input geometries to match the CRS of the other.\n",
      "\n",
      "Left CRS: EPSG:4326\n",
      "Right CRS: None\n",
      "\n",
      "  return geopandas.sjoin(left_df=self, right_df=df, *args, **kwargs)\n",
      "/tmp/ipykernel_868937/987684252.py:12: ParserWarning: Falling back to the 'python' engine because the 'c' engine does not support regex separators (separators > 1 char and different from '\\s+' are interpreted as regex); you can avoid this warning by specifying engine='python'.\n",
      "  pd.read_csv(path, delimiter=r',\\s+')\n",
      "/tmp/ipykernel_868937/987684252.py:12: ParserWarning: Falling back to the 'python' engine because the 'c' engine does not support regex separators (separators > 1 char and different from '\\s+' are interpreted as regex); you can avoid this warning by specifying engine='python'.\n",
      "  pd.read_csv(path, delimiter=r',\\s+')\n"
     ]
    },
    {
     "name": "stdout",
     "output_type": "stream",
     "text": [
      "OPHELIA_2005\n",
      "OPHELIA_2005 has 38.58, skipping plotting...\n"
     ]
    },
    {
     "name": "stderr",
     "output_type": "stream",
     "text": [
      "/home/fred/micromamba/envs/open-gira/lib/python3.10/site-packages/geopandas/geodataframe.py:2061: UserWarning: CRS mismatch between the CRS of left geometries and the CRS of right geometries.\n",
      "Use `to_crs()` to reproject one of the input geometries to match the CRS of the other.\n",
      "\n",
      "Left CRS: EPSG:4326\n",
      "Right CRS: None\n",
      "\n",
      "  return geopandas.sjoin(left_df=self, right_df=df, *args, **kwargs)\n",
      "/tmp/ipykernel_868937/987684252.py:12: ParserWarning: Falling back to the 'python' engine because the 'c' engine does not support regex separators (separators > 1 char and different from '\\s+' are interpreted as regex); you can avoid this warning by specifying engine='python'.\n",
      "  pd.read_csv(path, delimiter=r',\\s+')\n"
     ]
    },
    {
     "name": "stdout",
     "output_type": "stream",
     "text": [
      "VICENTE_2005\n",
      "VICENTE_2005 has 23.835579364714885, skipping plotting...\n"
     ]
    },
    {
     "name": "stderr",
     "output_type": "stream",
     "text": [
      "/home/fred/micromamba/envs/open-gira/lib/python3.10/site-packages/geopandas/geodataframe.py:2061: UserWarning: CRS mismatch between the CRS of left geometries and the CRS of right geometries.\n",
      "Use `to_crs()` to reproject one of the input geometries to match the CRS of the other.\n",
      "\n",
      "Left CRS: EPSG:4326\n",
      "Right CRS: None\n",
      "\n",
      "  return geopandas.sjoin(left_df=self, right_df=df, *args, **kwargs)\n",
      "/tmp/ipykernel_868937/987684252.py:12: ParserWarning: Falling back to the 'python' engine because the 'c' engine does not support regex separators (separators > 1 char and different from '\\s+' are interpreted as regex); you can avoid this warning by specifying engine='python'.\n",
      "  pd.read_csv(path, delimiter=r',\\s+')\n",
      "/tmp/ipykernel_868937/987684252.py:12: ParserWarning: Falling back to the 'python' engine because the 'c' engine does not support regex separators (separators > 1 char and different from '\\s+' are interpreted as regex); you can avoid this warning by specifying engine='python'.\n",
      "  pd.read_csv(path, delimiter=r',\\s+')\n"
     ]
    },
    {
     "name": "stdout",
     "output_type": "stream",
     "text": [
      "RITA_2005\n"
     ]
    },
    {
     "name": "stderr",
     "output_type": "stream",
     "text": [
      "/home/fred/micromamba/envs/open-gira/lib/python3.10/site-packages/geopandas/geodataframe.py:2061: UserWarning: CRS mismatch between the CRS of left geometries and the CRS of right geometries.\n",
      "Use `to_crs()` to reproject one of the input geometries to match the CRS of the other.\n",
      "\n",
      "Left CRS: EPSG:4326\n",
      "Right CRS: None\n",
      "\n",
      "  return geopandas.sjoin(left_df=self, right_df=df, *args, **kwargs)\n",
      "/tmp/ipykernel_868937/987684252.py:12: ParserWarning: Falling back to the 'python' engine because the 'c' engine does not support regex separators (separators > 1 char and different from '\\s+' are interpreted as regex); you can avoid this warning by specifying engine='python'.\n",
      "  pd.read_csv(path, delimiter=r',\\s+')\n",
      "/tmp/ipykernel_868937/987684252.py:12: ParserWarning: Falling back to the 'python' engine because the 'c' engine does not support regex separators (separators > 1 char and different from '\\s+' are interpreted as regex); you can avoid this warning by specifying engine='python'.\n",
      "  pd.read_csv(path, delimiter=r',\\s+')\n"
     ]
    },
    {
     "name": "stdout",
     "output_type": "stream",
     "text": [
      "DAMREY_2005\n"
     ]
    },
    {
     "name": "stderr",
     "output_type": "stream",
     "text": [
      "/home/fred/micromamba/envs/open-gira/lib/python3.10/site-packages/geopandas/geodataframe.py:2061: UserWarning: CRS mismatch between the CRS of left geometries and the CRS of right geometries.\n",
      "Use `to_crs()` to reproject one of the input geometries to match the CRS of the other.\n",
      "\n",
      "Left CRS: EPSG:4326\n",
      "Right CRS: None\n",
      "\n",
      "  return geopandas.sjoin(left_df=self, right_df=df, *args, **kwargs)\n",
      "/tmp/ipykernel_868937/987684252.py:12: ParserWarning: Falling back to the 'python' engine because the 'c' engine does not support regex separators (separators > 1 char and different from '\\s+' are interpreted as regex); you can avoid this warning by specifying engine='python'.\n",
      "  pd.read_csv(path, delimiter=r',\\s+')\n"
     ]
    },
    {
     "name": "stdout",
     "output_type": "stream",
     "text": [
      "LONGWANG_2005\n"
     ]
    },
    {
     "name": "stderr",
     "output_type": "stream",
     "text": [
      "/home/fred/micromamba/envs/open-gira/lib/python3.10/site-packages/geopandas/geodataframe.py:2061: UserWarning: CRS mismatch between the CRS of left geometries and the CRS of right geometries.\n",
      "Use `to_crs()` to reproject one of the input geometries to match the CRS of the other.\n",
      "\n",
      "Left CRS: EPSG:4326\n",
      "Right CRS: None\n",
      "\n",
      "  return geopandas.sjoin(left_df=self, right_df=df, *args, **kwargs)\n",
      "/tmp/ipykernel_868937/987684252.py:12: ParserWarning: Falling back to the 'python' engine because the 'c' engine does not support regex separators (separators > 1 char and different from '\\s+' are interpreted as regex); you can avoid this warning by specifying engine='python'.\n",
      "  pd.read_csv(path, delimiter=r',\\s+')\n"
     ]
    },
    {
     "name": "stdout",
     "output_type": "stream",
     "text": [
      "OTIS_2005\n"
     ]
    },
    {
     "name": "stderr",
     "output_type": "stream",
     "text": [
      "/home/fred/micromamba/envs/open-gira/lib/python3.10/site-packages/geopandas/geodataframe.py:2061: UserWarning: CRS mismatch between the CRS of left geometries and the CRS of right geometries.\n",
      "Use `to_crs()` to reproject one of the input geometries to match the CRS of the other.\n",
      "\n",
      "Left CRS: EPSG:4326\n",
      "Right CRS: None\n",
      "\n",
      "  return geopandas.sjoin(left_df=self, right_df=df, *args, **kwargs)\n",
      "/tmp/ipykernel_868937/987684252.py:12: ParserWarning: Falling back to the 'python' engine because the 'c' engine does not support regex separators (separators > 1 char and different from '\\s+' are interpreted as regex); you can avoid this warning by specifying engine='python'.\n",
      "  pd.read_csv(path, delimiter=r',\\s+')\n"
     ]
    },
    {
     "name": "stdout",
     "output_type": "stream",
     "text": [
      "STAN_2005\n",
      "STAN_2005 has 36.007999999999996, skipping plotting...\n"
     ]
    },
    {
     "name": "stderr",
     "output_type": "stream",
     "text": [
      "/home/fred/micromamba/envs/open-gira/lib/python3.10/site-packages/geopandas/geodataframe.py:2061: UserWarning: CRS mismatch between the CRS of left geometries and the CRS of right geometries.\n",
      "Use `to_crs()` to reproject one of the input geometries to match the CRS of the other.\n",
      "\n",
      "Left CRS: EPSG:4326\n",
      "Right CRS: None\n",
      "\n",
      "  return geopandas.sjoin(left_df=self, right_df=df, *args, **kwargs)\n",
      "/tmp/ipykernel_868937/987684252.py:12: ParserWarning: Falling back to the 'python' engine because the 'c' engine does not support regex separators (separators > 1 char and different from '\\s+' are interpreted as regex); you can avoid this warning by specifying engine='python'.\n",
      "  pd.read_csv(path, delimiter=r',\\s+')\n",
      "/tmp/ipykernel_868937/987684252.py:12: ParserWarning: Falling back to the 'python' engine because the 'c' engine does not support regex separators (separators > 1 char and different from '\\s+' are interpreted as regex); you can avoid this warning by specifying engine='python'.\n",
      "  pd.read_csv(path, delimiter=r',\\s+')\n",
      "/tmp/ipykernel_868937/987684252.py:12: ParserWarning: Falling back to the 'python' engine because the 'c' engine does not support regex separators (separators > 1 char and different from '\\s+' are interpreted as regex); you can avoid this warning by specifying engine='python'.\n",
      "  pd.read_csv(path, delimiter=r',\\s+')\n"
     ]
    },
    {
     "name": "stdout",
     "output_type": "stream",
     "text": [
      "TAMMY_2005\n",
      "TAMMY_2005 has 23.148, skipping plotting...\n"
     ]
    },
    {
     "name": "stderr",
     "output_type": "stream",
     "text": [
      "/home/fred/micromamba/envs/open-gira/lib/python3.10/site-packages/geopandas/geodataframe.py:2061: UserWarning: CRS mismatch between the CRS of left geometries and the CRS of right geometries.\n",
      "Use `to_crs()` to reproject one of the input geometries to match the CRS of the other.\n",
      "\n",
      "Left CRS: EPSG:4326\n",
      "Right CRS: None\n",
      "\n",
      "  return geopandas.sjoin(left_df=self, right_df=df, *args, **kwargs)\n",
      "/tmp/ipykernel_868937/987684252.py:12: ParserWarning: Falling back to the 'python' engine because the 'c' engine does not support regex separators (separators > 1 char and different from '\\s+' are interpreted as regex); you can avoid this warning by specifying engine='python'.\n",
      "  pd.read_csv(path, delimiter=r',\\s+')\n",
      "/tmp/ipykernel_868937/987684252.py:12: ParserWarning: Falling back to the 'python' engine because the 'c' engine does not support regex separators (separators > 1 char and different from '\\s+' are interpreted as regex); you can avoid this warning by specifying engine='python'.\n",
      "  pd.read_csv(path, delimiter=r',\\s+')\n",
      "/tmp/ipykernel_868937/987684252.py:12: ParserWarning: Falling back to the 'python' engine because the 'c' engine does not support regex separators (separators > 1 char and different from '\\s+' are interpreted as regex); you can avoid this warning by specifying engine='python'.\n",
      "  pd.read_csv(path, delimiter=r',\\s+')\n"
     ]
    },
    {
     "name": "stdout",
     "output_type": "stream",
     "text": [
      "WILMA_2005\n"
     ]
    },
    {
     "name": "stderr",
     "output_type": "stream",
     "text": [
      "/home/fred/micromamba/envs/open-gira/lib/python3.10/site-packages/geopandas/geodataframe.py:2061: UserWarning: CRS mismatch between the CRS of left geometries and the CRS of right geometries.\n",
      "Use `to_crs()` to reproject one of the input geometries to match the CRS of the other.\n",
      "\n",
      "Left CRS: EPSG:4326\n",
      "Right CRS: None\n",
      "\n",
      "  return geopandas.sjoin(left_df=self, right_df=df, *args, **kwargs)\n",
      "/tmp/ipykernel_868937/987684252.py:12: ParserWarning: Falling back to the 'python' engine because the 'c' engine does not support regex separators (separators > 1 char and different from '\\s+' are interpreted as regex); you can avoid this warning by specifying engine='python'.\n",
      "  pd.read_csv(path, delimiter=r',\\s+')\n"
     ]
    },
    {
     "name": "stdout",
     "output_type": "stream",
     "text": [
      "ALPHA_2005\n",
      "ALPHA_2005 has 23.148, skipping plotting...\n"
     ]
    },
    {
     "name": "stderr",
     "output_type": "stream",
     "text": [
      "/home/fred/micromamba/envs/open-gira/lib/python3.10/site-packages/geopandas/geodataframe.py:2061: UserWarning: CRS mismatch between the CRS of left geometries and the CRS of right geometries.\n",
      "Use `to_crs()` to reproject one of the input geometries to match the CRS of the other.\n",
      "\n",
      "Left CRS: EPSG:4326\n",
      "Right CRS: None\n",
      "\n",
      "  return geopandas.sjoin(left_df=self, right_df=df, *args, **kwargs)\n",
      "/tmp/ipykernel_868937/987684252.py:12: ParserWarning: Falling back to the 'python' engine because the 'c' engine does not support regex separators (separators > 1 char and different from '\\s+' are interpreted as regex); you can avoid this warning by specifying engine='python'.\n",
      "  pd.read_csv(path, delimiter=r',\\s+')\n",
      "/tmp/ipykernel_868937/987684252.py:12: ParserWarning: Falling back to the 'python' engine because the 'c' engine does not support regex separators (separators > 1 char and different from '\\s+' are interpreted as regex); you can avoid this warning by specifying engine='python'.\n",
      "  pd.read_csv(path, delimiter=r',\\s+')\n"
     ]
    },
    {
     "name": "stdout",
     "output_type": "stream",
     "text": [
      "BETA_2005\n"
     ]
    },
    {
     "name": "stderr",
     "output_type": "stream",
     "text": [
      "/home/fred/micromamba/envs/open-gira/lib/python3.10/site-packages/geopandas/geodataframe.py:2061: UserWarning: CRS mismatch between the CRS of left geometries and the CRS of right geometries.\n",
      "Use `to_crs()` to reproject one of the input geometries to match the CRS of the other.\n",
      "\n",
      "Left CRS: EPSG:4326\n",
      "Right CRS: None\n",
      "\n",
      "  return geopandas.sjoin(left_df=self, right_df=df, *args, **kwargs)\n",
      "/tmp/ipykernel_868937/987684252.py:12: ParserWarning: Falling back to the 'python' engine because the 'c' engine does not support regex separators (separators > 1 char and different from '\\s+' are interpreted as regex); you can avoid this warning by specifying engine='python'.\n",
      "  pd.read_csv(path, delimiter=r',\\s+')\n"
     ]
    },
    {
     "name": "stdout",
     "output_type": "stream",
     "text": [
      "KAI-TAK_2005\n"
     ]
    },
    {
     "name": "stderr",
     "output_type": "stream",
     "text": [
      "/home/fred/micromamba/envs/open-gira/lib/python3.10/site-packages/geopandas/geodataframe.py:2061: UserWarning: CRS mismatch between the CRS of left geometries and the CRS of right geometries.\n",
      "Use `to_crs()` to reproject one of the input geometries to match the CRS of the other.\n",
      "\n",
      "Left CRS: EPSG:4326\n",
      "Right CRS: None\n",
      "\n",
      "  return geopandas.sjoin(left_df=self, right_df=df, *args, **kwargs)\n",
      "/tmp/ipykernel_868937/987684252.py:12: ParserWarning: Falling back to the 'python' engine because the 'c' engine does not support regex separators (separators > 1 char and different from '\\s+' are interpreted as regex); you can avoid this warning by specifying engine='python'.\n",
      "  pd.read_csv(path, delimiter=r',\\s+')\n"
     ]
    },
    {
     "name": "stdout",
     "output_type": "stream",
     "text": [
      "TEMBIN_2005\n",
      "TEMBIN_2005 has 23.014352681039245, skipping plotting...\n"
     ]
    },
    {
     "name": "stderr",
     "output_type": "stream",
     "text": [
      "/home/fred/micromamba/envs/open-gira/lib/python3.10/site-packages/geopandas/geodataframe.py:2061: UserWarning: CRS mismatch between the CRS of left geometries and the CRS of right geometries.\n",
      "Use `to_crs()` to reproject one of the input geometries to match the CRS of the other.\n",
      "\n",
      "Left CRS: EPSG:4326\n",
      "Right CRS: None\n",
      "\n",
      "  return geopandas.sjoin(left_df=self, right_df=df, *args, **kwargs)\n",
      "/tmp/ipykernel_868937/987684252.py:12: ParserWarning: Falling back to the 'python' engine because the 'c' engine does not support regex separators (separators > 1 char and different from '\\s+' are interpreted as regex); you can avoid this warning by specifying engine='python'.\n",
      "  pd.read_csv(path, delimiter=r',\\s+')\n"
     ]
    },
    {
     "name": "stdout",
     "output_type": "stream",
     "text": [
      "BOLAVEN_2005\n",
      "BOLAVEN_2005 has 33.81906854190585, skipping plotting...\n"
     ]
    },
    {
     "name": "stderr",
     "output_type": "stream",
     "text": [
      "/home/fred/micromamba/envs/open-gira/lib/python3.10/site-packages/geopandas/geodataframe.py:2061: UserWarning: CRS mismatch between the CRS of left geometries and the CRS of right geometries.\n",
      "Use `to_crs()` to reproject one of the input geometries to match the CRS of the other.\n",
      "\n",
      "Left CRS: EPSG:4326\n",
      "Right CRS: None\n",
      "\n",
      "  return geopandas.sjoin(left_df=self, right_df=df, *args, **kwargs)\n",
      "/tmp/ipykernel_868937/987684252.py:12: ParserWarning: Falling back to the 'python' engine because the 'c' engine does not support regex separators (separators > 1 char and different from '\\s+' are interpreted as regex); you can avoid this warning by specifying engine='python'.\n",
      "  pd.read_csv(path, delimiter=r',\\s+')\n"
     ]
    },
    {
     "name": "stdout",
     "output_type": "stream",
     "text": [
      "GAMMA_2005\n",
      "GAMMA_2005 has 23.148, skipping plotting...\n"
     ]
    },
    {
     "name": "stderr",
     "output_type": "stream",
     "text": [
      "/home/fred/micromamba/envs/open-gira/lib/python3.10/site-packages/geopandas/geodataframe.py:2061: UserWarning: CRS mismatch between the CRS of left geometries and the CRS of right geometries.\n",
      "Use `to_crs()` to reproject one of the input geometries to match the CRS of the other.\n",
      "\n",
      "Left CRS: EPSG:4326\n",
      "Right CRS: None\n",
      "\n",
      "  return geopandas.sjoin(left_df=self, right_df=df, *args, **kwargs)\n",
      "/tmp/ipykernel_868937/987684252.py:12: ParserWarning: Falling back to the 'python' engine because the 'c' engine does not support regex separators (separators > 1 char and different from '\\s+' are interpreted as regex); you can avoid this warning by specifying engine='python'.\n",
      "  pd.read_csv(path, delimiter=r',\\s+')\n"
     ]
    },
    {
     "name": "stdout",
     "output_type": "stream",
     "text": [
      "FANOOS_2005\n",
      "FANOOS_2005 has 28.291999999999998, skipping plotting...\n"
     ]
    },
    {
     "name": "stderr",
     "output_type": "stream",
     "text": [
      "/home/fred/micromamba/envs/open-gira/lib/python3.10/site-packages/geopandas/geodataframe.py:2061: UserWarning: CRS mismatch between the CRS of left geometries and the CRS of right geometries.\n",
      "Use `to_crs()` to reproject one of the input geometries to match the CRS of the other.\n",
      "\n",
      "Left CRS: EPSG:4326\n",
      "Right CRS: None\n",
      "\n",
      "  return geopandas.sjoin(left_df=self, right_df=df, *args, **kwargs)\n",
      "/tmp/ipykernel_868937/987684252.py:12: ParserWarning: Falling back to the 'python' engine because the 'c' engine does not support regex separators (separators > 1 char and different from '\\s+' are interpreted as regex); you can avoid this warning by specifying engine='python'.\n",
      "  pd.read_csv(path, delimiter=r',\\s+')\n"
     ]
    },
    {
     "name": "stdout",
     "output_type": "stream",
     "text": [
      "DARYL_2006\n",
      "DARYL_2006 has 28.847318181818178, skipping plotting...\n"
     ]
    },
    {
     "name": "stderr",
     "output_type": "stream",
     "text": [
      "/home/fred/micromamba/envs/open-gira/lib/python3.10/site-packages/geopandas/geodataframe.py:2061: UserWarning: CRS mismatch between the CRS of left geometries and the CRS of right geometries.\n",
      "Use `to_crs()` to reproject one of the input geometries to match the CRS of the other.\n",
      "\n",
      "Left CRS: EPSG:4326\n",
      "Right CRS: None\n",
      "\n",
      "  return geopandas.sjoin(left_df=self, right_df=df, *args, **kwargs)\n",
      "/tmp/ipykernel_868937/987684252.py:12: ParserWarning: Falling back to the 'python' engine because the 'c' engine does not support regex separators (separators > 1 char and different from '\\s+' are interpreted as regex); you can avoid this warning by specifying engine='python'.\n",
      "  pd.read_csv(path, delimiter=r',\\s+')\n",
      "/tmp/ipykernel_868937/987684252.py:12: ParserWarning: Falling back to the 'python' engine because the 'c' engine does not support regex separators (separators > 1 char and different from '\\s+' are interpreted as regex); you can avoid this warning by specifying engine='python'.\n",
      "  pd.read_csv(path, delimiter=r',\\s+')\n"
     ]
    },
    {
     "name": "stdout",
     "output_type": "stream",
     "text": [
      "LARRY_2006\n"
     ]
    },
    {
     "name": "stderr",
     "output_type": "stream",
     "text": [
      "/home/fred/micromamba/envs/open-gira/lib/python3.10/site-packages/geopandas/geodataframe.py:2061: UserWarning: CRS mismatch between the CRS of left geometries and the CRS of right geometries.\n",
      "Use `to_crs()` to reproject one of the input geometries to match the CRS of the other.\n",
      "\n",
      "Left CRS: EPSG:4326\n",
      "Right CRS: None\n",
      "\n",
      "  return geopandas.sjoin(left_df=self, right_df=df, *args, **kwargs)\n",
      "/tmp/ipykernel_868937/987684252.py:12: ParserWarning: Falling back to the 'python' engine because the 'c' engine does not support regex separators (separators > 1 char and different from '\\s+' are interpreted as regex); you can avoid this warning by specifying engine='python'.\n",
      "  pd.read_csv(path, delimiter=r',\\s+')\n"
     ]
    },
    {
     "name": "stdout",
     "output_type": "stream",
     "text": [
      "GLENDA_2006\n"
     ]
    },
    {
     "name": "stderr",
     "output_type": "stream",
     "text": [
      "/home/fred/micromamba/envs/open-gira/lib/python3.10/site-packages/geopandas/geodataframe.py:2061: UserWarning: CRS mismatch between the CRS of left geometries and the CRS of right geometries.\n",
      "Use `to_crs()` to reproject one of the input geometries to match the CRS of the other.\n",
      "\n",
      "Left CRS: EPSG:4326\n",
      "Right CRS: None\n",
      "\n",
      "  return geopandas.sjoin(left_df=self, right_df=df, *args, **kwargs)\n",
      "/tmp/ipykernel_868937/987684252.py:12: ParserWarning: Falling back to the 'python' engine because the 'c' engine does not support regex separators (separators > 1 char and different from '\\s+' are interpreted as regex); you can avoid this warning by specifying engine='python'.\n",
      "  pd.read_csv(path, delimiter=r',\\s+')\n"
     ]
    },
    {
     "name": "stdout",
     "output_type": "stream",
     "text": [
      "MONICA_2006\n"
     ]
    },
    {
     "name": "stderr",
     "output_type": "stream",
     "text": [
      "/home/fred/micromamba/envs/open-gira/lib/python3.10/site-packages/geopandas/geodataframe.py:2061: UserWarning: CRS mismatch between the CRS of left geometries and the CRS of right geometries.\n",
      "Use `to_crs()` to reproject one of the input geometries to match the CRS of the other.\n",
      "\n",
      "Left CRS: EPSG:4326\n",
      "Right CRS: None\n",
      "\n",
      "  return geopandas.sjoin(left_df=self, right_df=df, *args, **kwargs)\n",
      "/tmp/ipykernel_868937/987684252.py:12: ParserWarning: Falling back to the 'python' engine because the 'c' engine does not support regex separators (separators > 1 char and different from '\\s+' are interpreted as regex); you can avoid this warning by specifying engine='python'.\n",
      "  pd.read_csv(path, delimiter=r',\\s+')\n"
     ]
    },
    {
     "name": "stdout",
     "output_type": "stream",
     "text": [
      "MALA_2006\n"
     ]
    },
    {
     "name": "stderr",
     "output_type": "stream",
     "text": [
      "/home/fred/micromamba/envs/open-gira/lib/python3.10/site-packages/geopandas/geodataframe.py:2061: UserWarning: CRS mismatch between the CRS of left geometries and the CRS of right geometries.\n",
      "Use `to_crs()` to reproject one of the input geometries to match the CRS of the other.\n",
      "\n",
      "Left CRS: EPSG:4326\n",
      "Right CRS: None\n",
      "\n",
      "  return geopandas.sjoin(left_df=self, right_df=df, *args, **kwargs)\n",
      "/tmp/ipykernel_868937/987684252.py:12: ParserWarning: Falling back to the 'python' engine because the 'c' engine does not support regex separators (separators > 1 char and different from '\\s+' are interpreted as regex); you can avoid this warning by specifying engine='python'.\n",
      "  pd.read_csv(path, delimiter=r',\\s+')\n",
      "/tmp/ipykernel_868937/987684252.py:12: ParserWarning: Falling back to the 'python' engine because the 'c' engine does not support regex separators (separators > 1 char and different from '\\s+' are interpreted as regex); you can avoid this warning by specifying engine='python'.\n",
      "  pd.read_csv(path, delimiter=r',\\s+')\n",
      "/tmp/ipykernel_868937/987684252.py:12: ParserWarning: Falling back to the 'python' engine because the 'c' engine does not support regex separators (separators > 1 char and different from '\\s+' are interpreted as regex); you can avoid this warning by specifying engine='python'.\n",
      "  pd.read_csv(path, delimiter=r',\\s+')\n"
     ]
    },
    {
     "name": "stdout",
     "output_type": "stream",
     "text": [
      "CHANCHU_2006\n"
     ]
    },
    {
     "name": "stderr",
     "output_type": "stream",
     "text": [
      "/home/fred/micromamba/envs/open-gira/lib/python3.10/site-packages/geopandas/geodataframe.py:2061: UserWarning: CRS mismatch between the CRS of left geometries and the CRS of right geometries.\n",
      "Use `to_crs()` to reproject one of the input geometries to match the CRS of the other.\n",
      "\n",
      "Left CRS: EPSG:4326\n",
      "Right CRS: None\n",
      "\n",
      "  return geopandas.sjoin(left_df=self, right_df=df, *args, **kwargs)\n",
      "/tmp/ipykernel_868937/987684252.py:12: ParserWarning: Falling back to the 'python' engine because the 'c' engine does not support regex separators (separators > 1 char and different from '\\s+' are interpreted as regex); you can avoid this warning by specifying engine='python'.\n",
      "  pd.read_csv(path, delimiter=r',\\s+')\n",
      "/tmp/ipykernel_868937/987684252.py:12: ParserWarning: Falling back to the 'python' engine because the 'c' engine does not support regex separators (separators > 1 char and different from '\\s+' are interpreted as regex); you can avoid this warning by specifying engine='python'.\n",
      "  pd.read_csv(path, delimiter=r',\\s+')\n"
     ]
    },
    {
     "name": "stdout",
     "output_type": "stream",
     "text": [
      "ALBERTO_2006\n",
      "ALBERTO_2006 has 30.863999999999997, skipping plotting...\n"
     ]
    },
    {
     "name": "stderr",
     "output_type": "stream",
     "text": [
      "/home/fred/micromamba/envs/open-gira/lib/python3.10/site-packages/geopandas/geodataframe.py:2061: UserWarning: CRS mismatch between the CRS of left geometries and the CRS of right geometries.\n",
      "Use `to_crs()` to reproject one of the input geometries to match the CRS of the other.\n",
      "\n",
      "Left CRS: EPSG:4326\n",
      "Right CRS: None\n",
      "\n",
      "  return geopandas.sjoin(left_df=self, right_df=df, *args, **kwargs)\n",
      "/tmp/ipykernel_868937/987684252.py:12: ParserWarning: Falling back to the 'python' engine because the 'c' engine does not support regex separators (separators > 1 char and different from '\\s+' are interpreted as regex); you can avoid this warning by specifying engine='python'.\n",
      "  pd.read_csv(path, delimiter=r',\\s+')\n"
     ]
    },
    {
     "name": "stdout",
     "output_type": "stream",
     "text": [
      "EWINIAR_2006\n"
     ]
    },
    {
     "name": "stderr",
     "output_type": "stream",
     "text": [
      "/home/fred/micromamba/envs/open-gira/lib/python3.10/site-packages/geopandas/geodataframe.py:2061: UserWarning: CRS mismatch between the CRS of left geometries and the CRS of right geometries.\n",
      "Use `to_crs()` to reproject one of the input geometries to match the CRS of the other.\n",
      "\n",
      "Left CRS: EPSG:4326\n",
      "Right CRS: None\n",
      "\n",
      "  return geopandas.sjoin(left_df=self, right_df=df, *args, **kwargs)\n",
      "/tmp/ipykernel_868937/987684252.py:12: ParserWarning: Falling back to the 'python' engine because the 'c' engine does not support regex separators (separators > 1 char and different from '\\s+' are interpreted as regex); you can avoid this warning by specifying engine='python'.\n",
      "  pd.read_csv(path, delimiter=r',\\s+')\n"
     ]
    },
    {
     "name": "stdout",
     "output_type": "stream",
     "text": [
      "BILIS_2006\n",
      "BILIS_2006 has 30.23312997065952, skipping plotting...\n"
     ]
    },
    {
     "name": "stderr",
     "output_type": "stream",
     "text": [
      "/home/fred/micromamba/envs/open-gira/lib/python3.10/site-packages/geopandas/geodataframe.py:2061: UserWarning: CRS mismatch between the CRS of left geometries and the CRS of right geometries.\n",
      "Use `to_crs()` to reproject one of the input geometries to match the CRS of the other.\n",
      "\n",
      "Left CRS: EPSG:4326\n",
      "Right CRS: None\n",
      "\n",
      "  return geopandas.sjoin(left_df=self, right_df=df, *args, **kwargs)\n",
      "/tmp/ipykernel_868937/987684252.py:12: ParserWarning: Falling back to the 'python' engine because the 'c' engine does not support regex separators (separators > 1 char and different from '\\s+' are interpreted as regex); you can avoid this warning by specifying engine='python'.\n",
      "  pd.read_csv(path, delimiter=r',\\s+')\n",
      "/tmp/ipykernel_868937/987684252.py:12: ParserWarning: Falling back to the 'python' engine because the 'c' engine does not support regex separators (separators > 1 char and different from '\\s+' are interpreted as regex); you can avoid this warning by specifying engine='python'.\n",
      "  pd.read_csv(path, delimiter=r',\\s+')\n"
     ]
    },
    {
     "name": "stdout",
     "output_type": "stream",
     "text": [
      "KAEMI_2006\n"
     ]
    },
    {
     "name": "stderr",
     "output_type": "stream",
     "text": [
      "/home/fred/micromamba/envs/open-gira/lib/python3.10/site-packages/geopandas/geodataframe.py:2061: UserWarning: CRS mismatch between the CRS of left geometries and the CRS of right geometries.\n",
      "Use `to_crs()` to reproject one of the input geometries to match the CRS of the other.\n",
      "\n",
      "Left CRS: EPSG:4326\n",
      "Right CRS: None\n",
      "\n",
      "  return geopandas.sjoin(left_df=self, right_df=df, *args, **kwargs)\n",
      "/tmp/ipykernel_868937/987684252.py:12: ParserWarning: Falling back to the 'python' engine because the 'c' engine does not support regex separators (separators > 1 char and different from '\\s+' are interpreted as regex); you can avoid this warning by specifying engine='python'.\n",
      "  pd.read_csv(path, delimiter=r',\\s+')\n"
     ]
    },
    {
     "name": "stdout",
     "output_type": "stream",
     "text": [
      "BERYL_2006\n",
      "BERYL_2006 has 25.72, skipping plotting...\n"
     ]
    },
    {
     "name": "stderr",
     "output_type": "stream",
     "text": [
      "/home/fred/micromamba/envs/open-gira/lib/python3.10/site-packages/geopandas/geodataframe.py:2061: UserWarning: CRS mismatch between the CRS of left geometries and the CRS of right geometries.\n",
      "Use `to_crs()` to reproject one of the input geometries to match the CRS of the other.\n",
      "\n",
      "Left CRS: EPSG:4326\n",
      "Right CRS: None\n",
      "\n",
      "  return geopandas.sjoin(left_df=self, right_df=df, *args, **kwargs)\n",
      "/tmp/ipykernel_868937/987684252.py:12: ParserWarning: Falling back to the 'python' engine because the 'c' engine does not support regex separators (separators > 1 char and different from '\\s+' are interpreted as regex); you can avoid this warning by specifying engine='python'.\n",
      "  pd.read_csv(path, delimiter=r',\\s+')\n",
      "/tmp/ipykernel_868937/987684252.py:12: ParserWarning: Falling back to the 'python' engine because the 'c' engine does not support regex separators (separators > 1 char and different from '\\s+' are interpreted as regex); you can avoid this warning by specifying engine='python'.\n",
      "  pd.read_csv(path, delimiter=r',\\s+')\n"
     ]
    },
    {
     "name": "stdout",
     "output_type": "stream",
     "text": [
      "PRAPIROON_2006\n",
      "PRAPIROON_2006 has 37.39129076412807, skipping plotting...\n"
     ]
    },
    {
     "name": "stderr",
     "output_type": "stream",
     "text": [
      "/home/fred/micromamba/envs/open-gira/lib/python3.10/site-packages/geopandas/geodataframe.py:2061: UserWarning: CRS mismatch between the CRS of left geometries and the CRS of right geometries.\n",
      "Use `to_crs()` to reproject one of the input geometries to match the CRS of the other.\n",
      "\n",
      "Left CRS: EPSG:4326\n",
      "Right CRS: None\n",
      "\n",
      "  return geopandas.sjoin(left_df=self, right_df=df, *args, **kwargs)\n",
      "/tmp/ipykernel_868937/987684252.py:12: ParserWarning: Falling back to the 'python' engine because the 'c' engine does not support regex separators (separators > 1 char and different from '\\s+' are interpreted as regex); you can avoid this warning by specifying engine='python'.\n",
      "  pd.read_csv(path, delimiter=r',\\s+')\n"
     ]
    },
    {
     "name": "stdout",
     "output_type": "stream",
     "text": [
      "CHRIS_2006\n",
      "CHRIS_2006 has 28.291999999999998, skipping plotting...\n"
     ]
    },
    {
     "name": "stderr",
     "output_type": "stream",
     "text": [
      "/home/fred/micromamba/envs/open-gira/lib/python3.10/site-packages/geopandas/geodataframe.py:2061: UserWarning: CRS mismatch between the CRS of left geometries and the CRS of right geometries.\n",
      "Use `to_crs()` to reproject one of the input geometries to match the CRS of the other.\n",
      "\n",
      "Left CRS: EPSG:4326\n",
      "Right CRS: None\n",
      "\n",
      "  return geopandas.sjoin(left_df=self, right_df=df, *args, **kwargs)\n",
      "/tmp/ipykernel_868937/987684252.py:12: ParserWarning: Falling back to the 'python' engine because the 'c' engine does not support regex separators (separators > 1 char and different from '\\s+' are interpreted as regex); you can avoid this warning by specifying engine='python'.\n",
      "  pd.read_csv(path, delimiter=r',\\s+')\n"
     ]
    },
    {
     "name": "stdout",
     "output_type": "stream",
     "text": [
      "SAOMAI_2006\n"
     ]
    },
    {
     "name": "stderr",
     "output_type": "stream",
     "text": [
      "/home/fred/micromamba/envs/open-gira/lib/python3.10/site-packages/geopandas/geodataframe.py:2061: UserWarning: CRS mismatch between the CRS of left geometries and the CRS of right geometries.\n",
      "Use `to_crs()` to reproject one of the input geometries to match the CRS of the other.\n",
      "\n",
      "Left CRS: EPSG:4326\n",
      "Right CRS: None\n",
      "\n",
      "  return geopandas.sjoin(left_df=self, right_df=df, *args, **kwargs)\n",
      "/tmp/ipykernel_868937/987684252.py:12: ParserWarning: Falling back to the 'python' engine because the 'c' engine does not support regex separators (separators > 1 char and different from '\\s+' are interpreted as regex); you can avoid this warning by specifying engine='python'.\n",
      "  pd.read_csv(path, delimiter=r',\\s+')\n"
     ]
    },
    {
     "name": "stdout",
     "output_type": "stream",
     "text": [
      "MARIA_2006\n",
      "MARIA_2006 has 35.80005483352468, skipping plotting...\n"
     ]
    },
    {
     "name": "stderr",
     "output_type": "stream",
     "text": [
      "/home/fred/micromamba/envs/open-gira/lib/python3.10/site-packages/geopandas/geodataframe.py:2061: UserWarning: CRS mismatch between the CRS of left geometries and the CRS of right geometries.\n",
      "Use `to_crs()` to reproject one of the input geometries to match the CRS of the other.\n",
      "\n",
      "Left CRS: EPSG:4326\n",
      "Right CRS: None\n",
      "\n",
      "  return geopandas.sjoin(left_df=self, right_df=df, *args, **kwargs)\n",
      "/tmp/ipykernel_868937/987684252.py:12: ParserWarning: Falling back to the 'python' engine because the 'c' engine does not support regex separators (separators > 1 char and different from '\\s+' are interpreted as regex); you can avoid this warning by specifying engine='python'.\n",
      "  pd.read_csv(path, delimiter=r',\\s+')\n",
      "/tmp/ipykernel_868937/987684252.py:12: ParserWarning: Falling back to the 'python' engine because the 'c' engine does not support regex separators (separators > 1 char and different from '\\s+' are interpreted as regex); you can avoid this warning by specifying engine='python'.\n",
      "  pd.read_csv(path, delimiter=r',\\s+')\n"
     ]
    },
    {
     "name": "stdout",
     "output_type": "stream",
     "text": [
      "BOPHA_2006\n",
      "BOPHA_2006 has 26.537114458476843, skipping plotting...\n"
     ]
    },
    {
     "name": "stderr",
     "output_type": "stream",
     "text": [
      "/home/fred/micromamba/envs/open-gira/lib/python3.10/site-packages/geopandas/geodataframe.py:2061: UserWarning: CRS mismatch between the CRS of left geometries and the CRS of right geometries.\n",
      "Use `to_crs()` to reproject one of the input geometries to match the CRS of the other.\n",
      "\n",
      "Left CRS: EPSG:4326\n",
      "Right CRS: None\n",
      "\n",
      "  return geopandas.sjoin(left_df=self, right_df=df, *args, **kwargs)\n",
      "/tmp/ipykernel_868937/987684252.py:12: ParserWarning: Falling back to the 'python' engine because the 'c' engine does not support regex separators (separators > 1 char and different from '\\s+' are interpreted as regex); you can avoid this warning by specifying engine='python'.\n",
      "  pd.read_csv(path, delimiter=r',\\s+')\n"
     ]
    },
    {
     "name": "stdout",
     "output_type": "stream",
     "text": [
      "WUKONG_2006\n",
      "WUKONG_2006 has 26.251336680699065, skipping plotting...\n"
     ]
    },
    {
     "name": "stderr",
     "output_type": "stream",
     "text": [
      "/home/fred/micromamba/envs/open-gira/lib/python3.10/site-packages/geopandas/geodataframe.py:2061: UserWarning: CRS mismatch between the CRS of left geometries and the CRS of right geometries.\n",
      "Use `to_crs()` to reproject one of the input geometries to match the CRS of the other.\n",
      "\n",
      "Left CRS: EPSG:4326\n",
      "Right CRS: None\n",
      "\n",
      "  return geopandas.sjoin(left_df=self, right_df=df, *args, **kwargs)\n",
      "/tmp/ipykernel_868937/987684252.py:12: ParserWarning: Falling back to the 'python' engine because the 'c' engine does not support regex separators (separators > 1 char and different from '\\s+' are interpreted as regex); you can avoid this warning by specifying engine='python'.\n",
      "  pd.read_csv(path, delimiter=r',\\s+')\n",
      "/tmp/ipykernel_868937/987684252.py:12: ParserWarning: Falling back to the 'python' engine because the 'c' engine does not support regex separators (separators > 1 char and different from '\\s+' are interpreted as regex); you can avoid this warning by specifying engine='python'.\n",
      "  pd.read_csv(path, delimiter=r',\\s+')\n",
      "/tmp/ipykernel_868937/987684252.py:12: ParserWarning: Falling back to the 'python' engine because the 'c' engine does not support regex separators (separators > 1 char and different from '\\s+' are interpreted as regex); you can avoid this warning by specifying engine='python'.\n",
      "  pd.read_csv(path, delimiter=r',\\s+')\n"
     ]
    },
    {
     "name": "stdout",
     "output_type": "stream",
     "text": [
      "ERNESTO_2006\n",
      "ERNESTO_2006 has 33.436, skipping plotting...\n"
     ]
    },
    {
     "name": "stderr",
     "output_type": "stream",
     "text": [
      "/home/fred/micromamba/envs/open-gira/lib/python3.10/site-packages/geopandas/geodataframe.py:2061: UserWarning: CRS mismatch between the CRS of left geometries and the CRS of right geometries.\n",
      "Use `to_crs()` to reproject one of the input geometries to match the CRS of the other.\n",
      "\n",
      "Left CRS: EPSG:4326\n",
      "Right CRS: None\n",
      "\n",
      "  return geopandas.sjoin(left_df=self, right_df=df, *args, **kwargs)\n",
      "/tmp/ipykernel_868937/987684252.py:12: ParserWarning: Falling back to the 'python' engine because the 'c' engine does not support regex separators (separators > 1 char and different from '\\s+' are interpreted as regex); you can avoid this warning by specifying engine='python'.\n",
      "  pd.read_csv(path, delimiter=r',\\s+')\n"
     ]
    },
    {
     "name": "stdout",
     "output_type": "stream",
     "text": [
      "JOHN_2006\n"
     ]
    },
    {
     "name": "stderr",
     "output_type": "stream",
     "text": [
      "/home/fred/micromamba/envs/open-gira/lib/python3.10/site-packages/geopandas/geodataframe.py:2061: UserWarning: CRS mismatch between the CRS of left geometries and the CRS of right geometries.\n",
      "Use `to_crs()` to reproject one of the input geometries to match the CRS of the other.\n",
      "\n",
      "Left CRS: EPSG:4326\n",
      "Right CRS: None\n",
      "\n",
      "  return geopandas.sjoin(left_df=self, right_df=df, *args, **kwargs)\n",
      "/tmp/ipykernel_868937/987684252.py:12: ParserWarning: Falling back to the 'python' engine because the 'c' engine does not support regex separators (separators > 1 char and different from '\\s+' are interpreted as regex); you can avoid this warning by specifying engine='python'.\n",
      "  pd.read_csv(path, delimiter=r',\\s+')\n"
     ]
    },
    {
     "name": "stdout",
     "output_type": "stream",
     "text": [
      "LANE_2006\n"
     ]
    },
    {
     "name": "stderr",
     "output_type": "stream",
     "text": [
      "/home/fred/micromamba/envs/open-gira/lib/python3.10/site-packages/geopandas/geodataframe.py:2061: UserWarning: CRS mismatch between the CRS of left geometries and the CRS of right geometries.\n",
      "Use `to_crs()` to reproject one of the input geometries to match the CRS of the other.\n",
      "\n",
      "Left CRS: EPSG:4326\n",
      "Right CRS: None\n",
      "\n",
      "  return geopandas.sjoin(left_df=self, right_df=df, *args, **kwargs)\n",
      "/tmp/ipykernel_868937/987684252.py:12: ParserWarning: Falling back to the 'python' engine because the 'c' engine does not support regex separators (separators > 1 char and different from '\\s+' are interpreted as regex); you can avoid this warning by specifying engine='python'.\n",
      "  pd.read_csv(path, delimiter=r',\\s+')\n",
      "/tmp/ipykernel_868937/987684252.py:12: ParserWarning: Falling back to the 'python' engine because the 'c' engine does not support regex separators (separators > 1 char and different from '\\s+' are interpreted as regex); you can avoid this warning by specifying engine='python'.\n",
      "  pd.read_csv(path, delimiter=r',\\s+')\n"
     ]
    },
    {
     "name": "stdout",
     "output_type": "stream",
     "text": [
      "XANGSANE_2006\n"
     ]
    },
    {
     "name": "stderr",
     "output_type": "stream",
     "text": [
      "/home/fred/micromamba/envs/open-gira/lib/python3.10/site-packages/geopandas/geodataframe.py:2061: UserWarning: CRS mismatch between the CRS of left geometries and the CRS of right geometries.\n",
      "Use `to_crs()` to reproject one of the input geometries to match the CRS of the other.\n",
      "\n",
      "Left CRS: EPSG:4326\n",
      "Right CRS: None\n",
      "\n",
      "  return geopandas.sjoin(left_df=self, right_df=df, *args, **kwargs)\n",
      "/tmp/ipykernel_868937/987684252.py:12: ParserWarning: Falling back to the 'python' engine because the 'c' engine does not support regex separators (separators > 1 char and different from '\\s+' are interpreted as regex); you can avoid this warning by specifying engine='python'.\n",
      "  pd.read_csv(path, delimiter=r',\\s+')\n"
     ]
    },
    {
     "name": "stdout",
     "output_type": "stream",
     "text": [
      "PAUL_2006\n"
     ]
    },
    {
     "name": "stderr",
     "output_type": "stream",
     "text": [
      "/home/fred/micromamba/envs/open-gira/lib/python3.10/site-packages/geopandas/geodataframe.py:2061: UserWarning: CRS mismatch between the CRS of left geometries and the CRS of right geometries.\n",
      "Use `to_crs()` to reproject one of the input geometries to match the CRS of the other.\n",
      "\n",
      "Left CRS: EPSG:4326\n",
      "Right CRS: None\n",
      "\n",
      "  return geopandas.sjoin(left_df=self, right_df=df, *args, **kwargs)\n",
      "/tmp/ipykernel_868937/987684252.py:12: ParserWarning: Falling back to the 'python' engine because the 'c' engine does not support regex separators (separators > 1 char and different from '\\s+' are interpreted as regex); you can avoid this warning by specifying engine='python'.\n",
      "  pd.read_csv(path, delimiter=r',\\s+')\n"
     ]
    },
    {
     "name": "stdout",
     "output_type": "stream",
     "text": [
      "CIMARON_2006\n"
     ]
    },
    {
     "name": "stderr",
     "output_type": "stream",
     "text": [
      "/home/fred/micromamba/envs/open-gira/lib/python3.10/site-packages/geopandas/geodataframe.py:2061: UserWarning: CRS mismatch between the CRS of left geometries and the CRS of right geometries.\n",
      "Use `to_crs()` to reproject one of the input geometries to match the CRS of the other.\n",
      "\n",
      "Left CRS: EPSG:4326\n",
      "Right CRS: None\n",
      "\n",
      "  return geopandas.sjoin(left_df=self, right_df=df, *args, **kwargs)\n",
      "/tmp/ipykernel_868937/987684252.py:12: ParserWarning: Falling back to the 'python' engine because the 'c' engine does not support regex separators (separators > 1 char and different from '\\s+' are interpreted as regex); you can avoid this warning by specifying engine='python'.\n",
      "  pd.read_csv(path, delimiter=r',\\s+')\n"
     ]
    },
    {
     "name": "stdout",
     "output_type": "stream",
     "text": [
      "CHEBI_2006\n"
     ]
    },
    {
     "name": "stderr",
     "output_type": "stream",
     "text": [
      "/home/fred/micromamba/envs/open-gira/lib/python3.10/site-packages/geopandas/geodataframe.py:2061: UserWarning: CRS mismatch between the CRS of left geometries and the CRS of right geometries.\n",
      "Use `to_crs()` to reproject one of the input geometries to match the CRS of the other.\n",
      "\n",
      "Left CRS: EPSG:4326\n",
      "Right CRS: None\n",
      "\n",
      "  return geopandas.sjoin(left_df=self, right_df=df, *args, **kwargs)\n",
      "/tmp/ipykernel_868937/987684252.py:12: ParserWarning: Falling back to the 'python' engine because the 'c' engine does not support regex separators (separators > 1 char and different from '\\s+' are interpreted as regex); you can avoid this warning by specifying engine='python'.\n",
      "  pd.read_csv(path, delimiter=r',\\s+')\n",
      "/tmp/ipykernel_868937/987684252.py:12: ParserWarning: Falling back to the 'python' engine because the 'c' engine does not support regex separators (separators > 1 char and different from '\\s+' are interpreted as regex); you can avoid this warning by specifying engine='python'.\n",
      "  pd.read_csv(path, delimiter=r',\\s+')\n"
     ]
    },
    {
     "name": "stdout",
     "output_type": "stream",
     "text": [
      "DURIAN_2006\n"
     ]
    },
    {
     "name": "stderr",
     "output_type": "stream",
     "text": [
      "/home/fred/micromamba/envs/open-gira/lib/python3.10/site-packages/geopandas/geodataframe.py:2061: UserWarning: CRS mismatch between the CRS of left geometries and the CRS of right geometries.\n",
      "Use `to_crs()` to reproject one of the input geometries to match the CRS of the other.\n",
      "\n",
      "Left CRS: EPSG:4326\n",
      "Right CRS: None\n",
      "\n",
      "  return geopandas.sjoin(left_df=self, right_df=df, *args, **kwargs)\n",
      "/tmp/ipykernel_868937/987684252.py:12: ParserWarning: Falling back to the 'python' engine because the 'c' engine does not support regex separators (separators > 1 char and different from '\\s+' are interpreted as regex); you can avoid this warning by specifying engine='python'.\n",
      "  pd.read_csv(path, delimiter=r',\\s+')\n"
     ]
    },
    {
     "name": "stdout",
     "output_type": "stream",
     "text": [
      "UTOR_2006\n"
     ]
    },
    {
     "name": "stderr",
     "output_type": "stream",
     "text": [
      "/home/fred/micromamba/envs/open-gira/lib/python3.10/site-packages/geopandas/geodataframe.py:2061: UserWarning: CRS mismatch between the CRS of left geometries and the CRS of right geometries.\n",
      "Use `to_crs()` to reproject one of the input geometries to match the CRS of the other.\n",
      "\n",
      "Left CRS: EPSG:4326\n",
      "Right CRS: None\n",
      "\n",
      "  return geopandas.sjoin(left_df=self, right_df=df, *args, **kwargs)\n",
      "/tmp/ipykernel_868937/987684252.py:12: ParserWarning: Falling back to the 'python' engine because the 'c' engine does not support regex separators (separators > 1 char and different from '\\s+' are interpreted as regex); you can avoid this warning by specifying engine='python'.\n",
      "  pd.read_csv(path, delimiter=r',\\s+')\n"
     ]
    },
    {
     "name": "stdout",
     "output_type": "stream",
     "text": [
      "BONDO_2006\n"
     ]
    },
    {
     "name": "stderr",
     "output_type": "stream",
     "text": [
      "/home/fred/micromamba/envs/open-gira/lib/python3.10/site-packages/geopandas/geodataframe.py:2061: UserWarning: CRS mismatch between the CRS of left geometries and the CRS of right geometries.\n",
      "Use `to_crs()` to reproject one of the input geometries to match the CRS of the other.\n",
      "\n",
      "Left CRS: EPSG:4326\n",
      "Right CRS: None\n",
      "\n",
      "  return geopandas.sjoin(left_df=self, right_df=df, *args, **kwargs)\n",
      "/tmp/ipykernel_868937/987684252.py:12: ParserWarning: Falling back to the 'python' engine because the 'c' engine does not support regex separators (separators > 1 char and different from '\\s+' are interpreted as regex); you can avoid this warning by specifying engine='python'.\n",
      "  pd.read_csv(path, delimiter=r',\\s+')\n",
      "/tmp/ipykernel_868937/987684252.py:12: ParserWarning: Falling back to the 'python' engine because the 'c' engine does not support regex separators (separators > 1 char and different from '\\s+' are interpreted as regex); you can avoid this warning by specifying engine='python'.\n",
      "  pd.read_csv(path, delimiter=r',\\s+')\n"
     ]
    },
    {
     "name": "stdout",
     "output_type": "stream",
     "text": [
      "NELSON_2007\n",
      "NELSON_2007 has 27.47363636363636, skipping plotting...\n"
     ]
    },
    {
     "name": "stderr",
     "output_type": "stream",
     "text": [
      "/home/fred/micromamba/envs/open-gira/lib/python3.10/site-packages/geopandas/geodataframe.py:2061: UserWarning: CRS mismatch between the CRS of left geometries and the CRS of right geometries.\n",
      "Use `to_crs()` to reproject one of the input geometries to match the CRS of the other.\n",
      "\n",
      "Left CRS: EPSG:4326\n",
      "Right CRS: None\n",
      "\n",
      "  return geopandas.sjoin(left_df=self, right_df=df, *args, **kwargs)\n",
      "/tmp/ipykernel_868937/987684252.py:12: ParserWarning: Falling back to the 'python' engine because the 'c' engine does not support regex separators (separators > 1 char and different from '\\s+' are interpreted as regex); you can avoid this warning by specifying engine='python'.\n",
      "  pd.read_csv(path, delimiter=r',\\s+')\n"
     ]
    },
    {
     "name": "stdout",
     "output_type": "stream",
     "text": [
      "FAVIO_2007\n"
     ]
    },
    {
     "name": "stderr",
     "output_type": "stream",
     "text": [
      "/home/fred/micromamba/envs/open-gira/lib/python3.10/site-packages/geopandas/geodataframe.py:2061: UserWarning: CRS mismatch between the CRS of left geometries and the CRS of right geometries.\n",
      "Use `to_crs()` to reproject one of the input geometries to match the CRS of the other.\n",
      "\n",
      "Left CRS: EPSG:4326\n",
      "Right CRS: None\n",
      "\n",
      "  return geopandas.sjoin(left_df=self, right_df=df, *args, **kwargs)\n",
      "/tmp/ipykernel_868937/987684252.py:12: ParserWarning: Falling back to the 'python' engine because the 'c' engine does not support regex separators (separators > 1 char and different from '\\s+' are interpreted as regex); you can avoid this warning by specifying engine='python'.\n",
      "  pd.read_csv(path, delimiter=r',\\s+')\n"
     ]
    },
    {
     "name": "stdout",
     "output_type": "stream",
     "text": [
      "JACOB_2007\n",
      "JACOB_2007 has 39.429539393939386, skipping plotting...\n"
     ]
    },
    {
     "name": "stderr",
     "output_type": "stream",
     "text": [
      "/home/fred/micromamba/envs/open-gira/lib/python3.10/site-packages/geopandas/geodataframe.py:2061: UserWarning: CRS mismatch between the CRS of left geometries and the CRS of right geometries.\n",
      "Use `to_crs()` to reproject one of the input geometries to match the CRS of the other.\n",
      "\n",
      "Left CRS: EPSG:4326\n",
      "Right CRS: None\n",
      "\n",
      "  return geopandas.sjoin(left_df=self, right_df=df, *args, **kwargs)\n",
      "/tmp/ipykernel_868937/987684252.py:12: ParserWarning: Falling back to the 'python' engine because the 'c' engine does not support regex separators (separators > 1 char and different from '\\s+' are interpreted as regex); you can avoid this warning by specifying engine='python'.\n",
      "  pd.read_csv(path, delimiter=r',\\s+')\n"
     ]
    },
    {
     "name": "stdout",
     "output_type": "stream",
     "text": [
      "INDLALA_2007\n"
     ]
    },
    {
     "name": "stderr",
     "output_type": "stream",
     "text": [
      "/home/fred/micromamba/envs/open-gira/lib/python3.10/site-packages/geopandas/geodataframe.py:2061: UserWarning: CRS mismatch between the CRS of left geometries and the CRS of right geometries.\n",
      "Use `to_crs()` to reproject one of the input geometries to match the CRS of the other.\n",
      "\n",
      "Left CRS: EPSG:4326\n",
      "Right CRS: None\n",
      "\n",
      "  return geopandas.sjoin(left_df=self, right_df=df, *args, **kwargs)\n",
      "/tmp/ipykernel_868937/987684252.py:12: ParserWarning: Falling back to the 'python' engine because the 'c' engine does not support regex separators (separators > 1 char and different from '\\s+' are interpreted as regex); you can avoid this warning by specifying engine='python'.\n",
      "  pd.read_csv(path, delimiter=r',\\s+')\n"
     ]
    },
    {
     "name": "stdout",
     "output_type": "stream",
     "text": [
      "KARA_2007\n"
     ]
    },
    {
     "name": "stderr",
     "output_type": "stream",
     "text": [
      "/home/fred/micromamba/envs/open-gira/lib/python3.10/site-packages/geopandas/geodataframe.py:2061: UserWarning: CRS mismatch between the CRS of left geometries and the CRS of right geometries.\n",
      "Use `to_crs()` to reproject one of the input geometries to match the CRS of the other.\n",
      "\n",
      "Left CRS: EPSG:4326\n",
      "Right CRS: None\n",
      "\n",
      "  return geopandas.sjoin(left_df=self, right_df=df, *args, **kwargs)\n",
      "/tmp/ipykernel_868937/987684252.py:12: ParserWarning: Falling back to the 'python' engine because the 'c' engine does not support regex separators (separators > 1 char and different from '\\s+' are interpreted as regex); you can avoid this warning by specifying engine='python'.\n",
      "  pd.read_csv(path, delimiter=r',\\s+')\n"
     ]
    },
    {
     "name": "stdout",
     "output_type": "stream",
     "text": [
      "JAYA_2007\n"
     ]
    },
    {
     "name": "stderr",
     "output_type": "stream",
     "text": [
      "/home/fred/micromamba/envs/open-gira/lib/python3.10/site-packages/geopandas/geodataframe.py:2061: UserWarning: CRS mismatch between the CRS of left geometries and the CRS of right geometries.\n",
      "Use `to_crs()` to reproject one of the input geometries to match the CRS of the other.\n",
      "\n",
      "Left CRS: EPSG:4326\n",
      "Right CRS: None\n",
      "\n",
      "  return geopandas.sjoin(left_df=self, right_df=df, *args, **kwargs)\n",
      "/tmp/ipykernel_868937/987684252.py:12: ParserWarning: Falling back to the 'python' engine because the 'c' engine does not support regex separators (separators > 1 char and different from '\\s+' are interpreted as regex); you can avoid this warning by specifying engine='python'.\n",
      "  pd.read_csv(path, delimiter=r',\\s+')\n"
     ]
    },
    {
     "name": "stdout",
     "output_type": "stream",
     "text": [
      "AKASH_2007\n",
      "AKASH_2007 has 33.436, skipping plotting...\n"
     ]
    },
    {
     "name": "stderr",
     "output_type": "stream",
     "text": [
      "/home/fred/micromamba/envs/open-gira/lib/python3.10/site-packages/geopandas/geodataframe.py:2061: UserWarning: CRS mismatch between the CRS of left geometries and the CRS of right geometries.\n",
      "Use `to_crs()` to reproject one of the input geometries to match the CRS of the other.\n",
      "\n",
      "Left CRS: EPSG:4326\n",
      "Right CRS: None\n",
      "\n",
      "  return geopandas.sjoin(left_df=self, right_df=df, *args, **kwargs)\n",
      "/tmp/ipykernel_868937/987684252.py:12: ParserWarning: Falling back to the 'python' engine because the 'c' engine does not support regex separators (separators > 1 char and different from '\\s+' are interpreted as regex); you can avoid this warning by specifying engine='python'.\n",
      "  pd.read_csv(path, delimiter=r',\\s+')\n"
     ]
    },
    {
     "name": "stdout",
     "output_type": "stream",
     "text": [
      "BARBARA_2007\n",
      "BARBARA_2007 has 23.148, skipping plotting...\n"
     ]
    },
    {
     "name": "stderr",
     "output_type": "stream",
     "text": [
      "/home/fred/micromamba/envs/open-gira/lib/python3.10/site-packages/geopandas/geodataframe.py:2061: UserWarning: CRS mismatch between the CRS of left geometries and the CRS of right geometries.\n",
      "Use `to_crs()` to reproject one of the input geometries to match the CRS of the other.\n",
      "\n",
      "Left CRS: EPSG:4326\n",
      "Right CRS: None\n",
      "\n",
      "  return geopandas.sjoin(left_df=self, right_df=df, *args, **kwargs)\n",
      "/tmp/ipykernel_868937/987684252.py:12: ParserWarning: Falling back to the 'python' engine because the 'c' engine does not support regex separators (separators > 1 char and different from '\\s+' are interpreted as regex); you can avoid this warning by specifying engine='python'.\n",
      "  pd.read_csv(path, delimiter=r',\\s+')\n"
     ]
    },
    {
     "name": "stdout",
     "output_type": "stream",
     "text": [
      "GONU_2007\n"
     ]
    },
    {
     "name": "stderr",
     "output_type": "stream",
     "text": [
      "/home/fred/micromamba/envs/open-gira/lib/python3.10/site-packages/geopandas/geodataframe.py:2061: UserWarning: CRS mismatch between the CRS of left geometries and the CRS of right geometries.\n",
      "Use `to_crs()` to reproject one of the input geometries to match the CRS of the other.\n",
      "\n",
      "Left CRS: EPSG:4326\n",
      "Right CRS: None\n",
      "\n",
      "  return geopandas.sjoin(left_df=self, right_df=df, *args, **kwargs)\n",
      "/tmp/ipykernel_868937/987684252.py:12: ParserWarning: Falling back to the 'python' engine because the 'c' engine does not support regex separators (separators > 1 char and different from '\\s+' are interpreted as regex); you can avoid this warning by specifying engine='python'.\n",
      "  pd.read_csv(path, delimiter=r',\\s+')\n",
      "/tmp/ipykernel_868937/987684252.py:12: ParserWarning: Falling back to the 'python' engine because the 'c' engine does not support regex separators (separators > 1 char and different from '\\s+' are interpreted as regex); you can avoid this warning by specifying engine='python'.\n",
      "  pd.read_csv(path, delimiter=r',\\s+')\n"
     ]
    },
    {
     "name": "stdout",
     "output_type": "stream",
     "text": [
      "BARRY_2007\n",
      "BARRY_2007 has 25.72, skipping plotting...\n"
     ]
    },
    {
     "name": "stderr",
     "output_type": "stream",
     "text": [
      "/home/fred/micromamba/envs/open-gira/lib/python3.10/site-packages/geopandas/geodataframe.py:2061: UserWarning: CRS mismatch between the CRS of left geometries and the CRS of right geometries.\n",
      "Use `to_crs()` to reproject one of the input geometries to match the CRS of the other.\n",
      "\n",
      "Left CRS: EPSG:4326\n",
      "Right CRS: None\n",
      "\n",
      "  return geopandas.sjoin(left_df=self, right_df=df, *args, **kwargs)\n",
      "/tmp/ipykernel_868937/987684252.py:12: ParserWarning: Falling back to the 'python' engine because the 'c' engine does not support regex separators (separators > 1 char and different from '\\s+' are interpreted as regex); you can avoid this warning by specifying engine='python'.\n",
      "  pd.read_csv(path, delimiter=r',\\s+')\n"
     ]
    },
    {
     "name": "stdout",
     "output_type": "stream",
     "text": [
      "MAN-YI_2007\n"
     ]
    },
    {
     "name": "stderr",
     "output_type": "stream",
     "text": [
      "/home/fred/micromamba/envs/open-gira/lib/python3.10/site-packages/geopandas/geodataframe.py:2061: UserWarning: CRS mismatch between the CRS of left geometries and the CRS of right geometries.\n",
      "Use `to_crs()` to reproject one of the input geometries to match the CRS of the other.\n",
      "\n",
      "Left CRS: EPSG:4326\n",
      "Right CRS: None\n",
      "\n",
      "  return geopandas.sjoin(left_df=self, right_df=df, *args, **kwargs)\n",
      "/tmp/ipykernel_868937/987684252.py:12: ParserWarning: Falling back to the 'python' engine because the 'c' engine does not support regex separators (separators > 1 char and different from '\\s+' are interpreted as regex); you can avoid this warning by specifying engine='python'.\n",
      "  pd.read_csv(path, delimiter=r',\\s+')\n"
     ]
    },
    {
     "name": "stdout",
     "output_type": "stream",
     "text": [
      "USAGI_2007\n"
     ]
    },
    {
     "name": "stderr",
     "output_type": "stream",
     "text": [
      "/home/fred/micromamba/envs/open-gira/lib/python3.10/site-packages/geopandas/geodataframe.py:2061: UserWarning: CRS mismatch between the CRS of left geometries and the CRS of right geometries.\n",
      "Use `to_crs()` to reproject one of the input geometries to match the CRS of the other.\n",
      "\n",
      "Left CRS: EPSG:4326\n",
      "Right CRS: None\n",
      "\n",
      "  return geopandas.sjoin(left_df=self, right_df=df, *args, **kwargs)\n",
      "/tmp/ipykernel_868937/987684252.py:12: ParserWarning: Falling back to the 'python' engine because the 'c' engine does not support regex separators (separators > 1 char and different from '\\s+' are interpreted as regex); you can avoid this warning by specifying engine='python'.\n",
      "  pd.read_csv(path, delimiter=r',\\s+')\n",
      "/tmp/ipykernel_868937/987684252.py:12: ParserWarning: Falling back to the 'python' engine because the 'c' engine does not support regex separators (separators > 1 char and different from '\\s+' are interpreted as regex); you can avoid this warning by specifying engine='python'.\n",
      "  pd.read_csv(path, delimiter=r',\\s+')\n"
     ]
    },
    {
     "name": "stdout",
     "output_type": "stream",
     "text": [
      "PABUK_2007\n",
      "PABUK_2007 has 34.17686330399285, skipping plotting...\n"
     ]
    },
    {
     "name": "stderr",
     "output_type": "stream",
     "text": [
      "/home/fred/micromamba/envs/open-gira/lib/python3.10/site-packages/geopandas/geodataframe.py:2061: UserWarning: CRS mismatch between the CRS of left geometries and the CRS of right geometries.\n",
      "Use `to_crs()` to reproject one of the input geometries to match the CRS of the other.\n",
      "\n",
      "Left CRS: EPSG:4326\n",
      "Right CRS: None\n",
      "\n",
      "  return geopandas.sjoin(left_df=self, right_df=df, *args, **kwargs)\n",
      "/tmp/ipykernel_868937/987684252.py:12: ParserWarning: Falling back to the 'python' engine because the 'c' engine does not support regex separators (separators > 1 char and different from '\\s+' are interpreted as regex); you can avoid this warning by specifying engine='python'.\n",
      "  pd.read_csv(path, delimiter=r',\\s+')\n"
     ]
    },
    {
     "name": "stdout",
     "output_type": "stream",
     "text": [
      "SEPAT_2007\n"
     ]
    },
    {
     "name": "stderr",
     "output_type": "stream",
     "text": [
      "/home/fred/micromamba/envs/open-gira/lib/python3.10/site-packages/geopandas/geodataframe.py:2061: UserWarning: CRS mismatch between the CRS of left geometries and the CRS of right geometries.\n",
      "Use `to_crs()` to reproject one of the input geometries to match the CRS of the other.\n",
      "\n",
      "Left CRS: EPSG:4326\n",
      "Right CRS: None\n",
      "\n",
      "  return geopandas.sjoin(left_df=self, right_df=df, *args, **kwargs)\n",
      "/tmp/ipykernel_868937/987684252.py:12: ParserWarning: Falling back to the 'python' engine because the 'c' engine does not support regex separators (separators > 1 char and different from '\\s+' are interpreted as regex); you can avoid this warning by specifying engine='python'.\n",
      "  pd.read_csv(path, delimiter=r',\\s+')\n",
      "/tmp/ipykernel_868937/987684252.py:12: ParserWarning: Falling back to the 'python' engine because the 'c' engine does not support regex separators (separators > 1 char and different from '\\s+' are interpreted as regex); you can avoid this warning by specifying engine='python'.\n",
      "  pd.read_csv(path, delimiter=r',\\s+')\n"
     ]
    },
    {
     "name": "stdout",
     "output_type": "stream",
     "text": [
      "DEAN_2007\n"
     ]
    },
    {
     "name": "stderr",
     "output_type": "stream",
     "text": [
      "/home/fred/micromamba/envs/open-gira/lib/python3.10/site-packages/geopandas/geodataframe.py:2061: UserWarning: CRS mismatch between the CRS of left geometries and the CRS of right geometries.\n",
      "Use `to_crs()` to reproject one of the input geometries to match the CRS of the other.\n",
      "\n",
      "Left CRS: EPSG:4326\n",
      "Right CRS: None\n",
      "\n",
      "  return geopandas.sjoin(left_df=self, right_df=df, *args, **kwargs)\n",
      "/tmp/ipykernel_868937/987684252.py:12: ParserWarning: Falling back to the 'python' engine because the 'c' engine does not support regex separators (separators > 1 char and different from '\\s+' are interpreted as regex); you can avoid this warning by specifying engine='python'.\n",
      "  pd.read_csv(path, delimiter=r',\\s+')\n"
     ]
    },
    {
     "name": "stdout",
     "output_type": "stream",
     "text": [
      "FITOW_2007\n",
      "FITOW_2007 has 39.62509852021942, skipping plotting...\n"
     ]
    },
    {
     "name": "stderr",
     "output_type": "stream",
     "text": [
      "/home/fred/micromamba/envs/open-gira/lib/python3.10/site-packages/geopandas/geodataframe.py:2061: UserWarning: CRS mismatch between the CRS of left geometries and the CRS of right geometries.\n",
      "Use `to_crs()` to reproject one of the input geometries to match the CRS of the other.\n",
      "\n",
      "Left CRS: EPSG:4326\n",
      "Right CRS: None\n",
      "\n",
      "  return geopandas.sjoin(left_df=self, right_df=df, *args, **kwargs)\n",
      "/tmp/ipykernel_868937/987684252.py:12: ParserWarning: Falling back to the 'python' engine because the 'c' engine does not support regex separators (separators > 1 char and different from '\\s+' are interpreted as regex); you can avoid this warning by specifying engine='python'.\n",
      "  pd.read_csv(path, delimiter=r',\\s+')\n"
     ]
    },
    {
     "name": "stdout",
     "output_type": "stream",
     "text": [
      "HENRIETTE_2007\n",
      "HENRIETTE_2007 has 38.58, skipping plotting...\n"
     ]
    },
    {
     "name": "stderr",
     "output_type": "stream",
     "text": [
      "/home/fred/micromamba/envs/open-gira/lib/python3.10/site-packages/geopandas/geodataframe.py:2061: UserWarning: CRS mismatch between the CRS of left geometries and the CRS of right geometries.\n",
      "Use `to_crs()` to reproject one of the input geometries to match the CRS of the other.\n",
      "\n",
      "Left CRS: EPSG:4326\n",
      "Right CRS: None\n",
      "\n",
      "  return geopandas.sjoin(left_df=self, right_df=df, *args, **kwargs)\n",
      "/tmp/ipykernel_868937/987684252.py:12: ParserWarning: Falling back to the 'python' engine because the 'c' engine does not support regex separators (separators > 1 char and different from '\\s+' are interpreted as regex); you can avoid this warning by specifying engine='python'.\n",
      "  pd.read_csv(path, delimiter=r',\\s+')\n",
      "/tmp/ipykernel_868937/987684252.py:12: ParserWarning: Falling back to the 'python' engine because the 'c' engine does not support regex separators (separators > 1 char and different from '\\s+' are interpreted as regex); you can avoid this warning by specifying engine='python'.\n",
      "  pd.read_csv(path, delimiter=r',\\s+')\n"
     ]
    },
    {
     "name": "stdout",
     "output_type": "stream",
     "text": [
      "FELIX_2007\n"
     ]
    },
    {
     "name": "stderr",
     "output_type": "stream",
     "text": [
      "/home/fred/micromamba/envs/open-gira/lib/python3.10/site-packages/geopandas/geodataframe.py:2061: UserWarning: CRS mismatch between the CRS of left geometries and the CRS of right geometries.\n",
      "Use `to_crs()` to reproject one of the input geometries to match the CRS of the other.\n",
      "\n",
      "Left CRS: EPSG:4326\n",
      "Right CRS: None\n",
      "\n",
      "  return geopandas.sjoin(left_df=self, right_df=df, *args, **kwargs)\n",
      "/tmp/ipykernel_868937/987684252.py:12: ParserWarning: Falling back to the 'python' engine because the 'c' engine does not support regex separators (separators > 1 char and different from '\\s+' are interpreted as regex); you can avoid this warning by specifying engine='python'.\n",
      "  pd.read_csv(path, delimiter=r',\\s+')\n",
      "/tmp/ipykernel_868937/987684252.py:12: ParserWarning: Falling back to the 'python' engine because the 'c' engine does not support regex separators (separators > 1 char and different from '\\s+' are interpreted as regex); you can avoid this warning by specifying engine='python'.\n",
      "  pd.read_csv(path, delimiter=r',\\s+')\n"
     ]
    },
    {
     "name": "stdout",
     "output_type": "stream",
     "text": [
      "GABRIELLE_2007\n",
      "GABRIELLE_2007 has 25.72, skipping plotting...\n"
     ]
    },
    {
     "name": "stderr",
     "output_type": "stream",
     "text": [
      "/home/fred/micromamba/envs/open-gira/lib/python3.10/site-packages/geopandas/geodataframe.py:2061: UserWarning: CRS mismatch between the CRS of left geometries and the CRS of right geometries.\n",
      "Use `to_crs()` to reproject one of the input geometries to match the CRS of the other.\n",
      "\n",
      "Left CRS: EPSG:4326\n",
      "Right CRS: None\n",
      "\n",
      "  return geopandas.sjoin(left_df=self, right_df=df, *args, **kwargs)\n",
      "/tmp/ipykernel_868937/987684252.py:12: ParserWarning: Falling back to the 'python' engine because the 'c' engine does not support regex separators (separators > 1 char and different from '\\s+' are interpreted as regex); you can avoid this warning by specifying engine='python'.\n",
      "  pd.read_csv(path, delimiter=r',\\s+')\n"
     ]
    },
    {
     "name": "stdout",
     "output_type": "stream",
     "text": [
      "NARI_2007\n"
     ]
    },
    {
     "name": "stderr",
     "output_type": "stream",
     "text": [
      "/home/fred/micromamba/envs/open-gira/lib/python3.10/site-packages/geopandas/geodataframe.py:2061: UserWarning: CRS mismatch between the CRS of left geometries and the CRS of right geometries.\n",
      "Use `to_crs()` to reproject one of the input geometries to match the CRS of the other.\n",
      "\n",
      "Left CRS: EPSG:4326\n",
      "Right CRS: None\n",
      "\n",
      "  return geopandas.sjoin(left_df=self, right_df=df, *args, **kwargs)\n",
      "/tmp/ipykernel_868937/987684252.py:12: ParserWarning: Falling back to the 'python' engine because the 'c' engine does not support regex separators (separators > 1 char and different from '\\s+' are interpreted as regex); you can avoid this warning by specifying engine='python'.\n",
      "  pd.read_csv(path, delimiter=r',\\s+')\n"
     ]
    },
    {
     "name": "stdout",
     "output_type": "stream",
     "text": [
      "HUMBERTO_2007\n"
     ]
    },
    {
     "name": "stderr",
     "output_type": "stream",
     "text": [
      "/home/fred/micromamba/envs/open-gira/lib/python3.10/site-packages/geopandas/geodataframe.py:2061: UserWarning: CRS mismatch between the CRS of left geometries and the CRS of right geometries.\n",
      "Use `to_crs()` to reproject one of the input geometries to match the CRS of the other.\n",
      "\n",
      "Left CRS: EPSG:4326\n",
      "Right CRS: None\n",
      "\n",
      "  return geopandas.sjoin(left_df=self, right_df=df, *args, **kwargs)\n",
      "/tmp/ipykernel_868937/987684252.py:12: ParserWarning: Falling back to the 'python' engine because the 'c' engine does not support regex separators (separators > 1 char and different from '\\s+' are interpreted as regex); you can avoid this warning by specifying engine='python'.\n",
      "  pd.read_csv(path, delimiter=r',\\s+')\n"
     ]
    },
    {
     "name": "stdout",
     "output_type": "stream",
     "text": [
      "WIPHA_2007\n"
     ]
    },
    {
     "name": "stderr",
     "output_type": "stream",
     "text": [
      "/home/fred/micromamba/envs/open-gira/lib/python3.10/site-packages/geopandas/geodataframe.py:2061: UserWarning: CRS mismatch between the CRS of left geometries and the CRS of right geometries.\n",
      "Use `to_crs()` to reproject one of the input geometries to match the CRS of the other.\n",
      "\n",
      "Left CRS: EPSG:4326\n",
      "Right CRS: None\n",
      "\n",
      "  return geopandas.sjoin(left_df=self, right_df=df, *args, **kwargs)\n",
      "/tmp/ipykernel_868937/987684252.py:12: ParserWarning: Falling back to the 'python' engine because the 'c' engine does not support regex separators (separators > 1 char and different from '\\s+' are interpreted as regex); you can avoid this warning by specifying engine='python'.\n",
      "  pd.read_csv(path, delimiter=r',\\s+')\n"
     ]
    },
    {
     "name": "stdout",
     "output_type": "stream",
     "text": [
      "FRANCISCO_2007\n",
      "FRANCISCO_2007 has 20.66918783518306, skipping plotting...\n"
     ]
    },
    {
     "name": "stderr",
     "output_type": "stream",
     "text": [
      "/home/fred/micromamba/envs/open-gira/lib/python3.10/site-packages/geopandas/geodataframe.py:2061: UserWarning: CRS mismatch between the CRS of left geometries and the CRS of right geometries.\n",
      "Use `to_crs()` to reproject one of the input geometries to match the CRS of the other.\n",
      "\n",
      "Left CRS: EPSG:4326\n",
      "Right CRS: None\n",
      "\n",
      "  return geopandas.sjoin(left_df=self, right_df=df, *args, **kwargs)\n",
      "/tmp/ipykernel_868937/987684252.py:12: ParserWarning: Falling back to the 'python' engine because the 'c' engine does not support regex separators (separators > 1 char and different from '\\s+' are interpreted as regex); you can avoid this warning by specifying engine='python'.\n",
      "  pd.read_csv(path, delimiter=r',\\s+')\n"
     ]
    },
    {
     "name": "stdout",
     "output_type": "stream",
     "text": [
      "LORENZO_2007\n",
      "LORENZO_2007 has 36.007999999999996, skipping plotting...\n"
     ]
    },
    {
     "name": "stderr",
     "output_type": "stream",
     "text": [
      "/home/fred/micromamba/envs/open-gira/lib/python3.10/site-packages/geopandas/geodataframe.py:2061: UserWarning: CRS mismatch between the CRS of left geometries and the CRS of right geometries.\n",
      "Use `to_crs()` to reproject one of the input geometries to match the CRS of the other.\n",
      "\n",
      "Left CRS: EPSG:4326\n",
      "Right CRS: None\n",
      "\n",
      "  return geopandas.sjoin(left_df=self, right_df=df, *args, **kwargs)\n",
      "/tmp/ipykernel_868937/987684252.py:12: ParserWarning: Falling back to the 'python' engine because the 'c' engine does not support regex separators (separators > 1 char and different from '\\s+' are interpreted as regex); you can avoid this warning by specifying engine='python'.\n",
      "  pd.read_csv(path, delimiter=r',\\s+')\n"
     ]
    },
    {
     "name": "stdout",
     "output_type": "stream",
     "text": [
      "LEKIMA_2007\n",
      "LEKIMA_2007 has 34.533512986350296, skipping plotting...\n"
     ]
    },
    {
     "name": "stderr",
     "output_type": "stream",
     "text": [
      "/home/fred/micromamba/envs/open-gira/lib/python3.10/site-packages/geopandas/geodataframe.py:2061: UserWarning: CRS mismatch between the CRS of left geometries and the CRS of right geometries.\n",
      "Use `to_crs()` to reproject one of the input geometries to match the CRS of the other.\n",
      "\n",
      "Left CRS: EPSG:4326\n",
      "Right CRS: None\n",
      "\n",
      "  return geopandas.sjoin(left_df=self, right_df=df, *args, **kwargs)\n",
      "/tmp/ipykernel_868937/987684252.py:12: ParserWarning: Falling back to the 'python' engine because the 'c' engine does not support regex separators (separators > 1 char and different from '\\s+' are interpreted as regex); you can avoid this warning by specifying engine='python'.\n",
      "  pd.read_csv(path, delimiter=r',\\s+')\n"
     ]
    },
    {
     "name": "stdout",
     "output_type": "stream",
     "text": [
      "KROSA_2007\n"
     ]
    },
    {
     "name": "stderr",
     "output_type": "stream",
     "text": [
      "/home/fred/micromamba/envs/open-gira/lib/python3.10/site-packages/geopandas/geodataframe.py:2061: UserWarning: CRS mismatch between the CRS of left geometries and the CRS of right geometries.\n",
      "Use `to_crs()` to reproject one of the input geometries to match the CRS of the other.\n",
      "\n",
      "Left CRS: EPSG:4326\n",
      "Right CRS: None\n",
      "\n",
      "  return geopandas.sjoin(left_df=self, right_df=df, *args, **kwargs)\n",
      "/tmp/ipykernel_868937/987684252.py:12: ParserWarning: Falling back to the 'python' engine because the 'c' engine does not support regex separators (separators > 1 char and different from '\\s+' are interpreted as regex); you can avoid this warning by specifying engine='python'.\n",
      "  pd.read_csv(path, delimiter=r',\\s+')\n",
      "/tmp/ipykernel_868937/987684252.py:12: ParserWarning: Falling back to the 'python' engine because the 'c' engine does not support regex separators (separators > 1 char and different from '\\s+' are interpreted as regex); you can avoid this warning by specifying engine='python'.\n",
      "  pd.read_csv(path, delimiter=r',\\s+')\n"
     ]
    },
    {
     "name": "stdout",
     "output_type": "stream",
     "text": [
      "NOEL_2007\n",
      "NOEL_2007 has 36.007999999999996, skipping plotting...\n"
     ]
    },
    {
     "name": "stderr",
     "output_type": "stream",
     "text": [
      "/home/fred/micromamba/envs/open-gira/lib/python3.10/site-packages/geopandas/geodataframe.py:2061: UserWarning: CRS mismatch between the CRS of left geometries and the CRS of right geometries.\n",
      "Use `to_crs()` to reproject one of the input geometries to match the CRS of the other.\n",
      "\n",
      "Left CRS: EPSG:4326\n",
      "Right CRS: None\n",
      "\n",
      "  return geopandas.sjoin(left_df=self, right_df=df, *args, **kwargs)\n",
      "/tmp/ipykernel_868937/987684252.py:12: ParserWarning: Falling back to the 'python' engine because the 'c' engine does not support regex separators (separators > 1 char and different from '\\s+' are interpreted as regex); you can avoid this warning by specifying engine='python'.\n",
      "  pd.read_csv(path, delimiter=r',\\s+')\n",
      "/tmp/ipykernel_868937/987684252.py:12: ParserWarning: Falling back to the 'python' engine because the 'c' engine does not support regex separators (separators > 1 char and different from '\\s+' are interpreted as regex); you can avoid this warning by specifying engine='python'.\n",
      "  pd.read_csv(path, delimiter=r',\\s+')\n"
     ]
    },
    {
     "name": "stdout",
     "output_type": "stream",
     "text": [
      "PEIPAH_2007\n",
      "PEIPAH_2007 has 39.10595743079474, skipping plotting...\n"
     ]
    },
    {
     "name": "stderr",
     "output_type": "stream",
     "text": [
      "/home/fred/micromamba/envs/open-gira/lib/python3.10/site-packages/geopandas/geodataframe.py:2061: UserWarning: CRS mismatch between the CRS of left geometries and the CRS of right geometries.\n",
      "Use `to_crs()` to reproject one of the input geometries to match the CRS of the other.\n",
      "\n",
      "Left CRS: EPSG:4326\n",
      "Right CRS: None\n",
      "\n",
      "  return geopandas.sjoin(left_df=self, right_df=df, *args, **kwargs)\n",
      "/tmp/ipykernel_868937/987684252.py:12: ParserWarning: Falling back to the 'python' engine because the 'c' engine does not support regex separators (separators > 1 char and different from '\\s+' are interpreted as regex); you can avoid this warning by specifying engine='python'.\n",
      "  pd.read_csv(path, delimiter=r',\\s+')\n"
     ]
    },
    {
     "name": "stdout",
     "output_type": "stream",
     "text": [
      "SIDR_2007\n"
     ]
    },
    {
     "name": "stderr",
     "output_type": "stream",
     "text": [
      "/home/fred/micromamba/envs/open-gira/lib/python3.10/site-packages/geopandas/geodataframe.py:2061: UserWarning: CRS mismatch between the CRS of left geometries and the CRS of right geometries.\n",
      "Use `to_crs()` to reproject one of the input geometries to match the CRS of the other.\n",
      "\n",
      "Left CRS: EPSG:4326\n",
      "Right CRS: None\n",
      "\n",
      "  return geopandas.sjoin(left_df=self, right_df=df, *args, **kwargs)\n",
      "/tmp/ipykernel_868937/987684252.py:12: ParserWarning: Falling back to the 'python' engine because the 'c' engine does not support regex separators (separators > 1 char and different from '\\s+' are interpreted as regex); you can avoid this warning by specifying engine='python'.\n",
      "  pd.read_csv(path, delimiter=r',\\s+')\n",
      "/tmp/ipykernel_868937/987684252.py:12: ParserWarning: Falling back to the 'python' engine because the 'c' engine does not support regex separators (separators > 1 char and different from '\\s+' are interpreted as regex); you can avoid this warning by specifying engine='python'.\n",
      "  pd.read_csv(path, delimiter=r',\\s+')\n"
     ]
    },
    {
     "name": "stdout",
     "output_type": "stream",
     "text": [
      "HAGIBIS_2007\n",
      "HAGIBIS_2007 has 39.05354296466386, skipping plotting...\n"
     ]
    },
    {
     "name": "stderr",
     "output_type": "stream",
     "text": [
      "/home/fred/micromamba/envs/open-gira/lib/python3.10/site-packages/geopandas/geodataframe.py:2061: UserWarning: CRS mismatch between the CRS of left geometries and the CRS of right geometries.\n",
      "Use `to_crs()` to reproject one of the input geometries to match the CRS of the other.\n",
      "\n",
      "Left CRS: EPSG:4326\n",
      "Right CRS: None\n",
      "\n",
      "  return geopandas.sjoin(left_df=self, right_df=df, *args, **kwargs)\n",
      "/tmp/ipykernel_868937/987684252.py:12: ParserWarning: Falling back to the 'python' engine because the 'c' engine does not support regex separators (separators > 1 char and different from '\\s+' are interpreted as regex); you can avoid this warning by specifying engine='python'.\n",
      "  pd.read_csv(path, delimiter=r',\\s+')\n"
     ]
    },
    {
     "name": "stdout",
     "output_type": "stream",
     "text": [
      "MITAG_2007\n"
     ]
    },
    {
     "name": "stderr",
     "output_type": "stream",
     "text": [
      "/home/fred/micromamba/envs/open-gira/lib/python3.10/site-packages/geopandas/geodataframe.py:2061: UserWarning: CRS mismatch between the CRS of left geometries and the CRS of right geometries.\n",
      "Use `to_crs()` to reproject one of the input geometries to match the CRS of the other.\n",
      "\n",
      "Left CRS: EPSG:4326\n",
      "Right CRS: None\n",
      "\n",
      "  return geopandas.sjoin(left_df=self, right_df=df, *args, **kwargs)\n",
      "/tmp/ipykernel_868937/987684252.py:12: ParserWarning: Falling back to the 'python' engine because the 'c' engine does not support regex separators (separators > 1 char and different from '\\s+' are interpreted as regex); you can avoid this warning by specifying engine='python'.\n",
      "  pd.read_csv(path, delimiter=r',\\s+')\n"
     ]
    },
    {
     "name": "stdout",
     "output_type": "stream",
     "text": [
      "OLGA_2007\n",
      "OLGA_2007 has 25.72, skipping plotting...\n"
     ]
    },
    {
     "name": "stderr",
     "output_type": "stream",
     "text": [
      "/home/fred/micromamba/envs/open-gira/lib/python3.10/site-packages/geopandas/geodataframe.py:2061: UserWarning: CRS mismatch between the CRS of left geometries and the CRS of right geometries.\n",
      "Use `to_crs()` to reproject one of the input geometries to match the CRS of the other.\n",
      "\n",
      "Left CRS: EPSG:4326\n",
      "Right CRS: None\n",
      "\n",
      "  return geopandas.sjoin(left_df=self, right_df=df, *args, **kwargs)\n",
      "/tmp/ipykernel_868937/987684252.py:12: ParserWarning: Falling back to the 'python' engine because the 'c' engine does not support regex separators (separators > 1 char and different from '\\s+' are interpreted as regex); you can avoid this warning by specifying engine='python'.\n",
      "  pd.read_csv(path, delimiter=r',\\s+')\n"
     ]
    },
    {
     "name": "stdout",
     "output_type": "stream",
     "text": [
      "HELEN_2007\n",
      "HELEN_2007 has 26.889090909090907, skipping plotting...\n"
     ]
    },
    {
     "name": "stderr",
     "output_type": "stream",
     "text": [
      "/home/fred/micromamba/envs/open-gira/lib/python3.10/site-packages/geopandas/geodataframe.py:2061: UserWarning: CRS mismatch between the CRS of left geometries and the CRS of right geometries.\n",
      "Use `to_crs()` to reproject one of the input geometries to match the CRS of the other.\n",
      "\n",
      "Left CRS: EPSG:4326\n",
      "Right CRS: None\n",
      "\n",
      "  return geopandas.sjoin(left_df=self, right_df=df, *args, **kwargs)\n",
      "/tmp/ipykernel_868937/987684252.py:12: ParserWarning: Falling back to the 'python' engine because the 'c' engine does not support regex separators (separators > 1 char and different from '\\s+' are interpreted as regex); you can avoid this warning by specifying engine='python'.\n",
      "  pd.read_csv(path, delimiter=r',\\s+')\n"
     ]
    },
    {
     "name": "stdout",
     "output_type": "stream",
     "text": [
      "FAME_2008\n",
      "FAME_2008 has 38.98918181818182, skipping plotting...\n"
     ]
    },
    {
     "name": "stderr",
     "output_type": "stream",
     "text": [
      "/home/fred/micromamba/envs/open-gira/lib/python3.10/site-packages/geopandas/geodataframe.py:2061: UserWarning: CRS mismatch between the CRS of left geometries and the CRS of right geometries.\n",
      "Use `to_crs()` to reproject one of the input geometries to match the CRS of the other.\n",
      "\n",
      "Left CRS: EPSG:4326\n",
      "Right CRS: None\n",
      "\n",
      "  return geopandas.sjoin(left_df=self, right_df=df, *args, **kwargs)\n",
      "/tmp/ipykernel_868937/987684252.py:12: ParserWarning: Falling back to the 'python' engine because the 'c' engine does not support regex separators (separators > 1 char and different from '\\s+' are interpreted as regex); you can avoid this warning by specifying engine='python'.\n",
      "  pd.read_csv(path, delimiter=r',\\s+')\n"
     ]
    },
    {
     "name": "stdout",
     "output_type": "stream",
     "text": [
      "IVAN_2008\n"
     ]
    },
    {
     "name": "stderr",
     "output_type": "stream",
     "text": [
      "/home/fred/micromamba/envs/open-gira/lib/python3.10/site-packages/geopandas/geodataframe.py:2061: UserWarning: CRS mismatch between the CRS of left geometries and the CRS of right geometries.\n",
      "Use `to_crs()` to reproject one of the input geometries to match the CRS of the other.\n",
      "\n",
      "Left CRS: EPSG:4326\n",
      "Right CRS: None\n",
      "\n",
      "  return geopandas.sjoin(left_df=self, right_df=df, *args, **kwargs)\n",
      "/tmp/ipykernel_868937/987684252.py:12: ParserWarning: Falling back to the 'python' engine because the 'c' engine does not support regex separators (separators > 1 char and different from '\\s+' are interpreted as regex); you can avoid this warning by specifying engine='python'.\n",
      "  pd.read_csv(path, delimiter=r',\\s+')\n"
     ]
    },
    {
     "name": "stdout",
     "output_type": "stream",
     "text": [
      "JOKWE_2008\n"
     ]
    },
    {
     "name": "stderr",
     "output_type": "stream",
     "text": [
      "/home/fred/micromamba/envs/open-gira/lib/python3.10/site-packages/geopandas/geodataframe.py:2061: UserWarning: CRS mismatch between the CRS of left geometries and the CRS of right geometries.\n",
      "Use `to_crs()` to reproject one of the input geometries to match the CRS of the other.\n",
      "\n",
      "Left CRS: EPSG:4326\n",
      "Right CRS: None\n",
      "\n",
      "  return geopandas.sjoin(left_df=self, right_df=df, *args, **kwargs)\n",
      "/tmp/ipykernel_868937/987684252.py:12: ParserWarning: Falling back to the 'python' engine because the 'c' engine does not support regex separators (separators > 1 char and different from '\\s+' are interpreted as regex); you can avoid this warning by specifying engine='python'.\n",
      "  pd.read_csv(path, delimiter=r',\\s+')\n",
      "/tmp/ipykernel_868937/987684252.py:12: ParserWarning: Falling back to the 'python' engine because the 'c' engine does not support regex separators (separators > 1 char and different from '\\s+' are interpreted as regex); you can avoid this warning by specifying engine='python'.\n",
      "  pd.read_csv(path, delimiter=r',\\s+')\n"
     ]
    },
    {
     "name": "stdout",
     "output_type": "stream",
     "text": [
      "NEOGURI_2008\n"
     ]
    },
    {
     "name": "stderr",
     "output_type": "stream",
     "text": [
      "/home/fred/micromamba/envs/open-gira/lib/python3.10/site-packages/geopandas/geodataframe.py:2061: UserWarning: CRS mismatch between the CRS of left geometries and the CRS of right geometries.\n",
      "Use `to_crs()` to reproject one of the input geometries to match the CRS of the other.\n",
      "\n",
      "Left CRS: EPSG:4326\n",
      "Right CRS: None\n",
      "\n",
      "  return geopandas.sjoin(left_df=self, right_df=df, *args, **kwargs)\n",
      "/tmp/ipykernel_868937/987684252.py:12: ParserWarning: Falling back to the 'python' engine because the 'c' engine does not support regex separators (separators > 1 char and different from '\\s+' are interpreted as regex); you can avoid this warning by specifying engine='python'.\n",
      "  pd.read_csv(path, delimiter=r',\\s+')\n"
     ]
    },
    {
     "name": "stdout",
     "output_type": "stream",
     "text": [
      "NARGIS_2008\n"
     ]
    },
    {
     "name": "stderr",
     "output_type": "stream",
     "text": [
      "/home/fred/micromamba/envs/open-gira/lib/python3.10/site-packages/geopandas/geodataframe.py:2061: UserWarning: CRS mismatch between the CRS of left geometries and the CRS of right geometries.\n",
      "Use `to_crs()` to reproject one of the input geometries to match the CRS of the other.\n",
      "\n",
      "Left CRS: EPSG:4326\n",
      "Right CRS: None\n",
      "\n",
      "  return geopandas.sjoin(left_df=self, right_df=df, *args, **kwargs)\n",
      "/tmp/ipykernel_868937/987684252.py:12: ParserWarning: Falling back to the 'python' engine because the 'c' engine does not support regex separators (separators > 1 char and different from '\\s+' are interpreted as regex); you can avoid this warning by specifying engine='python'.\n",
      "  pd.read_csv(path, delimiter=r',\\s+')\n"
     ]
    },
    {
     "name": "stdout",
     "output_type": "stream",
     "text": [
      "HALONG_2008\n",
      "HALONG_2008 has 33.31952997065952, skipping plotting...\n"
     ]
    },
    {
     "name": "stderr",
     "output_type": "stream",
     "text": [
      "/home/fred/micromamba/envs/open-gira/lib/python3.10/site-packages/geopandas/geodataframe.py:2061: UserWarning: CRS mismatch between the CRS of left geometries and the CRS of right geometries.\n",
      "Use `to_crs()` to reproject one of the input geometries to match the CRS of the other.\n",
      "\n",
      "Left CRS: EPSG:4326\n",
      "Right CRS: None\n",
      "\n",
      "  return geopandas.sjoin(left_df=self, right_df=df, *args, **kwargs)\n",
      "/tmp/ipykernel_868937/987684252.py:12: ParserWarning: Falling back to the 'python' engine because the 'c' engine does not support regex separators (separators > 1 char and different from '\\s+' are interpreted as regex); you can avoid this warning by specifying engine='python'.\n",
      "  pd.read_csv(path, delimiter=r',\\s+')\n"
     ]
    },
    {
     "name": "stdout",
     "output_type": "stream",
     "text": [
      "ALMA_2008\n",
      "ALMA_2008 has 28.291999999999998, skipping plotting...\n"
     ]
    },
    {
     "name": "stderr",
     "output_type": "stream",
     "text": [
      "/home/fred/micromamba/envs/open-gira/lib/python3.10/site-packages/geopandas/geodataframe.py:2061: UserWarning: CRS mismatch between the CRS of left geometries and the CRS of right geometries.\n",
      "Use `to_crs()` to reproject one of the input geometries to match the CRS of the other.\n",
      "\n",
      "Left CRS: EPSG:4326\n",
      "Right CRS: None\n",
      "\n",
      "  return geopandas.sjoin(left_df=self, right_df=df, *args, **kwargs)\n",
      "/tmp/ipykernel_868937/987684252.py:12: ParserWarning: Falling back to the 'python' engine because the 'c' engine does not support regex separators (separators > 1 char and different from '\\s+' are interpreted as regex); you can avoid this warning by specifying engine='python'.\n",
      "  pd.read_csv(path, delimiter=r',\\s+')\n",
      "/tmp/ipykernel_868937/987684252.py:12: ParserWarning: Falling back to the 'python' engine because the 'c' engine does not support regex separators (separators > 1 char and different from '\\s+' are interpreted as regex); you can avoid this warning by specifying engine='python'.\n",
      "  pd.read_csv(path, delimiter=r',\\s+')\n"
     ]
    },
    {
     "name": "stdout",
     "output_type": "stream",
     "text": [
      "FENGSHEN_2008\n"
     ]
    },
    {
     "name": "stderr",
     "output_type": "stream",
     "text": [
      "/home/fred/micromamba/envs/open-gira/lib/python3.10/site-packages/geopandas/geodataframe.py:2061: UserWarning: CRS mismatch between the CRS of left geometries and the CRS of right geometries.\n",
      "Use `to_crs()` to reproject one of the input geometries to match the CRS of the other.\n",
      "\n",
      "Left CRS: EPSG:4326\n",
      "Right CRS: None\n",
      "\n",
      "  return geopandas.sjoin(left_df=self, right_df=df, *args, **kwargs)\n",
      "/tmp/ipykernel_868937/987684252.py:12: ParserWarning: Falling back to the 'python' engine because the 'c' engine does not support regex separators (separators > 1 char and different from '\\s+' are interpreted as regex); you can avoid this warning by specifying engine='python'.\n",
      "  pd.read_csv(path, delimiter=r',\\s+')\n"
     ]
    },
    {
     "name": "stdout",
     "output_type": "stream",
     "text": [
      "KALMAEGI_2008\n",
      "KALMAEGI_2008 has 38.086277055746905, skipping plotting...\n"
     ]
    },
    {
     "name": "stderr",
     "output_type": "stream",
     "text": [
      "/home/fred/micromamba/envs/open-gira/lib/python3.10/site-packages/geopandas/geodataframe.py:2061: UserWarning: CRS mismatch between the CRS of left geometries and the CRS of right geometries.\n",
      "Use `to_crs()` to reproject one of the input geometries to match the CRS of the other.\n",
      "\n",
      "Left CRS: EPSG:4326\n",
      "Right CRS: None\n",
      "\n",
      "  return geopandas.sjoin(left_df=self, right_df=df, *args, **kwargs)\n",
      "/tmp/ipykernel_868937/987684252.py:12: ParserWarning: Falling back to the 'python' engine because the 'c' engine does not support regex separators (separators > 1 char and different from '\\s+' are interpreted as regex); you can avoid this warning by specifying engine='python'.\n",
      "  pd.read_csv(path, delimiter=r',\\s+')\n",
      "/tmp/ipykernel_868937/987684252.py:12: ParserWarning: Falling back to the 'python' engine because the 'c' engine does not support regex separators (separators > 1 char and different from '\\s+' are interpreted as regex); you can avoid this warning by specifying engine='python'.\n",
      "  pd.read_csv(path, delimiter=r',\\s+')\n"
     ]
    },
    {
     "name": "stdout",
     "output_type": "stream",
     "text": [
      "CRISTOBAL_2008\n",
      "CRISTOBAL_2008 has 28.291999999999998, skipping plotting...\n"
     ]
    },
    {
     "name": "stderr",
     "output_type": "stream",
     "text": [
      "/home/fred/micromamba/envs/open-gira/lib/python3.10/site-packages/geopandas/geodataframe.py:2061: UserWarning: CRS mismatch between the CRS of left geometries and the CRS of right geometries.\n",
      "Use `to_crs()` to reproject one of the input geometries to match the CRS of the other.\n",
      "\n",
      "Left CRS: EPSG:4326\n",
      "Right CRS: None\n",
      "\n",
      "  return geopandas.sjoin(left_df=self, right_df=df, *args, **kwargs)\n",
      "/tmp/ipykernel_868937/987684252.py:12: ParserWarning: Falling back to the 'python' engine because the 'c' engine does not support regex separators (separators > 1 char and different from '\\s+' are interpreted as regex); you can avoid this warning by specifying engine='python'.\n",
      "  pd.read_csv(path, delimiter=r',\\s+')\n",
      "/tmp/ipykernel_868937/987684252.py:12: ParserWarning: Falling back to the 'python' engine because the 'c' engine does not support regex separators (separators > 1 char and different from '\\s+' are interpreted as regex); you can avoid this warning by specifying engine='python'.\n",
      "  pd.read_csv(path, delimiter=r',\\s+')\n"
     ]
    },
    {
     "name": "stdout",
     "output_type": "stream",
     "text": [
      "DOLLY_2008\n"
     ]
    },
    {
     "name": "stderr",
     "output_type": "stream",
     "text": [
      "/home/fred/micromamba/envs/open-gira/lib/python3.10/site-packages/geopandas/geodataframe.py:2061: UserWarning: CRS mismatch between the CRS of left geometries and the CRS of right geometries.\n",
      "Use `to_crs()` to reproject one of the input geometries to match the CRS of the other.\n",
      "\n",
      "Left CRS: EPSG:4326\n",
      "Right CRS: None\n",
      "\n",
      "  return geopandas.sjoin(left_df=self, right_df=df, *args, **kwargs)\n",
      "/tmp/ipykernel_868937/987684252.py:12: ParserWarning: Falling back to the 'python' engine because the 'c' engine does not support regex separators (separators > 1 char and different from '\\s+' are interpreted as regex); you can avoid this warning by specifying engine='python'.\n",
      "  pd.read_csv(path, delimiter=r',\\s+')\n"
     ]
    },
    {
     "name": "stdout",
     "output_type": "stream",
     "text": [
      "FUNG-WONG_2008\n"
     ]
    },
    {
     "name": "stderr",
     "output_type": "stream",
     "text": [
      "/home/fred/micromamba/envs/open-gira/lib/python3.10/site-packages/geopandas/geodataframe.py:2061: UserWarning: CRS mismatch between the CRS of left geometries and the CRS of right geometries.\n",
      "Use `to_crs()` to reproject one of the input geometries to match the CRS of the other.\n",
      "\n",
      "Left CRS: EPSG:4326\n",
      "Right CRS: None\n",
      "\n",
      "  return geopandas.sjoin(left_df=self, right_df=df, *args, **kwargs)\n",
      "/tmp/ipykernel_868937/987684252.py:12: ParserWarning: Falling back to the 'python' engine because the 'c' engine does not support regex separators (separators > 1 char and different from '\\s+' are interpreted as regex); you can avoid this warning by specifying engine='python'.\n",
      "  pd.read_csv(path, delimiter=r',\\s+')\n"
     ]
    },
    {
     "name": "stdout",
     "output_type": "stream",
     "text": [
      "KAMMURI_2008\n",
      "KAMMURI_2008 has 26.998593073096053, skipping plotting...\n"
     ]
    },
    {
     "name": "stderr",
     "output_type": "stream",
     "text": [
      "/home/fred/micromamba/envs/open-gira/lib/python3.10/site-packages/geopandas/geodataframe.py:2061: UserWarning: CRS mismatch between the CRS of left geometries and the CRS of right geometries.\n",
      "Use `to_crs()` to reproject one of the input geometries to match the CRS of the other.\n",
      "\n",
      "Left CRS: EPSG:4326\n",
      "Right CRS: None\n",
      "\n",
      "  return geopandas.sjoin(left_df=self, right_df=df, *args, **kwargs)\n",
      "/tmp/ipykernel_868937/987684252.py:12: ParserWarning: Falling back to the 'python' engine because the 'c' engine does not support regex separators (separators > 1 char and different from '\\s+' are interpreted as regex); you can avoid this warning by specifying engine='python'.\n",
      "  pd.read_csv(path, delimiter=r',\\s+')\n"
     ]
    },
    {
     "name": "stdout",
     "output_type": "stream",
     "text": [
      "EDOUARD_2008\n",
      "EDOUARD_2008 has 28.291999999999998, skipping plotting...\n"
     ]
    },
    {
     "name": "stderr",
     "output_type": "stream",
     "text": [
      "/home/fred/micromamba/envs/open-gira/lib/python3.10/site-packages/geopandas/geodataframe.py:2061: UserWarning: CRS mismatch between the CRS of left geometries and the CRS of right geometries.\n",
      "Use `to_crs()` to reproject one of the input geometries to match the CRS of the other.\n",
      "\n",
      "Left CRS: EPSG:4326\n",
      "Right CRS: None\n",
      "\n",
      "  return geopandas.sjoin(left_df=self, right_df=df, *args, **kwargs)\n",
      "/tmp/ipykernel_868937/987684252.py:12: ParserWarning: Falling back to the 'python' engine because the 'c' engine does not support regex separators (separators > 1 char and different from '\\s+' are interpreted as regex); you can avoid this warning by specifying engine='python'.\n",
      "  pd.read_csv(path, delimiter=r',\\s+')\n",
      "/tmp/ipykernel_868937/987684252.py:12: ParserWarning: Falling back to the 'python' engine because the 'c' engine does not support regex separators (separators > 1 char and different from '\\s+' are interpreted as regex); you can avoid this warning by specifying engine='python'.\n",
      "  pd.read_csv(path, delimiter=r',\\s+')\n"
     ]
    },
    {
     "name": "stdout",
     "output_type": "stream",
     "text": [
      "NURI_2008\n"
     ]
    },
    {
     "name": "stderr",
     "output_type": "stream",
     "text": [
      "/home/fred/micromamba/envs/open-gira/lib/python3.10/site-packages/geopandas/geodataframe.py:2061: UserWarning: CRS mismatch between the CRS of left geometries and the CRS of right geometries.\n",
      "Use `to_crs()` to reproject one of the input geometries to match the CRS of the other.\n",
      "\n",
      "Left CRS: EPSG:4326\n",
      "Right CRS: None\n",
      "\n",
      "  return geopandas.sjoin(left_df=self, right_df=df, *args, **kwargs)\n",
      "/tmp/ipykernel_868937/987684252.py:12: ParserWarning: Falling back to the 'python' engine because the 'c' engine does not support regex separators (separators > 1 char and different from '\\s+' are interpreted as regex); you can avoid this warning by specifying engine='python'.\n",
      "  pd.read_csv(path, delimiter=r',\\s+')\n",
      "/tmp/ipykernel_868937/987684252.py:12: ParserWarning: Falling back to the 'python' engine because the 'c' engine does not support regex separators (separators > 1 char and different from '\\s+' are interpreted as regex); you can avoid this warning by specifying engine='python'.\n",
      "  pd.read_csv(path, delimiter=r',\\s+')\n",
      "/tmp/ipykernel_868937/987684252.py:12: ParserWarning: Falling back to the 'python' engine because the 'c' engine does not support regex separators (separators > 1 char and different from '\\s+' are interpreted as regex); you can avoid this warning by specifying engine='python'.\n",
      "  pd.read_csv(path, delimiter=r',\\s+')\n",
      "/tmp/ipykernel_868937/987684252.py:12: ParserWarning: Falling back to the 'python' engine because the 'c' engine does not support regex separators (separators > 1 char and different from '\\s+' are interpreted as regex); you can avoid this warning by specifying engine='python'.\n",
      "  pd.read_csv(path, delimiter=r',\\s+')\n"
     ]
    },
    {
     "name": "stdout",
     "output_type": "stream",
     "text": [
      "FAY_2008\n",
      "FAY_2008 has 30.863999999999997, skipping plotting...\n"
     ]
    },
    {
     "name": "stderr",
     "output_type": "stream",
     "text": [
      "/home/fred/micromamba/envs/open-gira/lib/python3.10/site-packages/geopandas/geodataframe.py:2061: UserWarning: CRS mismatch between the CRS of left geometries and the CRS of right geometries.\n",
      "Use `to_crs()` to reproject one of the input geometries to match the CRS of the other.\n",
      "\n",
      "Left CRS: EPSG:4326\n",
      "Right CRS: None\n",
      "\n",
      "  return geopandas.sjoin(left_df=self, right_df=df, *args, **kwargs)\n",
      "/tmp/ipykernel_868937/987684252.py:12: ParserWarning: Falling back to the 'python' engine because the 'c' engine does not support regex separators (separators > 1 char and different from '\\s+' are interpreted as regex); you can avoid this warning by specifying engine='python'.\n",
      "  pd.read_csv(path, delimiter=r',\\s+')\n"
     ]
    },
    {
     "name": "stdout",
     "output_type": "stream",
     "text": [
      "JULIO_2008\n",
      "JULIO_2008 has 23.148, skipping plotting...\n"
     ]
    },
    {
     "name": "stderr",
     "output_type": "stream",
     "text": [
      "/home/fred/micromamba/envs/open-gira/lib/python3.10/site-packages/geopandas/geodataframe.py:2061: UserWarning: CRS mismatch between the CRS of left geometries and the CRS of right geometries.\n",
      "Use `to_crs()` to reproject one of the input geometries to match the CRS of the other.\n",
      "\n",
      "Left CRS: EPSG:4326\n",
      "Right CRS: None\n",
      "\n",
      "  return geopandas.sjoin(left_df=self, right_df=df, *args, **kwargs)\n",
      "/tmp/ipykernel_868937/987684252.py:12: ParserWarning: Falling back to the 'python' engine because the 'c' engine does not support regex separators (separators > 1 char and different from '\\s+' are interpreted as regex); you can avoid this warning by specifying engine='python'.\n",
      "  pd.read_csv(path, delimiter=r',\\s+')\n",
      "/tmp/ipykernel_868937/987684252.py:12: ParserWarning: Falling back to the 'python' engine because the 'c' engine does not support regex separators (separators > 1 char and different from '\\s+' are interpreted as regex); you can avoid this warning by specifying engine='python'.\n",
      "  pd.read_csv(path, delimiter=r',\\s+')\n",
      "/tmp/ipykernel_868937/987684252.py:12: ParserWarning: Falling back to the 'python' engine because the 'c' engine does not support regex separators (separators > 1 char and different from '\\s+' are interpreted as regex); you can avoid this warning by specifying engine='python'.\n",
      "  pd.read_csv(path, delimiter=r',\\s+')\n"
     ]
    },
    {
     "name": "stdout",
     "output_type": "stream",
     "text": [
      "GUSTAV_2008\n"
     ]
    },
    {
     "name": "stderr",
     "output_type": "stream",
     "text": [
      "/home/fred/micromamba/envs/open-gira/lib/python3.10/site-packages/geopandas/geodataframe.py:2061: UserWarning: CRS mismatch between the CRS of left geometries and the CRS of right geometries.\n",
      "Use `to_crs()` to reproject one of the input geometries to match the CRS of the other.\n",
      "\n",
      "Left CRS: EPSG:4326\n",
      "Right CRS: None\n",
      "\n",
      "  return geopandas.sjoin(left_df=self, right_df=df, *args, **kwargs)\n",
      "/tmp/ipykernel_868937/987684252.py:12: ParserWarning: Falling back to the 'python' engine because the 'c' engine does not support regex separators (separators > 1 char and different from '\\s+' are interpreted as regex); you can avoid this warning by specifying engine='python'.\n",
      "  pd.read_csv(path, delimiter=r',\\s+')\n",
      "/tmp/ipykernel_868937/987684252.py:12: ParserWarning: Falling back to the 'python' engine because the 'c' engine does not support regex separators (separators > 1 char and different from '\\s+' are interpreted as regex); you can avoid this warning by specifying engine='python'.\n",
      "  pd.read_csv(path, delimiter=r',\\s+')\n",
      "/tmp/ipykernel_868937/987684252.py:12: ParserWarning: Falling back to the 'python' engine because the 'c' engine does not support regex separators (separators > 1 char and different from '\\s+' are interpreted as regex); you can avoid this warning by specifying engine='python'.\n",
      "  pd.read_csv(path, delimiter=r',\\s+')\n"
     ]
    },
    {
     "name": "stdout",
     "output_type": "stream",
     "text": [
      "HANNA_2008\n",
      "HANNA_2008 has 38.58, skipping plotting...\n"
     ]
    },
    {
     "name": "stderr",
     "output_type": "stream",
     "text": [
      "/home/fred/micromamba/envs/open-gira/lib/python3.10/site-packages/geopandas/geodataframe.py:2061: UserWarning: CRS mismatch between the CRS of left geometries and the CRS of right geometries.\n",
      "Use `to_crs()` to reproject one of the input geometries to match the CRS of the other.\n",
      "\n",
      "Left CRS: EPSG:4326\n",
      "Right CRS: None\n",
      "\n",
      "  return geopandas.sjoin(left_df=self, right_df=df, *args, **kwargs)\n",
      "/tmp/ipykernel_868937/987684252.py:12: ParserWarning: Falling back to the 'python' engine because the 'c' engine does not support regex separators (separators > 1 char and different from '\\s+' are interpreted as regex); you can avoid this warning by specifying engine='python'.\n",
      "  pd.read_csv(path, delimiter=r',\\s+')\n",
      "/tmp/ipykernel_868937/987684252.py:12: ParserWarning: Falling back to the 'python' engine because the 'c' engine does not support regex separators (separators > 1 char and different from '\\s+' are interpreted as regex); you can avoid this warning by specifying engine='python'.\n",
      "  pd.read_csv(path, delimiter=r',\\s+')\n",
      "/tmp/ipykernel_868937/987684252.py:12: ParserWarning: Falling back to the 'python' engine because the 'c' engine does not support regex separators (separators > 1 char and different from '\\s+' are interpreted as regex); you can avoid this warning by specifying engine='python'.\n",
      "  pd.read_csv(path, delimiter=r',\\s+')\n"
     ]
    },
    {
     "name": "stdout",
     "output_type": "stream",
     "text": [
      "IKE_2008\n"
     ]
    },
    {
     "name": "stderr",
     "output_type": "stream",
     "text": [
      "/home/fred/micromamba/envs/open-gira/lib/python3.10/site-packages/geopandas/geodataframe.py:2061: UserWarning: CRS mismatch between the CRS of left geometries and the CRS of right geometries.\n",
      "Use `to_crs()` to reproject one of the input geometries to match the CRS of the other.\n",
      "\n",
      "Left CRS: EPSG:4326\n",
      "Right CRS: None\n",
      "\n",
      "  return geopandas.sjoin(left_df=self, right_df=df, *args, **kwargs)\n",
      "/tmp/ipykernel_868937/987684252.py:12: ParserWarning: Falling back to the 'python' engine because the 'c' engine does not support regex separators (separators > 1 char and different from '\\s+' are interpreted as regex); you can avoid this warning by specifying engine='python'.\n",
      "  pd.read_csv(path, delimiter=r',\\s+')\n"
     ]
    },
    {
     "name": "stdout",
     "output_type": "stream",
     "text": [
      "LOWELL_2008\n",
      "LOWELL_2008 has 23.148, skipping plotting...\n"
     ]
    },
    {
     "name": "stderr",
     "output_type": "stream",
     "text": [
      "/home/fred/micromamba/envs/open-gira/lib/python3.10/site-packages/geopandas/geodataframe.py:2061: UserWarning: CRS mismatch between the CRS of left geometries and the CRS of right geometries.\n",
      "Use `to_crs()` to reproject one of the input geometries to match the CRS of the other.\n",
      "\n",
      "Left CRS: EPSG:4326\n",
      "Right CRS: None\n",
      "\n",
      "  return geopandas.sjoin(left_df=self, right_df=df, *args, **kwargs)\n",
      "/tmp/ipykernel_868937/987684252.py:12: ParserWarning: Falling back to the 'python' engine because the 'c' engine does not support regex separators (separators > 1 char and different from '\\s+' are interpreted as regex); you can avoid this warning by specifying engine='python'.\n",
      "  pd.read_csv(path, delimiter=r',\\s+')\n",
      "/tmp/ipykernel_868937/987684252.py:12: ParserWarning: Falling back to the 'python' engine because the 'c' engine does not support regex separators (separators > 1 char and different from '\\s+' are interpreted as regex); you can avoid this warning by specifying engine='python'.\n",
      "  pd.read_csv(path, delimiter=r',\\s+')\n"
     ]
    },
    {
     "name": "stdout",
     "output_type": "stream",
     "text": [
      "SINLAKU_2008\n"
     ]
    },
    {
     "name": "stderr",
     "output_type": "stream",
     "text": [
      "/home/fred/micromamba/envs/open-gira/lib/python3.10/site-packages/geopandas/geodataframe.py:2061: UserWarning: CRS mismatch between the CRS of left geometries and the CRS of right geometries.\n",
      "Use `to_crs()` to reproject one of the input geometries to match the CRS of the other.\n",
      "\n",
      "Left CRS: EPSG:4326\n",
      "Right CRS: None\n",
      "\n",
      "  return geopandas.sjoin(left_df=self, right_df=df, *args, **kwargs)\n",
      "/tmp/ipykernel_868937/987684252.py:12: ParserWarning: Falling back to the 'python' engine because the 'c' engine does not support regex separators (separators > 1 char and different from '\\s+' are interpreted as regex); you can avoid this warning by specifying engine='python'.\n",
      "  pd.read_csv(path, delimiter=r',\\s+')\n"
     ]
    },
    {
     "name": "stdout",
     "output_type": "stream",
     "text": [
      "HAGUPIT_2008\n"
     ]
    },
    {
     "name": "stderr",
     "output_type": "stream",
     "text": [
      "/home/fred/micromamba/envs/open-gira/lib/python3.10/site-packages/geopandas/geodataframe.py:2061: UserWarning: CRS mismatch between the CRS of left geometries and the CRS of right geometries.\n",
      "Use `to_crs()` to reproject one of the input geometries to match the CRS of the other.\n",
      "\n",
      "Left CRS: EPSG:4326\n",
      "Right CRS: None\n",
      "\n",
      "  return geopandas.sjoin(left_df=self, right_df=df, *args, **kwargs)\n",
      "/tmp/ipykernel_868937/987684252.py:12: ParserWarning: Falling back to the 'python' engine because the 'c' engine does not support regex separators (separators > 1 char and different from '\\s+' are interpreted as regex); you can avoid this warning by specifying engine='python'.\n",
      "  pd.read_csv(path, delimiter=r',\\s+')\n"
     ]
    },
    {
     "name": "stdout",
     "output_type": "stream",
     "text": [
      "JANGMI_2008\n"
     ]
    },
    {
     "name": "stderr",
     "output_type": "stream",
     "text": [
      "/home/fred/micromamba/envs/open-gira/lib/python3.10/site-packages/geopandas/geodataframe.py:2061: UserWarning: CRS mismatch between the CRS of left geometries and the CRS of right geometries.\n",
      "Use `to_crs()` to reproject one of the input geometries to match the CRS of the other.\n",
      "\n",
      "Left CRS: EPSG:4326\n",
      "Right CRS: None\n",
      "\n",
      "  return geopandas.sjoin(left_df=self, right_df=df, *args, **kwargs)\n",
      "/tmp/ipykernel_868937/987684252.py:12: ParserWarning: Falling back to the 'python' engine because the 'c' engine does not support regex separators (separators > 1 char and different from '\\s+' are interpreted as regex); you can avoid this warning by specifying engine='python'.\n",
      "  pd.read_csv(path, delimiter=r',\\s+')\n"
     ]
    },
    {
     "name": "stdout",
     "output_type": "stream",
     "text": [
      "KYLE_2008\n",
      "KYLE_2008 has 38.58, skipping plotting...\n"
     ]
    },
    {
     "name": "stderr",
     "output_type": "stream",
     "text": [
      "/home/fred/micromamba/envs/open-gira/lib/python3.10/site-packages/geopandas/geodataframe.py:2061: UserWarning: CRS mismatch between the CRS of left geometries and the CRS of right geometries.\n",
      "Use `to_crs()` to reproject one of the input geometries to match the CRS of the other.\n",
      "\n",
      "Left CRS: EPSG:4326\n",
      "Right CRS: None\n",
      "\n",
      "  return geopandas.sjoin(left_df=self, right_df=df, *args, **kwargs)\n",
      "/tmp/ipykernel_868937/987684252.py:12: ParserWarning: Falling back to the 'python' engine because the 'c' engine does not support regex separators (separators > 1 char and different from '\\s+' are interpreted as regex); you can avoid this warning by specifying engine='python'.\n",
      "  pd.read_csv(path, delimiter=r',\\s+')\n"
     ]
    },
    {
     "name": "stdout",
     "output_type": "stream",
     "text": [
      "MEKKHALA_2008\n",
      "MEKKHALA_2008 has 21.94944603138155, skipping plotting...\n"
     ]
    },
    {
     "name": "stderr",
     "output_type": "stream",
     "text": [
      "/home/fred/micromamba/envs/open-gira/lib/python3.10/site-packages/geopandas/geodataframe.py:2061: UserWarning: CRS mismatch between the CRS of left geometries and the CRS of right geometries.\n",
      "Use `to_crs()` to reproject one of the input geometries to match the CRS of the other.\n",
      "\n",
      "Left CRS: EPSG:4326\n",
      "Right CRS: None\n",
      "\n",
      "  return geopandas.sjoin(left_df=self, right_df=df, *args, **kwargs)\n",
      "/tmp/ipykernel_868937/987684252.py:12: ParserWarning: Falling back to the 'python' engine because the 'c' engine does not support regex separators (separators > 1 char and different from '\\s+' are interpreted as regex); you can avoid this warning by specifying engine='python'.\n",
      "  pd.read_csv(path, delimiter=r',\\s+')\n"
     ]
    },
    {
     "name": "stdout",
     "output_type": "stream",
     "text": [
      "NORBERT_2008\n"
     ]
    },
    {
     "name": "stderr",
     "output_type": "stream",
     "text": [
      "/home/fred/micromamba/envs/open-gira/lib/python3.10/site-packages/geopandas/geodataframe.py:2061: UserWarning: CRS mismatch between the CRS of left geometries and the CRS of right geometries.\n",
      "Use `to_crs()` to reproject one of the input geometries to match the CRS of the other.\n",
      "\n",
      "Left CRS: EPSG:4326\n",
      "Right CRS: None\n",
      "\n",
      "  return geopandas.sjoin(left_df=self, right_df=df, *args, **kwargs)\n",
      "/tmp/ipykernel_868937/987684252.py:12: ParserWarning: Falling back to the 'python' engine because the 'c' engine does not support regex separators (separators > 1 char and different from '\\s+' are interpreted as regex); you can avoid this warning by specifying engine='python'.\n",
      "  pd.read_csv(path, delimiter=r',\\s+')\n"
     ]
    },
    {
     "name": "stdout",
     "output_type": "stream",
     "text": [
      "MARCO_2008\n",
      "MARCO_2008 has 28.291999999999998, skipping plotting...\n"
     ]
    },
    {
     "name": "stderr",
     "output_type": "stream",
     "text": [
      "/home/fred/micromamba/envs/open-gira/lib/python3.10/site-packages/geopandas/geodataframe.py:2061: UserWarning: CRS mismatch between the CRS of left geometries and the CRS of right geometries.\n",
      "Use `to_crs()` to reproject one of the input geometries to match the CRS of the other.\n",
      "\n",
      "Left CRS: EPSG:4326\n",
      "Right CRS: None\n",
      "\n",
      "  return geopandas.sjoin(left_df=self, right_df=df, *args, **kwargs)\n",
      "/tmp/ipykernel_868937/987684252.py:12: ParserWarning: Falling back to the 'python' engine because the 'c' engine does not support regex separators (separators > 1 char and different from '\\s+' are interpreted as regex); you can avoid this warning by specifying engine='python'.\n",
      "  pd.read_csv(path, delimiter=r',\\s+')\n",
      "/tmp/ipykernel_868937/987684252.py:12: ParserWarning: Falling back to the 'python' engine because the 'c' engine does not support regex separators (separators > 1 char and different from '\\s+' are interpreted as regex); you can avoid this warning by specifying engine='python'.\n",
      "  pd.read_csv(path, delimiter=r',\\s+')\n"
     ]
    },
    {
     "name": "stdout",
     "output_type": "stream",
     "text": [
      "ODILE_2008\n",
      "ODILE_2008 has 25.72, skipping plotting...\n"
     ]
    },
    {
     "name": "stderr",
     "output_type": "stream",
     "text": [
      "/home/fred/micromamba/envs/open-gira/lib/python3.10/site-packages/geopandas/geodataframe.py:2061: UserWarning: CRS mismatch between the CRS of left geometries and the CRS of right geometries.\n",
      "Use `to_crs()` to reproject one of the input geometries to match the CRS of the other.\n",
      "\n",
      "Left CRS: EPSG:4326\n",
      "Right CRS: None\n",
      "\n",
      "  return geopandas.sjoin(left_df=self, right_df=df, *args, **kwargs)\n",
      "/tmp/ipykernel_868937/987684252.py:12: ParserWarning: Falling back to the 'python' engine because the 'c' engine does not support regex separators (separators > 1 char and different from '\\s+' are interpreted as regex); you can avoid this warning by specifying engine='python'.\n",
      "  pd.read_csv(path, delimiter=r',\\s+')\n"
     ]
    },
    {
     "name": "stdout",
     "output_type": "stream",
     "text": [
      "RASHMI_2008\n",
      "RASHMI_2008 has 21.43333333333333, skipping plotting...\n"
     ]
    },
    {
     "name": "stderr",
     "output_type": "stream",
     "text": [
      "/home/fred/micromamba/envs/open-gira/lib/python3.10/site-packages/geopandas/geodataframe.py:2061: UserWarning: CRS mismatch between the CRS of left geometries and the CRS of right geometries.\n",
      "Use `to_crs()` to reproject one of the input geometries to match the CRS of the other.\n",
      "\n",
      "Left CRS: EPSG:4326\n",
      "Right CRS: None\n",
      "\n",
      "  return geopandas.sjoin(left_df=self, right_df=df, *args, **kwargs)\n",
      "/tmp/ipykernel_868937/987684252.py:12: ParserWarning: Falling back to the 'python' engine because the 'c' engine does not support regex separators (separators > 1 char and different from '\\s+' are interpreted as regex); you can avoid this warning by specifying engine='python'.\n",
      "  pd.read_csv(path, delimiter=r',\\s+')\n",
      "/tmp/ipykernel_868937/987684252.py:12: ParserWarning: Falling back to the 'python' engine because the 'c' engine does not support regex separators (separators > 1 char and different from '\\s+' are interpreted as regex); you can avoid this warning by specifying engine='python'.\n",
      "  pd.read_csv(path, delimiter=r',\\s+')\n"
     ]
    },
    {
     "name": "stdout",
     "output_type": "stream",
     "text": [
      "PALOMA_2008\n"
     ]
    },
    {
     "name": "stderr",
     "output_type": "stream",
     "text": [
      "/home/fred/micromamba/envs/open-gira/lib/python3.10/site-packages/geopandas/geodataframe.py:2061: UserWarning: CRS mismatch between the CRS of left geometries and the CRS of right geometries.\n",
      "Use `to_crs()` to reproject one of the input geometries to match the CRS of the other.\n",
      "\n",
      "Left CRS: EPSG:4326\n",
      "Right CRS: None\n",
      "\n",
      "  return geopandas.sjoin(left_df=self, right_df=df, *args, **kwargs)\n",
      "/tmp/ipykernel_868937/987684252.py:12: ParserWarning: Falling back to the 'python' engine because the 'c' engine does not support regex separators (separators > 1 char and different from '\\s+' are interpreted as regex); you can avoid this warning by specifying engine='python'.\n",
      "  pd.read_csv(path, delimiter=r',\\s+')\n"
     ]
    },
    {
     "name": "stdout",
     "output_type": "stream",
     "text": [
      "NOUL_2008\n",
      "NOUL_2008 has 20.726343390738613, skipping plotting...\n"
     ]
    },
    {
     "name": "stderr",
     "output_type": "stream",
     "text": [
      "/home/fred/micromamba/envs/open-gira/lib/python3.10/site-packages/geopandas/geodataframe.py:2061: UserWarning: CRS mismatch between the CRS of left geometries and the CRS of right geometries.\n",
      "Use `to_crs()` to reproject one of the input geometries to match the CRS of the other.\n",
      "\n",
      "Left CRS: EPSG:4326\n",
      "Right CRS: None\n",
      "\n",
      "  return geopandas.sjoin(left_df=self, right_df=df, *args, **kwargs)\n",
      "/tmp/ipykernel_868937/987684252.py:12: ParserWarning: Falling back to the 'python' engine because the 'c' engine does not support regex separators (separators > 1 char and different from '\\s+' are interpreted as regex); you can avoid this warning by specifying engine='python'.\n",
      "  pd.read_csv(path, delimiter=r',\\s+')\n"
     ]
    },
    {
     "name": "stdout",
     "output_type": "stream",
     "text": [
      "NISHA_2008\n",
      "NISHA_2008 has 24.00533333333333, skipping plotting...\n"
     ]
    },
    {
     "name": "stderr",
     "output_type": "stream",
     "text": [
      "/home/fred/micromamba/envs/open-gira/lib/python3.10/site-packages/geopandas/geodataframe.py:2061: UserWarning: CRS mismatch between the CRS of left geometries and the CRS of right geometries.\n",
      "Use `to_crs()` to reproject one of the input geometries to match the CRS of the other.\n",
      "\n",
      "Left CRS: EPSG:4326\n",
      "Right CRS: None\n",
      "\n",
      "  return geopandas.sjoin(left_df=self, right_df=df, *args, **kwargs)\n",
      "/tmp/ipykernel_868937/987684252.py:12: ParserWarning: Falling back to the 'python' engine because the 'c' engine does not support regex separators (separators > 1 char and different from '\\s+' are interpreted as regex); you can avoid this warning by specifying engine='python'.\n",
      "  pd.read_csv(path, delimiter=r',\\s+')\n"
     ]
    },
    {
     "name": "stdout",
     "output_type": "stream",
     "text": [
      "BILLY_2008\n"
     ]
    },
    {
     "name": "stderr",
     "output_type": "stream",
     "text": [
      "/home/fred/micromamba/envs/open-gira/lib/python3.10/site-packages/geopandas/geodataframe.py:2061: UserWarning: CRS mismatch between the CRS of left geometries and the CRS of right geometries.\n",
      "Use `to_crs()` to reproject one of the input geometries to match the CRS of the other.\n",
      "\n",
      "Left CRS: EPSG:4326\n",
      "Right CRS: None\n",
      "\n",
      "  return geopandas.sjoin(left_df=self, right_df=df, *args, **kwargs)\n",
      "/tmp/ipykernel_868937/987684252.py:12: ParserWarning: Falling back to the 'python' engine because the 'c' engine does not support regex separators (separators > 1 char and different from '\\s+' are interpreted as regex); you can avoid this warning by specifying engine='python'.\n",
      "  pd.read_csv(path, delimiter=r',\\s+')\n",
      "/tmp/ipykernel_868937/987684252.py:12: ParserWarning: Falling back to the 'python' engine because the 'c' engine does not support regex separators (separators > 1 char and different from '\\s+' are interpreted as regex); you can avoid this warning by specifying engine='python'.\n",
      "  pd.read_csv(path, delimiter=r',\\s+')\n"
     ]
    },
    {
     "name": "stdout",
     "output_type": "stream",
     "text": [
      "CHARLOTTE_2009\n",
      "CHARLOTTE_2009 has 23.34284848484848, skipping plotting...\n"
     ]
    },
    {
     "name": "stderr",
     "output_type": "stream",
     "text": [
      "/home/fred/micromamba/envs/open-gira/lib/python3.10/site-packages/geopandas/geodataframe.py:2061: UserWarning: CRS mismatch between the CRS of left geometries and the CRS of right geometries.\n",
      "Use `to_crs()` to reproject one of the input geometries to match the CRS of the other.\n",
      "\n",
      "Left CRS: EPSG:4326\n",
      "Right CRS: None\n",
      "\n",
      "  return geopandas.sjoin(left_df=self, right_df=df, *args, **kwargs)\n",
      "/tmp/ipykernel_868937/987684252.py:12: ParserWarning: Falling back to the 'python' engine because the 'c' engine does not support regex separators (separators > 1 char and different from '\\s+' are interpreted as regex); you can avoid this warning by specifying engine='python'.\n",
      "  pd.read_csv(path, delimiter=r',\\s+')\n"
     ]
    },
    {
     "name": "stdout",
     "output_type": "stream",
     "text": [
      "ERIC_2009\n",
      "ERIC_2009 has 23.34284848484848, skipping plotting...\n"
     ]
    },
    {
     "name": "stderr",
     "output_type": "stream",
     "text": [
      "/home/fred/micromamba/envs/open-gira/lib/python3.10/site-packages/geopandas/geodataframe.py:2061: UserWarning: CRS mismatch between the CRS of left geometries and the CRS of right geometries.\n",
      "Use `to_crs()` to reproject one of the input geometries to match the CRS of the other.\n",
      "\n",
      "Left CRS: EPSG:4326\n",
      "Right CRS: None\n",
      "\n",
      "  return geopandas.sjoin(left_df=self, right_df=df, *args, **kwargs)\n",
      "/tmp/ipykernel_868937/987684252.py:12: ParserWarning: Falling back to the 'python' engine because the 'c' engine does not support regex separators (separators > 1 char and different from '\\s+' are interpreted as regex); you can avoid this warning by specifying engine='python'.\n",
      "  pd.read_csv(path, delimiter=r',\\s+')\n"
     ]
    },
    {
     "name": "stdout",
     "output_type": "stream",
     "text": [
      "FANELE_2009\n"
     ]
    },
    {
     "name": "stderr",
     "output_type": "stream",
     "text": [
      "/home/fred/micromamba/envs/open-gira/lib/python3.10/site-packages/geopandas/geodataframe.py:2061: UserWarning: CRS mismatch between the CRS of left geometries and the CRS of right geometries.\n",
      "Use `to_crs()` to reproject one of the input geometries to match the CRS of the other.\n",
      "\n",
      "Left CRS: EPSG:4326\n",
      "Right CRS: None\n",
      "\n",
      "  return geopandas.sjoin(left_df=self, right_df=df, *args, **kwargs)\n",
      "/tmp/ipykernel_868937/987684252.py:12: ParserWarning: Falling back to the 'python' engine because the 'c' engine does not support regex separators (separators > 1 char and different from '\\s+' are interpreted as regex); you can avoid this warning by specifying engine='python'.\n",
      "  pd.read_csv(path, delimiter=r',\\s+')\n"
     ]
    },
    {
     "name": "stdout",
     "output_type": "stream",
     "text": [
      "ELLIE_2009\n",
      "ELLIE_2009 has 20.69290909090909, skipping plotting...\n"
     ]
    },
    {
     "name": "stderr",
     "output_type": "stream",
     "text": [
      "/home/fred/micromamba/envs/open-gira/lib/python3.10/site-packages/geopandas/geodataframe.py:2061: UserWarning: CRS mismatch between the CRS of left geometries and the CRS of right geometries.\n",
      "Use `to_crs()` to reproject one of the input geometries to match the CRS of the other.\n",
      "\n",
      "Left CRS: EPSG:4326\n",
      "Right CRS: None\n",
      "\n",
      "  return geopandas.sjoin(left_df=self, right_df=df, *args, **kwargs)\n",
      "/tmp/ipykernel_868937/987684252.py:12: ParserWarning: Falling back to the 'python' engine because the 'c' engine does not support regex separators (separators > 1 char and different from '\\s+' are interpreted as regex); you can avoid this warning by specifying engine='python'.\n",
      "  pd.read_csv(path, delimiter=r',\\s+')\n"
     ]
    },
    {
     "name": "stdout",
     "output_type": "stream",
     "text": [
      "IZILDA_2009\n",
      "IZILDA_2009 has 32.89821818181818, skipping plotting...\n"
     ]
    },
    {
     "name": "stderr",
     "output_type": "stream",
     "text": [
      "/home/fred/micromamba/envs/open-gira/lib/python3.10/site-packages/geopandas/geodataframe.py:2061: UserWarning: CRS mismatch between the CRS of left geometries and the CRS of right geometries.\n",
      "Use `to_crs()` to reproject one of the input geometries to match the CRS of the other.\n",
      "\n",
      "Left CRS: EPSG:4326\n",
      "Right CRS: None\n",
      "\n",
      "  return geopandas.sjoin(left_df=self, right_df=df, *args, **kwargs)\n",
      "/tmp/ipykernel_868937/987684252.py:12: ParserWarning: Falling back to the 'python' engine because the 'c' engine does not support regex separators (separators > 1 char and different from '\\s+' are interpreted as regex); you can avoid this warning by specifying engine='python'.\n",
      "  pd.read_csv(path, delimiter=r',\\s+')\n"
     ]
    },
    {
     "name": "stdout",
     "output_type": "stream",
     "text": [
      "JADE_2009\n",
      "JADE_2009 has 33.37754545454545, skipping plotting...\n"
     ]
    },
    {
     "name": "stderr",
     "output_type": "stream",
     "text": [
      "/home/fred/micromamba/envs/open-gira/lib/python3.10/site-packages/geopandas/geodataframe.py:2061: UserWarning: CRS mismatch between the CRS of left geometries and the CRS of right geometries.\n",
      "Use `to_crs()` to reproject one of the input geometries to match the CRS of the other.\n",
      "\n",
      "Left CRS: EPSG:4326\n",
      "Right CRS: None\n",
      "\n",
      "  return geopandas.sjoin(left_df=self, right_df=df, *args, **kwargs)\n",
      "/tmp/ipykernel_868937/987684252.py:12: ParserWarning: Falling back to the 'python' engine because the 'c' engine does not support regex separators (separators > 1 char and different from '\\s+' are interpreted as regex); you can avoid this warning by specifying engine='python'.\n",
      "  pd.read_csv(path, delimiter=r',\\s+')\n"
     ]
    },
    {
     "name": "stdout",
     "output_type": "stream",
     "text": [
      "BIJLI_2009\n",
      "BIJLI_2009 has 23.148, skipping plotting...\n"
     ]
    },
    {
     "name": "stderr",
     "output_type": "stream",
     "text": [
      "/home/fred/micromamba/envs/open-gira/lib/python3.10/site-packages/geopandas/geodataframe.py:2061: UserWarning: CRS mismatch between the CRS of left geometries and the CRS of right geometries.\n",
      "Use `to_crs()` to reproject one of the input geometries to match the CRS of the other.\n",
      "\n",
      "Left CRS: EPSG:4326\n",
      "Right CRS: None\n",
      "\n",
      "  return geopandas.sjoin(left_df=self, right_df=df, *args, **kwargs)\n",
      "/tmp/ipykernel_868937/987684252.py:12: ParserWarning: Falling back to the 'python' engine because the 'c' engine does not support regex separators (separators > 1 char and different from '\\s+' are interpreted as regex); you can avoid this warning by specifying engine='python'.\n",
      "  pd.read_csv(path, delimiter=r',\\s+')\n"
     ]
    },
    {
     "name": "stdout",
     "output_type": "stream",
     "text": [
      "KUJIRA_2009\n"
     ]
    },
    {
     "name": "stderr",
     "output_type": "stream",
     "text": [
      "/home/fred/micromamba/envs/open-gira/lib/python3.10/site-packages/geopandas/geodataframe.py:2061: UserWarning: CRS mismatch between the CRS of left geometries and the CRS of right geometries.\n",
      "Use `to_crs()` to reproject one of the input geometries to match the CRS of the other.\n",
      "\n",
      "Left CRS: EPSG:4326\n",
      "Right CRS: None\n",
      "\n",
      "  return geopandas.sjoin(left_df=self, right_df=df, *args, **kwargs)\n",
      "/tmp/ipykernel_868937/987684252.py:12: ParserWarning: Falling back to the 'python' engine because the 'c' engine does not support regex separators (separators > 1 char and different from '\\s+' are interpreted as regex); you can avoid this warning by specifying engine='python'.\n",
      "  pd.read_csv(path, delimiter=r',\\s+')\n"
     ]
    },
    {
     "name": "stdout",
     "output_type": "stream",
     "text": [
      "CHAN-HOM_2009\n",
      "CHAN-HOM_2009 has 39.130301038397754, skipping plotting...\n"
     ]
    },
    {
     "name": "stderr",
     "output_type": "stream",
     "text": [
      "/home/fred/micromamba/envs/open-gira/lib/python3.10/site-packages/geopandas/geodataframe.py:2061: UserWarning: CRS mismatch between the CRS of left geometries and the CRS of right geometries.\n",
      "Use `to_crs()` to reproject one of the input geometries to match the CRS of the other.\n",
      "\n",
      "Left CRS: EPSG:4326\n",
      "Right CRS: None\n",
      "\n",
      "  return geopandas.sjoin(left_df=self, right_df=df, *args, **kwargs)\n",
      "/tmp/ipykernel_868937/987684252.py:12: ParserWarning: Falling back to the 'python' engine because the 'c' engine does not support regex separators (separators > 1 char and different from '\\s+' are interpreted as regex); you can avoid this warning by specifying engine='python'.\n",
      "  pd.read_csv(path, delimiter=r',\\s+')\n"
     ]
    },
    {
     "name": "stdout",
     "output_type": "stream",
     "text": [
      "AILA_2009\n",
      "AILA_2009 has 30.863999999999997, skipping plotting...\n"
     ]
    },
    {
     "name": "stderr",
     "output_type": "stream",
     "text": [
      "/home/fred/micromamba/envs/open-gira/lib/python3.10/site-packages/geopandas/geodataframe.py:2061: UserWarning: CRS mismatch between the CRS of left geometries and the CRS of right geometries.\n",
      "Use `to_crs()` to reproject one of the input geometries to match the CRS of the other.\n",
      "\n",
      "Left CRS: EPSG:4326\n",
      "Right CRS: None\n",
      "\n",
      "  return geopandas.sjoin(left_df=self, right_df=df, *args, **kwargs)\n",
      "/tmp/ipykernel_868937/987684252.py:12: ParserWarning: Falling back to the 'python' engine because the 'c' engine does not support regex separators (separators > 1 char and different from '\\s+' are interpreted as regex); you can avoid this warning by specifying engine='python'.\n",
      "  pd.read_csv(path, delimiter=r',\\s+')\n",
      "/tmp/ipykernel_868937/987684252.py:12: ParserWarning: Falling back to the 'python' engine because the 'c' engine does not support regex separators (separators > 1 char and different from '\\s+' are interpreted as regex); you can avoid this warning by specifying engine='python'.\n",
      "  pd.read_csv(path, delimiter=r',\\s+')\n"
     ]
    },
    {
     "name": "stdout",
     "output_type": "stream",
     "text": [
      "LINFA_2009\n",
      "LINFA_2009 has 34.262056907768844, skipping plotting...\n"
     ]
    },
    {
     "name": "stderr",
     "output_type": "stream",
     "text": [
      "/home/fred/micromamba/envs/open-gira/lib/python3.10/site-packages/geopandas/geodataframe.py:2061: UserWarning: CRS mismatch between the CRS of left geometries and the CRS of right geometries.\n",
      "Use `to_crs()` to reproject one of the input geometries to match the CRS of the other.\n",
      "\n",
      "Left CRS: EPSG:4326\n",
      "Right CRS: None\n",
      "\n",
      "  return geopandas.sjoin(left_df=self, right_df=df, *args, **kwargs)\n",
      "/tmp/ipykernel_868937/987684252.py:12: ParserWarning: Falling back to the 'python' engine because the 'c' engine does not support regex separators (separators > 1 char and different from '\\s+' are interpreted as regex); you can avoid this warning by specifying engine='python'.\n",
      "  pd.read_csv(path, delimiter=r',\\s+')\n"
     ]
    },
    {
     "name": "stdout",
     "output_type": "stream",
     "text": [
      "ANDRES_2009\n",
      "ANDRES_2009 has 36.007999999999996, skipping plotting...\n"
     ]
    },
    {
     "name": "stderr",
     "output_type": "stream",
     "text": [
      "/home/fred/micromamba/envs/open-gira/lib/python3.10/site-packages/geopandas/geodataframe.py:2061: UserWarning: CRS mismatch between the CRS of left geometries and the CRS of right geometries.\n",
      "Use `to_crs()` to reproject one of the input geometries to match the CRS of the other.\n",
      "\n",
      "Left CRS: EPSG:4326\n",
      "Right CRS: None\n",
      "\n",
      "  return geopandas.sjoin(left_df=self, right_df=df, *args, **kwargs)\n",
      "/tmp/ipykernel_868937/987684252.py:12: ParserWarning: Falling back to the 'python' engine because the 'c' engine does not support regex separators (separators > 1 char and different from '\\s+' are interpreted as regex); you can avoid this warning by specifying engine='python'.\n",
      "  pd.read_csv(path, delimiter=r',\\s+')\n",
      "/tmp/ipykernel_868937/987684252.py:12: ParserWarning: Falling back to the 'python' engine because the 'c' engine does not support regex separators (separators > 1 char and different from '\\s+' are interpreted as regex); you can avoid this warning by specifying engine='python'.\n",
      "  pd.read_csv(path, delimiter=r',\\s+')\n"
     ]
    },
    {
     "name": "stdout",
     "output_type": "stream",
     "text": [
      "NANGKA_2009\n",
      "NANGKA_2009 has 21.240743390738615, skipping plotting...\n"
     ]
    },
    {
     "name": "stderr",
     "output_type": "stream",
     "text": [
      "/home/fred/micromamba/envs/open-gira/lib/python3.10/site-packages/geopandas/geodataframe.py:2061: UserWarning: CRS mismatch between the CRS of left geometries and the CRS of right geometries.\n",
      "Use `to_crs()` to reproject one of the input geometries to match the CRS of the other.\n",
      "\n",
      "Left CRS: EPSG:4326\n",
      "Right CRS: None\n",
      "\n",
      "  return geopandas.sjoin(left_df=self, right_df=df, *args, **kwargs)\n",
      "/tmp/ipykernel_868937/987684252.py:12: ParserWarning: Falling back to the 'python' engine because the 'c' engine does not support regex separators (separators > 1 char and different from '\\s+' are interpreted as regex); you can avoid this warning by specifying engine='python'.\n",
      "  pd.read_csv(path, delimiter=r',\\s+')\n",
      "/tmp/ipykernel_868937/987684252.py:12: ParserWarning: Falling back to the 'python' engine because the 'c' engine does not support regex separators (separators > 1 char and different from '\\s+' are interpreted as regex); you can avoid this warning by specifying engine='python'.\n",
      "  pd.read_csv(path, delimiter=r',\\s+')\n"
     ]
    },
    {
     "name": "stdout",
     "output_type": "stream",
     "text": [
      "MOLAVE_2009\n",
      "MOLAVE_2009 has 37.91994684270953, skipping plotting...\n"
     ]
    },
    {
     "name": "stderr",
     "output_type": "stream",
     "text": [
      "/home/fred/micromamba/envs/open-gira/lib/python3.10/site-packages/geopandas/geodataframe.py:2061: UserWarning: CRS mismatch between the CRS of left geometries and the CRS of right geometries.\n",
      "Use `to_crs()` to reproject one of the input geometries to match the CRS of the other.\n",
      "\n",
      "Left CRS: EPSG:4326\n",
      "Right CRS: None\n",
      "\n",
      "  return geopandas.sjoin(left_df=self, right_df=df, *args, **kwargs)\n",
      "/tmp/ipykernel_868937/987684252.py:12: ParserWarning: Falling back to the 'python' engine because the 'c' engine does not support regex separators (separators > 1 char and different from '\\s+' are interpreted as regex); you can avoid this warning by specifying engine='python'.\n",
      "  pd.read_csv(path, delimiter=r',\\s+')\n"
     ]
    },
    {
     "name": "stdout",
     "output_type": "stream",
     "text": [
      "GONI_2009\n",
      "GONI_2009 has 23.65497666794234, skipping plotting...\n"
     ]
    },
    {
     "name": "stderr",
     "output_type": "stream",
     "text": [
      "/home/fred/micromamba/envs/open-gira/lib/python3.10/site-packages/geopandas/geodataframe.py:2061: UserWarning: CRS mismatch between the CRS of left geometries and the CRS of right geometries.\n",
      "Use `to_crs()` to reproject one of the input geometries to match the CRS of the other.\n",
      "\n",
      "Left CRS: EPSG:4326\n",
      "Right CRS: None\n",
      "\n",
      "  return geopandas.sjoin(left_df=self, right_df=df, *args, **kwargs)\n",
      "/tmp/ipykernel_868937/987684252.py:12: ParserWarning: Falling back to the 'python' engine because the 'c' engine does not support regex separators (separators > 1 char and different from '\\s+' are interpreted as regex); you can avoid this warning by specifying engine='python'.\n",
      "  pd.read_csv(path, delimiter=r',\\s+')\n"
     ]
    },
    {
     "name": "stdout",
     "output_type": "stream",
     "text": [
      "MORAKOT_2009\n"
     ]
    },
    {
     "name": "stderr",
     "output_type": "stream",
     "text": [
      "/home/fred/micromamba/envs/open-gira/lib/python3.10/site-packages/geopandas/geodataframe.py:2061: UserWarning: CRS mismatch between the CRS of left geometries and the CRS of right geometries.\n",
      "Use `to_crs()` to reproject one of the input geometries to match the CRS of the other.\n",
      "\n",
      "Left CRS: EPSG:4326\n",
      "Right CRS: None\n",
      "\n",
      "  return geopandas.sjoin(left_df=self, right_df=df, *args, **kwargs)\n",
      "/tmp/ipykernel_868937/987684252.py:12: ParserWarning: Falling back to the 'python' engine because the 'c' engine does not support regex separators (separators > 1 char and different from '\\s+' are interpreted as regex); you can avoid this warning by specifying engine='python'.\n",
      "  pd.read_csv(path, delimiter=r',\\s+')\n"
     ]
    },
    {
     "name": "stdout",
     "output_type": "stream",
     "text": [
      "BILL_2009\n"
     ]
    },
    {
     "name": "stderr",
     "output_type": "stream",
     "text": [
      "/home/fred/micromamba/envs/open-gira/lib/python3.10/site-packages/geopandas/geodataframe.py:2061: UserWarning: CRS mismatch between the CRS of left geometries and the CRS of right geometries.\n",
      "Use `to_crs()` to reproject one of the input geometries to match the CRS of the other.\n",
      "\n",
      "Left CRS: EPSG:4326\n",
      "Right CRS: None\n",
      "\n",
      "  return geopandas.sjoin(left_df=self, right_df=df, *args, **kwargs)\n",
      "/tmp/ipykernel_868937/987684252.py:12: ParserWarning: Falling back to the 'python' engine because the 'c' engine does not support regex separators (separators > 1 char and different from '\\s+' are interpreted as regex); you can avoid this warning by specifying engine='python'.\n",
      "  pd.read_csv(path, delimiter=r',\\s+')\n"
     ]
    },
    {
     "name": "stdout",
     "output_type": "stream",
     "text": [
      "CLAUDETTE_2009\n",
      "CLAUDETTE_2009 has 25.72, skipping plotting...\n"
     ]
    },
    {
     "name": "stderr",
     "output_type": "stream",
     "text": [
      "/home/fred/micromamba/envs/open-gira/lib/python3.10/site-packages/geopandas/geodataframe.py:2061: UserWarning: CRS mismatch between the CRS of left geometries and the CRS of right geometries.\n",
      "Use `to_crs()` to reproject one of the input geometries to match the CRS of the other.\n",
      "\n",
      "Left CRS: EPSG:4326\n",
      "Right CRS: None\n",
      "\n",
      "  return geopandas.sjoin(left_df=self, right_df=df, *args, **kwargs)\n",
      "/tmp/ipykernel_868937/987684252.py:12: ParserWarning: Falling back to the 'python' engine because the 'c' engine does not support regex separators (separators > 1 char and different from '\\s+' are interpreted as regex); you can avoid this warning by specifying engine='python'.\n",
      "  pd.read_csv(path, delimiter=r',\\s+')\n"
     ]
    },
    {
     "name": "stdout",
     "output_type": "stream",
     "text": [
      "KROVANH_2009\n",
      "KROVANH_2009 has 32.862285526215075, skipping plotting...\n"
     ]
    },
    {
     "name": "stderr",
     "output_type": "stream",
     "text": [
      "/home/fred/micromamba/envs/open-gira/lib/python3.10/site-packages/geopandas/geodataframe.py:2061: UserWarning: CRS mismatch between the CRS of left geometries and the CRS of right geometries.\n",
      "Use `to_crs()` to reproject one of the input geometries to match the CRS of the other.\n",
      "\n",
      "Left CRS: EPSG:4326\n",
      "Right CRS: None\n",
      "\n",
      "  return geopandas.sjoin(left_df=self, right_df=df, *args, **kwargs)\n",
      "/tmp/ipykernel_868937/987684252.py:12: ParserWarning: Falling back to the 'python' engine because the 'c' engine does not support regex separators (separators > 1 char and different from '\\s+' are interpreted as regex); you can avoid this warning by specifying engine='python'.\n",
      "  pd.read_csv(path, delimiter=r',\\s+')\n"
     ]
    },
    {
     "name": "stdout",
     "output_type": "stream",
     "text": [
      "JIMENA_2009\n"
     ]
    },
    {
     "name": "stderr",
     "output_type": "stream",
     "text": [
      "/home/fred/micromamba/envs/open-gira/lib/python3.10/site-packages/geopandas/geodataframe.py:2061: UserWarning: CRS mismatch between the CRS of left geometries and the CRS of right geometries.\n",
      "Use `to_crs()` to reproject one of the input geometries to match the CRS of the other.\n",
      "\n",
      "Left CRS: EPSG:4326\n",
      "Right CRS: None\n",
      "\n",
      "  return geopandas.sjoin(left_df=self, right_df=df, *args, **kwargs)\n",
      "/tmp/ipykernel_868937/987684252.py:12: ParserWarning: Falling back to the 'python' engine because the 'c' engine does not support regex separators (separators > 1 char and different from '\\s+' are interpreted as regex); you can avoid this warning by specifying engine='python'.\n",
      "  pd.read_csv(path, delimiter=r',\\s+')\n"
     ]
    },
    {
     "name": "stdout",
     "output_type": "stream",
     "text": [
      "KOPPU_2009\n",
      "KOPPU_2009 has 39.22171055491771, skipping plotting...\n"
     ]
    },
    {
     "name": "stderr",
     "output_type": "stream",
     "text": [
      "/home/fred/micromamba/envs/open-gira/lib/python3.10/site-packages/geopandas/geodataframe.py:2061: UserWarning: CRS mismatch between the CRS of left geometries and the CRS of right geometries.\n",
      "Use `to_crs()` to reproject one of the input geometries to match the CRS of the other.\n",
      "\n",
      "Left CRS: EPSG:4326\n",
      "Right CRS: None\n",
      "\n",
      "  return geopandas.sjoin(left_df=self, right_df=df, *args, **kwargs)\n",
      "/tmp/ipykernel_868937/987684252.py:12: ParserWarning: Falling back to the 'python' engine because the 'c' engine does not support regex separators (separators > 1 char and different from '\\s+' are interpreted as regex); you can avoid this warning by specifying engine='python'.\n",
      "  pd.read_csv(path, delimiter=r',\\s+')\n",
      "/tmp/ipykernel_868937/987684252.py:12: ParserWarning: Falling back to the 'python' engine because the 'c' engine does not support regex separators (separators > 1 char and different from '\\s+' are interpreted as regex); you can avoid this warning by specifying engine='python'.\n",
      "  pd.read_csv(path, delimiter=r',\\s+')\n"
     ]
    },
    {
     "name": "stdout",
     "output_type": "stream",
     "text": [
      "KETSANA_2009\n"
     ]
    },
    {
     "name": "stderr",
     "output_type": "stream",
     "text": [
      "/home/fred/micromamba/envs/open-gira/lib/python3.10/site-packages/geopandas/geodataframe.py:2061: UserWarning: CRS mismatch between the CRS of left geometries and the CRS of right geometries.\n",
      "Use `to_crs()` to reproject one of the input geometries to match the CRS of the other.\n",
      "\n",
      "Left CRS: EPSG:4326\n",
      "Right CRS: None\n",
      "\n",
      "  return geopandas.sjoin(left_df=self, right_df=df, *args, **kwargs)\n",
      "/tmp/ipykernel_868937/987684252.py:12: ParserWarning: Falling back to the 'python' engine because the 'c' engine does not support regex separators (separators > 1 char and different from '\\s+' are interpreted as regex); you can avoid this warning by specifying engine='python'.\n",
      "  pd.read_csv(path, delimiter=r',\\s+')\n",
      "/tmp/ipykernel_868937/987684252.py:12: ParserWarning: Falling back to the 'python' engine because the 'c' engine does not support regex separators (separators > 1 char and different from '\\s+' are interpreted as regex); you can avoid this warning by specifying engine='python'.\n",
      "  pd.read_csv(path, delimiter=r',\\s+')\n"
     ]
    },
    {
     "name": "stdout",
     "output_type": "stream",
     "text": [
      "PARMA_2009\n"
     ]
    },
    {
     "name": "stderr",
     "output_type": "stream",
     "text": [
      "/home/fred/micromamba/envs/open-gira/lib/python3.10/site-packages/geopandas/geodataframe.py:2061: UserWarning: CRS mismatch between the CRS of left geometries and the CRS of right geometries.\n",
      "Use `to_crs()` to reproject one of the input geometries to match the CRS of the other.\n",
      "\n",
      "Left CRS: EPSG:4326\n",
      "Right CRS: None\n",
      "\n",
      "  return geopandas.sjoin(left_df=self, right_df=df, *args, **kwargs)\n",
      "/tmp/ipykernel_868937/987684252.py:12: ParserWarning: Falling back to the 'python' engine because the 'c' engine does not support regex separators (separators > 1 char and different from '\\s+' are interpreted as regex); you can avoid this warning by specifying engine='python'.\n",
      "  pd.read_csv(path, delimiter=r',\\s+')\n"
     ]
    },
    {
     "name": "stdout",
     "output_type": "stream",
     "text": [
      "MELOR_2009\n"
     ]
    },
    {
     "name": "stderr",
     "output_type": "stream",
     "text": [
      "/home/fred/micromamba/envs/open-gira/lib/python3.10/site-packages/geopandas/geodataframe.py:2061: UserWarning: CRS mismatch between the CRS of left geometries and the CRS of right geometries.\n",
      "Use `to_crs()` to reproject one of the input geometries to match the CRS of the other.\n",
      "\n",
      "Left CRS: EPSG:4326\n",
      "Right CRS: None\n",
      "\n",
      "  return geopandas.sjoin(left_df=self, right_df=df, *args, **kwargs)\n",
      "/tmp/ipykernel_868937/987684252.py:12: ParserWarning: Falling back to the 'python' engine because the 'c' engine does not support regex separators (separators > 1 char and different from '\\s+' are interpreted as regex); you can avoid this warning by specifying engine='python'.\n",
      "  pd.read_csv(path, delimiter=r',\\s+')\n"
     ]
    },
    {
     "name": "stdout",
     "output_type": "stream",
     "text": [
      "PATRICIA_2009\n",
      "PATRICIA_2009 has 25.72, skipping plotting...\n"
     ]
    },
    {
     "name": "stderr",
     "output_type": "stream",
     "text": [
      "/home/fred/micromamba/envs/open-gira/lib/python3.10/site-packages/geopandas/geodataframe.py:2061: UserWarning: CRS mismatch between the CRS of left geometries and the CRS of right geometries.\n",
      "Use `to_crs()` to reproject one of the input geometries to match the CRS of the other.\n",
      "\n",
      "Left CRS: EPSG:4326\n",
      "Right CRS: None\n",
      "\n",
      "  return geopandas.sjoin(left_df=self, right_df=df, *args, **kwargs)\n",
      "/tmp/ipykernel_868937/987684252.py:12: ParserWarning: Falling back to the 'python' engine because the 'c' engine does not support regex separators (separators > 1 char and different from '\\s+' are interpreted as regex); you can avoid this warning by specifying engine='python'.\n",
      "  pd.read_csv(path, delimiter=r',\\s+')\n"
     ]
    },
    {
     "name": "stdout",
     "output_type": "stream",
     "text": [
      "RICK_2009\n"
     ]
    },
    {
     "name": "stderr",
     "output_type": "stream",
     "text": [
      "/home/fred/micromamba/envs/open-gira/lib/python3.10/site-packages/geopandas/geodataframe.py:2061: UserWarning: CRS mismatch between the CRS of left geometries and the CRS of right geometries.\n",
      "Use `to_crs()` to reproject one of the input geometries to match the CRS of the other.\n",
      "\n",
      "Left CRS: EPSG:4326\n",
      "Right CRS: None\n",
      "\n",
      "  return geopandas.sjoin(left_df=self, right_df=df, *args, **kwargs)\n",
      "/tmp/ipykernel_868937/987684252.py:12: ParserWarning: Falling back to the 'python' engine because the 'c' engine does not support regex separators (separators > 1 char and different from '\\s+' are interpreted as regex); you can avoid this warning by specifying engine='python'.\n",
      "  pd.read_csv(path, delimiter=r',\\s+')\n",
      "/tmp/ipykernel_868937/987684252.py:12: ParserWarning: Falling back to the 'python' engine because the 'c' engine does not support regex separators (separators > 1 char and different from '\\s+' are interpreted as regex); you can avoid this warning by specifying engine='python'.\n",
      "  pd.read_csv(path, delimiter=r',\\s+')\n"
     ]
    },
    {
     "name": "stdout",
     "output_type": "stream",
     "text": [
      "MIRINAE_2009\n"
     ]
    },
    {
     "name": "stderr",
     "output_type": "stream",
     "text": [
      "/home/fred/micromamba/envs/open-gira/lib/python3.10/site-packages/geopandas/geodataframe.py:2061: UserWarning: CRS mismatch between the CRS of left geometries and the CRS of right geometries.\n",
      "Use `to_crs()` to reproject one of the input geometries to match the CRS of the other.\n",
      "\n",
      "Left CRS: EPSG:4326\n",
      "Right CRS: None\n",
      "\n",
      "  return geopandas.sjoin(left_df=self, right_df=df, *args, **kwargs)\n",
      "/tmp/ipykernel_868937/987684252.py:12: ParserWarning: Falling back to the 'python' engine because the 'c' engine does not support regex separators (separators > 1 char and different from '\\s+' are interpreted as regex); you can avoid this warning by specifying engine='python'.\n",
      "  pd.read_csv(path, delimiter=r',\\s+')\n",
      "/tmp/ipykernel_868937/987684252.py:12: ParserWarning: Falling back to the 'python' engine because the 'c' engine does not support regex separators (separators > 1 char and different from '\\s+' are interpreted as regex); you can avoid this warning by specifying engine='python'.\n",
      "  pd.read_csv(path, delimiter=r',\\s+')\n",
      "/tmp/ipykernel_868937/987684252.py:12: ParserWarning: Falling back to the 'python' engine because the 'c' engine does not support regex separators (separators > 1 char and different from '\\s+' are interpreted as regex); you can avoid this warning by specifying engine='python'.\n",
      "  pd.read_csv(path, delimiter=r',\\s+')\n"
     ]
    },
    {
     "name": "stdout",
     "output_type": "stream",
     "text": [
      "IDA_2009\n"
     ]
    },
    {
     "name": "stderr",
     "output_type": "stream",
     "text": [
      "/home/fred/micromamba/envs/open-gira/lib/python3.10/site-packages/geopandas/geodataframe.py:2061: UserWarning: CRS mismatch between the CRS of left geometries and the CRS of right geometries.\n",
      "Use `to_crs()` to reproject one of the input geometries to match the CRS of the other.\n",
      "\n",
      "Left CRS: EPSG:4326\n",
      "Right CRS: None\n",
      "\n",
      "  return geopandas.sjoin(left_df=self, right_df=df, *args, **kwargs)\n",
      "/tmp/ipykernel_868937/987684252.py:12: ParserWarning: Falling back to the 'python' engine because the 'c' engine does not support regex separators (separators > 1 char and different from '\\s+' are interpreted as regex); you can avoid this warning by specifying engine='python'.\n",
      "  pd.read_csv(path, delimiter=r',\\s+')\n"
     ]
    },
    {
     "name": "stdout",
     "output_type": "stream",
     "text": [
      "PHYAN_2009\n",
      "PHYAN_2009 has 24.00533333333333, skipping plotting...\n"
     ]
    },
    {
     "name": "stderr",
     "output_type": "stream",
     "text": [
      "/home/fred/micromamba/envs/open-gira/lib/python3.10/site-packages/geopandas/geodataframe.py:2061: UserWarning: CRS mismatch between the CRS of left geometries and the CRS of right geometries.\n",
      "Use `to_crs()` to reproject one of the input geometries to match the CRS of the other.\n",
      "\n",
      "Left CRS: EPSG:4326\n",
      "Right CRS: None\n",
      "\n",
      "  return geopandas.sjoin(left_df=self, right_df=df, *args, **kwargs)\n",
      "/tmp/ipykernel_868937/987684252.py:12: ParserWarning: Falling back to the 'python' engine because the 'c' engine does not support regex separators (separators > 1 char and different from '\\s+' are interpreted as regex); you can avoid this warning by specifying engine='python'.\n",
      "  pd.read_csv(path, delimiter=r',\\s+')\n"
     ]
    },
    {
     "name": "stdout",
     "output_type": "stream",
     "text": [
      "MAGDA_2010\n",
      "MAGDA_2010 has 35.93006060606061, skipping plotting...\n"
     ]
    },
    {
     "name": "stderr",
     "output_type": "stream",
     "text": [
      "/home/fred/micromamba/envs/open-gira/lib/python3.10/site-packages/geopandas/geodataframe.py:2061: UserWarning: CRS mismatch between the CRS of left geometries and the CRS of right geometries.\n",
      "Use `to_crs()` to reproject one of the input geometries to match the CRS of the other.\n",
      "\n",
      "Left CRS: EPSG:4326\n",
      "Right CRS: None\n",
      "\n",
      "  return geopandas.sjoin(left_df=self, right_df=df, *args, **kwargs)\n",
      "/tmp/ipykernel_868937/987684252.py:12: ParserWarning: Falling back to the 'python' engine because the 'c' engine does not support regex separators (separators > 1 char and different from '\\s+' are interpreted as regex); you can avoid this warning by specifying engine='python'.\n",
      "  pd.read_csv(path, delimiter=r',\\s+')\n"
     ]
    },
    {
     "name": "stdout",
     "output_type": "stream",
     "text": [
      "OLGA_2010\n",
      "OLGA_2010 has 26.18763636363636, skipping plotting...\n"
     ]
    },
    {
     "name": "stderr",
     "output_type": "stream",
     "text": [
      "/home/fred/micromamba/envs/open-gira/lib/python3.10/site-packages/geopandas/geodataframe.py:2061: UserWarning: CRS mismatch between the CRS of left geometries and the CRS of right geometries.\n",
      "Use `to_crs()` to reproject one of the input geometries to match the CRS of the other.\n",
      "\n",
      "Left CRS: EPSG:4326\n",
      "Right CRS: None\n",
      "\n",
      "  return geopandas.sjoin(left_df=self, right_df=df, *args, **kwargs)\n",
      "/tmp/ipykernel_868937/987684252.py:12: ParserWarning: Falling back to the 'python' engine because the 'c' engine does not support regex separators (separators > 1 char and different from '\\s+' are interpreted as regex); you can avoid this warning by specifying engine='python'.\n",
      "  pd.read_csv(path, delimiter=r',\\s+')\n"
     ]
    },
    {
     "name": "stdout",
     "output_type": "stream",
     "text": [
      "FAMI_2010\n",
      "FAMI_2010 has 25.05751515151515, skipping plotting...\n"
     ]
    },
    {
     "name": "stderr",
     "output_type": "stream",
     "text": [
      "/home/fred/micromamba/envs/open-gira/lib/python3.10/site-packages/geopandas/geodataframe.py:2061: UserWarning: CRS mismatch between the CRS of left geometries and the CRS of right geometries.\n",
      "Use `to_crs()` to reproject one of the input geometries to match the CRS of the other.\n",
      "\n",
      "Left CRS: EPSG:4326\n",
      "Right CRS: None\n",
      "\n",
      "  return geopandas.sjoin(left_df=self, right_df=df, *args, **kwargs)\n",
      "/tmp/ipykernel_868937/987684252.py:12: ParserWarning: Falling back to the 'python' engine because the 'c' engine does not support regex separators (separators > 1 char and different from '\\s+' are interpreted as regex); you can avoid this warning by specifying engine='python'.\n",
      "  pd.read_csv(path, delimiter=r',\\s+')\n"
     ]
    },
    {
     "name": "stdout",
     "output_type": "stream",
     "text": [
      "HUBERT_2010\n",
      "HUBERT_2010 has 28.720666666666666, skipping plotting...\n"
     ]
    },
    {
     "name": "stderr",
     "output_type": "stream",
     "text": [
      "/home/fred/micromamba/envs/open-gira/lib/python3.10/site-packages/geopandas/geodataframe.py:2061: UserWarning: CRS mismatch between the CRS of left geometries and the CRS of right geometries.\n",
      "Use `to_crs()` to reproject one of the input geometries to match the CRS of the other.\n",
      "\n",
      "Left CRS: EPSG:4326\n",
      "Right CRS: None\n",
      "\n",
      "  return geopandas.sjoin(left_df=self, right_df=df, *args, **kwargs)\n",
      "/tmp/ipykernel_868937/987684252.py:12: ParserWarning: Falling back to the 'python' engine because the 'c' engine does not support regex separators (separators > 1 char and different from '\\s+' are interpreted as regex); you can avoid this warning by specifying engine='python'.\n",
      "  pd.read_csv(path, delimiter=r',\\s+')\n"
     ]
    },
    {
     "name": "stdout",
     "output_type": "stream",
     "text": [
      "ULUI_2010\n"
     ]
    },
    {
     "name": "stderr",
     "output_type": "stream",
     "text": [
      "/home/fred/micromamba/envs/open-gira/lib/python3.10/site-packages/geopandas/geodataframe.py:2061: UserWarning: CRS mismatch between the CRS of left geometries and the CRS of right geometries.\n",
      "Use `to_crs()` to reproject one of the input geometries to match the CRS of the other.\n",
      "\n",
      "Left CRS: EPSG:4326\n",
      "Right CRS: None\n",
      "\n",
      "  return geopandas.sjoin(left_df=self, right_df=df, *args, **kwargs)\n",
      "/tmp/ipykernel_868937/987684252.py:12: ParserWarning: Falling back to the 'python' engine because the 'c' engine does not support regex separators (separators > 1 char and different from '\\s+' are interpreted as regex); you can avoid this warning by specifying engine='python'.\n",
      "  pd.read_csv(path, delimiter=r',\\s+')\n"
     ]
    },
    {
     "name": "stdout",
     "output_type": "stream",
     "text": [
      "PAUL_2010\n",
      "PAUL_2010 has 37.64472727272727, skipping plotting...\n"
     ]
    },
    {
     "name": "stderr",
     "output_type": "stream",
     "text": [
      "/home/fred/micromamba/envs/open-gira/lib/python3.10/site-packages/geopandas/geodataframe.py:2061: UserWarning: CRS mismatch between the CRS of left geometries and the CRS of right geometries.\n",
      "Use `to_crs()` to reproject one of the input geometries to match the CRS of the other.\n",
      "\n",
      "Left CRS: EPSG:4326\n",
      "Right CRS: None\n",
      "\n",
      "  return geopandas.sjoin(left_df=self, right_df=df, *args, **kwargs)\n",
      "/tmp/ipykernel_868937/987684252.py:12: ParserWarning: Falling back to the 'python' engine because the 'c' engine does not support regex separators (separators > 1 char and different from '\\s+' are interpreted as regex); you can avoid this warning by specifying engine='python'.\n",
      "  pd.read_csv(path, delimiter=r',\\s+')\n"
     ]
    },
    {
     "name": "stdout",
     "output_type": "stream",
     "text": [
      "LAILA_2010\n",
      "LAILA_2010 has 29.14933333333333, skipping plotting...\n"
     ]
    },
    {
     "name": "stderr",
     "output_type": "stream",
     "text": [
      "/home/fred/micromamba/envs/open-gira/lib/python3.10/site-packages/geopandas/geodataframe.py:2061: UserWarning: CRS mismatch between the CRS of left geometries and the CRS of right geometries.\n",
      "Use `to_crs()` to reproject one of the input geometries to match the CRS of the other.\n",
      "\n",
      "Left CRS: EPSG:4326\n",
      "Right CRS: None\n",
      "\n",
      "  return geopandas.sjoin(left_df=self, right_df=df, *args, **kwargs)\n",
      "/tmp/ipykernel_868937/987684252.py:12: ParserWarning: Falling back to the 'python' engine because the 'c' engine does not support regex separators (separators > 1 char and different from '\\s+' are interpreted as regex); you can avoid this warning by specifying engine='python'.\n",
      "  pd.read_csv(path, delimiter=r',\\s+')\n"
     ]
    },
    {
     "name": "stdout",
     "output_type": "stream",
     "text": [
      "JOEL_2010\n",
      "JOEL_2010 has 33.3190909090909, skipping plotting...\n"
     ]
    },
    {
     "name": "stderr",
     "output_type": "stream",
     "text": [
      "/home/fred/micromamba/envs/open-gira/lib/python3.10/site-packages/geopandas/geodataframe.py:2061: UserWarning: CRS mismatch between the CRS of left geometries and the CRS of right geometries.\n",
      "Use `to_crs()` to reproject one of the input geometries to match the CRS of the other.\n",
      "\n",
      "Left CRS: EPSG:4326\n",
      "Right CRS: None\n",
      "\n",
      "  return geopandas.sjoin(left_df=self, right_df=df, *args, **kwargs)\n",
      "/tmp/ipykernel_868937/987684252.py:12: ParserWarning: Falling back to the 'python' engine because the 'c' engine does not support regex separators (separators > 1 char and different from '\\s+' are interpreted as regex); you can avoid this warning by specifying engine='python'.\n",
      "  pd.read_csv(path, delimiter=r',\\s+')\n"
     ]
    },
    {
     "name": "stdout",
     "output_type": "stream",
     "text": [
      "AGATHA_2010\n",
      "AGATHA_2010 has 20.576, skipping plotting...\n"
     ]
    },
    {
     "name": "stderr",
     "output_type": "stream",
     "text": [
      "/home/fred/micromamba/envs/open-gira/lib/python3.10/site-packages/geopandas/geodataframe.py:2061: UserWarning: CRS mismatch between the CRS of left geometries and the CRS of right geometries.\n",
      "Use `to_crs()` to reproject one of the input geometries to match the CRS of the other.\n",
      "\n",
      "Left CRS: EPSG:4326\n",
      "Right CRS: None\n",
      "\n",
      "  return geopandas.sjoin(left_df=self, right_df=df, *args, **kwargs)\n",
      "/tmp/ipykernel_868937/987684252.py:12: ParserWarning: Falling back to the 'python' engine because the 'c' engine does not support regex separators (separators > 1 char and different from '\\s+' are interpreted as regex); you can avoid this warning by specifying engine='python'.\n",
      "  pd.read_csv(path, delimiter=r',\\s+')\n"
     ]
    },
    {
     "name": "stdout",
     "output_type": "stream",
     "text": [
      "PHET_2010\n"
     ]
    },
    {
     "name": "stderr",
     "output_type": "stream",
     "text": [
      "/home/fred/micromamba/envs/open-gira/lib/python3.10/site-packages/geopandas/geodataframe.py:2061: UserWarning: CRS mismatch between the CRS of left geometries and the CRS of right geometries.\n",
      "Use `to_crs()` to reproject one of the input geometries to match the CRS of the other.\n",
      "\n",
      "Left CRS: EPSG:4326\n",
      "Right CRS: None\n",
      "\n",
      "  return geopandas.sjoin(left_df=self, right_df=df, *args, **kwargs)\n",
      "/tmp/ipykernel_868937/987684252.py:12: ParserWarning: Falling back to the 'python' engine because the 'c' engine does not support regex separators (separators > 1 char and different from '\\s+' are interpreted as regex); you can avoid this warning by specifying engine='python'.\n",
      "  pd.read_csv(path, delimiter=r',\\s+')\n"
     ]
    },
    {
     "name": "stdout",
     "output_type": "stream",
     "text": [
      "ALEX_2010\n"
     ]
    },
    {
     "name": "stderr",
     "output_type": "stream",
     "text": [
      "/home/fred/micromamba/envs/open-gira/lib/python3.10/site-packages/geopandas/geodataframe.py:2061: UserWarning: CRS mismatch between the CRS of left geometries and the CRS of right geometries.\n",
      "Use `to_crs()` to reproject one of the input geometries to match the CRS of the other.\n",
      "\n",
      "Left CRS: EPSG:4326\n",
      "Right CRS: None\n",
      "\n",
      "  return geopandas.sjoin(left_df=self, right_df=df, *args, **kwargs)\n",
      "/tmp/ipykernel_868937/987684252.py:12: ParserWarning: Falling back to the 'python' engine because the 'c' engine does not support regex separators (separators > 1 char and different from '\\s+' are interpreted as regex); you can avoid this warning by specifying engine='python'.\n",
      "  pd.read_csv(path, delimiter=r',\\s+')\n",
      "/tmp/ipykernel_868937/987684252.py:12: ParserWarning: Falling back to the 'python' engine because the 'c' engine does not support regex separators (separators > 1 char and different from '\\s+' are interpreted as regex); you can avoid this warning by specifying engine='python'.\n",
      "  pd.read_csv(path, delimiter=r',\\s+')\n"
     ]
    },
    {
     "name": "stdout",
     "output_type": "stream",
     "text": [
      "CONSON_2010\n",
      "CONSON_2010 has 38.90167881617553, skipping plotting...\n"
     ]
    },
    {
     "name": "stderr",
     "output_type": "stream",
     "text": [
      "/home/fred/micromamba/envs/open-gira/lib/python3.10/site-packages/geopandas/geodataframe.py:2061: UserWarning: CRS mismatch between the CRS of left geometries and the CRS of right geometries.\n",
      "Use `to_crs()` to reproject one of the input geometries to match the CRS of the other.\n",
      "\n",
      "Left CRS: EPSG:4326\n",
      "Right CRS: None\n",
      "\n",
      "  return geopandas.sjoin(left_df=self, right_df=df, *args, **kwargs)\n",
      "/tmp/ipykernel_868937/987684252.py:12: ParserWarning: Falling back to the 'python' engine because the 'c' engine does not support regex separators (separators > 1 char and different from '\\s+' are interpreted as regex); you can avoid this warning by specifying engine='python'.\n",
      "  pd.read_csv(path, delimiter=r',\\s+')\n",
      "/tmp/ipykernel_868937/987684252.py:12: ParserWarning: Falling back to the 'python' engine because the 'c' engine does not support regex separators (separators > 1 char and different from '\\s+' are interpreted as regex); you can avoid this warning by specifying engine='python'.\n",
      "  pd.read_csv(path, delimiter=r',\\s+')\n"
     ]
    },
    {
     "name": "stdout",
     "output_type": "stream",
     "text": [
      "CHANTHU_2010\n",
      "CHANTHU_2010 has 38.98209852021942, skipping plotting...\n"
     ]
    },
    {
     "name": "stderr",
     "output_type": "stream",
     "text": [
      "/home/fred/micromamba/envs/open-gira/lib/python3.10/site-packages/geopandas/geodataframe.py:2061: UserWarning: CRS mismatch between the CRS of left geometries and the CRS of right geometries.\n",
      "Use `to_crs()` to reproject one of the input geometries to match the CRS of the other.\n",
      "\n",
      "Left CRS: EPSG:4326\n",
      "Right CRS: None\n",
      "\n",
      "  return geopandas.sjoin(left_df=self, right_df=df, *args, **kwargs)\n",
      "/tmp/ipykernel_868937/987684252.py:12: ParserWarning: Falling back to the 'python' engine because the 'c' engine does not support regex separators (separators > 1 char and different from '\\s+' are interpreted as regex); you can avoid this warning by specifying engine='python'.\n",
      "  pd.read_csv(path, delimiter=r',\\s+')\n",
      "/tmp/ipykernel_868937/987684252.py:12: ParserWarning: Falling back to the 'python' engine because the 'c' engine does not support regex separators (separators > 1 char and different from '\\s+' are interpreted as regex); you can avoid this warning by specifying engine='python'.\n",
      "  pd.read_csv(path, delimiter=r',\\s+')\n",
      "/tmp/ipykernel_868937/987684252.py:12: ParserWarning: Falling back to the 'python' engine because the 'c' engine does not support regex separators (separators > 1 char and different from '\\s+' are interpreted as regex); you can avoid this warning by specifying engine='python'.\n",
      "  pd.read_csv(path, delimiter=r',\\s+')\n"
     ]
    },
    {
     "name": "stdout",
     "output_type": "stream",
     "text": [
      "BONNIE_2010\n",
      "BONNIE_2010 has 20.576, skipping plotting...\n"
     ]
    },
    {
     "name": "stderr",
     "output_type": "stream",
     "text": [
      "/home/fred/micromamba/envs/open-gira/lib/python3.10/site-packages/geopandas/geodataframe.py:2061: UserWarning: CRS mismatch between the CRS of left geometries and the CRS of right geometries.\n",
      "Use `to_crs()` to reproject one of the input geometries to match the CRS of the other.\n",
      "\n",
      "Left CRS: EPSG:4326\n",
      "Right CRS: None\n",
      "\n",
      "  return geopandas.sjoin(left_df=self, right_df=df, *args, **kwargs)\n",
      "/tmp/ipykernel_868937/987684252.py:12: ParserWarning: Falling back to the 'python' engine because the 'c' engine does not support regex separators (separators > 1 char and different from '\\s+' are interpreted as regex); you can avoid this warning by specifying engine='python'.\n",
      "  pd.read_csv(path, delimiter=r',\\s+')\n"
     ]
    },
    {
     "name": "stdout",
     "output_type": "stream",
     "text": [
      "DIANMU_2010\n",
      "DIANMU_2010 has 28.117834685546626, skipping plotting...\n"
     ]
    },
    {
     "name": "stderr",
     "output_type": "stream",
     "text": [
      "/home/fred/micromamba/envs/open-gira/lib/python3.10/site-packages/geopandas/geodataframe.py:2061: UserWarning: CRS mismatch between the CRS of left geometries and the CRS of right geometries.\n",
      "Use `to_crs()` to reproject one of the input geometries to match the CRS of the other.\n",
      "\n",
      "Left CRS: EPSG:4326\n",
      "Right CRS: None\n",
      "\n",
      "  return geopandas.sjoin(left_df=self, right_df=df, *args, **kwargs)\n",
      "/tmp/ipykernel_868937/987684252.py:12: ParserWarning: Falling back to the 'python' engine because the 'c' engine does not support regex separators (separators > 1 char and different from '\\s+' are interpreted as regex); you can avoid this warning by specifying engine='python'.\n",
      "  pd.read_csv(path, delimiter=r',\\s+')\n"
     ]
    },
    {
     "name": "stdout",
     "output_type": "stream",
     "text": [
      "MINDULLE_2010\n",
      "MINDULLE_2010 has 29.046612463324404, skipping plotting...\n"
     ]
    },
    {
     "name": "stderr",
     "output_type": "stream",
     "text": [
      "/home/fred/micromamba/envs/open-gira/lib/python3.10/site-packages/geopandas/geodataframe.py:2061: UserWarning: CRS mismatch between the CRS of left geometries and the CRS of right geometries.\n",
      "Use `to_crs()` to reproject one of the input geometries to match the CRS of the other.\n",
      "\n",
      "Left CRS: EPSG:4326\n",
      "Right CRS: None\n",
      "\n",
      "  return geopandas.sjoin(left_df=self, right_df=df, *args, **kwargs)\n",
      "/tmp/ipykernel_868937/987684252.py:12: ParserWarning: Falling back to the 'python' engine because the 'c' engine does not support regex separators (separators > 1 char and different from '\\s+' are interpreted as regex); you can avoid this warning by specifying engine='python'.\n",
      "  pd.read_csv(path, delimiter=r',\\s+')\n"
     ]
    },
    {
     "name": "stdout",
     "output_type": "stream",
     "text": [
      "EARL_2010\n"
     ]
    },
    {
     "name": "stderr",
     "output_type": "stream",
     "text": [
      "/home/fred/micromamba/envs/open-gira/lib/python3.10/site-packages/geopandas/geodataframe.py:2061: UserWarning: CRS mismatch between the CRS of left geometries and the CRS of right geometries.\n",
      "Use `to_crs()` to reproject one of the input geometries to match the CRS of the other.\n",
      "\n",
      "Left CRS: EPSG:4326\n",
      "Right CRS: None\n",
      "\n",
      "  return geopandas.sjoin(left_df=self, right_df=df, *args, **kwargs)\n",
      "/tmp/ipykernel_868937/987684252.py:12: ParserWarning: Falling back to the 'python' engine because the 'c' engine does not support regex separators (separators > 1 char and different from '\\s+' are interpreted as regex); you can avoid this warning by specifying engine='python'.\n",
      "  pd.read_csv(path, delimiter=r',\\s+')\n",
      "/tmp/ipykernel_868937/987684252.py:12: ParserWarning: Falling back to the 'python' engine because the 'c' engine does not support regex separators (separators > 1 char and different from '\\s+' are interpreted as regex); you can avoid this warning by specifying engine='python'.\n",
      "  pd.read_csv(path, delimiter=r',\\s+')\n"
     ]
    },
    {
     "name": "stdout",
     "output_type": "stream",
     "text": [
      "LIONROCK_2010\n",
      "LIONROCK_2010 has 27.474439321342008, skipping plotting...\n"
     ]
    },
    {
     "name": "stderr",
     "output_type": "stream",
     "text": [
      "/home/fred/micromamba/envs/open-gira/lib/python3.10/site-packages/geopandas/geodataframe.py:2061: UserWarning: CRS mismatch between the CRS of left geometries and the CRS of right geometries.\n",
      "Use `to_crs()` to reproject one of the input geometries to match the CRS of the other.\n",
      "\n",
      "Left CRS: EPSG:4326\n",
      "Right CRS: None\n",
      "\n",
      "  return geopandas.sjoin(left_df=self, right_df=df, *args, **kwargs)\n",
      "/tmp/ipykernel_868937/987684252.py:12: ParserWarning: Falling back to the 'python' engine because the 'c' engine does not support regex separators (separators > 1 char and different from '\\s+' are interpreted as regex); you can avoid this warning by specifying engine='python'.\n",
      "  pd.read_csv(path, delimiter=r',\\s+')\n"
     ]
    },
    {
     "name": "stdout",
     "output_type": "stream",
     "text": [
      "KOMPASU_2010\n"
     ]
    },
    {
     "name": "stderr",
     "output_type": "stream",
     "text": [
      "/home/fred/micromamba/envs/open-gira/lib/python3.10/site-packages/geopandas/geodataframe.py:2061: UserWarning: CRS mismatch between the CRS of left geometries and the CRS of right geometries.\n",
      "Use `to_crs()` to reproject one of the input geometries to match the CRS of the other.\n",
      "\n",
      "Left CRS: EPSG:4326\n",
      "Right CRS: None\n",
      "\n",
      "  return geopandas.sjoin(left_df=self, right_df=df, *args, **kwargs)\n",
      "/tmp/ipykernel_868937/987684252.py:12: ParserWarning: Falling back to the 'python' engine because the 'c' engine does not support regex separators (separators > 1 char and different from '\\s+' are interpreted as regex); you can avoid this warning by specifying engine='python'.\n",
      "  pd.read_csv(path, delimiter=r',\\s+')\n"
     ]
    },
    {
     "name": "stdout",
     "output_type": "stream",
     "text": [
      "MALOU_2010\n",
      "MALOU_2010 has 25.16538112514351, skipping plotting...\n"
     ]
    },
    {
     "name": "stderr",
     "output_type": "stream",
     "text": [
      "/home/fred/micromamba/envs/open-gira/lib/python3.10/site-packages/geopandas/geodataframe.py:2061: UserWarning: CRS mismatch between the CRS of left geometries and the CRS of right geometries.\n",
      "Use `to_crs()` to reproject one of the input geometries to match the CRS of the other.\n",
      "\n",
      "Left CRS: EPSG:4326\n",
      "Right CRS: None\n",
      "\n",
      "  return geopandas.sjoin(left_df=self, right_df=df, *args, **kwargs)\n",
      "/tmp/ipykernel_868937/987684252.py:12: ParserWarning: Falling back to the 'python' engine because the 'c' engine does not support regex separators (separators > 1 char and different from '\\s+' are interpreted as regex); you can avoid this warning by specifying engine='python'.\n",
      "  pd.read_csv(path, delimiter=r',\\s+')\n",
      "/tmp/ipykernel_868937/987684252.py:12: ParserWarning: Falling back to the 'python' engine because the 'c' engine does not support regex separators (separators > 1 char and different from '\\s+' are interpreted as regex); you can avoid this warning by specifying engine='python'.\n",
      "  pd.read_csv(path, delimiter=r',\\s+')\n",
      "/tmp/ipykernel_868937/987684252.py:12: ParserWarning: Falling back to the 'python' engine because the 'c' engine does not support regex separators (separators > 1 char and different from '\\s+' are interpreted as regex); you can avoid this warning by specifying engine='python'.\n",
      "  pd.read_csv(path, delimiter=r',\\s+')\n",
      "/tmp/ipykernel_868937/987684252.py:12: ParserWarning: Falling back to the 'python' engine because the 'c' engine does not support regex separators (separators > 1 char and different from '\\s+' are interpreted as regex); you can avoid this warning by specifying engine='python'.\n",
      "  pd.read_csv(path, delimiter=r',\\s+')\n"
     ]
    },
    {
     "name": "stdout",
     "output_type": "stream",
     "text": [
      "HERMINE_2010\n",
      "HERMINE_2010 has 30.863999999999997, skipping plotting...\n"
     ]
    },
    {
     "name": "stderr",
     "output_type": "stream",
     "text": [
      "/home/fred/micromamba/envs/open-gira/lib/python3.10/site-packages/geopandas/geodataframe.py:2061: UserWarning: CRS mismatch between the CRS of left geometries and the CRS of right geometries.\n",
      "Use `to_crs()` to reproject one of the input geometries to match the CRS of the other.\n",
      "\n",
      "Left CRS: EPSG:4326\n",
      "Right CRS: None\n",
      "\n",
      "  return geopandas.sjoin(left_df=self, right_df=df, *args, **kwargs)\n",
      "/tmp/ipykernel_868937/987684252.py:12: ParserWarning: Falling back to the 'python' engine because the 'c' engine does not support regex separators (separators > 1 char and different from '\\s+' are interpreted as regex); you can avoid this warning by specifying engine='python'.\n",
      "  pd.read_csv(path, delimiter=r',\\s+')\n"
     ]
    },
    {
     "name": "stdout",
     "output_type": "stream",
     "text": [
      "MERANTI_2010\n",
      "MERANTI_2010 has 32.67172326061998, skipping plotting...\n"
     ]
    },
    {
     "name": "stderr",
     "output_type": "stream",
     "text": [
      "/home/fred/micromamba/envs/open-gira/lib/python3.10/site-packages/geopandas/geodataframe.py:2061: UserWarning: CRS mismatch between the CRS of left geometries and the CRS of right geometries.\n",
      "Use `to_crs()` to reproject one of the input geometries to match the CRS of the other.\n",
      "\n",
      "Left CRS: EPSG:4326\n",
      "Right CRS: None\n",
      "\n",
      "  return geopandas.sjoin(left_df=self, right_df=df, *args, **kwargs)\n",
      "/tmp/ipykernel_868937/987684252.py:12: ParserWarning: Falling back to the 'python' engine because the 'c' engine does not support regex separators (separators > 1 char and different from '\\s+' are interpreted as regex); you can avoid this warning by specifying engine='python'.\n",
      "  pd.read_csv(path, delimiter=r',\\s+')\n",
      "/tmp/ipykernel_868937/987684252.py:12: ParserWarning: Falling back to the 'python' engine because the 'c' engine does not support regex separators (separators > 1 char and different from '\\s+' are interpreted as regex); you can avoid this warning by specifying engine='python'.\n",
      "  pd.read_csv(path, delimiter=r',\\s+')\n"
     ]
    },
    {
     "name": "stdout",
     "output_type": "stream",
     "text": [
      "FANAPI_2010\n"
     ]
    },
    {
     "name": "stderr",
     "output_type": "stream",
     "text": [
      "/home/fred/micromamba/envs/open-gira/lib/python3.10/site-packages/geopandas/geodataframe.py:2061: UserWarning: CRS mismatch between the CRS of left geometries and the CRS of right geometries.\n",
      "Use `to_crs()` to reproject one of the input geometries to match the CRS of the other.\n",
      "\n",
      "Left CRS: EPSG:4326\n",
      "Right CRS: None\n",
      "\n",
      "  return geopandas.sjoin(left_df=self, right_df=df, *args, **kwargs)\n",
      "/tmp/ipykernel_868937/987684252.py:12: ParserWarning: Falling back to the 'python' engine because the 'c' engine does not support regex separators (separators > 1 char and different from '\\s+' are interpreted as regex); you can avoid this warning by specifying engine='python'.\n",
      "  pd.read_csv(path, delimiter=r',\\s+')\n"
     ]
    },
    {
     "name": "stdout",
     "output_type": "stream",
     "text": [
      "KARL_2010\n"
     ]
    },
    {
     "name": "stderr",
     "output_type": "stream",
     "text": [
      "/home/fred/micromamba/envs/open-gira/lib/python3.10/site-packages/geopandas/geodataframe.py:2061: UserWarning: CRS mismatch between the CRS of left geometries and the CRS of right geometries.\n",
      "Use `to_crs()` to reproject one of the input geometries to match the CRS of the other.\n",
      "\n",
      "Left CRS: EPSG:4326\n",
      "Right CRS: None\n",
      "\n",
      "  return geopandas.sjoin(left_df=self, right_df=df, *args, **kwargs)\n",
      "/tmp/ipykernel_868937/987684252.py:12: ParserWarning: Falling back to the 'python' engine because the 'c' engine does not support regex separators (separators > 1 char and different from '\\s+' are interpreted as regex); you can avoid this warning by specifying engine='python'.\n",
      "  pd.read_csv(path, delimiter=r',\\s+')\n",
      "/tmp/ipykernel_868937/987684252.py:12: ParserWarning: Falling back to the 'python' engine because the 'c' engine does not support regex separators (separators > 1 char and different from '\\s+' are interpreted as regex); you can avoid this warning by specifying engine='python'.\n",
      "  pd.read_csv(path, delimiter=r',\\s+')\n"
     ]
    },
    {
     "name": "stdout",
     "output_type": "stream",
     "text": [
      "MATTHEW_2010\n",
      "MATTHEW_2010 has 25.72, skipping plotting...\n"
     ]
    },
    {
     "name": "stderr",
     "output_type": "stream",
     "text": [
      "/home/fred/micromamba/envs/open-gira/lib/python3.10/site-packages/geopandas/geodataframe.py:2061: UserWarning: CRS mismatch between the CRS of left geometries and the CRS of right geometries.\n",
      "Use `to_crs()` to reproject one of the input geometries to match the CRS of the other.\n",
      "\n",
      "Left CRS: EPSG:4326\n",
      "Right CRS: None\n",
      "\n",
      "  return geopandas.sjoin(left_df=self, right_df=df, *args, **kwargs)\n",
      "/tmp/ipykernel_868937/987684252.py:12: ParserWarning: Falling back to the 'python' engine because the 'c' engine does not support regex separators (separators > 1 char and different from '\\s+' are interpreted as regex); you can avoid this warning by specifying engine='python'.\n",
      "  pd.read_csv(path, delimiter=r',\\s+')\n",
      "/tmp/ipykernel_868937/987684252.py:12: ParserWarning: Falling back to the 'python' engine because the 'c' engine does not support regex separators (separators > 1 char and different from '\\s+' are interpreted as regex); you can avoid this warning by specifying engine='python'.\n",
      "  pd.read_csv(path, delimiter=r',\\s+')\n"
     ]
    },
    {
     "name": "stdout",
     "output_type": "stream",
     "text": [
      "NICOLE_2010\n",
      "NICOLE_2010 has 20.576, skipping plotting...\n"
     ]
    },
    {
     "name": "stderr",
     "output_type": "stream",
     "text": [
      "/home/fred/micromamba/envs/open-gira/lib/python3.10/site-packages/geopandas/geodataframe.py:2061: UserWarning: CRS mismatch between the CRS of left geometries and the CRS of right geometries.\n",
      "Use `to_crs()` to reproject one of the input geometries to match the CRS of the other.\n",
      "\n",
      "Left CRS: EPSG:4326\n",
      "Right CRS: None\n",
      "\n",
      "  return geopandas.sjoin(left_df=self, right_df=df, *args, **kwargs)\n",
      "/tmp/ipykernel_868937/987684252.py:12: ParserWarning: Falling back to the 'python' engine because the 'c' engine does not support regex separators (separators > 1 char and different from '\\s+' are interpreted as regex); you can avoid this warning by specifying engine='python'.\n",
      "  pd.read_csv(path, delimiter=r',\\s+')\n",
      "/tmp/ipykernel_868937/987684252.py:12: ParserWarning: Falling back to the 'python' engine because the 'c' engine does not support regex separators (separators > 1 char and different from '\\s+' are interpreted as regex); you can avoid this warning by specifying engine='python'.\n",
      "  pd.read_csv(path, delimiter=r',\\s+')\n"
     ]
    },
    {
     "name": "stdout",
     "output_type": "stream",
     "text": [
      "PAULA_2010\n"
     ]
    },
    {
     "name": "stderr",
     "output_type": "stream",
     "text": [
      "/home/fred/micromamba/envs/open-gira/lib/python3.10/site-packages/geopandas/geodataframe.py:2061: UserWarning: CRS mismatch between the CRS of left geometries and the CRS of right geometries.\n",
      "Use `to_crs()` to reproject one of the input geometries to match the CRS of the other.\n",
      "\n",
      "Left CRS: EPSG:4326\n",
      "Right CRS: None\n",
      "\n",
      "  return geopandas.sjoin(left_df=self, right_df=df, *args, **kwargs)\n",
      "/tmp/ipykernel_868937/987684252.py:12: ParserWarning: Falling back to the 'python' engine because the 'c' engine does not support regex separators (separators > 1 char and different from '\\s+' are interpreted as regex); you can avoid this warning by specifying engine='python'.\n",
      "  pd.read_csv(path, delimiter=r',\\s+')\n",
      "/tmp/ipykernel_868937/987684252.py:12: ParserWarning: Falling back to the 'python' engine because the 'c' engine does not support regex separators (separators > 1 char and different from '\\s+' are interpreted as regex); you can avoid this warning by specifying engine='python'.\n",
      "  pd.read_csv(path, delimiter=r',\\s+')\n",
      "/tmp/ipykernel_868937/987684252.py:12: ParserWarning: Falling back to the 'python' engine because the 'c' engine does not support regex separators (separators > 1 char and different from '\\s+' are interpreted as regex); you can avoid this warning by specifying engine='python'.\n",
      "  pd.read_csv(path, delimiter=r',\\s+')\n"
     ]
    },
    {
     "name": "stdout",
     "output_type": "stream",
     "text": [
      "MEGI_2010\n"
     ]
    },
    {
     "name": "stderr",
     "output_type": "stream",
     "text": [
      "/home/fred/micromamba/envs/open-gira/lib/python3.10/site-packages/geopandas/geodataframe.py:2061: UserWarning: CRS mismatch between the CRS of left geometries and the CRS of right geometries.\n",
      "Use `to_crs()` to reproject one of the input geometries to match the CRS of the other.\n",
      "\n",
      "Left CRS: EPSG:4326\n",
      "Right CRS: None\n",
      "\n",
      "  return geopandas.sjoin(left_df=self, right_df=df, *args, **kwargs)\n",
      "/tmp/ipykernel_868937/987684252.py:12: ParserWarning: Falling back to the 'python' engine because the 'c' engine does not support regex separators (separators > 1 char and different from '\\s+' are interpreted as regex); you can avoid this warning by specifying engine='python'.\n",
      "  pd.read_csv(path, delimiter=r',\\s+')\n"
     ]
    },
    {
     "name": "stdout",
     "output_type": "stream",
     "text": [
      "GIRI_2010\n"
     ]
    },
    {
     "name": "stderr",
     "output_type": "stream",
     "text": [
      "/home/fred/micromamba/envs/open-gira/lib/python3.10/site-packages/geopandas/geodataframe.py:2061: UserWarning: CRS mismatch between the CRS of left geometries and the CRS of right geometries.\n",
      "Use `to_crs()` to reproject one of the input geometries to match the CRS of the other.\n",
      "\n",
      "Left CRS: EPSG:4326\n",
      "Right CRS: None\n",
      "\n",
      "  return geopandas.sjoin(left_df=self, right_df=df, *args, **kwargs)\n",
      "/tmp/ipykernel_868937/987684252.py:12: ParserWarning: Falling back to the 'python' engine because the 'c' engine does not support regex separators (separators > 1 char and different from '\\s+' are interpreted as regex); you can avoid this warning by specifying engine='python'.\n",
      "  pd.read_csv(path, delimiter=r',\\s+')\n"
     ]
    },
    {
     "name": "stdout",
     "output_type": "stream",
     "text": [
      "RICHARD_2010\n"
     ]
    },
    {
     "name": "stderr",
     "output_type": "stream",
     "text": [
      "/home/fred/micromamba/envs/open-gira/lib/python3.10/site-packages/geopandas/geodataframe.py:2061: UserWarning: CRS mismatch between the CRS of left geometries and the CRS of right geometries.\n",
      "Use `to_crs()` to reproject one of the input geometries to match the CRS of the other.\n",
      "\n",
      "Left CRS: EPSG:4326\n",
      "Right CRS: None\n",
      "\n",
      "  return geopandas.sjoin(left_df=self, right_df=df, *args, **kwargs)\n",
      "/tmp/ipykernel_868937/987684252.py:12: ParserWarning: Falling back to the 'python' engine because the 'c' engine does not support regex separators (separators > 1 char and different from '\\s+' are interpreted as regex); you can avoid this warning by specifying engine='python'.\n",
      "  pd.read_csv(path, delimiter=r',\\s+')\n"
     ]
    },
    {
     "name": "stdout",
     "output_type": "stream",
     "text": [
      "JAL_2010\n",
      "JAL_2010 has 30.006666666666668, skipping plotting...\n"
     ]
    },
    {
     "name": "stderr",
     "output_type": "stream",
     "text": [
      "/home/fred/micromamba/envs/open-gira/lib/python3.10/site-packages/geopandas/geodataframe.py:2061: UserWarning: CRS mismatch between the CRS of left geometries and the CRS of right geometries.\n",
      "Use `to_crs()` to reproject one of the input geometries to match the CRS of the other.\n",
      "\n",
      "Left CRS: EPSG:4326\n",
      "Right CRS: None\n",
      "\n",
      "  return geopandas.sjoin(left_df=self, right_df=df, *args, **kwargs)\n",
      "/tmp/ipykernel_868937/987684252.py:12: ParserWarning: Falling back to the 'python' engine because the 'c' engine does not support regex separators (separators > 1 char and different from '\\s+' are interpreted as regex); you can avoid this warning by specifying engine='python'.\n",
      "  pd.read_csv(path, delimiter=r',\\s+')\n",
      "/tmp/ipykernel_868937/987684252.py:12: ParserWarning: Falling back to the 'python' engine because the 'c' engine does not support regex separators (separators > 1 char and different from '\\s+' are interpreted as regex); you can avoid this warning by specifying engine='python'.\n",
      "  pd.read_csv(path, delimiter=r',\\s+')\n"
     ]
    },
    {
     "name": "stdout",
     "output_type": "stream",
     "text": [
      "TASHA_2010\n",
      "TASHA_2010 has 21.511272727272726, skipping plotting...\n"
     ]
    },
    {
     "name": "stderr",
     "output_type": "stream",
     "text": [
      "/home/fred/micromamba/envs/open-gira/lib/python3.10/site-packages/geopandas/geodataframe.py:2061: UserWarning: CRS mismatch between the CRS of left geometries and the CRS of right geometries.\n",
      "Use `to_crs()` to reproject one of the input geometries to match the CRS of the other.\n",
      "\n",
      "Left CRS: EPSG:4326\n",
      "Right CRS: None\n",
      "\n",
      "  return geopandas.sjoin(left_df=self, right_df=df, *args, **kwargs)\n",
      "/tmp/ipykernel_868937/987684252.py:12: ParserWarning: Falling back to the 'python' engine because the 'c' engine does not support regex separators (separators > 1 char and different from '\\s+' are interpreted as regex); you can avoid this warning by specifying engine='python'.\n",
      "  pd.read_csv(path, delimiter=r',\\s+')\n"
     ]
    },
    {
     "name": "stdout",
     "output_type": "stream",
     "text": [
      "BIANCA_2011\n"
     ]
    },
    {
     "name": "stderr",
     "output_type": "stream",
     "text": [
      "/home/fred/micromamba/envs/open-gira/lib/python3.10/site-packages/geopandas/geodataframe.py:2061: UserWarning: CRS mismatch between the CRS of left geometries and the CRS of right geometries.\n",
      "Use `to_crs()` to reproject one of the input geometries to match the CRS of the other.\n",
      "\n",
      "Left CRS: EPSG:4326\n",
      "Right CRS: None\n",
      "\n",
      "  return geopandas.sjoin(left_df=self, right_df=df, *args, **kwargs)\n",
      "/tmp/ipykernel_868937/987684252.py:12: ParserWarning: Falling back to the 'python' engine because the 'c' engine does not support regex separators (separators > 1 char and different from '\\s+' are interpreted as regex); you can avoid this warning by specifying engine='python'.\n",
      "  pd.read_csv(path, delimiter=r',\\s+')\n"
     ]
    },
    {
     "name": "stdout",
     "output_type": "stream",
     "text": [
      "ANTHONY_2011\n",
      "ANTHONY_2011 has 27.74642424242424, skipping plotting...\n"
     ]
    },
    {
     "name": "stderr",
     "output_type": "stream",
     "text": [
      "/home/fred/micromamba/envs/open-gira/lib/python3.10/site-packages/geopandas/geodataframe.py:2061: UserWarning: CRS mismatch between the CRS of left geometries and the CRS of right geometries.\n",
      "Use `to_crs()` to reproject one of the input geometries to match the CRS of the other.\n",
      "\n",
      "Left CRS: EPSG:4326\n",
      "Right CRS: None\n",
      "\n",
      "  return geopandas.sjoin(left_df=self, right_df=df, *args, **kwargs)\n",
      "/tmp/ipykernel_868937/987684252.py:12: ParserWarning: Falling back to the 'python' engine because the 'c' engine does not support regex separators (separators > 1 char and different from '\\s+' are interpreted as regex); you can avoid this warning by specifying engine='python'.\n",
      "  pd.read_csv(path, delimiter=r',\\s+')\n",
      "/tmp/ipykernel_868937/987684252.py:12: ParserWarning: Falling back to the 'python' engine because the 'c' engine does not support regex separators (separators > 1 char and different from '\\s+' are interpreted as regex); you can avoid this warning by specifying engine='python'.\n",
      "  pd.read_csv(path, delimiter=r',\\s+')\n"
     ]
    },
    {
     "name": "stdout",
     "output_type": "stream",
     "text": [
      "YASI_2011\n"
     ]
    },
    {
     "name": "stderr",
     "output_type": "stream",
     "text": [
      "/home/fred/micromamba/envs/open-gira/lib/python3.10/site-packages/geopandas/geodataframe.py:2061: UserWarning: CRS mismatch between the CRS of left geometries and the CRS of right geometries.\n",
      "Use `to_crs()` to reproject one of the input geometries to match the CRS of the other.\n",
      "\n",
      "Left CRS: EPSG:4326\n",
      "Right CRS: None\n",
      "\n",
      "  return geopandas.sjoin(left_df=self, right_df=df, *args, **kwargs)\n",
      "/tmp/ipykernel_868937/987684252.py:12: ParserWarning: Falling back to the 'python' engine because the 'c' engine does not support regex separators (separators > 1 char and different from '\\s+' are interpreted as regex); you can avoid this warning by specifying engine='python'.\n",
      "  pd.read_csv(path, delimiter=r',\\s+')\n"
     ]
    },
    {
     "name": "stdout",
     "output_type": "stream",
     "text": [
      "BINGIZA_2011\n"
     ]
    },
    {
     "name": "stderr",
     "output_type": "stream",
     "text": [
      "/home/fred/micromamba/envs/open-gira/lib/python3.10/site-packages/geopandas/geodataframe.py:2061: UserWarning: CRS mismatch between the CRS of left geometries and the CRS of right geometries.\n",
      "Use `to_crs()` to reproject one of the input geometries to match the CRS of the other.\n",
      "\n",
      "Left CRS: EPSG:4326\n",
      "Right CRS: None\n",
      "\n",
      "  return geopandas.sjoin(left_df=self, right_df=df, *args, **kwargs)\n",
      "/tmp/ipykernel_868937/987684252.py:12: ParserWarning: Falling back to the 'python' engine because the 'c' engine does not support regex separators (separators > 1 char and different from '\\s+' are interpreted as regex); you can avoid this warning by specifying engine='python'.\n",
      "  pd.read_csv(path, delimiter=r',\\s+')\n"
     ]
    },
    {
     "name": "stdout",
     "output_type": "stream",
     "text": [
      "ERROL_2011\n",
      "ERROL_2011 has 32.383818181818185, skipping plotting...\n"
     ]
    },
    {
     "name": "stderr",
     "output_type": "stream",
     "text": [
      "/home/fred/micromamba/envs/open-gira/lib/python3.10/site-packages/geopandas/geodataframe.py:2061: UserWarning: CRS mismatch between the CRS of left geometries and the CRS of right geometries.\n",
      "Use `to_crs()` to reproject one of the input geometries to match the CRS of the other.\n",
      "\n",
      "Left CRS: EPSG:4326\n",
      "Right CRS: None\n",
      "\n",
      "  return geopandas.sjoin(left_df=self, right_df=df, *args, **kwargs)\n",
      "/tmp/ipykernel_868937/987684252.py:12: ParserWarning: Falling back to the 'python' engine because the 'c' engine does not support regex separators (separators > 1 char and different from '\\s+' are interpreted as regex); you can avoid this warning by specifying engine='python'.\n",
      "  pd.read_csv(path, delimiter=r',\\s+')\n"
     ]
    },
    {
     "name": "stdout",
     "output_type": "stream",
     "text": [
      "AERE_2011\n",
      "AERE_2011 has 22.93580753922694, skipping plotting...\n"
     ]
    },
    {
     "name": "stderr",
     "output_type": "stream",
     "text": [
      "/home/fred/micromamba/envs/open-gira/lib/python3.10/site-packages/geopandas/geodataframe.py:2061: UserWarning: CRS mismatch between the CRS of left geometries and the CRS of right geometries.\n",
      "Use `to_crs()` to reproject one of the input geometries to match the CRS of the other.\n",
      "\n",
      "Left CRS: EPSG:4326\n",
      "Right CRS: None\n",
      "\n",
      "  return geopandas.sjoin(left_df=self, right_df=df, *args, **kwargs)\n",
      "/tmp/ipykernel_868937/987684252.py:12: ParserWarning: Falling back to the 'python' engine because the 'c' engine does not support regex separators (separators > 1 char and different from '\\s+' are interpreted as regex); you can avoid this warning by specifying engine='python'.\n",
      "  pd.read_csv(path, delimiter=r',\\s+')\n"
     ]
    },
    {
     "name": "stdout",
     "output_type": "stream",
     "text": [
      "SONGDA_2011\n"
     ]
    },
    {
     "name": "stderr",
     "output_type": "stream",
     "text": [
      "/home/fred/micromamba/envs/open-gira/lib/python3.10/site-packages/geopandas/geodataframe.py:2061: UserWarning: CRS mismatch between the CRS of left geometries and the CRS of right geometries.\n",
      "Use `to_crs()` to reproject one of the input geometries to match the CRS of the other.\n",
      "\n",
      "Left CRS: EPSG:4326\n",
      "Right CRS: None\n",
      "\n",
      "  return geopandas.sjoin(left_df=self, right_df=df, *args, **kwargs)\n",
      "/tmp/ipykernel_868937/987684252.py:12: ParserWarning: Falling back to the 'python' engine because the 'c' engine does not support regex separators (separators > 1 char and different from '\\s+' are interpreted as regex); you can avoid this warning by specifying engine='python'.\n",
      "  pd.read_csv(path, delimiter=r',\\s+')\n",
      "/tmp/ipykernel_868937/987684252.py:12: ParserWarning: Falling back to the 'python' engine because the 'c' engine does not support regex separators (separators > 1 char and different from '\\s+' are interpreted as regex); you can avoid this warning by specifying engine='python'.\n",
      "  pd.read_csv(path, delimiter=r',\\s+')\n"
     ]
    },
    {
     "name": "stdout",
     "output_type": "stream",
     "text": [
      "HAIMA_2011\n",
      "HAIMA_2011 has 20.211943390738615, skipping plotting...\n"
     ]
    },
    {
     "name": "stderr",
     "output_type": "stream",
     "text": [
      "/home/fred/micromamba/envs/open-gira/lib/python3.10/site-packages/geopandas/geodataframe.py:2061: UserWarning: CRS mismatch between the CRS of left geometries and the CRS of right geometries.\n",
      "Use `to_crs()` to reproject one of the input geometries to match the CRS of the other.\n",
      "\n",
      "Left CRS: EPSG:4326\n",
      "Right CRS: None\n",
      "\n",
      "  return geopandas.sjoin(left_df=self, right_df=df, *args, **kwargs)\n",
      "/tmp/ipykernel_868937/987684252.py:12: ParserWarning: Falling back to the 'python' engine because the 'c' engine does not support regex separators (separators > 1 char and different from '\\s+' are interpreted as regex); you can avoid this warning by specifying engine='python'.\n",
      "  pd.read_csv(path, delimiter=r',\\s+')\n",
      "/tmp/ipykernel_868937/987684252.py:12: ParserWarning: Falling back to the 'python' engine because the 'c' engine does not support regex separators (separators > 1 char and different from '\\s+' are interpreted as regex); you can avoid this warning by specifying engine='python'.\n",
      "  pd.read_csv(path, delimiter=r',\\s+')\n"
     ]
    },
    {
     "name": "stdout",
     "output_type": "stream",
     "text": [
      "BEATRIZ_2011\n"
     ]
    },
    {
     "name": "stderr",
     "output_type": "stream",
     "text": [
      "/home/fred/micromamba/envs/open-gira/lib/python3.10/site-packages/geopandas/geodataframe.py:2061: UserWarning: CRS mismatch between the CRS of left geometries and the CRS of right geometries.\n",
      "Use `to_crs()` to reproject one of the input geometries to match the CRS of the other.\n",
      "\n",
      "Left CRS: EPSG:4326\n",
      "Right CRS: None\n",
      "\n",
      "  return geopandas.sjoin(left_df=self, right_df=df, *args, **kwargs)\n",
      "/tmp/ipykernel_868937/987684252.py:12: ParserWarning: Falling back to the 'python' engine because the 'c' engine does not support regex separators (separators > 1 char and different from '\\s+' are interpreted as regex); you can avoid this warning by specifying engine='python'.\n",
      "  pd.read_csv(path, delimiter=r',\\s+')\n"
     ]
    },
    {
     "name": "stdout",
     "output_type": "stream",
     "text": [
      "ARLENE_2011\n",
      "ARLENE_2011 has 28.291999999999998, skipping plotting...\n"
     ]
    },
    {
     "name": "stderr",
     "output_type": "stream",
     "text": [
      "/home/fred/micromamba/envs/open-gira/lib/python3.10/site-packages/geopandas/geodataframe.py:2061: UserWarning: CRS mismatch between the CRS of left geometries and the CRS of right geometries.\n",
      "Use `to_crs()` to reproject one of the input geometries to match the CRS of the other.\n",
      "\n",
      "Left CRS: EPSG:4326\n",
      "Right CRS: None\n",
      "\n",
      "  return geopandas.sjoin(left_df=self, right_df=df, *args, **kwargs)\n",
      "/tmp/ipykernel_868937/987684252.py:12: ParserWarning: Falling back to the 'python' engine because the 'c' engine does not support regex separators (separators > 1 char and different from '\\s+' are interpreted as regex); you can avoid this warning by specifying engine='python'.\n",
      "  pd.read_csv(path, delimiter=r',\\s+')\n"
     ]
    },
    {
     "name": "stdout",
     "output_type": "stream",
     "text": [
      "MA-ON_2011\n"
     ]
    },
    {
     "name": "stderr",
     "output_type": "stream",
     "text": [
      "/home/fred/micromamba/envs/open-gira/lib/python3.10/site-packages/geopandas/geodataframe.py:2061: UserWarning: CRS mismatch between the CRS of left geometries and the CRS of right geometries.\n",
      "Use `to_crs()` to reproject one of the input geometries to match the CRS of the other.\n",
      "\n",
      "Left CRS: EPSG:4326\n",
      "Right CRS: None\n",
      "\n",
      "  return geopandas.sjoin(left_df=self, right_df=df, *args, **kwargs)\n",
      "/tmp/ipykernel_868937/987684252.py:12: ParserWarning: Falling back to the 'python' engine because the 'c' engine does not support regex separators (separators > 1 char and different from '\\s+' are interpreted as regex); you can avoid this warning by specifying engine='python'.\n",
      "  pd.read_csv(path, delimiter=r',\\s+')\n",
      "/tmp/ipykernel_868937/987684252.py:12: ParserWarning: Falling back to the 'python' engine because the 'c' engine does not support regex separators (separators > 1 char and different from '\\s+' are interpreted as regex); you can avoid this warning by specifying engine='python'.\n",
      "  pd.read_csv(path, delimiter=r',\\s+')\n"
     ]
    },
    {
     "name": "stdout",
     "output_type": "stream",
     "text": [
      "NOCK-TEN_2011\n",
      "NOCK-TEN_2011 has 28.627493596121955, skipping plotting...\n"
     ]
    },
    {
     "name": "stderr",
     "output_type": "stream",
     "text": [
      "/home/fred/micromamba/envs/open-gira/lib/python3.10/site-packages/geopandas/geodataframe.py:2061: UserWarning: CRS mismatch between the CRS of left geometries and the CRS of right geometries.\n",
      "Use `to_crs()` to reproject one of the input geometries to match the CRS of the other.\n",
      "\n",
      "Left CRS: EPSG:4326\n",
      "Right CRS: None\n",
      "\n",
      "  return geopandas.sjoin(left_df=self, right_df=df, *args, **kwargs)\n",
      "/tmp/ipykernel_868937/987684252.py:12: ParserWarning: Falling back to the 'python' engine because the 'c' engine does not support regex separators (separators > 1 char and different from '\\s+' are interpreted as regex); you can avoid this warning by specifying engine='python'.\n",
      "  pd.read_csv(path, delimiter=r',\\s+')\n",
      "/tmp/ipykernel_868937/987684252.py:12: ParserWarning: Falling back to the 'python' engine because the 'c' engine does not support regex separators (separators > 1 char and different from '\\s+' are interpreted as regex); you can avoid this warning by specifying engine='python'.\n",
      "  pd.read_csv(path, delimiter=r',\\s+')\n"
     ]
    },
    {
     "name": "stdout",
     "output_type": "stream",
     "text": [
      "DON_2011\n",
      "DON_2011 has 23.148, skipping plotting...\n"
     ]
    },
    {
     "name": "stderr",
     "output_type": "stream",
     "text": [
      "/home/fred/micromamba/envs/open-gira/lib/python3.10/site-packages/geopandas/geodataframe.py:2061: UserWarning: CRS mismatch between the CRS of left geometries and the CRS of right geometries.\n",
      "Use `to_crs()` to reproject one of the input geometries to match the CRS of the other.\n",
      "\n",
      "Left CRS: EPSG:4326\n",
      "Right CRS: None\n",
      "\n",
      "  return geopandas.sjoin(left_df=self, right_df=df, *args, **kwargs)\n",
      "/tmp/ipykernel_868937/987684252.py:12: ParserWarning: Falling back to the 'python' engine because the 'c' engine does not support regex separators (separators > 1 char and different from '\\s+' are interpreted as regex); you can avoid this warning by specifying engine='python'.\n",
      "  pd.read_csv(path, delimiter=r',\\s+')\n",
      "/tmp/ipykernel_868937/987684252.py:12: ParserWarning: Falling back to the 'python' engine because the 'c' engine does not support regex separators (separators > 1 char and different from '\\s+' are interpreted as regex); you can avoid this warning by specifying engine='python'.\n",
      "  pd.read_csv(path, delimiter=r',\\s+')\n"
     ]
    },
    {
     "name": "stdout",
     "output_type": "stream",
     "text": [
      "EMILY_2011\n",
      "EMILY_2011 has 23.148, skipping plotting...\n"
     ]
    },
    {
     "name": "stderr",
     "output_type": "stream",
     "text": [
      "/home/fred/micromamba/envs/open-gira/lib/python3.10/site-packages/geopandas/geodataframe.py:2061: UserWarning: CRS mismatch between the CRS of left geometries and the CRS of right geometries.\n",
      "Use `to_crs()` to reproject one of the input geometries to match the CRS of the other.\n",
      "\n",
      "Left CRS: EPSG:4326\n",
      "Right CRS: None\n",
      "\n",
      "  return geopandas.sjoin(left_df=self, right_df=df, *args, **kwargs)\n",
      "/tmp/ipykernel_868937/987684252.py:12: ParserWarning: Falling back to the 'python' engine because the 'c' engine does not support regex separators (separators > 1 char and different from '\\s+' are interpreted as regex); you can avoid this warning by specifying engine='python'.\n",
      "  pd.read_csv(path, delimiter=r',\\s+')\n"
     ]
    },
    {
     "name": "stdout",
     "output_type": "stream",
     "text": [
      "HARVEY_2011\n",
      "HARVEY_2011 has 28.291999999999998, skipping plotting...\n"
     ]
    },
    {
     "name": "stderr",
     "output_type": "stream",
     "text": [
      "/home/fred/micromamba/envs/open-gira/lib/python3.10/site-packages/geopandas/geodataframe.py:2061: UserWarning: CRS mismatch between the CRS of left geometries and the CRS of right geometries.\n",
      "Use `to_crs()` to reproject one of the input geometries to match the CRS of the other.\n",
      "\n",
      "Left CRS: EPSG:4326\n",
      "Right CRS: None\n",
      "\n",
      "  return geopandas.sjoin(left_df=self, right_df=df, *args, **kwargs)\n",
      "/tmp/ipykernel_868937/987684252.py:12: ParserWarning: Falling back to the 'python' engine because the 'c' engine does not support regex separators (separators > 1 char and different from '\\s+' are interpreted as regex); you can avoid this warning by specifying engine='python'.\n",
      "  pd.read_csv(path, delimiter=r',\\s+')\n",
      "/tmp/ipykernel_868937/987684252.py:12: ParserWarning: Falling back to the 'python' engine because the 'c' engine does not support regex separators (separators > 1 char and different from '\\s+' are interpreted as regex); you can avoid this warning by specifying engine='python'.\n",
      "  pd.read_csv(path, delimiter=r',\\s+')\n"
     ]
    },
    {
     "name": "stdout",
     "output_type": "stream",
     "text": [
      "NANMADOL_2011\n"
     ]
    },
    {
     "name": "stderr",
     "output_type": "stream",
     "text": [
      "/home/fred/micromamba/envs/open-gira/lib/python3.10/site-packages/geopandas/geodataframe.py:2061: UserWarning: CRS mismatch between the CRS of left geometries and the CRS of right geometries.\n",
      "Use `to_crs()` to reproject one of the input geometries to match the CRS of the other.\n",
      "\n",
      "Left CRS: EPSG:4326\n",
      "Right CRS: None\n",
      "\n",
      "  return geopandas.sjoin(left_df=self, right_df=df, *args, **kwargs)\n",
      "/tmp/ipykernel_868937/987684252.py:12: ParserWarning: Falling back to the 'python' engine because the 'c' engine does not support regex separators (separators > 1 char and different from '\\s+' are interpreted as regex); you can avoid this warning by specifying engine='python'.\n",
      "  pd.read_csv(path, delimiter=r',\\s+')\n",
      "/tmp/ipykernel_868937/987684252.py:12: ParserWarning: Falling back to the 'python' engine because the 'c' engine does not support regex separators (separators > 1 char and different from '\\s+' are interpreted as regex); you can avoid this warning by specifying engine='python'.\n",
      "  pd.read_csv(path, delimiter=r',\\s+')\n",
      "/tmp/ipykernel_868937/987684252.py:12: ParserWarning: Falling back to the 'python' engine because the 'c' engine does not support regex separators (separators > 1 char and different from '\\s+' are interpreted as regex); you can avoid this warning by specifying engine='python'.\n",
      "  pd.read_csv(path, delimiter=r',\\s+')\n"
     ]
    },
    {
     "name": "stdout",
     "output_type": "stream",
     "text": [
      "IRENE_2011\n"
     ]
    },
    {
     "name": "stderr",
     "output_type": "stream",
     "text": [
      "/home/fred/micromamba/envs/open-gira/lib/python3.10/site-packages/geopandas/geodataframe.py:2061: UserWarning: CRS mismatch between the CRS of left geometries and the CRS of right geometries.\n",
      "Use `to_crs()` to reproject one of the input geometries to match the CRS of the other.\n",
      "\n",
      "Left CRS: EPSG:4326\n",
      "Right CRS: None\n",
      "\n",
      "  return geopandas.sjoin(left_df=self, right_df=df, *args, **kwargs)\n",
      "/tmp/ipykernel_868937/987684252.py:12: ParserWarning: Falling back to the 'python' engine because the 'c' engine does not support regex separators (separators > 1 char and different from '\\s+' are interpreted as regex); you can avoid this warning by specifying engine='python'.\n",
      "  pd.read_csv(path, delimiter=r',\\s+')\n"
     ]
    },
    {
     "name": "stdout",
     "output_type": "stream",
     "text": [
      "TALAS_2011\n",
      "TALAS_2011 has 29.341938040566397, skipping plotting...\n"
     ]
    },
    {
     "name": "stderr",
     "output_type": "stream",
     "text": [
      "/home/fred/micromamba/envs/open-gira/lib/python3.10/site-packages/geopandas/geodataframe.py:2061: UserWarning: CRS mismatch between the CRS of left geometries and the CRS of right geometries.\n",
      "Use `to_crs()` to reproject one of the input geometries to match the CRS of the other.\n",
      "\n",
      "Left CRS: EPSG:4326\n",
      "Right CRS: None\n",
      "\n",
      "  return geopandas.sjoin(left_df=self, right_df=df, *args, **kwargs)\n",
      "/tmp/ipykernel_868937/987684252.py:12: ParserWarning: Falling back to the 'python' engine because the 'c' engine does not support regex separators (separators > 1 char and different from '\\s+' are interpreted as regex); you can avoid this warning by specifying engine='python'.\n",
      "  pd.read_csv(path, delimiter=r',\\s+')\n"
     ]
    },
    {
     "name": "stdout",
     "output_type": "stream",
     "text": [
      "LEE_2011\n",
      "LEE_2011 has 25.72, skipping plotting...\n"
     ]
    },
    {
     "name": "stderr",
     "output_type": "stream",
     "text": [
      "/home/fred/micromamba/envs/open-gira/lib/python3.10/site-packages/geopandas/geodataframe.py:2061: UserWarning: CRS mismatch between the CRS of left geometries and the CRS of right geometries.\n",
      "Use `to_crs()` to reproject one of the input geometries to match the CRS of the other.\n",
      "\n",
      "Left CRS: EPSG:4326\n",
      "Right CRS: None\n",
      "\n",
      "  return geopandas.sjoin(left_df=self, right_df=df, *args, **kwargs)\n",
      "/tmp/ipykernel_868937/987684252.py:12: ParserWarning: Falling back to the 'python' engine because the 'c' engine does not support regex separators (separators > 1 char and different from '\\s+' are interpreted as regex); you can avoid this warning by specifying engine='python'.\n",
      "  pd.read_csv(path, delimiter=r',\\s+')\n"
     ]
    },
    {
     "name": "stdout",
     "output_type": "stream",
     "text": [
      "MARIA_2011\n",
      "MARIA_2011 has 36.007999999999996, skipping plotting...\n"
     ]
    },
    {
     "name": "stderr",
     "output_type": "stream",
     "text": [
      "/home/fred/micromamba/envs/open-gira/lib/python3.10/site-packages/geopandas/geodataframe.py:2061: UserWarning: CRS mismatch between the CRS of left geometries and the CRS of right geometries.\n",
      "Use `to_crs()` to reproject one of the input geometries to match the CRS of the other.\n",
      "\n",
      "Left CRS: EPSG:4326\n",
      "Right CRS: None\n",
      "\n",
      "  return geopandas.sjoin(left_df=self, right_df=df, *args, **kwargs)\n",
      "/tmp/ipykernel_868937/987684252.py:12: ParserWarning: Falling back to the 'python' engine because the 'c' engine does not support regex separators (separators > 1 char and different from '\\s+' are interpreted as regex); you can avoid this warning by specifying engine='python'.\n",
      "  pd.read_csv(path, delimiter=r',\\s+')\n"
     ]
    },
    {
     "name": "stdout",
     "output_type": "stream",
     "text": [
      "NATE_2011\n",
      "NATE_2011 has 33.436, skipping plotting...\n"
     ]
    },
    {
     "name": "stderr",
     "output_type": "stream",
     "text": [
      "/home/fred/micromamba/envs/open-gira/lib/python3.10/site-packages/geopandas/geodataframe.py:2061: UserWarning: CRS mismatch between the CRS of left geometries and the CRS of right geometries.\n",
      "Use `to_crs()` to reproject one of the input geometries to match the CRS of the other.\n",
      "\n",
      "Left CRS: EPSG:4326\n",
      "Right CRS: None\n",
      "\n",
      "  return geopandas.sjoin(left_df=self, right_df=df, *args, **kwargs)\n",
      "/tmp/ipykernel_868937/987684252.py:12: ParserWarning: Falling back to the 'python' engine because the 'c' engine does not support regex separators (separators > 1 char and different from '\\s+' are interpreted as regex); you can avoid this warning by specifying engine='python'.\n",
      "  pd.read_csv(path, delimiter=r',\\s+')\n"
     ]
    },
    {
     "name": "stdout",
     "output_type": "stream",
     "text": [
      "ROKE_2011\n"
     ]
    },
    {
     "name": "stderr",
     "output_type": "stream",
     "text": [
      "/home/fred/micromamba/envs/open-gira/lib/python3.10/site-packages/geopandas/geodataframe.py:2061: UserWarning: CRS mismatch between the CRS of left geometries and the CRS of right geometries.\n",
      "Use `to_crs()` to reproject one of the input geometries to match the CRS of the other.\n",
      "\n",
      "Left CRS: EPSG:4326\n",
      "Right CRS: None\n",
      "\n",
      "  return geopandas.sjoin(left_df=self, right_df=df, *args, **kwargs)\n",
      "/tmp/ipykernel_868937/987684252.py:12: ParserWarning: Falling back to the 'python' engine because the 'c' engine does not support regex separators (separators > 1 char and different from '\\s+' are interpreted as regex); you can avoid this warning by specifying engine='python'.\n",
      "  pd.read_csv(path, delimiter=r',\\s+')\n",
      "/tmp/ipykernel_868937/987684252.py:12: ParserWarning: Falling back to the 'python' engine because the 'c' engine does not support regex separators (separators > 1 char and different from '\\s+' are interpreted as regex); you can avoid this warning by specifying engine='python'.\n",
      "  pd.read_csv(path, delimiter=r',\\s+')\n"
     ]
    },
    {
     "name": "stdout",
     "output_type": "stream",
     "text": [
      "NESAT_2011\n"
     ]
    },
    {
     "name": "stderr",
     "output_type": "stream",
     "text": [
      "/home/fred/micromamba/envs/open-gira/lib/python3.10/site-packages/geopandas/geodataframe.py:2061: UserWarning: CRS mismatch between the CRS of left geometries and the CRS of right geometries.\n",
      "Use `to_crs()` to reproject one of the input geometries to match the CRS of the other.\n",
      "\n",
      "Left CRS: EPSG:4326\n",
      "Right CRS: None\n",
      "\n",
      "  return geopandas.sjoin(left_df=self, right_df=df, *args, **kwargs)\n",
      "/tmp/ipykernel_868937/987684252.py:12: ParserWarning: Falling back to the 'python' engine because the 'c' engine does not support regex separators (separators > 1 char and different from '\\s+' are interpreted as regex); you can avoid this warning by specifying engine='python'.\n",
      "  pd.read_csv(path, delimiter=r',\\s+')\n",
      "/tmp/ipykernel_868937/987684252.py:12: ParserWarning: Falling back to the 'python' engine because the 'c' engine does not support regex separators (separators > 1 char and different from '\\s+' are interpreted as regex); you can avoid this warning by specifying engine='python'.\n",
      "  pd.read_csv(path, delimiter=r',\\s+')\n"
     ]
    },
    {
     "name": "stdout",
     "output_type": "stream",
     "text": [
      "NALGAE_2011\n"
     ]
    },
    {
     "name": "stderr",
     "output_type": "stream",
     "text": [
      "/home/fred/micromamba/envs/open-gira/lib/python3.10/site-packages/geopandas/geodataframe.py:2061: UserWarning: CRS mismatch between the CRS of left geometries and the CRS of right geometries.\n",
      "Use `to_crs()` to reproject one of the input geometries to match the CRS of the other.\n",
      "\n",
      "Left CRS: EPSG:4326\n",
      "Right CRS: None\n",
      "\n",
      "  return geopandas.sjoin(left_df=self, right_df=df, *args, **kwargs)\n",
      "/tmp/ipykernel_868937/987684252.py:12: ParserWarning: Falling back to the 'python' engine because the 'c' engine does not support regex separators (separators > 1 char and different from '\\s+' are interpreted as regex); you can avoid this warning by specifying engine='python'.\n",
      "  pd.read_csv(path, delimiter=r',\\s+')\n",
      "/tmp/ipykernel_868937/987684252.py:12: ParserWarning: Falling back to the 'python' engine because the 'c' engine does not support regex separators (separators > 1 char and different from '\\s+' are interpreted as regex); you can avoid this warning by specifying engine='python'.\n",
      "  pd.read_csv(path, delimiter=r',\\s+')\n"
     ]
    },
    {
     "name": "stdout",
     "output_type": "stream",
     "text": [
      "JOVA_2011\n"
     ]
    },
    {
     "name": "stderr",
     "output_type": "stream",
     "text": [
      "/home/fred/micromamba/envs/open-gira/lib/python3.10/site-packages/geopandas/geodataframe.py:2061: UserWarning: CRS mismatch between the CRS of left geometries and the CRS of right geometries.\n",
      "Use `to_crs()` to reproject one of the input geometries to match the CRS of the other.\n",
      "\n",
      "Left CRS: EPSG:4326\n",
      "Right CRS: None\n",
      "\n",
      "  return geopandas.sjoin(left_df=self, right_df=df, *args, **kwargs)\n",
      "/tmp/ipykernel_868937/987684252.py:12: ParserWarning: Falling back to the 'python' engine because the 'c' engine does not support regex separators (separators > 1 char and different from '\\s+' are interpreted as regex); you can avoid this warning by specifying engine='python'.\n",
      "  pd.read_csv(path, delimiter=r',\\s+')\n"
     ]
    },
    {
     "name": "stdout",
     "output_type": "stream",
     "text": [
      "RINA_2011\n"
     ]
    },
    {
     "name": "stderr",
     "output_type": "stream",
     "text": [
      "/home/fred/micromamba/envs/open-gira/lib/python3.10/site-packages/geopandas/geodataframe.py:2061: UserWarning: CRS mismatch between the CRS of left geometries and the CRS of right geometries.\n",
      "Use `to_crs()` to reproject one of the input geometries to match the CRS of the other.\n",
      "\n",
      "Left CRS: EPSG:4326\n",
      "Right CRS: None\n",
      "\n",
      "  return geopandas.sjoin(left_df=self, right_df=df, *args, **kwargs)\n",
      "/tmp/ipykernel_868937/987684252.py:12: ParserWarning: Falling back to the 'python' engine because the 'c' engine does not support regex separators (separators > 1 char and different from '\\s+' are interpreted as regex); you can avoid this warning by specifying engine='python'.\n",
      "  pd.read_csv(path, delimiter=r',\\s+')\n"
     ]
    },
    {
     "name": "stdout",
     "output_type": "stream",
     "text": [
      "KEILA_2011\n",
      "KEILA_2011 has 21.0904, skipping plotting...\n"
     ]
    },
    {
     "name": "stderr",
     "output_type": "stream",
     "text": [
      "/home/fred/micromamba/envs/open-gira/lib/python3.10/site-packages/geopandas/geodataframe.py:2061: UserWarning: CRS mismatch between the CRS of left geometries and the CRS of right geometries.\n",
      "Use `to_crs()` to reproject one of the input geometries to match the CRS of the other.\n",
      "\n",
      "Left CRS: EPSG:4326\n",
      "Right CRS: None\n",
      "\n",
      "  return geopandas.sjoin(left_df=self, right_df=df, *args, **kwargs)\n",
      "/tmp/ipykernel_868937/987684252.py:12: ParserWarning: Falling back to the 'python' engine because the 'c' engine does not support regex separators (separators > 1 char and different from '\\s+' are interpreted as regex); you can avoid this warning by specifying engine='python'.\n",
      "  pd.read_csv(path, delimiter=r',\\s+')\n"
     ]
    },
    {
     "name": "stdout",
     "output_type": "stream",
     "text": [
      "WASHI_2011\n",
      "WASHI_2011 has 25.16538112514351, skipping plotting...\n"
     ]
    },
    {
     "name": "stderr",
     "output_type": "stream",
     "text": [
      "/home/fred/micromamba/envs/open-gira/lib/python3.10/site-packages/geopandas/geodataframe.py:2061: UserWarning: CRS mismatch between the CRS of left geometries and the CRS of right geometries.\n",
      "Use `to_crs()` to reproject one of the input geometries to match the CRS of the other.\n",
      "\n",
      "Left CRS: EPSG:4326\n",
      "Right CRS: None\n",
      "\n",
      "  return geopandas.sjoin(left_df=self, right_df=df, *args, **kwargs)\n",
      "/tmp/ipykernel_868937/987684252.py:12: ParserWarning: Falling back to the 'python' engine because the 'c' engine does not support regex separators (separators > 1 char and different from '\\s+' are interpreted as regex); you can avoid this warning by specifying engine='python'.\n",
      "  pd.read_csv(path, delimiter=r',\\s+')\n"
     ]
    },
    {
     "name": "stdout",
     "output_type": "stream",
     "text": [
      "GRANT_2011\n",
      "GRANT_2011 has 30.895175757575757, skipping plotting...\n"
     ]
    },
    {
     "name": "stderr",
     "output_type": "stream",
     "text": [
      "/home/fred/micromamba/envs/open-gira/lib/python3.10/site-packages/geopandas/geodataframe.py:2061: UserWarning: CRS mismatch between the CRS of left geometries and the CRS of right geometries.\n",
      "Use `to_crs()` to reproject one of the input geometries to match the CRS of the other.\n",
      "\n",
      "Left CRS: EPSG:4326\n",
      "Right CRS: None\n",
      "\n",
      "  return geopandas.sjoin(left_df=self, right_df=df, *args, **kwargs)\n",
      "/tmp/ipykernel_868937/987684252.py:12: ParserWarning: Falling back to the 'python' engine because the 'c' engine does not support regex separators (separators > 1 char and different from '\\s+' are interpreted as regex); you can avoid this warning by specifying engine='python'.\n",
      "  pd.read_csv(path, delimiter=r',\\s+')\n"
     ]
    },
    {
     "name": "stdout",
     "output_type": "stream",
     "text": [
      "THANE_2011\n"
     ]
    },
    {
     "name": "stderr",
     "output_type": "stream",
     "text": [
      "/home/fred/micromamba/envs/open-gira/lib/python3.10/site-packages/geopandas/geodataframe.py:2061: UserWarning: CRS mismatch between the CRS of left geometries and the CRS of right geometries.\n",
      "Use `to_crs()` to reproject one of the input geometries to match the CRS of the other.\n",
      "\n",
      "Left CRS: EPSG:4326\n",
      "Right CRS: None\n",
      "\n",
      "  return geopandas.sjoin(left_df=self, right_df=df, *args, **kwargs)\n",
      "/tmp/ipykernel_868937/987684252.py:12: ParserWarning: Falling back to the 'python' engine because the 'c' engine does not support regex separators (separators > 1 char and different from '\\s+' are interpreted as regex); you can avoid this warning by specifying engine='python'.\n",
      "  pd.read_csv(path, delimiter=r',\\s+')\n"
     ]
    },
    {
     "name": "stdout",
     "output_type": "stream",
     "text": [
      "CHANDA_2012\n",
      "CHANDA_2012 has 20.653939393939392, skipping plotting...\n"
     ]
    },
    {
     "name": "stderr",
     "output_type": "stream",
     "text": [
      "/home/fred/micromamba/envs/open-gira/lib/python3.10/site-packages/geopandas/geodataframe.py:2061: UserWarning: CRS mismatch between the CRS of left geometries and the CRS of right geometries.\n",
      "Use `to_crs()` to reproject one of the input geometries to match the CRS of the other.\n",
      "\n",
      "Left CRS: EPSG:4326\n",
      "Right CRS: None\n",
      "\n",
      "  return geopandas.sjoin(left_df=self, right_df=df, *args, **kwargs)\n",
      "/tmp/ipykernel_868937/987684252.py:12: ParserWarning: Falling back to the 'python' engine because the 'c' engine does not support regex separators (separators > 1 char and different from '\\s+' are interpreted as regex); you can avoid this warning by specifying engine='python'.\n",
      "  pd.read_csv(path, delimiter=r',\\s+')\n"
     ]
    },
    {
     "name": "stdout",
     "output_type": "stream",
     "text": [
      "HEIDI_2012\n"
     ]
    },
    {
     "name": "stderr",
     "output_type": "stream",
     "text": [
      "/home/fred/micromamba/envs/open-gira/lib/python3.10/site-packages/geopandas/geodataframe.py:2061: UserWarning: CRS mismatch between the CRS of left geometries and the CRS of right geometries.\n",
      "Use `to_crs()` to reproject one of the input geometries to match the CRS of the other.\n",
      "\n",
      "Left CRS: EPSG:4326\n",
      "Right CRS: None\n",
      "\n",
      "  return geopandas.sjoin(left_df=self, right_df=df, *args, **kwargs)\n",
      "/tmp/ipykernel_868937/987684252.py:12: ParserWarning: Falling back to the 'python' engine because the 'c' engine does not support regex separators (separators > 1 char and different from '\\s+' are interpreted as regex); you can avoid this warning by specifying engine='python'.\n",
      "  pd.read_csv(path, delimiter=r',\\s+')\n"
     ]
    },
    {
     "name": "stdout",
     "output_type": "stream",
     "text": [
      "DANDO_2012\n",
      "DANDO_2012 has 24.726272727272722, skipping plotting...\n"
     ]
    },
    {
     "name": "stderr",
     "output_type": "stream",
     "text": [
      "/home/fred/micromamba/envs/open-gira/lib/python3.10/site-packages/geopandas/geodataframe.py:2061: UserWarning: CRS mismatch between the CRS of left geometries and the CRS of right geometries.\n",
      "Use `to_crs()` to reproject one of the input geometries to match the CRS of the other.\n",
      "\n",
      "Left CRS: EPSG:4326\n",
      "Right CRS: None\n",
      "\n",
      "  return geopandas.sjoin(left_df=self, right_df=df, *args, **kwargs)\n",
      "/tmp/ipykernel_868937/987684252.py:12: ParserWarning: Falling back to the 'python' engine because the 'c' engine does not support regex separators (separators > 1 char and different from '\\s+' are interpreted as regex); you can avoid this warning by specifying engine='python'.\n",
      "  pd.read_csv(path, delimiter=r',\\s+')\n"
     ]
    },
    {
     "name": "stdout",
     "output_type": "stream",
     "text": [
      "FUNSO_2012\n"
     ]
    },
    {
     "name": "stderr",
     "output_type": "stream",
     "text": [
      "/home/fred/micromamba/envs/open-gira/lib/python3.10/site-packages/geopandas/geodataframe.py:2061: UserWarning: CRS mismatch between the CRS of left geometries and the CRS of right geometries.\n",
      "Use `to_crs()` to reproject one of the input geometries to match the CRS of the other.\n",
      "\n",
      "Left CRS: EPSG:4326\n",
      "Right CRS: None\n",
      "\n",
      "  return geopandas.sjoin(left_df=self, right_df=df, *args, **kwargs)\n",
      "/tmp/ipykernel_868937/987684252.py:12: ParserWarning: Falling back to the 'python' engine because the 'c' engine does not support regex separators (separators > 1 char and different from '\\s+' are interpreted as regex); you can avoid this warning by specifying engine='python'.\n",
      "  pd.read_csv(path, delimiter=r',\\s+')\n"
     ]
    },
    {
     "name": "stdout",
     "output_type": "stream",
     "text": [
      "IRINA_2012\n",
      "IRINA_2012 has 30.33790909090909, skipping plotting...\n"
     ]
    },
    {
     "name": "stderr",
     "output_type": "stream",
     "text": [
      "/home/fred/micromamba/envs/open-gira/lib/python3.10/site-packages/geopandas/geodataframe.py:2061: UserWarning: CRS mismatch between the CRS of left geometries and the CRS of right geometries.\n",
      "Use `to_crs()` to reproject one of the input geometries to match the CRS of the other.\n",
      "\n",
      "Left CRS: EPSG:4326\n",
      "Right CRS: None\n",
      "\n",
      "  return geopandas.sjoin(left_df=self, right_df=df, *args, **kwargs)\n",
      "/tmp/ipykernel_868937/987684252.py:12: ParserWarning: Falling back to the 'python' engine because the 'c' engine does not support regex separators (separators > 1 char and different from '\\s+' are interpreted as regex); you can avoid this warning by specifying engine='python'.\n",
      "  pd.read_csv(path, delimiter=r',\\s+')\n"
     ]
    },
    {
     "name": "stdout",
     "output_type": "stream",
     "text": [
      "LUA_2012\n"
     ]
    },
    {
     "name": "stderr",
     "output_type": "stream",
     "text": [
      "/home/fred/micromamba/envs/open-gira/lib/python3.10/site-packages/geopandas/geodataframe.py:2061: UserWarning: CRS mismatch between the CRS of left geometries and the CRS of right geometries.\n",
      "Use `to_crs()` to reproject one of the input geometries to match the CRS of the other.\n",
      "\n",
      "Left CRS: EPSG:4326\n",
      "Right CRS: None\n",
      "\n",
      "  return geopandas.sjoin(left_df=self, right_df=df, *args, **kwargs)\n",
      "/tmp/ipykernel_868937/987684252.py:12: ParserWarning: Falling back to the 'python' engine because the 'c' engine does not support regex separators (separators > 1 char and different from '\\s+' are interpreted as regex); you can avoid this warning by specifying engine='python'.\n",
      "  pd.read_csv(path, delimiter=r',\\s+')\n",
      "/tmp/ipykernel_868937/987684252.py:12: ParserWarning: Falling back to the 'python' engine because the 'c' engine does not support regex separators (separators > 1 char and different from '\\s+' are interpreted as regex); you can avoid this warning by specifying engine='python'.\n",
      "  pd.read_csv(path, delimiter=r',\\s+')\n"
     ]
    },
    {
     "name": "stdout",
     "output_type": "stream",
     "text": [
      "BUD_2012\n"
     ]
    },
    {
     "name": "stderr",
     "output_type": "stream",
     "text": [
      "/home/fred/micromamba/envs/open-gira/lib/python3.10/site-packages/geopandas/geodataframe.py:2061: UserWarning: CRS mismatch between the CRS of left geometries and the CRS of right geometries.\n",
      "Use `to_crs()` to reproject one of the input geometries to match the CRS of the other.\n",
      "\n",
      "Left CRS: EPSG:4326\n",
      "Right CRS: None\n",
      "\n",
      "  return geopandas.sjoin(left_df=self, right_df=df, *args, **kwargs)\n",
      "/tmp/ipykernel_868937/987684252.py:12: ParserWarning: Falling back to the 'python' engine because the 'c' engine does not support regex separators (separators > 1 char and different from '\\s+' are interpreted as regex); you can avoid this warning by specifying engine='python'.\n",
      "  pd.read_csv(path, delimiter=r',\\s+')\n",
      "/tmp/ipykernel_868937/987684252.py:12: ParserWarning: Falling back to the 'python' engine because the 'c' engine does not support regex separators (separators > 1 char and different from '\\s+' are interpreted as regex); you can avoid this warning by specifying engine='python'.\n",
      "  pd.read_csv(path, delimiter=r',\\s+')\n"
     ]
    },
    {
     "name": "stdout",
     "output_type": "stream",
     "text": [
      "BERYL_2012\n",
      "BERYL_2012 has 30.863999999999997, skipping plotting...\n"
     ]
    },
    {
     "name": "stderr",
     "output_type": "stream",
     "text": [
      "/home/fred/micromamba/envs/open-gira/lib/python3.10/site-packages/geopandas/geodataframe.py:2061: UserWarning: CRS mismatch between the CRS of left geometries and the CRS of right geometries.\n",
      "Use `to_crs()` to reproject one of the input geometries to match the CRS of the other.\n",
      "\n",
      "Left CRS: EPSG:4326\n",
      "Right CRS: None\n",
      "\n",
      "  return geopandas.sjoin(left_df=self, right_df=df, *args, **kwargs)\n",
      "/tmp/ipykernel_868937/987684252.py:12: ParserWarning: Falling back to the 'python' engine because the 'c' engine does not support regex separators (separators > 1 char and different from '\\s+' are interpreted as regex); you can avoid this warning by specifying engine='python'.\n",
      "  pd.read_csv(path, delimiter=r',\\s+')\n"
     ]
    },
    {
     "name": "stdout",
     "output_type": "stream",
     "text": [
      "GUCHOL_2012\n"
     ]
    },
    {
     "name": "stderr",
     "output_type": "stream",
     "text": [
      "/home/fred/micromamba/envs/open-gira/lib/python3.10/site-packages/geopandas/geodataframe.py:2061: UserWarning: CRS mismatch between the CRS of left geometries and the CRS of right geometries.\n",
      "Use `to_crs()` to reproject one of the input geometries to match the CRS of the other.\n",
      "\n",
      "Left CRS: EPSG:4326\n",
      "Right CRS: None\n",
      "\n",
      "  return geopandas.sjoin(left_df=self, right_df=df, *args, **kwargs)\n",
      "/tmp/ipykernel_868937/987684252.py:12: ParserWarning: Falling back to the 'python' engine because the 'c' engine does not support regex separators (separators > 1 char and different from '\\s+' are interpreted as regex); you can avoid this warning by specifying engine='python'.\n",
      "  pd.read_csv(path, delimiter=r',\\s+')\n",
      "/tmp/ipykernel_868937/987684252.py:12: ParserWarning: Falling back to the 'python' engine because the 'c' engine does not support regex separators (separators > 1 char and different from '\\s+' are interpreted as regex); you can avoid this warning by specifying engine='python'.\n",
      "  pd.read_csv(path, delimiter=r',\\s+')\n",
      "/tmp/ipykernel_868937/987684252.py:12: ParserWarning: Falling back to the 'python' engine because the 'c' engine does not support regex separators (separators > 1 char and different from '\\s+' are interpreted as regex); you can avoid this warning by specifying engine='python'.\n",
      "  pd.read_csv(path, delimiter=r',\\s+')\n"
     ]
    },
    {
     "name": "stdout",
     "output_type": "stream",
     "text": [
      "CARLOTTA_2012\n"
     ]
    },
    {
     "name": "stderr",
     "output_type": "stream",
     "text": [
      "/home/fred/micromamba/envs/open-gira/lib/python3.10/site-packages/geopandas/geodataframe.py:2061: UserWarning: CRS mismatch between the CRS of left geometries and the CRS of right geometries.\n",
      "Use `to_crs()` to reproject one of the input geometries to match the CRS of the other.\n",
      "\n",
      "Left CRS: EPSG:4326\n",
      "Right CRS: None\n",
      "\n",
      "  return geopandas.sjoin(left_df=self, right_df=df, *args, **kwargs)\n",
      "/tmp/ipykernel_868937/987684252.py:12: ParserWarning: Falling back to the 'python' engine because the 'c' engine does not support regex separators (separators > 1 char and different from '\\s+' are interpreted as regex); you can avoid this warning by specifying engine='python'.\n",
      "  pd.read_csv(path, delimiter=r',\\s+')\n",
      "/tmp/ipykernel_868937/987684252.py:12: ParserWarning: Falling back to the 'python' engine because the 'c' engine does not support regex separators (separators > 1 char and different from '\\s+' are interpreted as regex); you can avoid this warning by specifying engine='python'.\n",
      "  pd.read_csv(path, delimiter=r',\\s+')\n"
     ]
    },
    {
     "name": "stdout",
     "output_type": "stream",
     "text": [
      "TALIM_2012\n",
      "TALIM_2012 has 26.251336680699065, skipping plotting...\n"
     ]
    },
    {
     "name": "stderr",
     "output_type": "stream",
     "text": [
      "/home/fred/micromamba/envs/open-gira/lib/python3.10/site-packages/geopandas/geodataframe.py:2061: UserWarning: CRS mismatch between the CRS of left geometries and the CRS of right geometries.\n",
      "Use `to_crs()` to reproject one of the input geometries to match the CRS of the other.\n",
      "\n",
      "Left CRS: EPSG:4326\n",
      "Right CRS: None\n",
      "\n",
      "  return geopandas.sjoin(left_df=self, right_df=df, *args, **kwargs)\n",
      "/tmp/ipykernel_868937/987684252.py:12: ParserWarning: Falling back to the 'python' engine because the 'c' engine does not support regex separators (separators > 1 char and different from '\\s+' are interpreted as regex); you can avoid this warning by specifying engine='python'.\n",
      "  pd.read_csv(path, delimiter=r',\\s+')\n",
      "/tmp/ipykernel_868937/987684252.py:12: ParserWarning: Falling back to the 'python' engine because the 'c' engine does not support regex separators (separators > 1 char and different from '\\s+' are interpreted as regex); you can avoid this warning by specifying engine='python'.\n",
      "  pd.read_csv(path, delimiter=r',\\s+')\n"
     ]
    },
    {
     "name": "stdout",
     "output_type": "stream",
     "text": [
      "DEBBY_2012\n",
      "DEBBY_2012 has 28.291999999999998, skipping plotting...\n"
     ]
    },
    {
     "name": "stderr",
     "output_type": "stream",
     "text": [
      "/home/fred/micromamba/envs/open-gira/lib/python3.10/site-packages/geopandas/geodataframe.py:2061: UserWarning: CRS mismatch between the CRS of left geometries and the CRS of right geometries.\n",
      "Use `to_crs()` to reproject one of the input geometries to match the CRS of the other.\n",
      "\n",
      "Left CRS: EPSG:4326\n",
      "Right CRS: None\n",
      "\n",
      "  return geopandas.sjoin(left_df=self, right_df=df, *args, **kwargs)\n",
      "/tmp/ipykernel_868937/987684252.py:12: ParserWarning: Falling back to the 'python' engine because the 'c' engine does not support regex separators (separators > 1 char and different from '\\s+' are interpreted as regex); you can avoid this warning by specifying engine='python'.\n",
      "  pd.read_csv(path, delimiter=r',\\s+')\n"
     ]
    },
    {
     "name": "stdout",
     "output_type": "stream",
     "text": [
      "DOKSURI_2012\n",
      "DOKSURI_2012 has 21.64980753922694, skipping plotting...\n"
     ]
    },
    {
     "name": "stderr",
     "output_type": "stream",
     "text": [
      "/home/fred/micromamba/envs/open-gira/lib/python3.10/site-packages/geopandas/geodataframe.py:2061: UserWarning: CRS mismatch between the CRS of left geometries and the CRS of right geometries.\n",
      "Use `to_crs()` to reproject one of the input geometries to match the CRS of the other.\n",
      "\n",
      "Left CRS: EPSG:4326\n",
      "Right CRS: None\n",
      "\n",
      "  return geopandas.sjoin(left_df=self, right_df=df, *args, **kwargs)\n",
      "/tmp/ipykernel_868937/987684252.py:12: ParserWarning: Falling back to the 'python' engine because the 'c' engine does not support regex separators (separators > 1 char and different from '\\s+' are interpreted as regex); you can avoid this warning by specifying engine='python'.\n",
      "  pd.read_csv(path, delimiter=r',\\s+')\n"
     ]
    },
    {
     "name": "stdout",
     "output_type": "stream",
     "text": [
      "KHANUN_2012\n",
      "KHANUN_2012 has 26.765736680699064, skipping plotting...\n"
     ]
    },
    {
     "name": "stderr",
     "output_type": "stream",
     "text": [
      "/home/fred/micromamba/envs/open-gira/lib/python3.10/site-packages/geopandas/geodataframe.py:2061: UserWarning: CRS mismatch between the CRS of left geometries and the CRS of right geometries.\n",
      "Use `to_crs()` to reproject one of the input geometries to match the CRS of the other.\n",
      "\n",
      "Left CRS: EPSG:4326\n",
      "Right CRS: None\n",
      "\n",
      "  return geopandas.sjoin(left_df=self, right_df=df, *args, **kwargs)\n",
      "/tmp/ipykernel_868937/987684252.py:12: ParserWarning: Falling back to the 'python' engine because the 'c' engine does not support regex separators (separators > 1 char and different from '\\s+' are interpreted as regex); you can avoid this warning by specifying engine='python'.\n",
      "  pd.read_csv(path, delimiter=r',\\s+')\n"
     ]
    },
    {
     "name": "stdout",
     "output_type": "stream",
     "text": [
      "VICENTE_2012\n"
     ]
    },
    {
     "name": "stderr",
     "output_type": "stream",
     "text": [
      "/home/fred/micromamba/envs/open-gira/lib/python3.10/site-packages/geopandas/geodataframe.py:2061: UserWarning: CRS mismatch between the CRS of left geometries and the CRS of right geometries.\n",
      "Use `to_crs()` to reproject one of the input geometries to match the CRS of the other.\n",
      "\n",
      "Left CRS: EPSG:4326\n",
      "Right CRS: None\n",
      "\n",
      "  return geopandas.sjoin(left_df=self, right_df=df, *args, **kwargs)\n",
      "/tmp/ipykernel_868937/987684252.py:12: ParserWarning: Falling back to the 'python' engine because the 'c' engine does not support regex separators (separators > 1 char and different from '\\s+' are interpreted as regex); you can avoid this warning by specifying engine='python'.\n",
      "  pd.read_csv(path, delimiter=r',\\s+')\n"
     ]
    },
    {
     "name": "stdout",
     "output_type": "stream",
     "text": [
      "SAOLA_2012\n"
     ]
    },
    {
     "name": "stderr",
     "output_type": "stream",
     "text": [
      "/home/fred/micromamba/envs/open-gira/lib/python3.10/site-packages/geopandas/geodataframe.py:2061: UserWarning: CRS mismatch between the CRS of left geometries and the CRS of right geometries.\n",
      "Use `to_crs()` to reproject one of the input geometries to match the CRS of the other.\n",
      "\n",
      "Left CRS: EPSG:4326\n",
      "Right CRS: None\n",
      "\n",
      "  return geopandas.sjoin(left_df=self, right_df=df, *args, **kwargs)\n",
      "/tmp/ipykernel_868937/987684252.py:12: ParserWarning: Falling back to the 'python' engine because the 'c' engine does not support regex separators (separators > 1 char and different from '\\s+' are interpreted as regex); you can avoid this warning by specifying engine='python'.\n",
      "  pd.read_csv(path, delimiter=r',\\s+')\n"
     ]
    },
    {
     "name": "stdout",
     "output_type": "stream",
     "text": [
      "DAMREY_2012\n"
     ]
    },
    {
     "name": "stderr",
     "output_type": "stream",
     "text": [
      "/home/fred/micromamba/envs/open-gira/lib/python3.10/site-packages/geopandas/geodataframe.py:2061: UserWarning: CRS mismatch between the CRS of left geometries and the CRS of right geometries.\n",
      "Use `to_crs()` to reproject one of the input geometries to match the CRS of the other.\n",
      "\n",
      "Left CRS: EPSG:4326\n",
      "Right CRS: None\n",
      "\n",
      "  return geopandas.sjoin(left_df=self, right_df=df, *args, **kwargs)\n",
      "/tmp/ipykernel_868937/987684252.py:12: ParserWarning: Falling back to the 'python' engine because the 'c' engine does not support regex separators (separators > 1 char and different from '\\s+' are interpreted as regex); you can avoid this warning by specifying engine='python'.\n",
      "  pd.read_csv(path, delimiter=r',\\s+')\n"
     ]
    },
    {
     "name": "stdout",
     "output_type": "stream",
     "text": [
      "ERNESTO_2012\n"
     ]
    },
    {
     "name": "stderr",
     "output_type": "stream",
     "text": [
      "/home/fred/micromamba/envs/open-gira/lib/python3.10/site-packages/geopandas/geodataframe.py:2061: UserWarning: CRS mismatch between the CRS of left geometries and the CRS of right geometries.\n",
      "Use `to_crs()` to reproject one of the input geometries to match the CRS of the other.\n",
      "\n",
      "Left CRS: EPSG:4326\n",
      "Right CRS: None\n",
      "\n",
      "  return geopandas.sjoin(left_df=self, right_df=df, *args, **kwargs)\n",
      "/tmp/ipykernel_868937/987684252.py:12: ParserWarning: Falling back to the 'python' engine because the 'c' engine does not support regex separators (separators > 1 char and different from '\\s+' are interpreted as regex); you can avoid this warning by specifying engine='python'.\n",
      "  pd.read_csv(path, delimiter=r',\\s+')\n"
     ]
    },
    {
     "name": "stdout",
     "output_type": "stream",
     "text": [
      "HAIKUI_2012\n"
     ]
    },
    {
     "name": "stderr",
     "output_type": "stream",
     "text": [
      "/home/fred/micromamba/envs/open-gira/lib/python3.10/site-packages/geopandas/geodataframe.py:2061: UserWarning: CRS mismatch between the CRS of left geometries and the CRS of right geometries.\n",
      "Use `to_crs()` to reproject one of the input geometries to match the CRS of the other.\n",
      "\n",
      "Left CRS: EPSG:4326\n",
      "Right CRS: None\n",
      "\n",
      "  return geopandas.sjoin(left_df=self, right_df=df, *args, **kwargs)\n",
      "/tmp/ipykernel_868937/987684252.py:12: ParserWarning: Falling back to the 'python' engine because the 'c' engine does not support regex separators (separators > 1 char and different from '\\s+' are interpreted as regex); you can avoid this warning by specifying engine='python'.\n",
      "  pd.read_csv(path, delimiter=r',\\s+')\n",
      "/tmp/ipykernel_868937/987684252.py:12: ParserWarning: Falling back to the 'python' engine because the 'c' engine does not support regex separators (separators > 1 char and different from '\\s+' are interpreted as regex); you can avoid this warning by specifying engine='python'.\n",
      "  pd.read_csv(path, delimiter=r',\\s+')\n"
     ]
    },
    {
     "name": "stdout",
     "output_type": "stream",
     "text": [
      "HELENE_2012\n",
      "HELENE_2012 has 20.576, skipping plotting...\n"
     ]
    },
    {
     "name": "stderr",
     "output_type": "stream",
     "text": [
      "/home/fred/micromamba/envs/open-gira/lib/python3.10/site-packages/geopandas/geodataframe.py:2061: UserWarning: CRS mismatch between the CRS of left geometries and the CRS of right geometries.\n",
      "Use `to_crs()` to reproject one of the input geometries to match the CRS of the other.\n",
      "\n",
      "Left CRS: EPSG:4326\n",
      "Right CRS: None\n",
      "\n",
      "  return geopandas.sjoin(left_df=self, right_df=df, *args, **kwargs)\n",
      "/tmp/ipykernel_868937/987684252.py:12: ParserWarning: Falling back to the 'python' engine because the 'c' engine does not support regex separators (separators > 1 char and different from '\\s+' are interpreted as regex); you can avoid this warning by specifying engine='python'.\n",
      "  pd.read_csv(path, delimiter=r',\\s+')\n",
      "/tmp/ipykernel_868937/987684252.py:12: ParserWarning: Falling back to the 'python' engine because the 'c' engine does not support regex separators (separators > 1 char and different from '\\s+' are interpreted as regex); you can avoid this warning by specifying engine='python'.\n",
      "  pd.read_csv(path, delimiter=r',\\s+')\n"
     ]
    },
    {
     "name": "stdout",
     "output_type": "stream",
     "text": [
      "KAI-TAK_2012\n",
      "KAI-TAK_2012 has 36.91972462048731, skipping plotting...\n"
     ]
    },
    {
     "name": "stderr",
     "output_type": "stream",
     "text": [
      "/home/fred/micromamba/envs/open-gira/lib/python3.10/site-packages/geopandas/geodataframe.py:2061: UserWarning: CRS mismatch between the CRS of left geometries and the CRS of right geometries.\n",
      "Use `to_crs()` to reproject one of the input geometries to match the CRS of the other.\n",
      "\n",
      "Left CRS: EPSG:4326\n",
      "Right CRS: None\n",
      "\n",
      "  return geopandas.sjoin(left_df=self, right_df=df, *args, **kwargs)\n",
      "/tmp/ipykernel_868937/987684252.py:12: ParserWarning: Falling back to the 'python' engine because the 'c' engine does not support regex separators (separators > 1 char and different from '\\s+' are interpreted as regex); you can avoid this warning by specifying engine='python'.\n",
      "  pd.read_csv(path, delimiter=r',\\s+')\n"
     ]
    },
    {
     "name": "stdout",
     "output_type": "stream",
     "text": [
      "TEMBIN_2012\n"
     ]
    },
    {
     "name": "stderr",
     "output_type": "stream",
     "text": [
      "/home/fred/micromamba/envs/open-gira/lib/python3.10/site-packages/geopandas/geodataframe.py:2061: UserWarning: CRS mismatch between the CRS of left geometries and the CRS of right geometries.\n",
      "Use `to_crs()` to reproject one of the input geometries to match the CRS of the other.\n",
      "\n",
      "Left CRS: EPSG:4326\n",
      "Right CRS: None\n",
      "\n",
      "  return geopandas.sjoin(left_df=self, right_df=df, *args, **kwargs)\n",
      "/tmp/ipykernel_868937/987684252.py:12: ParserWarning: Falling back to the 'python' engine because the 'c' engine does not support regex separators (separators > 1 char and different from '\\s+' are interpreted as regex); you can avoid this warning by specifying engine='python'.\n",
      "  pd.read_csv(path, delimiter=r',\\s+')\n",
      "/tmp/ipykernel_868937/987684252.py:12: ParserWarning: Falling back to the 'python' engine because the 'c' engine does not support regex separators (separators > 1 char and different from '\\s+' are interpreted as regex); you can avoid this warning by specifying engine='python'.\n",
      "  pd.read_csv(path, delimiter=r',\\s+')\n"
     ]
    },
    {
     "name": "stdout",
     "output_type": "stream",
     "text": [
      "ISAAC_2012\n",
      "ISAAC_2012 has 36.007999999999996, skipping plotting...\n"
     ]
    },
    {
     "name": "stderr",
     "output_type": "stream",
     "text": [
      "/home/fred/micromamba/envs/open-gira/lib/python3.10/site-packages/geopandas/geodataframe.py:2061: UserWarning: CRS mismatch between the CRS of left geometries and the CRS of right geometries.\n",
      "Use `to_crs()` to reproject one of the input geometries to match the CRS of the other.\n",
      "\n",
      "Left CRS: EPSG:4326\n",
      "Right CRS: None\n",
      "\n",
      "  return geopandas.sjoin(left_df=self, right_df=df, *args, **kwargs)\n",
      "/tmp/ipykernel_868937/987684252.py:12: ParserWarning: Falling back to the 'python' engine because the 'c' engine does not support regex separators (separators > 1 char and different from '\\s+' are interpreted as regex); you can avoid this warning by specifying engine='python'.\n",
      "  pd.read_csv(path, delimiter=r',\\s+')\n"
     ]
    },
    {
     "name": "stdout",
     "output_type": "stream",
     "text": [
      "SANBA_2012\n"
     ]
    },
    {
     "name": "stderr",
     "output_type": "stream",
     "text": [
      "/home/fred/micromamba/envs/open-gira/lib/python3.10/site-packages/geopandas/geodataframe.py:2061: UserWarning: CRS mismatch between the CRS of left geometries and the CRS of right geometries.\n",
      "Use `to_crs()` to reproject one of the input geometries to match the CRS of the other.\n",
      "\n",
      "Left CRS: EPSG:4326\n",
      "Right CRS: None\n",
      "\n",
      "  return geopandas.sjoin(left_df=self, right_df=df, *args, **kwargs)\n",
      "/tmp/ipykernel_868937/987684252.py:12: ParserWarning: Falling back to the 'python' engine because the 'c' engine does not support regex separators (separators > 1 char and different from '\\s+' are interpreted as regex); you can avoid this warning by specifying engine='python'.\n",
      "  pd.read_csv(path, delimiter=r',\\s+')\n"
     ]
    },
    {
     "name": "stdout",
     "output_type": "stream",
     "text": [
      "JELAWAT_2012\n"
     ]
    },
    {
     "name": "stderr",
     "output_type": "stream",
     "text": [
      "/home/fred/micromamba/envs/open-gira/lib/python3.10/site-packages/geopandas/geodataframe.py:2061: UserWarning: CRS mismatch between the CRS of left geometries and the CRS of right geometries.\n",
      "Use `to_crs()` to reproject one of the input geometries to match the CRS of the other.\n",
      "\n",
      "Left CRS: EPSG:4326\n",
      "Right CRS: None\n",
      "\n",
      "  return geopandas.sjoin(left_df=self, right_df=df, *args, **kwargs)\n",
      "/tmp/ipykernel_868937/987684252.py:12: ParserWarning: Falling back to the 'python' engine because the 'c' engine does not support regex separators (separators > 1 char and different from '\\s+' are interpreted as regex); you can avoid this warning by specifying engine='python'.\n",
      "  pd.read_csv(path, delimiter=r',\\s+')\n"
     ]
    },
    {
     "name": "stdout",
     "output_type": "stream",
     "text": [
      "NORMAN_2012\n",
      "NORMAN_2012 has 23.148, skipping plotting...\n"
     ]
    },
    {
     "name": "stderr",
     "output_type": "stream",
     "text": [
      "/home/fred/micromamba/envs/open-gira/lib/python3.10/site-packages/geopandas/geodataframe.py:2061: UserWarning: CRS mismatch between the CRS of left geometries and the CRS of right geometries.\n",
      "Use `to_crs()` to reproject one of the input geometries to match the CRS of the other.\n",
      "\n",
      "Left CRS: EPSG:4326\n",
      "Right CRS: None\n",
      "\n",
      "  return geopandas.sjoin(left_df=self, right_df=df, *args, **kwargs)\n",
      "/tmp/ipykernel_868937/987684252.py:12: ParserWarning: Falling back to the 'python' engine because the 'c' engine does not support regex separators (separators > 1 char and different from '\\s+' are interpreted as regex); you can avoid this warning by specifying engine='python'.\n",
      "  pd.read_csv(path, delimiter=r',\\s+')\n"
     ]
    },
    {
     "name": "stdout",
     "output_type": "stream",
     "text": [
      "couldn't calculate the error or ratio for GAEMI_2012, skipping...\n"
     ]
    },
    {
     "name": "stderr",
     "output_type": "stream",
     "text": [
      "/tmp/ipykernel_868937/987684252.py:12: ParserWarning: Falling back to the 'python' engine because the 'c' engine does not support regex separators (separators > 1 char and different from '\\s+' are interpreted as regex); you can avoid this warning by specifying engine='python'.\n",
      "  pd.read_csv(path, delimiter=r',\\s+')\n"
     ]
    },
    {
     "name": "stdout",
     "output_type": "stream",
     "text": [
      "PAUL_2012\n"
     ]
    },
    {
     "name": "stderr",
     "output_type": "stream",
     "text": [
      "/home/fred/micromamba/envs/open-gira/lib/python3.10/site-packages/geopandas/geodataframe.py:2061: UserWarning: CRS mismatch between the CRS of left geometries and the CRS of right geometries.\n",
      "Use `to_crs()` to reproject one of the input geometries to match the CRS of the other.\n",
      "\n",
      "Left CRS: EPSG:4326\n",
      "Right CRS: None\n",
      "\n",
      "  return geopandas.sjoin(left_df=self, right_df=df, *args, **kwargs)\n",
      "/tmp/ipykernel_868937/987684252.py:12: ParserWarning: Falling back to the 'python' engine because the 'c' engine does not support regex separators (separators > 1 char and different from '\\s+' are interpreted as regex); you can avoid this warning by specifying engine='python'.\n",
      "  pd.read_csv(path, delimiter=r',\\s+')\n",
      "/tmp/ipykernel_868937/987684252.py:12: ParserWarning: Falling back to the 'python' engine because the 'c' engine does not support regex separators (separators > 1 char and different from '\\s+' are interpreted as regex); you can avoid this warning by specifying engine='python'.\n",
      "  pd.read_csv(path, delimiter=r',\\s+')\n"
     ]
    },
    {
     "name": "stdout",
     "output_type": "stream",
     "text": [
      "SON-TINH_2012\n"
     ]
    },
    {
     "name": "stderr",
     "output_type": "stream",
     "text": [
      "/home/fred/micromamba/envs/open-gira/lib/python3.10/site-packages/geopandas/geodataframe.py:2061: UserWarning: CRS mismatch between the CRS of left geometries and the CRS of right geometries.\n",
      "Use `to_crs()` to reproject one of the input geometries to match the CRS of the other.\n",
      "\n",
      "Left CRS: EPSG:4326\n",
      "Right CRS: None\n",
      "\n",
      "  return geopandas.sjoin(left_df=self, right_df=df, *args, **kwargs)\n",
      "/tmp/ipykernel_868937/987684252.py:12: ParserWarning: Falling back to the 'python' engine because the 'c' engine does not support regex separators (separators > 1 char and different from '\\s+' are interpreted as regex); you can avoid this warning by specifying engine='python'.\n",
      "  pd.read_csv(path, delimiter=r',\\s+')\n",
      "/tmp/ipykernel_868937/987684252.py:12: ParserWarning: Falling back to the 'python' engine because the 'c' engine does not support regex separators (separators > 1 char and different from '\\s+' are interpreted as regex); you can avoid this warning by specifying engine='python'.\n",
      "  pd.read_csv(path, delimiter=r',\\s+')\n"
     ]
    },
    {
     "name": "stdout",
     "output_type": "stream",
     "text": [
      "SANDY_2012\n"
     ]
    },
    {
     "name": "stderr",
     "output_type": "stream",
     "text": [
      "/home/fred/micromamba/envs/open-gira/lib/python3.10/site-packages/geopandas/geodataframe.py:2061: UserWarning: CRS mismatch between the CRS of left geometries and the CRS of right geometries.\n",
      "Use `to_crs()` to reproject one of the input geometries to match the CRS of the other.\n",
      "\n",
      "Left CRS: EPSG:4326\n",
      "Right CRS: None\n",
      "\n",
      "  return geopandas.sjoin(left_df=self, right_df=df, *args, **kwargs)\n",
      "/tmp/ipykernel_868937/987684252.py:12: ParserWarning: Falling back to the 'python' engine because the 'c' engine does not support regex separators (separators > 1 char and different from '\\s+' are interpreted as regex); you can avoid this warning by specifying engine='python'.\n",
      "  pd.read_csv(path, delimiter=r',\\s+')\n"
     ]
    },
    {
     "name": "stdout",
     "output_type": "stream",
     "text": [
      "NILAM_2012\n",
      "NILAM_2012 has 24.00533333333333, skipping plotting...\n"
     ]
    },
    {
     "name": "stderr",
     "output_type": "stream",
     "text": [
      "/home/fred/micromamba/envs/open-gira/lib/python3.10/site-packages/geopandas/geodataframe.py:2061: UserWarning: CRS mismatch between the CRS of left geometries and the CRS of right geometries.\n",
      "Use `to_crs()` to reproject one of the input geometries to match the CRS of the other.\n",
      "\n",
      "Left CRS: EPSG:4326\n",
      "Right CRS: None\n",
      "\n",
      "  return geopandas.sjoin(left_df=self, right_df=df, *args, **kwargs)\n",
      "/tmp/ipykernel_868937/987684252.py:12: ParserWarning: Falling back to the 'python' engine because the 'c' engine does not support regex separators (separators > 1 char and different from '\\s+' are interpreted as regex); you can avoid this warning by specifying engine='python'.\n",
      "  pd.read_csv(path, delimiter=r',\\s+')\n"
     ]
    },
    {
     "name": "stdout",
     "output_type": "stream",
     "text": [
      "couldn't calculate the error or ratio for SONAMU_2013, skipping...\n"
     ]
    },
    {
     "name": "stderr",
     "output_type": "stream",
     "text": [
      "/tmp/ipykernel_868937/987684252.py:12: ParserWarning: Falling back to the 'python' engine because the 'c' engine does not support regex separators (separators > 1 char and different from '\\s+' are interpreted as regex); you can avoid this warning by specifying engine='python'.\n",
      "  pd.read_csv(path, delimiter=r',\\s+')\n",
      "/tmp/ipykernel_868937/987684252.py:12: ParserWarning: Falling back to the 'python' engine because the 'c' engine does not support regex separators (separators > 1 char and different from '\\s+' are interpreted as regex); you can avoid this warning by specifying engine='python'.\n",
      "  pd.read_csv(path, delimiter=r',\\s+')\n"
     ]
    },
    {
     "name": "stdout",
     "output_type": "stream",
     "text": [
      "OSWALD_2013\n",
      "OSWALD_2013 has 21.031945454545454, skipping plotting...\n"
     ]
    },
    {
     "name": "stderr",
     "output_type": "stream",
     "text": [
      "/home/fred/micromamba/envs/open-gira/lib/python3.10/site-packages/geopandas/geodataframe.py:2061: UserWarning: CRS mismatch between the CRS of left geometries and the CRS of right geometries.\n",
      "Use `to_crs()` to reproject one of the input geometries to match the CRS of the other.\n",
      "\n",
      "Left CRS: EPSG:4326\n",
      "Right CRS: None\n",
      "\n",
      "  return geopandas.sjoin(left_df=self, right_df=df, *args, **kwargs)\n",
      "/tmp/ipykernel_868937/987684252.py:12: ParserWarning: Falling back to the 'python' engine because the 'c' engine does not support regex separators (separators > 1 char and different from '\\s+' are interpreted as regex); you can avoid this warning by specifying engine='python'.\n",
      "  pd.read_csv(path, delimiter=r',\\s+')\n"
     ]
    },
    {
     "name": "stdout",
     "output_type": "stream",
     "text": [
      "PETA_2013\n",
      "PETA_2013 has 22.48551515151515, skipping plotting...\n"
     ]
    },
    {
     "name": "stderr",
     "output_type": "stream",
     "text": [
      "/home/fred/micromamba/envs/open-gira/lib/python3.10/site-packages/geopandas/geodataframe.py:2061: UserWarning: CRS mismatch between the CRS of left geometries and the CRS of right geometries.\n",
      "Use `to_crs()` to reproject one of the input geometries to match the CRS of the other.\n",
      "\n",
      "Left CRS: EPSG:4326\n",
      "Right CRS: None\n",
      "\n",
      "  return geopandas.sjoin(left_df=self, right_df=df, *args, **kwargs)\n",
      "/tmp/ipykernel_868937/987684252.py:12: ParserWarning: Falling back to the 'python' engine because the 'c' engine does not support regex separators (separators > 1 char and different from '\\s+' are interpreted as regex); you can avoid this warning by specifying engine='python'.\n",
      "  pd.read_csv(path, delimiter=r',\\s+')\n"
     ]
    },
    {
     "name": "stdout",
     "output_type": "stream",
     "text": [
      "HARUNA_2013\n"
     ]
    },
    {
     "name": "stderr",
     "output_type": "stream",
     "text": [
      "/home/fred/micromamba/envs/open-gira/lib/python3.10/site-packages/geopandas/geodataframe.py:2061: UserWarning: CRS mismatch between the CRS of left geometries and the CRS of right geometries.\n",
      "Use `to_crs()` to reproject one of the input geometries to match the CRS of the other.\n",
      "\n",
      "Left CRS: EPSG:4326\n",
      "Right CRS: None\n",
      "\n",
      "  return geopandas.sjoin(left_df=self, right_df=df, *args, **kwargs)\n",
      "/tmp/ipykernel_868937/987684252.py:12: ParserWarning: Falling back to the 'python' engine because the 'c' engine does not support regex separators (separators > 1 char and different from '\\s+' are interpreted as regex); you can avoid this warning by specifying engine='python'.\n",
      "  pd.read_csv(path, delimiter=r',\\s+')\n"
     ]
    },
    {
     "name": "stdout",
     "output_type": "stream",
     "text": [
      "RUSTY_2013\n"
     ]
    },
    {
     "name": "stderr",
     "output_type": "stream",
     "text": [
      "/home/fred/micromamba/envs/open-gira/lib/python3.10/site-packages/geopandas/geodataframe.py:2061: UserWarning: CRS mismatch between the CRS of left geometries and the CRS of right geometries.\n",
      "Use `to_crs()` to reproject one of the input geometries to match the CRS of the other.\n",
      "\n",
      "Left CRS: EPSG:4326\n",
      "Right CRS: None\n",
      "\n",
      "  return geopandas.sjoin(left_df=self, right_df=df, *args, **kwargs)\n",
      "/tmp/ipykernel_868937/987684252.py:12: ParserWarning: Falling back to the 'python' engine because the 'c' engine does not support regex separators (separators > 1 char and different from '\\s+' are interpreted as regex); you can avoid this warning by specifying engine='python'.\n",
      "  pd.read_csv(path, delimiter=r',\\s+')\n"
     ]
    },
    {
     "name": "stdout",
     "output_type": "stream",
     "text": [
      "ZANE_2013\n",
      "ZANE_2013 has 34.95581818181818, skipping plotting...\n"
     ]
    },
    {
     "name": "stderr",
     "output_type": "stream",
     "text": [
      "/home/fred/micromamba/envs/open-gira/lib/python3.10/site-packages/geopandas/geodataframe.py:2061: UserWarning: CRS mismatch between the CRS of left geometries and the CRS of right geometries.\n",
      "Use `to_crs()` to reproject one of the input geometries to match the CRS of the other.\n",
      "\n",
      "Left CRS: EPSG:4326\n",
      "Right CRS: None\n",
      "\n",
      "  return geopandas.sjoin(left_df=self, right_df=df, *args, **kwargs)\n",
      "/tmp/ipykernel_868937/987684252.py:12: ParserWarning: Falling back to the 'python' engine because the 'c' engine does not support regex separators (separators > 1 char and different from '\\s+' are interpreted as regex); you can avoid this warning by specifying engine='python'.\n",
      "  pd.read_csv(path, delimiter=r',\\s+')\n"
     ]
    },
    {
     "name": "stdout",
     "output_type": "stream",
     "text": [
      "MAHASEN:VIYARU_2013\n",
      "MAHASEN:VIYARU_2013 has 23.148, skipping plotting...\n"
     ]
    },
    {
     "name": "stderr",
     "output_type": "stream",
     "text": [
      "/home/fred/micromamba/envs/open-gira/lib/python3.10/site-packages/geopandas/geodataframe.py:2061: UserWarning: CRS mismatch between the CRS of left geometries and the CRS of right geometries.\n",
      "Use `to_crs()` to reproject one of the input geometries to match the CRS of the other.\n",
      "\n",
      "Left CRS: EPSG:4326\n",
      "Right CRS: None\n",
      "\n",
      "  return geopandas.sjoin(left_df=self, right_df=df, *args, **kwargs)\n",
      "/tmp/ipykernel_868937/987684252.py:12: ParserWarning: Falling back to the 'python' engine because the 'c' engine does not support regex separators (separators > 1 char and different from '\\s+' are interpreted as regex); you can avoid this warning by specifying engine='python'.\n",
      "  pd.read_csv(path, delimiter=r',\\s+')\n",
      "/tmp/ipykernel_868937/987684252.py:12: ParserWarning: Falling back to the 'python' engine because the 'c' engine does not support regex separators (separators > 1 char and different from '\\s+' are interpreted as regex); you can avoid this warning by specifying engine='python'.\n",
      "  pd.read_csv(path, delimiter=r',\\s+')\n",
      "/tmp/ipykernel_868937/987684252.py:12: ParserWarning: Falling back to the 'python' engine because the 'c' engine does not support regex separators (separators > 1 char and different from '\\s+' are interpreted as regex); you can avoid this warning by specifying engine='python'.\n",
      "  pd.read_csv(path, delimiter=r',\\s+')\n"
     ]
    },
    {
     "name": "stdout",
     "output_type": "stream",
     "text": [
      "BARBARA_2013\n",
      "BARBARA_2013 has 36.007999999999996, skipping plotting...\n"
     ]
    },
    {
     "name": "stderr",
     "output_type": "stream",
     "text": [
      "/home/fred/micromamba/envs/open-gira/lib/python3.10/site-packages/geopandas/geodataframe.py:2061: UserWarning: CRS mismatch between the CRS of left geometries and the CRS of right geometries.\n",
      "Use `to_crs()` to reproject one of the input geometries to match the CRS of the other.\n",
      "\n",
      "Left CRS: EPSG:4326\n",
      "Right CRS: None\n",
      "\n",
      "  return geopandas.sjoin(left_df=self, right_df=df, *args, **kwargs)\n",
      "/tmp/ipykernel_868937/987684252.py:12: ParserWarning: Falling back to the 'python' engine because the 'c' engine does not support regex separators (separators > 1 char and different from '\\s+' are interpreted as regex); you can avoid this warning by specifying engine='python'.\n",
      "  pd.read_csv(path, delimiter=r',\\s+')\n",
      "/tmp/ipykernel_868937/987684252.py:12: ParserWarning: Falling back to the 'python' engine because the 'c' engine does not support regex separators (separators > 1 char and different from '\\s+' are interpreted as regex); you can avoid this warning by specifying engine='python'.\n",
      "  pd.read_csv(path, delimiter=r',\\s+')\n"
     ]
    },
    {
     "name": "stdout",
     "output_type": "stream",
     "text": [
      "ANDREA_2013\n",
      "ANDREA_2013 has 28.291999999999998, skipping plotting...\n"
     ]
    },
    {
     "name": "stderr",
     "output_type": "stream",
     "text": [
      "/home/fred/micromamba/envs/open-gira/lib/python3.10/site-packages/geopandas/geodataframe.py:2061: UserWarning: CRS mismatch between the CRS of left geometries and the CRS of right geometries.\n",
      "Use `to_crs()` to reproject one of the input geometries to match the CRS of the other.\n",
      "\n",
      "Left CRS: EPSG:4326\n",
      "Right CRS: None\n",
      "\n",
      "  return geopandas.sjoin(left_df=self, right_df=df, *args, **kwargs)\n",
      "/tmp/ipykernel_868937/987684252.py:12: ParserWarning: Falling back to the 'python' engine because the 'c' engine does not support regex separators (separators > 1 char and different from '\\s+' are interpreted as regex); you can avoid this warning by specifying engine='python'.\n",
      "  pd.read_csv(path, delimiter=r',\\s+')\n"
     ]
    },
    {
     "name": "stdout",
     "output_type": "stream",
     "text": [
      "BARRY_2013\n",
      "BARRY_2013 has 20.576, skipping plotting...\n"
     ]
    },
    {
     "name": "stderr",
     "output_type": "stream",
     "text": [
      "/home/fred/micromamba/envs/open-gira/lib/python3.10/site-packages/geopandas/geodataframe.py:2061: UserWarning: CRS mismatch between the CRS of left geometries and the CRS of right geometries.\n",
      "Use `to_crs()` to reproject one of the input geometries to match the CRS of the other.\n",
      "\n",
      "Left CRS: EPSG:4326\n",
      "Right CRS: None\n",
      "\n",
      "  return geopandas.sjoin(left_df=self, right_df=df, *args, **kwargs)\n",
      "/tmp/ipykernel_868937/987684252.py:12: ParserWarning: Falling back to the 'python' engine because the 'c' engine does not support regex separators (separators > 1 char and different from '\\s+' are interpreted as regex); you can avoid this warning by specifying engine='python'.\n",
      "  pd.read_csv(path, delimiter=r',\\s+')\n"
     ]
    },
    {
     "name": "stdout",
     "output_type": "stream",
     "text": [
      "BEBINCA_2013\n",
      "BEBINCA_2013 has 20.92064603138155, skipping plotting...\n"
     ]
    },
    {
     "name": "stderr",
     "output_type": "stream",
     "text": [
      "/home/fred/micromamba/envs/open-gira/lib/python3.10/site-packages/geopandas/geodataframe.py:2061: UserWarning: CRS mismatch between the CRS of left geometries and the CRS of right geometries.\n",
      "Use `to_crs()` to reproject one of the input geometries to match the CRS of the other.\n",
      "\n",
      "Left CRS: EPSG:4326\n",
      "Right CRS: None\n",
      "\n",
      "  return geopandas.sjoin(left_df=self, right_df=df, *args, **kwargs)\n",
      "/tmp/ipykernel_868937/987684252.py:12: ParserWarning: Falling back to the 'python' engine because the 'c' engine does not support regex separators (separators > 1 char and different from '\\s+' are interpreted as regex); you can avoid this warning by specifying engine='python'.\n",
      "  pd.read_csv(path, delimiter=r',\\s+')\n",
      "/tmp/ipykernel_868937/987684252.py:12: ParserWarning: Falling back to the 'python' engine because the 'c' engine does not support regex separators (separators > 1 char and different from '\\s+' are interpreted as regex); you can avoid this warning by specifying engine='python'.\n",
      "  pd.read_csv(path, delimiter=r',\\s+')\n"
     ]
    },
    {
     "name": "stdout",
     "output_type": "stream",
     "text": [
      "RUMBIA_2013\n",
      "RUMBIA_2013 has 30.20878636305651, skipping plotting...\n"
     ]
    },
    {
     "name": "stderr",
     "output_type": "stream",
     "text": [
      "/home/fred/micromamba/envs/open-gira/lib/python3.10/site-packages/geopandas/geodataframe.py:2061: UserWarning: CRS mismatch between the CRS of left geometries and the CRS of right geometries.\n",
      "Use `to_crs()` to reproject one of the input geometries to match the CRS of the other.\n",
      "\n",
      "Left CRS: EPSG:4326\n",
      "Right CRS: None\n",
      "\n",
      "  return geopandas.sjoin(left_df=self, right_df=df, *args, **kwargs)\n",
      "/tmp/ipykernel_868937/987684252.py:12: ParserWarning: Falling back to the 'python' engine because the 'c' engine does not support regex separators (separators > 1 char and different from '\\s+' are interpreted as regex); you can avoid this warning by specifying engine='python'.\n",
      "  pd.read_csv(path, delimiter=r',\\s+')\n"
     ]
    },
    {
     "name": "stdout",
     "output_type": "stream",
     "text": [
      "SOULIK_2013\n"
     ]
    },
    {
     "name": "stderr",
     "output_type": "stream",
     "text": [
      "/home/fred/micromamba/envs/open-gira/lib/python3.10/site-packages/geopandas/geodataframe.py:2061: UserWarning: CRS mismatch between the CRS of left geometries and the CRS of right geometries.\n",
      "Use `to_crs()` to reproject one of the input geometries to match the CRS of the other.\n",
      "\n",
      "Left CRS: EPSG:4326\n",
      "Right CRS: None\n",
      "\n",
      "  return geopandas.sjoin(left_df=self, right_df=df, *args, **kwargs)\n",
      "/tmp/ipykernel_868937/987684252.py:12: ParserWarning: Falling back to the 'python' engine because the 'c' engine does not support regex separators (separators > 1 char and different from '\\s+' are interpreted as regex); you can avoid this warning by specifying engine='python'.\n",
      "  pd.read_csv(path, delimiter=r',\\s+')\n",
      "/tmp/ipykernel_868937/987684252.py:12: ParserWarning: Falling back to the 'python' engine because the 'c' engine does not support regex separators (separators > 1 char and different from '\\s+' are interpreted as regex); you can avoid this warning by specifying engine='python'.\n",
      "  pd.read_csv(path, delimiter=r',\\s+')\n",
      "/tmp/ipykernel_868937/987684252.py:12: ParserWarning: Falling back to the 'python' engine because the 'c' engine does not support regex separators (separators > 1 char and different from '\\s+' are interpreted as regex); you can avoid this warning by specifying engine='python'.\n",
      "  pd.read_csv(path, delimiter=r',\\s+')\n"
     ]
    },
    {
     "name": "stdout",
     "output_type": "stream",
     "text": [
      "CIMARON_2013\n",
      "CIMARON_2013 has 20.29193492027044, skipping plotting...\n"
     ]
    },
    {
     "name": "stderr",
     "output_type": "stream",
     "text": [
      "/home/fred/micromamba/envs/open-gira/lib/python3.10/site-packages/geopandas/geodataframe.py:2061: UserWarning: CRS mismatch between the CRS of left geometries and the CRS of right geometries.\n",
      "Use `to_crs()` to reproject one of the input geometries to match the CRS of the other.\n",
      "\n",
      "Left CRS: EPSG:4326\n",
      "Right CRS: None\n",
      "\n",
      "  return geopandas.sjoin(left_df=self, right_df=df, *args, **kwargs)\n",
      "/tmp/ipykernel_868937/987684252.py:12: ParserWarning: Falling back to the 'python' engine because the 'c' engine does not support regex separators (separators > 1 char and different from '\\s+' are interpreted as regex); you can avoid this warning by specifying engine='python'.\n",
      "  pd.read_csv(path, delimiter=r',\\s+')\n"
     ]
    },
    {
     "name": "stdout",
     "output_type": "stream",
     "text": [
      "JEBI_2013\n",
      "JEBI_2013 has 29.17998636305651, skipping plotting...\n"
     ]
    },
    {
     "name": "stderr",
     "output_type": "stream",
     "text": [
      "/home/fred/micromamba/envs/open-gira/lib/python3.10/site-packages/geopandas/geodataframe.py:2061: UserWarning: CRS mismatch between the CRS of left geometries and the CRS of right geometries.\n",
      "Use `to_crs()` to reproject one of the input geometries to match the CRS of the other.\n",
      "\n",
      "Left CRS: EPSG:4326\n",
      "Right CRS: None\n",
      "\n",
      "  return geopandas.sjoin(left_df=self, right_df=df, *args, **kwargs)\n",
      "/tmp/ipykernel_868937/987684252.py:12: ParserWarning: Falling back to the 'python' engine because the 'c' engine does not support regex separators (separators > 1 char and different from '\\s+' are interpreted as regex); you can avoid this warning by specifying engine='python'.\n",
      "  pd.read_csv(path, delimiter=r',\\s+')\n"
     ]
    },
    {
     "name": "stdout",
     "output_type": "stream",
     "text": [
      "MANGKHUT_2013\n",
      "MANGKHUT_2013 has 22.559061543564233, skipping plotting...\n"
     ]
    },
    {
     "name": "stderr",
     "output_type": "stream",
     "text": [
      "/home/fred/micromamba/envs/open-gira/lib/python3.10/site-packages/geopandas/geodataframe.py:2061: UserWarning: CRS mismatch between the CRS of left geometries and the CRS of right geometries.\n",
      "Use `to_crs()` to reproject one of the input geometries to match the CRS of the other.\n",
      "\n",
      "Left CRS: EPSG:4326\n",
      "Right CRS: None\n",
      "\n",
      "  return geopandas.sjoin(left_df=self, right_df=df, *args, **kwargs)\n",
      "/tmp/ipykernel_868937/987684252.py:12: ParserWarning: Falling back to the 'python' engine because the 'c' engine does not support regex separators (separators > 1 char and different from '\\s+' are interpreted as regex); you can avoid this warning by specifying engine='python'.\n",
      "  pd.read_csv(path, delimiter=r',\\s+')\n",
      "/tmp/ipykernel_868937/987684252.py:12: ParserWarning: Falling back to the 'python' engine because the 'c' engine does not support regex separators (separators > 1 char and different from '\\s+' are interpreted as regex); you can avoid this warning by specifying engine='python'.\n",
      "  pd.read_csv(path, delimiter=r',\\s+')\n"
     ]
    },
    {
     "name": "stdout",
     "output_type": "stream",
     "text": [
      "UTOR_2013\n"
     ]
    },
    {
     "name": "stderr",
     "output_type": "stream",
     "text": [
      "/home/fred/micromamba/envs/open-gira/lib/python3.10/site-packages/geopandas/geodataframe.py:2061: UserWarning: CRS mismatch between the CRS of left geometries and the CRS of right geometries.\n",
      "Use `to_crs()` to reproject one of the input geometries to match the CRS of the other.\n",
      "\n",
      "Left CRS: EPSG:4326\n",
      "Right CRS: None\n",
      "\n",
      "  return geopandas.sjoin(left_df=self, right_df=df, *args, **kwargs)\n",
      "/tmp/ipykernel_868937/987684252.py:12: ParserWarning: Falling back to the 'python' engine because the 'c' engine does not support regex separators (separators > 1 char and different from '\\s+' are interpreted as regex); you can avoid this warning by specifying engine='python'.\n",
      "  pd.read_csv(path, delimiter=r',\\s+')\n",
      "/tmp/ipykernel_868937/987684252.py:12: ParserWarning: Falling back to the 'python' engine because the 'c' engine does not support regex separators (separators > 1 char and different from '\\s+' are interpreted as regex); you can avoid this warning by specifying engine='python'.\n",
      "  pd.read_csv(path, delimiter=r',\\s+')\n"
     ]
    },
    {
     "name": "stdout",
     "output_type": "stream",
     "text": [
      "TRAMI_2013\n",
      "TRAMI_2013 has 36.54347241995152, skipping plotting...\n"
     ]
    },
    {
     "name": "stderr",
     "output_type": "stream",
     "text": [
      "/home/fred/micromamba/envs/open-gira/lib/python3.10/site-packages/geopandas/geodataframe.py:2061: UserWarning: CRS mismatch between the CRS of left geometries and the CRS of right geometries.\n",
      "Use `to_crs()` to reproject one of the input geometries to match the CRS of the other.\n",
      "\n",
      "Left CRS: EPSG:4326\n",
      "Right CRS: None\n",
      "\n",
      "  return geopandas.sjoin(left_df=self, right_df=df, *args, **kwargs)\n",
      "/tmp/ipykernel_868937/987684252.py:12: ParserWarning: Falling back to the 'python' engine because the 'c' engine does not support regex separators (separators > 1 char and different from '\\s+' are interpreted as regex); you can avoid this warning by specifying engine='python'.\n",
      "  pd.read_csv(path, delimiter=r',\\s+')\n",
      "/tmp/ipykernel_868937/987684252.py:12: ParserWarning: Falling back to the 'python' engine because the 'c' engine does not support regex separators (separators > 1 char and different from '\\s+' are interpreted as regex); you can avoid this warning by specifying engine='python'.\n",
      "  pd.read_csv(path, delimiter=r',\\s+')\n"
     ]
    },
    {
     "name": "stdout",
     "output_type": "stream",
     "text": [
      "KONG-REY_2013\n",
      "KONG-REY_2013 has 28.194625569587956, skipping plotting...\n"
     ]
    },
    {
     "name": "stderr",
     "output_type": "stream",
     "text": [
      "/home/fred/micromamba/envs/open-gira/lib/python3.10/site-packages/geopandas/geodataframe.py:2061: UserWarning: CRS mismatch between the CRS of left geometries and the CRS of right geometries.\n",
      "Use `to_crs()` to reproject one of the input geometries to match the CRS of the other.\n",
      "\n",
      "Left CRS: EPSG:4326\n",
      "Right CRS: None\n",
      "\n",
      "  return geopandas.sjoin(left_df=self, right_df=df, *args, **kwargs)\n",
      "/tmp/ipykernel_868937/987684252.py:12: ParserWarning: Falling back to the 'python' engine because the 'c' engine does not support regex separators (separators > 1 char and different from '\\s+' are interpreted as regex); you can avoid this warning by specifying engine='python'.\n",
      "  pd.read_csv(path, delimiter=r',\\s+')\n"
     ]
    },
    {
     "name": "stdout",
     "output_type": "stream",
     "text": [
      "FERNAND_2013\n",
      "FERNAND_2013 has 25.72, skipping plotting...\n"
     ]
    },
    {
     "name": "stderr",
     "output_type": "stream",
     "text": [
      "/home/fred/micromamba/envs/open-gira/lib/python3.10/site-packages/geopandas/geodataframe.py:2061: UserWarning: CRS mismatch between the CRS of left geometries and the CRS of right geometries.\n",
      "Use `to_crs()` to reproject one of the input geometries to match the CRS of the other.\n",
      "\n",
      "Left CRS: EPSG:4326\n",
      "Right CRS: None\n",
      "\n",
      "  return geopandas.sjoin(left_df=self, right_df=df, *args, **kwargs)\n",
      "/tmp/ipykernel_868937/987684252.py:12: ParserWarning: Falling back to the 'python' engine because the 'c' engine does not support regex separators (separators > 1 char and different from '\\s+' are interpreted as regex); you can avoid this warning by specifying engine='python'.\n",
      "  pd.read_csv(path, delimiter=r',\\s+')\n"
     ]
    },
    {
     "name": "stdout",
     "output_type": "stream",
     "text": [
      "JULIETTE_2013\n",
      "JULIETTE_2013 has 28.291999999999998, skipping plotting...\n"
     ]
    },
    {
     "name": "stderr",
     "output_type": "stream",
     "text": [
      "/home/fred/micromamba/envs/open-gira/lib/python3.10/site-packages/geopandas/geodataframe.py:2061: UserWarning: CRS mismatch between the CRS of left geometries and the CRS of right geometries.\n",
      "Use `to_crs()` to reproject one of the input geometries to match the CRS of the other.\n",
      "\n",
      "Left CRS: EPSG:4326\n",
      "Right CRS: None\n",
      "\n",
      "  return geopandas.sjoin(left_df=self, right_df=df, *args, **kwargs)\n",
      "/tmp/ipykernel_868937/987684252.py:12: ParserWarning: Falling back to the 'python' engine because the 'c' engine does not support regex separators (separators > 1 char and different from '\\s+' are interpreted as regex); you can avoid this warning by specifying engine='python'.\n",
      "  pd.read_csv(path, delimiter=r',\\s+')\n"
     ]
    },
    {
     "name": "stdout",
     "output_type": "stream",
     "text": [
      "TORAJI_2013\n",
      "TORAJI_2013 has 25.67978112514351, skipping plotting...\n"
     ]
    },
    {
     "name": "stderr",
     "output_type": "stream",
     "text": [
      "/home/fred/micromamba/envs/open-gira/lib/python3.10/site-packages/geopandas/geodataframe.py:2061: UserWarning: CRS mismatch between the CRS of left geometries and the CRS of right geometries.\n",
      "Use `to_crs()` to reproject one of the input geometries to match the CRS of the other.\n",
      "\n",
      "Left CRS: EPSG:4326\n",
      "Right CRS: None\n",
      "\n",
      "  return geopandas.sjoin(left_df=self, right_df=df, *args, **kwargs)\n",
      "/tmp/ipykernel_868937/987684252.py:12: ParserWarning: Falling back to the 'python' engine because the 'c' engine does not support regex separators (separators > 1 char and different from '\\s+' are interpreted as regex); you can avoid this warning by specifying engine='python'.\n",
      "  pd.read_csv(path, delimiter=r',\\s+')\n"
     ]
    },
    {
     "name": "stdout",
     "output_type": "stream",
     "text": [
      "GABRIELLE_2013\n",
      "GABRIELLE_2013 has 28.291999999999998, skipping plotting...\n"
     ]
    },
    {
     "name": "stderr",
     "output_type": "stream",
     "text": [
      "/home/fred/micromamba/envs/open-gira/lib/python3.10/site-packages/geopandas/geodataframe.py:2061: UserWarning: CRS mismatch between the CRS of left geometries and the CRS of right geometries.\n",
      "Use `to_crs()` to reproject one of the input geometries to match the CRS of the other.\n",
      "\n",
      "Left CRS: EPSG:4326\n",
      "Right CRS: None\n",
      "\n",
      "  return geopandas.sjoin(left_df=self, right_df=df, *args, **kwargs)\n",
      "/tmp/ipykernel_868937/987684252.py:12: ParserWarning: Falling back to the 'python' engine because the 'c' engine does not support regex separators (separators > 1 char and different from '\\s+' are interpreted as regex); you can avoid this warning by specifying engine='python'.\n",
      "  pd.read_csv(path, delimiter=r',\\s+')\n"
     ]
    },
    {
     "name": "stdout",
     "output_type": "stream",
     "text": [
      "LORENA_2013\n",
      "LORENA_2013 has 23.148, skipping plotting...\n"
     ]
    },
    {
     "name": "stderr",
     "output_type": "stream",
     "text": [
      "/home/fred/micromamba/envs/open-gira/lib/python3.10/site-packages/geopandas/geodataframe.py:2061: UserWarning: CRS mismatch between the CRS of left geometries and the CRS of right geometries.\n",
      "Use `to_crs()` to reproject one of the input geometries to match the CRS of the other.\n",
      "\n",
      "Left CRS: EPSG:4326\n",
      "Right CRS: None\n",
      "\n",
      "  return geopandas.sjoin(left_df=self, right_df=df, *args, **kwargs)\n",
      "/tmp/ipykernel_868937/987684252.py:12: ParserWarning: Falling back to the 'python' engine because the 'c' engine does not support regex separators (separators > 1 char and different from '\\s+' are interpreted as regex); you can avoid this warning by specifying engine='python'.\n",
      "  pd.read_csv(path, delimiter=r',\\s+')\n",
      "/tmp/ipykernel_868937/987684252.py:12: ParserWarning: Falling back to the 'python' engine because the 'c' engine does not support regex separators (separators > 1 char and different from '\\s+' are interpreted as regex); you can avoid this warning by specifying engine='python'.\n",
      "  pd.read_csv(path, delimiter=r',\\s+')\n"
     ]
    },
    {
     "name": "stdout",
     "output_type": "stream",
     "text": [
      "INGRID_2013\n",
      "INGRID_2013 has 38.58, skipping plotting...\n"
     ]
    },
    {
     "name": "stderr",
     "output_type": "stream",
     "text": [
      "/home/fred/micromamba/envs/open-gira/lib/python3.10/site-packages/geopandas/geodataframe.py:2061: UserWarning: CRS mismatch between the CRS of left geometries and the CRS of right geometries.\n",
      "Use `to_crs()` to reproject one of the input geometries to match the CRS of the other.\n",
      "\n",
      "Left CRS: EPSG:4326\n",
      "Right CRS: None\n",
      "\n",
      "  return geopandas.sjoin(left_df=self, right_df=df, *args, **kwargs)\n",
      "/tmp/ipykernel_868937/987684252.py:12: ParserWarning: Falling back to the 'python' engine because the 'c' engine does not support regex separators (separators > 1 char and different from '\\s+' are interpreted as regex); you can avoid this warning by specifying engine='python'.\n",
      "  pd.read_csv(path, delimiter=r',\\s+')\n"
     ]
    },
    {
     "name": "stdout",
     "output_type": "stream",
     "text": [
      "MAN-YI_2013\n",
      "MAN-YI_2013 has 33.148063303992856, skipping plotting...\n"
     ]
    },
    {
     "name": "stderr",
     "output_type": "stream",
     "text": [
      "/home/fred/micromamba/envs/open-gira/lib/python3.10/site-packages/geopandas/geodataframe.py:2061: UserWarning: CRS mismatch between the CRS of left geometries and the CRS of right geometries.\n",
      "Use `to_crs()` to reproject one of the input geometries to match the CRS of the other.\n",
      "\n",
      "Left CRS: EPSG:4326\n",
      "Right CRS: None\n",
      "\n",
      "  return geopandas.sjoin(left_df=self, right_df=df, *args, **kwargs)\n",
      "/tmp/ipykernel_868937/987684252.py:12: ParserWarning: Falling back to the 'python' engine because the 'c' engine does not support regex separators (separators > 1 char and different from '\\s+' are interpreted as regex); you can avoid this warning by specifying engine='python'.\n",
      "  pd.read_csv(path, delimiter=r',\\s+')\n",
      "/tmp/ipykernel_868937/987684252.py:12: ParserWarning: Falling back to the 'python' engine because the 'c' engine does not support regex separators (separators > 1 char and different from '\\s+' are interpreted as regex); you can avoid this warning by specifying engine='python'.\n",
      "  pd.read_csv(path, delimiter=r',\\s+')\n"
     ]
    },
    {
     "name": "stdout",
     "output_type": "stream",
     "text": [
      "MANUEL_2013\n",
      "MANUEL_2013 has 33.436, skipping plotting...\n"
     ]
    },
    {
     "name": "stderr",
     "output_type": "stream",
     "text": [
      "/home/fred/micromamba/envs/open-gira/lib/python3.10/site-packages/geopandas/geodataframe.py:2061: UserWarning: CRS mismatch between the CRS of left geometries and the CRS of right geometries.\n",
      "Use `to_crs()` to reproject one of the input geometries to match the CRS of the other.\n",
      "\n",
      "Left CRS: EPSG:4326\n",
      "Right CRS: None\n",
      "\n",
      "  return geopandas.sjoin(left_df=self, right_df=df, *args, **kwargs)\n",
      "/tmp/ipykernel_868937/987684252.py:12: ParserWarning: Falling back to the 'python' engine because the 'c' engine does not support regex separators (separators > 1 char and different from '\\s+' are interpreted as regex); you can avoid this warning by specifying engine='python'.\n",
      "  pd.read_csv(path, delimiter=r',\\s+')\n",
      "/tmp/ipykernel_868937/987684252.py:12: ParserWarning: Falling back to the 'python' engine because the 'c' engine does not support regex separators (separators > 1 char and different from '\\s+' are interpreted as regex); you can avoid this warning by specifying engine='python'.\n",
      "  pd.read_csv(path, delimiter=r',\\s+')\n"
     ]
    },
    {
     "name": "stdout",
     "output_type": "stream",
     "text": [
      "USAGI_2013\n"
     ]
    },
    {
     "name": "stderr",
     "output_type": "stream",
     "text": [
      "/home/fred/micromamba/envs/open-gira/lib/python3.10/site-packages/geopandas/geodataframe.py:2061: UserWarning: CRS mismatch between the CRS of left geometries and the CRS of right geometries.\n",
      "Use `to_crs()` to reproject one of the input geometries to match the CRS of the other.\n",
      "\n",
      "Left CRS: EPSG:4326\n",
      "Right CRS: None\n",
      "\n",
      "  return geopandas.sjoin(left_df=self, right_df=df, *args, **kwargs)\n",
      "/tmp/ipykernel_868937/987684252.py:12: ParserWarning: Falling back to the 'python' engine because the 'c' engine does not support regex separators (separators > 1 char and different from '\\s+' are interpreted as regex); you can avoid this warning by specifying engine='python'.\n",
      "  pd.read_csv(path, delimiter=r',\\s+')\n"
     ]
    },
    {
     "name": "stdout",
     "output_type": "stream",
     "text": [
      "WUTIP_2013\n"
     ]
    },
    {
     "name": "stderr",
     "output_type": "stream",
     "text": [
      "/home/fred/micromamba/envs/open-gira/lib/python3.10/site-packages/geopandas/geodataframe.py:2061: UserWarning: CRS mismatch between the CRS of left geometries and the CRS of right geometries.\n",
      "Use `to_crs()` to reproject one of the input geometries to match the CRS of the other.\n",
      "\n",
      "Left CRS: EPSG:4326\n",
      "Right CRS: None\n",
      "\n",
      "  return geopandas.sjoin(left_df=self, right_df=df, *args, **kwargs)\n",
      "/tmp/ipykernel_868937/987684252.py:12: ParserWarning: Falling back to the 'python' engine because the 'c' engine does not support regex separators (separators > 1 char and different from '\\s+' are interpreted as regex); you can avoid this warning by specifying engine='python'.\n",
      "  pd.read_csv(path, delimiter=r',\\s+')\n"
     ]
    },
    {
     "name": "stdout",
     "output_type": "stream",
     "text": [
      "FITOW_2013\n"
     ]
    },
    {
     "name": "stderr",
     "output_type": "stream",
     "text": [
      "/home/fred/micromamba/envs/open-gira/lib/python3.10/site-packages/geopandas/geodataframe.py:2061: UserWarning: CRS mismatch between the CRS of left geometries and the CRS of right geometries.\n",
      "Use `to_crs()` to reproject one of the input geometries to match the CRS of the other.\n",
      "\n",
      "Left CRS: EPSG:4326\n",
      "Right CRS: None\n",
      "\n",
      "  return geopandas.sjoin(left_df=self, right_df=df, *args, **kwargs)\n",
      "/tmp/ipykernel_868937/987684252.py:12: ParserWarning: Falling back to the 'python' engine because the 'c' engine does not support regex separators (separators > 1 char and different from '\\s+' are interpreted as regex); you can avoid this warning by specifying engine='python'.\n",
      "  pd.read_csv(path, delimiter=r',\\s+')\n"
     ]
    },
    {
     "name": "stdout",
     "output_type": "stream",
     "text": [
      "KAREN_2013\n",
      "KAREN_2013 has 28.291999999999998, skipping plotting...\n"
     ]
    },
    {
     "name": "stderr",
     "output_type": "stream",
     "text": [
      "/home/fred/micromamba/envs/open-gira/lib/python3.10/site-packages/geopandas/geodataframe.py:2061: UserWarning: CRS mismatch between the CRS of left geometries and the CRS of right geometries.\n",
      "Use `to_crs()` to reproject one of the input geometries to match the CRS of the other.\n",
      "\n",
      "Left CRS: EPSG:4326\n",
      "Right CRS: None\n",
      "\n",
      "  return geopandas.sjoin(left_df=self, right_df=df, *args, **kwargs)\n",
      "/tmp/ipykernel_868937/987684252.py:12: ParserWarning: Falling back to the 'python' engine because the 'c' engine does not support regex separators (separators > 1 char and different from '\\s+' are interpreted as regex); you can avoid this warning by specifying engine='python'.\n",
      "  pd.read_csv(path, delimiter=r',\\s+')\n"
     ]
    },
    {
     "name": "stdout",
     "output_type": "stream",
     "text": [
      "PHAILIN_2013\n"
     ]
    },
    {
     "name": "stderr",
     "output_type": "stream",
     "text": [
      "/home/fred/micromamba/envs/open-gira/lib/python3.10/site-packages/geopandas/geodataframe.py:2061: UserWarning: CRS mismatch between the CRS of left geometries and the CRS of right geometries.\n",
      "Use `to_crs()` to reproject one of the input geometries to match the CRS of the other.\n",
      "\n",
      "Left CRS: EPSG:4326\n",
      "Right CRS: None\n",
      "\n",
      "  return geopandas.sjoin(left_df=self, right_df=df, *args, **kwargs)\n",
      "/tmp/ipykernel_868937/987684252.py:12: ParserWarning: Falling back to the 'python' engine because the 'c' engine does not support regex separators (separators > 1 char and different from '\\s+' are interpreted as regex); you can avoid this warning by specifying engine='python'.\n",
      "  pd.read_csv(path, delimiter=r',\\s+')\n",
      "/tmp/ipykernel_868937/987684252.py:12: ParserWarning: Falling back to the 'python' engine because the 'c' engine does not support regex separators (separators > 1 char and different from '\\s+' are interpreted as regex); you can avoid this warning by specifying engine='python'.\n",
      "  pd.read_csv(path, delimiter=r',\\s+')\n"
     ]
    },
    {
     "name": "stdout",
     "output_type": "stream",
     "text": [
      "NARI_2013\n"
     ]
    },
    {
     "name": "stderr",
     "output_type": "stream",
     "text": [
      "/home/fred/micromamba/envs/open-gira/lib/python3.10/site-packages/geopandas/geodataframe.py:2061: UserWarning: CRS mismatch between the CRS of left geometries and the CRS of right geometries.\n",
      "Use `to_crs()` to reproject one of the input geometries to match the CRS of the other.\n",
      "\n",
      "Left CRS: EPSG:4326\n",
      "Right CRS: None\n",
      "\n",
      "  return geopandas.sjoin(left_df=self, right_df=df, *args, **kwargs)\n",
      "/tmp/ipykernel_868937/987684252.py:12: ParserWarning: Falling back to the 'python' engine because the 'c' engine does not support regex separators (separators > 1 char and different from '\\s+' are interpreted as regex); you can avoid this warning by specifying engine='python'.\n",
      "  pd.read_csv(path, delimiter=r',\\s+')\n"
     ]
    },
    {
     "name": "stdout",
     "output_type": "stream",
     "text": [
      "OCTAVE_2013\n",
      "OCTAVE_2013 has 28.291999999999998, skipping plotting...\n"
     ]
    },
    {
     "name": "stderr",
     "output_type": "stream",
     "text": [
      "/home/fred/micromamba/envs/open-gira/lib/python3.10/site-packages/geopandas/geodataframe.py:2061: UserWarning: CRS mismatch between the CRS of left geometries and the CRS of right geometries.\n",
      "Use `to_crs()` to reproject one of the input geometries to match the CRS of the other.\n",
      "\n",
      "Left CRS: EPSG:4326\n",
      "Right CRS: None\n",
      "\n",
      "  return geopandas.sjoin(left_df=self, right_df=df, *args, **kwargs)\n",
      "/tmp/ipykernel_868937/987684252.py:12: ParserWarning: Falling back to the 'python' engine because the 'c' engine does not support regex separators (separators > 1 char and different from '\\s+' are interpreted as regex); you can avoid this warning by specifying engine='python'.\n",
      "  pd.read_csv(path, delimiter=r',\\s+')\n",
      "/tmp/ipykernel_868937/987684252.py:12: ParserWarning: Falling back to the 'python' engine because the 'c' engine does not support regex separators (separators > 1 char and different from '\\s+' are interpreted as regex); you can avoid this warning by specifying engine='python'.\n",
      "  pd.read_csv(path, delimiter=r',\\s+')\n"
     ]
    },
    {
     "name": "stdout",
     "output_type": "stream",
     "text": [
      "KROSA_2013\n"
     ]
    },
    {
     "name": "stderr",
     "output_type": "stream",
     "text": [
      "/home/fred/micromamba/envs/open-gira/lib/python3.10/site-packages/geopandas/geodataframe.py:2061: UserWarning: CRS mismatch between the CRS of left geometries and the CRS of right geometries.\n",
      "Use `to_crs()` to reproject one of the input geometries to match the CRS of the other.\n",
      "\n",
      "Left CRS: EPSG:4326\n",
      "Right CRS: None\n",
      "\n",
      "  return geopandas.sjoin(left_df=self, right_df=df, *args, **kwargs)\n",
      "/tmp/ipykernel_868937/987684252.py:12: ParserWarning: Falling back to the 'python' engine because the 'c' engine does not support regex separators (separators > 1 char and different from '\\s+' are interpreted as regex); you can avoid this warning by specifying engine='python'.\n",
      "  pd.read_csv(path, delimiter=r',\\s+')\n"
     ]
    },
    {
     "name": "stdout",
     "output_type": "stream",
     "text": [
      "SONIA_2013\n",
      "SONIA_2013 has 20.576, skipping plotting...\n"
     ]
    },
    {
     "name": "stderr",
     "output_type": "stream",
     "text": [
      "/home/fred/micromamba/envs/open-gira/lib/python3.10/site-packages/geopandas/geodataframe.py:2061: UserWarning: CRS mismatch between the CRS of left geometries and the CRS of right geometries.\n",
      "Use `to_crs()` to reproject one of the input geometries to match the CRS of the other.\n",
      "\n",
      "Left CRS: EPSG:4326\n",
      "Right CRS: None\n",
      "\n",
      "  return geopandas.sjoin(left_df=self, right_df=df, *args, **kwargs)\n",
      "/tmp/ipykernel_868937/987684252.py:12: ParserWarning: Falling back to the 'python' engine because the 'c' engine does not support regex separators (separators > 1 char and different from '\\s+' are interpreted as regex); you can avoid this warning by specifying engine='python'.\n",
      "  pd.read_csv(path, delimiter=r',\\s+')\n",
      "/tmp/ipykernel_868937/987684252.py:12: ParserWarning: Falling back to the 'python' engine because the 'c' engine does not support regex separators (separators > 1 char and different from '\\s+' are interpreted as regex); you can avoid this warning by specifying engine='python'.\n",
      "  pd.read_csv(path, delimiter=r',\\s+')\n"
     ]
    },
    {
     "name": "stdout",
     "output_type": "stream",
     "text": [
      "HAIYAN_2013\n"
     ]
    },
    {
     "name": "stderr",
     "output_type": "stream",
     "text": [
      "/home/fred/micromamba/envs/open-gira/lib/python3.10/site-packages/geopandas/geodataframe.py:2061: UserWarning: CRS mismatch between the CRS of left geometries and the CRS of right geometries.\n",
      "Use `to_crs()` to reproject one of the input geometries to match the CRS of the other.\n",
      "\n",
      "Left CRS: EPSG:4326\n",
      "Right CRS: None\n",
      "\n",
      "  return geopandas.sjoin(left_df=self, right_df=df, *args, **kwargs)\n",
      "/tmp/ipykernel_868937/987684252.py:12: ParserWarning: Falling back to the 'python' engine because the 'c' engine does not support regex separators (separators > 1 char and different from '\\s+' are interpreted as regex); you can avoid this warning by specifying engine='python'.\n",
      "  pd.read_csv(path, delimiter=r',\\s+')\n"
     ]
    },
    {
     "name": "stdout",
     "output_type": "stream",
     "text": [
      "HELEN_2013\n",
      "HELEN_2013 has 30.863999999999997, skipping plotting...\n"
     ]
    },
    {
     "name": "stderr",
     "output_type": "stream",
     "text": [
      "/home/fred/micromamba/envs/open-gira/lib/python3.10/site-packages/geopandas/geodataframe.py:2061: UserWarning: CRS mismatch between the CRS of left geometries and the CRS of right geometries.\n",
      "Use `to_crs()` to reproject one of the input geometries to match the CRS of the other.\n",
      "\n",
      "Left CRS: EPSG:4326\n",
      "Right CRS: None\n",
      "\n",
      "  return geopandas.sjoin(left_df=self, right_df=df, *args, **kwargs)\n",
      "/tmp/ipykernel_868937/987684252.py:12: ParserWarning: Falling back to the 'python' engine because the 'c' engine does not support regex separators (separators > 1 char and different from '\\s+' are interpreted as regex); you can avoid this warning by specifying engine='python'.\n",
      "  pd.read_csv(path, delimiter=r',\\s+')\n"
     ]
    },
    {
     "name": "stdout",
     "output_type": "stream",
     "text": [
      "LEHAR_2013\n",
      "LEHAR_2013 has 37.72266666666666, skipping plotting...\n"
     ]
    },
    {
     "name": "stderr",
     "output_type": "stream",
     "text": [
      "/home/fred/micromamba/envs/open-gira/lib/python3.10/site-packages/geopandas/geodataframe.py:2061: UserWarning: CRS mismatch between the CRS of left geometries and the CRS of right geometries.\n",
      "Use `to_crs()` to reproject one of the input geometries to match the CRS of the other.\n",
      "\n",
      "Left CRS: EPSG:4326\n",
      "Right CRS: None\n",
      "\n",
      "  return geopandas.sjoin(left_df=self, right_df=df, *args, **kwargs)\n",
      "/tmp/ipykernel_868937/987684252.py:12: ParserWarning: Falling back to the 'python' engine because the 'c' engine does not support regex separators (separators > 1 char and different from '\\s+' are interpreted as regex); you can avoid this warning by specifying engine='python'.\n",
      "  pd.read_csv(path, delimiter=r',\\s+')\n"
     ]
    },
    {
     "name": "stdout",
     "output_type": "stream",
     "text": [
      "ALESSIA_2013\n",
      "ALESSIA_2013 has 23.26490909090909, skipping plotting...\n"
     ]
    },
    {
     "name": "stderr",
     "output_type": "stream",
     "text": [
      "/home/fred/micromamba/envs/open-gira/lib/python3.10/site-packages/geopandas/geodataframe.py:2061: UserWarning: CRS mismatch between the CRS of left geometries and the CRS of right geometries.\n",
      "Use `to_crs()` to reproject one of the input geometries to match the CRS of the other.\n",
      "\n",
      "Left CRS: EPSG:4326\n",
      "Right CRS: None\n",
      "\n",
      "  return geopandas.sjoin(left_df=self, right_df=df, *args, **kwargs)\n",
      "/tmp/ipykernel_868937/987684252.py:12: ParserWarning: Falling back to the 'python' engine because the 'c' engine does not support regex separators (separators > 1 char and different from '\\s+' are interpreted as regex); you can avoid this warning by specifying engine='python'.\n",
      "  pd.read_csv(path, delimiter=r',\\s+')\n"
     ]
    },
    {
     "name": "stdout",
     "output_type": "stream",
     "text": [
      "CHRISTINE_2013\n"
     ]
    },
    {
     "name": "stderr",
     "output_type": "stream",
     "text": [
      "/home/fred/micromamba/envs/open-gira/lib/python3.10/site-packages/geopandas/geodataframe.py:2061: UserWarning: CRS mismatch between the CRS of left geometries and the CRS of right geometries.\n",
      "Use `to_crs()` to reproject one of the input geometries to match the CRS of the other.\n",
      "\n",
      "Left CRS: EPSG:4326\n",
      "Right CRS: None\n",
      "\n",
      "  return geopandas.sjoin(left_df=self, right_df=df, *args, **kwargs)\n",
      "/tmp/ipykernel_868937/987684252.py:12: ParserWarning: Falling back to the 'python' engine because the 'c' engine does not support regex separators (separators > 1 char and different from '\\s+' are interpreted as regex); you can avoid this warning by specifying engine='python'.\n",
      "  pd.read_csv(path, delimiter=r',\\s+')\n"
     ]
    },
    {
     "name": "stdout",
     "output_type": "stream",
     "text": [
      "DELIWE_2014\n",
      "DELIWE_2014 has 26.012272727272723, skipping plotting...\n"
     ]
    },
    {
     "name": "stderr",
     "output_type": "stream",
     "text": [
      "/home/fred/micromamba/envs/open-gira/lib/python3.10/site-packages/geopandas/geodataframe.py:2061: UserWarning: CRS mismatch between the CRS of left geometries and the CRS of right geometries.\n",
      "Use `to_crs()` to reproject one of the input geometries to match the CRS of the other.\n",
      "\n",
      "Left CRS: EPSG:4326\n",
      "Right CRS: None\n",
      "\n",
      "  return geopandas.sjoin(left_df=self, right_df=df, *args, **kwargs)\n",
      "/tmp/ipykernel_868937/987684252.py:12: ParserWarning: Falling back to the 'python' engine because the 'c' engine does not support regex separators (separators > 1 char and different from '\\s+' are interpreted as regex); you can avoid this warning by specifying engine='python'.\n",
      "  pd.read_csv(path, delimiter=r',\\s+')\n"
     ]
    },
    {
     "name": "stdout",
     "output_type": "stream",
     "text": [
      "DYLAN_2014\n",
      "DYLAN_2014 has 29.69490909090909, skipping plotting...\n"
     ]
    },
    {
     "name": "stderr",
     "output_type": "stream",
     "text": [
      "/home/fred/micromamba/envs/open-gira/lib/python3.10/site-packages/geopandas/geodataframe.py:2061: UserWarning: CRS mismatch between the CRS of left geometries and the CRS of right geometries.\n",
      "Use `to_crs()` to reproject one of the input geometries to match the CRS of the other.\n",
      "\n",
      "Left CRS: EPSG:4326\n",
      "Right CRS: None\n",
      "\n",
      "  return geopandas.sjoin(left_df=self, right_df=df, *args, **kwargs)\n",
      "/tmp/ipykernel_868937/987684252.py:12: ParserWarning: Falling back to the 'python' engine because the 'c' engine does not support regex separators (separators > 1 char and different from '\\s+' are interpreted as regex); you can avoid this warning by specifying engine='python'.\n",
      "  pd.read_csv(path, delimiter=r',\\s+')\n",
      "/tmp/ipykernel_868937/987684252.py:12: ParserWarning: Falling back to the 'python' engine because the 'c' engine does not support regex separators (separators > 1 char and different from '\\s+' are interpreted as regex); you can avoid this warning by specifying engine='python'.\n",
      "  pd.read_csv(path, delimiter=r',\\s+')\n"
     ]
    },
    {
     "name": "stdout",
     "output_type": "stream",
     "text": [
      "GILLIAN_2014\n"
     ]
    },
    {
     "name": "stderr",
     "output_type": "stream",
     "text": [
      "/home/fred/micromamba/envs/open-gira/lib/python3.10/site-packages/geopandas/geodataframe.py:2061: UserWarning: CRS mismatch between the CRS of left geometries and the CRS of right geometries.\n",
      "Use `to_crs()` to reproject one of the input geometries to match the CRS of the other.\n",
      "\n",
      "Left CRS: EPSG:4326\n",
      "Right CRS: None\n",
      "\n",
      "  return geopandas.sjoin(left_df=self, right_df=df, *args, **kwargs)\n",
      "/tmp/ipykernel_868937/987684252.py:12: ParserWarning: Falling back to the 'python' engine because the 'c' engine does not support regex separators (separators > 1 char and different from '\\s+' are interpreted as regex); you can avoid this warning by specifying engine='python'.\n",
      "  pd.read_csv(path, delimiter=r',\\s+')\n"
     ]
    },
    {
     "name": "stdout",
     "output_type": "stream",
     "text": [
      "HELLEN_2014\n"
     ]
    },
    {
     "name": "stderr",
     "output_type": "stream",
     "text": [
      "/home/fred/micromamba/envs/open-gira/lib/python3.10/site-packages/geopandas/geodataframe.py:2061: UserWarning: CRS mismatch between the CRS of left geometries and the CRS of right geometries.\n",
      "Use `to_crs()` to reproject one of the input geometries to match the CRS of the other.\n",
      "\n",
      "Left CRS: EPSG:4326\n",
      "Right CRS: None\n",
      "\n",
      "  return geopandas.sjoin(left_df=self, right_df=df, *args, **kwargs)\n",
      "/tmp/ipykernel_868937/987684252.py:12: ParserWarning: Falling back to the 'python' engine because the 'c' engine does not support regex separators (separators > 1 char and different from '\\s+' are interpreted as regex); you can avoid this warning by specifying engine='python'.\n",
      "  pd.read_csv(path, delimiter=r',\\s+')\n"
     ]
    },
    {
     "name": "stdout",
     "output_type": "stream",
     "text": [
      "ITA_2014\n"
     ]
    },
    {
     "name": "stderr",
     "output_type": "stream",
     "text": [
      "/home/fred/micromamba/envs/open-gira/lib/python3.10/site-packages/geopandas/geodataframe.py:2061: UserWarning: CRS mismatch between the CRS of left geometries and the CRS of right geometries.\n",
      "Use `to_crs()` to reproject one of the input geometries to match the CRS of the other.\n",
      "\n",
      "Left CRS: EPSG:4326\n",
      "Right CRS: None\n",
      "\n",
      "  return geopandas.sjoin(left_df=self, right_df=df, *args, **kwargs)\n",
      "/tmp/ipykernel_868937/987684252.py:12: ParserWarning: Falling back to the 'python' engine because the 'c' engine does not support regex separators (separators > 1 char and different from '\\s+' are interpreted as regex); you can avoid this warning by specifying engine='python'.\n",
      "  pd.read_csv(path, delimiter=r',\\s+')\n",
      "/tmp/ipykernel_868937/987684252.py:12: ParserWarning: Falling back to the 'python' engine because the 'c' engine does not support regex separators (separators > 1 char and different from '\\s+' are interpreted as regex); you can avoid this warning by specifying engine='python'.\n",
      "  pd.read_csv(path, delimiter=r',\\s+')\n"
     ]
    },
    {
     "name": "stdout",
     "output_type": "stream",
     "text": [
      "BORIS_2014\n",
      "BORIS_2014 has 20.576, skipping plotting...\n"
     ]
    },
    {
     "name": "stderr",
     "output_type": "stream",
     "text": [
      "/home/fred/micromamba/envs/open-gira/lib/python3.10/site-packages/geopandas/geodataframe.py:2061: UserWarning: CRS mismatch between the CRS of left geometries and the CRS of right geometries.\n",
      "Use `to_crs()` to reproject one of the input geometries to match the CRS of the other.\n",
      "\n",
      "Left CRS: EPSG:4326\n",
      "Right CRS: None\n",
      "\n",
      "  return geopandas.sjoin(left_df=self, right_df=df, *args, **kwargs)\n",
      "/tmp/ipykernel_868937/987684252.py:12: ParserWarning: Falling back to the 'python' engine because the 'c' engine does not support regex separators (separators > 1 char and different from '\\s+' are interpreted as regex); you can avoid this warning by specifying engine='python'.\n",
      "  pd.read_csv(path, delimiter=r',\\s+')\n",
      "/tmp/ipykernel_868937/987684252.py:12: ParserWarning: Falling back to the 'python' engine because the 'c' engine does not support regex separators (separators > 1 char and different from '\\s+' are interpreted as regex); you can avoid this warning by specifying engine='python'.\n",
      "  pd.read_csv(path, delimiter=r',\\s+')\n"
     ]
    },
    {
     "name": "stdout",
     "output_type": "stream",
     "text": [
      "HAGIBIS_2014\n",
      "HAGIBIS_2014 has 20.76389642811583, skipping plotting...\n"
     ]
    },
    {
     "name": "stderr",
     "output_type": "stream",
     "text": [
      "/home/fred/micromamba/envs/open-gira/lib/python3.10/site-packages/geopandas/geodataframe.py:2061: UserWarning: CRS mismatch between the CRS of left geometries and the CRS of right geometries.\n",
      "Use `to_crs()` to reproject one of the input geometries to match the CRS of the other.\n",
      "\n",
      "Left CRS: EPSG:4326\n",
      "Right CRS: None\n",
      "\n",
      "  return geopandas.sjoin(left_df=self, right_df=df, *args, **kwargs)\n",
      "/tmp/ipykernel_868937/987684252.py:12: ParserWarning: Falling back to the 'python' engine because the 'c' engine does not support regex separators (separators > 1 char and different from '\\s+' are interpreted as regex); you can avoid this warning by specifying engine='python'.\n",
      "  pd.read_csv(path, delimiter=r',\\s+')\n",
      "/tmp/ipykernel_868937/987684252.py:12: ParserWarning: Falling back to the 'python' engine because the 'c' engine does not support regex separators (separators > 1 char and different from '\\s+' are interpreted as regex); you can avoid this warning by specifying engine='python'.\n",
      "  pd.read_csv(path, delimiter=r',\\s+')\n"
     ]
    },
    {
     "name": "stdout",
     "output_type": "stream",
     "text": [
      "ARTHUR_2014\n"
     ]
    },
    {
     "name": "stderr",
     "output_type": "stream",
     "text": [
      "/home/fred/micromamba/envs/open-gira/lib/python3.10/site-packages/geopandas/geodataframe.py:2061: UserWarning: CRS mismatch between the CRS of left geometries and the CRS of right geometries.\n",
      "Use `to_crs()` to reproject one of the input geometries to match the CRS of the other.\n",
      "\n",
      "Left CRS: EPSG:4326\n",
      "Right CRS: None\n",
      "\n",
      "  return geopandas.sjoin(left_df=self, right_df=df, *args, **kwargs)\n",
      "/tmp/ipykernel_868937/987684252.py:12: ParserWarning: Falling back to the 'python' engine because the 'c' engine does not support regex separators (separators > 1 char and different from '\\s+' are interpreted as regex); you can avoid this warning by specifying engine='python'.\n",
      "  pd.read_csv(path, delimiter=r',\\s+')\n"
     ]
    },
    {
     "name": "stdout",
     "output_type": "stream",
     "text": [
      "NEOGURI_2014\n"
     ]
    },
    {
     "name": "stderr",
     "output_type": "stream",
     "text": [
      "/home/fred/micromamba/envs/open-gira/lib/python3.10/site-packages/geopandas/geodataframe.py:2061: UserWarning: CRS mismatch between the CRS of left geometries and the CRS of right geometries.\n",
      "Use `to_crs()` to reproject one of the input geometries to match the CRS of the other.\n",
      "\n",
      "Left CRS: EPSG:4326\n",
      "Right CRS: None\n",
      "\n",
      "  return geopandas.sjoin(left_df=self, right_df=df, *args, **kwargs)\n",
      "/tmp/ipykernel_868937/987684252.py:12: ParserWarning: Falling back to the 'python' engine because the 'c' engine does not support regex separators (separators > 1 char and different from '\\s+' are interpreted as regex); you can avoid this warning by specifying engine='python'.\n",
      "  pd.read_csv(path, delimiter=r',\\s+')\n",
      "/tmp/ipykernel_868937/987684252.py:12: ParserWarning: Falling back to the 'python' engine because the 'c' engine does not support regex separators (separators > 1 char and different from '\\s+' are interpreted as regex); you can avoid this warning by specifying engine='python'.\n",
      "  pd.read_csv(path, delimiter=r',\\s+')\n"
     ]
    },
    {
     "name": "stdout",
     "output_type": "stream",
     "text": [
      "RAMMASUN_2014\n"
     ]
    },
    {
     "name": "stderr",
     "output_type": "stream",
     "text": [
      "/home/fred/micromamba/envs/open-gira/lib/python3.10/site-packages/geopandas/geodataframe.py:2061: UserWarning: CRS mismatch between the CRS of left geometries and the CRS of right geometries.\n",
      "Use `to_crs()` to reproject one of the input geometries to match the CRS of the other.\n",
      "\n",
      "Left CRS: EPSG:4326\n",
      "Right CRS: None\n",
      "\n",
      "  return geopandas.sjoin(left_df=self, right_df=df, *args, **kwargs)\n",
      "/tmp/ipykernel_868937/987684252.py:12: ParserWarning: Falling back to the 'python' engine because the 'c' engine does not support regex separators (separators > 1 char and different from '\\s+' are interpreted as regex); you can avoid this warning by specifying engine='python'.\n",
      "  pd.read_csv(path, delimiter=r',\\s+')\n"
     ]
    },
    {
     "name": "stdout",
     "output_type": "stream",
     "text": [
      "MATMO_2014\n"
     ]
    },
    {
     "name": "stderr",
     "output_type": "stream",
     "text": [
      "/home/fred/micromamba/envs/open-gira/lib/python3.10/site-packages/geopandas/geodataframe.py:2061: UserWarning: CRS mismatch between the CRS of left geometries and the CRS of right geometries.\n",
      "Use `to_crs()` to reproject one of the input geometries to match the CRS of the other.\n",
      "\n",
      "Left CRS: EPSG:4326\n",
      "Right CRS: None\n",
      "\n",
      "  return geopandas.sjoin(left_df=self, right_df=df, *args, **kwargs)\n",
      "/tmp/ipykernel_868937/987684252.py:12: ParserWarning: Falling back to the 'python' engine because the 'c' engine does not support regex separators (separators > 1 char and different from '\\s+' are interpreted as regex); you can avoid this warning by specifying engine='python'.\n",
      "  pd.read_csv(path, delimiter=r',\\s+')\n"
     ]
    },
    {
     "name": "stdout",
     "output_type": "stream",
     "text": [
      "HALONG_2014\n"
     ]
    },
    {
     "name": "stderr",
     "output_type": "stream",
     "text": [
      "/home/fred/micromamba/envs/open-gira/lib/python3.10/site-packages/geopandas/geodataframe.py:2061: UserWarning: CRS mismatch between the CRS of left geometries and the CRS of right geometries.\n",
      "Use `to_crs()` to reproject one of the input geometries to match the CRS of the other.\n",
      "\n",
      "Left CRS: EPSG:4326\n",
      "Right CRS: None\n",
      "\n",
      "  return geopandas.sjoin(left_df=self, right_df=df, *args, **kwargs)\n",
      "/tmp/ipykernel_868937/987684252.py:12: ParserWarning: Falling back to the 'python' engine because the 'c' engine does not support regex separators (separators > 1 char and different from '\\s+' are interpreted as regex); you can avoid this warning by specifying engine='python'.\n",
      "  pd.read_csv(path, delimiter=r',\\s+')\n"
     ]
    },
    {
     "name": "stdout",
     "output_type": "stream",
     "text": [
      "NAKRI_2014\n",
      "NAKRI_2014 has 27.165825569587955, skipping plotting...\n"
     ]
    },
    {
     "name": "stderr",
     "output_type": "stream",
     "text": [
      "/home/fred/micromamba/envs/open-gira/lib/python3.10/site-packages/geopandas/geodataframe.py:2061: UserWarning: CRS mismatch between the CRS of left geometries and the CRS of right geometries.\n",
      "Use `to_crs()` to reproject one of the input geometries to match the CRS of the other.\n",
      "\n",
      "Left CRS: EPSG:4326\n",
      "Right CRS: None\n",
      "\n",
      "  return geopandas.sjoin(left_df=self, right_df=df, *args, **kwargs)\n",
      "/tmp/ipykernel_868937/987684252.py:12: ParserWarning: Falling back to the 'python' engine because the 'c' engine does not support regex separators (separators > 1 char and different from '\\s+' are interpreted as regex); you can avoid this warning by specifying engine='python'.\n",
      "  pd.read_csv(path, delimiter=r',\\s+')\n"
     ]
    },
    {
     "name": "stdout",
     "output_type": "stream",
     "text": [
      "BERTHA_2014\n",
      "BERTHA_2014 has 36.007999999999996, skipping plotting...\n"
     ]
    },
    {
     "name": "stderr",
     "output_type": "stream",
     "text": [
      "/home/fred/micromamba/envs/open-gira/lib/python3.10/site-packages/geopandas/geodataframe.py:2061: UserWarning: CRS mismatch between the CRS of left geometries and the CRS of right geometries.\n",
      "Use `to_crs()` to reproject one of the input geometries to match the CRS of the other.\n",
      "\n",
      "Left CRS: EPSG:4326\n",
      "Right CRS: None\n",
      "\n",
      "  return geopandas.sjoin(left_df=self, right_df=df, *args, **kwargs)\n",
      "/tmp/ipykernel_868937/987684252.py:12: ParserWarning: Falling back to the 'python' engine because the 'c' engine does not support regex separators (separators > 1 char and different from '\\s+' are interpreted as regex); you can avoid this warning by specifying engine='python'.\n",
      "  pd.read_csv(path, delimiter=r',\\s+')\n"
     ]
    },
    {
     "name": "stdout",
     "output_type": "stream",
     "text": [
      "ISELLE_2014\n"
     ]
    },
    {
     "name": "stderr",
     "output_type": "stream",
     "text": [
      "/home/fred/micromamba/envs/open-gira/lib/python3.10/site-packages/geopandas/geodataframe.py:2061: UserWarning: CRS mismatch between the CRS of left geometries and the CRS of right geometries.\n",
      "Use `to_crs()` to reproject one of the input geometries to match the CRS of the other.\n",
      "\n",
      "Left CRS: EPSG:4326\n",
      "Right CRS: None\n",
      "\n",
      "  return geopandas.sjoin(left_df=self, right_df=df, *args, **kwargs)\n",
      "/tmp/ipykernel_868937/987684252.py:12: ParserWarning: Falling back to the 'python' engine because the 'c' engine does not support regex separators (separators > 1 char and different from '\\s+' are interpreted as regex); you can avoid this warning by specifying engine='python'.\n",
      "  pd.read_csv(path, delimiter=r',\\s+')\n"
     ]
    },
    {
     "name": "stdout",
     "output_type": "stream",
     "text": [
      "DOLLY_2014\n",
      "DOLLY_2014 has 23.148, skipping plotting...\n"
     ]
    },
    {
     "name": "stderr",
     "output_type": "stream",
     "text": [
      "/home/fred/micromamba/envs/open-gira/lib/python3.10/site-packages/geopandas/geodataframe.py:2061: UserWarning: CRS mismatch between the CRS of left geometries and the CRS of right geometries.\n",
      "Use `to_crs()` to reproject one of the input geometries to match the CRS of the other.\n",
      "\n",
      "Left CRS: EPSG:4326\n",
      "Right CRS: None\n",
      "\n",
      "  return geopandas.sjoin(left_df=self, right_df=df, *args, **kwargs)\n",
      "/tmp/ipykernel_868937/987684252.py:12: ParserWarning: Falling back to the 'python' engine because the 'c' engine does not support regex separators (separators > 1 char and different from '\\s+' are interpreted as regex); you can avoid this warning by specifying engine='python'.\n",
      "  pd.read_csv(path, delimiter=r',\\s+')\n"
     ]
    },
    {
     "name": "stdout",
     "output_type": "stream",
     "text": [
      "ODILE_2014\n"
     ]
    },
    {
     "name": "stderr",
     "output_type": "stream",
     "text": [
      "/home/fred/micromamba/envs/open-gira/lib/python3.10/site-packages/geopandas/geodataframe.py:2061: UserWarning: CRS mismatch between the CRS of left geometries and the CRS of right geometries.\n",
      "Use `to_crs()` to reproject one of the input geometries to match the CRS of the other.\n",
      "\n",
      "Left CRS: EPSG:4326\n",
      "Right CRS: None\n",
      "\n",
      "  return geopandas.sjoin(left_df=self, right_df=df, *args, **kwargs)\n",
      "/tmp/ipykernel_868937/987684252.py:12: ParserWarning: Falling back to the 'python' engine because the 'c' engine does not support regex separators (separators > 1 char and different from '\\s+' are interpreted as regex); you can avoid this warning by specifying engine='python'.\n",
      "  pd.read_csv(path, delimiter=r',\\s+')\n",
      "/tmp/ipykernel_868937/987684252.py:12: ParserWarning: Falling back to the 'python' engine because the 'c' engine does not support regex separators (separators > 1 char and different from '\\s+' are interpreted as regex); you can avoid this warning by specifying engine='python'.\n",
      "  pd.read_csv(path, delimiter=r',\\s+')\n"
     ]
    },
    {
     "name": "stdout",
     "output_type": "stream",
     "text": [
      "KALMAEGI_2014\n"
     ]
    },
    {
     "name": "stderr",
     "output_type": "stream",
     "text": [
      "/home/fred/micromamba/envs/open-gira/lib/python3.10/site-packages/geopandas/geodataframe.py:2061: UserWarning: CRS mismatch between the CRS of left geometries and the CRS of right geometries.\n",
      "Use `to_crs()` to reproject one of the input geometries to match the CRS of the other.\n",
      "\n",
      "Left CRS: EPSG:4326\n",
      "Right CRS: None\n",
      "\n",
      "  return geopandas.sjoin(left_df=self, right_df=df, *args, **kwargs)\n",
      "/tmp/ipykernel_868937/987684252.py:12: ParserWarning: Falling back to the 'python' engine because the 'c' engine does not support regex separators (separators > 1 char and different from '\\s+' are interpreted as regex); you can avoid this warning by specifying engine='python'.\n",
      "  pd.read_csv(path, delimiter=r',\\s+')\n",
      "/tmp/ipykernel_868937/987684252.py:12: ParserWarning: Falling back to the 'python' engine because the 'c' engine does not support regex separators (separators > 1 char and different from '\\s+' are interpreted as regex); you can avoid this warning by specifying engine='python'.\n",
      "  pd.read_csv(path, delimiter=r',\\s+')\n"
     ]
    },
    {
     "name": "stdout",
     "output_type": "stream",
     "text": [
      "FUNG-WONG_2014\n",
      "FUNG-WONG_2014 has 26.19838248501084, skipping plotting...\n"
     ]
    },
    {
     "name": "stderr",
     "output_type": "stream",
     "text": [
      "/home/fred/micromamba/envs/open-gira/lib/python3.10/site-packages/geopandas/geodataframe.py:2061: UserWarning: CRS mismatch between the CRS of left geometries and the CRS of right geometries.\n",
      "Use `to_crs()` to reproject one of the input geometries to match the CRS of the other.\n",
      "\n",
      "Left CRS: EPSG:4326\n",
      "Right CRS: None\n",
      "\n",
      "  return geopandas.sjoin(left_df=self, right_df=df, *args, **kwargs)\n",
      "/tmp/ipykernel_868937/987684252.py:12: ParserWarning: Falling back to the 'python' engine because the 'c' engine does not support regex separators (separators > 1 char and different from '\\s+' are interpreted as regex); you can avoid this warning by specifying engine='python'.\n",
      "  pd.read_csv(path, delimiter=r',\\s+')\n"
     ]
    },
    {
     "name": "stdout",
     "output_type": "stream",
     "text": [
      "PHANFONE_2014\n"
     ]
    },
    {
     "name": "stderr",
     "output_type": "stream",
     "text": [
      "/home/fred/micromamba/envs/open-gira/lib/python3.10/site-packages/geopandas/geodataframe.py:2061: UserWarning: CRS mismatch between the CRS of left geometries and the CRS of right geometries.\n",
      "Use `to_crs()` to reproject one of the input geometries to match the CRS of the other.\n",
      "\n",
      "Left CRS: EPSG:4326\n",
      "Right CRS: None\n",
      "\n",
      "  return geopandas.sjoin(left_df=self, right_df=df, *args, **kwargs)\n",
      "/tmp/ipykernel_868937/987684252.py:12: ParserWarning: Falling back to the 'python' engine because the 'c' engine does not support regex separators (separators > 1 char and different from '\\s+' are interpreted as regex); you can avoid this warning by specifying engine='python'.\n",
      "  pd.read_csv(path, delimiter=r',\\s+')\n"
     ]
    },
    {
     "name": "stdout",
     "output_type": "stream",
     "text": [
      "VONGFONG_2014\n"
     ]
    },
    {
     "name": "stderr",
     "output_type": "stream",
     "text": [
      "/home/fred/micromamba/envs/open-gira/lib/python3.10/site-packages/geopandas/geodataframe.py:2061: UserWarning: CRS mismatch between the CRS of left geometries and the CRS of right geometries.\n",
      "Use `to_crs()` to reproject one of the input geometries to match the CRS of the other.\n",
      "\n",
      "Left CRS: EPSG:4326\n",
      "Right CRS: None\n",
      "\n",
      "  return geopandas.sjoin(left_df=self, right_df=df, *args, **kwargs)\n",
      "/tmp/ipykernel_868937/987684252.py:12: ParserWarning: Falling back to the 'python' engine because the 'c' engine does not support regex separators (separators > 1 char and different from '\\s+' are interpreted as regex); you can avoid this warning by specifying engine='python'.\n",
      "  pd.read_csv(path, delimiter=r',\\s+')\n"
     ]
    },
    {
     "name": "stdout",
     "output_type": "stream",
     "text": [
      "HUDHUD_2014\n"
     ]
    },
    {
     "name": "stderr",
     "output_type": "stream",
     "text": [
      "/home/fred/micromamba/envs/open-gira/lib/python3.10/site-packages/geopandas/geodataframe.py:2061: UserWarning: CRS mismatch between the CRS of left geometries and the CRS of right geometries.\n",
      "Use `to_crs()` to reproject one of the input geometries to match the CRS of the other.\n",
      "\n",
      "Left CRS: EPSG:4326\n",
      "Right CRS: None\n",
      "\n",
      "  return geopandas.sjoin(left_df=self, right_df=df, *args, **kwargs)\n",
      "/tmp/ipykernel_868937/987684252.py:12: ParserWarning: Falling back to the 'python' engine because the 'c' engine does not support regex separators (separators > 1 char and different from '\\s+' are interpreted as regex); you can avoid this warning by specifying engine='python'.\n",
      "  pd.read_csv(path, delimiter=r',\\s+')\n"
     ]
    },
    {
     "name": "stdout",
     "output_type": "stream",
     "text": [
      "TRUDY_2014\n",
      "TRUDY_2014 has 28.291999999999998, skipping plotting...\n"
     ]
    },
    {
     "name": "stderr",
     "output_type": "stream",
     "text": [
      "/home/fred/micromamba/envs/open-gira/lib/python3.10/site-packages/geopandas/geodataframe.py:2061: UserWarning: CRS mismatch between the CRS of left geometries and the CRS of right geometries.\n",
      "Use `to_crs()` to reproject one of the input geometries to match the CRS of the other.\n",
      "\n",
      "Left CRS: EPSG:4326\n",
      "Right CRS: None\n",
      "\n",
      "  return geopandas.sjoin(left_df=self, right_df=df, *args, **kwargs)\n",
      "/tmp/ipykernel_868937/987684252.py:12: ParserWarning: Falling back to the 'python' engine because the 'c' engine does not support regex separators (separators > 1 char and different from '\\s+' are interpreted as regex); you can avoid this warning by specifying engine='python'.\n",
      "  pd.read_csv(path, delimiter=r',\\s+')\n",
      "/tmp/ipykernel_868937/987684252.py:12: ParserWarning: Falling back to the 'python' engine because the 'c' engine does not support regex separators (separators > 1 char and different from '\\s+' are interpreted as regex); you can avoid this warning by specifying engine='python'.\n",
      "  pd.read_csv(path, delimiter=r',\\s+')\n"
     ]
    },
    {
     "name": "stdout",
     "output_type": "stream",
     "text": [
      "SINLAKU_2014\n",
      "SINLAKU_2014 has 25.955504184207168, skipping plotting...\n"
     ]
    },
    {
     "name": "stderr",
     "output_type": "stream",
     "text": [
      "/home/fred/micromamba/envs/open-gira/lib/python3.10/site-packages/geopandas/geodataframe.py:2061: UserWarning: CRS mismatch between the CRS of left geometries and the CRS of right geometries.\n",
      "Use `to_crs()` to reproject one of the input geometries to match the CRS of the other.\n",
      "\n",
      "Left CRS: EPSG:4326\n",
      "Right CRS: None\n",
      "\n",
      "  return geopandas.sjoin(left_df=self, right_df=df, *args, **kwargs)\n",
      "/tmp/ipykernel_868937/987684252.py:12: ParserWarning: Falling back to the 'python' engine because the 'c' engine does not support regex separators (separators > 1 char and different from '\\s+' are interpreted as regex); you can avoid this warning by specifying engine='python'.\n",
      "  pd.read_csv(path, delimiter=r',\\s+')\n"
     ]
    },
    {
     "name": "stdout",
     "output_type": "stream",
     "text": [
      "HAGUPIT_2014\n"
     ]
    },
    {
     "name": "stderr",
     "output_type": "stream",
     "text": [
      "/home/fred/micromamba/envs/open-gira/lib/python3.10/site-packages/geopandas/geodataframe.py:2061: UserWarning: CRS mismatch between the CRS of left geometries and the CRS of right geometries.\n",
      "Use `to_crs()` to reproject one of the input geometries to match the CRS of the other.\n",
      "\n",
      "Left CRS: EPSG:4326\n",
      "Right CRS: None\n",
      "\n",
      "  return geopandas.sjoin(left_df=self, right_df=df, *args, **kwargs)\n",
      "/tmp/ipykernel_868937/987684252.py:12: ParserWarning: Falling back to the 'python' engine because the 'c' engine does not support regex separators (separators > 1 char and different from '\\s+' are interpreted as regex); you can avoid this warning by specifying engine='python'.\n",
      "  pd.read_csv(path, delimiter=r',\\s+')\n"
     ]
    },
    {
     "name": "stdout",
     "output_type": "stream",
     "text": [
      "MEKKHALA_2015\n",
      "MEKKHALA_2015 has 35.219379653016965, skipping plotting...\n"
     ]
    },
    {
     "name": "stderr",
     "output_type": "stream",
     "text": [
      "/home/fred/micromamba/envs/open-gira/lib/python3.10/site-packages/geopandas/geodataframe.py:2061: UserWarning: CRS mismatch between the CRS of left geometries and the CRS of right geometries.\n",
      "Use `to_crs()` to reproject one of the input geometries to match the CRS of the other.\n",
      "\n",
      "Left CRS: EPSG:4326\n",
      "Right CRS: None\n",
      "\n",
      "  return geopandas.sjoin(left_df=self, right_df=df, *args, **kwargs)\n",
      "/tmp/ipykernel_868937/987684252.py:12: ParserWarning: Falling back to the 'python' engine because the 'c' engine does not support regex separators (separators > 1 char and different from '\\s+' are interpreted as regex); you can avoid this warning by specifying engine='python'.\n",
      "  pd.read_csv(path, delimiter=r',\\s+')\n"
     ]
    },
    {
     "name": "stdout",
     "output_type": "stream",
     "text": [
      "CHEDZA_2015\n",
      "CHEDZA_2015 has 29.453296969696964, skipping plotting...\n"
     ]
    },
    {
     "name": "stderr",
     "output_type": "stream",
     "text": [
      "/home/fred/micromamba/envs/open-gira/lib/python3.10/site-packages/geopandas/geodataframe.py:2061: UserWarning: CRS mismatch between the CRS of left geometries and the CRS of right geometries.\n",
      "Use `to_crs()` to reproject one of the input geometries to match the CRS of the other.\n",
      "\n",
      "Left CRS: EPSG:4326\n",
      "Right CRS: None\n",
      "\n",
      "  return geopandas.sjoin(left_df=self, right_df=df, *args, **kwargs)\n",
      "/tmp/ipykernel_868937/987684252.py:12: ParserWarning: Falling back to the 'python' engine because the 'c' engine does not support regex separators (separators > 1 char and different from '\\s+' are interpreted as regex); you can avoid this warning by specifying engine='python'.\n",
      "  pd.read_csv(path, delimiter=r',\\s+')\n"
     ]
    },
    {
     "name": "stdout",
     "output_type": "stream",
     "text": [
      "FUNDI_2015\n",
      "FUNDI_2015 has 28.720666666666666, skipping plotting...\n"
     ]
    },
    {
     "name": "stderr",
     "output_type": "stream",
     "text": [
      "/home/fred/micromamba/envs/open-gira/lib/python3.10/site-packages/geopandas/geodataframe.py:2061: UserWarning: CRS mismatch between the CRS of left geometries and the CRS of right geometries.\n",
      "Use `to_crs()` to reproject one of the input geometries to match the CRS of the other.\n",
      "\n",
      "Left CRS: EPSG:4326\n",
      "Right CRS: None\n",
      "\n",
      "  return geopandas.sjoin(left_df=self, right_df=df, *args, **kwargs)\n",
      "/tmp/ipykernel_868937/987684252.py:12: ParserWarning: Falling back to the 'python' engine because the 'c' engine does not support regex separators (separators > 1 char and different from '\\s+' are interpreted as regex); you can avoid this warning by specifying engine='python'.\n",
      "  pd.read_csv(path, delimiter=r',\\s+')\n"
     ]
    },
    {
     "name": "stdout",
     "output_type": "stream",
     "text": [
      "LAM_2015\n"
     ]
    },
    {
     "name": "stderr",
     "output_type": "stream",
     "text": [
      "/home/fred/micromamba/envs/open-gira/lib/python3.10/site-packages/geopandas/geodataframe.py:2061: UserWarning: CRS mismatch between the CRS of left geometries and the CRS of right geometries.\n",
      "Use `to_crs()` to reproject one of the input geometries to match the CRS of the other.\n",
      "\n",
      "Left CRS: EPSG:4326\n",
      "Right CRS: None\n",
      "\n",
      "  return geopandas.sjoin(left_df=self, right_df=df, *args, **kwargs)\n",
      "/tmp/ipykernel_868937/987684252.py:12: ParserWarning: Falling back to the 'python' engine because the 'c' engine does not support regex separators (separators > 1 char and different from '\\s+' are interpreted as regex); you can avoid this warning by specifying engine='python'.\n",
      "  pd.read_csv(path, delimiter=r',\\s+')\n"
     ]
    },
    {
     "name": "stdout",
     "output_type": "stream",
     "text": [
      "MARCIA_2015\n"
     ]
    },
    {
     "name": "stderr",
     "output_type": "stream",
     "text": [
      "/home/fred/micromamba/envs/open-gira/lib/python3.10/site-packages/geopandas/geodataframe.py:2061: UserWarning: CRS mismatch between the CRS of left geometries and the CRS of right geometries.\n",
      "Use `to_crs()` to reproject one of the input geometries to match the CRS of the other.\n",
      "\n",
      "Left CRS: EPSG:4326\n",
      "Right CRS: None\n",
      "\n",
      "  return geopandas.sjoin(left_df=self, right_df=df, *args, **kwargs)\n",
      "/tmp/ipykernel_868937/987684252.py:12: ParserWarning: Falling back to the 'python' engine because the 'c' engine does not support regex separators (separators > 1 char and different from '\\s+' are interpreted as regex); you can avoid this warning by specifying engine='python'.\n",
      "  pd.read_csv(path, delimiter=r',\\s+')\n",
      "/tmp/ipykernel_868937/987684252.py:12: ParserWarning: Falling back to the 'python' engine because the 'c' engine does not support regex separators (separators > 1 char and different from '\\s+' are interpreted as regex); you can avoid this warning by specifying engine='python'.\n",
      "  pd.read_csv(path, delimiter=r',\\s+')\n"
     ]
    },
    {
     "name": "stdout",
     "output_type": "stream",
     "text": [
      "NATHAN_2015\n"
     ]
    },
    {
     "name": "stderr",
     "output_type": "stream",
     "text": [
      "/home/fred/micromamba/envs/open-gira/lib/python3.10/site-packages/geopandas/geodataframe.py:2061: UserWarning: CRS mismatch between the CRS of left geometries and the CRS of right geometries.\n",
      "Use `to_crs()` to reproject one of the input geometries to match the CRS of the other.\n",
      "\n",
      "Left CRS: EPSG:4326\n",
      "Right CRS: None\n",
      "\n",
      "  return geopandas.sjoin(left_df=self, right_df=df, *args, **kwargs)\n",
      "/tmp/ipykernel_868937/987684252.py:12: ParserWarning: Falling back to the 'python' engine because the 'c' engine does not support regex separators (separators > 1 char and different from '\\s+' are interpreted as regex); you can avoid this warning by specifying engine='python'.\n",
      "  pd.read_csv(path, delimiter=r',\\s+')\n"
     ]
    },
    {
     "name": "stdout",
     "output_type": "stream",
     "text": [
      "MAYSAK_2015\n"
     ]
    },
    {
     "name": "stderr",
     "output_type": "stream",
     "text": [
      "/home/fred/micromamba/envs/open-gira/lib/python3.10/site-packages/geopandas/geodataframe.py:2061: UserWarning: CRS mismatch between the CRS of left geometries and the CRS of right geometries.\n",
      "Use `to_crs()` to reproject one of the input geometries to match the CRS of the other.\n",
      "\n",
      "Left CRS: EPSG:4326\n",
      "Right CRS: None\n",
      "\n",
      "  return geopandas.sjoin(left_df=self, right_df=df, *args, **kwargs)\n",
      "/tmp/ipykernel_868937/987684252.py:12: ParserWarning: Falling back to the 'python' engine because the 'c' engine does not support regex separators (separators > 1 char and different from '\\s+' are interpreted as regex); you can avoid this warning by specifying engine='python'.\n",
      "  pd.read_csv(path, delimiter=r',\\s+')\n"
     ]
    },
    {
     "name": "stdout",
     "output_type": "stream",
     "text": [
      "NOUL_2015\n"
     ]
    },
    {
     "name": "stderr",
     "output_type": "stream",
     "text": [
      "/home/fred/micromamba/envs/open-gira/lib/python3.10/site-packages/geopandas/geodataframe.py:2061: UserWarning: CRS mismatch between the CRS of left geometries and the CRS of right geometries.\n",
      "Use `to_crs()` to reproject one of the input geometries to match the CRS of the other.\n",
      "\n",
      "Left CRS: EPSG:4326\n",
      "Right CRS: None\n",
      "\n",
      "  return geopandas.sjoin(left_df=self, right_df=df, *args, **kwargs)\n",
      "/tmp/ipykernel_868937/987684252.py:12: ParserWarning: Falling back to the 'python' engine because the 'c' engine does not support regex separators (separators > 1 char and different from '\\s+' are interpreted as regex); you can avoid this warning by specifying engine='python'.\n",
      "  pd.read_csv(path, delimiter=r',\\s+')\n",
      "/tmp/ipykernel_868937/987684252.py:12: ParserWarning: Falling back to the 'python' engine because the 'c' engine does not support regex separators (separators > 1 char and different from '\\s+' are interpreted as regex); you can avoid this warning by specifying engine='python'.\n",
      "  pd.read_csv(path, delimiter=r',\\s+')\n"
     ]
    },
    {
     "name": "stdout",
     "output_type": "stream",
     "text": [
      "ANA_2015\n",
      "ANA_2015 has 25.72, skipping plotting...\n"
     ]
    },
    {
     "name": "stderr",
     "output_type": "stream",
     "text": [
      "/home/fred/micromamba/envs/open-gira/lib/python3.10/site-packages/geopandas/geodataframe.py:2061: UserWarning: CRS mismatch between the CRS of left geometries and the CRS of right geometries.\n",
      "Use `to_crs()` to reproject one of the input geometries to match the CRS of the other.\n",
      "\n",
      "Left CRS: EPSG:4326\n",
      "Right CRS: None\n",
      "\n",
      "  return geopandas.sjoin(left_df=self, right_df=df, *args, **kwargs)\n",
      "/tmp/ipykernel_868937/987684252.py:12: ParserWarning: Falling back to the 'python' engine because the 'c' engine does not support regex separators (separators > 1 char and different from '\\s+' are interpreted as regex); you can avoid this warning by specifying engine='python'.\n",
      "  pd.read_csv(path, delimiter=r',\\s+')\n"
     ]
    },
    {
     "name": "stdout",
     "output_type": "stream",
     "text": [
      "BLANCA_2015\n"
     ]
    },
    {
     "name": "stderr",
     "output_type": "stream",
     "text": [
      "/home/fred/micromamba/envs/open-gira/lib/python3.10/site-packages/geopandas/geodataframe.py:2061: UserWarning: CRS mismatch between the CRS of left geometries and the CRS of right geometries.\n",
      "Use `to_crs()` to reproject one of the input geometries to match the CRS of the other.\n",
      "\n",
      "Left CRS: EPSG:4326\n",
      "Right CRS: None\n",
      "\n",
      "  return geopandas.sjoin(left_df=self, right_df=df, *args, **kwargs)\n",
      "/tmp/ipykernel_868937/987684252.py:12: ParserWarning: Falling back to the 'python' engine because the 'c' engine does not support regex separators (separators > 1 char and different from '\\s+' are interpreted as regex); you can avoid this warning by specifying engine='python'.\n",
      "  pd.read_csv(path, delimiter=r',\\s+')\n",
      "/tmp/ipykernel_868937/987684252.py:12: ParserWarning: Falling back to the 'python' engine because the 'c' engine does not support regex separators (separators > 1 char and different from '\\s+' are interpreted as regex); you can avoid this warning by specifying engine='python'.\n",
      "  pd.read_csv(path, delimiter=r',\\s+')\n"
     ]
    },
    {
     "name": "stdout",
     "output_type": "stream",
     "text": [
      "CARLOS_2015\n"
     ]
    },
    {
     "name": "stderr",
     "output_type": "stream",
     "text": [
      "/home/fred/micromamba/envs/open-gira/lib/python3.10/site-packages/geopandas/geodataframe.py:2061: UserWarning: CRS mismatch between the CRS of left geometries and the CRS of right geometries.\n",
      "Use `to_crs()` to reproject one of the input geometries to match the CRS of the other.\n",
      "\n",
      "Left CRS: EPSG:4326\n",
      "Right CRS: None\n",
      "\n",
      "  return geopandas.sjoin(left_df=self, right_df=df, *args, **kwargs)\n",
      "/tmp/ipykernel_868937/987684252.py:12: ParserWarning: Falling back to the 'python' engine because the 'c' engine does not support regex separators (separators > 1 char and different from '\\s+' are interpreted as regex); you can avoid this warning by specifying engine='python'.\n",
      "  pd.read_csv(path, delimiter=r',\\s+')\n",
      "/tmp/ipykernel_868937/987684252.py:12: ParserWarning: Falling back to the 'python' engine because the 'c' engine does not support regex separators (separators > 1 char and different from '\\s+' are interpreted as regex); you can avoid this warning by specifying engine='python'.\n",
      "  pd.read_csv(path, delimiter=r',\\s+')\n"
     ]
    },
    {
     "name": "stdout",
     "output_type": "stream",
     "text": [
      "BILL_2015\n",
      "BILL_2015 has 25.72, skipping plotting...\n"
     ]
    },
    {
     "name": "stderr",
     "output_type": "stream",
     "text": [
      "/home/fred/micromamba/envs/open-gira/lib/python3.10/site-packages/geopandas/geodataframe.py:2061: UserWarning: CRS mismatch between the CRS of left geometries and the CRS of right geometries.\n",
      "Use `to_crs()` to reproject one of the input geometries to match the CRS of the other.\n",
      "\n",
      "Left CRS: EPSG:4326\n",
      "Right CRS: None\n",
      "\n",
      "  return geopandas.sjoin(left_df=self, right_df=df, *args, **kwargs)\n",
      "/tmp/ipykernel_868937/987684252.py:12: ParserWarning: Falling back to the 'python' engine because the 'c' engine does not support regex separators (separators > 1 char and different from '\\s+' are interpreted as regex); you can avoid this warning by specifying engine='python'.\n",
      "  pd.read_csv(path, delimiter=r',\\s+')\n"
     ]
    },
    {
     "name": "stdout",
     "output_type": "stream",
     "text": [
      "KUJIRA_2015\n",
      "KUJIRA_2015 has 23.79364779181018, skipping plotting...\n"
     ]
    },
    {
     "name": "stderr",
     "output_type": "stream",
     "text": [
      "/home/fred/micromamba/envs/open-gira/lib/python3.10/site-packages/geopandas/geodataframe.py:2061: UserWarning: CRS mismatch between the CRS of left geometries and the CRS of right geometries.\n",
      "Use `to_crs()` to reproject one of the input geometries to match the CRS of the other.\n",
      "\n",
      "Left CRS: EPSG:4326\n",
      "Right CRS: None\n",
      "\n",
      "  return geopandas.sjoin(left_df=self, right_df=df, *args, **kwargs)\n",
      "/tmp/ipykernel_868937/987684252.py:12: ParserWarning: Falling back to the 'python' engine because the 'c' engine does not support regex separators (separators > 1 char and different from '\\s+' are interpreted as regex); you can avoid this warning by specifying engine='python'.\n",
      "  pd.read_csv(path, delimiter=r',\\s+')\n"
     ]
    },
    {
     "name": "stdout",
     "output_type": "stream",
     "text": [
      "CHAN-HOM_2015\n"
     ]
    },
    {
     "name": "stderr",
     "output_type": "stream",
     "text": [
      "/home/fred/micromamba/envs/open-gira/lib/python3.10/site-packages/geopandas/geodataframe.py:2061: UserWarning: CRS mismatch between the CRS of left geometries and the CRS of right geometries.\n",
      "Use `to_crs()` to reproject one of the input geometries to match the CRS of the other.\n",
      "\n",
      "Left CRS: EPSG:4326\n",
      "Right CRS: None\n",
      "\n",
      "  return geopandas.sjoin(left_df=self, right_df=df, *args, **kwargs)\n",
      "/tmp/ipykernel_868937/987684252.py:12: ParserWarning: Falling back to the 'python' engine because the 'c' engine does not support regex separators (separators > 1 char and different from '\\s+' are interpreted as regex); you can avoid this warning by specifying engine='python'.\n",
      "  pd.read_csv(path, delimiter=r',\\s+')\n",
      "/tmp/ipykernel_868937/987684252.py:12: ParserWarning: Falling back to the 'python' engine because the 'c' engine does not support regex separators (separators > 1 char and different from '\\s+' are interpreted as regex); you can avoid this warning by specifying engine='python'.\n",
      "  pd.read_csv(path, delimiter=r',\\s+')\n",
      "/tmp/ipykernel_868937/987684252.py:12: ParserWarning: Falling back to the 'python' engine because the 'c' engine does not support regex separators (separators > 1 char and different from '\\s+' are interpreted as regex); you can avoid this warning by specifying engine='python'.\n",
      "  pd.read_csv(path, delimiter=r',\\s+')\n"
     ]
    },
    {
     "name": "stdout",
     "output_type": "stream",
     "text": [
      "LINFA_2015\n",
      "LINFA_2015 has 37.657923727516255, skipping plotting...\n"
     ]
    },
    {
     "name": "stderr",
     "output_type": "stream",
     "text": [
      "/home/fred/micromamba/envs/open-gira/lib/python3.10/site-packages/geopandas/geodataframe.py:2061: UserWarning: CRS mismatch between the CRS of left geometries and the CRS of right geometries.\n",
      "Use `to_crs()` to reproject one of the input geometries to match the CRS of the other.\n",
      "\n",
      "Left CRS: EPSG:4326\n",
      "Right CRS: None\n",
      "\n",
      "  return geopandas.sjoin(left_df=self, right_df=df, *args, **kwargs)\n",
      "/tmp/ipykernel_868937/987684252.py:12: ParserWarning: Falling back to the 'python' engine because the 'c' engine does not support regex separators (separators > 1 char and different from '\\s+' are interpreted as regex); you can avoid this warning by specifying engine='python'.\n",
      "  pd.read_csv(path, delimiter=r',\\s+')\n"
     ]
    },
    {
     "name": "stdout",
     "output_type": "stream",
     "text": [
      "NANGKA_2015\n"
     ]
    },
    {
     "name": "stderr",
     "output_type": "stream",
     "text": [
      "/home/fred/micromamba/envs/open-gira/lib/python3.10/site-packages/geopandas/geodataframe.py:2061: UserWarning: CRS mismatch between the CRS of left geometries and the CRS of right geometries.\n",
      "Use `to_crs()` to reproject one of the input geometries to match the CRS of the other.\n",
      "\n",
      "Left CRS: EPSG:4326\n",
      "Right CRS: None\n",
      "\n",
      "  return geopandas.sjoin(left_df=self, right_df=df, *args, **kwargs)\n",
      "/tmp/ipykernel_868937/987684252.py:12: ParserWarning: Falling back to the 'python' engine because the 'c' engine does not support regex separators (separators > 1 char and different from '\\s+' are interpreted as regex); you can avoid this warning by specifying engine='python'.\n",
      "  pd.read_csv(path, delimiter=r',\\s+')\n"
     ]
    },
    {
     "name": "stdout",
     "output_type": "stream",
     "text": [
      "HALOLA_2015\n"
     ]
    },
    {
     "name": "stderr",
     "output_type": "stream",
     "text": [
      "/home/fred/micromamba/envs/open-gira/lib/python3.10/site-packages/geopandas/geodataframe.py:2061: UserWarning: CRS mismatch between the CRS of left geometries and the CRS of right geometries.\n",
      "Use `to_crs()` to reproject one of the input geometries to match the CRS of the other.\n",
      "\n",
      "Left CRS: EPSG:4326\n",
      "Right CRS: None\n",
      "\n",
      "  return geopandas.sjoin(left_df=self, right_df=df, *args, **kwargs)\n",
      "/tmp/ipykernel_868937/987684252.py:12: ParserWarning: Falling back to the 'python' engine because the 'c' engine does not support regex separators (separators > 1 char and different from '\\s+' are interpreted as regex); you can avoid this warning by specifying engine='python'.\n",
      "  pd.read_csv(path, delimiter=r',\\s+')\n",
      "/tmp/ipykernel_868937/987684252.py:12: ParserWarning: Falling back to the 'python' engine because the 'c' engine does not support regex separators (separators > 1 char and different from '\\s+' are interpreted as regex); you can avoid this warning by specifying engine='python'.\n",
      "  pd.read_csv(path, delimiter=r',\\s+')\n"
     ]
    },
    {
     "name": "stdout",
     "output_type": "stream",
     "text": [
      "couldn't calculate the error or ratio for CLAUDETTE_2015, skipping...\n"
     ]
    },
    {
     "name": "stderr",
     "output_type": "stream",
     "text": [
      "/tmp/ipykernel_868937/987684252.py:12: ParserWarning: Falling back to the 'python' engine because the 'c' engine does not support regex separators (separators > 1 char and different from '\\s+' are interpreted as regex); you can avoid this warning by specifying engine='python'.\n",
      "  pd.read_csv(path, delimiter=r',\\s+')\n"
     ]
    },
    {
     "name": "stdout",
     "output_type": "stream",
     "text": [
      "KOMEN_2015\n",
      "KOMEN_2015 has 21.43333333333333, skipping plotting...\n"
     ]
    },
    {
     "name": "stderr",
     "output_type": "stream",
     "text": [
      "/home/fred/micromamba/envs/open-gira/lib/python3.10/site-packages/geopandas/geodataframe.py:2061: UserWarning: CRS mismatch between the CRS of left geometries and the CRS of right geometries.\n",
      "Use `to_crs()` to reproject one of the input geometries to match the CRS of the other.\n",
      "\n",
      "Left CRS: EPSG:4326\n",
      "Right CRS: None\n",
      "\n",
      "  return geopandas.sjoin(left_df=self, right_df=df, *args, **kwargs)\n",
      "/tmp/ipykernel_868937/987684252.py:12: ParserWarning: Falling back to the 'python' engine because the 'c' engine does not support regex separators (separators > 1 char and different from '\\s+' are interpreted as regex); you can avoid this warning by specifying engine='python'.\n",
      "  pd.read_csv(path, delimiter=r',\\s+')\n",
      "/tmp/ipykernel_868937/987684252.py:12: ParserWarning: Falling back to the 'python' engine because the 'c' engine does not support regex separators (separators > 1 char and different from '\\s+' are interpreted as regex); you can avoid this warning by specifying engine='python'.\n",
      "  pd.read_csv(path, delimiter=r',\\s+')\n"
     ]
    },
    {
     "name": "stdout",
     "output_type": "stream",
     "text": [
      "SOUDELOR_2015\n"
     ]
    },
    {
     "name": "stderr",
     "output_type": "stream",
     "text": [
      "/home/fred/micromamba/envs/open-gira/lib/python3.10/site-packages/geopandas/geodataframe.py:2061: UserWarning: CRS mismatch between the CRS of left geometries and the CRS of right geometries.\n",
      "Use `to_crs()` to reproject one of the input geometries to match the CRS of the other.\n",
      "\n",
      "Left CRS: EPSG:4326\n",
      "Right CRS: None\n",
      "\n",
      "  return geopandas.sjoin(left_df=self, right_df=df, *args, **kwargs)\n",
      "/tmp/ipykernel_868937/987684252.py:12: ParserWarning: Falling back to the 'python' engine because the 'c' engine does not support regex separators (separators > 1 char and different from '\\s+' are interpreted as regex); you can avoid this warning by specifying engine='python'.\n",
      "  pd.read_csv(path, delimiter=r',\\s+')\n"
     ]
    },
    {
     "name": "stdout",
     "output_type": "stream",
     "text": [
      "GONI_2015\n"
     ]
    },
    {
     "name": "stderr",
     "output_type": "stream",
     "text": [
      "/home/fred/micromamba/envs/open-gira/lib/python3.10/site-packages/geopandas/geodataframe.py:2061: UserWarning: CRS mismatch between the CRS of left geometries and the CRS of right geometries.\n",
      "Use `to_crs()` to reproject one of the input geometries to match the CRS of the other.\n",
      "\n",
      "Left CRS: EPSG:4326\n",
      "Right CRS: None\n",
      "\n",
      "  return geopandas.sjoin(left_df=self, right_df=df, *args, **kwargs)\n",
      "/tmp/ipykernel_868937/987684252.py:12: ParserWarning: Falling back to the 'python' engine because the 'c' engine does not support regex separators (separators > 1 char and different from '\\s+' are interpreted as regex); you can avoid this warning by specifying engine='python'.\n",
      "  pd.read_csv(path, delimiter=r',\\s+')\n"
     ]
    },
    {
     "name": "stdout",
     "output_type": "stream",
     "text": [
      "ERIKA_2015\n",
      "ERIKA_2015 has 23.148, skipping plotting...\n"
     ]
    },
    {
     "name": "stderr",
     "output_type": "stream",
     "text": [
      "/home/fred/micromamba/envs/open-gira/lib/python3.10/site-packages/geopandas/geodataframe.py:2061: UserWarning: CRS mismatch between the CRS of left geometries and the CRS of right geometries.\n",
      "Use `to_crs()` to reproject one of the input geometries to match the CRS of the other.\n",
      "\n",
      "Left CRS: EPSG:4326\n",
      "Right CRS: None\n",
      "\n",
      "  return geopandas.sjoin(left_df=self, right_df=df, *args, **kwargs)\n",
      "/tmp/ipykernel_868937/987684252.py:12: ParserWarning: Falling back to the 'python' engine because the 'c' engine does not support regex separators (separators > 1 char and different from '\\s+' are interpreted as regex); you can avoid this warning by specifying engine='python'.\n",
      "  pd.read_csv(path, delimiter=r',\\s+')\n"
     ]
    },
    {
     "name": "stdout",
     "output_type": "stream",
     "text": [
      "ETAU_2015\n",
      "ETAU_2015 has 26.989078083939276, skipping plotting...\n"
     ]
    },
    {
     "name": "stderr",
     "output_type": "stream",
     "text": [
      "/home/fred/micromamba/envs/open-gira/lib/python3.10/site-packages/geopandas/geodataframe.py:2061: UserWarning: CRS mismatch between the CRS of left geometries and the CRS of right geometries.\n",
      "Use `to_crs()` to reproject one of the input geometries to match the CRS of the other.\n",
      "\n",
      "Left CRS: EPSG:4326\n",
      "Right CRS: None\n",
      "\n",
      "  return geopandas.sjoin(left_df=self, right_df=df, *args, **kwargs)\n",
      "/tmp/ipykernel_868937/987684252.py:12: ParserWarning: Falling back to the 'python' engine because the 'c' engine does not support regex separators (separators > 1 char and different from '\\s+' are interpreted as regex); you can avoid this warning by specifying engine='python'.\n",
      "  pd.read_csv(path, delimiter=r',\\s+')\n",
      "/tmp/ipykernel_868937/987684252.py:12: ParserWarning: Falling back to the 'python' engine because the 'c' engine does not support regex separators (separators > 1 char and different from '\\s+' are interpreted as regex); you can avoid this warning by specifying engine='python'.\n",
      "  pd.read_csv(path, delimiter=r',\\s+')\n"
     ]
    },
    {
     "name": "stdout",
     "output_type": "stream",
     "text": [
      "DUJUAN_2015\n"
     ]
    },
    {
     "name": "stderr",
     "output_type": "stream",
     "text": [
      "/home/fred/micromamba/envs/open-gira/lib/python3.10/site-packages/geopandas/geodataframe.py:2061: UserWarning: CRS mismatch between the CRS of left geometries and the CRS of right geometries.\n",
      "Use `to_crs()` to reproject one of the input geometries to match the CRS of the other.\n",
      "\n",
      "Left CRS: EPSG:4326\n",
      "Right CRS: None\n",
      "\n",
      "  return geopandas.sjoin(left_df=self, right_df=df, *args, **kwargs)\n",
      "/tmp/ipykernel_868937/987684252.py:12: ParserWarning: Falling back to the 'python' engine because the 'c' engine does not support regex separators (separators > 1 char and different from '\\s+' are interpreted as regex); you can avoid this warning by specifying engine='python'.\n",
      "  pd.read_csv(path, delimiter=r',\\s+')\n",
      "/tmp/ipykernel_868937/987684252.py:12: ParserWarning: Falling back to the 'python' engine because the 'c' engine does not support regex separators (separators > 1 char and different from '\\s+' are interpreted as regex); you can avoid this warning by specifying engine='python'.\n",
      "  pd.read_csv(path, delimiter=r',\\s+')\n"
     ]
    },
    {
     "name": "stdout",
     "output_type": "stream",
     "text": [
      "MUJIGAE_2015\n"
     ]
    },
    {
     "name": "stderr",
     "output_type": "stream",
     "text": [
      "/home/fred/micromamba/envs/open-gira/lib/python3.10/site-packages/geopandas/geodataframe.py:2061: UserWarning: CRS mismatch between the CRS of left geometries and the CRS of right geometries.\n",
      "Use `to_crs()` to reproject one of the input geometries to match the CRS of the other.\n",
      "\n",
      "Left CRS: EPSG:4326\n",
      "Right CRS: None\n",
      "\n",
      "  return geopandas.sjoin(left_df=self, right_df=df, *args, **kwargs)\n",
      "/tmp/ipykernel_868937/987684252.py:12: ParserWarning: Falling back to the 'python' engine because the 'c' engine does not support regex separators (separators > 1 char and different from '\\s+' are interpreted as regex); you can avoid this warning by specifying engine='python'.\n",
      "  pd.read_csv(path, delimiter=r',\\s+')\n"
     ]
    },
    {
     "name": "stdout",
     "output_type": "stream",
     "text": [
      "KOPPU_2015\n"
     ]
    },
    {
     "name": "stderr",
     "output_type": "stream",
     "text": [
      "/home/fred/micromamba/envs/open-gira/lib/python3.10/site-packages/geopandas/geodataframe.py:2061: UserWarning: CRS mismatch between the CRS of left geometries and the CRS of right geometries.\n",
      "Use `to_crs()` to reproject one of the input geometries to match the CRS of the other.\n",
      "\n",
      "Left CRS: EPSG:4326\n",
      "Right CRS: None\n",
      "\n",
      "  return geopandas.sjoin(left_df=self, right_df=df, *args, **kwargs)\n",
      "/tmp/ipykernel_868937/987684252.py:12: ParserWarning: Falling back to the 'python' engine because the 'c' engine does not support regex separators (separators > 1 char and different from '\\s+' are interpreted as regex); you can avoid this warning by specifying engine='python'.\n",
      "  pd.read_csv(path, delimiter=r',\\s+')\n",
      "/tmp/ipykernel_868937/987684252.py:12: ParserWarning: Falling back to the 'python' engine because the 'c' engine does not support regex separators (separators > 1 char and different from '\\s+' are interpreted as regex); you can avoid this warning by specifying engine='python'.\n",
      "  pd.read_csv(path, delimiter=r',\\s+')\n"
     ]
    },
    {
     "name": "stdout",
     "output_type": "stream",
     "text": [
      "PATRICIA_2015\n"
     ]
    },
    {
     "name": "stderr",
     "output_type": "stream",
     "text": [
      "/home/fred/micromamba/envs/open-gira/lib/python3.10/site-packages/geopandas/geodataframe.py:2061: UserWarning: CRS mismatch between the CRS of left geometries and the CRS of right geometries.\n",
      "Use `to_crs()` to reproject one of the input geometries to match the CRS of the other.\n",
      "\n",
      "Left CRS: EPSG:4326\n",
      "Right CRS: None\n",
      "\n",
      "  return geopandas.sjoin(left_df=self, right_df=df, *args, **kwargs)\n",
      "/tmp/ipykernel_868937/987684252.py:12: ParserWarning: Falling back to the 'python' engine because the 'c' engine does not support regex separators (separators > 1 char and different from '\\s+' are interpreted as regex); you can avoid this warning by specifying engine='python'.\n",
      "  pd.read_csv(path, delimiter=r',\\s+')\n"
     ]
    },
    {
     "name": "stdout",
     "output_type": "stream",
     "text": [
      "CHAPALA_2015\n"
     ]
    },
    {
     "name": "stderr",
     "output_type": "stream",
     "text": [
      "/home/fred/micromamba/envs/open-gira/lib/python3.10/site-packages/geopandas/geodataframe.py:2061: UserWarning: CRS mismatch between the CRS of left geometries and the CRS of right geometries.\n",
      "Use `to_crs()` to reproject one of the input geometries to match the CRS of the other.\n",
      "\n",
      "Left CRS: EPSG:4326\n",
      "Right CRS: None\n",
      "\n",
      "  return geopandas.sjoin(left_df=self, right_df=df, *args, **kwargs)\n",
      "/tmp/ipykernel_868937/987684252.py:12: ParserWarning: Falling back to the 'python' engine because the 'c' engine does not support regex separators (separators > 1 char and different from '\\s+' are interpreted as regex); you can avoid this warning by specifying engine='python'.\n",
      "  pd.read_csv(path, delimiter=r',\\s+')\n"
     ]
    },
    {
     "name": "stdout",
     "output_type": "stream",
     "text": [
      "MEGH_2015\n"
     ]
    },
    {
     "name": "stderr",
     "output_type": "stream",
     "text": [
      "/home/fred/micromamba/envs/open-gira/lib/python3.10/site-packages/geopandas/geodataframe.py:2061: UserWarning: CRS mismatch between the CRS of left geometries and the CRS of right geometries.\n",
      "Use `to_crs()` to reproject one of the input geometries to match the CRS of the other.\n",
      "\n",
      "Left CRS: EPSG:4326\n",
      "Right CRS: None\n",
      "\n",
      "  return geopandas.sjoin(left_df=self, right_df=df, *args, **kwargs)\n",
      "/tmp/ipykernel_868937/987684252.py:12: ParserWarning: Falling back to the 'python' engine because the 'c' engine does not support regex separators (separators > 1 char and different from '\\s+' are interpreted as regex); you can avoid this warning by specifying engine='python'.\n",
      "  pd.read_csv(path, delimiter=r',\\s+')\n"
     ]
    },
    {
     "name": "stdout",
     "output_type": "stream",
     "text": [
      "SANDRA_2015\n"
     ]
    },
    {
     "name": "stderr",
     "output_type": "stream",
     "text": [
      "/home/fred/micromamba/envs/open-gira/lib/python3.10/site-packages/geopandas/geodataframe.py:2061: UserWarning: CRS mismatch between the CRS of left geometries and the CRS of right geometries.\n",
      "Use `to_crs()` to reproject one of the input geometries to match the CRS of the other.\n",
      "\n",
      "Left CRS: EPSG:4326\n",
      "Right CRS: None\n",
      "\n",
      "  return geopandas.sjoin(left_df=self, right_df=df, *args, **kwargs)\n",
      "/tmp/ipykernel_868937/987684252.py:12: ParserWarning: Falling back to the 'python' engine because the 'c' engine does not support regex separators (separators > 1 char and different from '\\s+' are interpreted as regex); you can avoid this warning by specifying engine='python'.\n",
      "  pd.read_csv(path, delimiter=r',\\s+')\n"
     ]
    },
    {
     "name": "stdout",
     "output_type": "stream",
     "text": [
      "MELOR_2015\n"
     ]
    },
    {
     "name": "stderr",
     "output_type": "stream",
     "text": [
      "/home/fred/micromamba/envs/open-gira/lib/python3.10/site-packages/geopandas/geodataframe.py:2061: UserWarning: CRS mismatch between the CRS of left geometries and the CRS of right geometries.\n",
      "Use `to_crs()` to reproject one of the input geometries to match the CRS of the other.\n",
      "\n",
      "Left CRS: EPSG:4326\n",
      "Right CRS: None\n",
      "\n",
      "  return geopandas.sjoin(left_df=self, right_df=df, *args, **kwargs)\n",
      "/tmp/ipykernel_868937/987684252.py:12: ParserWarning: Falling back to the 'python' engine because the 'c' engine does not support regex separators (separators > 1 char and different from '\\s+' are interpreted as regex); you can avoid this warning by specifying engine='python'.\n",
      "  pd.read_csv(path, delimiter=r',\\s+')\n"
     ]
    },
    {
     "name": "stdout",
     "output_type": "stream",
     "text": [
      "STAN_2016\n",
      "STAN_2016 has 31.916181818181816, skipping plotting...\n"
     ]
    },
    {
     "name": "stderr",
     "output_type": "stream",
     "text": [
      "/home/fred/micromamba/envs/open-gira/lib/python3.10/site-packages/geopandas/geodataframe.py:2061: UserWarning: CRS mismatch between the CRS of left geometries and the CRS of right geometries.\n",
      "Use `to_crs()` to reproject one of the input geometries to match the CRS of the other.\n",
      "\n",
      "Left CRS: EPSG:4326\n",
      "Right CRS: None\n",
      "\n",
      "  return geopandas.sjoin(left_df=self, right_df=df, *args, **kwargs)\n",
      "/tmp/ipykernel_868937/987684252.py:12: ParserWarning: Falling back to the 'python' engine because the 'c' engine does not support regex separators (separators > 1 char and different from '\\s+' are interpreted as regex); you can avoid this warning by specifying engine='python'.\n",
      "  pd.read_csv(path, delimiter=r',\\s+')\n"
     ]
    },
    {
     "name": "stdout",
     "output_type": "stream",
     "text": [
      "ROANU_2016\n",
      "ROANU_2016 has 25.72, skipping plotting...\n"
     ]
    },
    {
     "name": "stderr",
     "output_type": "stream",
     "text": [
      "/home/fred/micromamba/envs/open-gira/lib/python3.10/site-packages/geopandas/geodataframe.py:2061: UserWarning: CRS mismatch between the CRS of left geometries and the CRS of right geometries.\n",
      "Use `to_crs()` to reproject one of the input geometries to match the CRS of the other.\n",
      "\n",
      "Left CRS: EPSG:4326\n",
      "Right CRS: None\n",
      "\n",
      "  return geopandas.sjoin(left_df=self, right_df=df, *args, **kwargs)\n",
      "/tmp/ipykernel_868937/987684252.py:12: ParserWarning: Falling back to the 'python' engine because the 'c' engine does not support regex separators (separators > 1 char and different from '\\s+' are interpreted as regex); you can avoid this warning by specifying engine='python'.\n",
      "  pd.read_csv(path, delimiter=r',\\s+')\n",
      "/tmp/ipykernel_868937/987684252.py:12: ParserWarning: Falling back to the 'python' engine because the 'c' engine does not support regex separators (separators > 1 char and different from '\\s+' are interpreted as regex); you can avoid this warning by specifying engine='python'.\n",
      "  pd.read_csv(path, delimiter=r',\\s+')\n"
     ]
    },
    {
     "name": "stdout",
     "output_type": "stream",
     "text": [
      "BONNIE_2016\n",
      "BONNIE_2016 has 20.576, skipping plotting...\n"
     ]
    },
    {
     "name": "stderr",
     "output_type": "stream",
     "text": [
      "/home/fred/micromamba/envs/open-gira/lib/python3.10/site-packages/geopandas/geodataframe.py:2061: UserWarning: CRS mismatch between the CRS of left geometries and the CRS of right geometries.\n",
      "Use `to_crs()` to reproject one of the input geometries to match the CRS of the other.\n",
      "\n",
      "Left CRS: EPSG:4326\n",
      "Right CRS: None\n",
      "\n",
      "  return geopandas.sjoin(left_df=self, right_df=df, *args, **kwargs)\n",
      "/tmp/ipykernel_868937/987684252.py:12: ParserWarning: Falling back to the 'python' engine because the 'c' engine does not support regex separators (separators > 1 char and different from '\\s+' are interpreted as regex); you can avoid this warning by specifying engine='python'.\n",
      "  pd.read_csv(path, delimiter=r',\\s+')\n",
      "/tmp/ipykernel_868937/987684252.py:12: ParserWarning: Falling back to the 'python' engine because the 'c' engine does not support regex separators (separators > 1 char and different from '\\s+' are interpreted as regex); you can avoid this warning by specifying engine='python'.\n",
      "  pd.read_csv(path, delimiter=r',\\s+')\n",
      "/tmp/ipykernel_868937/987684252.py:12: ParserWarning: Falling back to the 'python' engine because the 'c' engine does not support regex separators (separators > 1 char and different from '\\s+' are interpreted as regex); you can avoid this warning by specifying engine='python'.\n",
      "  pd.read_csv(path, delimiter=r',\\s+')\n"
     ]
    },
    {
     "name": "stdout",
     "output_type": "stream",
     "text": [
      "COLIN_2016\n",
      "COLIN_2016 has 25.72, skipping plotting...\n"
     ]
    },
    {
     "name": "stderr",
     "output_type": "stream",
     "text": [
      "/home/fred/micromamba/envs/open-gira/lib/python3.10/site-packages/geopandas/geodataframe.py:2061: UserWarning: CRS mismatch between the CRS of left geometries and the CRS of right geometries.\n",
      "Use `to_crs()` to reproject one of the input geometries to match the CRS of the other.\n",
      "\n",
      "Left CRS: EPSG:4326\n",
      "Right CRS: None\n",
      "\n",
      "  return geopandas.sjoin(left_df=self, right_df=df, *args, **kwargs)\n",
      "/tmp/ipykernel_868937/987684252.py:12: ParserWarning: Falling back to the 'python' engine because the 'c' engine does not support regex separators (separators > 1 char and different from '\\s+' are interpreted as regex); you can avoid this warning by specifying engine='python'.\n",
      "  pd.read_csv(path, delimiter=r',\\s+')\n"
     ]
    },
    {
     "name": "stdout",
     "output_type": "stream",
     "text": [
      "DANIELLE_2016\n",
      "DANIELLE_2016 has 20.576, skipping plotting...\n"
     ]
    },
    {
     "name": "stderr",
     "output_type": "stream",
     "text": [
      "/home/fred/micromamba/envs/open-gira/lib/python3.10/site-packages/geopandas/geodataframe.py:2061: UserWarning: CRS mismatch between the CRS of left geometries and the CRS of right geometries.\n",
      "Use `to_crs()` to reproject one of the input geometries to match the CRS of the other.\n",
      "\n",
      "Left CRS: EPSG:4326\n",
      "Right CRS: None\n",
      "\n",
      "  return geopandas.sjoin(left_df=self, right_df=df, *args, **kwargs)\n",
      "/tmp/ipykernel_868937/987684252.py:12: ParserWarning: Falling back to the 'python' engine because the 'c' engine does not support regex separators (separators > 1 char and different from '\\s+' are interpreted as regex); you can avoid this warning by specifying engine='python'.\n",
      "  pd.read_csv(path, delimiter=r',\\s+')\n",
      "/tmp/ipykernel_868937/987684252.py:12: ParserWarning: Falling back to the 'python' engine because the 'c' engine does not support regex separators (separators > 1 char and different from '\\s+' are interpreted as regex); you can avoid this warning by specifying engine='python'.\n",
      "  pd.read_csv(path, delimiter=r',\\s+')\n"
     ]
    },
    {
     "name": "stdout",
     "output_type": "stream",
     "text": [
      "NEPARTAK_2016\n"
     ]
    },
    {
     "name": "stderr",
     "output_type": "stream",
     "text": [
      "/home/fred/micromamba/envs/open-gira/lib/python3.10/site-packages/geopandas/geodataframe.py:2061: UserWarning: CRS mismatch between the CRS of left geometries and the CRS of right geometries.\n",
      "Use `to_crs()` to reproject one of the input geometries to match the CRS of the other.\n",
      "\n",
      "Left CRS: EPSG:4326\n",
      "Right CRS: None\n",
      "\n",
      "  return geopandas.sjoin(left_df=self, right_df=df, *args, **kwargs)\n",
      "/tmp/ipykernel_868937/987684252.py:12: ParserWarning: Falling back to the 'python' engine because the 'c' engine does not support regex separators (separators > 1 char and different from '\\s+' are interpreted as regex); you can avoid this warning by specifying engine='python'.\n",
      "  pd.read_csv(path, delimiter=r',\\s+')\n"
     ]
    },
    {
     "name": "stdout",
     "output_type": "stream",
     "text": [
      "ABELA_2016\n",
      "ABELA_2016 has 27.74642424242424, skipping plotting...\n"
     ]
    },
    {
     "name": "stderr",
     "output_type": "stream",
     "text": [
      "/home/fred/micromamba/envs/open-gira/lib/python3.10/site-packages/geopandas/geodataframe.py:2061: UserWarning: CRS mismatch between the CRS of left geometries and the CRS of right geometries.\n",
      "Use `to_crs()` to reproject one of the input geometries to match the CRS of the other.\n",
      "\n",
      "Left CRS: EPSG:4326\n",
      "Right CRS: None\n",
      "\n",
      "  return geopandas.sjoin(left_df=self, right_df=df, *args, **kwargs)\n",
      "/tmp/ipykernel_868937/987684252.py:12: ParserWarning: Falling back to the 'python' engine because the 'c' engine does not support regex separators (separators > 1 char and different from '\\s+' are interpreted as regex); you can avoid this warning by specifying engine='python'.\n",
      "  pd.read_csv(path, delimiter=r',\\s+')\n"
     ]
    },
    {
     "name": "stdout",
     "output_type": "stream",
     "text": [
      "MIRINAE_2016\n",
      "MIRINAE_2016 has 28.80424108177063, skipping plotting...\n"
     ]
    },
    {
     "name": "stderr",
     "output_type": "stream",
     "text": [
      "/home/fred/micromamba/envs/open-gira/lib/python3.10/site-packages/geopandas/geodataframe.py:2061: UserWarning: CRS mismatch between the CRS of left geometries and the CRS of right geometries.\n",
      "Use `to_crs()` to reproject one of the input geometries to match the CRS of the other.\n",
      "\n",
      "Left CRS: EPSG:4326\n",
      "Right CRS: None\n",
      "\n",
      "  return geopandas.sjoin(left_df=self, right_df=df, *args, **kwargs)\n",
      "/tmp/ipykernel_868937/987684252.py:12: ParserWarning: Falling back to the 'python' engine because the 'c' engine does not support regex separators (separators > 1 char and different from '\\s+' are interpreted as regex); you can avoid this warning by specifying engine='python'.\n",
      "  pd.read_csv(path, delimiter=r',\\s+')\n",
      "/tmp/ipykernel_868937/987684252.py:12: ParserWarning: Falling back to the 'python' engine because the 'c' engine does not support regex separators (separators > 1 char and different from '\\s+' are interpreted as regex); you can avoid this warning by specifying engine='python'.\n",
      "  pd.read_csv(path, delimiter=r',\\s+')\n"
     ]
    },
    {
     "name": "stdout",
     "output_type": "stream",
     "text": [
      "NIDA_2016\n",
      "NIDA_2016 has 36.052876297997194, skipping plotting...\n"
     ]
    },
    {
     "name": "stderr",
     "output_type": "stream",
     "text": [
      "/home/fred/micromamba/envs/open-gira/lib/python3.10/site-packages/geopandas/geodataframe.py:2061: UserWarning: CRS mismatch between the CRS of left geometries and the CRS of right geometries.\n",
      "Use `to_crs()` to reproject one of the input geometries to match the CRS of the other.\n",
      "\n",
      "Left CRS: EPSG:4326\n",
      "Right CRS: None\n",
      "\n",
      "  return geopandas.sjoin(left_df=self, right_df=df, *args, **kwargs)\n",
      "/tmp/ipykernel_868937/987684252.py:12: ParserWarning: Falling back to the 'python' engine because the 'c' engine does not support regex separators (separators > 1 char and different from '\\s+' are interpreted as regex); you can avoid this warning by specifying engine='python'.\n",
      "  pd.read_csv(path, delimiter=r',\\s+')\n"
     ]
    },
    {
     "name": "stdout",
     "output_type": "stream",
     "text": [
      "EARL_2016\n",
      "EARL_2016 has 38.58, skipping plotting...\n"
     ]
    },
    {
     "name": "stderr",
     "output_type": "stream",
     "text": [
      "/home/fred/micromamba/envs/open-gira/lib/python3.10/site-packages/geopandas/geodataframe.py:2061: UserWarning: CRS mismatch between the CRS of left geometries and the CRS of right geometries.\n",
      "Use `to_crs()` to reproject one of the input geometries to match the CRS of the other.\n",
      "\n",
      "Left CRS: EPSG:4326\n",
      "Right CRS: None\n",
      "\n",
      "  return geopandas.sjoin(left_df=self, right_df=df, *args, **kwargs)\n",
      "/tmp/ipykernel_868937/987684252.py:12: ParserWarning: Falling back to the 'python' engine because the 'c' engine does not support regex separators (separators > 1 char and different from '\\s+' are interpreted as regex); you can avoid this warning by specifying engine='python'.\n",
      "  pd.read_csv(path, delimiter=r',\\s+')\n",
      "/tmp/ipykernel_868937/987684252.py:12: ParserWarning: Falling back to the 'python' engine because the 'c' engine does not support regex separators (separators > 1 char and different from '\\s+' are interpreted as regex); you can avoid this warning by specifying engine='python'.\n",
      "  pd.read_csv(path, delimiter=r',\\s+')\n"
     ]
    },
    {
     "name": "stdout",
     "output_type": "stream",
     "text": [
      "JAVIER_2016\n",
      "JAVIER_2016 has 28.291999999999998, skipping plotting...\n"
     ]
    },
    {
     "name": "stderr",
     "output_type": "stream",
     "text": [
      "/home/fred/micromamba/envs/open-gira/lib/python3.10/site-packages/geopandas/geodataframe.py:2061: UserWarning: CRS mismatch between the CRS of left geometries and the CRS of right geometries.\n",
      "Use `to_crs()` to reproject one of the input geometries to match the CRS of the other.\n",
      "\n",
      "Left CRS: EPSG:4326\n",
      "Right CRS: None\n",
      "\n",
      "  return geopandas.sjoin(left_df=self, right_df=df, *args, **kwargs)\n",
      "/tmp/ipykernel_868937/987684252.py:12: ParserWarning: Falling back to the 'python' engine because the 'c' engine does not support regex separators (separators > 1 char and different from '\\s+' are interpreted as regex); you can avoid this warning by specifying engine='python'.\n",
      "  pd.read_csv(path, delimiter=r',\\s+')\n"
     ]
    },
    {
     "name": "stdout",
     "output_type": "stream",
     "text": [
      "CHANTHU_2016\n",
      "CHANTHU_2016 has 27.19392923842327, skipping plotting...\n"
     ]
    },
    {
     "name": "stderr",
     "output_type": "stream",
     "text": [
      "/home/fred/micromamba/envs/open-gira/lib/python3.10/site-packages/geopandas/geodataframe.py:2061: UserWarning: CRS mismatch between the CRS of left geometries and the CRS of right geometries.\n",
      "Use `to_crs()` to reproject one of the input geometries to match the CRS of the other.\n",
      "\n",
      "Left CRS: EPSG:4326\n",
      "Right CRS: None\n",
      "\n",
      "  return geopandas.sjoin(left_df=self, right_df=df, *args, **kwargs)\n",
      "/tmp/ipykernel_868937/987684252.py:12: ParserWarning: Falling back to the 'python' engine because the 'c' engine does not support regex separators (separators > 1 char and different from '\\s+' are interpreted as regex); you can avoid this warning by specifying engine='python'.\n",
      "  pd.read_csv(path, delimiter=r',\\s+')\n"
     ]
    },
    {
     "name": "stdout",
     "output_type": "stream",
     "text": [
      "DIANMU_2016\n",
      "DIANMU_2016 has 21.94944603138155, skipping plotting...\n"
     ]
    },
    {
     "name": "stderr",
     "output_type": "stream",
     "text": [
      "/home/fred/micromamba/envs/open-gira/lib/python3.10/site-packages/geopandas/geodataframe.py:2061: UserWarning: CRS mismatch between the CRS of left geometries and the CRS of right geometries.\n",
      "Use `to_crs()` to reproject one of the input geometries to match the CRS of the other.\n",
      "\n",
      "Left CRS: EPSG:4326\n",
      "Right CRS: None\n",
      "\n",
      "  return geopandas.sjoin(left_df=self, right_df=df, *args, **kwargs)\n",
      "/tmp/ipykernel_868937/987684252.py:12: ParserWarning: Falling back to the 'python' engine because the 'c' engine does not support regex separators (separators > 1 char and different from '\\s+' are interpreted as regex); you can avoid this warning by specifying engine='python'.\n",
      "  pd.read_csv(path, delimiter=r',\\s+')\n"
     ]
    },
    {
     "name": "stdout",
     "output_type": "stream",
     "text": [
      "MINDULLE_2016\n",
      "MINDULLE_2016 has 34.234018859548414, skipping plotting...\n"
     ]
    },
    {
     "name": "stderr",
     "output_type": "stream",
     "text": [
      "/home/fred/micromamba/envs/open-gira/lib/python3.10/site-packages/geopandas/geodataframe.py:2061: UserWarning: CRS mismatch between the CRS of left geometries and the CRS of right geometries.\n",
      "Use `to_crs()` to reproject one of the input geometries to match the CRS of the other.\n",
      "\n",
      "Left CRS: EPSG:4326\n",
      "Right CRS: None\n",
      "\n",
      "  return geopandas.sjoin(left_df=self, right_df=df, *args, **kwargs)\n",
      "/tmp/ipykernel_868937/987684252.py:12: ParserWarning: Falling back to the 'python' engine because the 'c' engine does not support regex separators (separators > 1 char and different from '\\s+' are interpreted as regex); you can avoid this warning by specifying engine='python'.\n",
      "  pd.read_csv(path, delimiter=r',\\s+')\n"
     ]
    },
    {
     "name": "stdout",
     "output_type": "stream",
     "text": [
      "LIONROCK_2016\n"
     ]
    },
    {
     "name": "stderr",
     "output_type": "stream",
     "text": [
      "/home/fred/micromamba/envs/open-gira/lib/python3.10/site-packages/geopandas/geodataframe.py:2061: UserWarning: CRS mismatch between the CRS of left geometries and the CRS of right geometries.\n",
      "Use `to_crs()` to reproject one of the input geometries to match the CRS of the other.\n",
      "\n",
      "Left CRS: EPSG:4326\n",
      "Right CRS: None\n",
      "\n",
      "  return geopandas.sjoin(left_df=self, right_df=df, *args, **kwargs)\n",
      "/tmp/ipykernel_868937/987684252.py:12: ParserWarning: Falling back to the 'python' engine because the 'c' engine does not support regex separators (separators > 1 char and different from '\\s+' are interpreted as regex); you can avoid this warning by specifying engine='python'.\n",
      "  pd.read_csv(path, delimiter=r',\\s+')\n",
      "/tmp/ipykernel_868937/987684252.py:12: ParserWarning: Falling back to the 'python' engine because the 'c' engine does not support regex separators (separators > 1 char and different from '\\s+' are interpreted as regex); you can avoid this warning by specifying engine='python'.\n",
      "  pd.read_csv(path, delimiter=r',\\s+')\n",
      "/tmp/ipykernel_868937/987684252.py:12: ParserWarning: Falling back to the 'python' engine because the 'c' engine does not support regex separators (separators > 1 char and different from '\\s+' are interpreted as regex); you can avoid this warning by specifying engine='python'.\n",
      "  pd.read_csv(path, delimiter=r',\\s+')\n",
      "/tmp/ipykernel_868937/987684252.py:12: ParserWarning: Falling back to the 'python' engine because the 'c' engine does not support regex separators (separators > 1 char and different from '\\s+' are interpreted as regex); you can avoid this warning by specifying engine='python'.\n",
      "  pd.read_csv(path, delimiter=r',\\s+')\n"
     ]
    },
    {
     "name": "stdout",
     "output_type": "stream",
     "text": [
      "HERMINE_2016\n",
      "HERMINE_2016 has 36.007999999999996, skipping plotting...\n"
     ]
    },
    {
     "name": "stderr",
     "output_type": "stream",
     "text": [
      "/home/fred/micromamba/envs/open-gira/lib/python3.10/site-packages/geopandas/geodataframe.py:2061: UserWarning: CRS mismatch between the CRS of left geometries and the CRS of right geometries.\n",
      "Use `to_crs()` to reproject one of the input geometries to match the CRS of the other.\n",
      "\n",
      "Left CRS: EPSG:4326\n",
      "Right CRS: None\n",
      "\n",
      "  return geopandas.sjoin(left_df=self, right_df=df, *args, **kwargs)\n",
      "/tmp/ipykernel_868937/987684252.py:12: ParserWarning: Falling back to the 'python' engine because the 'c' engine does not support regex separators (separators > 1 char and different from '\\s+' are interpreted as regex); you can avoid this warning by specifying engine='python'.\n",
      "  pd.read_csv(path, delimiter=r',\\s+')\n"
     ]
    },
    {
     "name": "stdout",
     "output_type": "stream",
     "text": [
      "NAMTHEUN_2016\n"
     ]
    },
    {
     "name": "stderr",
     "output_type": "stream",
     "text": [
      "/home/fred/micromamba/envs/open-gira/lib/python3.10/site-packages/geopandas/geodataframe.py:2061: UserWarning: CRS mismatch between the CRS of left geometries and the CRS of right geometries.\n",
      "Use `to_crs()` to reproject one of the input geometries to match the CRS of the other.\n",
      "\n",
      "Left CRS: EPSG:4326\n",
      "Right CRS: None\n",
      "\n",
      "  return geopandas.sjoin(left_df=self, right_df=df, *args, **kwargs)\n",
      "/tmp/ipykernel_868937/987684252.py:12: ParserWarning: Falling back to the 'python' engine because the 'c' engine does not support regex separators (separators > 1 char and different from '\\s+' are interpreted as regex); you can avoid this warning by specifying engine='python'.\n",
      "  pd.read_csv(path, delimiter=r',\\s+')\n"
     ]
    },
    {
     "name": "stdout",
     "output_type": "stream",
     "text": [
      "NEWTON_2016\n"
     ]
    },
    {
     "name": "stderr",
     "output_type": "stream",
     "text": [
      "/home/fred/micromamba/envs/open-gira/lib/python3.10/site-packages/geopandas/geodataframe.py:2061: UserWarning: CRS mismatch between the CRS of left geometries and the CRS of right geometries.\n",
      "Use `to_crs()` to reproject one of the input geometries to match the CRS of the other.\n",
      "\n",
      "Left CRS: EPSG:4326\n",
      "Right CRS: None\n",
      "\n",
      "  return geopandas.sjoin(left_df=self, right_df=df, *args, **kwargs)\n",
      "/tmp/ipykernel_868937/987684252.py:12: ParserWarning: Falling back to the 'python' engine because the 'c' engine does not support regex separators (separators > 1 char and different from '\\s+' are interpreted as regex); you can avoid this warning by specifying engine='python'.\n",
      "  pd.read_csv(path, delimiter=r',\\s+')\n",
      "/tmp/ipykernel_868937/987684252.py:12: ParserWarning: Falling back to the 'python' engine because the 'c' engine does not support regex separators (separators > 1 char and different from '\\s+' are interpreted as regex); you can avoid this warning by specifying engine='python'.\n",
      "  pd.read_csv(path, delimiter=r',\\s+')\n"
     ]
    },
    {
     "name": "stdout",
     "output_type": "stream",
     "text": [
      "MERANTI_2016\n"
     ]
    },
    {
     "name": "stderr",
     "output_type": "stream",
     "text": [
      "/home/fred/micromamba/envs/open-gira/lib/python3.10/site-packages/geopandas/geodataframe.py:2061: UserWarning: CRS mismatch between the CRS of left geometries and the CRS of right geometries.\n",
      "Use `to_crs()` to reproject one of the input geometries to match the CRS of the other.\n",
      "\n",
      "Left CRS: EPSG:4326\n",
      "Right CRS: None\n",
      "\n",
      "  return geopandas.sjoin(left_df=self, right_df=df, *args, **kwargs)\n",
      "/tmp/ipykernel_868937/987684252.py:12: ParserWarning: Falling back to the 'python' engine because the 'c' engine does not support regex separators (separators > 1 char and different from '\\s+' are interpreted as regex); you can avoid this warning by specifying engine='python'.\n",
      "  pd.read_csv(path, delimiter=r',\\s+')\n"
     ]
    },
    {
     "name": "stdout",
     "output_type": "stream",
     "text": [
      "MALAKAS_2016\n"
     ]
    },
    {
     "name": "stderr",
     "output_type": "stream",
     "text": [
      "/home/fred/micromamba/envs/open-gira/lib/python3.10/site-packages/geopandas/geodataframe.py:2061: UserWarning: CRS mismatch between the CRS of left geometries and the CRS of right geometries.\n",
      "Use `to_crs()` to reproject one of the input geometries to match the CRS of the other.\n",
      "\n",
      "Left CRS: EPSG:4326\n",
      "Right CRS: None\n",
      "\n",
      "  return geopandas.sjoin(left_df=self, right_df=df, *args, **kwargs)\n",
      "/tmp/ipykernel_868937/987684252.py:12: ParserWarning: Falling back to the 'python' engine because the 'c' engine does not support regex separators (separators > 1 char and different from '\\s+' are interpreted as regex); you can avoid this warning by specifying engine='python'.\n",
      "  pd.read_csv(path, delimiter=r',\\s+')\n",
      "/tmp/ipykernel_868937/987684252.py:12: ParserWarning: Falling back to the 'python' engine because the 'c' engine does not support regex separators (separators > 1 char and different from '\\s+' are interpreted as regex); you can avoid this warning by specifying engine='python'.\n",
      "  pd.read_csv(path, delimiter=r',\\s+')\n",
      "/tmp/ipykernel_868937/987684252.py:12: ParserWarning: Falling back to the 'python' engine because the 'c' engine does not support regex separators (separators > 1 char and different from '\\s+' are interpreted as regex); you can avoid this warning by specifying engine='python'.\n",
      "  pd.read_csv(path, delimiter=r',\\s+')\n"
     ]
    },
    {
     "name": "stdout",
     "output_type": "stream",
     "text": [
      "JULIA_2016\n",
      "JULIA_2016 has 23.148, skipping plotting...\n"
     ]
    },
    {
     "name": "stderr",
     "output_type": "stream",
     "text": [
      "/home/fred/micromamba/envs/open-gira/lib/python3.10/site-packages/geopandas/geodataframe.py:2061: UserWarning: CRS mismatch between the CRS of left geometries and the CRS of right geometries.\n",
      "Use `to_crs()` to reproject one of the input geometries to match the CRS of the other.\n",
      "\n",
      "Left CRS: EPSG:4326\n",
      "Right CRS: None\n",
      "\n",
      "  return geopandas.sjoin(left_df=self, right_df=df, *args, **kwargs)\n",
      "/tmp/ipykernel_868937/987684252.py:12: ParserWarning: Falling back to the 'python' engine because the 'c' engine does not support regex separators (separators > 1 char and different from '\\s+' are interpreted as regex); you can avoid this warning by specifying engine='python'.\n",
      "  pd.read_csv(path, delimiter=r',\\s+')\n",
      "/tmp/ipykernel_868937/987684252.py:12: ParserWarning: Falling back to the 'python' engine because the 'c' engine does not support regex separators (separators > 1 char and different from '\\s+' are interpreted as regex); you can avoid this warning by specifying engine='python'.\n",
      "  pd.read_csv(path, delimiter=r',\\s+')\n"
     ]
    },
    {
     "name": "stdout",
     "output_type": "stream",
     "text": [
      "MEGI_2016\n"
     ]
    },
    {
     "name": "stderr",
     "output_type": "stream",
     "text": [
      "/home/fred/micromamba/envs/open-gira/lib/python3.10/site-packages/geopandas/geodataframe.py:2061: UserWarning: CRS mismatch between the CRS of left geometries and the CRS of right geometries.\n",
      "Use `to_crs()` to reproject one of the input geometries to match the CRS of the other.\n",
      "\n",
      "Left CRS: EPSG:4326\n",
      "Right CRS: None\n",
      "\n",
      "  return geopandas.sjoin(left_df=self, right_df=df, *args, **kwargs)\n",
      "/tmp/ipykernel_868937/987684252.py:12: ParserWarning: Falling back to the 'python' engine because the 'c' engine does not support regex separators (separators > 1 char and different from '\\s+' are interpreted as regex); you can avoid this warning by specifying engine='python'.\n",
      "  pd.read_csv(path, delimiter=r',\\s+')\n"
     ]
    },
    {
     "name": "stdout",
     "output_type": "stream",
     "text": [
      "CHABA_2016\n"
     ]
    },
    {
     "name": "stderr",
     "output_type": "stream",
     "text": [
      "/home/fred/micromamba/envs/open-gira/lib/python3.10/site-packages/geopandas/geodataframe.py:2061: UserWarning: CRS mismatch between the CRS of left geometries and the CRS of right geometries.\n",
      "Use `to_crs()` to reproject one of the input geometries to match the CRS of the other.\n",
      "\n",
      "Left CRS: EPSG:4326\n",
      "Right CRS: None\n",
      "\n",
      "  return geopandas.sjoin(left_df=self, right_df=df, *args, **kwargs)\n",
      "/tmp/ipykernel_868937/987684252.py:12: ParserWarning: Falling back to the 'python' engine because the 'c' engine does not support regex separators (separators > 1 char and different from '\\s+' are interpreted as regex); you can avoid this warning by specifying engine='python'.\n",
      "  pd.read_csv(path, delimiter=r',\\s+')\n",
      "/tmp/ipykernel_868937/987684252.py:12: ParserWarning: Falling back to the 'python' engine because the 'c' engine does not support regex separators (separators > 1 char and different from '\\s+' are interpreted as regex); you can avoid this warning by specifying engine='python'.\n",
      "  pd.read_csv(path, delimiter=r',\\s+')\n",
      "/tmp/ipykernel_868937/987684252.py:12: ParserWarning: Falling back to the 'python' engine because the 'c' engine does not support regex separators (separators > 1 char and different from '\\s+' are interpreted as regex); you can avoid this warning by specifying engine='python'.\n",
      "  pd.read_csv(path, delimiter=r',\\s+')\n"
     ]
    },
    {
     "name": "stdout",
     "output_type": "stream",
     "text": [
      "MATTHEW_2016\n"
     ]
    },
    {
     "name": "stderr",
     "output_type": "stream",
     "text": [
      "/home/fred/micromamba/envs/open-gira/lib/python3.10/site-packages/geopandas/geodataframe.py:2061: UserWarning: CRS mismatch between the CRS of left geometries and the CRS of right geometries.\n",
      "Use `to_crs()` to reproject one of the input geometries to match the CRS of the other.\n",
      "\n",
      "Left CRS: EPSG:4326\n",
      "Right CRS: None\n",
      "\n",
      "  return geopandas.sjoin(left_df=self, right_df=df, *args, **kwargs)\n",
      "/tmp/ipykernel_868937/987684252.py:12: ParserWarning: Falling back to the 'python' engine because the 'c' engine does not support regex separators (separators > 1 char and different from '\\s+' are interpreted as regex); you can avoid this warning by specifying engine='python'.\n",
      "  pd.read_csv(path, delimiter=r',\\s+')\n"
     ]
    },
    {
     "name": "stdout",
     "output_type": "stream",
     "text": [
      "AERE_2016\n",
      "AERE_2016 has 29.131950432453117, skipping plotting...\n"
     ]
    },
    {
     "name": "stderr",
     "output_type": "stream",
     "text": [
      "/home/fred/micromamba/envs/open-gira/lib/python3.10/site-packages/geopandas/geodataframe.py:2061: UserWarning: CRS mismatch between the CRS of left geometries and the CRS of right geometries.\n",
      "Use `to_crs()` to reproject one of the input geometries to match the CRS of the other.\n",
      "\n",
      "Left CRS: EPSG:4326\n",
      "Right CRS: None\n",
      "\n",
      "  return geopandas.sjoin(left_df=self, right_df=df, *args, **kwargs)\n",
      "/tmp/ipykernel_868937/987684252.py:12: ParserWarning: Falling back to the 'python' engine because the 'c' engine does not support regex separators (separators > 1 char and different from '\\s+' are interpreted as regex); you can avoid this warning by specifying engine='python'.\n",
      "  pd.read_csv(path, delimiter=r',\\s+')\n",
      "/tmp/ipykernel_868937/987684252.py:12: ParserWarning: Falling back to the 'python' engine because the 'c' engine does not support regex separators (separators > 1 char and different from '\\s+' are interpreted as regex); you can avoid this warning by specifying engine='python'.\n",
      "  pd.read_csv(path, delimiter=r',\\s+')\n"
     ]
    },
    {
     "name": "stdout",
     "output_type": "stream",
     "text": [
      "SARIKA_2016\n"
     ]
    },
    {
     "name": "stderr",
     "output_type": "stream",
     "text": [
      "/home/fred/micromamba/envs/open-gira/lib/python3.10/site-packages/geopandas/geodataframe.py:2061: UserWarning: CRS mismatch between the CRS of left geometries and the CRS of right geometries.\n",
      "Use `to_crs()` to reproject one of the input geometries to match the CRS of the other.\n",
      "\n",
      "Left CRS: EPSG:4326\n",
      "Right CRS: None\n",
      "\n",
      "  return geopandas.sjoin(left_df=self, right_df=df, *args, **kwargs)\n",
      "/tmp/ipykernel_868937/987684252.py:12: ParserWarning: Falling back to the 'python' engine because the 'c' engine does not support regex separators (separators > 1 char and different from '\\s+' are interpreted as regex); you can avoid this warning by specifying engine='python'.\n",
      "  pd.read_csv(path, delimiter=r',\\s+')\n",
      "/tmp/ipykernel_868937/987684252.py:12: ParserWarning: Falling back to the 'python' engine because the 'c' engine does not support regex separators (separators > 1 char and different from '\\s+' are interpreted as regex); you can avoid this warning by specifying engine='python'.\n",
      "  pd.read_csv(path, delimiter=r',\\s+')\n",
      "/tmp/ipykernel_868937/987684252.py:12: ParserWarning: Falling back to the 'python' engine because the 'c' engine does not support regex separators (separators > 1 char and different from '\\s+' are interpreted as regex); you can avoid this warning by specifying engine='python'.\n",
      "  pd.read_csv(path, delimiter=r',\\s+')\n"
     ]
    },
    {
     "name": "stdout",
     "output_type": "stream",
     "text": [
      "HAIMA_2016\n"
     ]
    },
    {
     "name": "stderr",
     "output_type": "stream",
     "text": [
      "/home/fred/micromamba/envs/open-gira/lib/python3.10/site-packages/geopandas/geodataframe.py:2061: UserWarning: CRS mismatch between the CRS of left geometries and the CRS of right geometries.\n",
      "Use `to_crs()` to reproject one of the input geometries to match the CRS of the other.\n",
      "\n",
      "Left CRS: EPSG:4326\n",
      "Right CRS: None\n",
      "\n",
      "  return geopandas.sjoin(left_df=self, right_df=df, *args, **kwargs)\n",
      "/tmp/ipykernel_868937/987684252.py:12: ParserWarning: Falling back to the 'python' engine because the 'c' engine does not support regex separators (separators > 1 char and different from '\\s+' are interpreted as regex); you can avoid this warning by specifying engine='python'.\n",
      "  pd.read_csv(path, delimiter=r',\\s+')\n"
     ]
    },
    {
     "name": "stdout",
     "output_type": "stream",
     "text": [
      "OTTO_2016\n"
     ]
    },
    {
     "name": "stderr",
     "output_type": "stream",
     "text": [
      "/home/fred/micromamba/envs/open-gira/lib/python3.10/site-packages/geopandas/geodataframe.py:2061: UserWarning: CRS mismatch between the CRS of left geometries and the CRS of right geometries.\n",
      "Use `to_crs()` to reproject one of the input geometries to match the CRS of the other.\n",
      "\n",
      "Left CRS: EPSG:4326\n",
      "Right CRS: None\n",
      "\n",
      "  return geopandas.sjoin(left_df=self, right_df=df, *args, **kwargs)\n",
      "/tmp/ipykernel_868937/987684252.py:12: ParserWarning: Falling back to the 'python' engine because the 'c' engine does not support regex separators (separators > 1 char and different from '\\s+' are interpreted as regex); you can avoid this warning by specifying engine='python'.\n",
      "  pd.read_csv(path, delimiter=r',\\s+')\n"
     ]
    },
    {
     "name": "stdout",
     "output_type": "stream",
     "text": [
      "TOKAGE_2016\n",
      "TOKAGE_2016 has 28.25178112514351, skipping plotting...\n"
     ]
    },
    {
     "name": "stderr",
     "output_type": "stream",
     "text": [
      "/home/fred/micromamba/envs/open-gira/lib/python3.10/site-packages/geopandas/geodataframe.py:2061: UserWarning: CRS mismatch between the CRS of left geometries and the CRS of right geometries.\n",
      "Use `to_crs()` to reproject one of the input geometries to match the CRS of the other.\n",
      "\n",
      "Left CRS: EPSG:4326\n",
      "Right CRS: None\n",
      "\n",
      "  return geopandas.sjoin(left_df=self, right_df=df, *args, **kwargs)\n",
      "/tmp/ipykernel_868937/987684252.py:12: ParserWarning: Falling back to the 'python' engine because the 'c' engine does not support regex separators (separators > 1 char and different from '\\s+' are interpreted as regex); you can avoid this warning by specifying engine='python'.\n",
      "  pd.read_csv(path, delimiter=r',\\s+')\n"
     ]
    },
    {
     "name": "stdout",
     "output_type": "stream",
     "text": [
      "NADA_2016\n",
      "NADA_2016 has 21.43333333333333, skipping plotting...\n"
     ]
    },
    {
     "name": "stderr",
     "output_type": "stream",
     "text": [
      "/home/fred/micromamba/envs/open-gira/lib/python3.10/site-packages/geopandas/geodataframe.py:2061: UserWarning: CRS mismatch between the CRS of left geometries and the CRS of right geometries.\n",
      "Use `to_crs()` to reproject one of the input geometries to match the CRS of the other.\n",
      "\n",
      "Left CRS: EPSG:4326\n",
      "Right CRS: None\n",
      "\n",
      "  return geopandas.sjoin(left_df=self, right_df=df, *args, **kwargs)\n",
      "/tmp/ipykernel_868937/987684252.py:12: ParserWarning: Falling back to the 'python' engine because the 'c' engine does not support regex separators (separators > 1 char and different from '\\s+' are interpreted as regex); you can avoid this warning by specifying engine='python'.\n",
      "  pd.read_csv(path, delimiter=r',\\s+')\n",
      "/tmp/ipykernel_868937/987684252.py:12: ParserWarning: Falling back to the 'python' engine because the 'c' engine does not support regex separators (separators > 1 char and different from '\\s+' are interpreted as regex); you can avoid this warning by specifying engine='python'.\n",
      "  pd.read_csv(path, delimiter=r',\\s+')\n"
     ]
    },
    {
     "name": "stdout",
     "output_type": "stream",
     "text": [
      "VARDAH_2016\n",
      "VARDAH_2016 has 38.58, skipping plotting...\n"
     ]
    },
    {
     "name": "stderr",
     "output_type": "stream",
     "text": [
      "/home/fred/micromamba/envs/open-gira/lib/python3.10/site-packages/geopandas/geodataframe.py:2061: UserWarning: CRS mismatch between the CRS of left geometries and the CRS of right geometries.\n",
      "Use `to_crs()` to reproject one of the input geometries to match the CRS of the other.\n",
      "\n",
      "Left CRS: EPSG:4326\n",
      "Right CRS: None\n",
      "\n",
      "  return geopandas.sjoin(left_df=self, right_df=df, *args, **kwargs)\n",
      "/tmp/ipykernel_868937/987684252.py:12: ParserWarning: Falling back to the 'python' engine because the 'c' engine does not support regex separators (separators > 1 char and different from '\\s+' are interpreted as regex); you can avoid this warning by specifying engine='python'.\n",
      "  pd.read_csv(path, delimiter=r',\\s+')\n"
     ]
    },
    {
     "name": "stdout",
     "output_type": "stream",
     "text": [
      "NOCK-TEN_2016\n"
     ]
    },
    {
     "name": "stderr",
     "output_type": "stream",
     "text": [
      "/home/fred/micromamba/envs/open-gira/lib/python3.10/site-packages/geopandas/geodataframe.py:2061: UserWarning: CRS mismatch between the CRS of left geometries and the CRS of right geometries.\n",
      "Use `to_crs()` to reproject one of the input geometries to match the CRS of the other.\n",
      "\n",
      "Left CRS: EPSG:4326\n",
      "Right CRS: None\n",
      "\n",
      "  return geopandas.sjoin(left_df=self, right_df=df, *args, **kwargs)\n",
      "/tmp/ipykernel_868937/987684252.py:12: ParserWarning: Falling back to the 'python' engine because the 'c' engine does not support regex separators (separators > 1 char and different from '\\s+' are interpreted as regex); you can avoid this warning by specifying engine='python'.\n",
      "  pd.read_csv(path, delimiter=r',\\s+')\n"
     ]
    },
    {
     "name": "stdout",
     "output_type": "stream",
     "text": [
      "DINEO_2017\n"
     ]
    },
    {
     "name": "stderr",
     "output_type": "stream",
     "text": [
      "/home/fred/micromamba/envs/open-gira/lib/python3.10/site-packages/geopandas/geodataframe.py:2061: UserWarning: CRS mismatch between the CRS of left geometries and the CRS of right geometries.\n",
      "Use `to_crs()` to reproject one of the input geometries to match the CRS of the other.\n",
      "\n",
      "Left CRS: EPSG:4326\n",
      "Right CRS: None\n",
      "\n",
      "  return geopandas.sjoin(left_df=self, right_df=df, *args, **kwargs)\n",
      "/tmp/ipykernel_868937/987684252.py:12: ParserWarning: Falling back to the 'python' engine because the 'c' engine does not support regex separators (separators > 1 char and different from '\\s+' are interpreted as regex); you can avoid this warning by specifying engine='python'.\n",
      "  pd.read_csv(path, delimiter=r',\\s+')\n"
     ]
    },
    {
     "name": "stdout",
     "output_type": "stream",
     "text": [
      "ALFRED_2017\n",
      "ALFRED_2017 has 26.889090909090907, skipping plotting...\n"
     ]
    },
    {
     "name": "stderr",
     "output_type": "stream",
     "text": [
      "/home/fred/micromamba/envs/open-gira/lib/python3.10/site-packages/geopandas/geodataframe.py:2061: UserWarning: CRS mismatch between the CRS of left geometries and the CRS of right geometries.\n",
      "Use `to_crs()` to reproject one of the input geometries to match the CRS of the other.\n",
      "\n",
      "Left CRS: EPSG:4326\n",
      "Right CRS: None\n",
      "\n",
      "  return geopandas.sjoin(left_df=self, right_df=df, *args, **kwargs)\n",
      "/tmp/ipykernel_868937/987684252.py:12: ParserWarning: Falling back to the 'python' engine because the 'c' engine does not support regex separators (separators > 1 char and different from '\\s+' are interpreted as regex); you can avoid this warning by specifying engine='python'.\n",
      "  pd.read_csv(path, delimiter=r',\\s+')\n"
     ]
    },
    {
     "name": "stdout",
     "output_type": "stream",
     "text": [
      "BLANCHE_2017\n",
      "BLANCHE_2017 has 29.706599999999998, skipping plotting...\n"
     ]
    },
    {
     "name": "stderr",
     "output_type": "stream",
     "text": [
      "/home/fred/micromamba/envs/open-gira/lib/python3.10/site-packages/geopandas/geodataframe.py:2061: UserWarning: CRS mismatch between the CRS of left geometries and the CRS of right geometries.\n",
      "Use `to_crs()` to reproject one of the input geometries to match the CRS of the other.\n",
      "\n",
      "Left CRS: EPSG:4326\n",
      "Right CRS: None\n",
      "\n",
      "  return geopandas.sjoin(left_df=self, right_df=df, *args, **kwargs)\n",
      "/tmp/ipykernel_868937/987684252.py:12: ParserWarning: Falling back to the 'python' engine because the 'c' engine does not support regex separators (separators > 1 char and different from '\\s+' are interpreted as regex); you can avoid this warning by specifying engine='python'.\n",
      "  pd.read_csv(path, delimiter=r',\\s+')\n"
     ]
    },
    {
     "name": "stdout",
     "output_type": "stream",
     "text": [
      "ENAWO_2017\n"
     ]
    },
    {
     "name": "stderr",
     "output_type": "stream",
     "text": [
      "/home/fred/micromamba/envs/open-gira/lib/python3.10/site-packages/geopandas/geodataframe.py:2061: UserWarning: CRS mismatch between the CRS of left geometries and the CRS of right geometries.\n",
      "Use `to_crs()` to reproject one of the input geometries to match the CRS of the other.\n",
      "\n",
      "Left CRS: EPSG:4326\n",
      "Right CRS: None\n",
      "\n",
      "  return geopandas.sjoin(left_df=self, right_df=df, *args, **kwargs)\n",
      "/tmp/ipykernel_868937/987684252.py:12: ParserWarning: Falling back to the 'python' engine because the 'c' engine does not support regex separators (separators > 1 char and different from '\\s+' are interpreted as regex); you can avoid this warning by specifying engine='python'.\n",
      "  pd.read_csv(path, delimiter=r',\\s+')\n"
     ]
    },
    {
     "name": "stdout",
     "output_type": "stream",
     "text": [
      "DEBBIE_2017\n"
     ]
    },
    {
     "name": "stderr",
     "output_type": "stream",
     "text": [
      "/home/fred/micromamba/envs/open-gira/lib/python3.10/site-packages/geopandas/geodataframe.py:2061: UserWarning: CRS mismatch between the CRS of left geometries and the CRS of right geometries.\n",
      "Use `to_crs()` to reproject one of the input geometries to match the CRS of the other.\n",
      "\n",
      "Left CRS: EPSG:4326\n",
      "Right CRS: None\n",
      "\n",
      "  return geopandas.sjoin(left_df=self, right_df=df, *args, **kwargs)\n",
      "/tmp/ipykernel_868937/987684252.py:12: ParserWarning: Falling back to the 'python' engine because the 'c' engine does not support regex separators (separators > 1 char and different from '\\s+' are interpreted as regex); you can avoid this warning by specifying engine='python'.\n",
      "  pd.read_csv(path, delimiter=r',\\s+')\n"
     ]
    },
    {
     "name": "stdout",
     "output_type": "stream",
     "text": [
      "MAARUTHA_2017\n",
      "MAARUTHA_2017 has 22.290666666666667, skipping plotting...\n"
     ]
    },
    {
     "name": "stderr",
     "output_type": "stream",
     "text": [
      "/home/fred/micromamba/envs/open-gira/lib/python3.10/site-packages/geopandas/geodataframe.py:2061: UserWarning: CRS mismatch between the CRS of left geometries and the CRS of right geometries.\n",
      "Use `to_crs()` to reproject one of the input geometries to match the CRS of the other.\n",
      "\n",
      "Left CRS: EPSG:4326\n",
      "Right CRS: None\n",
      "\n",
      "  return geopandas.sjoin(left_df=self, right_df=df, *args, **kwargs)\n",
      "/tmp/ipykernel_868937/987684252.py:12: ParserWarning: Falling back to the 'python' engine because the 'c' engine does not support regex separators (separators > 1 char and different from '\\s+' are interpreted as regex); you can avoid this warning by specifying engine='python'.\n",
      "  pd.read_csv(path, delimiter=r',\\s+')\n"
     ]
    },
    {
     "name": "stdout",
     "output_type": "stream",
     "text": [
      "MORA_2017\n",
      "MORA_2017 has 34.29333333333334, skipping plotting...\n"
     ]
    },
    {
     "name": "stderr",
     "output_type": "stream",
     "text": [
      "/home/fred/micromamba/envs/open-gira/lib/python3.10/site-packages/geopandas/geodataframe.py:2061: UserWarning: CRS mismatch between the CRS of left geometries and the CRS of right geometries.\n",
      "Use `to_crs()` to reproject one of the input geometries to match the CRS of the other.\n",
      "\n",
      "Left CRS: EPSG:4326\n",
      "Right CRS: None\n",
      "\n",
      "  return geopandas.sjoin(left_df=self, right_df=df, *args, **kwargs)\n",
      "/tmp/ipykernel_868937/987684252.py:12: ParserWarning: Falling back to the 'python' engine because the 'c' engine does not support regex separators (separators > 1 char and different from '\\s+' are interpreted as regex); you can avoid this warning by specifying engine='python'.\n",
      "  pd.read_csv(path, delimiter=r',\\s+')\n",
      "/tmp/ipykernel_868937/987684252.py:12: ParserWarning: Falling back to the 'python' engine because the 'c' engine does not support regex separators (separators > 1 char and different from '\\s+' are interpreted as regex); you can avoid this warning by specifying engine='python'.\n",
      "  pd.read_csv(path, delimiter=r',\\s+')\n"
     ]
    },
    {
     "name": "stdout",
     "output_type": "stream",
     "text": [
      "BEATRIZ_2017\n",
      "BEATRIZ_2017 has 20.576, skipping plotting...\n"
     ]
    },
    {
     "name": "stderr",
     "output_type": "stream",
     "text": [
      "/home/fred/micromamba/envs/open-gira/lib/python3.10/site-packages/geopandas/geodataframe.py:2061: UserWarning: CRS mismatch between the CRS of left geometries and the CRS of right geometries.\n",
      "Use `to_crs()` to reproject one of the input geometries to match the CRS of the other.\n",
      "\n",
      "Left CRS: EPSG:4326\n",
      "Right CRS: None\n",
      "\n",
      "  return geopandas.sjoin(left_df=self, right_df=df, *args, **kwargs)\n",
      "/tmp/ipykernel_868937/987684252.py:12: ParserWarning: Falling back to the 'python' engine because the 'c' engine does not support regex separators (separators > 1 char and different from '\\s+' are interpreted as regex); you can avoid this warning by specifying engine='python'.\n",
      "  pd.read_csv(path, delimiter=r',\\s+')\n"
     ]
    },
    {
     "name": "stdout",
     "output_type": "stream",
     "text": [
      "MERBOK_2017\n",
      "MERBOK_2017 has 28.289841081770632, skipping plotting...\n"
     ]
    },
    {
     "name": "stderr",
     "output_type": "stream",
     "text": [
      "/home/fred/micromamba/envs/open-gira/lib/python3.10/site-packages/geopandas/geodataframe.py:2061: UserWarning: CRS mismatch between the CRS of left geometries and the CRS of right geometries.\n",
      "Use `to_crs()` to reproject one of the input geometries to match the CRS of the other.\n",
      "\n",
      "Left CRS: EPSG:4326\n",
      "Right CRS: None\n",
      "\n",
      "  return geopandas.sjoin(left_df=self, right_df=df, *args, **kwargs)\n",
      "/tmp/ipykernel_868937/987684252.py:12: ParserWarning: Falling back to the 'python' engine because the 'c' engine does not support regex separators (separators > 1 char and different from '\\s+' are interpreted as regex); you can avoid this warning by specifying engine='python'.\n",
      "  pd.read_csv(path, delimiter=r',\\s+')\n",
      "/tmp/ipykernel_868937/987684252.py:12: ParserWarning: Falling back to the 'python' engine because the 'c' engine does not support regex separators (separators > 1 char and different from '\\s+' are interpreted as regex); you can avoid this warning by specifying engine='python'.\n",
      "  pd.read_csv(path, delimiter=r',\\s+')\n"
     ]
    },
    {
     "name": "stdout",
     "output_type": "stream",
     "text": [
      "CALVIN_2017\n",
      "CALVIN_2017 has 20.576, skipping plotting...\n"
     ]
    },
    {
     "name": "stderr",
     "output_type": "stream",
     "text": [
      "/home/fred/micromamba/envs/open-gira/lib/python3.10/site-packages/geopandas/geodataframe.py:2061: UserWarning: CRS mismatch between the CRS of left geometries and the CRS of right geometries.\n",
      "Use `to_crs()` to reproject one of the input geometries to match the CRS of the other.\n",
      "\n",
      "Left CRS: EPSG:4326\n",
      "Right CRS: None\n",
      "\n",
      "  return geopandas.sjoin(left_df=self, right_df=df, *args, **kwargs)\n",
      "/tmp/ipykernel_868937/987684252.py:12: ParserWarning: Falling back to the 'python' engine because the 'c' engine does not support regex separators (separators > 1 char and different from '\\s+' are interpreted as regex); you can avoid this warning by specifying engine='python'.\n",
      "  pd.read_csv(path, delimiter=r',\\s+')\n"
     ]
    },
    {
     "name": "stdout",
     "output_type": "stream",
     "text": [
      "BRET_2017\n",
      "BRET_2017 has 23.148, skipping plotting...\n"
     ]
    },
    {
     "name": "stderr",
     "output_type": "stream",
     "text": [
      "/home/fred/micromamba/envs/open-gira/lib/python3.10/site-packages/geopandas/geodataframe.py:2061: UserWarning: CRS mismatch between the CRS of left geometries and the CRS of right geometries.\n",
      "Use `to_crs()` to reproject one of the input geometries to match the CRS of the other.\n",
      "\n",
      "Left CRS: EPSG:4326\n",
      "Right CRS: None\n",
      "\n",
      "  return geopandas.sjoin(left_df=self, right_df=df, *args, **kwargs)\n",
      "/tmp/ipykernel_868937/987684252.py:12: ParserWarning: Falling back to the 'python' engine because the 'c' engine does not support regex separators (separators > 1 char and different from '\\s+' are interpreted as regex); you can avoid this warning by specifying engine='python'.\n",
      "  pd.read_csv(path, delimiter=r',\\s+')\n"
     ]
    },
    {
     "name": "stdout",
     "output_type": "stream",
     "text": [
      "CINDY_2017\n",
      "CINDY_2017 has 25.72, skipping plotting...\n"
     ]
    },
    {
     "name": "stderr",
     "output_type": "stream",
     "text": [
      "/home/fred/micromamba/envs/open-gira/lib/python3.10/site-packages/geopandas/geodataframe.py:2061: UserWarning: CRS mismatch between the CRS of left geometries and the CRS of right geometries.\n",
      "Use `to_crs()` to reproject one of the input geometries to match the CRS of the other.\n",
      "\n",
      "Left CRS: EPSG:4326\n",
      "Right CRS: None\n",
      "\n",
      "  return geopandas.sjoin(left_df=self, right_df=df, *args, **kwargs)\n",
      "/tmp/ipykernel_868937/987684252.py:12: ParserWarning: Falling back to the 'python' engine because the 'c' engine does not support regex separators (separators > 1 char and different from '\\s+' are interpreted as regex); you can avoid this warning by specifying engine='python'.\n",
      "  pd.read_csv(path, delimiter=r',\\s+')\n"
     ]
    },
    {
     "name": "stdout",
     "output_type": "stream",
     "text": [
      "NANMADOL_2017\n",
      "NANMADOL_2017 has 30.98516026278862, skipping plotting...\n"
     ]
    },
    {
     "name": "stderr",
     "output_type": "stream",
     "text": [
      "/home/fred/micromamba/envs/open-gira/lib/python3.10/site-packages/geopandas/geodataframe.py:2061: UserWarning: CRS mismatch between the CRS of left geometries and the CRS of right geometries.\n",
      "Use `to_crs()` to reproject one of the input geometries to match the CRS of the other.\n",
      "\n",
      "Left CRS: EPSG:4326\n",
      "Right CRS: None\n",
      "\n",
      "  return geopandas.sjoin(left_df=self, right_df=df, *args, **kwargs)\n",
      "/tmp/ipykernel_868937/987684252.py:12: ParserWarning: Falling back to the 'python' engine because the 'c' engine does not support regex separators (separators > 1 char and different from '\\s+' are interpreted as regex); you can avoid this warning by specifying engine='python'.\n",
      "  pd.read_csv(path, delimiter=r',\\s+')\n"
     ]
    },
    {
     "name": "stdout",
     "output_type": "stream",
     "text": [
      "TALAS_2017\n",
      "TALAS_2017 has 26.251336680699065, skipping plotting...\n"
     ]
    },
    {
     "name": "stderr",
     "output_type": "stream",
     "text": [
      "/home/fred/micromamba/envs/open-gira/lib/python3.10/site-packages/geopandas/geodataframe.py:2061: UserWarning: CRS mismatch between the CRS of left geometries and the CRS of right geometries.\n",
      "Use `to_crs()` to reproject one of the input geometries to match the CRS of the other.\n",
      "\n",
      "Left CRS: EPSG:4326\n",
      "Right CRS: None\n",
      "\n",
      "  return geopandas.sjoin(left_df=self, right_df=df, *args, **kwargs)\n",
      "/tmp/ipykernel_868937/987684252.py:12: ParserWarning: Falling back to the 'python' engine because the 'c' engine does not support regex separators (separators > 1 char and different from '\\s+' are interpreted as regex); you can avoid this warning by specifying engine='python'.\n",
      "  pd.read_csv(path, delimiter=r',\\s+')\n"
     ]
    },
    {
     "name": "stdout",
     "output_type": "stream",
     "text": [
      "NORU_2017\n"
     ]
    },
    {
     "name": "stderr",
     "output_type": "stream",
     "text": [
      "/home/fred/micromamba/envs/open-gira/lib/python3.10/site-packages/geopandas/geodataframe.py:2061: UserWarning: CRS mismatch between the CRS of left geometries and the CRS of right geometries.\n",
      "Use `to_crs()` to reproject one of the input geometries to match the CRS of the other.\n",
      "\n",
      "Left CRS: EPSG:4326\n",
      "Right CRS: None\n",
      "\n",
      "  return geopandas.sjoin(left_df=self, right_df=df, *args, **kwargs)\n",
      "/tmp/ipykernel_868937/987684252.py:12: ParserWarning: Falling back to the 'python' engine because the 'c' engine does not support regex separators (separators > 1 char and different from '\\s+' are interpreted as regex); you can avoid this warning by specifying engine='python'.\n",
      "  pd.read_csv(path, delimiter=r',\\s+')\n"
     ]
    },
    {
     "name": "stdout",
     "output_type": "stream",
     "text": [
      "SONCA_2017\n",
      "SONCA_2017 has 21.337811591614578, skipping plotting...\n"
     ]
    },
    {
     "name": "stderr",
     "output_type": "stream",
     "text": [
      "/home/fred/micromamba/envs/open-gira/lib/python3.10/site-packages/geopandas/geodataframe.py:2061: UserWarning: CRS mismatch between the CRS of left geometries and the CRS of right geometries.\n",
      "Use `to_crs()` to reproject one of the input geometries to match the CRS of the other.\n",
      "\n",
      "Left CRS: EPSG:4326\n",
      "Right CRS: None\n",
      "\n",
      "  return geopandas.sjoin(left_df=self, right_df=df, *args, **kwargs)\n",
      "/tmp/ipykernel_868937/987684252.py:12: ParserWarning: Falling back to the 'python' engine because the 'c' engine does not support regex separators (separators > 1 char and different from '\\s+' are interpreted as regex); you can avoid this warning by specifying engine='python'.\n",
      "  pd.read_csv(path, delimiter=r',\\s+')\n",
      "/tmp/ipykernel_868937/987684252.py:12: ParserWarning: Falling back to the 'python' engine because the 'c' engine does not support regex separators (separators > 1 char and different from '\\s+' are interpreted as regex); you can avoid this warning by specifying engine='python'.\n",
      "  pd.read_csv(path, delimiter=r',\\s+')\n"
     ]
    },
    {
     "name": "stdout",
     "output_type": "stream",
     "text": [
      "NESAT_2017\n"
     ]
    },
    {
     "name": "stderr",
     "output_type": "stream",
     "text": [
      "/home/fred/micromamba/envs/open-gira/lib/python3.10/site-packages/geopandas/geodataframe.py:2061: UserWarning: CRS mismatch between the CRS of left geometries and the CRS of right geometries.\n",
      "Use `to_crs()` to reproject one of the input geometries to match the CRS of the other.\n",
      "\n",
      "Left CRS: EPSG:4326\n",
      "Right CRS: None\n",
      "\n",
      "  return geopandas.sjoin(left_df=self, right_df=df, *args, **kwargs)\n",
      "/tmp/ipykernel_868937/987684252.py:12: ParserWarning: Falling back to the 'python' engine because the 'c' engine does not support regex separators (separators > 1 char and different from '\\s+' are interpreted as regex); you can avoid this warning by specifying engine='python'.\n",
      "  pd.read_csv(path, delimiter=r',\\s+')\n"
     ]
    },
    {
     "name": "stdout",
     "output_type": "stream",
     "text": [
      "HAITANG_2017\n",
      "HAITANG_2017 has 22.806779364714885, skipping plotting...\n"
     ]
    },
    {
     "name": "stderr",
     "output_type": "stream",
     "text": [
      "/home/fred/micromamba/envs/open-gira/lib/python3.10/site-packages/geopandas/geodataframe.py:2061: UserWarning: CRS mismatch between the CRS of left geometries and the CRS of right geometries.\n",
      "Use `to_crs()` to reproject one of the input geometries to match the CRS of the other.\n",
      "\n",
      "Left CRS: EPSG:4326\n",
      "Right CRS: None\n",
      "\n",
      "  return geopandas.sjoin(left_df=self, right_df=df, *args, **kwargs)\n",
      "/tmp/ipykernel_868937/987684252.py:12: ParserWarning: Falling back to the 'python' engine because the 'c' engine does not support regex separators (separators > 1 char and different from '\\s+' are interpreted as regex); you can avoid this warning by specifying engine='python'.\n",
      "  pd.read_csv(path, delimiter=r',\\s+')\n",
      "/tmp/ipykernel_868937/987684252.py:12: ParserWarning: Falling back to the 'python' engine because the 'c' engine does not support regex separators (separators > 1 char and different from '\\s+' are interpreted as regex); you can avoid this warning by specifying engine='python'.\n",
      "  pd.read_csv(path, delimiter=r',\\s+')\n",
      "/tmp/ipykernel_868937/987684252.py:12: ParserWarning: Falling back to the 'python' engine because the 'c' engine does not support regex separators (separators > 1 char and different from '\\s+' are interpreted as regex); you can avoid this warning by specifying engine='python'.\n",
      "  pd.read_csv(path, delimiter=r',\\s+')\n"
     ]
    },
    {
     "name": "stdout",
     "output_type": "stream",
     "text": [
      "EMILY_2017\n",
      "EMILY_2017 has 25.72, skipping plotting...\n"
     ]
    },
    {
     "name": "stderr",
     "output_type": "stream",
     "text": [
      "/home/fred/micromamba/envs/open-gira/lib/python3.10/site-packages/geopandas/geodataframe.py:2061: UserWarning: CRS mismatch between the CRS of left geometries and the CRS of right geometries.\n",
      "Use `to_crs()` to reproject one of the input geometries to match the CRS of the other.\n",
      "\n",
      "Left CRS: EPSG:4326\n",
      "Right CRS: None\n",
      "\n",
      "  return geopandas.sjoin(left_df=self, right_df=df, *args, **kwargs)\n",
      "/tmp/ipykernel_868937/987684252.py:12: ParserWarning: Falling back to the 'python' engine because the 'c' engine does not support regex separators (separators > 1 char and different from '\\s+' are interpreted as regex); you can avoid this warning by specifying engine='python'.\n",
      "  pd.read_csv(path, delimiter=r',\\s+')\n"
     ]
    },
    {
     "name": "stdout",
     "output_type": "stream",
     "text": [
      "FRANKLIN_2017\n",
      "FRANKLIN_2017 has 38.58, skipping plotting...\n"
     ]
    },
    {
     "name": "stderr",
     "output_type": "stream",
     "text": [
      "/home/fred/micromamba/envs/open-gira/lib/python3.10/site-packages/geopandas/geodataframe.py:2061: UserWarning: CRS mismatch between the CRS of left geometries and the CRS of right geometries.\n",
      "Use `to_crs()` to reproject one of the input geometries to match the CRS of the other.\n",
      "\n",
      "Left CRS: EPSG:4326\n",
      "Right CRS: None\n",
      "\n",
      "  return geopandas.sjoin(left_df=self, right_df=df, *args, **kwargs)\n",
      "/tmp/ipykernel_868937/987684252.py:12: ParserWarning: Falling back to the 'python' engine because the 'c' engine does not support regex separators (separators > 1 char and different from '\\s+' are interpreted as regex); you can avoid this warning by specifying engine='python'.\n",
      "  pd.read_csv(path, delimiter=r',\\s+')\n",
      "/tmp/ipykernel_868937/987684252.py:12: ParserWarning: Falling back to the 'python' engine because the 'c' engine does not support regex separators (separators > 1 char and different from '\\s+' are interpreted as regex); you can avoid this warning by specifying engine='python'.\n",
      "  pd.read_csv(path, delimiter=r',\\s+')\n"
     ]
    },
    {
     "name": "stdout",
     "output_type": "stream",
     "text": [
      "HARVEY_2017\n"
     ]
    },
    {
     "name": "stderr",
     "output_type": "stream",
     "text": [
      "/home/fred/micromamba/envs/open-gira/lib/python3.10/site-packages/geopandas/geodataframe.py:2061: UserWarning: CRS mismatch between the CRS of left geometries and the CRS of right geometries.\n",
      "Use `to_crs()` to reproject one of the input geometries to match the CRS of the other.\n",
      "\n",
      "Left CRS: EPSG:4326\n",
      "Right CRS: None\n",
      "\n",
      "  return geopandas.sjoin(left_df=self, right_df=df, *args, **kwargs)\n",
      "/tmp/ipykernel_868937/987684252.py:12: ParserWarning: Falling back to the 'python' engine because the 'c' engine does not support regex separators (separators > 1 char and different from '\\s+' are interpreted as regex); you can avoid this warning by specifying engine='python'.\n",
      "  pd.read_csv(path, delimiter=r',\\s+')\n"
     ]
    },
    {
     "name": "stdout",
     "output_type": "stream",
     "text": [
      "HATO_2017\n"
     ]
    },
    {
     "name": "stderr",
     "output_type": "stream",
     "text": [
      "/home/fred/micromamba/envs/open-gira/lib/python3.10/site-packages/geopandas/geodataframe.py:2061: UserWarning: CRS mismatch between the CRS of left geometries and the CRS of right geometries.\n",
      "Use `to_crs()` to reproject one of the input geometries to match the CRS of the other.\n",
      "\n",
      "Left CRS: EPSG:4326\n",
      "Right CRS: None\n",
      "\n",
      "  return geopandas.sjoin(left_df=self, right_df=df, *args, **kwargs)\n",
      "/tmp/ipykernel_868937/987684252.py:12: ParserWarning: Falling back to the 'python' engine because the 'c' engine does not support regex separators (separators > 1 char and different from '\\s+' are interpreted as regex); you can avoid this warning by specifying engine='python'.\n",
      "  pd.read_csv(path, delimiter=r',\\s+')\n",
      "/tmp/ipykernel_868937/987684252.py:12: ParserWarning: Falling back to the 'python' engine because the 'c' engine does not support regex separators (separators > 1 char and different from '\\s+' are interpreted as regex); you can avoid this warning by specifying engine='python'.\n",
      "  pd.read_csv(path, delimiter=r',\\s+')\n"
     ]
    },
    {
     "name": "stdout",
     "output_type": "stream",
     "text": [
      "PAKHAR_2017\n",
      "PAKHAR_2017 has 30.976152192881745, skipping plotting...\n"
     ]
    },
    {
     "name": "stderr",
     "output_type": "stream",
     "text": [
      "/home/fred/micromamba/envs/open-gira/lib/python3.10/site-packages/geopandas/geodataframe.py:2061: UserWarning: CRS mismatch between the CRS of left geometries and the CRS of right geometries.\n",
      "Use `to_crs()` to reproject one of the input geometries to match the CRS of the other.\n",
      "\n",
      "Left CRS: EPSG:4326\n",
      "Right CRS: None\n",
      "\n",
      "  return geopandas.sjoin(left_df=self, right_df=df, *args, **kwargs)\n",
      "/tmp/ipykernel_868937/987684252.py:12: ParserWarning: Falling back to the 'python' engine because the 'c' engine does not support regex separators (separators > 1 char and different from '\\s+' are interpreted as regex); you can avoid this warning by specifying engine='python'.\n",
      "  pd.read_csv(path, delimiter=r',\\s+')\n",
      "/tmp/ipykernel_868937/987684252.py:12: ParserWarning: Falling back to the 'python' engine because the 'c' engine does not support regex separators (separators > 1 char and different from '\\s+' are interpreted as regex); you can avoid this warning by specifying engine='python'.\n",
      "  pd.read_csv(path, delimiter=r',\\s+')\n",
      "/tmp/ipykernel_868937/987684252.py:12: ParserWarning: Falling back to the 'python' engine because the 'c' engine does not support regex separators (separators > 1 char and different from '\\s+' are interpreted as regex); you can avoid this warning by specifying engine='python'.\n",
      "  pd.read_csv(path, delimiter=r',\\s+')\n"
     ]
    },
    {
     "name": "stdout",
     "output_type": "stream",
     "text": [
      "IRMA_2017\n"
     ]
    },
    {
     "name": "stderr",
     "output_type": "stream",
     "text": [
      "/home/fred/micromamba/envs/open-gira/lib/python3.10/site-packages/geopandas/geodataframe.py:2061: UserWarning: CRS mismatch between the CRS of left geometries and the CRS of right geometries.\n",
      "Use `to_crs()` to reproject one of the input geometries to match the CRS of the other.\n",
      "\n",
      "Left CRS: EPSG:4326\n",
      "Right CRS: None\n",
      "\n",
      "  return geopandas.sjoin(left_df=self, right_df=df, *args, **kwargs)\n",
      "/tmp/ipykernel_868937/987684252.py:12: ParserWarning: Falling back to the 'python' engine because the 'c' engine does not support regex separators (separators > 1 char and different from '\\s+' are interpreted as regex); you can avoid this warning by specifying engine='python'.\n",
      "  pd.read_csv(path, delimiter=r',\\s+')\n"
     ]
    },
    {
     "name": "stdout",
     "output_type": "stream",
     "text": [
      "LIDIA_2017\n",
      "LIDIA_2017 has 28.291999999999998, skipping plotting...\n"
     ]
    },
    {
     "name": "stderr",
     "output_type": "stream",
     "text": [
      "/home/fred/micromamba/envs/open-gira/lib/python3.10/site-packages/geopandas/geodataframe.py:2061: UserWarning: CRS mismatch between the CRS of left geometries and the CRS of right geometries.\n",
      "Use `to_crs()` to reproject one of the input geometries to match the CRS of the other.\n",
      "\n",
      "Left CRS: EPSG:4326\n",
      "Right CRS: None\n",
      "\n",
      "  return geopandas.sjoin(left_df=self, right_df=df, *args, **kwargs)\n",
      "/tmp/ipykernel_868937/987684252.py:12: ParserWarning: Falling back to the 'python' engine because the 'c' engine does not support regex separators (separators > 1 char and different from '\\s+' are interpreted as regex); you can avoid this warning by specifying engine='python'.\n",
      "  pd.read_csv(path, delimiter=r',\\s+')\n",
      "/tmp/ipykernel_868937/987684252.py:12: ParserWarning: Falling back to the 'python' engine because the 'c' engine does not support regex separators (separators > 1 char and different from '\\s+' are interpreted as regex); you can avoid this warning by specifying engine='python'.\n",
      "  pd.read_csv(path, delimiter=r',\\s+')\n"
     ]
    },
    {
     "name": "stdout",
     "output_type": "stream",
     "text": [
      "MAWAR_2017\n",
      "MAWAR_2017 has 25.736936680699063, skipping plotting...\n"
     ]
    },
    {
     "name": "stderr",
     "output_type": "stream",
     "text": [
      "/home/fred/micromamba/envs/open-gira/lib/python3.10/site-packages/geopandas/geodataframe.py:2061: UserWarning: CRS mismatch between the CRS of left geometries and the CRS of right geometries.\n",
      "Use `to_crs()` to reproject one of the input geometries to match the CRS of the other.\n",
      "\n",
      "Left CRS: EPSG:4326\n",
      "Right CRS: None\n",
      "\n",
      "  return geopandas.sjoin(left_df=self, right_df=df, *args, **kwargs)\n",
      "/tmp/ipykernel_868937/987684252.py:12: ParserWarning: Falling back to the 'python' engine because the 'c' engine does not support regex separators (separators > 1 char and different from '\\s+' are interpreted as regex); you can avoid this warning by specifying engine='python'.\n",
      "  pd.read_csv(path, delimiter=r',\\s+')\n"
     ]
    },
    {
     "name": "stdout",
     "output_type": "stream",
     "text": [
      "KATIA_2017\n"
     ]
    },
    {
     "name": "stderr",
     "output_type": "stream",
     "text": [
      "/home/fred/micromamba/envs/open-gira/lib/python3.10/site-packages/geopandas/geodataframe.py:2061: UserWarning: CRS mismatch between the CRS of left geometries and the CRS of right geometries.\n",
      "Use `to_crs()` to reproject one of the input geometries to match the CRS of the other.\n",
      "\n",
      "Left CRS: EPSG:4326\n",
      "Right CRS: None\n",
      "\n",
      "  return geopandas.sjoin(left_df=self, right_df=df, *args, **kwargs)\n",
      "/tmp/ipykernel_868937/987684252.py:12: ParserWarning: Falling back to the 'python' engine because the 'c' engine does not support regex separators (separators > 1 char and different from '\\s+' are interpreted as regex); you can avoid this warning by specifying engine='python'.\n",
      "  pd.read_csv(path, delimiter=r',\\s+')\n"
     ]
    },
    {
     "name": "stdout",
     "output_type": "stream",
     "text": [
      "TALIM_2017\n"
     ]
    },
    {
     "name": "stderr",
     "output_type": "stream",
     "text": [
      "/home/fred/micromamba/envs/open-gira/lib/python3.10/site-packages/geopandas/geodataframe.py:2061: UserWarning: CRS mismatch between the CRS of left geometries and the CRS of right geometries.\n",
      "Use `to_crs()` to reproject one of the input geometries to match the CRS of the other.\n",
      "\n",
      "Left CRS: EPSG:4326\n",
      "Right CRS: None\n",
      "\n",
      "  return geopandas.sjoin(left_df=self, right_df=df, *args, **kwargs)\n",
      "/tmp/ipykernel_868937/987684252.py:12: ParserWarning: Falling back to the 'python' engine because the 'c' engine does not support regex separators (separators > 1 char and different from '\\s+' are interpreted as regex); you can avoid this warning by specifying engine='python'.\n",
      "  pd.read_csv(path, delimiter=r',\\s+')\n",
      "/tmp/ipykernel_868937/987684252.py:12: ParserWarning: Falling back to the 'python' engine because the 'c' engine does not support regex separators (separators > 1 char and different from '\\s+' are interpreted as regex); you can avoid this warning by specifying engine='python'.\n",
      "  pd.read_csv(path, delimiter=r',\\s+')\n"
     ]
    },
    {
     "name": "stdout",
     "output_type": "stream",
     "text": [
      "DOKSURI_2017\n"
     ]
    },
    {
     "name": "stderr",
     "output_type": "stream",
     "text": [
      "/home/fred/micromamba/envs/open-gira/lib/python3.10/site-packages/geopandas/geodataframe.py:2061: UserWarning: CRS mismatch between the CRS of left geometries and the CRS of right geometries.\n",
      "Use `to_crs()` to reproject one of the input geometries to match the CRS of the other.\n",
      "\n",
      "Left CRS: EPSG:4326\n",
      "Right CRS: None\n",
      "\n",
      "  return geopandas.sjoin(left_df=self, right_df=df, *args, **kwargs)\n",
      "/tmp/ipykernel_868937/987684252.py:12: ParserWarning: Falling back to the 'python' engine because the 'c' engine does not support regex separators (separators > 1 char and different from '\\s+' are interpreted as regex); you can avoid this warning by specifying engine='python'.\n",
      "  pd.read_csv(path, delimiter=r',\\s+')\n"
     ]
    },
    {
     "name": "stdout",
     "output_type": "stream",
     "text": [
      "MAX_2017\n"
     ]
    },
    {
     "name": "stderr",
     "output_type": "stream",
     "text": [
      "/home/fred/micromamba/envs/open-gira/lib/python3.10/site-packages/geopandas/geodataframe.py:2061: UserWarning: CRS mismatch between the CRS of left geometries and the CRS of right geometries.\n",
      "Use `to_crs()` to reproject one of the input geometries to match the CRS of the other.\n",
      "\n",
      "Left CRS: EPSG:4326\n",
      "Right CRS: None\n",
      "\n",
      "  return geopandas.sjoin(left_df=self, right_df=df, *args, **kwargs)\n",
      "/tmp/ipykernel_868937/987684252.py:12: ParserWarning: Falling back to the 'python' engine because the 'c' engine does not support regex separators (separators > 1 char and different from '\\s+' are interpreted as regex); you can avoid this warning by specifying engine='python'.\n",
      "  pd.read_csv(path, delimiter=r',\\s+')\n"
     ]
    },
    {
     "name": "stdout",
     "output_type": "stream",
     "text": [
      "MARIA_2017\n"
     ]
    },
    {
     "name": "stderr",
     "output_type": "stream",
     "text": [
      "/home/fred/micromamba/envs/open-gira/lib/python3.10/site-packages/geopandas/geodataframe.py:2061: UserWarning: CRS mismatch between the CRS of left geometries and the CRS of right geometries.\n",
      "Use `to_crs()` to reproject one of the input geometries to match the CRS of the other.\n",
      "\n",
      "Left CRS: EPSG:4326\n",
      "Right CRS: None\n",
      "\n",
      "  return geopandas.sjoin(left_df=self, right_df=df, *args, **kwargs)\n",
      "/tmp/ipykernel_868937/987684252.py:12: ParserWarning: Falling back to the 'python' engine because the 'c' engine does not support regex separators (separators > 1 char and different from '\\s+' are interpreted as regex); you can avoid this warning by specifying engine='python'.\n",
      "  pd.read_csv(path, delimiter=r',\\s+')\n",
      "/tmp/ipykernel_868937/987684252.py:12: ParserWarning: Falling back to the 'python' engine because the 'c' engine does not support regex separators (separators > 1 char and different from '\\s+' are interpreted as regex); you can avoid this warning by specifying engine='python'.\n",
      "  pd.read_csv(path, delimiter=r',\\s+')\n"
     ]
    },
    {
     "name": "stdout",
     "output_type": "stream",
     "text": [
      "PILAR_2017\n",
      "PILAR_2017 has 23.148, skipping plotting...\n"
     ]
    },
    {
     "name": "stderr",
     "output_type": "stream",
     "text": [
      "/home/fred/micromamba/envs/open-gira/lib/python3.10/site-packages/geopandas/geodataframe.py:2061: UserWarning: CRS mismatch between the CRS of left geometries and the CRS of right geometries.\n",
      "Use `to_crs()` to reproject one of the input geometries to match the CRS of the other.\n",
      "\n",
      "Left CRS: EPSG:4326\n",
      "Right CRS: None\n",
      "\n",
      "  return geopandas.sjoin(left_df=self, right_df=df, *args, **kwargs)\n",
      "/tmp/ipykernel_868937/987684252.py:12: ParserWarning: Falling back to the 'python' engine because the 'c' engine does not support regex separators (separators > 1 char and different from '\\s+' are interpreted as regex); you can avoid this warning by specifying engine='python'.\n",
      "  pd.read_csv(path, delimiter=r',\\s+')\n",
      "/tmp/ipykernel_868937/987684252.py:12: ParserWarning: Falling back to the 'python' engine because the 'c' engine does not support regex separators (separators > 1 char and different from '\\s+' are interpreted as regex); you can avoid this warning by specifying engine='python'.\n",
      "  pd.read_csv(path, delimiter=r',\\s+')\n",
      "/tmp/ipykernel_868937/987684252.py:12: ParserWarning: Falling back to the 'python' engine because the 'c' engine does not support regex separators (separators > 1 char and different from '\\s+' are interpreted as regex); you can avoid this warning by specifying engine='python'.\n",
      "  pd.read_csv(path, delimiter=r',\\s+')\n",
      "/tmp/ipykernel_868937/987684252.py:12: ParserWarning: Falling back to the 'python' engine because the 'c' engine does not support regex separators (separators > 1 char and different from '\\s+' are interpreted as regex); you can avoid this warning by specifying engine='python'.\n",
      "  pd.read_csv(path, delimiter=r',\\s+')\n"
     ]
    },
    {
     "name": "stdout",
     "output_type": "stream",
     "text": [
      "NATE_2017\n"
     ]
    },
    {
     "name": "stderr",
     "output_type": "stream",
     "text": [
      "/home/fred/micromamba/envs/open-gira/lib/python3.10/site-packages/geopandas/geodataframe.py:2061: UserWarning: CRS mismatch between the CRS of left geometries and the CRS of right geometries.\n",
      "Use `to_crs()` to reproject one of the input geometries to match the CRS of the other.\n",
      "\n",
      "Left CRS: EPSG:4326\n",
      "Right CRS: None\n",
      "\n",
      "  return geopandas.sjoin(left_df=self, right_df=df, *args, **kwargs)\n",
      "/tmp/ipykernel_868937/987684252.py:12: ParserWarning: Falling back to the 'python' engine because the 'c' engine does not support regex separators (separators > 1 char and different from '\\s+' are interpreted as regex); you can avoid this warning by specifying engine='python'.\n",
      "  pd.read_csv(path, delimiter=r',\\s+')\n",
      "/tmp/ipykernel_868937/987684252.py:12: ParserWarning: Falling back to the 'python' engine because the 'c' engine does not support regex separators (separators > 1 char and different from '\\s+' are interpreted as regex); you can avoid this warning by specifying engine='python'.\n",
      "  pd.read_csv(path, delimiter=r',\\s+')\n"
     ]
    },
    {
     "name": "stdout",
     "output_type": "stream",
     "text": [
      "KHANUN_2017\n"
     ]
    },
    {
     "name": "stderr",
     "output_type": "stream",
     "text": [
      "/home/fred/micromamba/envs/open-gira/lib/python3.10/site-packages/geopandas/geodataframe.py:2061: UserWarning: CRS mismatch between the CRS of left geometries and the CRS of right geometries.\n",
      "Use `to_crs()` to reproject one of the input geometries to match the CRS of the other.\n",
      "\n",
      "Left CRS: EPSG:4326\n",
      "Right CRS: None\n",
      "\n",
      "  return geopandas.sjoin(left_df=self, right_df=df, *args, **kwargs)\n",
      "/tmp/ipykernel_868937/987684252.py:12: ParserWarning: Falling back to the 'python' engine because the 'c' engine does not support regex separators (separators > 1 char and different from '\\s+' are interpreted as regex); you can avoid this warning by specifying engine='python'.\n",
      "  pd.read_csv(path, delimiter=r',\\s+')\n"
     ]
    },
    {
     "name": "stdout",
     "output_type": "stream",
     "text": [
      "LAN_2017\n"
     ]
    },
    {
     "name": "stderr",
     "output_type": "stream",
     "text": [
      "/home/fred/micromamba/envs/open-gira/lib/python3.10/site-packages/geopandas/geodataframe.py:2061: UserWarning: CRS mismatch between the CRS of left geometries and the CRS of right geometries.\n",
      "Use `to_crs()` to reproject one of the input geometries to match the CRS of the other.\n",
      "\n",
      "Left CRS: EPSG:4326\n",
      "Right CRS: None\n",
      "\n",
      "  return geopandas.sjoin(left_df=self, right_df=df, *args, **kwargs)\n",
      "/tmp/ipykernel_868937/987684252.py:12: ParserWarning: Falling back to the 'python' engine because the 'c' engine does not support regex separators (separators > 1 char and different from '\\s+' are interpreted as regex); you can avoid this warning by specifying engine='python'.\n",
      "  pd.read_csv(path, delimiter=r',\\s+')\n",
      "/tmp/ipykernel_868937/987684252.py:12: ParserWarning: Falling back to the 'python' engine because the 'c' engine does not support regex separators (separators > 1 char and different from '\\s+' are interpreted as regex); you can avoid this warning by specifying engine='python'.\n",
      "  pd.read_csv(path, delimiter=r',\\s+')\n"
     ]
    },
    {
     "name": "stdout",
     "output_type": "stream",
     "text": [
      "DAMREY_2017\n"
     ]
    },
    {
     "name": "stderr",
     "output_type": "stream",
     "text": [
      "/home/fred/micromamba/envs/open-gira/lib/python3.10/site-packages/geopandas/geodataframe.py:2061: UserWarning: CRS mismatch between the CRS of left geometries and the CRS of right geometries.\n",
      "Use `to_crs()` to reproject one of the input geometries to match the CRS of the other.\n",
      "\n",
      "Left CRS: EPSG:4326\n",
      "Right CRS: None\n",
      "\n",
      "  return geopandas.sjoin(left_df=self, right_df=df, *args, **kwargs)\n",
      "/tmp/ipykernel_868937/987684252.py:12: ParserWarning: Falling back to the 'python' engine because the 'c' engine does not support regex separators (separators > 1 char and different from '\\s+' are interpreted as regex); you can avoid this warning by specifying engine='python'.\n",
      "  pd.read_csv(path, delimiter=r',\\s+')\n"
     ]
    },
    {
     "name": "stdout",
     "output_type": "stream",
     "text": [
      "KAI-TAK_2017\n",
      "KAI-TAK_2017 has 23.236587830080367, skipping plotting...\n"
     ]
    },
    {
     "name": "stderr",
     "output_type": "stream",
     "text": [
      "/home/fred/micromamba/envs/open-gira/lib/python3.10/site-packages/geopandas/geodataframe.py:2061: UserWarning: CRS mismatch between the CRS of left geometries and the CRS of right geometries.\n",
      "Use `to_crs()` to reproject one of the input geometries to match the CRS of the other.\n",
      "\n",
      "Left CRS: EPSG:4326\n",
      "Right CRS: None\n",
      "\n",
      "  return geopandas.sjoin(left_df=self, right_df=df, *args, **kwargs)\n",
      "/tmp/ipykernel_868937/987684252.py:12: ParserWarning: Falling back to the 'python' engine because the 'c' engine does not support regex separators (separators > 1 char and different from '\\s+' are interpreted as regex); you can avoid this warning by specifying engine='python'.\n",
      "  pd.read_csv(path, delimiter=r',\\s+')\n"
     ]
    },
    {
     "name": "stdout",
     "output_type": "stream",
     "text": [
      "TEMBIN_2017\n"
     ]
    },
    {
     "name": "stderr",
     "output_type": "stream",
     "text": [
      "/home/fred/micromamba/envs/open-gira/lib/python3.10/site-packages/geopandas/geodataframe.py:2061: UserWarning: CRS mismatch between the CRS of left geometries and the CRS of right geometries.\n",
      "Use `to_crs()` to reproject one of the input geometries to match the CRS of the other.\n",
      "\n",
      "Left CRS: EPSG:4326\n",
      "Right CRS: None\n",
      "\n",
      "  return geopandas.sjoin(left_df=self, right_df=df, *args, **kwargs)\n",
      "/tmp/ipykernel_868937/987684252.py:12: ParserWarning: Falling back to the 'python' engine because the 'c' engine does not support regex separators (separators > 1 char and different from '\\s+' are interpreted as regex); you can avoid this warning by specifying engine='python'.\n",
      "  pd.read_csv(path, delimiter=r',\\s+')\n"
     ]
    },
    {
     "name": "stdout",
     "output_type": "stream",
     "text": [
      "HILDA_2017\n",
      "HILDA_2017 has 27.34893333333333, skipping plotting...\n"
     ]
    },
    {
     "name": "stderr",
     "output_type": "stream",
     "text": [
      "/home/fred/micromamba/envs/open-gira/lib/python3.10/site-packages/geopandas/geodataframe.py:2061: UserWarning: CRS mismatch between the CRS of left geometries and the CRS of right geometries.\n",
      "Use `to_crs()` to reproject one of the input geometries to match the CRS of the other.\n",
      "\n",
      "Left CRS: EPSG:4326\n",
      "Right CRS: None\n",
      "\n",
      "  return geopandas.sjoin(left_df=self, right_df=df, *args, **kwargs)\n",
      "/tmp/ipykernel_868937/987684252.py:12: ParserWarning: Falling back to the 'python' engine because the 'c' engine does not support regex separators (separators > 1 char and different from '\\s+' are interpreted as regex); you can avoid this warning by specifying engine='python'.\n",
      "  pd.read_csv(path, delimiter=r',\\s+')\n"
     ]
    },
    {
     "name": "stdout",
     "output_type": "stream",
     "text": [
      "KELVIN_2018\n"
     ]
    },
    {
     "name": "stderr",
     "output_type": "stream",
     "text": [
      "/home/fred/micromamba/envs/open-gira/lib/python3.10/site-packages/geopandas/geodataframe.py:2061: UserWarning: CRS mismatch between the CRS of left geometries and the CRS of right geometries.\n",
      "Use `to_crs()` to reproject one of the input geometries to match the CRS of the other.\n",
      "\n",
      "Left CRS: EPSG:4326\n",
      "Right CRS: None\n",
      "\n",
      "  return geopandas.sjoin(left_df=self, right_df=df, *args, **kwargs)\n",
      "/tmp/ipykernel_868937/987684252.py:12: ParserWarning: Falling back to the 'python' engine because the 'c' engine does not support regex separators (separators > 1 char and different from '\\s+' are interpreted as regex); you can avoid this warning by specifying engine='python'.\n",
      "  pd.read_csv(path, delimiter=r',\\s+')\n"
     ]
    },
    {
     "name": "stdout",
     "output_type": "stream",
     "text": [
      "MARCUS_2018\n"
     ]
    },
    {
     "name": "stderr",
     "output_type": "stream",
     "text": [
      "/home/fred/micromamba/envs/open-gira/lib/python3.10/site-packages/geopandas/geodataframe.py:2061: UserWarning: CRS mismatch between the CRS of left geometries and the CRS of right geometries.\n",
      "Use `to_crs()` to reproject one of the input geometries to match the CRS of the other.\n",
      "\n",
      "Left CRS: EPSG:4326\n",
      "Right CRS: None\n",
      "\n",
      "  return geopandas.sjoin(left_df=self, right_df=df, *args, **kwargs)\n",
      "/tmp/ipykernel_868937/987684252.py:12: ParserWarning: Falling back to the 'python' engine because the 'c' engine does not support regex separators (separators > 1 char and different from '\\s+' are interpreted as regex); you can avoid this warning by specifying engine='python'.\n",
      "  pd.read_csv(path, delimiter=r',\\s+')\n"
     ]
    },
    {
     "name": "stdout",
     "output_type": "stream",
     "text": [
      "ELIAKIM_2018\n",
      "ELIAKIM_2018 has 32.60594545454545, skipping plotting...\n"
     ]
    },
    {
     "name": "stderr",
     "output_type": "stream",
     "text": [
      "/home/fred/micromamba/envs/open-gira/lib/python3.10/site-packages/geopandas/geodataframe.py:2061: UserWarning: CRS mismatch between the CRS of left geometries and the CRS of right geometries.\n",
      "Use `to_crs()` to reproject one of the input geometries to match the CRS of the other.\n",
      "\n",
      "Left CRS: EPSG:4326\n",
      "Right CRS: None\n",
      "\n",
      "  return geopandas.sjoin(left_df=self, right_df=df, *args, **kwargs)\n",
      "/tmp/ipykernel_868937/987684252.py:12: ParserWarning: Falling back to the 'python' engine because the 'c' engine does not support regex separators (separators > 1 char and different from '\\s+' are interpreted as regex); you can avoid this warning by specifying engine='python'.\n",
      "  pd.read_csv(path, delimiter=r',\\s+')\n",
      "/tmp/ipykernel_868937/987684252.py:12: ParserWarning: Falling back to the 'python' engine because the 'c' engine does not support regex separators (separators > 1 char and different from '\\s+' are interpreted as regex); you can avoid this warning by specifying engine='python'.\n",
      "  pd.read_csv(path, delimiter=r',\\s+')\n"
     ]
    },
    {
     "name": "stdout",
     "output_type": "stream",
     "text": [
      "NORA_2018\n"
     ]
    },
    {
     "name": "stderr",
     "output_type": "stream",
     "text": [
      "/home/fred/micromamba/envs/open-gira/lib/python3.10/site-packages/geopandas/geodataframe.py:2061: UserWarning: CRS mismatch between the CRS of left geometries and the CRS of right geometries.\n",
      "Use `to_crs()` to reproject one of the input geometries to match the CRS of the other.\n",
      "\n",
      "Left CRS: EPSG:4326\n",
      "Right CRS: None\n",
      "\n",
      "  return geopandas.sjoin(left_df=self, right_df=df, *args, **kwargs)\n",
      "/tmp/ipykernel_868937/987684252.py:12: ParserWarning: Falling back to the 'python' engine because the 'c' engine does not support regex separators (separators > 1 char and different from '\\s+' are interpreted as regex); you can avoid this warning by specifying engine='python'.\n",
      "  pd.read_csv(path, delimiter=r',\\s+')\n",
      "/tmp/ipykernel_868937/987684252.py:12: ParserWarning: Falling back to the 'python' engine because the 'c' engine does not support regex separators (separators > 1 char and different from '\\s+' are interpreted as regex); you can avoid this warning by specifying engine='python'.\n",
      "  pd.read_csv(path, delimiter=r',\\s+')\n"
     ]
    },
    {
     "name": "stdout",
     "output_type": "stream",
     "text": [
      "ALBERTO_2018\n",
      "ALBERTO_2018 has 28.291999999999998, skipping plotting...\n"
     ]
    },
    {
     "name": "stderr",
     "output_type": "stream",
     "text": [
      "/home/fred/micromamba/envs/open-gira/lib/python3.10/site-packages/geopandas/geodataframe.py:2061: UserWarning: CRS mismatch between the CRS of left geometries and the CRS of right geometries.\n",
      "Use `to_crs()` to reproject one of the input geometries to match the CRS of the other.\n",
      "\n",
      "Left CRS: EPSG:4326\n",
      "Right CRS: None\n",
      "\n",
      "  return geopandas.sjoin(left_df=self, right_df=df, *args, **kwargs)\n",
      "/tmp/ipykernel_868937/987684252.py:12: ParserWarning: Falling back to the 'python' engine because the 'c' engine does not support regex separators (separators > 1 char and different from '\\s+' are interpreted as regex); you can avoid this warning by specifying engine='python'.\n",
      "  pd.read_csv(path, delimiter=r',\\s+')\n"
     ]
    },
    {
     "name": "stdout",
     "output_type": "stream",
     "text": [
      "EWINIAR_2018\n",
      "EWINIAR_2018 has 20.935363094782495, skipping plotting...\n"
     ]
    },
    {
     "name": "stderr",
     "output_type": "stream",
     "text": [
      "/home/fred/micromamba/envs/open-gira/lib/python3.10/site-packages/geopandas/geodataframe.py:2061: UserWarning: CRS mismatch between the CRS of left geometries and the CRS of right geometries.\n",
      "Use `to_crs()` to reproject one of the input geometries to match the CRS of the other.\n",
      "\n",
      "Left CRS: EPSG:4326\n",
      "Right CRS: None\n",
      "\n",
      "  return geopandas.sjoin(left_df=self, right_df=df, *args, **kwargs)\n",
      "/tmp/ipykernel_868937/987684252.py:12: ParserWarning: Falling back to the 'python' engine because the 'c' engine does not support regex separators (separators > 1 char and different from '\\s+' are interpreted as regex); you can avoid this warning by specifying engine='python'.\n",
      "  pd.read_csv(path, delimiter=r',\\s+')\n"
     ]
    },
    {
     "name": "stdout",
     "output_type": "stream",
     "text": [
      "BUD_2018\n"
     ]
    },
    {
     "name": "stderr",
     "output_type": "stream",
     "text": [
      "/home/fred/micromamba/envs/open-gira/lib/python3.10/site-packages/geopandas/geodataframe.py:2061: UserWarning: CRS mismatch between the CRS of left geometries and the CRS of right geometries.\n",
      "Use `to_crs()` to reproject one of the input geometries to match the CRS of the other.\n",
      "\n",
      "Left CRS: EPSG:4326\n",
      "Right CRS: None\n",
      "\n",
      "  return geopandas.sjoin(left_df=self, right_df=df, *args, **kwargs)\n",
      "/tmp/ipykernel_868937/987684252.py:12: ParserWarning: Falling back to the 'python' engine because the 'c' engine does not support regex separators (separators > 1 char and different from '\\s+' are interpreted as regex); you can avoid this warning by specifying engine='python'.\n",
      "  pd.read_csv(path, delimiter=r',\\s+')\n"
     ]
    },
    {
     "name": "stdout",
     "output_type": "stream",
     "text": [
      "GAEMI_2018\n",
      "GAEMI_2018 has 21.469365612960836, skipping plotting...\n"
     ]
    },
    {
     "name": "stderr",
     "output_type": "stream",
     "text": [
      "/home/fred/micromamba/envs/open-gira/lib/python3.10/site-packages/geopandas/geodataframe.py:2061: UserWarning: CRS mismatch between the CRS of left geometries and the CRS of right geometries.\n",
      "Use `to_crs()` to reproject one of the input geometries to match the CRS of the other.\n",
      "\n",
      "Left CRS: EPSG:4326\n",
      "Right CRS: None\n",
      "\n",
      "  return geopandas.sjoin(left_df=self, right_df=df, *args, **kwargs)\n",
      "/tmp/ipykernel_868937/987684252.py:12: ParserWarning: Falling back to the 'python' engine because the 'c' engine does not support regex separators (separators > 1 char and different from '\\s+' are interpreted as regex); you can avoid this warning by specifying engine='python'.\n",
      "  pd.read_csv(path, delimiter=r',\\s+')\n",
      "/tmp/ipykernel_868937/987684252.py:12: ParserWarning: Falling back to the 'python' engine because the 'c' engine does not support regex separators (separators > 1 char and different from '\\s+' are interpreted as regex); you can avoid this warning by specifying engine='python'.\n",
      "  pd.read_csv(path, delimiter=r',\\s+')\n"
     ]
    },
    {
     "name": "stdout",
     "output_type": "stream",
     "text": [
      "CARLOTTA_2018\n",
      "CARLOTTA_2018 has 28.291999999999998, skipping plotting...\n"
     ]
    },
    {
     "name": "stderr",
     "output_type": "stream",
     "text": [
      "/home/fred/micromamba/envs/open-gira/lib/python3.10/site-packages/geopandas/geodataframe.py:2061: UserWarning: CRS mismatch between the CRS of left geometries and the CRS of right geometries.\n",
      "Use `to_crs()` to reproject one of the input geometries to match the CRS of the other.\n",
      "\n",
      "Left CRS: EPSG:4326\n",
      "Right CRS: None\n",
      "\n",
      "  return geopandas.sjoin(left_df=self, right_df=df, *args, **kwargs)\n",
      "/tmp/ipykernel_868937/987684252.py:12: ParserWarning: Falling back to the 'python' engine because the 'c' engine does not support regex separators (separators > 1 char and different from '\\s+' are interpreted as regex); you can avoid this warning by specifying engine='python'.\n",
      "  pd.read_csv(path, delimiter=r',\\s+')\n"
     ]
    },
    {
     "name": "stdout",
     "output_type": "stream",
     "text": [
      "PRAPIROON_2018\n",
      "PRAPIROON_2018 has 37.5299454828422, skipping plotting...\n"
     ]
    },
    {
     "name": "stderr",
     "output_type": "stream",
     "text": [
      "/home/fred/micromamba/envs/open-gira/lib/python3.10/site-packages/geopandas/geodataframe.py:2061: UserWarning: CRS mismatch between the CRS of left geometries and the CRS of right geometries.\n",
      "Use `to_crs()` to reproject one of the input geometries to match the CRS of the other.\n",
      "\n",
      "Left CRS: EPSG:4326\n",
      "Right CRS: None\n",
      "\n",
      "  return geopandas.sjoin(left_df=self, right_df=df, *args, **kwargs)\n",
      "/tmp/ipykernel_868937/987684252.py:12: ParserWarning: Falling back to the 'python' engine because the 'c' engine does not support regex separators (separators > 1 char and different from '\\s+' are interpreted as regex); you can avoid this warning by specifying engine='python'.\n",
      "  pd.read_csv(path, delimiter=r',\\s+')\n",
      "/tmp/ipykernel_868937/987684252.py:12: ParserWarning: Falling back to the 'python' engine because the 'c' engine does not support regex separators (separators > 1 char and different from '\\s+' are interpreted as regex); you can avoid this warning by specifying engine='python'.\n",
      "  pd.read_csv(path, delimiter=r',\\s+')\n"
     ]
    },
    {
     "name": "stdout",
     "output_type": "stream",
     "text": [
      "MARIA_2018\n"
     ]
    },
    {
     "name": "stderr",
     "output_type": "stream",
     "text": [
      "/home/fred/micromamba/envs/open-gira/lib/python3.10/site-packages/geopandas/geodataframe.py:2061: UserWarning: CRS mismatch between the CRS of left geometries and the CRS of right geometries.\n",
      "Use `to_crs()` to reproject one of the input geometries to match the CRS of the other.\n",
      "\n",
      "Left CRS: EPSG:4326\n",
      "Right CRS: None\n",
      "\n",
      "  return geopandas.sjoin(left_df=self, right_df=df, *args, **kwargs)\n",
      "/tmp/ipykernel_868937/987684252.py:12: ParserWarning: Falling back to the 'python' engine because the 'c' engine does not support regex separators (separators > 1 char and different from '\\s+' are interpreted as regex); you can avoid this warning by specifying engine='python'.\n",
      "  pd.read_csv(path, delimiter=r',\\s+')\n"
     ]
    },
    {
     "name": "stdout",
     "output_type": "stream",
     "text": [
      "BERYL_2018\n",
      "BERYL_2018 has 36.007999999999996, skipping plotting...\n"
     ]
    },
    {
     "name": "stderr",
     "output_type": "stream",
     "text": [
      "/home/fred/micromamba/envs/open-gira/lib/python3.10/site-packages/geopandas/geodataframe.py:2061: UserWarning: CRS mismatch between the CRS of left geometries and the CRS of right geometries.\n",
      "Use `to_crs()` to reproject one of the input geometries to match the CRS of the other.\n",
      "\n",
      "Left CRS: EPSG:4326\n",
      "Right CRS: None\n",
      "\n",
      "  return geopandas.sjoin(left_df=self, right_df=df, *args, **kwargs)\n",
      "/tmp/ipykernel_868937/987684252.py:12: ParserWarning: Falling back to the 'python' engine because the 'c' engine does not support regex separators (separators > 1 char and different from '\\s+' are interpreted as regex); you can avoid this warning by specifying engine='python'.\n",
      "  pd.read_csv(path, delimiter=r',\\s+')\n"
     ]
    },
    {
     "name": "stdout",
     "output_type": "stream",
     "text": [
      "couldn't calculate the error or ratio for SON-TINH_2018, skipping...\n"
     ]
    },
    {
     "name": "stderr",
     "output_type": "stream",
     "text": [
      "/tmp/ipykernel_868937/987684252.py:12: ParserWarning: Falling back to the 'python' engine because the 'c' engine does not support regex separators (separators > 1 char and different from '\\s+' are interpreted as regex); you can avoid this warning by specifying engine='python'.\n",
      "  pd.read_csv(path, delimiter=r',\\s+')\n"
     ]
    },
    {
     "name": "stdout",
     "output_type": "stream",
     "text": [
      "AMPIL_2018\n",
      "AMPIL_2018 has 26.960039321342006, skipping plotting...\n"
     ]
    },
    {
     "name": "stderr",
     "output_type": "stream",
     "text": [
      "/home/fred/micromamba/envs/open-gira/lib/python3.10/site-packages/geopandas/geodataframe.py:2061: UserWarning: CRS mismatch between the CRS of left geometries and the CRS of right geometries.\n",
      "Use `to_crs()` to reproject one of the input geometries to match the CRS of the other.\n",
      "\n",
      "Left CRS: EPSG:4326\n",
      "Right CRS: None\n",
      "\n",
      "  return geopandas.sjoin(left_df=self, right_df=df, *args, **kwargs)\n",
      "/tmp/ipykernel_868937/987684252.py:12: ParserWarning: Falling back to the 'python' engine because the 'c' engine does not support regex separators (separators > 1 char and different from '\\s+' are interpreted as regex); you can avoid this warning by specifying engine='python'.\n",
      "  pd.read_csv(path, delimiter=r',\\s+')\n",
      "/tmp/ipykernel_868937/987684252.py:12: ParserWarning: Falling back to the 'python' engine because the 'c' engine does not support regex separators (separators > 1 char and different from '\\s+' are interpreted as regex); you can avoid this warning by specifying engine='python'.\n",
      "  pd.read_csv(path, delimiter=r',\\s+')\n"
     ]
    },
    {
     "name": "stdout",
     "output_type": "stream",
     "text": [
      "JONGDARI_2018\n"
     ]
    },
    {
     "name": "stderr",
     "output_type": "stream",
     "text": [
      "/home/fred/micromamba/envs/open-gira/lib/python3.10/site-packages/geopandas/geodataframe.py:2061: UserWarning: CRS mismatch between the CRS of left geometries and the CRS of right geometries.\n",
      "Use `to_crs()` to reproject one of the input geometries to match the CRS of the other.\n",
      "\n",
      "Left CRS: EPSG:4326\n",
      "Right CRS: None\n",
      "\n",
      "  return geopandas.sjoin(left_df=self, right_df=df, *args, **kwargs)\n",
      "/tmp/ipykernel_868937/987684252.py:12: ParserWarning: Falling back to the 'python' engine because the 'c' engine does not support regex separators (separators > 1 char and different from '\\s+' are interpreted as regex); you can avoid this warning by specifying engine='python'.\n",
      "  pd.read_csv(path, delimiter=r',\\s+')\n"
     ]
    },
    {
     "name": "stdout",
     "output_type": "stream",
     "text": [
      "SHANSHAN_2018\n"
     ]
    },
    {
     "name": "stderr",
     "output_type": "stream",
     "text": [
      "/home/fred/micromamba/envs/open-gira/lib/python3.10/site-packages/geopandas/geodataframe.py:2061: UserWarning: CRS mismatch between the CRS of left geometries and the CRS of right geometries.\n",
      "Use `to_crs()` to reproject one of the input geometries to match the CRS of the other.\n",
      "\n",
      "Left CRS: EPSG:4326\n",
      "Right CRS: None\n",
      "\n",
      "  return geopandas.sjoin(left_df=self, right_df=df, *args, **kwargs)\n",
      "/tmp/ipykernel_868937/987684252.py:12: ParserWarning: Falling back to the 'python' engine because the 'c' engine does not support regex separators (separators > 1 char and different from '\\s+' are interpreted as regex); you can avoid this warning by specifying engine='python'.\n",
      "  pd.read_csv(path, delimiter=r',\\s+')\n"
     ]
    },
    {
     "name": "stdout",
     "output_type": "stream",
     "text": [
      "YAGI_2018\n",
      "YAGI_2018 has 22.497593073096056, skipping plotting...\n"
     ]
    },
    {
     "name": "stderr",
     "output_type": "stream",
     "text": [
      "/home/fred/micromamba/envs/open-gira/lib/python3.10/site-packages/geopandas/geodataframe.py:2061: UserWarning: CRS mismatch between the CRS of left geometries and the CRS of right geometries.\n",
      "Use `to_crs()` to reproject one of the input geometries to match the CRS of the other.\n",
      "\n",
      "Left CRS: EPSG:4326\n",
      "Right CRS: None\n",
      "\n",
      "  return geopandas.sjoin(left_df=self, right_df=df, *args, **kwargs)\n",
      "/tmp/ipykernel_868937/987684252.py:12: ParserWarning: Falling back to the 'python' engine because the 'c' engine does not support regex separators (separators > 1 char and different from '\\s+' are interpreted as regex); you can avoid this warning by specifying engine='python'.\n",
      "  pd.read_csv(path, delimiter=r',\\s+')\n"
     ]
    },
    {
     "name": "stdout",
     "output_type": "stream",
     "text": [
      "BEBINCA_2018\n",
      "BEBINCA_2018 has 27.48438248501084, skipping plotting...\n"
     ]
    },
    {
     "name": "stderr",
     "output_type": "stream",
     "text": [
      "/home/fred/micromamba/envs/open-gira/lib/python3.10/site-packages/geopandas/geodataframe.py:2061: UserWarning: CRS mismatch between the CRS of left geometries and the CRS of right geometries.\n",
      "Use `to_crs()` to reproject one of the input geometries to match the CRS of the other.\n",
      "\n",
      "Left CRS: EPSG:4326\n",
      "Right CRS: None\n",
      "\n",
      "  return geopandas.sjoin(left_df=self, right_df=df, *args, **kwargs)\n",
      "/tmp/ipykernel_868937/987684252.py:12: ParserWarning: Falling back to the 'python' engine because the 'c' engine does not support regex separators (separators > 1 char and different from '\\s+' are interpreted as regex); you can avoid this warning by specifying engine='python'.\n",
      "  pd.read_csv(path, delimiter=r',\\s+')\n"
     ]
    },
    {
     "name": "stdout",
     "output_type": "stream",
     "text": [
      "LEEPI_2018\n",
      "LEEPI_2018 has 27.027170850873834, skipping plotting...\n"
     ]
    },
    {
     "name": "stderr",
     "output_type": "stream",
     "text": [
      "/home/fred/micromamba/envs/open-gira/lib/python3.10/site-packages/geopandas/geodataframe.py:2061: UserWarning: CRS mismatch between the CRS of left geometries and the CRS of right geometries.\n",
      "Use `to_crs()` to reproject one of the input geometries to match the CRS of the other.\n",
      "\n",
      "Left CRS: EPSG:4326\n",
      "Right CRS: None\n",
      "\n",
      "  return geopandas.sjoin(left_df=self, right_df=df, *args, **kwargs)\n",
      "/tmp/ipykernel_868937/987684252.py:12: ParserWarning: Falling back to the 'python' engine because the 'c' engine does not support regex separators (separators > 1 char and different from '\\s+' are interpreted as regex); you can avoid this warning by specifying engine='python'.\n",
      "  pd.read_csv(path, delimiter=r',\\s+')\n"
     ]
    },
    {
     "name": "stdout",
     "output_type": "stream",
     "text": [
      "RUMBIA_2018\n",
      "RUMBIA_2018 has 24.30804779181018, skipping plotting...\n"
     ]
    },
    {
     "name": "stderr",
     "output_type": "stream",
     "text": [
      "/home/fred/micromamba/envs/open-gira/lib/python3.10/site-packages/geopandas/geodataframe.py:2061: UserWarning: CRS mismatch between the CRS of left geometries and the CRS of right geometries.\n",
      "Use `to_crs()` to reproject one of the input geometries to match the CRS of the other.\n",
      "\n",
      "Left CRS: EPSG:4326\n",
      "Right CRS: None\n",
      "\n",
      "  return geopandas.sjoin(left_df=self, right_df=df, *args, **kwargs)\n",
      "/tmp/ipykernel_868937/987684252.py:12: ParserWarning: Falling back to the 'python' engine because the 'c' engine does not support regex separators (separators > 1 char and different from '\\s+' are interpreted as regex); you can avoid this warning by specifying engine='python'.\n",
      "  pd.read_csv(path, delimiter=r',\\s+')\n"
     ]
    },
    {
     "name": "stdout",
     "output_type": "stream",
     "text": [
      "SOULIK_2018\n"
     ]
    },
    {
     "name": "stderr",
     "output_type": "stream",
     "text": [
      "/home/fred/micromamba/envs/open-gira/lib/python3.10/site-packages/geopandas/geodataframe.py:2061: UserWarning: CRS mismatch between the CRS of left geometries and the CRS of right geometries.\n",
      "Use `to_crs()` to reproject one of the input geometries to match the CRS of the other.\n",
      "\n",
      "Left CRS: EPSG:4326\n",
      "Right CRS: None\n",
      "\n",
      "  return geopandas.sjoin(left_df=self, right_df=df, *args, **kwargs)\n",
      "/tmp/ipykernel_868937/987684252.py:12: ParserWarning: Falling back to the 'python' engine because the 'c' engine does not support regex separators (separators > 1 char and different from '\\s+' are interpreted as regex); you can avoid this warning by specifying engine='python'.\n",
      "  pd.read_csv(path, delimiter=r',\\s+')\n"
     ]
    },
    {
     "name": "stdout",
     "output_type": "stream",
     "text": [
      "CIMARON_2018\n"
     ]
    },
    {
     "name": "stderr",
     "output_type": "stream",
     "text": [
      "/home/fred/micromamba/envs/open-gira/lib/python3.10/site-packages/geopandas/geodataframe.py:2061: UserWarning: CRS mismatch between the CRS of left geometries and the CRS of right geometries.\n",
      "Use `to_crs()` to reproject one of the input geometries to match the CRS of the other.\n",
      "\n",
      "Left CRS: EPSG:4326\n",
      "Right CRS: None\n",
      "\n",
      "  return geopandas.sjoin(left_df=self, right_df=df, *args, **kwargs)\n",
      "/tmp/ipykernel_868937/987684252.py:12: ParserWarning: Falling back to the 'python' engine because the 'c' engine does not support regex separators (separators > 1 char and different from '\\s+' are interpreted as regex); you can avoid this warning by specifying engine='python'.\n",
      "  pd.read_csv(path, delimiter=r',\\s+')\n"
     ]
    },
    {
     "name": "stdout",
     "output_type": "stream",
     "text": [
      "JEBI_2018\n"
     ]
    },
    {
     "name": "stderr",
     "output_type": "stream",
     "text": [
      "/home/fred/micromamba/envs/open-gira/lib/python3.10/site-packages/geopandas/geodataframe.py:2061: UserWarning: CRS mismatch between the CRS of left geometries and the CRS of right geometries.\n",
      "Use `to_crs()` to reproject one of the input geometries to match the CRS of the other.\n",
      "\n",
      "Left CRS: EPSG:4326\n",
      "Right CRS: None\n",
      "\n",
      "  return geopandas.sjoin(left_df=self, right_df=df, *args, **kwargs)\n",
      "/tmp/ipykernel_868937/987684252.py:12: ParserWarning: Falling back to the 'python' engine because the 'c' engine does not support regex separators (separators > 1 char and different from '\\s+' are interpreted as regex); you can avoid this warning by specifying engine='python'.\n",
      "  pd.read_csv(path, delimiter=r',\\s+')\n",
      "/tmp/ipykernel_868937/987684252.py:12: ParserWarning: Falling back to the 'python' engine because the 'c' engine does not support regex separators (separators > 1 char and different from '\\s+' are interpreted as regex); you can avoid this warning by specifying engine='python'.\n",
      "  pd.read_csv(path, delimiter=r',\\s+')\n"
     ]
    },
    {
     "name": "stdout",
     "output_type": "stream",
     "text": [
      "FLORENCE_2018\n"
     ]
    },
    {
     "name": "stderr",
     "output_type": "stream",
     "text": [
      "/home/fred/micromamba/envs/open-gira/lib/python3.10/site-packages/geopandas/geodataframe.py:2061: UserWarning: CRS mismatch between the CRS of left geometries and the CRS of right geometries.\n",
      "Use `to_crs()` to reproject one of the input geometries to match the CRS of the other.\n",
      "\n",
      "Left CRS: EPSG:4326\n",
      "Right CRS: None\n",
      "\n",
      "  return geopandas.sjoin(left_df=self, right_df=df, *args, **kwargs)\n",
      "/tmp/ipykernel_868937/987684252.py:12: ParserWarning: Falling back to the 'python' engine because the 'c' engine does not support regex separators (separators > 1 char and different from '\\s+' are interpreted as regex); you can avoid this warning by specifying engine='python'.\n",
      "  pd.read_csv(path, delimiter=r',\\s+')\n"
     ]
    },
    {
     "name": "stdout",
     "output_type": "stream",
     "text": [
      "OLIVIA_2018\n"
     ]
    },
    {
     "name": "stderr",
     "output_type": "stream",
     "text": [
      "/home/fred/micromamba/envs/open-gira/lib/python3.10/site-packages/geopandas/geodataframe.py:2061: UserWarning: CRS mismatch between the CRS of left geometries and the CRS of right geometries.\n",
      "Use `to_crs()` to reproject one of the input geometries to match the CRS of the other.\n",
      "\n",
      "Left CRS: EPSG:4326\n",
      "Right CRS: None\n",
      "\n",
      "  return geopandas.sjoin(left_df=self, right_df=df, *args, **kwargs)\n",
      "/tmp/ipykernel_868937/987684252.py:12: ParserWarning: Falling back to the 'python' engine because the 'c' engine does not support regex separators (separators > 1 char and different from '\\s+' are interpreted as regex); you can avoid this warning by specifying engine='python'.\n",
      "  pd.read_csv(path, delimiter=r',\\s+')\n",
      "/tmp/ipykernel_868937/987684252.py:12: ParserWarning: Falling back to the 'python' engine because the 'c' engine does not support regex separators (separators > 1 char and different from '\\s+' are interpreted as regex); you can avoid this warning by specifying engine='python'.\n",
      "  pd.read_csv(path, delimiter=r',\\s+')\n",
      "/tmp/ipykernel_868937/987684252.py:12: ParserWarning: Falling back to the 'python' engine because the 'c' engine does not support regex separators (separators > 1 char and different from '\\s+' are interpreted as regex); you can avoid this warning by specifying engine='python'.\n",
      "  pd.read_csv(path, delimiter=r',\\s+')\n"
     ]
    },
    {
     "name": "stdout",
     "output_type": "stream",
     "text": [
      "GORDON_2018\n",
      "GORDON_2018 has 30.863999999999997, skipping plotting...\n"
     ]
    },
    {
     "name": "stderr",
     "output_type": "stream",
     "text": [
      "/home/fred/micromamba/envs/open-gira/lib/python3.10/site-packages/geopandas/geodataframe.py:2061: UserWarning: CRS mismatch between the CRS of left geometries and the CRS of right geometries.\n",
      "Use `to_crs()` to reproject one of the input geometries to match the CRS of the other.\n",
      "\n",
      "Left CRS: EPSG:4326\n",
      "Right CRS: None\n",
      "\n",
      "  return geopandas.sjoin(left_df=self, right_df=df, *args, **kwargs)\n",
      "/tmp/ipykernel_868937/987684252.py:12: ParserWarning: Falling back to the 'python' engine because the 'c' engine does not support regex separators (separators > 1 char and different from '\\s+' are interpreted as regex); you can avoid this warning by specifying engine='python'.\n",
      "  pd.read_csv(path, delimiter=r',\\s+')\n",
      "/tmp/ipykernel_868937/987684252.py:12: ParserWarning: Falling back to the 'python' engine because the 'c' engine does not support regex separators (separators > 1 char and different from '\\s+' are interpreted as regex); you can avoid this warning by specifying engine='python'.\n",
      "  pd.read_csv(path, delimiter=r',\\s+')\n"
     ]
    },
    {
     "name": "stdout",
     "output_type": "stream",
     "text": [
      "MANGKHUT_2018\n"
     ]
    },
    {
     "name": "stderr",
     "output_type": "stream",
     "text": [
      "/home/fred/micromamba/envs/open-gira/lib/python3.10/site-packages/geopandas/geodataframe.py:2061: UserWarning: CRS mismatch between the CRS of left geometries and the CRS of right geometries.\n",
      "Use `to_crs()` to reproject one of the input geometries to match the CRS of the other.\n",
      "\n",
      "Left CRS: EPSG:4326\n",
      "Right CRS: None\n",
      "\n",
      "  return geopandas.sjoin(left_df=self, right_df=df, *args, **kwargs)\n",
      "/tmp/ipykernel_868937/987684252.py:12: ParserWarning: Falling back to the 'python' engine because the 'c' engine does not support regex separators (separators > 1 char and different from '\\s+' are interpreted as regex); you can avoid this warning by specifying engine='python'.\n",
      "  pd.read_csv(path, delimiter=r',\\s+')\n"
     ]
    },
    {
     "name": "stdout",
     "output_type": "stream",
     "text": [
      "BARIJAT_2018\n",
      "BARIJAT_2018 has 21.94944603138155, skipping plotting...\n"
     ]
    },
    {
     "name": "stderr",
     "output_type": "stream",
     "text": [
      "/home/fred/micromamba/envs/open-gira/lib/python3.10/site-packages/geopandas/geodataframe.py:2061: UserWarning: CRS mismatch between the CRS of left geometries and the CRS of right geometries.\n",
      "Use `to_crs()` to reproject one of the input geometries to match the CRS of the other.\n",
      "\n",
      "Left CRS: EPSG:4326\n",
      "Right CRS: None\n",
      "\n",
      "  return geopandas.sjoin(left_df=self, right_df=df, *args, **kwargs)\n",
      "/tmp/ipykernel_868937/987684252.py:12: ParserWarning: Falling back to the 'python' engine because the 'c' engine does not support regex separators (separators > 1 char and different from '\\s+' are interpreted as regex); you can avoid this warning by specifying engine='python'.\n",
      "  pd.read_csv(path, delimiter=r',\\s+')\n"
     ]
    },
    {
     "name": "stdout",
     "output_type": "stream",
     "text": [
      "TRAMI_2018\n"
     ]
    },
    {
     "name": "stderr",
     "output_type": "stream",
     "text": [
      "/home/fred/micromamba/envs/open-gira/lib/python3.10/site-packages/geopandas/geodataframe.py:2061: UserWarning: CRS mismatch between the CRS of left geometries and the CRS of right geometries.\n",
      "Use `to_crs()` to reproject one of the input geometries to match the CRS of the other.\n",
      "\n",
      "Left CRS: EPSG:4326\n",
      "Right CRS: None\n",
      "\n",
      "  return geopandas.sjoin(left_df=self, right_df=df, *args, **kwargs)\n",
      "/tmp/ipykernel_868937/987684252.py:12: ParserWarning: Falling back to the 'python' engine because the 'c' engine does not support regex separators (separators > 1 char and different from '\\s+' are interpreted as regex); you can avoid this warning by specifying engine='python'.\n",
      "  pd.read_csv(path, delimiter=r',\\s+')\n"
     ]
    },
    {
     "name": "stdout",
     "output_type": "stream",
     "text": [
      "ROSA_2018\n"
     ]
    },
    {
     "name": "stderr",
     "output_type": "stream",
     "text": [
      "/home/fred/micromamba/envs/open-gira/lib/python3.10/site-packages/geopandas/geodataframe.py:2061: UserWarning: CRS mismatch between the CRS of left geometries and the CRS of right geometries.\n",
      "Use `to_crs()` to reproject one of the input geometries to match the CRS of the other.\n",
      "\n",
      "Left CRS: EPSG:4326\n",
      "Right CRS: None\n",
      "\n",
      "  return geopandas.sjoin(left_df=self, right_df=df, *args, **kwargs)\n",
      "/tmp/ipykernel_868937/987684252.py:12: ParserWarning: Falling back to the 'python' engine because the 'c' engine does not support regex separators (separators > 1 char and different from '\\s+' are interpreted as regex); you can avoid this warning by specifying engine='python'.\n",
      "  pd.read_csv(path, delimiter=r',\\s+')\n"
     ]
    },
    {
     "name": "stdout",
     "output_type": "stream",
     "text": [
      "KONG-REY_2018\n"
     ]
    },
    {
     "name": "stderr",
     "output_type": "stream",
     "text": [
      "/home/fred/micromamba/envs/open-gira/lib/python3.10/site-packages/geopandas/geodataframe.py:2061: UserWarning: CRS mismatch between the CRS of left geometries and the CRS of right geometries.\n",
      "Use `to_crs()` to reproject one of the input geometries to match the CRS of the other.\n",
      "\n",
      "Left CRS: EPSG:4326\n",
      "Right CRS: None\n",
      "\n",
      "  return geopandas.sjoin(left_df=self, right_df=df, *args, **kwargs)\n",
      "/tmp/ipykernel_868937/987684252.py:12: ParserWarning: Falling back to the 'python' engine because the 'c' engine does not support regex separators (separators > 1 char and different from '\\s+' are interpreted as regex); you can avoid this warning by specifying engine='python'.\n",
      "  pd.read_csv(path, delimiter=r',\\s+')\n"
     ]
    },
    {
     "name": "stdout",
     "output_type": "stream",
     "text": [
      "SERGIO_2018\n"
     ]
    },
    {
     "name": "stderr",
     "output_type": "stream",
     "text": [
      "/home/fred/micromamba/envs/open-gira/lib/python3.10/site-packages/geopandas/geodataframe.py:2061: UserWarning: CRS mismatch between the CRS of left geometries and the CRS of right geometries.\n",
      "Use `to_crs()` to reproject one of the input geometries to match the CRS of the other.\n",
      "\n",
      "Left CRS: EPSG:4326\n",
      "Right CRS: None\n",
      "\n",
      "  return geopandas.sjoin(left_df=self, right_df=df, *args, **kwargs)\n",
      "/tmp/ipykernel_868937/987684252.py:12: ParserWarning: Falling back to the 'python' engine because the 'c' engine does not support regex separators (separators > 1 char and different from '\\s+' are interpreted as regex); you can avoid this warning by specifying engine='python'.\n",
      "  pd.read_csv(path, delimiter=r',\\s+')\n"
     ]
    },
    {
     "name": "stdout",
     "output_type": "stream",
     "text": [
      "LUBAN_2018\n"
     ]
    },
    {
     "name": "stderr",
     "output_type": "stream",
     "text": [
      "/home/fred/micromamba/envs/open-gira/lib/python3.10/site-packages/geopandas/geodataframe.py:2061: UserWarning: CRS mismatch between the CRS of left geometries and the CRS of right geometries.\n",
      "Use `to_crs()` to reproject one of the input geometries to match the CRS of the other.\n",
      "\n",
      "Left CRS: EPSG:4326\n",
      "Right CRS: None\n",
      "\n",
      "  return geopandas.sjoin(left_df=self, right_df=df, *args, **kwargs)\n",
      "/tmp/ipykernel_868937/987684252.py:12: ParserWarning: Falling back to the 'python' engine because the 'c' engine does not support regex separators (separators > 1 char and different from '\\s+' are interpreted as regex); you can avoid this warning by specifying engine='python'.\n",
      "  pd.read_csv(path, delimiter=r',\\s+')\n",
      "/tmp/ipykernel_868937/987684252.py:12: ParserWarning: Falling back to the 'python' engine because the 'c' engine does not support regex separators (separators > 1 char and different from '\\s+' are interpreted as regex); you can avoid this warning by specifying engine='python'.\n",
      "  pd.read_csv(path, delimiter=r',\\s+')\n",
      "/tmp/ipykernel_868937/987684252.py:12: ParserWarning: Falling back to the 'python' engine because the 'c' engine does not support regex separators (separators > 1 char and different from '\\s+' are interpreted as regex); you can avoid this warning by specifying engine='python'.\n",
      "  pd.read_csv(path, delimiter=r',\\s+')\n"
     ]
    },
    {
     "name": "stdout",
     "output_type": "stream",
     "text": [
      "MICHAEL_2018\n"
     ]
    },
    {
     "name": "stderr",
     "output_type": "stream",
     "text": [
      "/home/fred/micromamba/envs/open-gira/lib/python3.10/site-packages/geopandas/geodataframe.py:2061: UserWarning: CRS mismatch between the CRS of left geometries and the CRS of right geometries.\n",
      "Use `to_crs()` to reproject one of the input geometries to match the CRS of the other.\n",
      "\n",
      "Left CRS: EPSG:4326\n",
      "Right CRS: None\n",
      "\n",
      "  return geopandas.sjoin(left_df=self, right_df=df, *args, **kwargs)\n",
      "/tmp/ipykernel_868937/987684252.py:12: ParserWarning: Falling back to the 'python' engine because the 'c' engine does not support regex separators (separators > 1 char and different from '\\s+' are interpreted as regex); you can avoid this warning by specifying engine='python'.\n",
      "  pd.read_csv(path, delimiter=r',\\s+')\n"
     ]
    },
    {
     "name": "stdout",
     "output_type": "stream",
     "text": [
      "TITLI_2018\n"
     ]
    },
    {
     "name": "stderr",
     "output_type": "stream",
     "text": [
      "/home/fred/micromamba/envs/open-gira/lib/python3.10/site-packages/geopandas/geodataframe.py:2061: UserWarning: CRS mismatch between the CRS of left geometries and the CRS of right geometries.\n",
      "Use `to_crs()` to reproject one of the input geometries to match the CRS of the other.\n",
      "\n",
      "Left CRS: EPSG:4326\n",
      "Right CRS: None\n",
      "\n",
      "  return geopandas.sjoin(left_df=self, right_df=df, *args, **kwargs)\n",
      "/tmp/ipykernel_868937/987684252.py:12: ParserWarning: Falling back to the 'python' engine because the 'c' engine does not support regex separators (separators > 1 char and different from '\\s+' are interpreted as regex); you can avoid this warning by specifying engine='python'.\n",
      "  pd.read_csv(path, delimiter=r',\\s+')\n",
      "/tmp/ipykernel_868937/987684252.py:12: ParserWarning: Falling back to the 'python' engine because the 'c' engine does not support regex separators (separators > 1 char and different from '\\s+' are interpreted as regex); you can avoid this warning by specifying engine='python'.\n",
      "  pd.read_csv(path, delimiter=r',\\s+')\n"
     ]
    },
    {
     "name": "stdout",
     "output_type": "stream",
     "text": [
      "TARA_2018\n",
      "TARA_2018 has 28.291999999999998, skipping plotting...\n"
     ]
    },
    {
     "name": "stderr",
     "output_type": "stream",
     "text": [
      "/home/fred/micromamba/envs/open-gira/lib/python3.10/site-packages/geopandas/geodataframe.py:2061: UserWarning: CRS mismatch between the CRS of left geometries and the CRS of right geometries.\n",
      "Use `to_crs()` to reproject one of the input geometries to match the CRS of the other.\n",
      "\n",
      "Left CRS: EPSG:4326\n",
      "Right CRS: None\n",
      "\n",
      "  return geopandas.sjoin(left_df=self, right_df=df, *args, **kwargs)\n",
      "/tmp/ipykernel_868937/987684252.py:12: ParserWarning: Falling back to the 'python' engine because the 'c' engine does not support regex separators (separators > 1 char and different from '\\s+' are interpreted as regex); you can avoid this warning by specifying engine='python'.\n",
      "  pd.read_csv(path, delimiter=r',\\s+')\n"
     ]
    },
    {
     "name": "stdout",
     "output_type": "stream",
     "text": [
      "VICENTE_2018\n",
      "VICENTE_2018 has 23.148, skipping plotting...\n"
     ]
    },
    {
     "name": "stderr",
     "output_type": "stream",
     "text": [
      "/home/fred/micromamba/envs/open-gira/lib/python3.10/site-packages/geopandas/geodataframe.py:2061: UserWarning: CRS mismatch between the CRS of left geometries and the CRS of right geometries.\n",
      "Use `to_crs()` to reproject one of the input geometries to match the CRS of the other.\n",
      "\n",
      "Left CRS: EPSG:4326\n",
      "Right CRS: None\n",
      "\n",
      "  return geopandas.sjoin(left_df=self, right_df=df, *args, **kwargs)\n",
      "/tmp/ipykernel_868937/987684252.py:12: ParserWarning: Falling back to the 'python' engine because the 'c' engine does not support regex separators (separators > 1 char and different from '\\s+' are interpreted as regex); you can avoid this warning by specifying engine='python'.\n",
      "  pd.read_csv(path, delimiter=r',\\s+')\n",
      "/tmp/ipykernel_868937/987684252.py:12: ParserWarning: Falling back to the 'python' engine because the 'c' engine does not support regex separators (separators > 1 char and different from '\\s+' are interpreted as regex); you can avoid this warning by specifying engine='python'.\n",
      "  pd.read_csv(path, delimiter=r',\\s+')\n"
     ]
    },
    {
     "name": "stdout",
     "output_type": "stream",
     "text": [
      "WILLA_2018\n"
     ]
    },
    {
     "name": "stderr",
     "output_type": "stream",
     "text": [
      "/home/fred/micromamba/envs/open-gira/lib/python3.10/site-packages/geopandas/geodataframe.py:2061: UserWarning: CRS mismatch between the CRS of left geometries and the CRS of right geometries.\n",
      "Use `to_crs()` to reproject one of the input geometries to match the CRS of the other.\n",
      "\n",
      "Left CRS: EPSG:4326\n",
      "Right CRS: None\n",
      "\n",
      "  return geopandas.sjoin(left_df=self, right_df=df, *args, **kwargs)\n",
      "/tmp/ipykernel_868937/987684252.py:12: ParserWarning: Falling back to the 'python' engine because the 'c' engine does not support regex separators (separators > 1 char and different from '\\s+' are interpreted as regex); you can avoid this warning by specifying engine='python'.\n",
      "  pd.read_csv(path, delimiter=r',\\s+')\n"
     ]
    },
    {
     "name": "stdout",
     "output_type": "stream",
     "text": [
      "YUTU_2018\n"
     ]
    },
    {
     "name": "stderr",
     "output_type": "stream",
     "text": [
      "/home/fred/micromamba/envs/open-gira/lib/python3.10/site-packages/geopandas/geodataframe.py:2061: UserWarning: CRS mismatch between the CRS of left geometries and the CRS of right geometries.\n",
      "Use `to_crs()` to reproject one of the input geometries to match the CRS of the other.\n",
      "\n",
      "Left CRS: EPSG:4326\n",
      "Right CRS: None\n",
      "\n",
      "  return geopandas.sjoin(left_df=self, right_df=df, *args, **kwargs)\n",
      "/tmp/ipykernel_868937/987684252.py:12: ParserWarning: Falling back to the 'python' engine because the 'c' engine does not support regex separators (separators > 1 char and different from '\\s+' are interpreted as regex); you can avoid this warning by specifying engine='python'.\n",
      "  pd.read_csv(path, delimiter=r',\\s+')\n",
      "/tmp/ipykernel_868937/987684252.py:12: ParserWarning: Falling back to the 'python' engine because the 'c' engine does not support regex separators (separators > 1 char and different from '\\s+' are interpreted as regex); you can avoid this warning by specifying engine='python'.\n",
      "  pd.read_csv(path, delimiter=r',\\s+')\n"
     ]
    },
    {
     "name": "stdout",
     "output_type": "stream",
     "text": [
      "USAGI_2018\n",
      "USAGI_2018 has 35.64804631968363, skipping plotting...\n"
     ]
    },
    {
     "name": "stderr",
     "output_type": "stream",
     "text": [
      "/home/fred/micromamba/envs/open-gira/lib/python3.10/site-packages/geopandas/geodataframe.py:2061: UserWarning: CRS mismatch between the CRS of left geometries and the CRS of right geometries.\n",
      "Use `to_crs()` to reproject one of the input geometries to match the CRS of the other.\n",
      "\n",
      "Left CRS: EPSG:4326\n",
      "Right CRS: None\n",
      "\n",
      "  return geopandas.sjoin(left_df=self, right_df=df, *args, **kwargs)\n",
      "/tmp/ipykernel_868937/987684252.py:12: ParserWarning: Falling back to the 'python' engine because the 'c' engine does not support regex separators (separators > 1 char and different from '\\s+' are interpreted as regex); you can avoid this warning by specifying engine='python'.\n",
      "  pd.read_csv(path, delimiter=r',\\s+')\n"
     ]
    },
    {
     "name": "stdout",
     "output_type": "stream",
     "text": [
      "GAJA_2018\n",
      "GAJA_2018 has 37.72266666666666, skipping plotting...\n"
     ]
    },
    {
     "name": "stderr",
     "output_type": "stream",
     "text": [
      "/home/fred/micromamba/envs/open-gira/lib/python3.10/site-packages/geopandas/geodataframe.py:2061: UserWarning: CRS mismatch between the CRS of left geometries and the CRS of right geometries.\n",
      "Use `to_crs()` to reproject one of the input geometries to match the CRS of the other.\n",
      "\n",
      "Left CRS: EPSG:4326\n",
      "Right CRS: None\n",
      "\n",
      "  return geopandas.sjoin(left_df=self, right_df=df, *args, **kwargs)\n",
      "/tmp/ipykernel_868937/987684252.py:12: ParserWarning: Falling back to the 'python' engine because the 'c' engine does not support regex separators (separators > 1 char and different from '\\s+' are interpreted as regex); you can avoid this warning by specifying engine='python'.\n",
      "  pd.read_csv(path, delimiter=r',\\s+')\n"
     ]
    },
    {
     "name": "stdout",
     "output_type": "stream",
     "text": [
      "OWEN_2018\n"
     ]
    },
    {
     "name": "stderr",
     "output_type": "stream",
     "text": [
      "/home/fred/micromamba/envs/open-gira/lib/python3.10/site-packages/geopandas/geodataframe.py:2061: UserWarning: CRS mismatch between the CRS of left geometries and the CRS of right geometries.\n",
      "Use `to_crs()` to reproject one of the input geometries to match the CRS of the other.\n",
      "\n",
      "Left CRS: EPSG:4326\n",
      "Right CRS: None\n",
      "\n",
      "  return geopandas.sjoin(left_df=self, right_df=df, *args, **kwargs)\n",
      "/tmp/ipykernel_868937/987684252.py:12: ParserWarning: Falling back to the 'python' engine because the 'c' engine does not support regex separators (separators > 1 char and different from '\\s+' are interpreted as regex); you can avoid this warning by specifying engine='python'.\n",
      "  pd.read_csv(path, delimiter=r',\\s+')\n"
     ]
    },
    {
     "name": "stdout",
     "output_type": "stream",
     "text": [
      "PHETHAI_2018\n",
      "PHETHAI_2018 has 28.291999999999998, skipping plotting...\n"
     ]
    },
    {
     "name": "stderr",
     "output_type": "stream",
     "text": [
      "/home/fred/micromamba/envs/open-gira/lib/python3.10/site-packages/geopandas/geodataframe.py:2061: UserWarning: CRS mismatch between the CRS of left geometries and the CRS of right geometries.\n",
      "Use `to_crs()` to reproject one of the input geometries to match the CRS of the other.\n",
      "\n",
      "Left CRS: EPSG:4326\n",
      "Right CRS: None\n",
      "\n",
      "  return geopandas.sjoin(left_df=self, right_df=df, *args, **kwargs)\n",
      "/tmp/ipykernel_868937/987684252.py:12: ParserWarning: Falling back to the 'python' engine because the 'c' engine does not support regex separators (separators > 1 char and different from '\\s+' are interpreted as regex); you can avoid this warning by specifying engine='python'.\n",
      "  pd.read_csv(path, delimiter=r',\\s+')\n",
      "/tmp/ipykernel_868937/987684252.py:12: ParserWarning: Falling back to the 'python' engine because the 'c' engine does not support regex separators (separators > 1 char and different from '\\s+' are interpreted as regex); you can avoid this warning by specifying engine='python'.\n",
      "  pd.read_csv(path, delimiter=r',\\s+')\n"
     ]
    },
    {
     "name": "stdout",
     "output_type": "stream",
     "text": [
      "PENNY_2018\n",
      "PENNY_2018 has 28.75963636363636, skipping plotting...\n"
     ]
    },
    {
     "name": "stderr",
     "output_type": "stream",
     "text": [
      "/home/fred/micromamba/envs/open-gira/lib/python3.10/site-packages/geopandas/geodataframe.py:2061: UserWarning: CRS mismatch between the CRS of left geometries and the CRS of right geometries.\n",
      "Use `to_crs()` to reproject one of the input geometries to match the CRS of the other.\n",
      "\n",
      "Left CRS: EPSG:4326\n",
      "Right CRS: None\n",
      "\n",
      "  return geopandas.sjoin(left_df=self, right_df=df, *args, **kwargs)\n",
      "/tmp/ipykernel_868937/987684252.py:12: ParserWarning: Falling back to the 'python' engine because the 'c' engine does not support regex separators (separators > 1 char and different from '\\s+' are interpreted as regex); you can avoid this warning by specifying engine='python'.\n",
      "  pd.read_csv(path, delimiter=r',\\s+')\n"
     ]
    },
    {
     "name": "stdout",
     "output_type": "stream",
     "text": [
      "DESMOND_2019\n",
      "DESMOND_2019 has 21.031945454545454, skipping plotting...\n"
     ]
    },
    {
     "name": "stderr",
     "output_type": "stream",
     "text": [
      "/home/fred/micromamba/envs/open-gira/lib/python3.10/site-packages/geopandas/geodataframe.py:2061: UserWarning: CRS mismatch between the CRS of left geometries and the CRS of right geometries.\n",
      "Use `to_crs()` to reproject one of the input geometries to match the CRS of the other.\n",
      "\n",
      "Left CRS: EPSG:4326\n",
      "Right CRS: None\n",
      "\n",
      "  return geopandas.sjoin(left_df=self, right_df=df, *args, **kwargs)\n",
      "/tmp/ipykernel_868937/987684252.py:12: ParserWarning: Falling back to the 'python' engine because the 'c' engine does not support regex separators (separators > 1 char and different from '\\s+' are interpreted as regex); you can avoid this warning by specifying engine='python'.\n",
      "  pd.read_csv(path, delimiter=r',\\s+')\n",
      "/tmp/ipykernel_868937/987684252.py:12: ParserWarning: Falling back to the 'python' engine because the 'c' engine does not support regex separators (separators > 1 char and different from '\\s+' are interpreted as regex); you can avoid this warning by specifying engine='python'.\n",
      "  pd.read_csv(path, delimiter=r',\\s+')\n"
     ]
    },
    {
     "name": "stdout",
     "output_type": "stream",
     "text": [
      "TREVOR_2019\n"
     ]
    },
    {
     "name": "stderr",
     "output_type": "stream",
     "text": [
      "/home/fred/micromamba/envs/open-gira/lib/python3.10/site-packages/geopandas/geodataframe.py:2061: UserWarning: CRS mismatch between the CRS of left geometries and the CRS of right geometries.\n",
      "Use `to_crs()` to reproject one of the input geometries to match the CRS of the other.\n",
      "\n",
      "Left CRS: EPSG:4326\n",
      "Right CRS: None\n",
      "\n",
      "  return geopandas.sjoin(left_df=self, right_df=df, *args, **kwargs)\n",
      "/tmp/ipykernel_868937/987684252.py:12: ParserWarning: Falling back to the 'python' engine because the 'c' engine does not support regex separators (separators > 1 char and different from '\\s+' are interpreted as regex); you can avoid this warning by specifying engine='python'.\n",
      "  pd.read_csv(path, delimiter=r',\\s+')\n"
     ]
    },
    {
     "name": "stdout",
     "output_type": "stream",
     "text": [
      "VERONICA_2019\n"
     ]
    },
    {
     "name": "stderr",
     "output_type": "stream",
     "text": [
      "/home/fred/micromamba/envs/open-gira/lib/python3.10/site-packages/geopandas/geodataframe.py:2061: UserWarning: CRS mismatch between the CRS of left geometries and the CRS of right geometries.\n",
      "Use `to_crs()` to reproject one of the input geometries to match the CRS of the other.\n",
      "\n",
      "Left CRS: EPSG:4326\n",
      "Right CRS: None\n",
      "\n",
      "  return geopandas.sjoin(left_df=self, right_df=df, *args, **kwargs)\n",
      "/tmp/ipykernel_868937/987684252.py:12: ParserWarning: Falling back to the 'python' engine because the 'c' engine does not support regex separators (separators > 1 char and different from '\\s+' are interpreted as regex); you can avoid this warning by specifying engine='python'.\n",
      "  pd.read_csv(path, delimiter=r',\\s+')\n"
     ]
    },
    {
     "name": "stdout",
     "output_type": "stream",
     "text": [
      "KENNETH_2019\n"
     ]
    },
    {
     "name": "stderr",
     "output_type": "stream",
     "text": [
      "/home/fred/micromamba/envs/open-gira/lib/python3.10/site-packages/geopandas/geodataframe.py:2061: UserWarning: CRS mismatch between the CRS of left geometries and the CRS of right geometries.\n",
      "Use `to_crs()` to reproject one of the input geometries to match the CRS of the other.\n",
      "\n",
      "Left CRS: EPSG:4326\n",
      "Right CRS: None\n",
      "\n",
      "  return geopandas.sjoin(left_df=self, right_df=df, *args, **kwargs)\n",
      "/tmp/ipykernel_868937/987684252.py:12: ParserWarning: Falling back to the 'python' engine because the 'c' engine does not support regex separators (separators > 1 char and different from '\\s+' are interpreted as regex); you can avoid this warning by specifying engine='python'.\n",
      "  pd.read_csv(path, delimiter=r',\\s+')\n"
     ]
    },
    {
     "name": "stdout",
     "output_type": "stream",
     "text": [
      "FANI_2019\n"
     ]
    },
    {
     "name": "stderr",
     "output_type": "stream",
     "text": [
      "/home/fred/micromamba/envs/open-gira/lib/python3.10/site-packages/geopandas/geodataframe.py:2061: UserWarning: CRS mismatch between the CRS of left geometries and the CRS of right geometries.\n",
      "Use `to_crs()` to reproject one of the input geometries to match the CRS of the other.\n",
      "\n",
      "Left CRS: EPSG:4326\n",
      "Right CRS: None\n",
      "\n",
      "  return geopandas.sjoin(left_df=self, right_df=df, *args, **kwargs)\n",
      "/tmp/ipykernel_868937/987684252.py:12: ParserWarning: Falling back to the 'python' engine because the 'c' engine does not support regex separators (separators > 1 char and different from '\\s+' are interpreted as regex); you can avoid this warning by specifying engine='python'.\n",
      "  pd.read_csv(path, delimiter=r',\\s+')\n",
      "/tmp/ipykernel_868937/987684252.py:12: ParserWarning: Falling back to the 'python' engine because the 'c' engine does not support regex separators (separators > 1 char and different from '\\s+' are interpreted as regex); you can avoid this warning by specifying engine='python'.\n",
      "  pd.read_csv(path, delimiter=r',\\s+')\n"
     ]
    },
    {
     "name": "stdout",
     "output_type": "stream",
     "text": [
      "couldn't read kw01 for ANN_2019, skipping...\n"
     ]
    },
    {
     "name": "stderr",
     "output_type": "stream",
     "text": [
      "/tmp/ipykernel_868937/987684252.py:12: ParserWarning: Falling back to the 'python' engine because the 'c' engine does not support regex separators (separators > 1 char and different from '\\s+' are interpreted as regex); you can avoid this warning by specifying engine='python'.\n",
      "  pd.read_csv(path, delimiter=r',\\s+')\n"
     ]
    },
    {
     "name": "stdout",
     "output_type": "stream",
     "text": [
      "BARRY_2019\n",
      "BARRY_2019 has 33.436, skipping plotting...\n"
     ]
    },
    {
     "name": "stderr",
     "output_type": "stream",
     "text": [
      "/home/fred/micromamba/envs/open-gira/lib/python3.10/site-packages/geopandas/geodataframe.py:2061: UserWarning: CRS mismatch between the CRS of left geometries and the CRS of right geometries.\n",
      "Use `to_crs()` to reproject one of the input geometries to match the CRS of the other.\n",
      "\n",
      "Left CRS: EPSG:4326\n",
      "Right CRS: None\n",
      "\n",
      "  return geopandas.sjoin(left_df=self, right_df=df, *args, **kwargs)\n",
      "/tmp/ipykernel_868937/987684252.py:12: ParserWarning: Falling back to the 'python' engine because the 'c' engine does not support regex separators (separators > 1 char and different from '\\s+' are interpreted as regex); you can avoid this warning by specifying engine='python'.\n",
      "  pd.read_csv(path, delimiter=r',\\s+')\n"
     ]
    },
    {
     "name": "stdout",
     "output_type": "stream",
     "text": [
      "DANAS_2019\n",
      "DANAS_2019 has 23.321179364714887, skipping plotting...\n"
     ]
    },
    {
     "name": "stderr",
     "output_type": "stream",
     "text": [
      "/home/fred/micromamba/envs/open-gira/lib/python3.10/site-packages/geopandas/geodataframe.py:2061: UserWarning: CRS mismatch between the CRS of left geometries and the CRS of right geometries.\n",
      "Use `to_crs()` to reproject one of the input geometries to match the CRS of the other.\n",
      "\n",
      "Left CRS: EPSG:4326\n",
      "Right CRS: None\n",
      "\n",
      "  return geopandas.sjoin(left_df=self, right_df=df, *args, **kwargs)\n",
      "/tmp/ipykernel_868937/987684252.py:12: ParserWarning: Falling back to the 'python' engine because the 'c' engine does not support regex separators (separators > 1 char and different from '\\s+' are interpreted as regex); you can avoid this warning by specifying engine='python'.\n",
      "  pd.read_csv(path, delimiter=r',\\s+')\n"
     ]
    },
    {
     "name": "stdout",
     "output_type": "stream",
     "text": [
      "WIPHA_2019\n",
      "WIPHA_2019 has 23.835579364714885, skipping plotting...\n"
     ]
    },
    {
     "name": "stderr",
     "output_type": "stream",
     "text": [
      "/home/fred/micromamba/envs/open-gira/lib/python3.10/site-packages/geopandas/geodataframe.py:2061: UserWarning: CRS mismatch between the CRS of left geometries and the CRS of right geometries.\n",
      "Use `to_crs()` to reproject one of the input geometries to match the CRS of the other.\n",
      "\n",
      "Left CRS: EPSG:4326\n",
      "Right CRS: None\n",
      "\n",
      "  return geopandas.sjoin(left_df=self, right_df=df, *args, **kwargs)\n",
      "/tmp/ipykernel_868937/987684252.py:12: ParserWarning: Falling back to the 'python' engine because the 'c' engine does not support regex separators (separators > 1 char and different from '\\s+' are interpreted as regex); you can avoid this warning by specifying engine='python'.\n",
      "  pd.read_csv(path, delimiter=r',\\s+')\n"
     ]
    },
    {
     "name": "stdout",
     "output_type": "stream",
     "text": [
      "FRANCISCO_2019\n"
     ]
    },
    {
     "name": "stderr",
     "output_type": "stream",
     "text": [
      "/home/fred/micromamba/envs/open-gira/lib/python3.10/site-packages/geopandas/geodataframe.py:2061: UserWarning: CRS mismatch between the CRS of left geometries and the CRS of right geometries.\n",
      "Use `to_crs()` to reproject one of the input geometries to match the CRS of the other.\n",
      "\n",
      "Left CRS: EPSG:4326\n",
      "Right CRS: None\n",
      "\n",
      "  return geopandas.sjoin(left_df=self, right_df=df, *args, **kwargs)\n",
      "/tmp/ipykernel_868937/987684252.py:12: ParserWarning: Falling back to the 'python' engine because the 'c' engine does not support regex separators (separators > 1 char and different from '\\s+' are interpreted as regex); you can avoid this warning by specifying engine='python'.\n",
      "  pd.read_csv(path, delimiter=r',\\s+')\n"
     ]
    },
    {
     "name": "stdout",
     "output_type": "stream",
     "text": [
      "LEKIMA_2019\n"
     ]
    },
    {
     "name": "stderr",
     "output_type": "stream",
     "text": [
      "/home/fred/micromamba/envs/open-gira/lib/python3.10/site-packages/geopandas/geodataframe.py:2061: UserWarning: CRS mismatch between the CRS of left geometries and the CRS of right geometries.\n",
      "Use `to_crs()` to reproject one of the input geometries to match the CRS of the other.\n",
      "\n",
      "Left CRS: EPSG:4326\n",
      "Right CRS: None\n",
      "\n",
      "  return geopandas.sjoin(left_df=self, right_df=df, *args, **kwargs)\n",
      "/tmp/ipykernel_868937/987684252.py:12: ParserWarning: Falling back to the 'python' engine because the 'c' engine does not support regex separators (separators > 1 char and different from '\\s+' are interpreted as regex); you can avoid this warning by specifying engine='python'.\n",
      "  pd.read_csv(path, delimiter=r',\\s+')\n"
     ]
    },
    {
     "name": "stdout",
     "output_type": "stream",
     "text": [
      "KROSA_2019\n"
     ]
    },
    {
     "name": "stderr",
     "output_type": "stream",
     "text": [
      "/home/fred/micromamba/envs/open-gira/lib/python3.10/site-packages/geopandas/geodataframe.py:2061: UserWarning: CRS mismatch between the CRS of left geometries and the CRS of right geometries.\n",
      "Use `to_crs()` to reproject one of the input geometries to match the CRS of the other.\n",
      "\n",
      "Left CRS: EPSG:4326\n",
      "Right CRS: None\n",
      "\n",
      "  return geopandas.sjoin(left_df=self, right_df=df, *args, **kwargs)\n",
      "/tmp/ipykernel_868937/987684252.py:12: ParserWarning: Falling back to the 'python' engine because the 'c' engine does not support regex separators (separators > 1 char and different from '\\s+' are interpreted as regex); you can avoid this warning by specifying engine='python'.\n",
      "  pd.read_csv(path, delimiter=r',\\s+')\n"
     ]
    },
    {
     "name": "stdout",
     "output_type": "stream",
     "text": [
      "BAILU_2019\n",
      "BAILU_2019 has 29.475279129991073, skipping plotting...\n"
     ]
    },
    {
     "name": "stderr",
     "output_type": "stream",
     "text": [
      "/home/fred/micromamba/envs/open-gira/lib/python3.10/site-packages/geopandas/geodataframe.py:2061: UserWarning: CRS mismatch between the CRS of left geometries and the CRS of right geometries.\n",
      "Use `to_crs()` to reproject one of the input geometries to match the CRS of the other.\n",
      "\n",
      "Left CRS: EPSG:4326\n",
      "Right CRS: None\n",
      "\n",
      "  return geopandas.sjoin(left_df=self, right_df=df, *args, **kwargs)\n",
      "/tmp/ipykernel_868937/987684252.py:12: ParserWarning: Falling back to the 'python' engine because the 'c' engine does not support regex separators (separators > 1 char and different from '\\s+' are interpreted as regex); you can avoid this warning by specifying engine='python'.\n",
      "  pd.read_csv(path, delimiter=r',\\s+')\n",
      "/tmp/ipykernel_868937/987684252.py:12: ParserWarning: Falling back to the 'python' engine because the 'c' engine does not support regex separators (separators > 1 char and different from '\\s+' are interpreted as regex); you can avoid this warning by specifying engine='python'.\n",
      "  pd.read_csv(path, delimiter=r',\\s+')\n",
      "/tmp/ipykernel_868937/987684252.py:12: ParserWarning: Falling back to the 'python' engine because the 'c' engine does not support regex separators (separators > 1 char and different from '\\s+' are interpreted as regex); you can avoid this warning by specifying engine='python'.\n",
      "  pd.read_csv(path, delimiter=r',\\s+')\n"
     ]
    },
    {
     "name": "stdout",
     "output_type": "stream",
     "text": [
      "DORIAN_2019\n"
     ]
    },
    {
     "name": "stderr",
     "output_type": "stream",
     "text": [
      "/home/fred/micromamba/envs/open-gira/lib/python3.10/site-packages/geopandas/geodataframe.py:2061: UserWarning: CRS mismatch between the CRS of left geometries and the CRS of right geometries.\n",
      "Use `to_crs()` to reproject one of the input geometries to match the CRS of the other.\n",
      "\n",
      "Left CRS: EPSG:4326\n",
      "Right CRS: None\n",
      "\n",
      "  return geopandas.sjoin(left_df=self, right_df=df, *args, **kwargs)\n",
      "/tmp/ipykernel_868937/987684252.py:12: ParserWarning: Falling back to the 'python' engine because the 'c' engine does not support regex separators (separators > 1 char and different from '\\s+' are interpreted as regex); you can avoid this warning by specifying engine='python'.\n",
      "  pd.read_csv(path, delimiter=r',\\s+')\n"
     ]
    },
    {
     "name": "stdout",
     "output_type": "stream",
     "text": [
      "FAXAI_2019\n"
     ]
    },
    {
     "name": "stderr",
     "output_type": "stream",
     "text": [
      "/home/fred/micromamba/envs/open-gira/lib/python3.10/site-packages/geopandas/geodataframe.py:2061: UserWarning: CRS mismatch between the CRS of left geometries and the CRS of right geometries.\n",
      "Use `to_crs()` to reproject one of the input geometries to match the CRS of the other.\n",
      "\n",
      "Left CRS: EPSG:4326\n",
      "Right CRS: None\n",
      "\n",
      "  return geopandas.sjoin(left_df=self, right_df=df, *args, **kwargs)\n",
      "/tmp/ipykernel_868937/987684252.py:12: ParserWarning: Falling back to the 'python' engine because the 'c' engine does not support regex separators (separators > 1 char and different from '\\s+' are interpreted as regex); you can avoid this warning by specifying engine='python'.\n",
      "  pd.read_csv(path, delimiter=r',\\s+')\n"
     ]
    },
    {
     "name": "stdout",
     "output_type": "stream",
     "text": [
      "LINGLING_2019\n"
     ]
    },
    {
     "name": "stderr",
     "output_type": "stream",
     "text": [
      "/home/fred/micromamba/envs/open-gira/lib/python3.10/site-packages/geopandas/geodataframe.py:2061: UserWarning: CRS mismatch between the CRS of left geometries and the CRS of right geometries.\n",
      "Use `to_crs()` to reproject one of the input geometries to match the CRS of the other.\n",
      "\n",
      "Left CRS: EPSG:4326\n",
      "Right CRS: None\n",
      "\n",
      "  return geopandas.sjoin(left_df=self, right_df=df, *args, **kwargs)\n",
      "/tmp/ipykernel_868937/987684252.py:12: ParserWarning: Falling back to the 'python' engine because the 'c' engine does not support regex separators (separators > 1 char and different from '\\s+' are interpreted as regex); you can avoid this warning by specifying engine='python'.\n",
      "  pd.read_csv(path, delimiter=r',\\s+')\n",
      "/tmp/ipykernel_868937/987684252.py:12: ParserWarning: Falling back to the 'python' engine because the 'c' engine does not support regex separators (separators > 1 char and different from '\\s+' are interpreted as regex); you can avoid this warning by specifying engine='python'.\n",
      "  pd.read_csv(path, delimiter=r',\\s+')\n"
     ]
    },
    {
     "name": "stdout",
     "output_type": "stream",
     "text": [
      "FERNAND_2019\n",
      "FERNAND_2019 has 23.148, skipping plotting...\n"
     ]
    },
    {
     "name": "stderr",
     "output_type": "stream",
     "text": [
      "/home/fred/micromamba/envs/open-gira/lib/python3.10/site-packages/geopandas/geodataframe.py:2061: UserWarning: CRS mismatch between the CRS of left geometries and the CRS of right geometries.\n",
      "Use `to_crs()` to reproject one of the input geometries to match the CRS of the other.\n",
      "\n",
      "Left CRS: EPSG:4326\n",
      "Right CRS: None\n",
      "\n",
      "  return geopandas.sjoin(left_df=self, right_df=df, *args, **kwargs)\n",
      "/tmp/ipykernel_868937/987684252.py:12: ParserWarning: Falling back to the 'python' engine because the 'c' engine does not support regex separators (separators > 1 char and different from '\\s+' are interpreted as regex); you can avoid this warning by specifying engine='python'.\n",
      "  pd.read_csv(path, delimiter=r',\\s+')\n",
      "/tmp/ipykernel_868937/987684252.py:12: ParserWarning: Falling back to the 'python' engine because the 'c' engine does not support regex separators (separators > 1 char and different from '\\s+' are interpreted as regex); you can avoid this warning by specifying engine='python'.\n",
      "  pd.read_csv(path, delimiter=r',\\s+')\n"
     ]
    },
    {
     "name": "stdout",
     "output_type": "stream",
     "text": [
      "LORENA_2019\n",
      "LORENA_2019 has 38.58, skipping plotting...\n"
     ]
    },
    {
     "name": "stderr",
     "output_type": "stream",
     "text": [
      "/home/fred/micromamba/envs/open-gira/lib/python3.10/site-packages/geopandas/geodataframe.py:2061: UserWarning: CRS mismatch between the CRS of left geometries and the CRS of right geometries.\n",
      "Use `to_crs()` to reproject one of the input geometries to match the CRS of the other.\n",
      "\n",
      "Left CRS: EPSG:4326\n",
      "Right CRS: None\n",
      "\n",
      "  return geopandas.sjoin(left_df=self, right_df=df, *args, **kwargs)\n",
      "/tmp/ipykernel_868937/987684252.py:12: ParserWarning: Falling back to the 'python' engine because the 'c' engine does not support regex separators (separators > 1 char and different from '\\s+' are interpreted as regex); you can avoid this warning by specifying engine='python'.\n",
      "  pd.read_csv(path, delimiter=r',\\s+')\n"
     ]
    },
    {
     "name": "stdout",
     "output_type": "stream",
     "text": [
      "IMELDA_2019\n",
      "IMELDA_2019 has 20.576, skipping plotting...\n"
     ]
    },
    {
     "name": "stderr",
     "output_type": "stream",
     "text": [
      "/home/fred/micromamba/envs/open-gira/lib/python3.10/site-packages/geopandas/geodataframe.py:2061: UserWarning: CRS mismatch between the CRS of left geometries and the CRS of right geometries.\n",
      "Use `to_crs()` to reproject one of the input geometries to match the CRS of the other.\n",
      "\n",
      "Left CRS: EPSG:4326\n",
      "Right CRS: None\n",
      "\n",
      "  return geopandas.sjoin(left_df=self, right_df=df, *args, **kwargs)\n",
      "/tmp/ipykernel_868937/987684252.py:12: ParserWarning: Falling back to the 'python' engine because the 'c' engine does not support regex separators (separators > 1 char and different from '\\s+' are interpreted as regex); you can avoid this warning by specifying engine='python'.\n",
      "  pd.read_csv(path, delimiter=r',\\s+')\n"
     ]
    },
    {
     "name": "stdout",
     "output_type": "stream",
     "text": [
      "KAREN_2019\n",
      "KAREN_2019 has 20.576, skipping plotting...\n"
     ]
    },
    {
     "name": "stderr",
     "output_type": "stream",
     "text": [
      "/home/fred/micromamba/envs/open-gira/lib/python3.10/site-packages/geopandas/geodataframe.py:2061: UserWarning: CRS mismatch between the CRS of left geometries and the CRS of right geometries.\n",
      "Use `to_crs()` to reproject one of the input geometries to match the CRS of the other.\n",
      "\n",
      "Left CRS: EPSG:4326\n",
      "Right CRS: None\n",
      "\n",
      "  return geopandas.sjoin(left_df=self, right_df=df, *args, **kwargs)\n",
      "/tmp/ipykernel_868937/987684252.py:12: ParserWarning: Falling back to the 'python' engine because the 'c' engine does not support regex separators (separators > 1 char and different from '\\s+' are interpreted as regex); you can avoid this warning by specifying engine='python'.\n",
      "  pd.read_csv(path, delimiter=r',\\s+')\n",
      "/tmp/ipykernel_868937/987684252.py:12: ParserWarning: Falling back to the 'python' engine because the 'c' engine does not support regex separators (separators > 1 char and different from '\\s+' are interpreted as regex); you can avoid this warning by specifying engine='python'.\n",
      "  pd.read_csv(path, delimiter=r',\\s+')\n"
     ]
    },
    {
     "name": "stdout",
     "output_type": "stream",
     "text": [
      "MITAG_2019\n"
     ]
    },
    {
     "name": "stderr",
     "output_type": "stream",
     "text": [
      "/home/fred/micromamba/envs/open-gira/lib/python3.10/site-packages/geopandas/geodataframe.py:2061: UserWarning: CRS mismatch between the CRS of left geometries and the CRS of right geometries.\n",
      "Use `to_crs()` to reproject one of the input geometries to match the CRS of the other.\n",
      "\n",
      "Left CRS: EPSG:4326\n",
      "Right CRS: None\n",
      "\n",
      "  return geopandas.sjoin(left_df=self, right_df=df, *args, **kwargs)\n",
      "/tmp/ipykernel_868937/987684252.py:12: ParserWarning: Falling back to the 'python' engine because the 'c' engine does not support regex separators (separators > 1 char and different from '\\s+' are interpreted as regex); you can avoid this warning by specifying engine='python'.\n",
      "  pd.read_csv(path, delimiter=r',\\s+')\n",
      "/tmp/ipykernel_868937/987684252.py:12: ParserWarning: Falling back to the 'python' engine because the 'c' engine does not support regex separators (separators > 1 char and different from '\\s+' are interpreted as regex); you can avoid this warning by specifying engine='python'.\n",
      "  pd.read_csv(path, delimiter=r',\\s+')\n"
     ]
    },
    {
     "name": "stdout",
     "output_type": "stream",
     "text": [
      "NARDA_2019\n",
      "NARDA_2019 has 23.148, skipping plotting...\n"
     ]
    },
    {
     "name": "stderr",
     "output_type": "stream",
     "text": [
      "/home/fred/micromamba/envs/open-gira/lib/python3.10/site-packages/geopandas/geodataframe.py:2061: UserWarning: CRS mismatch between the CRS of left geometries and the CRS of right geometries.\n",
      "Use `to_crs()` to reproject one of the input geometries to match the CRS of the other.\n",
      "\n",
      "Left CRS: EPSG:4326\n",
      "Right CRS: None\n",
      "\n",
      "  return geopandas.sjoin(left_df=self, right_df=df, *args, **kwargs)\n",
      "/tmp/ipykernel_868937/987684252.py:12: ParserWarning: Falling back to the 'python' engine because the 'c' engine does not support regex separators (separators > 1 char and different from '\\s+' are interpreted as regex); you can avoid this warning by specifying engine='python'.\n",
      "  pd.read_csv(path, delimiter=r',\\s+')\n"
     ]
    },
    {
     "name": "stdout",
     "output_type": "stream",
     "text": [
      "HAGIBIS_2019\n"
     ]
    },
    {
     "name": "stderr",
     "output_type": "stream",
     "text": [
      "/home/fred/micromamba/envs/open-gira/lib/python3.10/site-packages/geopandas/geodataframe.py:2061: UserWarning: CRS mismatch between the CRS of left geometries and the CRS of right geometries.\n",
      "Use `to_crs()` to reproject one of the input geometries to match the CRS of the other.\n",
      "\n",
      "Left CRS: EPSG:4326\n",
      "Right CRS: None\n",
      "\n",
      "  return geopandas.sjoin(left_df=self, right_df=df, *args, **kwargs)\n",
      "/tmp/ipykernel_868937/987684252.py:12: ParserWarning: Falling back to the 'python' engine because the 'c' engine does not support regex separators (separators > 1 char and different from '\\s+' are interpreted as regex); you can avoid this warning by specifying engine='python'.\n",
      "  pd.read_csv(path, delimiter=r',\\s+')\n",
      "/tmp/ipykernel_868937/987684252.py:12: ParserWarning: Falling back to the 'python' engine because the 'c' engine does not support regex separators (separators > 1 char and different from '\\s+' are interpreted as regex); you can avoid this warning by specifying engine='python'.\n",
      "  pd.read_csv(path, delimiter=r',\\s+')\n"
     ]
    },
    {
     "name": "stdout",
     "output_type": "stream",
     "text": [
      "NESTOR_2019\n",
      "NESTOR_2019 has 25.72, skipping plotting...\n"
     ]
    },
    {
     "name": "stderr",
     "output_type": "stream",
     "text": [
      "/home/fred/micromamba/envs/open-gira/lib/python3.10/site-packages/geopandas/geodataframe.py:2061: UserWarning: CRS mismatch between the CRS of left geometries and the CRS of right geometries.\n",
      "Use `to_crs()` to reproject one of the input geometries to match the CRS of the other.\n",
      "\n",
      "Left CRS: EPSG:4326\n",
      "Right CRS: None\n",
      "\n",
      "  return geopandas.sjoin(left_df=self, right_df=df, *args, **kwargs)\n",
      "/tmp/ipykernel_868937/987684252.py:12: ParserWarning: Falling back to the 'python' engine because the 'c' engine does not support regex separators (separators > 1 char and different from '\\s+' are interpreted as regex); you can avoid this warning by specifying engine='python'.\n",
      "  pd.read_csv(path, delimiter=r',\\s+')\n",
      "/tmp/ipykernel_868937/987684252.py:12: ParserWarning: Falling back to the 'python' engine because the 'c' engine does not support regex separators (separators > 1 char and different from '\\s+' are interpreted as regex); you can avoid this warning by specifying engine='python'.\n",
      "  pd.read_csv(path, delimiter=r',\\s+')\n"
     ]
    },
    {
     "name": "stdout",
     "output_type": "stream",
     "text": [
      "PRISCILLA_2019\n",
      "PRISCILLA_2019 has 20.576, skipping plotting...\n"
     ]
    },
    {
     "name": "stderr",
     "output_type": "stream",
     "text": [
      "/home/fred/micromamba/envs/open-gira/lib/python3.10/site-packages/geopandas/geodataframe.py:2061: UserWarning: CRS mismatch between the CRS of left geometries and the CRS of right geometries.\n",
      "Use `to_crs()` to reproject one of the input geometries to match the CRS of the other.\n",
      "\n",
      "Left CRS: EPSG:4326\n",
      "Right CRS: None\n",
      "\n",
      "  return geopandas.sjoin(left_df=self, right_df=df, *args, **kwargs)\n",
      "/tmp/ipykernel_868937/987684252.py:12: ParserWarning: Falling back to the 'python' engine because the 'c' engine does not support regex separators (separators > 1 char and different from '\\s+' are interpreted as regex); you can avoid this warning by specifying engine='python'.\n",
      "  pd.read_csv(path, delimiter=r',\\s+')\n"
     ]
    },
    {
     "name": "stdout",
     "output_type": "stream",
     "text": [
      "NAKRI_2019\n",
      "NAKRI_2019 has 34.94272150019135, skipping plotting...\n"
     ]
    },
    {
     "name": "stderr",
     "output_type": "stream",
     "text": [
      "/home/fred/micromamba/envs/open-gira/lib/python3.10/site-packages/geopandas/geodataframe.py:2061: UserWarning: CRS mismatch between the CRS of left geometries and the CRS of right geometries.\n",
      "Use `to_crs()` to reproject one of the input geometries to match the CRS of the other.\n",
      "\n",
      "Left CRS: EPSG:4326\n",
      "Right CRS: None\n",
      "\n",
      "  return geopandas.sjoin(left_df=self, right_df=df, *args, **kwargs)\n",
      "/tmp/ipykernel_868937/987684252.py:12: ParserWarning: Falling back to the 'python' engine because the 'c' engine does not support regex separators (separators > 1 char and different from '\\s+' are interpreted as regex); you can avoid this warning by specifying engine='python'.\n",
      "  pd.read_csv(path, delimiter=r',\\s+')\n"
     ]
    },
    {
     "name": "stdout",
     "output_type": "stream",
     "text": [
      "KALMAEGI_2019\n"
     ]
    },
    {
     "name": "stderr",
     "output_type": "stream",
     "text": [
      "/home/fred/micromamba/envs/open-gira/lib/python3.10/site-packages/geopandas/geodataframe.py:2061: UserWarning: CRS mismatch between the CRS of left geometries and the CRS of right geometries.\n",
      "Use `to_crs()` to reproject one of the input geometries to match the CRS of the other.\n",
      "\n",
      "Left CRS: EPSG:4326\n",
      "Right CRS: None\n",
      "\n",
      "  return geopandas.sjoin(left_df=self, right_df=df, *args, **kwargs)\n",
      "/tmp/ipykernel_868937/987684252.py:12: ParserWarning: Falling back to the 'python' engine because the 'c' engine does not support regex separators (separators > 1 char and different from '\\s+' are interpreted as regex); you can avoid this warning by specifying engine='python'.\n",
      "  pd.read_csv(path, delimiter=r',\\s+')\n"
     ]
    },
    {
     "name": "stdout",
     "output_type": "stream",
     "text": [
      "KAMMURI_2019\n"
     ]
    },
    {
     "name": "stderr",
     "output_type": "stream",
     "text": [
      "/home/fred/micromamba/envs/open-gira/lib/python3.10/site-packages/geopandas/geodataframe.py:2061: UserWarning: CRS mismatch between the CRS of left geometries and the CRS of right geometries.\n",
      "Use `to_crs()` to reproject one of the input geometries to match the CRS of the other.\n",
      "\n",
      "Left CRS: EPSG:4326\n",
      "Right CRS: None\n",
      "\n",
      "  return geopandas.sjoin(left_df=self, right_df=df, *args, **kwargs)\n",
      "/tmp/ipykernel_868937/987684252.py:12: ParserWarning: Falling back to the 'python' engine because the 'c' engine does not support regex separators (separators > 1 char and different from '\\s+' are interpreted as regex); you can avoid this warning by specifying engine='python'.\n",
      "  pd.read_csv(path, delimiter=r',\\s+')\n"
     ]
    },
    {
     "name": "stdout",
     "output_type": "stream",
     "text": [
      "BELNA_2019\n"
     ]
    },
    {
     "name": "stderr",
     "output_type": "stream",
     "text": [
      "/home/fred/micromamba/envs/open-gira/lib/python3.10/site-packages/geopandas/geodataframe.py:2061: UserWarning: CRS mismatch between the CRS of left geometries and the CRS of right geometries.\n",
      "Use `to_crs()` to reproject one of the input geometries to match the CRS of the other.\n",
      "\n",
      "Left CRS: EPSG:4326\n",
      "Right CRS: None\n",
      "\n",
      "  return geopandas.sjoin(left_df=self, right_df=df, *args, **kwargs)\n",
      "/tmp/ipykernel_868937/987684252.py:12: ParserWarning: Falling back to the 'python' engine because the 'c' engine does not support regex separators (separators > 1 char and different from '\\s+' are interpreted as regex); you can avoid this warning by specifying engine='python'.\n",
      "  pd.read_csv(path, delimiter=r',\\s+')\n"
     ]
    },
    {
     "name": "stdout",
     "output_type": "stream",
     "text": [
      "PHANFONE_2019\n"
     ]
    },
    {
     "name": "stderr",
     "output_type": "stream",
     "text": [
      "/home/fred/micromamba/envs/open-gira/lib/python3.10/site-packages/geopandas/geodataframe.py:2061: UserWarning: CRS mismatch between the CRS of left geometries and the CRS of right geometries.\n",
      "Use `to_crs()` to reproject one of the input geometries to match the CRS of the other.\n",
      "\n",
      "Left CRS: EPSG:4326\n",
      "Right CRS: None\n",
      "\n",
      "  return geopandas.sjoin(left_df=self, right_df=df, *args, **kwargs)\n",
      "/tmp/ipykernel_868937/987684252.py:12: ParserWarning: Falling back to the 'python' engine because the 'c' engine does not support regex separators (separators > 1 char and different from '\\s+' are interpreted as regex); you can avoid this warning by specifying engine='python'.\n",
      "  pd.read_csv(path, delimiter=r',\\s+')\n"
     ]
    },
    {
     "name": "stdout",
     "output_type": "stream",
     "text": [
      "BLAKE_2020\n",
      "BLAKE_2020 has 25.06530909090909, skipping plotting...\n"
     ]
    },
    {
     "name": "stderr",
     "output_type": "stream",
     "text": [
      "/home/fred/micromamba/envs/open-gira/lib/python3.10/site-packages/geopandas/geodataframe.py:2061: UserWarning: CRS mismatch between the CRS of left geometries and the CRS of right geometries.\n",
      "Use `to_crs()` to reproject one of the input geometries to match the CRS of the other.\n",
      "\n",
      "Left CRS: EPSG:4326\n",
      "Right CRS: None\n",
      "\n",
      "  return geopandas.sjoin(left_df=self, right_df=df, *args, **kwargs)\n",
      "/tmp/ipykernel_868937/987684252.py:12: ParserWarning: Falling back to the 'python' engine because the 'c' engine does not support regex separators (separators > 1 char and different from '\\s+' are interpreted as regex); you can avoid this warning by specifying engine='python'.\n",
      "  pd.read_csv(path, delimiter=r',\\s+')\n"
     ]
    },
    {
     "name": "stdout",
     "output_type": "stream",
     "text": [
      "FRANCISCO_2020\n",
      "FRANCISCO_2020 has 23.440272727272724, skipping plotting...\n"
     ]
    },
    {
     "name": "stderr",
     "output_type": "stream",
     "text": [
      "/home/fred/micromamba/envs/open-gira/lib/python3.10/site-packages/geopandas/geodataframe.py:2061: UserWarning: CRS mismatch between the CRS of left geometries and the CRS of right geometries.\n",
      "Use `to_crs()` to reproject one of the input geometries to match the CRS of the other.\n",
      "\n",
      "Left CRS: EPSG:4326\n",
      "Right CRS: None\n",
      "\n",
      "  return geopandas.sjoin(left_df=self, right_df=df, *args, **kwargs)\n",
      "/tmp/ipykernel_868937/987684252.py:12: ParserWarning: Falling back to the 'python' engine because the 'c' engine does not support regex separators (separators > 1 char and different from '\\s+' are interpreted as regex); you can avoid this warning by specifying engine='python'.\n",
      "  pd.read_csv(path, delimiter=r',\\s+')\n"
     ]
    },
    {
     "name": "stdout",
     "output_type": "stream",
     "text": [
      "DAMIEN_2020\n"
     ]
    },
    {
     "name": "stderr",
     "output_type": "stream",
     "text": [
      "/home/fred/micromamba/envs/open-gira/lib/python3.10/site-packages/geopandas/geodataframe.py:2061: UserWarning: CRS mismatch between the CRS of left geometries and the CRS of right geometries.\n",
      "Use `to_crs()` to reproject one of the input geometries to match the CRS of the other.\n",
      "\n",
      "Left CRS: EPSG:4326\n",
      "Right CRS: None\n",
      "\n",
      "  return geopandas.sjoin(left_df=self, right_df=df, *args, **kwargs)\n",
      "/tmp/ipykernel_868937/987684252.py:12: ParserWarning: Falling back to the 'python' engine because the 'c' engine does not support regex separators (separators > 1 char and different from '\\s+' are interpreted as regex); you can avoid this warning by specifying engine='python'.\n",
      "  pd.read_csv(path, delimiter=r',\\s+')\n"
     ]
    },
    {
     "name": "stdout",
     "output_type": "stream",
     "text": [
      "ESTHER_2020\n",
      "ESTHER_2020 has 23.779309090909088, skipping plotting...\n"
     ]
    },
    {
     "name": "stderr",
     "output_type": "stream",
     "text": [
      "/home/fred/micromamba/envs/open-gira/lib/python3.10/site-packages/geopandas/geodataframe.py:2061: UserWarning: CRS mismatch between the CRS of left geometries and the CRS of right geometries.\n",
      "Use `to_crs()` to reproject one of the input geometries to match the CRS of the other.\n",
      "\n",
      "Left CRS: EPSG:4326\n",
      "Right CRS: None\n",
      "\n",
      "  return geopandas.sjoin(left_df=self, right_df=df, *args, **kwargs)\n",
      "/tmp/ipykernel_868937/987684252.py:12: ParserWarning: Falling back to the 'python' engine because the 'c' engine does not support regex separators (separators > 1 char and different from '\\s+' are interpreted as regex); you can avoid this warning by specifying engine='python'.\n",
      "  pd.read_csv(path, delimiter=r',\\s+')\n"
     ]
    },
    {
     "name": "stdout",
     "output_type": "stream",
     "text": [
      "HEROLD_2020\n"
     ]
    },
    {
     "name": "stderr",
     "output_type": "stream",
     "text": [
      "/home/fred/micromamba/envs/open-gira/lib/python3.10/site-packages/geopandas/geodataframe.py:2061: UserWarning: CRS mismatch between the CRS of left geometries and the CRS of right geometries.\n",
      "Use `to_crs()` to reproject one of the input geometries to match the CRS of the other.\n",
      "\n",
      "Left CRS: EPSG:4326\n",
      "Right CRS: None\n",
      "\n",
      "  return geopandas.sjoin(left_df=self, right_df=df, *args, **kwargs)\n"
     ]
    }
   ],
   "source": [
    "buffer_km = 200\n",
    "\n",
    "plot_dir = (\n",
    "    \"/home/fred/projects/open_gira/open-gira/validation/wind_model_comparison/error_by_model_speed\"\n",
    ")\n",
    "os.makedirs(plot_dir, exist_ok=True)\n",
    "\n",
    "errors_by_storm = {}\n",
    "holland_by_storm = {}\n",
    "kw01_by_storm = {}\n",
    "for i, storm_id in enumerate(common_storms):\n",
    "\n",
    "    name_year = name_year_from_id(tracks, storm_id)\n",
    "    storm_track = tracks[tracks.track_id == storm_id]\n",
    "\n",
    "    try:\n",
    "        kw01 = (\n",
    "            read_kw01(name_year, delta=0.1)\n",
    "                .interpolate_na(dim=\"longitude\", method=\"linear\")\n",
    "                .interpolate_na(dim=\"latitude\", method=\"linear\")\n",
    "        )\n",
    "        kw01_by_storm[storm_id] = kw01.max_wind_speed\n",
    "    except ValueError:\n",
    "        print(f\"couldn\\'t read kw01 for {name_year}, skipping...\")\n",
    "        continue\n",
    "        \n",
    "    try:\n",
    "        holland = xr.open_dataset(\n",
    "            (\n",
    "                \"/home/fred/projects/open_gira/open-gira/\"\n",
    "                f\"results/power/by_storm_set/IBTrACS/by_storm/{storm_id}/wind_field.nc\"\n",
    "            )\n",
    "        )\n",
    "        holland_by_storm[storm_id] = holland.max_wind_speed\n",
    "    except FileNotFoundError:\n",
    "        print(f\"couldn\\'t find holland for {name_year}, skipping...\")\n",
    "        continue\n",
    "\n",
    "    try:\n",
    "        error = (holland - kw01).max_wind_speed.rename(\"error\")\n",
    "        ratio = (holland / kw01).max_wind_speed.rename(\"ratio\")\n",
    "    except ValueError:\n",
    "        print(f\"couldn\\'t calculate the error or ratio for {name_year}, skipping...\")\n",
    "        continue\n",
    "\n",
    "    # make a buffer around the on-land track      \n",
    "    print(name_year)\n",
    "    storm_track_over_land = storm_track[storm_track.landfall == True]\n",
    "    clipped_error = clip_field_to_buffered_points(storm_track_over_land, error, buffer_km)\n",
    "    errors_by_storm[storm_id] = clipped_error\n",
    "    \n",
    "    \n",
    "    # don't plot the weak storms (for brevity)\n",
    "    if storm_track.max_wind_speed_ms.max() < 40:\n",
    "        print(f\"{name_year} has {storm_track.max_wind_speed_ms.max()}, skipping plotting...\")\n",
    "        continue\n",
    "\n",
    "    #plot_wind_speed_maps(name_year, storm_id, holland, kw01, error, plot_dir)\n",
    "    #plot_wind_speed_errors(name_year, storm_id, buffer_km, holland, clipped_error, plot_dir)"
   ]
  },
  {
   "cell_type": "code",
   "execution_count": 14,
   "id": "a232d2d7",
   "metadata": {
    "scrolled": true
   },
   "outputs": [
    {
     "name": "stdout",
     "output_type": "stream",
     "text": [
      "2001157N28265 (104,) (104,)\n",
      "2001204N19127 cannot retrieve model data\n",
      "2001206N14134 (220,) (220,)\n",
      "2001215N26275 (144,) (144,)\n",
      "2001225N18146 (1620,) (1620,)\n",
      "2001235N18296 cannot retrieve model data\n",
      "2001239N19116 (693,) (693,)\n",
      "2001246N19156 (936,) (936,)\n",
      "2001248N23125 (810,) (810,)\n",
      "2001255N26276 (285,) (285,)\n",
      "2001264N21126 (285,) (285,)\n",
      "2001278N12302 (144,) (144,)\n",
      "2001284N28297 (399,) (399,)\n",
      "2001303N13276 (408,) (408,)\n",
      "2001309N10130 (1029,) (1029,)\n",
      "2001365S12138 cannot retrieve model data\n",
      "2002008N07141 (378,) (378,)\n",
      "2002033S13121 (528,) (528,)\n",
      "2002045S18049 cannot retrieve model data\n",
      "2002063S11066 (266,) (266,)\n",
      "2002098S07133 (252,) (252,)\n",
      "2002122S07063 (80,) (80,)\n",
      "2002155N20112 cannot retrieve model data\n",
      "2002178N04155 (425,) (425,)\n",
      "2002178N10139 (220,) (220,)\n",
      "2002187N11160 cannot retrieve model data\n",
      "2002189N21116 (198,) (198,)\n",
      "2002195N11172 cannot retrieve model data\n",
      "2002200N21150 cannot retrieve model data\n",
      "2002214N19120 (315,) (315,)\n",
      "2002227N14115 (338,) (338,)\n",
      "2002234N14164 (462,) (462,)\n",
      "2002240N16155 (442,) (442,)\n",
      "2002245N29281 (128,) (128,)\n",
      "2002249N28266 (220,) (220,)\n",
      "2002252N20121 (252,) (252,)\n",
      "2002252N29289 (150,) (150,)\n",
      "2002255N26273 (375,) (375,)\n",
      "2002258N10300 (1632,) (1632,)\n",
      "2002264N13114 (532,) (532,)\n",
      "2002264N28308 (735,) (735,)\n",
      "2002265N10315 (4446,) (4446,)\n",
      "2002268N15163 (1600,) (1600,)\n",
      "2002268N15258 (500,) (500,)\n",
      "2002295N11261 (768,) (768,)\n",
      "2002364S16045 cannot retrieve model data\n",
      "2003021S11081 cannot retrieve model data\n",
      "2003056S17119 (713,) (713,)\n",
      "2003056S21042 cannot retrieve model data\n",
      "2003067S13130 (3612,) (3612,)\n",
      "2003088S07131 (270,) (270,)\n",
      "2003122S11065 cannot retrieve model data\n",
      "2003144N16119 (621,) (621,)\n",
      "2003158N08156 cannot retrieve model data\n",
      "2003177N14263 (364,) (364,)\n",
      "2003179N20271 (480,) (480,)\n",
      "2003188N11307 (1152,) (1152,)\n",
      "2003196N05150 (738,) (738,)\n",
      "2003196N11137 (1410,) (1410,)\n",
      "2003212N09150 (560,) (560,)\n",
      "2003212N12130 (180,) (180,)\n",
      "2003226N07156 (1647,) (1647,)\n",
      "2003227N26277 (259,) (259,)\n",
      "2003230N18125 cannot retrieve model data\n",
      "2003235N20253 (342,) (342,)\n",
      "2003240N20139 (437,) (437,)\n",
      "2003247N10153 (798,) (798,)\n",
      "2003247N27272 (420,) (420,)\n",
      "2003249N14329 (1360,) (1360,)\n",
      "2003262N17254 (198,) (198,)\n",
      "2003271N18275 (1290,) (1290,)\n",
      "2003275N16252 (56,) (56,)\n",
      "2003276N12262 (722,) (722,)\n",
      "2003284N19291 cannot retrieve model data\n",
      "2003302N11133 (800,) (800,)\n",
      "2003316N11141 (299,) (299,)\n",
      "2003338S09065 cannot retrieve model data\n",
      "2003339N13284 (800,) (800,)\n",
      "2003350S10140 (598,) (598,)\n",
      "2004025S16044 cannot retrieve model data\n",
      "2004041S14147 (238,) (238,)\n",
      "2004056S18125 (238,) (238,)\n",
      "2004061S12072 (1800,) (1800,)\n",
      "2004134N07132 (312,) (312,)\n",
      "2004223N11301 cannot retrieve model data\n",
      "2004238N11325 cannot retrieve model data\n",
      "2005017S09061 cannot retrieve model data\n",
      "2005026S20040 cannot retrieve model data\n",
      "2005063S12141 (207,) (207,)\n",
      "2005138N10265 cannot retrieve model data\n",
      "2005160N17276 (1107,) (1107,)\n",
      "2005185N15261 cannot retrieve model data\n",
      "2005185N18273 (341,) (341,)\n",
      "2005186N12299 (3864,) (3864,)\n",
      "2005192N11318 (900,) (900,)\n",
      "2005192N22155 (184,) (184,)\n",
      "2005202N13138 cannot retrieve model data\n",
      "2005205N19267 (299,) (299,)\n",
      "2005210N19115 (1342,) (1342,)\n",
      "2005211N09141 (364,) (364,)\n",
      "2005222N14131 cannot retrieve model data\n",
      "2005230N20144 (510,) (510,)\n",
      "2005235N19266 (306,) (306,)\n",
      "2005236N23285 (1880,) (1880,)\n",
      "2005237N14148 (230,) (230,)\n",
      "2005241N15155 (475,) (475,)\n",
      "2005248N08142 (380,) (380,)\n",
      "2005249N26281 cannot retrieve model data\n",
      "2005257N15120 cannot retrieve model data\n",
      "2005261N21290 (319,) (319,)\n",
      "2005262N13127 (777,) (777,)\n",
      "2005268N19146 (171,) (171,)\n",
      "2005271N17255 cannot retrieve model data\n",
      "2005275N19274 (2760,) (2760,)\n",
      "2005278N27280 (391,) (391,)\n",
      "2005289N18282 (1590,) (1590,)\n",
      "2005296N16293 (594,) (594,)\n",
      "2005300N10279 (455,) (455,)\n",
      "2005301N13117 (460,) (460,)\n",
      "2005311N08140 (476,) (476,)\n",
      "2005316N05134 (408,) (408,)\n",
      "2005318N13298 (156,) (156,)\n",
      "2005338N09093 (272,) (272,)\n",
      "2006017S15126 cannot retrieve model data\n",
      "2006074S13158 (1820,) (1820,)\n",
      "2006081S14129 (345,) (345,)\n",
      "2006106S10153 (374,) (374,)\n",
      "2006114N08090 cannot retrieve model data\n",
      "2006128N09138 (2635,) (2635,)\n",
      "2006161N20275 (1368,) (1368,)\n",
      "2006180N06140 (480,) (480,)\n",
      "2006188N10143 (198,) (198,)\n",
      "2006198N08152 (348,) (348,)\n",
      "2006200N32287 cannot retrieve model data\n",
      "2006209N13130 (260,) (260,)\n",
      "2006213N16302 cannot retrieve model data\n",
      "2006216N07151 (247,) (247,)\n",
      "2006216N21152 cannot retrieve model data\n",
      "2006217N20134 (209,) (209,)\n",
      "2006224N21141 (561,) (561,)\n",
      "2006237N13298 (2585,) (2585,)\n",
      "2006240N12265 (630,) (630,)\n",
      "2006257N16259 (270,) (270,)\n",
      "2006268N12129 (918,) (918,)\n",
      "2006294N16254 cannot retrieve model data\n",
      "2006298N12143 (782,) (782,)\n",
      "2006311N16143 (532,) (532,)\n",
      "2006329N06150 (2312,) (2312,)\n",
      "2006340N08142 (610,) (610,)\n",
      "2006350S07071 (648,) (648,)\n",
      "2007032S11137 (572,) (572,)\n",
      "2007043S11071 (899,) (899,)\n",
      "2007062S14119 (357,) (357,)\n",
      "2007066S12066 (1300,) (1300,)\n",
      "2007082S16125 cannot retrieve model data\n",
      "2007085S11085 (520,) (520,)\n",
      "2007133N15091 (930,) (930,)\n",
      "2007150N14263 (272,) (272,)\n",
      "2007151N14072 cannot retrieve model data\n",
      "2007151N18273 (500,) (500,)\n",
      "2007188N04148 (310,) (310,)\n",
      "2007208N20155 (525,) (525,)\n",
      "2007216N18138 cannot retrieve model data\n",
      "2007223N19136 (360,) (360,)\n",
      "2007225N12331 (1248,) (1248,)\n",
      "2007240N17153 (1518,) (1518,)\n",
      "2007242N13264 (308,) (308,)\n",
      "2007244N12303 (375,) (375,)\n",
      "2007251N30288 (165,) (165,)\n",
      "2007254N18140 (408,) (408,)\n",
      "2007255N27265 (272,) (272,)\n",
      "2007257N16134 (888,) (888,)\n",
      "2007265N20122 (880,) (880,)\n",
      "2007269N22265 (132,) (132,)\n",
      "2007272N17125 (442,) (442,)\n",
      "2007274N18131 (462,) (462,)\n",
      "2007297N18300 (1078,) (1078,)\n",
      "2007306N18133 (490,) (490,)\n",
      "2007314N10093 (377,) (377,)\n",
      "2007323N09128 (1410,) (1410,)\n",
      "2007324N10140 (735,) (735,)\n",
      "2007345N18298 (1470,) (1470,)\n",
      "2007365S15134 (2170,) (2170,)\n",
      "2008023S10050 (1995,) (1995,)\n",
      "2008037S10055 (1947,) (1947,)\n",
      "2008062S10064 (722,) (722,)\n",
      "2008104N08128 (368,) (368,)\n",
      "2008117N11090 (1700,) (1700,)\n",
      "2008135N12116 (665,) (665,)\n",
      "2008150N10274 (273,) (273,)\n",
      "2008169N08135 (4158,) (4158,)\n",
      "2008193N20126 (900,) (900,)\n",
      "2008201N32280 cannot retrieve model data\n",
      "2008203N18276 (1485,) (1485,)\n",
      "2008206N22133 (540,) (540,)\n",
      "2008217N19120 (312,) (312,)\n",
      "2008217N28273 (8,) (8,)\n",
      "2008229N13147 cannot retrieve model data\n",
      "2008229N18293 (19092,) (19092,)\n",
      "2008237N18253 (162,) (162,)\n",
      "2008238N13293 (15470,) (15470,)\n",
      "2008241N19303 (4088,) (4088,)\n",
      "2008245N17323 (4623,) (4623,)\n",
      "2008251N15256 (220,) (220,)\n",
      "2008252N16128 (261,) (261,)\n",
      "2008262N16142 (736,) (736,)\n",
      "2008268N12140 (279,) (279,)\n",
      "2008269N21290 (520,) (520,)\n",
      "2008272N15113 cannot retrieve model data\n",
      "2008278N13261 (864,) (864,)\n",
      "2008280N18268 (420,) (420,)\n",
      "2008283N12271 cannot retrieve model data\n",
      "2008298N16085 cannot retrieve model data\n",
      "2008311N14278 (363,) (363,)\n",
      "2008320N08122 (490,) (490,)\n",
      "2008329N09082 (1170,) (1170,)\n",
      "2008351S11128 (2079,) (2079,)\n",
      "2009011S16140 (350,) (350,)\n",
      "2009017S15059 cannot retrieve model data\n",
      "2009017S20043 cannot retrieve model data\n",
      "2009031S16147 (868,) (868,)\n",
      "2009082S16039 cannot retrieve model data\n",
      "2009093S12062 (1224,) (1224,)\n",
      "2009104N13088 cannot retrieve model data\n",
      "2009121N13124 (456,) (456,)\n",
      "2009123N10111 (651,) (651,)\n",
      "2009143N17089 (510,) (510,)\n",
      "2009164N10131 (612,) (612,)\n",
      "2009171N15264 cannot retrieve model data\n",
      "2009173N10132 (756,) (756,)\n",
      "2009196N14129 (242,) (242,)\n",
      "2009213N16130 cannot retrieve model data\n",
      "2009215N20133 (616,) (616,)\n",
      "2009227N12328 cannot retrieve model data\n",
      "2009228N27277 (40,) (40,)\n",
      "2009238N20151 cannot retrieve model data\n",
      "2009239N12270 (176,) (176,)\n",
      "2009254N14130 (300,) (300,)\n",
      "2009268N14128 (638,) (638,)\n",
      "2009270N10148 (1566,) (1566,)\n",
      "2009272N07164 (825,) (825,)\n",
      "2009282N16252 cannot retrieve model data\n",
      "2009288N07267 (160,) (160,)\n",
      "2009299N12153 (1620,) (1620,)\n",
      "2009308N11279 (682,) (682,)\n",
      "2009313N11072 (432,) (432,)\n",
      "2010019S11123 (952,) (952,)\n",
      "2010022S12160 (2624,) (2624,)\n",
      "2010032S20042 (368,) (368,)\n",
      "2010066S19050 (256,) (256,)\n",
      "2010070S15168 (884,) (884,)\n",
      "2010084S09138 (525,) (525,)\n",
      "2010137N10090 (560,) (560,)\n",
      "2010143S20035 cannot retrieve model data\n",
      "2010149N13266 (437,) (437,)\n",
      "2010151N14065 (714,) (714,)\n",
      "2010176N16278 (391,) (391,)\n",
      "2010191N12138 (1456,) (1456,)\n",
      "2010198N15123 (544,) (544,)\n",
      "2010203N22286 (176,) (176,)\n",
      "2010218N20127 (608,) (608,)\n",
      "2010233N17119 (459,) (459,)\n",
      "2010236N12341 (782,) (782,)\n",
      "2010239N15118 (171,) (171,)\n",
      "2010240N15142 (570,) (570,)\n",
      "2010243N12146 cannot retrieve model data\n",
      "2010247N15266 (1376,) (1376,)\n",
      "2010249N24125 (160,) (160,)\n",
      "2010256N17137 (495,) (495,)\n",
      "2010257N16282 (990,) (990,)\n"
     ]
    },
    {
     "name": "stdout",
     "output_type": "stream",
     "text": [
      "2010267N14285 (2325,) (2325,)\n",
      "2010271N19276 (390,) (390,)\n",
      "2010284N14278 (888,) (888,)\n",
      "2010285N13145 (1353,) (1353,)\n",
      "2010293N17093 cannot retrieve model data\n",
      "2010293N17277 (726,) (726,)\n",
      "2010305N06105 (375,) (375,)\n",
      "2010358S13152 (1085,) (1085,)\n",
      "2011021S16129 (1225,) (1225,)\n",
      "2011023S16147 cannot retrieve model data\n",
      "2011028S13180 (1938,) (1938,)\n",
      "2011038S11062 (2640,) (2640,)\n",
      "2011103S12126 (406,) (406,)\n",
      "2011126N11129 (1634,) (1634,)\n",
      "2011140N08142 (442,) (442,)\n",
      "2011167N08129 (1127,) (1127,)\n",
      "2011170N12263 cannot retrieve model data\n",
      "2011179N20267 (552,) (552,)\n",
      "2011192N18158 (814,) (814,)\n",
      "2011205N12130 (2184,) (2184,)\n",
      "2011208N22274 (143,) (143,)\n",
      "2011214N15299 (189,) (189,)\n",
      "2011231N15278 (2640,) (2640,)\n",
      "2011233N12129 (1408,) (1408,)\n",
      "2011233N15301 (5780,) (5780,)\n",
      "2011236N15143 (700,) (700,)\n",
      "2011245N27269 (360,) (360,)\n",
      "2011250N12324 cannot retrieve model data\n",
      "2011250N20266 (240,) (240,)\n",
      "2011253N20145 (1176,) (1176,)\n",
      "2011266N13139 (2639,) (2639,)\n",
      "2011270N18139 (2584,) (2584,)\n",
      "2011279N10257 (117,) (117,)\n",
      "2011295N13279 (276,) (276,)\n",
      "2011302N13062 (630,) (630,)\n",
      "2011346N03156 (525,) (525,)\n",
      "2011358S11132 (500,) (500,)\n",
      "2011360N09088 (322,) (322,)\n",
      "2012006S15043 cannot retrieve model data\n",
      "2012009S12121 (575,) (575,)\n",
      "2012010S24049 cannot retrieve model data\n",
      "2012018S16041 cannot retrieve model data\n",
      "2012056S13057 (1932,) (1932,)\n",
      "2012070S17112 (690,) (690,)\n",
      "2012142N09262 cannot retrieve model data\n",
      "2012147N30284 (408,) (408,)\n",
      "2012162N06150 (2257,) (2257,)\n",
      "2012166N09269 (675,) (675,)\n",
      "2012168N19112 cannot retrieve model data\n",
      "2012176N26272 (410,) (410,)\n",
      "2012177N11135 (247,) (247,)\n",
      "2012196N19144 (805,) (805,)\n",
      "2012201N15129 (989,) (989,)\n",
      "2012209N11131 (312,) (312,)\n",
      "2012209N25149 (360,) (360,)\n",
      "2012215N12313 (1311,) (1311,)\n",
      "2012215N23146 (1012,) (1012,)\n",
      "2012223N14317 (4176,) (4176,)\n",
      "2012225N16133 (1909,) (1909,)\n",
      "2012230N21126 (1034,) (1034,)\n",
      "2012234N16315 (4154,) (4154,)\n",
      "2012254N09135 (1715,) (1715,)\n",
      "2012263N15141 (2623,) (2623,)\n",
      "2012272N22251 (289,) (289,)\n",
      "2012288N14248 (180,) (180,)\n",
      "2012296N06135 (4165,) (4165,)\n",
      "2012296N14283 (1892,) (1892,)\n",
      "2012301N11087 (306,) (306,)\n",
      "2013018S14138 (1368,) (1368,)\n",
      "2013020S17124 (1254,) (1254,)\n",
      "2013046S20042 cannot retrieve model data\n",
      "2013052S13126 (630,) (630,)\n",
      "2013117S10155 cannot retrieve model data\n",
      "2013130N04093 (448,) (448,)\n",
      "2013149N14264 (399,) (399,)\n",
      "2013157N25273 (2214,) (2214,)\n",
      "2013167N12279 (989,) (989,)\n",
      "2013171N15117 (1702,) (1702,)\n",
      "2013178N09133 (2133,) (2133,)\n",
      "2013187N20156 (540,) (540,)\n",
      "2013196N14128 (253,) (253,)\n",
      "2013210N13122 (1386,) (1386,)\n",
      "2013217N11118 (744,) (744,)\n",
      "2013220N12137 (2752,) (2752,)\n",
      "2013228N23124 (611,) (611,)\n",
      "2013237N11129 cannot retrieve model data\n",
      "2013238N19266 (260,) (260,)\n",
      "2013241N19254 cannot retrieve model data\n",
      "2013243N26122 (560,) (560,)\n",
      "2013248N16294 cannot retrieve model data\n",
      "2013248N17255 cannot retrieve model data\n",
      "2013255N19268 (162,) (162,)\n",
      "2013255N20148 (726,) (726,)\n",
      "2013257N15259 (2021,) (2021,)\n",
      "2013259N17132 (585,) (585,)\n",
      "2013269N15118 (672,) (672,)\n",
      "2013272N10135 (437,) (437,)\n",
      "2013276N21273 cannot retrieve model data\n",
      "2013281N12098 (1120,) (1120,)\n",
      "2013282N14132 (1748,) (1748,)\n",
      "2013286N15251 (66,) (66,)\n",
      "2013301N13142 (918,) (918,)\n",
      "2013305N16252 (95,) (95,)\n",
      "2013306N07162 (1800,) (1800,)\n",
      "2013322N13090 (638,) (638,)\n",
      "2013324N07103 (525,) (525,)\n",
      "2013324S11113 (2790,) (2790,)\n",
      "2013360S12124 (315,) (315,)\n",
      "2014015S16043 (676,) (676,)\n",
      "2014024S13160 (1190,) (1190,)\n",
      "2014066S09138 cannot retrieve model data\n",
      "2014086S10041 cannot retrieve model data\n",
      "2014092S11159 (957,) (957,)\n",
      "2014153N12267 cannot retrieve model data\n",
      "2014164N19116 (396,) (396,)\n",
      "2014180N32282 (2193,) (2193,)\n",
      "2014184N08147 (456,) (456,)\n",
      "2014190N08154 (5136,) (5136,)\n",
      "2014197N10137 (768,) (768,)\n",
      "2014209N12152 (792,) (792,)\n",
      "2014209N16134 cannot retrieve model data\n",
      "2014210N10323 (504,) (504,)\n",
      "2014212N11242 cannot retrieve model data\n",
      "2014245N19268 (294,) (294,)\n",
      "2014253N13260 (704,) (704,)\n",
      "2014254N10142 (3164,) (3164,)\n",
      "2014260N13135 (2135,) (2135,)\n",
      "2014271N10160 (550,) (550,)\n",
      "2014275N06166 (2754,) (2754,)\n",
      "2014279N11096 (1107,) (1107,)\n",
      "2014290N14261 (200,) (200,)\n",
      "2014329N08131 (660,) (660,)\n",
      "2014334N02156 (1475,) (1475,)\n",
      "2015012N09146 (1075,) (1075,)\n",
      "2015013S18038 (950,) (950,)\n",
      "2015036S20038 cannot retrieve model data\n",
      "2015045S12145 (1080,) (1080,)\n",
      "2015047S15152 (1160,) (1160,)\n",
      "2015068S12151 (3100,) (3100,)\n",
      "2015085N06162 (650,) (650,)\n",
      "2015122N07144 cannot retrieve model data\n",
      "2015126N27281 (1225,) (1225,)\n",
      "2015152N12258 (195,) (195,)\n",
      "2015162N12262 (243,) (243,)\n",
      "2015167N27266 (2132,) (2132,)\n",
      "2015171N15112 (1288,) (1288,)\n",
      "2015180N09160 cannot retrieve model data\n",
      "2015183N13130 (2449,) (2449,)\n",
      "2015184N08172 (756,) (756,)\n",
      "2015188N08194 (546,) (546,)\n",
      "2015207N22091 (352,) (352,)\n",
      "2015211N13162 (760,) (760,)\n",
      "2015226N12151 cannot retrieve model data\n",
      "2015237N14315 cannot retrieve model data\n",
      "2015249N18142 (400,) (400,)\n",
      "2015263N14148 (966,) (966,)\n",
      "2015273N12130 (3526,) (3526,)\n",
      "2015285N14151 (570,) (570,)\n",
      "2015293N13266 (1131,) (1131,)\n",
      "2015301N11065 (560,) (560,)\n",
      "2015309N14067 (300,) (300,)\n",
      "2015328N11260 cannot retrieve model data\n",
      "2015344N07145 (900,) (900,)\n",
      "2016027S13119 (910,) (910,)\n",
      "2016138N10081 (576,) (576,)\n",
      "2016148N27288 (228,) (228,)\n",
      "2016158N22272 (140,) (140,)\n",
      "2016171N19268 (240,) (240,)\n",
      "2016185N08145 (512,) (512,)\n",
      "2016195S06076 cannot retrieve model data\n",
      "2016207N17116 (1550,) (1550,)\n",
      "2016212N12127 (1113,) (1113,)\n",
      "2016215N16283 (1134,) (1134,)\n",
      "2016220N18258 (663,) (663,)\n",
      "2016225N16138 (784,) (784,)\n",
      "2016228N22117 (1148,) (1148,)\n",
      "2016230N15138 (3127,) (3127,)\n",
      "2016230N25160 cannot retrieve model data\n",
      "2016242N24279 (5822,) (5822,)\n",
      "2016244N21123 (528,) (528,)\n",
      "2016248N15255 (210,) (210,)\n",
      "2016253N13144 (551,) (551,)\n",
      "2016256N12146 (558,) (558,)\n",
      "2016257N27280 (2244,) (2244,)\n",
      "2016266N11144 (645,) (645,)\n",
      "2016269N15165 cannot retrieve model data\n",
      "2016273N13300 (1558,) (1558,)\n",
      "2016279N19130 (105,) (105,)\n",
      "2016287N13130 (3496,) (3496,)\n",
      "2016288N07145 (1944,) (1944,)\n",
      "2016323N13279 (5,) (5,)\n",
      "2016328N09130 (660,) (660,)\n",
      "2016335N07088 (143,) (143,)\n",
      "2016341N08092 (880,) (880,)\n",
      "2016355N07146 (532,) (532,)\n",
      "2017043S19040 (400,) (400,)\n",
      "2017046S17137 (1365,) (1365,)\n",
      "2017060S09139 (1584,) (1584,)\n",
      "2017061S11063 (1508,) (1508,)\n",
      "2017082S14152 (980,) (980,)\n",
      "2017104N08085 (315,) (315,)\n",
      "2017147N14087 (819,) (819,)\n",
      "2017152N14262 (364,) (364,)\n",
      "2017161N13119 (552,) (552,)\n",
      "2017163N14265 (170,) (170,)\n",
      "2017170N08310 (644,) (644,)\n",
      "2017171N24271 (1770,) (1770,)\n",
      "2017182N15132 (1440,) (1440,)\n",
      "2017195N16114 (779,) (779,)\n",
      "2017200N26162 (875,) (875,)\n",
      "2017202N16116 (559,) (559,)\n",
      "2017206N13129 (602,) (602,)\n",
      "2017209N19118 (432,) (432,)\n",
      "2017212N28275 (546,) (546,)\n",
      "2017219N16279 (2130,) (2130,)\n",
      "2017228N14314 (7704,) (7704,)\n",
      "2017232N19130 (1430,) (1430,)\n",
      "2017236N15129 (1827,) (1827,)\n",
      "2017242N16333 (3212,) (3212,)\n",
      "2017242N17253 (612,) (612,)\n",
      "2017242N19122 (100,) (100,)\n",
      "2017249N22263 (270,) (270,)\n",
      "2017252N14147 (2226,) (2226,)\n",
      "2017253N14130 (1008,) (1008,)\n",
      "2017257N16258 (114,) (114,)\n",
      "2017260N12310 (609,) (609,)\n",
      "2017265N17257 cannot retrieve model data\n",
      "2017277N11279 (25380,) (25380,)\n",
      "2017284N15134 (2665,) (2665,)\n",
      "2017288N09138 (782,) (782,)\n",
      "2017304N11127 (980,) (980,)\n",
      "2017347N11129 (1562,) (1562,)\n",
      "2017354N08134 (760,) (760,)\n",
      "2017360S15124 (1170,) (1170,)\n",
      "2018044S10133 (2700,) (2700,)\n",
      "2018073S09129 (2923,) (2923,)\n",
      "2018073S12057 (225,) (225,)\n",
      "2018079S08137 (638,) (638,)\n",
      "2018146N19273 (517,) (517,)\n",
      "2018153N12113 (992,) (992,)\n",
      "2018161N12260 (88,) (88,)\n",
      "2018165N22117 (8,) (8,)\n",
      "2018166N15260 cannot retrieve model data\n",
      "2018179N19134 cannot retrieve model data\n",
      "2018184N10147 (1083,) (1083,)\n",
      "2018186N10325 cannot retrieve model data\n",
      "2018199N18128 (1400,) (1400,)\n",
      "2018204N15137 (2544,) (2544,)\n",
      "2018214N19153 cannot retrieve model data\n",
      "2018218N18134 (1938,) (1938,)\n",
      "2018221N17112 (1755,) (1755,)\n",
      "2018222N16147 (624,) (624,)\n",
      "2018226N23128 (1118,) (1118,)\n",
      "2018227N11145 (1189,) (1189,)\n",
      "2018229N11160 (1508,) (1508,)\n",
      "2018239N11161 (442,) (442,)\n",
      "2018242N13343 (5586,) (5586,)\n",
      "2018244N14252 cannot retrieve model data\n",
      "2018246N22283 (570,) (570,)\n",
      "2018250N12170 (4508,) (4508,)\n",
      "2018251N20122 (125,) (125,)\n",
      "2018263N12146 (3139,) (3139,)\n",
      "2018268N14253 (238,) (238,)\n",
      "2018271N06154 (726,) (726,)\n",
      "2018273N12259 (150,) (150,)\n",
      "2018279N11069 (338,) (338,)\n",
      "2018280N18273 (2295,) (2295,)\n",
      "2018281N14088 (924,) (924,)\n",
      "2018288N17257 cannot retrieve model data\n",
      "2018292N13269 (70,) (70,)\n",
      "2018292N14261 (196,) (196,)\n",
      "2018294N08161 (714,) (714,)\n",
      "2018311N07179 (288,) (288,)\n",
      "2018314N12093 (476,) (476,)\n",
      "2018334S08156 (1980,) (1980,)\n",
      "2018347N07089 (374,) (374,)\n",
      "2018362S13147 (770,) (770,)\n",
      "2019018S24033 cannot retrieve model data\n"
     ]
    },
    {
     "name": "stdout",
     "output_type": "stream",
     "text": [
      "2019074S08151 (4340,) (4340,)\n",
      "2019077S13123 cannot retrieve model data\n",
      "2019112S10053 (640,) (640,)\n",
      "2019116N02090 (940,) (940,)\n",
      "2019192N29274 (1440,) (1440,)\n",
      "2019195N13136 (960,) (960,)\n",
      "2019210N16117 (1254,) (1254,)\n",
      "2019213N17155 (1353,) (1353,)\n",
      "2019214N15134 (1260,) (1260,)\n",
      "2019216N16147 (640,) (640,)\n",
      "2019231N13135 (442,) (442,)\n",
      "2019236N10314 (912,) (912,)\n",
      "2019242N14180 (589,) (589,)\n",
      "2019243N06136 (1024,) (1024,)\n",
      "2019246N24266 (357,) (357,)\n",
      "2019260N12262 (1632,) (1632,)\n",
      "2019261N28264 (81,) (81,)\n",
      "2019265N12301 cannot retrieve model data\n",
      "2019268N10155 (620,) (620,)\n",
      "2019272N14261 (3248,) (3248,)\n",
      "2019278N16165 (714,) (714,)\n",
      "2019291N22264 (1575,) (1575,)\n",
      "2019293N17257 (247,) (247,)\n",
      "2019308N13114 (578,) (578,)\n",
      "2019314N14136 (1204,) (1204,)\n",
      "2019329N09160 (561,) (561,)\n",
      "2019336S06055 (1332,) (1332,)\n",
      "2019354N05151 cannot retrieve model data\n",
      "2020004S14122 (2256,) (2256,)\n",
      "2020034S13063 (396,) (396,)\n",
      "2020034S17129 (1610,) (1610,)\n",
      "2020052S13140 (4104,) (4104,)\n",
      "2020072S14054 cannot retrieve model data\n"
     ]
    }
   ],
   "source": [
    "model = []\n",
    "error = []\n",
    "for storm_id, clipped_error in errors_by_storm.items():\n",
    "    holland = holland_by_storm[storm_id]\n",
    "\n",
    "    try:\n",
    "        model_arr = holland.sel(\n",
    "            dict(\n",
    "                longitude=clipped_error.longitude,\n",
    "                latitude=clipped_error.latitude\n",
    "            ),\n",
    "            method=\"nearest\",\n",
    "            tolerance=1E-3\n",
    "        ).values.ravel()\n",
    "        error_arr = clipped_error.error.values.ravel()\n",
    "        print(storm_id, model_arr.shape, error_arr.shape)\n",
    "    except ValueError:\n",
    "        print(storm_id, \"cannot retrieve model data\")\n",
    "\n",
    "    if len(model_arr) == len(error_arr) and len(model_arr) != 0:\n",
    "        model.append(model_arr)\n",
    "        error.append(error_arr)\n",
    "        \n",
    "pooled_model = np.concatenate(model)\n",
    "pooled_error = np.concatenate(error)"
   ]
  },
  {
   "cell_type": "code",
   "execution_count": 15,
   "id": "ace2e35b",
   "metadata": {},
   "outputs": [
    {
     "data": {
      "text/plain": [
       "Text(0.5, 0.98, 'Wind model comparison (error within 200km of eye over land)\\n$n_{pixels}=442728, \\\\ \\\\mu=0.35 $ms$^{-1}, \\\\ q_{50}=0.22$ms$^{-1}$')"
      ]
     },
     "execution_count": 15,
     "metadata": {},
     "output_type": "execute_result"
    },
    {
     "data": {
      "image/png": "[encoded data removed]",
      "text/plain": [
       "<Figure size 640x480 with 2 Axes>"
      ]
     },
     "metadata": {},
     "output_type": "display_data"
    }
   ],
   "source": [
    "vmin = 10\n",
    "vmax = 90\n",
    "\n",
    "df = pd.DataFrame({\"error\": pooled_error, \"model\": pooled_model})\n",
    "df = df[df.model > vmin]\n",
    "\n",
    "f, (ax_scatter, ax_hist) = plt.subplots(2, 1, sharex=True, gridspec_kw={'height_ratios': [3, 1]})\n",
    "\n",
    "stride = 1\n",
    "ax_scatter.scatter(\n",
    "    df.error[::stride],\n",
    "    df.model[::stride],\n",
    "    s=0.05,\n",
    "    c=\"k\",\n",
    "    alpha=0.2\n",
    ")\n",
    "ax_scatter.set_ylabel(\"Model wind speed [ms$^{-1}$]\")\n",
    "ax_scatter.grid(alpha=0.3)\n",
    "x_min = -30\n",
    "x_max = 30\n",
    "ax_scatter.set_xlim(x_min, x_max)\n",
    "ax_scatter.axvline(0, color=\"k\", ls=\"--\", alpha=0.8)\n",
    "\n",
    "frequency, bin_edges, patches = ax_hist.hist(\n",
    "    df.error,\n",
    "    bins=np.linspace(-50, 50, 150),\n",
    "    density=True,\n",
    "    alpha=1,\n",
    "    color=\"black\"\n",
    ")\n",
    "ax_hist.axvline(0, color=\"k\", ls=\"--\", alpha=0.8)\n",
    "ax_hist.set_xlim(x_min, x_max)\n",
    "ax_hist.set_ylabel(\"PDF\", labelpad=20)\n",
    "ax_hist.set_xlabel(\"Thomas et al. 2023 $-$ Done et al. 2020 [ms$^{-1}$]\")\n",
    "ax_hist.spines['top'].set_visible(False)\n",
    "ax_hist.spines['right'].set_visible(False)\n",
    "ax_hist.spines['left'].set_visible(False)\n",
    "ax_hist.get_yaxis().set_ticks([])\n",
    "\n",
    "n = len(df)\n",
    "mean = df.error.mean()\n",
    "median = df.error.median()\n",
    "\n",
    "f.suptitle(\n",
    "    f\"Wind model comparison (error within {buffer_km}km of eye over land)\\n\"\n",
    "    f\"$n_{{pixels}}={n}, \\ \\mu={mean:.2f} $ms$^{{-1}}, \\ q_{{50}}={median:.2f}$ms$^{{-1}}$\"\n",
    ")"
   ]
  },
  {
   "cell_type": "code",
   "execution_count": 18,
   "id": "0bd3933d",
   "metadata": {},
   "outputs": [
    {
     "data": {
      "image/png": "[encoded data removed]",
      "text/plain": [
       "<Figure size 640x480 with 2 Axes>"
      ]
     },
     "metadata": {},
     "output_type": "display_data"
    }
   ],
   "source": [
    "vmin = 10\n",
    "vmax = 80\n",
    "\n",
    "df = pd.DataFrame({\"error\": pooled_error, \"model\": pooled_model})\n",
    "df = df[df.model > vmin]\n",
    "\n",
    "f, (ax_box, ax_hist) = plt.subplots(2, 1, sharex=True, gridspec_kw={'height_ratios': [3, 1]})\n",
    "\n",
    "ax_box.set_ylabel(\"Model wind speed [ms$^{-1}$]\")\n",
    "ax_box.grid(alpha=0.3)\n",
    "xticks = np.linspace(-30, 30, 13) \n",
    "ax_box.set_xticks(xticks, labels=[f\"{int(x):d}\" for x in xticks])\n",
    "\n",
    "step = 10\n",
    "speed_bands = np.linspace(vmin, vmax, int((vmax - vmin) / step + 1))\n",
    "errors_by_band = []\n",
    "for i, lower_bound in enumerate(speed_bands[:-1]):\n",
    "    upper_bound = speed_bands[i + 1]\n",
    "    mid_point = (lower_bound + upper_bound) / 2\n",
    "    span = upper_bound - lower_bound\n",
    "    band_errors = df.loc[df.model.between(lower_bound, upper_bound), \"error\"]\n",
    "    # boxplot routine can't handle NaN values, mask them out\n",
    "    errors_by_band.append(band_errors[~np.isnan(band_errors)])\n",
    "    \n",
    "ax_box.boxplot(\n",
    "    errors_by_band,\n",
    "    vert=False,\n",
    "    positions=speed_bands[:-1] + step / 2,\n",
    "    widths=[step * 0.8] * len(errors_by_band),\n",
    "    whis=[5, 95],  # percentiles\n",
    "    flierprops=dict(alpha=0.1)\n",
    ")\n",
    "yticks = [10, 20, 30, 40, 50, 60, 70, 80]\n",
    "ax_box.set_yticks(yticks, labels=yticks)\n",
    "\n",
    "n = len(df)\n",
    "mean = df.error.mean()\n",
    "\n",
    "frequency, bin_edges, patches = ax_hist.hist(\n",
    "    df.error,\n",
    "    bins=np.linspace(-50, 50, 150),\n",
    "    density=True,\n",
    "    alpha=0.8,\n",
    "    color=\"black\"\n",
    ")\n",
    "ax_hist.set_xlim(x_min, x_max)\n",
    "ax_hist.set_ylabel(\"PDF\", labelpad=20)\n",
    "ax_hist.set_xlabel(\"Thomas et al. 2023 $-$ Done et al. 2020 [ms$^{-1}$]\")\n",
    "ax_hist.spines['top'].set_visible(False)\n",
    "ax_hist.spines['right'].set_visible(False)\n",
    "ax_hist.spines['left'].set_visible(False)\n",
    "ax_hist.get_yaxis().set_ticks([])\n",
    "ax_hist.axvline(mean, color=\"orange\", lw=1.5)\n",
    "\n",
    "f.suptitle(\n",
    "    f\"Wind model errors within {buffer_km}km of eye\\n\"\n",
    "    f\"$n_{{pixels}}={n}, \\ \\mu_{{error}}={mean:.2f} $ms$^{{-1}}$\"\n",
    ")\n",
    "\n",
    "f.savefig(\n",
    "    os.path.join(\n",
    "        \"/home/fred/projects/open_gira/open-gira/validation/wind_model_comparison/\",\n",
    "        \"thomas_vs_done.png\"\n",
    "    )\n",
    ")"
   ]
  }
 ],
 "metadata": {
  "kernelspec": {
   "display_name": "Python 3 (ipykernel)",
   "language": "python",
   "name": "python3"
  },
  "language_info": {
   "codemirror_mode": {
    "name": "ipython",
    "version": 3
   },
   "file_extension": ".py",
   "mimetype": "text/x-python",
   "name": "python",
   "nbconvert_exporter": "python",
   "pygments_lexer": "ipython3",
   "version": "3.10.8"
  }
 },
 "nbformat": 4,
 "nbformat_minor": 5
}
