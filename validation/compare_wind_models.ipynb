{
 "cells": [
  {
   "cell_type": "code",
   "execution_count": 1,
   "id": "ff0b1de4",
   "metadata": {},
   "outputs": [
    {
     "data": {
      "text/plain": [
       "'\\nCompare the output of our wind model (Holland, downscaled with local surface roughness)\\nagainst the footprints of Done et al. (Willougby with numerical boundary layer simulation)\\n'"
      ]
     },
     "execution_count": 1,
     "metadata": {},
     "output_type": "execute_result"
    }
   ],
   "source": [
    "\"\"\"\n",
    "Compare the output of our wind model (Holland, downscaled with local surface roughness)\n",
    "against the footprints of Done et al. (Willougby with numerical boundary layer simulation)\n",
    "\"\"\""
   ]
  },
  {
   "cell_type": "code",
   "execution_count": 2,
   "id": "837f092b",
   "metadata": {
    "scrolled": true
   },
   "outputs": [
    {
     "name": "stderr",
     "output_type": "stream",
     "text": [
      "/tmp/ipykernel_2876257/175038480.py:3: UserWarning: Shapely 2.0 is installed, but because PyGEOS is also installed, GeoPandas will still use PyGEOS by default for now. To force to use and test Shapely 2.0, you have to set the environment variable USE_PYGEOS=0. You can do this before starting the Python process, or in your code before importing geopandas:\n",
      "\n",
      "import os\n",
      "os.environ['USE_PYGEOS'] = '0'\n",
      "import geopandas\n",
      "\n",
      "In a future release, GeoPandas will switch to using Shapely by default. If you are using PyGEOS directly (calling PyGEOS functions on geometries from GeoPandas), this will then stop working and you are encouraged to migrate from PyGEOS to Shapely 2.0 (https://shapely.readthedocs.io/en/latest/migration_pygeos.html).\n",
      "  import geopandas as gpd\n"
     ]
    }
   ],
   "source": [
    "import contextily as cx\n",
    "import pandas as pd\n",
    "import geopandas as gpd\n",
    "import xarray as xr\n",
    "import matplotlib\n",
    "import matplotlib.pyplot as plt\n",
    "import matplotlib.ticker as ticker\n",
    "from mpl_toolkits.axes_grid1 import make_axes_locatable\n",
    "import numpy as np\n",
    "import shapely\n",
    "\n",
    "import os\n",
    "from glob import glob"
   ]
  },
  {
   "cell_type": "code",
   "execution_count": 3,
   "id": "f03f2f12",
   "metadata": {},
   "outputs": [],
   "source": [
    "def grid_point_data(point_speeds: gpd.GeoDataFrame, col_name: str, agg_func_name: str, delta: float = 0.1) -> gpd.GeoDataFrame:\n",
    "    \"\"\"\n",
    "    Bin data on a regular grid. Grid will snap to integer number of `delta` from CRS reference.\n",
    "    \n",
    "    Args:\n",
    "        point_speeds: Table of data at point locations\n",
    "        col_name: Data column to rebin\n",
    "        agg_func: Name of function to apply to multiple points within a bin, e.g. max, mean\n",
    "        delta: Width and height of output raster pixels in decimal degrees\n",
    "    \"\"\"\n",
    "    \n",
    "    def n_cells(start: float, end: float, width: float) -> int:\n",
    "        return round((end - start) / width)\n",
    "\n",
    "    # create grid\n",
    "\n",
    "    # unpack and snap extrema to integer number of cells from CRS reference\n",
    "    min_x, min_y, max_x, max_y = map(lambda x: np.ceil(x / delta) * delta, point_speeds.total_bounds)\n",
    "\n",
    "    cells = []\n",
    "    for x0 in np.linspace(min_x, max_x, n_cells(min_x, max_x, delta) + 1):\n",
    "        x1 = x0 + delta\n",
    "        for y0 in np.linspace(min_y, max_y, n_cells(min_y, max_y, delta) + 1):\n",
    "            y1 = y0 + delta\n",
    "            cells.append(shapely.geometry.box(x0, y0, x1, y1))\n",
    "\n",
    "    grid = gpd.GeoDataFrame({\"geometry\": cells})\n",
    "\n",
    "    # associate points with grid\n",
    "    raster = grid.sjoin(point_speeds, how=\"inner\")\n",
    "\n",
    "    # take aggregate of arbitrary number of rows (points) grouped by cell\n",
    "    agg_func = getattr(raster.groupby(raster.index), agg_func_name)\n",
    "    aggregated = agg_func(col_name)\n",
    "    \n",
    "    # merge geometry back in, how=\"right\" for every grid cell, empty or not\n",
    "    rebinned = aggregated.merge(grid[[\"geometry\"]], left_index=True, right_index=True, how=\"right\")\n",
    "    rebinned = rebinned.drop(columns=[\"index_right\"])\n",
    "    \n",
    "    # cast to GeoDataFrame again (merge reverted to DataFrame) and return\n",
    "    return gpd.GeoDataFrame(rebinned)"
   ]
  },
  {
   "cell_type": "code",
   "execution_count": 4,
   "id": "daf9c8f8",
   "metadata": {},
   "outputs": [],
   "source": [
    "def to_xarray(cells: gpd.GeoDataFrame) -> xr.Dataset:\n",
    "    \"\"\"\n",
    "    Given table of polygon cells, export to xarray\n",
    "    \"\"\"\n",
    "    to_export = cells\n",
    "    to_export[\"longitude\"] = to_export.geometry.centroid.x\n",
    "    to_export[\"latitude\"] = to_export.geometry.centroid.y\n",
    "    to_export = to_export.drop(columns=[\"geometry\"])\n",
    "    to_export = to_export.set_index([\"longitude\", \"latitude\"])\n",
    "    return to_export.to_xarray()"
   ]
  },
  {
   "cell_type": "code",
   "execution_count": 5,
   "id": "77bc16b2",
   "metadata": {},
   "outputs": [],
   "source": [
    "def read_kw01(name_year: str, delta: float) -> gpd.GeoDataFrame:\n",
    "    \"\"\"\n",
    "    Read the KW01 data, wrangle as points in GeoDataFrame\n",
    "    \n",
    "    Args:\n",
    "        name_year: Storm identifier, e.g. IRMA_2017 or IKE_2008\n",
    "        delta: Grid resolution to return at in decimal degrees\n",
    "    \"\"\"\n",
    "    \n",
    "    data = pd.concat(\n",
    "        [\n",
    "            pd.read_csv(path, delimiter=r',\\s+')\n",
    "            for path in glob(f\"/home/fred/projects/WRN_TC_footprints/footprints/regions/*/{name_year}/*.txt\")\n",
    "        ]\n",
    "    )\n",
    "    point_speeds = gpd.GeoDataFrame(\n",
    "        {\n",
    "            \"max_wind_speed\": data[\"wind(m/s)\"],\n",
    "            \"geometry\": gpd.points_from_xy(data.lon, data.lat)\n",
    "        }\n",
    "    )\n",
    "\n",
    "    return to_xarray(grid_point_data(point_speeds, \"max_wind_speed\", \"max\", delta=delta))"
   ]
  },
  {
   "cell_type": "code",
   "execution_count": 6,
   "id": "2b78df95",
   "metadata": {},
   "outputs": [],
   "source": [
    "def fig_size(\n",
    "    min_x: float,\n",
    "    min_y: float,\n",
    "    max_x: float,\n",
    "    max_y: float,\n",
    "    max_width_in: float = 16,\n",
    "    max_height_in: float = 9\n",
    ") -> tuple[float, float]:\n",
    "    \"\"\"\n",
    "    Given bounding box, calculate size of figure in inches for equal aspect ratio.\n",
    "    \n",
    "    Returns:\n",
    "        width in inches, height in inches\n",
    "    \"\"\"\n",
    "    x_span = max_x - min_x\n",
    "    y_span = max_y - min_y\n",
    "    aspect_ratio = y_span / x_span\n",
    "    max_plot_width_in = 16\n",
    "    max_plot_height_in = 9\n",
    "\n",
    "    if max_plot_width_in * aspect_ratio < max_plot_height_in:\n",
    "        # tall\n",
    "        x_in = max_plot_width_in\n",
    "        y_in = max_plot_width_in * aspect_ratio\n",
    "\n",
    "    else:\n",
    "        # wide\n",
    "        x_in = max_plot_height_in / aspect_ratio\n",
    "        y_in = max_plot_height_in\n",
    "        \n",
    "    return x_in, y_in"
   ]
  },
  {
   "cell_type": "code",
   "execution_count": 7,
   "id": "1468f85a",
   "metadata": {},
   "outputs": [],
   "source": [
    "def name_year_from_id(tracks: gpd.GeoDataFrame, storm_id: str) -> str:\n",
    "    \"\"\"\n",
    "    Given IBTrACS storm ID, return name_year.\n",
    "    e.g. \"2017242N16333\" -> \"IRMA_2017\"\n",
    "    \"\"\"\n",
    "    storm_track = tracks[tracks.track_id==storm_id]\n",
    "    track_point = storm_track.iloc[0]\n",
    "    name = track_point[\"name\"]\n",
    "    year = track_point[\"year\"]\n",
    "    return f\"{name}_{year}\"\n",
    "\n",
    "def id_from_name_year(tracks: gpd.GeoDataFrame, name_year: str) -> str | None:\n",
    "    \"\"\"\n",
    "    Given name_year, return IBTrACS storm ID.\n",
    "    e.g. \"IRMA_2017\" -> \"2017242N16333\"\n",
    "    \"\"\"\n",
    "    try:\n",
    "        name, year = name_year.split(\"_\")\n",
    "    except ValueError:\n",
    "        print(f\"skipping {name_year}...\")\n",
    "        return None\n",
    "    track = tracks[(tracks.name==name) & (tracks.year==int(year))]\n",
    "    try:\n",
    "        storm_id, = set(track.track_id)\n",
    "    except ValueError:\n",
    "        print(f\"{name_year} is ambiguous: {set(track.track_id)}, skipping...\")\n",
    "        return None\n",
    "    return storm_id"
   ]
  },
  {
   "cell_type": "code",
   "execution_count": 8,
   "id": "55e5b6e9",
   "metadata": {},
   "outputs": [],
   "source": [
    "def map_ratio(field_ratio: xr.DataArray, storm_track: gpd.GeoDataFrame, storm_id: str, plot_dir: str):\n",
    "    \"\"\"\n",
    "    Plot a DataArray of the ratio of two wind fields.\n",
    "    Uses diverging colourmap centered around 1.\n",
    "    \"\"\"\n",
    "    \n",
    "    f, ax = plt.subplots(\n",
    "        figsize=fig_size(\n",
    "            field_ratio.longitude.min(),\n",
    "            field_ratio.latitude.min(),\n",
    "            field_ratio.longitude.max(),\n",
    "            field_ratio.latitude.max()\n",
    "        )\n",
    "    )\n",
    "\n",
    "    divider = make_axes_locatable(ax)\n",
    "    ratio_cax = divider.append_axes(\"right\", size=\"2%\", pad=0.05)\n",
    "    xr.plot.pcolormesh(\n",
    "        field_ratio,\n",
    "        x=\"longitude\",\n",
    "        y=\"latitude\",\n",
    "        cmap=\"bwr\",\n",
    "        levels=np.linspace(0, 2, 10),\n",
    "        extend=\"neither\",\n",
    "        alpha=0.5,\n",
    "        ax=ax,\n",
    "        cbar_ax=ratio_cax\n",
    "    )\n",
    "    ratio_cax.set_ylabel(r\"$\\frac{\\mathrm{Downscaled \\ Holland}}{\\mathrm{Kepert \\ Wang \\ 2001}}$\", labelpad=10)\n",
    "    ax.set_xlabel(\"Longitude\")\n",
    "    ax.set_ylabel(\"Latitude\")\n",
    "    ax.set_title(f\"{storm_id.replace('_', ', ')}\")\n",
    "    \n",
    "    min_x, max_x = ax.get_xlim()\n",
    "    min_y, max_y = ax.get_ylim()\n",
    "    \n",
    "    track_cax = divider.append_axes(\"right\", size=\"2%\", pad=1)\n",
    "    storm_track.plot(\n",
    "        ax=ax,\n",
    "        column=\"max_wind_speed_ms\",\n",
    "        cmap=\"viridis\",\n",
    "        alpha=1,\n",
    "        vmin=0,\n",
    "        vmax=80,\n",
    "        legend=True,\n",
    "        legend_kwds={\n",
    "            \"label\": \"IBTrACS maximum wind speed [ms-1]\",\n",
    "            \"cax\": track_cax\n",
    "        }\n",
    "    )\n",
    "    \n",
    "    cx.add_basemap(\n",
    "        ax,\n",
    "        crs=storm_track.crs.to_string(),\n",
    "        source=cx.providers.Stamen.TonerLite\n",
    "    )\n",
    "\n",
    "    ax.set_xlim(min_x, max_x)\n",
    "    ax.set_ylim(min_y, max_y)\n",
    "    \n",
    "    ax.xaxis.set_major_locator(ticker.MultipleLocator(5))\n",
    "    ax.xaxis.set_minor_locator(ticker.MultipleLocator(1))\n",
    "    ax.yaxis.set_major_locator(ticker.MultipleLocator(5))\n",
    "    ax.yaxis.set_minor_locator(ticker.MultipleLocator(1))\n",
    "    \n",
    "    ax.grid(alpha=0.3)\n",
    "    \n",
    "    f.savefig(os.path.join(plot_dir, f\"{storm_id}.png\"))\n",
    "    plt.close(f)\n",
    "    \n",
    "    return"
   ]
  },
  {
   "cell_type": "code",
   "execution_count": 9,
   "id": "3dbcc465",
   "metadata": {},
   "outputs": [],
   "source": [
    "def landfalling_ratio(\n",
    "    storm_track: gpd.GeoDataFrame,\n",
    "    ratio_field: xr.DataArray,\n",
    "    buffer_radius_km: float,\n",
    "    minimum_speed_ms: float,\n",
    ") -> np.ndarray:\n",
    "    \"\"\"\n",
    "    Return the ratio values from `ratio_field` within a certain distance of points in `storm_track`\n",
    "    \"\"\"\n",
    "    \n",
    "    # make a buffer around the fast, on-land track\n",
    "    fast_track = storm_track[storm_track.max_wind_speed_ms > minimum_speed_ms]\n",
    "    land_track = fast_track[fast_track.landfall == True]\n",
    "    land_track_3857 = land_track.to_crs(3857)\n",
    "    buffer = land_track_3857.buffer(buffer_radius_km * 1000).to_crs(4326)\n",
    "    land_track.loc[:, \"geometry\"] = buffer\n",
    "\n",
    "    # get the ratio field as gpd points\n",
    "    ratio_df = ratio_field.to_dataframe().reset_index()\n",
    "    ratio_gdf = gpd.GeoDataFrame(\n",
    "        {\n",
    "            \"ratio\": ratio_df.max_wind_speed,\n",
    "            \"geometry\": gpd.points_from_xy(ratio_df.longitude, ratio_df.latitude)\n",
    "        }                                \n",
    "    ).set_crs(4326)\n",
    "\n",
    "    # find the intersection\n",
    "    land_ratio_gdf = ratio_gdf.sjoin(land_track, how=\"inner\")\n",
    "    \n",
    "    return land_ratio_gdf.ratio.values"
   ]
  },
  {
   "cell_type": "code",
   "execution_count": 13,
   "id": "6f408a65",
   "metadata": {},
   "outputs": [],
   "source": [
    "def plot_ratio_distribution(\n",
    "    pooled_ratio: np.ndarray,\n",
    "    buffer_km: float,\n",
    "    minimum_speed_ms: float,\n",
    "    filepath: str\n",
    ") -> None:\n",
    "    \"\"\"\n",
    "    Plot distribution of wind speed errors w.r.t Done et al.\n",
    "    \n",
    "    pooled_ratio: 1D array of ratios to bin.\n",
    "    \"\"\"\n",
    "\n",
    "    f, ax = plt.subplots(figsize=(8, 5))\n",
    "\n",
    "    mean = np.nanmean(pooled_ratio)\n",
    "    median = np.nanmedian(pooled_ratio)\n",
    "    n = len(pooled_ratio)\n",
    "\n",
    "    ax.set_title(\n",
    "        (\n",
    "            \"Wind model validation against Done et al.\\n\"\n",
    "            f\"for pixels < {buffer_km}km from eye, with model speed > {minimum_speed_ms}ms$^{{-1}}$\\n\"\n",
    "            f\"$n_{{pixels}}={n}, \\ \\mu={mean:.3f}, \\ q_{{50}}={median:.3f}$\"\n",
    "        ),\n",
    "        pad=15\n",
    "    )\n",
    "    ax.set_xlabel(\"Downscaled Holland / Done et al.\", labelpad=10)\n",
    "    ax.set_ylabel(\"Frequency\", labelpad=10)\n",
    "\n",
    "    frequency, bin_edges, _ = ax.hist(\n",
    "        pooled_ratio,\n",
    "        bins=np.linspace(0, 3, 121),\n",
    "        color=\"g\",\n",
    "        alpha=0.5,\n",
    "        density=True,\n",
    "        label=\"PDF\"\n",
    "    )\n",
    "\n",
    "    ax.axvline(mean, color=\"r\", ls=\"--\", label=\"Mean\", alpha=0.5)\n",
    "    miny, maxy = ax.get_ylim()\n",
    "    for probability_level in [0.05, 0.1, 0.25, 0.5, 0.75, 0.9, 0.95]:\n",
    "        quantile = np.quantile(pooled_ratio, probability_level)\n",
    "        ax.axvline(quantile, color=\"pink\", ls=\"--\", alpha=0.6)\n",
    "        ax.text(\n",
    "            quantile,\n",
    "            0.07 * maxy,\n",
    "            f\"$\\mathrm{{q}}_{{{probability_level:.2f}}}$\",\n",
    "            rotation=-90,\n",
    "            ha=\"center\",\n",
    "            size=9\n",
    "        )\n",
    "\n",
    "    ax.set_xlim(0.25, 2)\n",
    "    ax.grid(alpha=0.3)\n",
    "    ax.legend()\n",
    "    plt.subplots_adjust(top=0.8, bottom=0.15)\n",
    "\n",
    "    f.savefig(filepath)\n",
    "    plt.close(f)"
   ]
  },
  {
   "cell_type": "code",
   "execution_count": 11,
   "id": "9cfebae6",
   "metadata": {},
   "outputs": [
    {
     "name": "stdout",
     "output_type": "stream",
     "text": [
      "JOYCE_2018 is ambiguous: {'2018007S13130', '2018255N37320'}, skipping...\n",
      "skipping NOT_NAMED_2013...\n",
      "skipping NOT_NAMED_2017...\n",
      "skipping NOT_NAMED_2007...\n",
      "skipping NOT_NAMED_2010...\n",
      "TOMAS_2010 is ambiguous: {'2010302N09306', '2010069S12188'}, skipping...\n",
      "skipping NOT_NAMED_2016...\n",
      "skipping NOT_NAMED_2005...\n",
      "len(holland_storms_name_year)=736\n",
      "len(wrn_storms_name_year)=743\n",
      "len(common_storms)=413\n"
     ]
    }
   ],
   "source": [
    "tracks = gpd.read_parquet(\n",
    "    \"/home/fred/projects/open_gira/open-gira/results/storm_tracks/IBTrACS/tracks.geoparquet\"\n",
    ")\n",
    "holland_storms_id = {\n",
    "    path.split(\"/\")[-1] for path in\n",
    "    glob(\"/home/fred/projects/open_gira/open-gira/results/power/by_storm_set/IBTrACS/by_storm/*\")\n",
    "}\n",
    "holland_storms_name_year = {\n",
    "    name_year_from_id(tracks, storm_id) for storm_id in\n",
    "    holland_storms_id\n",
    "}\n",
    "wrn_storms_name_year = {\n",
    "    path.split(\"/\")[-2] for path in\n",
    "    glob(f\"/home/fred/projects/WRN_TC_footprints/footprints/regions/*/*/*.txt\")\n",
    "}\n",
    "common_storms_name_year = holland_storms_name_year & wrn_storms_name_year\n",
    "common_storms_id = [\n",
    "    id_from_name_year(tracks, name_year)\n",
    "    for name_year in common_storms_name_year\n",
    "]\n",
    "common_storms = sorted(filter(bool, common_storms_id))\n",
    "\n",
    "print(f\"{len(holland_storms_name_year)=}\")\n",
    "print(f\"{len(wrn_storms_name_year)=}\")\n",
    "print(f\"{len(common_storms)=}\")"
   ]
  },
  {
   "cell_type": "code",
   "execution_count": 65,
   "id": "7d44d9a7",
   "metadata": {
    "scrolled": true
   },
   "outputs": [
    {
     "name": "stderr",
     "output_type": "stream",
     "text": [
      "/tmp/ipykernel_2876257/987684252.py:12: ParserWarning: Falling back to the 'python' engine because the 'c' engine does not support regex separators (separators > 1 char and different from '\\s+' are interpreted as regex); you can avoid this warning by specifying engine='python'.\n",
      "  pd.read_csv(path, delimiter=r',\\s+')\n"
     ]
    },
    {
     "name": "stdout",
     "output_type": "stream",
     "text": [
      "PABUK_2001\n",
      "len(ravel_ratio)=1 storms compared...\n",
      "len(pooled_ratio)=0 pixel-wise comparisons...\n",
      "no data, skipping...\n"
     ]
    },
    {
     "name": "stderr",
     "output_type": "stream",
     "text": [
      "/tmp/ipykernel_2876257/987684252.py:12: ParserWarning: Falling back to the 'python' engine because the 'c' engine does not support regex separators (separators > 1 char and different from '\\s+' are interpreted as regex); you can avoid this warning by specifying engine='python'.\n",
      "  pd.read_csv(path, delimiter=r',\\s+')\n"
     ]
    },
    {
     "name": "stdout",
     "output_type": "stream",
     "text": [
      "DANAS_2001\n",
      "len(ravel_ratio)=2 storms compared...\n",
      "len(pooled_ratio)=0 pixel-wise comparisons...\n",
      "no data, skipping...\n"
     ]
    },
    {
     "name": "stderr",
     "output_type": "stream",
     "text": [
      "/tmp/ipykernel_2876257/987684252.py:12: ParserWarning: Falling back to the 'python' engine because the 'c' engine does not support regex separators (separators > 1 char and different from '\\s+' are interpreted as regex); you can avoid this warning by specifying engine='python'.\n",
      "  pd.read_csv(path, delimiter=r',\\s+')\n",
      "/tmp/ipykernel_2876257/987684252.py:12: ParserWarning: Falling back to the 'python' engine because the 'c' engine does not support regex separators (separators > 1 char and different from '\\s+' are interpreted as regex); you can avoid this warning by specifying engine='python'.\n",
      "  pd.read_csv(path, delimiter=r',\\s+')\n"
     ]
    },
    {
     "name": "stdout",
     "output_type": "stream",
     "text": [
      "NARI_2001\n",
      "len(ravel_ratio)=3 storms compared...\n",
      "len(pooled_ratio)=0 pixel-wise comparisons...\n",
      "no data, skipping...\n"
     ]
    },
    {
     "name": "stderr",
     "output_type": "stream",
     "text": [
      "/tmp/ipykernel_2876257/987684252.py:12: ParserWarning: Falling back to the 'python' engine because the 'c' engine does not support regex separators (separators > 1 char and different from '\\s+' are interpreted as regex); you can avoid this warning by specifying engine='python'.\n",
      "  pd.read_csv(path, delimiter=r',\\s+')\n"
     ]
    },
    {
     "name": "stdout",
     "output_type": "stream",
     "text": [
      "LEKIMA_2001\n",
      "len(ravel_ratio)=4 storms compared...\n",
      "len(pooled_ratio)=0 pixel-wise comparisons...\n",
      "no data, skipping...\n"
     ]
    },
    {
     "name": "stderr",
     "output_type": "stream",
     "text": [
      "/tmp/ipykernel_2876257/987684252.py:12: ParserWarning: Falling back to the 'python' engine because the 'c' engine does not support regex separators (separators > 1 char and different from '\\s+' are interpreted as regex); you can avoid this warning by specifying engine='python'.\n",
      "  pd.read_csv(path, delimiter=r',\\s+')\n",
      "/tmp/ipykernel_2876257/987684252.py:12: ParserWarning: Falling back to the 'python' engine because the 'c' engine does not support regex separators (separators > 1 char and different from '\\s+' are interpreted as regex); you can avoid this warning by specifying engine='python'.\n",
      "  pd.read_csv(path, delimiter=r',\\s+')\n"
     ]
    },
    {
     "name": "stdout",
     "output_type": "stream",
     "text": [
      "IRIS_2001\n",
      "len(ravel_ratio)=5 storms compared...\n",
      "len(pooled_ratio)=0 pixel-wise comparisons...\n",
      "no data, skipping...\n"
     ]
    },
    {
     "name": "stderr",
     "output_type": "stream",
     "text": [
      "/tmp/ipykernel_2876257/987684252.py:12: ParserWarning: Falling back to the 'python' engine because the 'c' engine does not support regex separators (separators > 1 char and different from '\\s+' are interpreted as regex); you can avoid this warning by specifying engine='python'.\n",
      "  pd.read_csv(path, delimiter=r',\\s+')\n",
      "/tmp/ipykernel_2876257/987684252.py:12: ParserWarning: Falling back to the 'python' engine because the 'c' engine does not support regex separators (separators > 1 char and different from '\\s+' are interpreted as regex); you can avoid this warning by specifying engine='python'.\n",
      "  pd.read_csv(path, delimiter=r',\\s+')\n"
     ]
    },
    {
     "name": "stdout",
     "output_type": "stream",
     "text": [
      "LINGLING_2001\n",
      "len(ravel_ratio)=6 storms compared...\n",
      "len(pooled_ratio)=0 pixel-wise comparisons...\n",
      "no data, skipping...\n"
     ]
    },
    {
     "name": "stderr",
     "output_type": "stream",
     "text": [
      "/tmp/ipykernel_2876257/987684252.py:12: ParserWarning: Falling back to the 'python' engine because the 'c' engine does not support regex separators (separators > 1 char and different from '\\s+' are interpreted as regex); you can avoid this warning by specifying engine='python'.\n",
      "  pd.read_csv(path, delimiter=r',\\s+')\n"
     ]
    },
    {
     "name": "stdout",
     "output_type": "stream",
     "text": [
      "CHATAAN_2002\n",
      "len(ravel_ratio)=7 storms compared...\n",
      "len(pooled_ratio)=0 pixel-wise comparisons...\n",
      "no data, skipping...\n"
     ]
    },
    {
     "name": "stderr",
     "output_type": "stream",
     "text": [
      "/tmp/ipykernel_2876257/987684252.py:12: ParserWarning: Falling back to the 'python' engine because the 'c' engine does not support regex separators (separators > 1 char and different from '\\s+' are interpreted as regex); you can avoid this warning by specifying engine='python'.\n",
      "  pd.read_csv(path, delimiter=r',\\s+')\n"
     ]
    },
    {
     "name": "stdout",
     "output_type": "stream",
     "text": [
      "RAMMASUN_2002\n",
      "len(ravel_ratio)=8 storms compared...\n",
      "len(pooled_ratio)=0 pixel-wise comparisons...\n",
      "no data, skipping...\n"
     ]
    },
    {
     "name": "stderr",
     "output_type": "stream",
     "text": [
      "/tmp/ipykernel_2876257/987684252.py:12: ParserWarning: Falling back to the 'python' engine because the 'c' engine does not support regex separators (separators > 1 char and different from '\\s+' are interpreted as regex); you can avoid this warning by specifying engine='python'.\n",
      "  pd.read_csv(path, delimiter=r',\\s+')\n"
     ]
    },
    {
     "name": "stdout",
     "output_type": "stream",
     "text": [
      "HALONG_2002\n",
      "len(ravel_ratio)=9 storms compared...\n",
      "len(pooled_ratio)=0 pixel-wise comparisons...\n",
      "no data, skipping...\n"
     ]
    },
    {
     "name": "stderr",
     "output_type": "stream",
     "text": [
      "/tmp/ipykernel_2876257/987684252.py:12: ParserWarning: Falling back to the 'python' engine because the 'c' engine does not support regex separators (separators > 1 char and different from '\\s+' are interpreted as regex); you can avoid this warning by specifying engine='python'.\n",
      "  pd.read_csv(path, delimiter=r',\\s+')\n"
     ]
    },
    {
     "name": "stdout",
     "output_type": "stream",
     "text": [
      "FENGSHEN_2002\n",
      "len(ravel_ratio)=10 storms compared...\n",
      "len(pooled_ratio)=0 pixel-wise comparisons...\n",
      "no data, skipping...\n"
     ]
    },
    {
     "name": "stderr",
     "output_type": "stream",
     "text": [
      "/tmp/ipykernel_2876257/987684252.py:12: ParserWarning: Falling back to the 'python' engine because the 'c' engine does not support regex separators (separators > 1 char and different from '\\s+' are interpreted as regex); you can avoid this warning by specifying engine='python'.\n",
      "  pd.read_csv(path, delimiter=r',\\s+')\n"
     ]
    },
    {
     "name": "stdout",
     "output_type": "stream",
     "text": [
      "SINLAKU_2002\n",
      "len(ravel_ratio)=11 storms compared...\n",
      "len(pooled_ratio)=0 pixel-wise comparisons...\n",
      "no data, skipping...\n"
     ]
    },
    {
     "name": "stderr",
     "output_type": "stream",
     "text": [
      "/tmp/ipykernel_2876257/987684252.py:12: ParserWarning: Falling back to the 'python' engine because the 'c' engine does not support regex separators (separators > 1 char and different from '\\s+' are interpreted as regex); you can avoid this warning by specifying engine='python'.\n",
      "  pd.read_csv(path, delimiter=r',\\s+')\n",
      "/tmp/ipykernel_2876257/987684252.py:12: ParserWarning: Falling back to the 'python' engine because the 'c' engine does not support regex separators (separators > 1 char and different from '\\s+' are interpreted as regex); you can avoid this warning by specifying engine='python'.\n",
      "  pd.read_csv(path, delimiter=r',\\s+')\n",
      "/tmp/ipykernel_2876257/987684252.py:12: ParserWarning: Falling back to the 'python' engine because the 'c' engine does not support regex separators (separators > 1 char and different from '\\s+' are interpreted as regex); you can avoid this warning by specifying engine='python'.\n",
      "  pd.read_csv(path, delimiter=r',\\s+')\n"
     ]
    },
    {
     "name": "stdout",
     "output_type": "stream",
     "text": [
      "LILI_2002\n",
      "len(ravel_ratio)=12 storms compared...\n",
      "len(pooled_ratio)=5812 pixel-wise comparisons...\n",
      "plotting distribution...\n"
     ]
    },
    {
     "name": "stderr",
     "output_type": "stream",
     "text": [
      "/tmp/ipykernel_2876257/987684252.py:12: ParserWarning: Falling back to the 'python' engine because the 'c' engine does not support regex separators (separators > 1 char and different from '\\s+' are interpreted as regex); you can avoid this warning by specifying engine='python'.\n",
      "  pd.read_csv(path, delimiter=r',\\s+')\n"
     ]
    },
    {
     "name": "stdout",
     "output_type": "stream",
     "text": [
      "HIGOS_2002\n",
      "len(ravel_ratio)=13 storms compared...\n",
      "len(pooled_ratio)=5812 pixel-wise comparisons...\n",
      "plotting distribution...\n"
     ]
    },
    {
     "name": "stderr",
     "output_type": "stream",
     "text": [
      "/tmp/ipykernel_2876257/987684252.py:12: ParserWarning: Falling back to the 'python' engine because the 'c' engine does not support regex separators (separators > 1 char and different from '\\s+' are interpreted as regex); you can avoid this warning by specifying engine='python'.\n",
      "  pd.read_csv(path, delimiter=r',\\s+')\n",
      "/tmp/ipykernel_2876257/987684252.py:12: ParserWarning: Falling back to the 'python' engine because the 'c' engine does not support regex separators (separators > 1 char and different from '\\s+' are interpreted as regex); you can avoid this warning by specifying engine='python'.\n",
      "  pd.read_csv(path, delimiter=r',\\s+')\n"
     ]
    },
    {
     "name": "stdout",
     "output_type": "stream",
     "text": [
      "KENNA_2002\n",
      "len(ravel_ratio)=14 storms compared...\n",
      "len(pooled_ratio)=8891 pixel-wise comparisons...\n",
      "plotting distribution...\n"
     ]
    },
    {
     "name": "stderr",
     "output_type": "stream",
     "text": [
      "/tmp/ipykernel_2876257/987684252.py:12: ParserWarning: Falling back to the 'python' engine because the 'c' engine does not support regex separators (separators > 1 char and different from '\\s+' are interpreted as regex); you can avoid this warning by specifying engine='python'.\n",
      "  pd.read_csv(path, delimiter=r',\\s+')\n"
     ]
    },
    {
     "name": "stdout",
     "output_type": "stream",
     "text": [
      "INIGO_2003\n",
      "len(ravel_ratio)=15 storms compared...\n",
      "len(pooled_ratio)=8891 pixel-wise comparisons...\n",
      "plotting distribution...\n"
     ]
    },
    {
     "name": "stderr",
     "output_type": "stream",
     "text": [
      "/tmp/ipykernel_2876257/987684252.py:12: ParserWarning: Falling back to the 'python' engine because the 'c' engine does not support regex separators (separators > 1 char and different from '\\s+' are interpreted as regex); you can avoid this warning by specifying engine='python'.\n",
      "  pd.read_csv(path, delimiter=r',\\s+')\n"
     ]
    },
    {
     "name": "stdout",
     "output_type": "stream",
     "text": [
      "SOUDELOR_2003\n",
      "len(ravel_ratio)=16 storms compared...\n",
      "len(pooled_ratio)=8891 pixel-wise comparisons...\n",
      "plotting distribution...\n"
     ]
    },
    {
     "name": "stderr",
     "output_type": "stream",
     "text": [
      "/tmp/ipykernel_2876257/987684252.py:12: ParserWarning: Falling back to the 'python' engine because the 'c' engine does not support regex separators (separators > 1 char and different from '\\s+' are interpreted as regex); you can avoid this warning by specifying engine='python'.\n",
      "  pd.read_csv(path, delimiter=r',\\s+')\n",
      "/tmp/ipykernel_2876257/987684252.py:12: ParserWarning: Falling back to the 'python' engine because the 'c' engine does not support regex separators (separators > 1 char and different from '\\s+' are interpreted as regex); you can avoid this warning by specifying engine='python'.\n",
      "  pd.read_csv(path, delimiter=r',\\s+')\n"
     ]
    },
    {
     "name": "stdout",
     "output_type": "stream",
     "text": [
      "CLAUDETTE_2003\n",
      "len(ravel_ratio)=17 storms compared...\n",
      "len(pooled_ratio)=8891 pixel-wise comparisons...\n",
      "plotting distribution...\n"
     ]
    },
    {
     "name": "stderr",
     "output_type": "stream",
     "text": [
      "/tmp/ipykernel_2876257/987684252.py:12: ParserWarning: Falling back to the 'python' engine because the 'c' engine does not support regex separators (separators > 1 char and different from '\\s+' are interpreted as regex); you can avoid this warning by specifying engine='python'.\n",
      "  pd.read_csv(path, delimiter=r',\\s+')\n",
      "/tmp/ipykernel_2876257/987684252.py:12: ParserWarning: Falling back to the 'python' engine because the 'c' engine does not support regex separators (separators > 1 char and different from '\\s+' are interpreted as regex); you can avoid this warning by specifying engine='python'.\n",
      "  pd.read_csv(path, delimiter=r',\\s+')\n"
     ]
    },
    {
     "name": "stdout",
     "output_type": "stream",
     "text": [
      "IMBUDO_2003\n",
      "len(ravel_ratio)=18 storms compared...\n",
      "len(pooled_ratio)=17639 pixel-wise comparisons...\n",
      "plotting distribution...\n"
     ]
    },
    {
     "name": "stderr",
     "output_type": "stream",
     "text": [
      "/tmp/ipykernel_2876257/987684252.py:12: ParserWarning: Falling back to the 'python' engine because the 'c' engine does not support regex separators (separators > 1 char and different from '\\s+' are interpreted as regex); you can avoid this warning by specifying engine='python'.\n",
      "  pd.read_csv(path, delimiter=r',\\s+')\n"
     ]
    },
    {
     "name": "stdout",
     "output_type": "stream",
     "text": [
      "ETAU_2003\n",
      "len(ravel_ratio)=19 storms compared...\n",
      "len(pooled_ratio)=17639 pixel-wise comparisons...\n",
      "plotting distribution...\n"
     ]
    },
    {
     "name": "stderr",
     "output_type": "stream",
     "text": [
      "/tmp/ipykernel_2876257/987684252.py:12: ParserWarning: Falling back to the 'python' engine because the 'c' engine does not support regex separators (separators > 1 char and different from '\\s+' are interpreted as regex); you can avoid this warning by specifying engine='python'.\n",
      "  pd.read_csv(path, delimiter=r',\\s+')\n",
      "/tmp/ipykernel_2876257/987684252.py:12: ParserWarning: Falling back to the 'python' engine because the 'c' engine does not support regex separators (separators > 1 char and different from '\\s+' are interpreted as regex); you can avoid this warning by specifying engine='python'.\n",
      "  pd.read_csv(path, delimiter=r',\\s+')\n"
     ]
    },
    {
     "name": "stdout",
     "output_type": "stream",
     "text": [
      "KROVANH_2003\n",
      "len(ravel_ratio)=20 storms compared...\n",
      "len(pooled_ratio)=17639 pixel-wise comparisons...\n",
      "plotting distribution...\n"
     ]
    },
    {
     "name": "stderr",
     "output_type": "stream",
     "text": [
      "/tmp/ipykernel_2876257/987684252.py:12: ParserWarning: Falling back to the 'python' engine because the 'c' engine does not support regex separators (separators > 1 char and different from '\\s+' are interpreted as regex); you can avoid this warning by specifying engine='python'.\n",
      "  pd.read_csv(path, delimiter=r',\\s+')\n"
     ]
    },
    {
     "name": "stdout",
     "output_type": "stream",
     "text": [
      "IGNACIO_2003\n",
      "len(ravel_ratio)=21 storms compared...\n",
      "len(pooled_ratio)=17639 pixel-wise comparisons...\n",
      "plotting distribution...\n"
     ]
    },
    {
     "name": "stderr",
     "output_type": "stream",
     "text": [
      "/tmp/ipykernel_2876257/987684252.py:12: ParserWarning: Falling back to the 'python' engine because the 'c' engine does not support regex separators (separators > 1 char and different from '\\s+' are interpreted as regex); you can avoid this warning by specifying engine='python'.\n",
      "  pd.read_csv(path, delimiter=r',\\s+')\n",
      "/tmp/ipykernel_2876257/987684252.py:12: ParserWarning: Falling back to the 'python' engine because the 'c' engine does not support regex separators (separators > 1 char and different from '\\s+' are interpreted as regex); you can avoid this warning by specifying engine='python'.\n",
      "  pd.read_csv(path, delimiter=r',\\s+')\n"
     ]
    },
    {
     "name": "stdout",
     "output_type": "stream",
     "text": [
      "DUJUAN_2003\n",
      "len(ravel_ratio)=22 storms compared...\n",
      "len(pooled_ratio)=17639 pixel-wise comparisons...\n",
      "plotting distribution...\n"
     ]
    },
    {
     "name": "stderr",
     "output_type": "stream",
     "text": [
      "/tmp/ipykernel_2876257/987684252.py:12: ParserWarning: Falling back to the 'python' engine because the 'c' engine does not support regex separators (separators > 1 char and different from '\\s+' are interpreted as regex); you can avoid this warning by specifying engine='python'.\n",
      "  pd.read_csv(path, delimiter=r',\\s+')\n"
     ]
    },
    {
     "name": "stdout",
     "output_type": "stream",
     "text": [
      "MAEMI_2003\n",
      "len(ravel_ratio)=23 storms compared...\n",
      "len(pooled_ratio)=20088 pixel-wise comparisons...\n",
      "plotting distribution...\n"
     ]
    },
    {
     "name": "stderr",
     "output_type": "stream",
     "text": [
      "/tmp/ipykernel_2876257/987684252.py:12: ParserWarning: Falling back to the 'python' engine because the 'c' engine does not support regex separators (separators > 1 char and different from '\\s+' are interpreted as regex); you can avoid this warning by specifying engine='python'.\n",
      "  pd.read_csv(path, delimiter=r',\\s+')\n",
      "/tmp/ipykernel_2876257/987684252.py:12: ParserWarning: Falling back to the 'python' engine because the 'c' engine does not support regex separators (separators > 1 char and different from '\\s+' are interpreted as regex); you can avoid this warning by specifying engine='python'.\n",
      "  pd.read_csv(path, delimiter=r',\\s+')\n"
     ]
    },
    {
     "name": "stdout",
     "output_type": "stream",
     "text": [
      "ISABEL_2003\n",
      "len(ravel_ratio)=24 storms compared...\n",
      "len(pooled_ratio)=20088 pixel-wise comparisons...\n",
      "plotting distribution...\n"
     ]
    },
    {
     "name": "stderr",
     "output_type": "stream",
     "text": [
      "/tmp/ipykernel_2876257/987684252.py:12: ParserWarning: Falling back to the 'python' engine because the 'c' engine does not support regex separators (separators > 1 char and different from '\\s+' are interpreted as regex); you can avoid this warning by specifying engine='python'.\n",
      "  pd.read_csv(path, delimiter=r',\\s+')\n"
     ]
    },
    {
     "name": "stdout",
     "output_type": "stream",
     "text": [
      "MARTY_2003\n",
      "len(ravel_ratio)=25 storms compared...\n",
      "len(pooled_ratio)=22624 pixel-wise comparisons...\n",
      "plotting distribution...\n"
     ]
    },
    {
     "name": "stderr",
     "output_type": "stream",
     "text": [
      "/tmp/ipykernel_2876257/987684252.py:12: ParserWarning: Falling back to the 'python' engine because the 'c' engine does not support regex separators (separators > 1 char and different from '\\s+' are interpreted as regex); you can avoid this warning by specifying engine='python'.\n",
      "  pd.read_csv(path, delimiter=r',\\s+')\n"
     ]
    },
    {
     "name": "stdout",
     "output_type": "stream",
     "text": [
      "NORA_2003\n",
      "len(ravel_ratio)=26 storms compared...\n",
      "len(pooled_ratio)=22624 pixel-wise comparisons...\n",
      "plotting distribution...\n"
     ]
    },
    {
     "name": "stderr",
     "output_type": "stream",
     "text": [
      "/tmp/ipykernel_2876257/987684252.py:12: ParserWarning: Falling back to the 'python' engine because the 'c' engine does not support regex separators (separators > 1 char and different from '\\s+' are interpreted as regex); you can avoid this warning by specifying engine='python'.\n",
      "  pd.read_csv(path, delimiter=r',\\s+')\n"
     ]
    },
    {
     "name": "stdout",
     "output_type": "stream",
     "text": [
      "MONTY_2004\n",
      "len(ravel_ratio)=27 storms compared...\n",
      "len(pooled_ratio)=23045 pixel-wise comparisons...\n",
      "plotting distribution...\n"
     ]
    },
    {
     "name": "stderr",
     "output_type": "stream",
     "text": [
      "/tmp/ipykernel_2876257/987684252.py:12: ParserWarning: Falling back to the 'python' engine because the 'c' engine does not support regex separators (separators > 1 char and different from '\\s+' are interpreted as regex); you can avoid this warning by specifying engine='python'.\n",
      "  pd.read_csv(path, delimiter=r',\\s+')\n"
     ]
    },
    {
     "name": "stdout",
     "output_type": "stream",
     "text": [
      "NIDA_2004\n",
      "len(ravel_ratio)=28 storms compared...\n",
      "len(pooled_ratio)=25505 pixel-wise comparisons...\n",
      "plotting distribution...\n"
     ]
    },
    {
     "name": "stderr",
     "output_type": "stream",
     "text": [
      "/tmp/ipykernel_2876257/987684252.py:12: ParserWarning: Falling back to the 'python' engine because the 'c' engine does not support regex separators (separators > 1 char and different from '\\s+' are interpreted as regex); you can avoid this warning by specifying engine='python'.\n",
      "  pd.read_csv(path, delimiter=r',\\s+')\n"
     ]
    },
    {
     "name": "stdout",
     "output_type": "stream",
     "text": [
      "ERNEST_2005\n",
      "len(ravel_ratio)=29 storms compared...\n",
      "len(pooled_ratio)=25505 pixel-wise comparisons...\n",
      "plotting distribution...\n"
     ]
    },
    {
     "name": "stderr",
     "output_type": "stream",
     "text": [
      "/tmp/ipykernel_2876257/987684252.py:12: ParserWarning: Falling back to the 'python' engine because the 'c' engine does not support regex separators (separators > 1 char and different from '\\s+' are interpreted as regex); you can avoid this warning by specifying engine='python'.\n",
      "  pd.read_csv(path, delimiter=r',\\s+')\n",
      "/tmp/ipykernel_2876257/987684252.py:12: ParserWarning: Falling back to the 'python' engine because the 'c' engine does not support regex separators (separators > 1 char and different from '\\s+' are interpreted as regex); you can avoid this warning by specifying engine='python'.\n",
      "  pd.read_csv(path, delimiter=r',\\s+')\n",
      "/tmp/ipykernel_2876257/987684252.py:12: ParserWarning: Falling back to the 'python' engine because the 'c' engine does not support regex separators (separators > 1 char and different from '\\s+' are interpreted as regex); you can avoid this warning by specifying engine='python'.\n",
      "  pd.read_csv(path, delimiter=r',\\s+')\n"
     ]
    },
    {
     "name": "stdout",
     "output_type": "stream",
     "text": [
      "DENNIS_2005\n",
      "len(ravel_ratio)=30 storms compared...\n",
      "len(pooled_ratio)=47779 pixel-wise comparisons...\n",
      "plotting distribution...\n"
     ]
    },
    {
     "name": "stderr",
     "output_type": "stream",
     "text": [
      "/tmp/ipykernel_2876257/987684252.py:12: ParserWarning: Falling back to the 'python' engine because the 'c' engine does not support regex separators (separators > 1 char and different from '\\s+' are interpreted as regex); you can avoid this warning by specifying engine='python'.\n",
      "  pd.read_csv(path, delimiter=r',\\s+')\n",
      "/tmp/ipykernel_2876257/987684252.py:12: ParserWarning: Falling back to the 'python' engine because the 'c' engine does not support regex separators (separators > 1 char and different from '\\s+' are interpreted as regex); you can avoid this warning by specifying engine='python'.\n",
      "  pd.read_csv(path, delimiter=r',\\s+')\n"
     ]
    },
    {
     "name": "stdout",
     "output_type": "stream",
     "text": [
      "EMILY_2005\n",
      "len(ravel_ratio)=31 storms compared...\n",
      "len(pooled_ratio)=49063 pixel-wise comparisons...\n",
      "plotting distribution...\n"
     ]
    },
    {
     "name": "stderr",
     "output_type": "stream",
     "text": [
      "/tmp/ipykernel_2876257/987684252.py:12: ParserWarning: Falling back to the 'python' engine because the 'c' engine does not support regex separators (separators > 1 char and different from '\\s+' are interpreted as regex); you can avoid this warning by specifying engine='python'.\n",
      "  pd.read_csv(path, delimiter=r',\\s+')\n"
     ]
    },
    {
     "name": "stdout",
     "output_type": "stream",
     "text": [
      "HAITANG_2005\n",
      "len(ravel_ratio)=32 storms compared...\n",
      "len(pooled_ratio)=50639 pixel-wise comparisons...\n",
      "plotting distribution...\n"
     ]
    },
    {
     "name": "stderr",
     "output_type": "stream",
     "text": [
      "/tmp/ipykernel_2876257/987684252.py:12: ParserWarning: Falling back to the 'python' engine because the 'c' engine does not support regex separators (separators > 1 char and different from '\\s+' are interpreted as regex); you can avoid this warning by specifying engine='python'.\n",
      "  pd.read_csv(path, delimiter=r',\\s+')\n"
     ]
    },
    {
     "name": "stdout",
     "output_type": "stream",
     "text": [
      "MATSA_2005\n",
      "len(ravel_ratio)=33 storms compared...\n",
      "len(pooled_ratio)=50639 pixel-wise comparisons...\n",
      "plotting distribution...\n"
     ]
    },
    {
     "name": "stderr",
     "output_type": "stream",
     "text": [
      "/tmp/ipykernel_2876257/987684252.py:12: ParserWarning: Falling back to the 'python' engine because the 'c' engine does not support regex separators (separators > 1 char and different from '\\s+' are interpreted as regex); you can avoid this warning by specifying engine='python'.\n",
      "  pd.read_csv(path, delimiter=r',\\s+')\n"
     ]
    },
    {
     "name": "stdout",
     "output_type": "stream",
     "text": [
      "MAWAR_2005\n",
      "len(ravel_ratio)=34 storms compared...\n",
      "len(pooled_ratio)=50639 pixel-wise comparisons...\n",
      "plotting distribution...\n"
     ]
    },
    {
     "name": "stderr",
     "output_type": "stream",
     "text": [
      "/tmp/ipykernel_2876257/987684252.py:12: ParserWarning: Falling back to the 'python' engine because the 'c' engine does not support regex separators (separators > 1 char and different from '\\s+' are interpreted as regex); you can avoid this warning by specifying engine='python'.\n",
      "  pd.read_csv(path, delimiter=r',\\s+')\n",
      "/tmp/ipykernel_2876257/987684252.py:12: ParserWarning: Falling back to the 'python' engine because the 'c' engine does not support regex separators (separators > 1 char and different from '\\s+' are interpreted as regex); you can avoid this warning by specifying engine='python'.\n",
      "  pd.read_csv(path, delimiter=r',\\s+')\n",
      "/tmp/ipykernel_2876257/987684252.py:12: ParserWarning: Falling back to the 'python' engine because the 'c' engine does not support regex separators (separators > 1 char and different from '\\s+' are interpreted as regex); you can avoid this warning by specifying engine='python'.\n",
      "  pd.read_csv(path, delimiter=r',\\s+')\n"
     ]
    },
    {
     "name": "stdout",
     "output_type": "stream",
     "text": [
      "KATRINA_2005\n",
      "len(ravel_ratio)=35 storms compared...\n",
      "len(pooled_ratio)=53857 pixel-wise comparisons...\n",
      "plotting distribution...\n"
     ]
    },
    {
     "name": "stderr",
     "output_type": "stream",
     "text": [
      "/tmp/ipykernel_2876257/987684252.py:12: ParserWarning: Falling back to the 'python' engine because the 'c' engine does not support regex separators (separators > 1 char and different from '\\s+' are interpreted as regex); you can avoid this warning by specifying engine='python'.\n",
      "  pd.read_csv(path, delimiter=r',\\s+')\n"
     ]
    },
    {
     "name": "stdout",
     "output_type": "stream",
     "text": [
      "TALIM_2005\n",
      "len(ravel_ratio)=36 storms compared...\n",
      "len(pooled_ratio)=56834 pixel-wise comparisons...\n",
      "plotting distribution...\n"
     ]
    },
    {
     "name": "stderr",
     "output_type": "stream",
     "text": [
      "/tmp/ipykernel_2876257/987684252.py:12: ParserWarning: Falling back to the 'python' engine because the 'c' engine does not support regex separators (separators > 1 char and different from '\\s+' are interpreted as regex); you can avoid this warning by specifying engine='python'.\n",
      "  pd.read_csv(path, delimiter=r',\\s+')\n"
     ]
    },
    {
     "name": "stdout",
     "output_type": "stream",
     "text": [
      "NABI_2005\n",
      "len(ravel_ratio)=37 storms compared...\n",
      "len(pooled_ratio)=56834 pixel-wise comparisons...\n",
      "plotting distribution...\n"
     ]
    },
    {
     "name": "stderr",
     "output_type": "stream",
     "text": [
      "/tmp/ipykernel_2876257/987684252.py:12: ParserWarning: Falling back to the 'python' engine because the 'c' engine does not support regex separators (separators > 1 char and different from '\\s+' are interpreted as regex); you can avoid this warning by specifying engine='python'.\n",
      "  pd.read_csv(path, delimiter=r',\\s+')\n",
      "/tmp/ipykernel_2876257/987684252.py:12: ParserWarning: Falling back to the 'python' engine because the 'c' engine does not support regex separators (separators > 1 char and different from '\\s+' are interpreted as regex); you can avoid this warning by specifying engine='python'.\n",
      "  pd.read_csv(path, delimiter=r',\\s+')\n"
     ]
    },
    {
     "name": "stdout",
     "output_type": "stream",
     "text": [
      "RITA_2005\n",
      "len(ravel_ratio)=38 storms compared...\n",
      "len(pooled_ratio)=58029 pixel-wise comparisons...\n",
      "plotting distribution...\n"
     ]
    },
    {
     "name": "stderr",
     "output_type": "stream",
     "text": [
      "/tmp/ipykernel_2876257/987684252.py:12: ParserWarning: Falling back to the 'python' engine because the 'c' engine does not support regex separators (separators > 1 char and different from '\\s+' are interpreted as regex); you can avoid this warning by specifying engine='python'.\n",
      "  pd.read_csv(path, delimiter=r',\\s+')\n"
     ]
    },
    {
     "name": "stdout",
     "output_type": "stream",
     "text": [
      "OTIS_2005\n",
      "len(ravel_ratio)=39 storms compared...\n",
      "len(pooled_ratio)=58029 pixel-wise comparisons...\n",
      "plotting distribution...\n"
     ]
    },
    {
     "name": "stderr",
     "output_type": "stream",
     "text": [
      "/tmp/ipykernel_2876257/987684252.py:12: ParserWarning: Falling back to the 'python' engine because the 'c' engine does not support regex separators (separators > 1 char and different from '\\s+' are interpreted as regex); you can avoid this warning by specifying engine='python'.\n",
      "  pd.read_csv(path, delimiter=r',\\s+')\n",
      "/tmp/ipykernel_2876257/987684252.py:12: ParserWarning: Falling back to the 'python' engine because the 'c' engine does not support regex separators (separators > 1 char and different from '\\s+' are interpreted as regex); you can avoid this warning by specifying engine='python'.\n",
      "  pd.read_csv(path, delimiter=r',\\s+')\n"
     ]
    },
    {
     "name": "stdout",
     "output_type": "stream",
     "text": [
      "BETA_2005\n",
      "len(ravel_ratio)=40 storms compared...\n",
      "len(pooled_ratio)=59577 pixel-wise comparisons...\n",
      "plotting distribution...\n"
     ]
    },
    {
     "name": "stderr",
     "output_type": "stream",
     "text": [
      "/tmp/ipykernel_2876257/987684252.py:12: ParserWarning: Falling back to the 'python' engine because the 'c' engine does not support regex separators (separators > 1 char and different from '\\s+' are interpreted as regex); you can avoid this warning by specifying engine='python'.\n",
      "  pd.read_csv(path, delimiter=r',\\s+')\n"
     ]
    },
    {
     "name": "stdout",
     "output_type": "stream",
     "text": [
      "GLENDA_2006\n",
      "len(ravel_ratio)=41 storms compared...\n",
      "len(pooled_ratio)=59577 pixel-wise comparisons...\n",
      "plotting distribution...\n"
     ]
    },
    {
     "name": "stderr",
     "output_type": "stream",
     "text": [
      "/tmp/ipykernel_2876257/987684252.py:12: ParserWarning: Falling back to the 'python' engine because the 'c' engine does not support regex separators (separators > 1 char and different from '\\s+' are interpreted as regex); you can avoid this warning by specifying engine='python'.\n",
      "  pd.read_csv(path, delimiter=r',\\s+')\n",
      "/tmp/ipykernel_2876257/987684252.py:12: ParserWarning: Falling back to the 'python' engine because the 'c' engine does not support regex separators (separators > 1 char and different from '\\s+' are interpreted as regex); you can avoid this warning by specifying engine='python'.\n",
      "  pd.read_csv(path, delimiter=r',\\s+')\n"
     ]
    },
    {
     "name": "stdout",
     "output_type": "stream",
     "text": [
      "KAEMI_2006\n",
      "len(ravel_ratio)=42 storms compared...\n",
      "len(pooled_ratio)=59577 pixel-wise comparisons...\n",
      "plotting distribution...\n"
     ]
    },
    {
     "name": "stderr",
     "output_type": "stream",
     "text": [
      "/tmp/ipykernel_2876257/987684252.py:12: ParserWarning: Falling back to the 'python' engine because the 'c' engine does not support regex separators (separators > 1 char and different from '\\s+' are interpreted as regex); you can avoid this warning by specifying engine='python'.\n",
      "  pd.read_csv(path, delimiter=r',\\s+')\n"
     ]
    },
    {
     "name": "stdout",
     "output_type": "stream",
     "text": [
      "SAOMAI_2006\n",
      "len(ravel_ratio)=43 storms compared...\n",
      "len(pooled_ratio)=61225 pixel-wise comparisons...\n",
      "plotting distribution...\n"
     ]
    },
    {
     "name": "stderr",
     "output_type": "stream",
     "text": [
      "/tmp/ipykernel_2876257/987684252.py:12: ParserWarning: Falling back to the 'python' engine because the 'c' engine does not support regex separators (separators > 1 char and different from '\\s+' are interpreted as regex); you can avoid this warning by specifying engine='python'.\n",
      "  pd.read_csv(path, delimiter=r',\\s+')\n"
     ]
    },
    {
     "name": "stdout",
     "output_type": "stream",
     "text": [
      "JOHN_2006\n",
      "len(ravel_ratio)=44 storms compared...\n",
      "len(pooled_ratio)=63601 pixel-wise comparisons...\n",
      "plotting distribution...\n"
     ]
    },
    {
     "name": "stderr",
     "output_type": "stream",
     "text": [
      "/tmp/ipykernel_2876257/987684252.py:12: ParserWarning: Falling back to the 'python' engine because the 'c' engine does not support regex separators (separators > 1 char and different from '\\s+' are interpreted as regex); you can avoid this warning by specifying engine='python'.\n",
      "  pd.read_csv(path, delimiter=r',\\s+')\n"
     ]
    },
    {
     "name": "stdout",
     "output_type": "stream",
     "text": [
      "LANE_2006\n",
      "len(ravel_ratio)=45 storms compared...\n",
      "len(pooled_ratio)=66154 pixel-wise comparisons...\n",
      "plotting distribution...\n"
     ]
    },
    {
     "name": "stderr",
     "output_type": "stream",
     "text": [
      "/tmp/ipykernel_2876257/987684252.py:12: ParserWarning: Falling back to the 'python' engine because the 'c' engine does not support regex separators (separators > 1 char and different from '\\s+' are interpreted as regex); you can avoid this warning by specifying engine='python'.\n",
      "  pd.read_csv(path, delimiter=r',\\s+')\n",
      "/tmp/ipykernel_2876257/987684252.py:12: ParserWarning: Falling back to the 'python' engine because the 'c' engine does not support regex separators (separators > 1 char and different from '\\s+' are interpreted as regex); you can avoid this warning by specifying engine='python'.\n",
      "  pd.read_csv(path, delimiter=r',\\s+')\n"
     ]
    },
    {
     "name": "stdout",
     "output_type": "stream",
     "text": [
      "XANGSANE_2006\n",
      "len(ravel_ratio)=46 storms compared...\n",
      "len(pooled_ratio)=84824 pixel-wise comparisons...\n",
      "plotting distribution...\n"
     ]
    },
    {
     "name": "stderr",
     "output_type": "stream",
     "text": [
      "/tmp/ipykernel_2876257/987684252.py:12: ParserWarning: Falling back to the 'python' engine because the 'c' engine does not support regex separators (separators > 1 char and different from '\\s+' are interpreted as regex); you can avoid this warning by specifying engine='python'.\n",
      "  pd.read_csv(path, delimiter=r',\\s+')\n"
     ]
    },
    {
     "name": "stdout",
     "output_type": "stream",
     "text": [
      "PAUL_2006\n",
      "len(ravel_ratio)=47 storms compared...\n",
      "len(pooled_ratio)=84824 pixel-wise comparisons...\n",
      "plotting distribution...\n"
     ]
    },
    {
     "name": "stderr",
     "output_type": "stream",
     "text": [
      "/tmp/ipykernel_2876257/987684252.py:12: ParserWarning: Falling back to the 'python' engine because the 'c' engine does not support regex separators (separators > 1 char and different from '\\s+' are interpreted as regex); you can avoid this warning by specifying engine='python'.\n",
      "  pd.read_csv(path, delimiter=r',\\s+')\n"
     ]
    },
    {
     "ename": "KeyboardInterrupt",
     "evalue": "",
     "output_type": "error",
     "traceback": [
      "\u001b[0;31m---------------------------------------------------------------------------\u001b[0m",
      "\u001b[0;31mKeyboardInterrupt\u001b[0m                         Traceback (most recent call last)",
      "Cell \u001b[0;32mIn[65], line 22\u001b[0m\n\u001b[1;32m     18\u001b[0m     \u001b[38;5;28;01mcontinue\u001b[39;00m\n\u001b[1;32m     20\u001b[0m \u001b[38;5;28;01mtry\u001b[39;00m:\n\u001b[1;32m     21\u001b[0m     kw01 \u001b[38;5;241m=\u001b[39m (\n\u001b[0;32m---> 22\u001b[0m         \u001b[43mread_kw01\u001b[49m\u001b[43m(\u001b[49m\u001b[43mname_year\u001b[49m\u001b[43m,\u001b[49m\u001b[43m \u001b[49m\u001b[43mdelta\u001b[49m\u001b[38;5;241;43m=\u001b[39;49m\u001b[38;5;241;43m0.1\u001b[39;49m\u001b[43m)\u001b[49m\n\u001b[1;32m     23\u001b[0m             \u001b[38;5;241m.\u001b[39minterpolate_na(dim\u001b[38;5;241m=\u001b[39m\u001b[38;5;124m\"\u001b[39m\u001b[38;5;124mlongitude\u001b[39m\u001b[38;5;124m\"\u001b[39m, method\u001b[38;5;241m=\u001b[39m\u001b[38;5;124m\"\u001b[39m\u001b[38;5;124mlinear\u001b[39m\u001b[38;5;124m\"\u001b[39m)\n\u001b[1;32m     24\u001b[0m             \u001b[38;5;241m.\u001b[39minterpolate_na(dim\u001b[38;5;241m=\u001b[39m\u001b[38;5;124m\"\u001b[39m\u001b[38;5;124mlatitude\u001b[39m\u001b[38;5;124m\"\u001b[39m, method\u001b[38;5;241m=\u001b[39m\u001b[38;5;124m\"\u001b[39m\u001b[38;5;124mlinear\u001b[39m\u001b[38;5;124m\"\u001b[39m)\n\u001b[1;32m     25\u001b[0m     )\n\u001b[1;32m     26\u001b[0m \u001b[38;5;28;01mexcept\u001b[39;00m \u001b[38;5;167;01mValueError\u001b[39;00m:\n\u001b[1;32m     27\u001b[0m     \u001b[38;5;28mprint\u001b[39m(\u001b[38;5;124mf\u001b[39m\u001b[38;5;124m\"\u001b[39m\u001b[38;5;124mcouldn\u001b[39m\u001b[38;5;130;01m\\'\u001b[39;00m\u001b[38;5;124mt read kw01 for \u001b[39m\u001b[38;5;132;01m{\u001b[39;00mname_year\u001b[38;5;132;01m}\u001b[39;00m\u001b[38;5;124m, skipping...\u001b[39m\u001b[38;5;124m\"\u001b[39m)\n",
      "\u001b[0;31mKeyboardInterrupt\u001b[0m: "
     ]
    }
   ],
   "source": [
    "buffer_km = 300\n",
    "for minimum_speed_ms in [0, 10, 20, 30, 40, 50, 60, 70]:\n",
    "    plot_dir_frames = (\n",
    "        \"/home/fred/projects/open_gira/open-gira/validation/holland_done_ratio/\"\n",
    "        f\"buffer-km-{int(buffer_km)}_min-speed-{int(minimum_speed_ms)}\"\n",
    "    )\n",
    "    os.makedirs(plot_dir_frames, exist_ok=True)\n",
    "    \n",
    "    # store the ratios for later\n",
    "    ravel_ratio = {}\n",
    "    for i, storm_id in enumerate(common_storms):\n",
    "\n",
    "        name_year = name_year_from_id(tracks, storm_id)\n",
    "        storm_track = tracks[tracks.track_id == storm_id]\n",
    "\n",
    "        # filter out weak storms\n",
    "        if storm_track.max_wind_speed_ms.max() < minimum_speed_ms:\n",
    "            continue\n",
    "\n",
    "        try:\n",
    "            kw01 = (\n",
    "                read_kw01(name_year, delta=0.1)\n",
    "                    .interpolate_na(dim=\"longitude\", method=\"linear\")\n",
    "                    .interpolate_na(dim=\"latitude\", method=\"linear\")\n",
    "            )\n",
    "        except ValueError:\n",
    "            print(f\"couldn\\'t read kw01 for {name_year}, skipping...\")\n",
    "            continue\n",
    "        try:\n",
    "            holland = xr.open_dataset(\n",
    "                (\n",
    "                    \"/home/fred/projects/open_gira/open-gira/\"\n",
    "                    f\"results/power/by_storm_set/IBTrACS/by_storm/{storm_id}/wind_field.nc\"\n",
    "                )\n",
    "            )\n",
    "        except FileNotFoundError:\n",
    "            print(f\"couldn\\'t find holland for {name_year}, skipping...\")\n",
    "            continue\n",
    "\n",
    "        try:\n",
    "            ratio_field = (holland / kw01).max_wind_speed\n",
    "        except ValueError:\n",
    "            print(f\"couldn\\'t calculate the division for {name_year}, skipping...\")\n",
    "            continue\n",
    "\n",
    "        # make a buffer around the on-land track      \n",
    "        print(name_year)\n",
    "        ravel_ratio[storm_id] = landfalling_ratio(storm_track, ratio_field, buffer_km, minimum_speed_ms)\n",
    "\n",
    "    #     map_ratio(\n",
    "    #         ratio_field,\n",
    "    #         storm_track,\n",
    "    #         f\"{name_year}_{storm_id}\",\n",
    "    #         \"validation/plots/wind_fields/\"\n",
    "    #     )\n",
    "\n",
    "        print(f\"{len(ravel_ratio)=} storms compared...\")\n",
    "        pooled_ratio = np.concatenate(list(ravel_ratio.values()))\n",
    "        pooled_ratio = pooled_ratio[~np.isnan(pooled_ratio)]            \n",
    "        print(f\"{len(pooled_ratio)=} pixel-wise comparisons...\")\n",
    "        if len(pooled_ratio) == 0:\n",
    "            print(\"no data, skipping...\")\n",
    "            continue\n",
    "\n",
    "        print(\"plotting distribution...\")\n",
    "        plot_ratio_distribution(\n",
    "            pooled_ratio,\n",
    "            buffer_km,\n",
    "            minimum_speed_ms,\n",
    "            os.path.join(\n",
    "                plot_dir_frames,\n",
    "                f\"{i:04d}.png\"\n",
    "            )\n",
    "        )\n",
    "\n",
    "    print(\"saving ratios to disk...\")\n",
    "    basename = f\"buffer-km-{buffer_km}_min-speed-{int(minimum_speed_ms)}\"\n",
    "    plot_dir = \"/home/fred/projects/open_gira/open-gira/validation/holland_done_ratio\"\n",
    "    data_filepath = os.path.join(plot_dir, basename + \".npy\")\n",
    "    np.save(data_filepath, pooled_ratio)\n",
    "\n",
    "    print(\"plotting distribution...\")\n",
    "    plot_ratio_distribution(\n",
    "        pooled_ratio,\n",
    "        buffer_km,\n",
    "        minimum_speed_ms,\n",
    "        os.path.join(plot_dir, basename + \".png\")\n",
    "    )\n",
    "\n",
    "    print(\"animating convergence...\")\n",
    "    frame_filepaths = glob(os.path.join(plot_dir_frames, \"*.png\"))\n",
    "    os.system(\n",
    "        \"convert -delay 5 \"\n",
    "        f\"{' '.join(sorted(frame_filepaths))} \"\n",
    "        f\"{os.path.join(plot_dir, basename)}.gif\"\n",
    "    )"
   ]
  },
  {
   "cell_type": "code",
   "execution_count": 66,
   "id": "bfe65932",
   "metadata": {},
   "outputs": [
    {
     "data": {
      "image/png": "[encoded data removed]",
      "text/plain": [
       "<Figure size 640x480 with 1 Axes>"
      ]
     },
     "metadata": {},
     "output_type": "display_data"
    }
   ],
   "source": [
    "# TODO: look at modelled windspeed errors as function of wind speed\n",
    "# would be good to also do this for all the pixels available, might need datashader\n",
    "\n",
    "model = holland.sel(\n",
    "    dict(\n",
    "        longitude=ratio_field.longitude,\n",
    "        latitude=ratio_field.latitude\n",
    "    )\n",
    ").max_wind_speed.values\n",
    "difference = ratio_field.values\n",
    "\n",
    "f, ax = plt.subplots()\n",
    "ax.scatter(difference, model, s=0.1, c=\"k\")\n",
    "ax.set_ylabel(\"Model wind speed [ms$^{-1}$]\")\n",
    "ax.set_xlabel(\"Model - Done et al. [ms$^{-1}$]\")\n",
    "ax.grid(alpha=0.3)"
   ]
  }
 ],
 "metadata": {
  "kernelspec": {
   "display_name": "Python 3 (ipykernel)",
   "language": "python",
   "name": "python3"
  },
  "language_info": {
   "codemirror_mode": {
    "name": "ipython",
    "version": 3
   },
   "file_extension": ".py",
   "mimetype": "text/x-python",
   "name": "python",
   "nbconvert_exporter": "python",
   "pygments_lexer": "ipython3",
   "version": "3.10.8"
  }
 },
 "nbformat": 4,
 "nbformat_minor": 5
}
